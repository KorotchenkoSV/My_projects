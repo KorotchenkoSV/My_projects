{
 "cells": [
  {
   "cell_type": "markdown",
   "id": "648bcb71",
   "metadata": {},
   "source": [
    "[Проект построение дашбордов в Tableau:](https://public.tableau.com/views/Project_17122223778640/TED2008-2021?:language=en-US&publish=yes&:sid=&:display_count=n&:origin=viz_share_link) Разработчик Sergey Korotchenko"
   ]
  },
  {
   "cell_type": "markdown",
   "id": "57e764cc",
   "metadata": {},
   "source": [
    "<div style=\"background-color:lavender; color:#black; text-align:center; padding:2%\">\n",
    "    \n",
    "[Проект построение дашбордов в Tableau V.2:](https://public.tableau.com/views/Project_17122223778640/TED2008-2021?:language=en-US&publish=yes&:sid=&:display_count=n&:origin=viz_share_link)"
   ]
  },
  {
   "cell_type": "code",
   "execution_count": null,
   "id": "350d9ae2",
   "metadata": {},
   "outputs": [],
   "source": []
  }
 ],
 "metadata": {
  "ExecuteTimeLog": [
   {
    "duration": 119,
    "start_time": "2024-04-16T03:25:44.523Z"
   }
  ],
  "kernelspec": {
   "display_name": "Python 3 (ipykernel)",
   "language": "python",
   "name": "python3"
  },
  "language_info": {
   "codemirror_mode": {
    "name": "ipython",
    "version": 3
   },
   "file_extension": ".py",
   "mimetype": "text/x-python",
   "name": "python",
   "nbconvert_exporter": "python",
   "pygments_lexer": "ipython3",
   "version": "3.12.7"
  },
  "toc": {
   "base_numbering": 1,
   "nav_menu": {},
   "number_sections": true,
   "sideBar": true,
   "skip_h1_title": true,
   "title_cell": "Table of Contents",
   "title_sidebar": "Contents",
   "toc_cell": false,
   "toc_position": {},
   "toc_section_display": true,
   "toc_window_display": true
  }
 },
 "nbformat": 4,
 "nbformat_minor": 5
}
