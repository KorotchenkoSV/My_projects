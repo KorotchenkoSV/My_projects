{
 "cells": [
  {
   "cell_type": "markdown",
   "metadata": {},
   "source": [
    "## Сборный проект"
   ]
  },
  {
   "cell_type": "markdown",
   "metadata": {},
   "source": [
    "Заказчик этого исследования — Министерство культуры Российской Федерации. Вам нужно изучить рынок российского кинопроката и выявить текущие тренды. Уделите внимание фильмам, которые получили государственную поддержку. Попробуйте ответить на вопрос, насколько такие фильмы интересны зрителю. Вы будете работать с данными, опубликованными на портале открытых данных Министерства культуры. Набор данных содержит информацию о прокатных удостоверениях, сборах и государственной поддержке фильмов, а также информацию с сайта КиноПоиск."
   ]
  },
  {
   "cell_type": "markdown",
   "metadata": {},
   "source": [
    "## Цели исследования"
   ]
  },
  {
   "cell_type": "markdown",
   "metadata": {},
   "source": [
    "Нужно изучить рынок российского кинопроката и выявить текущие тренды.\n",
    "\n",
    "Для достижения этой цели, необходимо проанализировать статистические данные о российском кинопрокате за последние годы, включающие в себя информацию о количестве фильмов, показанных в кинотеатрах, общей кассовой выручке и прибыльности фильмов по жанрам"
   ]
  },
  {
   "cell_type": "markdown",
   "metadata": {},
   "source": [
    "## Поставленные вопросы"
   ]
  },
  {
   "cell_type": "markdown",
   "metadata": {},
   "source": [
    "* Изучение рынка российского кинопроката с целью выявления текущих трендов.\n",
    "* Анализ статистических данных о российском кинопрокате за последние годы, включая информацию о количестве фильмов, кассовых сборах и прибыльности фильмов по жанрам.\n",
    "* Исследование популярности жанров и фильмов среди зрителей.\n",
    "* Оценка интереса зрителей к фильмам, которые получили государственную поддержку, на основе анализа кассовых сборов, рейтингов фильмов.\n",
    "* Определение наиболее популярных и прибыльных жанров и фильмов на российском рынке кинопроката."
   ]
  },
  {
   "cell_type": "markdown",
   "metadata": {},
   "source": [
    "## Ключ к данным"
   ]
  },
  {
   "cell_type": "markdown",
   "metadata": {},
   "source": [
    "Таблица mkrf_movies содержит информацию из реестра прокатных удостоверений. У одного фильма может быть несколько прокатных удостоверений.\n",
    "\n",
    "Содержит столбцы:\n",
    "\n",
    "* Ctitle — название фильма;\n",
    "* puNumber — номер прокатного удостоверения;\n",
    "* show_start_date — дата премьеры фильма;\n",
    "* type — тип фильма;\n",
    "* film_studio — студия-производитель;\n",
    "* production_country — страна-производитель;\n",
    "* director — режиссёр;\n",
    "* producer — продюсер;\n",
    "* age_restriction — возрастная категория;\n",
    "* refundable_support — объём возвратных средств государственной поддержки;\n",
    "* nonrefundable_support — объём невозвратных средств государственной поддержки;\n",
    "* financing_source — источник государственного финансирования;\n",
    "* budget — общий бюджет фильма;\n",
    "* ratings — рейтинг фильма на КиноПоиске;\n",
    "* genres — жанр фильма.\n",
    "Столбец budget уже включает в себя полный объём государственной поддержки. Данные в этом столбце указаны только для тех фильмов, которые получили государственную поддержку.\n",
    "\n",
    "Таблица mkrf_shows содержит сведения о показах фильмов в российских кинотеатрах.\n",
    "\n",
    "* puNumber — номер прокатного удостоверения;\n",
    "* box_office — сборы в рублях."
   ]
  },
  {
   "cell_type": "markdown",
   "metadata": {
    "id": "sIfNaMOxgFyK"
   },
   "source": [
    "## Исследование данных о российском кинопрокате\n",
    "\n"
   ]
  },
  {
   "cell_type": "markdown",
   "metadata": {},
   "source": [
    "### Дополнительные функции"
   ]
  },
  {
   "cell_type": "markdown",
   "metadata": {},
   "source": [
    "Функция для получения основной информации о изначальной таблице, либо описания созданных в процессе иследования"
   ]
  },
  {
   "cell_type": "code",
   "execution_count": 1,
   "metadata": {},
   "outputs": [],
   "source": [
    "# data_head_desc_info(датафрейм)\n",
    "def data_head_desc_info(data):\n",
    "    try:\n",
    "        display('Первые десять строк данных:')\n",
    "        display(data.head(10))\n",
    "        display('Описание данных:')\n",
    "        display(data.describe())\n",
    "        display('Общая информацию о датафрейме')\n",
    "        display(data.info())\n",
    "        display('Количество пропусков')\n",
    "        display(data.isna().sum())\n",
    "    except:\n",
    "        return 'Проверьте параметры'"
   ]
  },
  {
   "cell_type": "markdown",
   "metadata": {},
   "source": [
    "Функция сортировки и определения процентного соотношения указанных категорий в данных"
   ]
  },
  {
   "cell_type": "code",
   "execution_count": 2,
   "metadata": {},
   "outputs": [],
   "source": [
    "# sort_category(датафрейм, индекс по которому обращаемся к сводной таблице, столбец в котором определяем процент данных по категории)\n",
    "def sort_category(new_df, index, column):\n",
    "    try:\n",
    "        sort_category_df = (\n",
    "            new_df.pivot_table(index=index, values=column, aggfunc='count')\n",
    "            .sort_values(by=column, ascending = False)\n",
    "        )\n",
    "        sort_category_df['percent'] = (sort_category_df[column] / sort_category_df[column].sum()) * 100  \n",
    "        sort_category_df = sort_category_df.set_axis(['Количество в ' + column, 'Процент от общего'], axis='columns')\n",
    "        return sort_category_df\n",
    "    except:\n",
    "        return 'Проверьте параметры'"
   ]
  },
  {
   "cell_type": "markdown",
   "metadata": {},
   "source": [
    "Функция для столбчатого графика по определенным в процессе расчетов категориям и в соотношении к типам фильмов"
   ]
  },
  {
   "cell_type": "code",
   "execution_count": 3,
   "metadata": {},
   "outputs": [],
   "source": [
    "# mean_median(датафрейм, столбец по которому считаем среднее и медиану)\n",
    "def mean_median_min_max(new_df, column):\n",
    "    try:\n",
    "        display('Среднее значение для столбца: ' + column, round(new_df[column].mean(), 2))\n",
    "        display('Медианное значение для столбца: ' + column, round(new_df[column].median(),2))\n",
    "        display('Минимальное значение для столбца: ' + column, round(new_df[column].min(),2))\n",
    "        display('Максимальное значение для столбца: ' + column, round(new_df[column].max(),2))\n",
    "    except:\n",
    "        return 'Проверьте параметры'"
   ]
  },
  {
   "cell_type": "markdown",
   "metadata": {},
   "source": [
    "Функция для создания и заполнения столбца данными, которые выделим из передаваемого столбца, данные берутся до первой запятой."
   ]
  },
  {
   "cell_type": "code",
   "execution_count": 4,
   "metadata": {},
   "outputs": [],
   "source": [
    "# main_data_add(датафрейм, [столбцы из которых извлекаются данные])\n",
    "def main_data_add(data, columns):\n",
    "    for column in columns:\n",
    "        data[f'main_{column}'] = data[column].str.split(',').str[0]\n",
    "    return data"
   ]
  },
  {
   "cell_type": "markdown",
   "metadata": {},
   "source": [
    "Функция для столбчатого графика по определенным в процессе расчетов категориям и в соотношении к типам фильмов"
   ]
  },
  {
   "cell_type": "code",
   "execution_count": 5,
   "metadata": {},
   "outputs": [],
   "source": [
    "# counts_hist(датафрейм по которому работаем, столбец по которому получаем график, вид графика)\n",
    "def counts_hist(new_df, columns, kind):\n",
    "    try:\n",
    "        new_df['category'] = new_df['category'].astype(str)\n",
    "        counts = (new_df.groupby('type')[columns].value_counts()).to_frame().rename(columns={columns: 'count'}).reset_index()\n",
    "        (pd.pivot_table(counts, values='count', index='type', columns=columns, fill_value=0)).plot(kind=kind, grid=True, figsize=(15, 5), legend=True);\n",
    "        plt.ylabel('Количество значений в данных')\n",
    "        plt.xlabel('Типы фильмов')\n",
    "    except:\n",
    "        return 'Проверьте параметры'\n"
   ]
  },
  {
   "cell_type": "markdown",
   "metadata": {
    "id": "3bSlkCsbgFyL"
   },
   "source": [
    "### Шаг 1. Откройте файлы с данными и объедините их в один датафрейм. \n",
    "\n",
    "Объедините данные таким образом, чтобы все объекты из датасета `mkrf_movies` обязательно вошли в получившийся датафрейм. \n",
    "\n",
    "<div id=\"accordion\">\n",
    "    <div class=\"card\">\n",
    "        <div class=\"card-header\" id=\"headingThree\">\n",
    "            <button class=\"btn btn-link collapsed\" data-toggle=\"collapse\" data-target=\"#collapseHint_0\" aria-expanded=\"false\" aria-controls=\"collapseHint_0\">Подсказка</button>\n",
    "        </div>\n",
    "        <div id=\"collapseHint_0\" class=\"collapse\" aria-labelledby=\"headingThree\" data-parent=\"#accordion\">\n",
    "            <div class=\"card-body\">\n",
    "Обратите внимание на тип данных столбца, по которому будете соединять датафреймы. Тип данных этих столбцов должен быть одинаковым в обоих датафреймах.\n",
    "            </div>\n",
    "        </div>\n",
    "    </div>\n",
    "</div>"
   ]
  },
  {
   "cell_type": "markdown",
   "metadata": {},
   "source": [
    "Получим данные из файла mkrf_movies.csv и mkrf_shows.csv.\n",
    "\n",
    "Снимем ограничение на количество показываемых столбцов, так как при добавлении новых столбцов, формат отображения меняется на компактный и часть данных не отображается.\n",
    "\n",
    "Укажем формат отображения больших чисел, чтобы не применялась экспоненциальная запись в таблицах."
   ]
  },
  {
   "cell_type": "code",
   "execution_count": 6,
   "metadata": {
    "id": "dw87FlzMgFyM"
   },
   "outputs": [],
   "source": [
    "import pandas as pd \n",
    "import numpy as np\n",
    "import matplotlib.pyplot as plt\n",
    "import seaborn as sns\n",
    "\n",
    "pd.options.display.max_columns = None\n",
    "pd.set_option('display.float_format', '{:.2f}'.format)"
   ]
  },
  {
   "cell_type": "markdown",
   "metadata": {},
   "source": [
    "#### Получим общую информацию о данных"
   ]
  },
  {
   "cell_type": "markdown",
   "metadata": {},
   "source": [
    "Получим общую информацию о данных data — mkrf_movies.csv, это будет основной датафрейм с которым мы будем работать."
   ]
  },
  {
   "cell_type": "code",
   "execution_count": 7,
   "metadata": {},
   "outputs": [],
   "source": [
    "try:\n",
    "    data = pd.read_csv('/datasets/mkrf_movies.csv')\n",
    "    data_show = pd.read_csv('/datasets/mkrf_shows.csv')\n",
    "except:\n",
    "    display('Не удалось получить данные.')"
   ]
  },
  {
   "cell_type": "code",
   "execution_count": 8,
   "metadata": {},
   "outputs": [
    {
     "data": {
      "text/plain": [
       "'Первые десять строк данных:'"
      ]
     },
     "metadata": {},
     "output_type": "display_data"
    },
    {
     "data": {
      "text/html": [
       "<div>\n",
       "<style scoped>\n",
       "    .dataframe tbody tr th:only-of-type {\n",
       "        vertical-align: middle;\n",
       "    }\n",
       "\n",
       "    .dataframe tbody tr th {\n",
       "        vertical-align: top;\n",
       "    }\n",
       "\n",
       "    .dataframe thead th {\n",
       "        text-align: right;\n",
       "    }\n",
       "</style>\n",
       "<table border=\"1\" class=\"dataframe\">\n",
       "  <thead>\n",
       "    <tr style=\"text-align: right;\">\n",
       "      <th></th>\n",
       "      <th>title</th>\n",
       "      <th>puNumber</th>\n",
       "      <th>show_start_date</th>\n",
       "      <th>type</th>\n",
       "      <th>film_studio</th>\n",
       "      <th>production_country</th>\n",
       "      <th>director</th>\n",
       "      <th>producer</th>\n",
       "      <th>age_restriction</th>\n",
       "      <th>refundable_support</th>\n",
       "      <th>nonrefundable_support</th>\n",
       "      <th>budget</th>\n",
       "      <th>financing_source</th>\n",
       "      <th>ratings</th>\n",
       "      <th>genres</th>\n",
       "    </tr>\n",
       "  </thead>\n",
       "  <tbody>\n",
       "    <tr>\n",
       "      <th>0</th>\n",
       "      <td>Открытый простор</td>\n",
       "      <td>221048915</td>\n",
       "      <td>2015-11-27T12:00:00.000Z</td>\n",
       "      <td>Художественный</td>\n",
       "      <td>Тачстоун Пикчерз, Кобальт Пикчерз, Бикон Пикче...</td>\n",
       "      <td>США</td>\n",
       "      <td>Кевин Костнер</td>\n",
       "      <td>Дэвид Валдес, Кевин Костнер, Джейк Эбертс</td>\n",
       "      <td>«18+» - запрещено для детей</td>\n",
       "      <td>NaN</td>\n",
       "      <td>NaN</td>\n",
       "      <td>NaN</td>\n",
       "      <td>NaN</td>\n",
       "      <td>7.2</td>\n",
       "      <td>боевик,драма,мелодрама</td>\n",
       "    </tr>\n",
       "    <tr>\n",
       "      <th>1</th>\n",
       "      <td>Особо важное задание</td>\n",
       "      <td>111013716</td>\n",
       "      <td>2016-09-13T12:00:00.000Z</td>\n",
       "      <td>Художественный</td>\n",
       "      <td>Киностудия \"Мосфильм\"</td>\n",
       "      <td>СССР</td>\n",
       "      <td>Е.Матвеев</td>\n",
       "      <td>NaN</td>\n",
       "      <td>«6+» - для детей старше 6 лет</td>\n",
       "      <td>NaN</td>\n",
       "      <td>NaN</td>\n",
       "      <td>NaN</td>\n",
       "      <td>NaN</td>\n",
       "      <td>6.6</td>\n",
       "      <td>драма,военный</td>\n",
       "    </tr>\n",
       "    <tr>\n",
       "      <th>2</th>\n",
       "      <td>Особо опасен</td>\n",
       "      <td>221038416</td>\n",
       "      <td>2016-10-10T12:00:00.000Z</td>\n",
       "      <td>Художественный</td>\n",
       "      <td>Юниверсал Пикчерз, Кикстарт Продакшнз, Марк Пл...</td>\n",
       "      <td>США</td>\n",
       "      <td>Тимур Бекмамбетов</td>\n",
       "      <td>Джим Лемли, Джейсон Нетер, Марк Е.Платт, Яйн Смит</td>\n",
       "      <td>«18+» - запрещено для детей</td>\n",
       "      <td>NaN</td>\n",
       "      <td>NaN</td>\n",
       "      <td>NaN</td>\n",
       "      <td>NaN</td>\n",
       "      <td>6.8</td>\n",
       "      <td>фантастика,боевик,триллер</td>\n",
       "    </tr>\n",
       "    <tr>\n",
       "      <th>3</th>\n",
       "      <td>Особо опасен</td>\n",
       "      <td>221026916</td>\n",
       "      <td>2016-06-10T12:00:00.000Z</td>\n",
       "      <td>Художественный</td>\n",
       "      <td>Юниверсал Пикчерз, Кикстарт Продакшнз, Марк Пл...</td>\n",
       "      <td>США</td>\n",
       "      <td>Тимур Бекмамбетов</td>\n",
       "      <td>Джим Лемли, Джейсон Нетер, Марк Е.Платт, Яйн Смит</td>\n",
       "      <td>«18+» - запрещено для детей</td>\n",
       "      <td>NaN</td>\n",
       "      <td>NaN</td>\n",
       "      <td>NaN</td>\n",
       "      <td>NaN</td>\n",
       "      <td>6.8</td>\n",
       "      <td>фантастика,боевик,триллер</td>\n",
       "    </tr>\n",
       "    <tr>\n",
       "      <th>4</th>\n",
       "      <td>Особо опасен</td>\n",
       "      <td>221030815</td>\n",
       "      <td>2015-07-29T12:00:00.000Z</td>\n",
       "      <td>Художественный</td>\n",
       "      <td>Юниверсал Пикчерз, Кикстарт Продакшнз, Марк Пл...</td>\n",
       "      <td>США</td>\n",
       "      <td>Тимур Бекмамбетов</td>\n",
       "      <td>Джим Лемли, Джейсон Нетер, Марк Е.Платт, Яйн Смит</td>\n",
       "      <td>«18+» - запрещено для детей</td>\n",
       "      <td>NaN</td>\n",
       "      <td>NaN</td>\n",
       "      <td>NaN</td>\n",
       "      <td>NaN</td>\n",
       "      <td>6.8</td>\n",
       "      <td>фантастика,боевик,триллер</td>\n",
       "    </tr>\n",
       "    <tr>\n",
       "      <th>5</th>\n",
       "      <td>Остановился поезд</td>\n",
       "      <td>111013816</td>\n",
       "      <td>2016-09-13T12:00:00.000Z</td>\n",
       "      <td>Художественный</td>\n",
       "      <td>Киностудия \"Мосфильм\"</td>\n",
       "      <td>СССР</td>\n",
       "      <td>В.Абдрашитов</td>\n",
       "      <td>NaN</td>\n",
       "      <td>«6+» - для детей старше 6 лет</td>\n",
       "      <td>NaN</td>\n",
       "      <td>NaN</td>\n",
       "      <td>NaN</td>\n",
       "      <td>NaN</td>\n",
       "      <td>7.7</td>\n",
       "      <td>драма</td>\n",
       "    </tr>\n",
       "    <tr>\n",
       "      <th>6</th>\n",
       "      <td>Любовь и голуби</td>\n",
       "      <td>111007013</td>\n",
       "      <td>2013-10-18T12:00:00.000Z</td>\n",
       "      <td>Художественный</td>\n",
       "      <td>Киностудия \"Мосфильм\"</td>\n",
       "      <td>СССР</td>\n",
       "      <td>В.Меньшов</td>\n",
       "      <td>NaN</td>\n",
       "      <td>«12+» - для детей старше 12 лет</td>\n",
       "      <td>NaN</td>\n",
       "      <td>NaN</td>\n",
       "      <td>NaN</td>\n",
       "      <td>NaN</td>\n",
       "      <td>8.3</td>\n",
       "      <td>мелодрама,комедия</td>\n",
       "    </tr>\n",
       "    <tr>\n",
       "      <th>7</th>\n",
       "      <td>Любовь и сигареты</td>\n",
       "      <td>221074614</td>\n",
       "      <td>2014-12-29T12:00:00.000Z</td>\n",
       "      <td>Художественный</td>\n",
       "      <td>Юнайтед Артистс, Грин Стрит Филмз, Айкон Интер...</td>\n",
       "      <td>США</td>\n",
       "      <td>Джон Туртурро</td>\n",
       "      <td>Джон Пенотти, Джон Туртурро</td>\n",
       "      <td>«18+» - запрещено для детей</td>\n",
       "      <td>NaN</td>\n",
       "      <td>NaN</td>\n",
       "      <td>NaN</td>\n",
       "      <td>NaN</td>\n",
       "      <td>6.6</td>\n",
       "      <td>мюзикл,мелодрама,комедия</td>\n",
       "    </tr>\n",
       "    <tr>\n",
       "      <th>8</th>\n",
       "      <td>Отпетые мошенники.</td>\n",
       "      <td>121011416</td>\n",
       "      <td>2016-05-05T12:00:00.000Z</td>\n",
       "      <td>Художественный</td>\n",
       "      <td>Пульсар Продюксьон, ТФ1 Фильм</td>\n",
       "      <td>Франция</td>\n",
       "      <td>Эрик Беснард</td>\n",
       "      <td>Патрис Леду</td>\n",
       "      <td>«18+» - запрещено для детей</td>\n",
       "      <td>NaN</td>\n",
       "      <td>NaN</td>\n",
       "      <td>NaN</td>\n",
       "      <td>NaN</td>\n",
       "      <td>8.0</td>\n",
       "      <td>комедия,криминал</td>\n",
       "    </tr>\n",
       "    <tr>\n",
       "      <th>9</th>\n",
       "      <td>Отпуск за свой счет</td>\n",
       "      <td>111019114</td>\n",
       "      <td>2014-12-01T12:00:00.000Z</td>\n",
       "      <td>Художественный</td>\n",
       "      <td>Киностудия \"Мосфильм\", Телевидение ВНР</td>\n",
       "      <td>СССР, Венгрия</td>\n",
       "      <td>В.Титов</td>\n",
       "      <td>NaN</td>\n",
       "      <td>«12+» - для детей старше 12 лет</td>\n",
       "      <td>NaN</td>\n",
       "      <td>NaN</td>\n",
       "      <td>NaN</td>\n",
       "      <td>NaN</td>\n",
       "      <td>7.8</td>\n",
       "      <td>мелодрама,комедия</td>\n",
       "    </tr>\n",
       "  </tbody>\n",
       "</table>\n",
       "</div>"
      ],
      "text/plain": [
       "                  title   puNumber           show_start_date            type  \\\n",
       "0      Открытый простор  221048915  2015-11-27T12:00:00.000Z  Художественный   \n",
       "1  Особо важное задание  111013716  2016-09-13T12:00:00.000Z  Художественный   \n",
       "2          Особо опасен  221038416  2016-10-10T12:00:00.000Z  Художественный   \n",
       "3          Особо опасен  221026916  2016-06-10T12:00:00.000Z  Художественный   \n",
       "4          Особо опасен  221030815  2015-07-29T12:00:00.000Z  Художественный   \n",
       "5     Остановился поезд  111013816  2016-09-13T12:00:00.000Z  Художественный   \n",
       "6       Любовь и голуби  111007013  2013-10-18T12:00:00.000Z  Художественный   \n",
       "7     Любовь и сигареты  221074614  2014-12-29T12:00:00.000Z  Художественный   \n",
       "8    Отпетые мошенники.  121011416  2016-05-05T12:00:00.000Z  Художественный   \n",
       "9   Отпуск за свой счет  111019114  2014-12-01T12:00:00.000Z  Художественный   \n",
       "\n",
       "                                         film_studio production_country  \\\n",
       "0  Тачстоун Пикчерз, Кобальт Пикчерз, Бикон Пикче...                США   \n",
       "1                              Киностудия \"Мосфильм\"               СССР   \n",
       "2  Юниверсал Пикчерз, Кикстарт Продакшнз, Марк Пл...                США   \n",
       "3  Юниверсал Пикчерз, Кикстарт Продакшнз, Марк Пл...                США   \n",
       "4  Юниверсал Пикчерз, Кикстарт Продакшнз, Марк Пл...                США   \n",
       "5                              Киностудия \"Мосфильм\"               СССР   \n",
       "6                              Киностудия \"Мосфильм\"               СССР   \n",
       "7  Юнайтед Артистс, Грин Стрит Филмз, Айкон Интер...                США   \n",
       "8                     Пульсар Продюксьон, ТФ1 Фильм             Франция   \n",
       "9             Киностудия \"Мосфильм\", Телевидение ВНР      СССР, Венгрия   \n",
       "\n",
       "            director                                           producer  \\\n",
       "0      Кевин Костнер          Дэвид Валдес, Кевин Костнер, Джейк Эбертс   \n",
       "1          Е.Матвеев                                                NaN   \n",
       "2  Тимур Бекмамбетов  Джим Лемли, Джейсон Нетер, Марк Е.Платт, Яйн Смит   \n",
       "3  Тимур Бекмамбетов  Джим Лемли, Джейсон Нетер, Марк Е.Платт, Яйн Смит   \n",
       "4  Тимур Бекмамбетов  Джим Лемли, Джейсон Нетер, Марк Е.Платт, Яйн Смит   \n",
       "5       В.Абдрашитов                                                NaN   \n",
       "6          В.Меньшов                                                NaN   \n",
       "7      Джон Туртурро                        Джон Пенотти, Джон Туртурро   \n",
       "8       Эрик Беснард                                        Патрис Леду   \n",
       "9            В.Титов                                                NaN   \n",
       "\n",
       "                   age_restriction  refundable_support  nonrefundable_support  \\\n",
       "0      «18+» - запрещено для детей                 NaN                    NaN   \n",
       "1    «6+» - для детей старше 6 лет                 NaN                    NaN   \n",
       "2      «18+» - запрещено для детей                 NaN                    NaN   \n",
       "3      «18+» - запрещено для детей                 NaN                    NaN   \n",
       "4      «18+» - запрещено для детей                 NaN                    NaN   \n",
       "5    «6+» - для детей старше 6 лет                 NaN                    NaN   \n",
       "6  «12+» - для детей старше 12 лет                 NaN                    NaN   \n",
       "7      «18+» - запрещено для детей                 NaN                    NaN   \n",
       "8      «18+» - запрещено для детей                 NaN                    NaN   \n",
       "9  «12+» - для детей старше 12 лет                 NaN                    NaN   \n",
       "\n",
       "   budget financing_source ratings                     genres  \n",
       "0     NaN              NaN     7.2     боевик,драма,мелодрама  \n",
       "1     NaN              NaN     6.6              драма,военный  \n",
       "2     NaN              NaN     6.8  фантастика,боевик,триллер  \n",
       "3     NaN              NaN     6.8  фантастика,боевик,триллер  \n",
       "4     NaN              NaN     6.8  фантастика,боевик,триллер  \n",
       "5     NaN              NaN     7.7                      драма  \n",
       "6     NaN              NaN     8.3          мелодрама,комедия  \n",
       "7     NaN              NaN     6.6   мюзикл,мелодрама,комедия  \n",
       "8     NaN              NaN     8.0           комедия,криминал  \n",
       "9     NaN              NaN     7.8          мелодрама,комедия  "
      ]
     },
     "metadata": {},
     "output_type": "display_data"
    },
    {
     "data": {
      "text/plain": [
       "'Описание данных:'"
      ]
     },
     "metadata": {},
     "output_type": "display_data"
    },
    {
     "data": {
      "text/html": [
       "<div>\n",
       "<style scoped>\n",
       "    .dataframe tbody tr th:only-of-type {\n",
       "        vertical-align: middle;\n",
       "    }\n",
       "\n",
       "    .dataframe tbody tr th {\n",
       "        vertical-align: top;\n",
       "    }\n",
       "\n",
       "    .dataframe thead th {\n",
       "        text-align: right;\n",
       "    }\n",
       "</style>\n",
       "<table border=\"1\" class=\"dataframe\">\n",
       "  <thead>\n",
       "    <tr style=\"text-align: right;\">\n",
       "      <th></th>\n",
       "      <th>refundable_support</th>\n",
       "      <th>nonrefundable_support</th>\n",
       "      <th>budget</th>\n",
       "    </tr>\n",
       "  </thead>\n",
       "  <tbody>\n",
       "    <tr>\n",
       "      <th>count</th>\n",
       "      <td>332.00</td>\n",
       "      <td>332.00</td>\n",
       "      <td>332.00</td>\n",
       "    </tr>\n",
       "    <tr>\n",
       "      <th>mean</th>\n",
       "      <td>11864457.83</td>\n",
       "      <td>48980988.89</td>\n",
       "      <td>127229716.68</td>\n",
       "    </tr>\n",
       "    <tr>\n",
       "      <th>std</th>\n",
       "      <td>24916555.26</td>\n",
       "      <td>59980117.92</td>\n",
       "      <td>188588333.12</td>\n",
       "    </tr>\n",
       "    <tr>\n",
       "      <th>min</th>\n",
       "      <td>0.00</td>\n",
       "      <td>0.00</td>\n",
       "      <td>0.00</td>\n",
       "    </tr>\n",
       "    <tr>\n",
       "      <th>25%</th>\n",
       "      <td>0.00</td>\n",
       "      <td>25000000.00</td>\n",
       "      <td>42000000.00</td>\n",
       "    </tr>\n",
       "    <tr>\n",
       "      <th>50%</th>\n",
       "      <td>0.00</td>\n",
       "      <td>30000000.00</td>\n",
       "      <td>68649916.00</td>\n",
       "    </tr>\n",
       "    <tr>\n",
       "      <th>75%</th>\n",
       "      <td>15000000.00</td>\n",
       "      <td>40375000.00</td>\n",
       "      <td>141985319.50</td>\n",
       "    </tr>\n",
       "    <tr>\n",
       "      <th>max</th>\n",
       "      <td>180000000.00</td>\n",
       "      <td>400000000.00</td>\n",
       "      <td>2305074303.00</td>\n",
       "    </tr>\n",
       "  </tbody>\n",
       "</table>\n",
       "</div>"
      ],
      "text/plain": [
       "       refundable_support  nonrefundable_support        budget\n",
       "count              332.00                 332.00        332.00\n",
       "mean          11864457.83            48980988.89  127229716.68\n",
       "std           24916555.26            59980117.92  188588333.12\n",
       "min                  0.00                   0.00          0.00\n",
       "25%                  0.00            25000000.00   42000000.00\n",
       "50%                  0.00            30000000.00   68649916.00\n",
       "75%           15000000.00            40375000.00  141985319.50\n",
       "max          180000000.00           400000000.00 2305074303.00"
      ]
     },
     "metadata": {},
     "output_type": "display_data"
    },
    {
     "data": {
      "text/plain": [
       "'Общая информацию о датафрейме'"
      ]
     },
     "metadata": {},
     "output_type": "display_data"
    },
    {
     "name": "stdout",
     "output_type": "stream",
     "text": [
      "<class 'pandas.core.frame.DataFrame'>\n",
      "RangeIndex: 7486 entries, 0 to 7485\n",
      "Data columns (total 15 columns):\n",
      " #   Column                 Non-Null Count  Dtype  \n",
      "---  ------                 --------------  -----  \n",
      " 0   title                  7486 non-null   object \n",
      " 1   puNumber               7486 non-null   object \n",
      " 2   show_start_date        7486 non-null   object \n",
      " 3   type                   7486 non-null   object \n",
      " 4   film_studio            7468 non-null   object \n",
      " 5   production_country     7484 non-null   object \n",
      " 6   director               7477 non-null   object \n",
      " 7   producer               6918 non-null   object \n",
      " 8   age_restriction        7486 non-null   object \n",
      " 9   refundable_support     332 non-null    float64\n",
      " 10  nonrefundable_support  332 non-null    float64\n",
      " 11  budget                 332 non-null    float64\n",
      " 12  financing_source       332 non-null    object \n",
      " 13  ratings                6519 non-null   object \n",
      " 14  genres                 6510 non-null   object \n",
      "dtypes: float64(3), object(12)\n",
      "memory usage: 877.4+ KB\n"
     ]
    },
    {
     "data": {
      "text/plain": [
       "None"
      ]
     },
     "metadata": {},
     "output_type": "display_data"
    },
    {
     "data": {
      "text/plain": [
       "'Количество пропусков'"
      ]
     },
     "metadata": {},
     "output_type": "display_data"
    },
    {
     "data": {
      "text/plain": [
       "title                       0\n",
       "puNumber                    0\n",
       "show_start_date             0\n",
       "type                        0\n",
       "film_studio                18\n",
       "production_country          2\n",
       "director                    9\n",
       "producer                  568\n",
       "age_restriction             0\n",
       "refundable_support       7154\n",
       "nonrefundable_support    7154\n",
       "budget                   7154\n",
       "financing_source         7154\n",
       "ratings                   967\n",
       "genres                    976\n",
       "dtype: int64"
      ]
     },
     "metadata": {},
     "output_type": "display_data"
    }
   ],
   "source": [
    "data_head_desc_info(data)"
   ]
  },
  {
   "cell_type": "markdown",
   "metadata": {},
   "source": [
    "Получим общую информацию о данных data_show — mkrf_shows.csv."
   ]
  },
  {
   "cell_type": "code",
   "execution_count": 9,
   "metadata": {
    "scrolled": true
   },
   "outputs": [
    {
     "data": {
      "text/plain": [
       "'Первые десять строк данных:'"
      ]
     },
     "metadata": {},
     "output_type": "display_data"
    },
    {
     "data": {
      "text/html": [
       "<div>\n",
       "<style scoped>\n",
       "    .dataframe tbody tr th:only-of-type {\n",
       "        vertical-align: middle;\n",
       "    }\n",
       "\n",
       "    .dataframe tbody tr th {\n",
       "        vertical-align: top;\n",
       "    }\n",
       "\n",
       "    .dataframe thead th {\n",
       "        text-align: right;\n",
       "    }\n",
       "</style>\n",
       "<table border=\"1\" class=\"dataframe\">\n",
       "  <thead>\n",
       "    <tr style=\"text-align: right;\">\n",
       "      <th></th>\n",
       "      <th>puNumber</th>\n",
       "      <th>box_office</th>\n",
       "    </tr>\n",
       "  </thead>\n",
       "  <tbody>\n",
       "    <tr>\n",
       "      <th>0</th>\n",
       "      <td>111000113</td>\n",
       "      <td>2450.00</td>\n",
       "    </tr>\n",
       "    <tr>\n",
       "      <th>1</th>\n",
       "      <td>111000115</td>\n",
       "      <td>61040.00</td>\n",
       "    </tr>\n",
       "    <tr>\n",
       "      <th>2</th>\n",
       "      <td>111000116</td>\n",
       "      <td>153030013.40</td>\n",
       "    </tr>\n",
       "    <tr>\n",
       "      <th>3</th>\n",
       "      <td>111000117</td>\n",
       "      <td>12260956.00</td>\n",
       "    </tr>\n",
       "    <tr>\n",
       "      <th>4</th>\n",
       "      <td>111000118</td>\n",
       "      <td>163684057.79</td>\n",
       "    </tr>\n",
       "    <tr>\n",
       "      <th>5</th>\n",
       "      <td>111000119</td>\n",
       "      <td>4293649.51</td>\n",
       "    </tr>\n",
       "    <tr>\n",
       "      <th>6</th>\n",
       "      <td>111000212</td>\n",
       "      <td>200.00</td>\n",
       "    </tr>\n",
       "    <tr>\n",
       "      <th>7</th>\n",
       "      <td>111000216</td>\n",
       "      <td>355567.00</td>\n",
       "    </tr>\n",
       "    <tr>\n",
       "      <th>8</th>\n",
       "      <td>111000313</td>\n",
       "      <td>710.00</td>\n",
       "    </tr>\n",
       "    <tr>\n",
       "      <th>9</th>\n",
       "      <td>111000314</td>\n",
       "      <td>1607970.00</td>\n",
       "    </tr>\n",
       "  </tbody>\n",
       "</table>\n",
       "</div>"
      ],
      "text/plain": [
       "    puNumber   box_office\n",
       "0  111000113      2450.00\n",
       "1  111000115     61040.00\n",
       "2  111000116 153030013.40\n",
       "3  111000117  12260956.00\n",
       "4  111000118 163684057.79\n",
       "5  111000119   4293649.51\n",
       "6  111000212       200.00\n",
       "7  111000216    355567.00\n",
       "8  111000313       710.00\n",
       "9  111000314   1607970.00"
      ]
     },
     "metadata": {},
     "output_type": "display_data"
    },
    {
     "data": {
      "text/plain": [
       "'Описание данных:'"
      ]
     },
     "metadata": {},
     "output_type": "display_data"
    },
    {
     "data": {
      "text/html": [
       "<div>\n",
       "<style scoped>\n",
       "    .dataframe tbody tr th:only-of-type {\n",
       "        vertical-align: middle;\n",
       "    }\n",
       "\n",
       "    .dataframe tbody tr th {\n",
       "        vertical-align: top;\n",
       "    }\n",
       "\n",
       "    .dataframe thead th {\n",
       "        text-align: right;\n",
       "    }\n",
       "</style>\n",
       "<table border=\"1\" class=\"dataframe\">\n",
       "  <thead>\n",
       "    <tr style=\"text-align: right;\">\n",
       "      <th></th>\n",
       "      <th>puNumber</th>\n",
       "      <th>box_office</th>\n",
       "    </tr>\n",
       "  </thead>\n",
       "  <tbody>\n",
       "    <tr>\n",
       "      <th>count</th>\n",
       "      <td>3158.00</td>\n",
       "      <td>3158.00</td>\n",
       "    </tr>\n",
       "    <tr>\n",
       "      <th>mean</th>\n",
       "      <td>120187475.32</td>\n",
       "      <td>76478696.16</td>\n",
       "    </tr>\n",
       "    <tr>\n",
       "      <th>std</th>\n",
       "      <td>12383941.15</td>\n",
       "      <td>240353122.82</td>\n",
       "    </tr>\n",
       "    <tr>\n",
       "      <th>min</th>\n",
       "      <td>111000113.00</td>\n",
       "      <td>0.00</td>\n",
       "    </tr>\n",
       "    <tr>\n",
       "      <th>25%</th>\n",
       "      <td>113000191.75</td>\n",
       "      <td>86239.00</td>\n",
       "    </tr>\n",
       "    <tr>\n",
       "      <th>50%</th>\n",
       "      <td>121013114.50</td>\n",
       "      <td>2327987.55</td>\n",
       "    </tr>\n",
       "    <tr>\n",
       "      <th>75%</th>\n",
       "      <td>121028317.75</td>\n",
       "      <td>23979671.02</td>\n",
       "    </tr>\n",
       "    <tr>\n",
       "      <th>max</th>\n",
       "      <td>224026410.00</td>\n",
       "      <td>3073568690.79</td>\n",
       "    </tr>\n",
       "  </tbody>\n",
       "</table>\n",
       "</div>"
      ],
      "text/plain": [
       "          puNumber    box_office\n",
       "count      3158.00       3158.00\n",
       "mean  120187475.32   76478696.16\n",
       "std    12383941.15  240353122.82\n",
       "min   111000113.00          0.00\n",
       "25%   113000191.75      86239.00\n",
       "50%   121013114.50    2327987.55\n",
       "75%   121028317.75   23979671.02\n",
       "max   224026410.00 3073568690.79"
      ]
     },
     "metadata": {},
     "output_type": "display_data"
    },
    {
     "data": {
      "text/plain": [
       "'Общая информацию о датафрейме'"
      ]
     },
     "metadata": {},
     "output_type": "display_data"
    },
    {
     "name": "stdout",
     "output_type": "stream",
     "text": [
      "<class 'pandas.core.frame.DataFrame'>\n",
      "RangeIndex: 3158 entries, 0 to 3157\n",
      "Data columns (total 2 columns):\n",
      " #   Column      Non-Null Count  Dtype  \n",
      "---  ------      --------------  -----  \n",
      " 0   puNumber    3158 non-null   int64  \n",
      " 1   box_office  3158 non-null   float64\n",
      "dtypes: float64(1), int64(1)\n",
      "memory usage: 49.5 KB\n"
     ]
    },
    {
     "data": {
      "text/plain": [
       "None"
      ]
     },
     "metadata": {},
     "output_type": "display_data"
    },
    {
     "data": {
      "text/plain": [
       "'Количество пропусков'"
      ]
     },
     "metadata": {},
     "output_type": "display_data"
    },
    {
     "data": {
      "text/plain": [
       "puNumber      0\n",
       "box_office    0\n",
       "dtype: int64"
      ]
     },
     "metadata": {},
     "output_type": "display_data"
    }
   ],
   "source": [
    "data_head_desc_info(data_show)"
   ]
  },
  {
   "cell_type": "markdown",
   "metadata": {},
   "source": [
    "#### Общий вывод о данных и обнаруженных проблемах"
   ]
  },
  {
   "cell_type": "markdown",
   "metadata": {},
   "source": [
    "В таблице предоставлены данные за 2010-2019 год включительно. Общее количество записей составляет для файла с прокатными данными о фильмах 7486 файл mkrf_movies, а для файла с данными о сборах 3158 файл mkrf_shows. Это все фильмы, которые за это время получали прокатное удостоверение и были показаны, либо показывались на момент получения этих данных.\n",
    "\n",
    "Данные в mkrf_movies представлены 15-ю столбцами, с типами float64(3), object(12). Данные в mkrf_shows представлены 2-мя столбцами, с типами int64(1), float64(1).\n",
    "\n",
    "По описанию данных, до детального изучения, уже видно некорректные значения.\n",
    "\n",
    "Типы данных не соответствуют предполагаемым:\n",
    "\n",
    "puNumber — прокатное удостоверение, значение которого целочисленно, сейчас его значение типа object, его нужно привести к формату int;\n",
    "show_start_date — это значение даты начала проката, сейчас его значение типа object, должно быть в формате Datetime;\n",
    "ratings — значение рейтинга, сейчас его значение типа object, должен быть в формат float.\n",
    "Количественные значения:\n",
    "\n",
    "В некоторых случаях значение сборов и финансирования равно 0, стоит проверить эти данные на наличие ошибок.\n",
    "Пропуски значений в данных являются значимыми, и их нельзя игнорировать:\n",
    "\n",
    "* film_studio — отсутствует 0.24% данных, стоит проверить, вероятно данные можно взять из других столбцов, либо заполним эти данные маркером Без студии;\n",
    "* production_country — отсутствует 0.03% данных, также проверим на возможность заполнить данные из другого столбца, либо заполним эти данные значением Без страны;\n",
    "* director — отсутствует 0.12% данных, заполним эти данные маркером Без директора;\n",
    "* producer — отсутствует 7.59% данных, заполним эти данные значением Без продюсера;\n",
    "* refundable_support, nonrefundable_support, budget — у этих данных отсутствует 95.57% данных, заполним эти значения 0;\n",
    "* financing source — так как киноленты, которые финансируются «Министерством культуры и Фондом кино» сняты при государственной поддержке, такие данные отдельно отмечены, то имеет смысл предположить, что остальные киноленты являются частным коммерческим проектом, заполним значением Коммерческий;\n",
    "* ratings — отсутствует 12.92% данных, заполнить эти данные мы сможем только значением 0, так как значение рейтингов заполнить на основании имеющихся данных не получится;\n",
    "* genres — отсутствует 13.04% данных, так как значение жанра взять из этих данных не получится, заполним эти данные значением Без страны;\n",
    "* box office — отсутствует 57.64% данных, так как значения о сборах не получится заполнить другими, заполним их 0."
   ]
  },
  {
   "cell_type": "markdown",
   "metadata": {},
   "source": [
    "#### Соединим таблицы"
   ]
  },
  {
   "cell_type": "markdown",
   "metadata": {},
   "source": [
    "##### Проверим данные данные по прокатным удостоверениям puNumber"
   ]
  },
  {
   "cell_type": "markdown",
   "metadata": {},
   "source": [
    "Так как прокатные удостоверения числовые и уникальные данные, которые при объединении таблиц должны выступать как индекс, проверим на наличие посторонних строк, символов и прочего."
   ]
  },
  {
   "cell_type": "code",
   "execution_count": 10,
   "metadata": {
    "scrolled": true
   },
   "outputs": [
    {
     "data": {
      "text/html": [
       "<div>\n",
       "<style scoped>\n",
       "    .dataframe tbody tr th:only-of-type {\n",
       "        vertical-align: middle;\n",
       "    }\n",
       "\n",
       "    .dataframe tbody tr th {\n",
       "        vertical-align: top;\n",
       "    }\n",
       "\n",
       "    .dataframe thead th {\n",
       "        text-align: right;\n",
       "    }\n",
       "</style>\n",
       "<table border=\"1\" class=\"dataframe\">\n",
       "  <thead>\n",
       "    <tr style=\"text-align: right;\">\n",
       "      <th></th>\n",
       "      <th>title</th>\n",
       "      <th>puNumber</th>\n",
       "      <th>show_start_date</th>\n",
       "      <th>type</th>\n",
       "      <th>film_studio</th>\n",
       "      <th>production_country</th>\n",
       "      <th>director</th>\n",
       "      <th>producer</th>\n",
       "      <th>age_restriction</th>\n",
       "      <th>refundable_support</th>\n",
       "      <th>nonrefundable_support</th>\n",
       "      <th>budget</th>\n",
       "      <th>financing_source</th>\n",
       "      <th>ratings</th>\n",
       "      <th>genres</th>\n",
       "    </tr>\n",
       "  </thead>\n",
       "  <tbody>\n",
       "    <tr>\n",
       "      <th>804</th>\n",
       "      <td>Паранормальный Якутск</td>\n",
       "      <td>111004112</td>\n",
       "      <td>2012-08-24T12:00:00.000Z</td>\n",
       "      <td>Художественный</td>\n",
       "      <td>ИП Тимофеев К.П.</td>\n",
       "      <td>Россия</td>\n",
       "      <td>К.Тимофеев</td>\n",
       "      <td>NaN</td>\n",
       "      <td>«16+» - для детей старше 16 лет</td>\n",
       "      <td>NaN</td>\n",
       "      <td>NaN</td>\n",
       "      <td>NaN</td>\n",
       "      <td>NaN</td>\n",
       "      <td>NaN</td>\n",
       "      <td>NaN</td>\n",
       "    </tr>\n",
       "    <tr>\n",
       "      <th>1797</th>\n",
       "      <td>Курбан-роман. (История с жертвой)</td>\n",
       "      <td>нет</td>\n",
       "      <td>2014-05-15T12:00:00.000Z</td>\n",
       "      <td>Художественный</td>\n",
       "      <td>ФОНД \"ИННОВАЦИЯ\"</td>\n",
       "      <td>Россия</td>\n",
       "      <td>С.Юзеев</td>\n",
       "      <td>М.Галицкая</td>\n",
       "      <td>«12+» - для детей старше 12 лет</td>\n",
       "      <td>NaN</td>\n",
       "      <td>NaN</td>\n",
       "      <td>NaN</td>\n",
       "      <td>NaN</td>\n",
       "      <td>NaN</td>\n",
       "      <td>NaN</td>\n",
       "    </tr>\n",
       "  </tbody>\n",
       "</table>\n",
       "</div>"
      ],
      "text/plain": [
       "                                  title    puNumber           show_start_date  \\\n",
       "804               Паранормальный Якутск   111004112  2012-08-24T12:00:00.000Z   \n",
       "1797  Курбан-роман. (История с жертвой)         нет  2014-05-15T12:00:00.000Z   \n",
       "\n",
       "                type       film_studio production_country    director  \\\n",
       "804   Художественный  ИП Тимофеев К.П.             Россия  К.Тимофеев   \n",
       "1797  Художественный  ФОНД \"ИННОВАЦИЯ\"             Россия     С.Юзеев   \n",
       "\n",
       "        producer                  age_restriction  refundable_support  \\\n",
       "804          NaN  «16+» - для детей старше 16 лет                 NaN   \n",
       "1797  М.Галицкая  «12+» - для детей старше 12 лет                 NaN   \n",
       "\n",
       "      nonrefundable_support  budget financing_source ratings genres  \n",
       "804                     NaN     NaN              NaN     NaN    NaN  \n",
       "1797                    NaN     NaN              NaN     NaN    NaN  "
      ]
     },
     "execution_count": 10,
     "metadata": {},
     "output_type": "execute_result"
    }
   ],
   "source": [
    "data[data['puNumber'].str.isdigit() == False]"
   ]
  },
  {
   "cell_type": "markdown",
   "metadata": {},
   "source": [
    "В столбце содержатся две ячейки с несоответствующими значениями нет и 111004112. Первое значение — строка, что будет мешать нашей задаче. Во втором значении есть символ пробела."
   ]
  },
  {
   "cell_type": "markdown",
   "metadata": {},
   "source": [
    "Попробуем преобразовать значения в число, если не получится, значение в ячейке будет заменено на Nan, а затем удалим строку со значением Nan. Это поможет убрать нам строку 1797 — Курбан-роман. (История с жертвой), а значение 111004112 — Паранормальный Якутск сразу будет приведено к числовому."
   ]
  },
  {
   "cell_type": "code",
   "execution_count": 11,
   "metadata": {},
   "outputs": [],
   "source": [
    "data['puNumber'] = pd.to_numeric(data['puNumber'], errors='coerce')\n",
    "result = data.loc[pd.isnull(data['puNumber'])]"
   ]
  },
  {
   "cell_type": "code",
   "execution_count": 12,
   "metadata": {},
   "outputs": [],
   "source": [
    "data = data.dropna(subset=['puNumber'])"
   ]
  },
  {
   "cell_type": "markdown",
   "metadata": {},
   "source": [
    "Сразу же преобразуем тип столбца на целочисленный."
   ]
  },
  {
   "cell_type": "code",
   "execution_count": 13,
   "metadata": {},
   "outputs": [],
   "source": [
    "data['puNumber'] = data['puNumber'].astype('int') "
   ]
  },
  {
   "cell_type": "markdown",
   "metadata": {},
   "source": [
    "##### Объединим данные"
   ]
  },
  {
   "cell_type": "markdown",
   "metadata": {},
   "source": [
    "Данные о прокатных удостоверениях приведены в порядок, можно объединять данные."
   ]
  },
  {
   "cell_type": "code",
   "execution_count": 14,
   "metadata": {},
   "outputs": [],
   "source": [
    "data = data.merge(data_show, on='puNumber', how='outer') "
   ]
  },
  {
   "cell_type": "code",
   "execution_count": 15,
   "metadata": {},
   "outputs": [
    {
     "data": {
      "text/plain": [
       "Index(['title', 'puNumber', 'show_start_date', 'type', 'film_studio',\n",
       "       'production_country', 'director', 'producer', 'age_restriction',\n",
       "       'refundable_support', 'nonrefundable_support', 'budget',\n",
       "       'financing_source', 'ratings', 'genres', 'box_office'],\n",
       "      dtype='object')"
      ]
     },
     "execution_count": 15,
     "metadata": {},
     "output_type": "execute_result"
    }
   ],
   "source": [
    "data.columns"
   ]
  },
  {
   "cell_type": "markdown",
   "metadata": {},
   "source": [
    "В данные основного датафрейма добавился еще один столбец box_office."
   ]
  },
  {
   "cell_type": "code",
   "execution_count": 16,
   "metadata": {},
   "outputs": [
    {
     "name": "stdout",
     "output_type": "stream",
     "text": [
      "<class 'pandas.core.frame.DataFrame'>\n",
      "Int64Index: 7485 entries, 0 to 7484\n",
      "Data columns (total 16 columns):\n",
      " #   Column                 Non-Null Count  Dtype  \n",
      "---  ------                 --------------  -----  \n",
      " 0   title                  7485 non-null   object \n",
      " 1   puNumber               7485 non-null   int64  \n",
      " 2   show_start_date        7485 non-null   object \n",
      " 3   type                   7485 non-null   object \n",
      " 4   film_studio            7467 non-null   object \n",
      " 5   production_country     7483 non-null   object \n",
      " 6   director               7476 non-null   object \n",
      " 7   producer               6917 non-null   object \n",
      " 8   age_restriction        7485 non-null   object \n",
      " 9   refundable_support     332 non-null    float64\n",
      " 10  nonrefundable_support  332 non-null    float64\n",
      " 11  budget                 332 non-null    float64\n",
      " 12  financing_source       332 non-null    object \n",
      " 13  ratings                6519 non-null   object \n",
      " 14  genres                 6510 non-null   object \n",
      " 15  box_office             3158 non-null   float64\n",
      "dtypes: float64(4), int64(1), object(11)\n",
      "memory usage: 994.1+ KB\n"
     ]
    }
   ],
   "source": [
    "data.info()"
   ]
  },
  {
   "cell_type": "markdown",
   "metadata": {},
   "source": [
    "#### Общий вывод. Объединение данных."
   ]
  },
  {
   "cell_type": "markdown",
   "metadata": {},
   "source": [
    "На этом этапе были объединены две таблицы с даными mkrf_movies с количеством записей 7486 и mkrf_shows с количеством записей 3158. Объединение данных происходило по столбцу-индексу puNumber, в котором содержатся уникальные номера прокатных удостоверений, которые выдавались фильмам. Результатом объединения стала таблица с полной информацией о фильмах и добавленная к ней информация о сборах в прокате для фильмов снятых при господдержке."
   ]
  },
  {
   "cell_type": "markdown",
   "metadata": {
    "id": "KLDGpPG0gFyM"
   },
   "source": [
    "### Шаг 2. Предобработка данных"
   ]
  },
  {
   "cell_type": "markdown",
   "metadata": {
    "id": "ssWwKXsxgFyO"
   },
   "source": [
    "#### Шаг 2.1. Проверьте типы данных\n",
    "\n",
    "- Проверьте типы данных в датафрейме и преобразуйте их там, где это необходимо."
   ]
  },
  {
   "cell_type": "code",
   "execution_count": 17,
   "metadata": {
    "id": "kVGSplJOgFyO"
   },
   "outputs": [
    {
     "name": "stdout",
     "output_type": "stream",
     "text": [
      "<class 'pandas.core.frame.DataFrame'>\n",
      "Int64Index: 7485 entries, 0 to 7484\n",
      "Data columns (total 16 columns):\n",
      " #   Column                 Non-Null Count  Dtype  \n",
      "---  ------                 --------------  -----  \n",
      " 0   title                  7485 non-null   object \n",
      " 1   puNumber               7485 non-null   int64  \n",
      " 2   show_start_date        7485 non-null   object \n",
      " 3   type                   7485 non-null   object \n",
      " 4   film_studio            7467 non-null   object \n",
      " 5   production_country     7483 non-null   object \n",
      " 6   director               7476 non-null   object \n",
      " 7   producer               6917 non-null   object \n",
      " 8   age_restriction        7485 non-null   object \n",
      " 9   refundable_support     332 non-null    float64\n",
      " 10  nonrefundable_support  332 non-null    float64\n",
      " 11  budget                 332 non-null    float64\n",
      " 12  financing_source       332 non-null    object \n",
      " 13  ratings                6519 non-null   object \n",
      " 14  genres                 6510 non-null   object \n",
      " 15  box_office             3158 non-null   float64\n",
      "dtypes: float64(4), int64(1), object(11)\n",
      "memory usage: 994.1+ KB\n"
     ]
    }
   ],
   "source": [
    "data.info()"
   ]
  },
  {
   "cell_type": "markdown",
   "metadata": {},
   "source": [
    "Можно выделить следующие несоответствия типов:\n",
    "\n",
    "* show_start_date — это значение даты, приведем его к типу Datetime;\n",
    "* ratings — рейтинг это значения от 0 до 10, которое может быть дробным, целесообразно привести это значение к float.\n",
    "Значение прокатного удостоверения puNumber, ранее уже было приведено к типу int."
   ]
  },
  {
   "cell_type": "markdown",
   "metadata": {},
   "source": [
    "##### Рейтинг"
   ]
  },
  {
   "cell_type": "markdown",
   "metadata": {},
   "source": [
    "Посмотрим на все уникальные значения, чтобы провести первоначальную оценку данных."
   ]
  },
  {
   "cell_type": "code",
   "execution_count": 18,
   "metadata": {},
   "outputs": [
    {
     "data": {
      "text/plain": [
       "array(['7.2', '6.6', '6.8', '7.7', '8.3', '8.0', '7.8', '8.1', '7.1',\n",
       "       '6.0', '7.4', '5.8', '8.7', '6.3', '6.9', '5.0', '4.3', '7.3',\n",
       "       '7.0', '6.4', nan, '8.2', '7.5', '6.7', '7.9', '5.9', '6.2', '5.6',\n",
       "       '6.5', '2.4', '7.6', '6.1', '8.6', '8.5', '8.8', '5.5', '5.1',\n",
       "       '5.7', '5.4', '99%', '4.4', '4.5', '5.3', '4.1', '8.4', '2.6',\n",
       "       '3.8', '4.6', '4.8', '4.0', '3.0', '1.6', '4.2', '5.2', '4.7',\n",
       "       '4.9', '3.9', '2.7', '3.3', '2.9', '28%', '3.7', '1.4', '3.1',\n",
       "       '97%', '3.5', '3.2', '2.8', '1.5', '2.1', '2.5', '9.2', '3.4',\n",
       "       '1.1', '3.6', '83%', '64%', '91%', '94%', '62%', '79%', '90%',\n",
       "       '19%', '88%', '1.0', '89%', '1.3', '1.9', '1.8', '1.2', '1.7',\n",
       "       '9.0', '98%', '8.9', '9.1'], dtype=object)"
      ]
     },
     "execution_count": 18,
     "metadata": {},
     "output_type": "execute_result"
    }
   ],
   "source": [
    "data['ratings'].unique()"
   ]
  },
  {
   "cell_type": "markdown",
   "metadata": {},
   "source": [
    "В данных содержатся не те значения, которые предполагаемо должны быть в этом столбце. Так как значения рейтинга находятся в диапазоне от 0 до 10. Предположим, что значения в процентах, это вариант отображения рейтинга от 0 до 100%, следовательно можно привести к стандартной шкале без потери результата."
   ]
  },
  {
   "cell_type": "markdown",
   "metadata": {},
   "source": [
    "Уберем символ процента %, а потом приведем значение к типу float."
   ]
  },
  {
   "cell_type": "code",
   "execution_count": 19,
   "metadata": {},
   "outputs": [],
   "source": [
    "data['ratings'] = data['ratings'].str.replace('%', '')"
   ]
  },
  {
   "cell_type": "code",
   "execution_count": 20,
   "metadata": {},
   "outputs": [],
   "source": [
    "data['ratings'] = data['ratings'].astype('float') "
   ]
  },
  {
   "cell_type": "markdown",
   "metadata": {},
   "source": [
    "Приведем значения, которые находятся между 10 и 100 к рейтингу делением на 10."
   ]
  },
  {
   "cell_type": "code",
   "execution_count": 21,
   "metadata": {},
   "outputs": [],
   "source": [
    "data_hight_ratings = data.loc[data['ratings'] > 10]\n",
    "data.loc[data['ratings'] >= 10, 'ratings'] = data_hight_ratings['ratings'] / 10"
   ]
  },
  {
   "cell_type": "markdown",
   "metadata": {},
   "source": [
    "Та как в данных есть и пропущенные значения, предположим, что рейтинга еще нет, так как фильм только вышел в прокат, либо данные попросту не указаны. Заполним эти значения как 0, это не повлияет на полное представление данных, а значение 0 будет индикатором о выше приведенных предположениях."
   ]
  },
  {
   "cell_type": "code",
   "execution_count": 22,
   "metadata": {},
   "outputs": [],
   "source": [
    "data['ratings'] = data['ratings'].fillna(value=0)"
   ]
  },
  {
   "cell_type": "markdown",
   "metadata": {},
   "source": [
    "Проверим уникальные значения."
   ]
  },
  {
   "cell_type": "code",
   "execution_count": 23,
   "metadata": {},
   "outputs": [
    {
     "data": {
      "text/plain": [
       "array([7.2, 6.6, 6.8, 7.7, 8.3, 8. , 7.8, 8.1, 7.1, 6. , 7.4, 5.8, 8.7,\n",
       "       6.3, 6.9, 5. , 4.3, 7.3, 7. , 6.4, 0. , 8.2, 7.5, 6.7, 7.9, 5.9,\n",
       "       6.2, 5.6, 6.5, 2.4, 7.6, 6.1, 8.6, 8.5, 8.8, 5.5, 5.1, 5.7, 5.4,\n",
       "       9.9, 4.4, 4.5, 5.3, 4.1, 8.4, 2.6, 3.8, 4.6, 4.8, 4. , 3. , 1.6,\n",
       "       4.2, 5.2, 4.7, 4.9, 3.9, 2.7, 3.3, 2.9, 2.8, 3.7, 1.4, 3.1, 9.7,\n",
       "       3.5, 3.2, 1.5, 2.1, 2.5, 9.2, 3.4, 1.1, 3.6, 9.1, 9.4, 9. , 1.9,\n",
       "       1. , 8.9, 1.3, 1.8, 1.2, 1.7, 9.8])"
      ]
     },
     "execution_count": 23,
     "metadata": {},
     "output_type": "execute_result"
    }
   ],
   "source": [
    "data['ratings'].unique()"
   ]
  },
  {
   "cell_type": "markdown",
   "metadata": {},
   "source": [
    "В столбце рейтинга теперь значения, которые соответствуют шкале, в которой обычно измеряются этот параметр."
   ]
  },
  {
   "cell_type": "markdown",
   "metadata": {},
   "source": [
    "##### Дата премьеры фильма"
   ]
  },
  {
   "cell_type": "markdown",
   "metadata": {},
   "source": [
    "Приведем значение столбца с датой премьеры к формату даты."
   ]
  },
  {
   "cell_type": "code",
   "execution_count": 24,
   "metadata": {},
   "outputs": [],
   "source": [
    "data['show_start_date'] = pd.to_datetime(data['show_start_date'])"
   ]
  },
  {
   "cell_type": "markdown",
   "metadata": {
    "id": "i0MOLbF-gFyP"
   },
   "source": [
    "#### Шаг 2.2. Изучите пропуски в датафрейме\n",
    "\n",
    "- Объясните, почему заполнили пропуски определённым образом или почему не стали этого делать."
   ]
  },
  {
   "cell_type": "code",
   "execution_count": 25,
   "metadata": {},
   "outputs": [
    {
     "data": {
      "text/plain": [
       "7485"
      ]
     },
     "execution_count": 25,
     "metadata": {},
     "output_type": "execute_result"
    }
   ],
   "source": [
    "# Комментарий ревьюера\n",
    "temp = data.copy() # создаем копию датасета до преобразования\n",
    "len(temp)"
   ]
  },
  {
   "cell_type": "markdown",
   "metadata": {
    "id": "8MJD_lkngFyP"
   },
   "source": [
    "Посмотрим на пропуски и долю пропусков более детально."
   ]
  },
  {
   "cell_type": "code",
   "execution_count": 26,
   "metadata": {},
   "outputs": [
    {
     "data": {
      "text/plain": [
       "title                       0\n",
       "puNumber                    0\n",
       "show_start_date             0\n",
       "type                        0\n",
       "film_studio                18\n",
       "production_country          2\n",
       "director                    9\n",
       "producer                  568\n",
       "age_restriction             0\n",
       "refundable_support       7153\n",
       "nonrefundable_support    7153\n",
       "budget                   7153\n",
       "financing_source         7153\n",
       "ratings                     0\n",
       "genres                    975\n",
       "box_office               4327\n",
       "dtype: int64"
      ]
     },
     "execution_count": 26,
     "metadata": {},
     "output_type": "execute_result"
    }
   ],
   "source": [
    "data.isna().sum()"
   ]
  },
  {
   "cell_type": "markdown",
   "metadata": {},
   "source": [
    "Посмотрим на процент пропусков в данных в визуальном представлении."
   ]
  },
  {
   "cell_type": "code",
   "execution_count": 27,
   "metadata": {},
   "outputs": [
    {
     "data": {
      "text/html": [
       "<style  type=\"text/css\" >\n",
       "#T_72548_row0_col0,#T_72548_row1_col0,#T_72548_row2_col0,#T_72548_row3_col0,#T_72548_row4_col0,#T_72548_row5_col0,#T_72548_row6_col0,#T_72548_row8_col0,#T_72548_row13_col0{\n",
       "            background-color:  #3b4cc0;\n",
       "            color:  #f1f1f1;\n",
       "        }#T_72548_row7_col0{\n",
       "            background-color:  #536edd;\n",
       "            color:  #000000;\n",
       "        }#T_72548_row9_col0,#T_72548_row10_col0,#T_72548_row11_col0,#T_72548_row12_col0{\n",
       "            background-color:  #b40426;\n",
       "            color:  #f1f1f1;\n",
       "        }#T_72548_row14_col0{\n",
       "            background-color:  #6485ec;\n",
       "            color:  #000000;\n",
       "        }#T_72548_row15_col0{\n",
       "            background-color:  #f2cab5;\n",
       "            color:  #000000;\n",
       "        }</style><table id=\"T_72548_\" ><thead>    <tr>        <th class=\"blank level0\" ></th>        <th class=\"col_heading level0 col0\" >0</th>    </tr></thead><tbody>\n",
       "                <tr>\n",
       "                        <th id=\"T_72548_level0_row0\" class=\"row_heading level0 row0\" >title</th>\n",
       "                        <td id=\"T_72548_row0_col0\" class=\"data row0 col0\" >0.000000</td>\n",
       "            </tr>\n",
       "            <tr>\n",
       "                        <th id=\"T_72548_level0_row1\" class=\"row_heading level0 row1\" >puNumber</th>\n",
       "                        <td id=\"T_72548_row1_col0\" class=\"data row1 col0\" >0.000000</td>\n",
       "            </tr>\n",
       "            <tr>\n",
       "                        <th id=\"T_72548_level0_row2\" class=\"row_heading level0 row2\" >show_start_date</th>\n",
       "                        <td id=\"T_72548_row2_col0\" class=\"data row2 col0\" >0.000000</td>\n",
       "            </tr>\n",
       "            <tr>\n",
       "                        <th id=\"T_72548_level0_row3\" class=\"row_heading level0 row3\" >type</th>\n",
       "                        <td id=\"T_72548_row3_col0\" class=\"data row3 col0\" >0.000000</td>\n",
       "            </tr>\n",
       "            <tr>\n",
       "                        <th id=\"T_72548_level0_row4\" class=\"row_heading level0 row4\" >film_studio</th>\n",
       "                        <td id=\"T_72548_row4_col0\" class=\"data row4 col0\" >0.200000</td>\n",
       "            </tr>\n",
       "            <tr>\n",
       "                        <th id=\"T_72548_level0_row5\" class=\"row_heading level0 row5\" >production_country</th>\n",
       "                        <td id=\"T_72548_row5_col0\" class=\"data row5 col0\" >0.000000</td>\n",
       "            </tr>\n",
       "            <tr>\n",
       "                        <th id=\"T_72548_level0_row6\" class=\"row_heading level0 row6\" >director</th>\n",
       "                        <td id=\"T_72548_row6_col0\" class=\"data row6 col0\" >0.100000</td>\n",
       "            </tr>\n",
       "            <tr>\n",
       "                        <th id=\"T_72548_level0_row7\" class=\"row_heading level0 row7\" >producer</th>\n",
       "                        <td id=\"T_72548_row7_col0\" class=\"data row7 col0\" >7.600000</td>\n",
       "            </tr>\n",
       "            <tr>\n",
       "                        <th id=\"T_72548_level0_row8\" class=\"row_heading level0 row8\" >age_restriction</th>\n",
       "                        <td id=\"T_72548_row8_col0\" class=\"data row8 col0\" >0.000000</td>\n",
       "            </tr>\n",
       "            <tr>\n",
       "                        <th id=\"T_72548_level0_row9\" class=\"row_heading level0 row9\" >refundable_support</th>\n",
       "                        <td id=\"T_72548_row9_col0\" class=\"data row9 col0\" >95.600000</td>\n",
       "            </tr>\n",
       "            <tr>\n",
       "                        <th id=\"T_72548_level0_row10\" class=\"row_heading level0 row10\" >nonrefundable_support</th>\n",
       "                        <td id=\"T_72548_row10_col0\" class=\"data row10 col0\" >95.600000</td>\n",
       "            </tr>\n",
       "            <tr>\n",
       "                        <th id=\"T_72548_level0_row11\" class=\"row_heading level0 row11\" >budget</th>\n",
       "                        <td id=\"T_72548_row11_col0\" class=\"data row11 col0\" >95.600000</td>\n",
       "            </tr>\n",
       "            <tr>\n",
       "                        <th id=\"T_72548_level0_row12\" class=\"row_heading level0 row12\" >financing_source</th>\n",
       "                        <td id=\"T_72548_row12_col0\" class=\"data row12 col0\" >95.600000</td>\n",
       "            </tr>\n",
       "            <tr>\n",
       "                        <th id=\"T_72548_level0_row13\" class=\"row_heading level0 row13\" >ratings</th>\n",
       "                        <td id=\"T_72548_row13_col0\" class=\"data row13 col0\" >0.000000</td>\n",
       "            </tr>\n",
       "            <tr>\n",
       "                        <th id=\"T_72548_level0_row14\" class=\"row_heading level0 row14\" >genres</th>\n",
       "                        <td id=\"T_72548_row14_col0\" class=\"data row14 col0\" >13.000000</td>\n",
       "            </tr>\n",
       "            <tr>\n",
       "                        <th id=\"T_72548_level0_row15\" class=\"row_heading level0 row15\" >box_office</th>\n",
       "                        <td id=\"T_72548_row15_col0\" class=\"data row15 col0\" >57.800000</td>\n",
       "            </tr>\n",
       "    </tbody></table>"
      ],
      "text/plain": [
       "<pandas.io.formats.style.Styler at 0x7f81d9688f40>"
      ]
     },
     "execution_count": 27,
     "metadata": {},
     "output_type": "execute_result"
    }
   ],
   "source": [
    "pd.DataFrame(round(data.isna().mean()*100,1)).style.background_gradient('coolwarm')"
   ]
  },
  {
   "cell_type": "markdown",
   "metadata": {},
   "source": [
    "Проверим данные еще раз, попробуем заменить на приемлемую замену, если нет, заполним указанным ниже значением:\n",
    "\n",
    "* film_studio — Без студии;\n",
    "* production_country — Без страны;\n",
    "* director — Без директора;\n",
    "* producer — Без продюсера;\n",
    "* refundable_support — 0;\n",
    "* nonrefundable_support — 0;\n",
    "* budget — 0;\n",
    "* financing_source — Коммерческий;\n",
    "* genres — Без жанра;\n",
    "* box_office — 0."
   ]
  },
  {
   "cell_type": "markdown",
   "metadata": {},
   "source": [
    "##### film_studio"
   ]
  },
  {
   "cell_type": "markdown",
   "metadata": {},
   "source": [
    "Посмотрим на несколько первых отсутствующих значений."
   ]
  },
  {
   "cell_type": "code",
   "execution_count": 28,
   "metadata": {},
   "outputs": [
    {
     "data": {
      "text/html": [
       "<div>\n",
       "<style scoped>\n",
       "    .dataframe tbody tr th:only-of-type {\n",
       "        vertical-align: middle;\n",
       "    }\n",
       "\n",
       "    .dataframe tbody tr th {\n",
       "        vertical-align: top;\n",
       "    }\n",
       "\n",
       "    .dataframe thead th {\n",
       "        text-align: right;\n",
       "    }\n",
       "</style>\n",
       "<table border=\"1\" class=\"dataframe\">\n",
       "  <thead>\n",
       "    <tr style=\"text-align: right;\">\n",
       "      <th></th>\n",
       "      <th>title</th>\n",
       "      <th>puNumber</th>\n",
       "      <th>show_start_date</th>\n",
       "      <th>type</th>\n",
       "      <th>film_studio</th>\n",
       "      <th>production_country</th>\n",
       "      <th>director</th>\n",
       "      <th>producer</th>\n",
       "      <th>age_restriction</th>\n",
       "      <th>refundable_support</th>\n",
       "      <th>nonrefundable_support</th>\n",
       "      <th>budget</th>\n",
       "      <th>financing_source</th>\n",
       "      <th>ratings</th>\n",
       "      <th>genres</th>\n",
       "      <th>box_office</th>\n",
       "    </tr>\n",
       "  </thead>\n",
       "  <tbody>\n",
       "    <tr>\n",
       "      <th>1293</th>\n",
       "      <td>Stars in Shorts</td>\n",
       "      <td>121011114</td>\n",
       "      <td>2014-06-03 12:00:00+00:00</td>\n",
       "      <td>Художественный</td>\n",
       "      <td>NaN</td>\n",
       "      <td>США, Великобритания</td>\n",
       "      <td>Роберт Фестингер, Руперт Френд, Джей Камен, Ни...</td>\n",
       "      <td>Татьяна Келли, Роберта Мунро, Руперт Френд, До...</td>\n",
       "      <td>«16+» - для детей старше 16 лет</td>\n",
       "      <td>NaN</td>\n",
       "      <td>NaN</td>\n",
       "      <td>NaN</td>\n",
       "      <td>NaN</td>\n",
       "      <td>7.30</td>\n",
       "      <td>комедия</td>\n",
       "      <td>NaN</td>\n",
       "    </tr>\n",
       "    <tr>\n",
       "      <th>4440</th>\n",
       "      <td>Мульт личности. Выпуск 5</td>\n",
       "      <td>214000410</td>\n",
       "      <td>2010-01-25 12:00:00+00:00</td>\n",
       "      <td>Художественный</td>\n",
       "      <td>NaN</td>\n",
       "      <td>NaN</td>\n",
       "      <td>NaN</td>\n",
       "      <td>NaN</td>\n",
       "      <td>«0+» - для любой зрительской аудитории</td>\n",
       "      <td>NaN</td>\n",
       "      <td>NaN</td>\n",
       "      <td>NaN</td>\n",
       "      <td>NaN</td>\n",
       "      <td>4.00</td>\n",
       "      <td>мультфильм,комедия</td>\n",
       "      <td>NaN</td>\n",
       "    </tr>\n",
       "    <tr>\n",
       "      <th>6104</th>\n",
       "      <td>Значит любит</td>\n",
       "      <td>111013818</td>\n",
       "      <td>2018-08-10 12:00:00+00:00</td>\n",
       "      <td>Художественный</td>\n",
       "      <td>NaN</td>\n",
       "      <td>Россия</td>\n",
       "      <td>А.Краевский</td>\n",
       "      <td>Е.Щербакова</td>\n",
       "      <td>«18+» - запрещено для детей</td>\n",
       "      <td>NaN</td>\n",
       "      <td>NaN</td>\n",
       "      <td>NaN</td>\n",
       "      <td>NaN</td>\n",
       "      <td>0.00</td>\n",
       "      <td>NaN</td>\n",
       "      <td>NaN</td>\n",
       "    </tr>\n",
       "    <tr>\n",
       "      <th>6180</th>\n",
       "      <td>Несейка. Младшая дочь</td>\n",
       "      <td>112007018</td>\n",
       "      <td>2018-09-01 12:00:00+00:00</td>\n",
       "      <td>Документальный</td>\n",
       "      <td>NaN</td>\n",
       "      <td>Россия</td>\n",
       "      <td>В.Марин</td>\n",
       "      <td>Д.Якунин, Ф.Абрютин, О.Филонова</td>\n",
       "      <td>«6+» - для детей старше 6 лет</td>\n",
       "      <td>NaN</td>\n",
       "      <td>NaN</td>\n",
       "      <td>NaN</td>\n",
       "      <td>NaN</td>\n",
       "      <td>0.00</td>\n",
       "      <td>NaN</td>\n",
       "      <td>NaN</td>\n",
       "    </tr>\n",
       "    <tr>\n",
       "      <th>6378</th>\n",
       "      <td>Ян Антонышев</td>\n",
       "      <td>112011818</td>\n",
       "      <td>2018-11-15 12:00:00+00:00</td>\n",
       "      <td>Документальный</td>\n",
       "      <td>NaN</td>\n",
       "      <td>Россия</td>\n",
       "      <td>Е.Окопная</td>\n",
       "      <td>Е.Герасимов</td>\n",
       "      <td>«12+» - для детей старше 12 лет</td>\n",
       "      <td>NaN</td>\n",
       "      <td>NaN</td>\n",
       "      <td>NaN</td>\n",
       "      <td>NaN</td>\n",
       "      <td>0.00</td>\n",
       "      <td>NaN</td>\n",
       "      <td>NaN</td>\n",
       "    </tr>\n",
       "  </tbody>\n",
       "</table>\n",
       "</div>"
      ],
      "text/plain": [
       "                         title   puNumber           show_start_date  \\\n",
       "1293           Stars in Shorts  121011114 2014-06-03 12:00:00+00:00   \n",
       "4440  Мульт личности. Выпуск 5  214000410 2010-01-25 12:00:00+00:00   \n",
       "6104              Значит любит  111013818 2018-08-10 12:00:00+00:00   \n",
       "6180     Несейка. Младшая дочь  112007018 2018-09-01 12:00:00+00:00   \n",
       "6378              Ян Антонышев  112011818 2018-11-15 12:00:00+00:00   \n",
       "\n",
       "                 type film_studio   production_country  \\\n",
       "1293   Художественный         NaN  США, Великобритания   \n",
       "4440   Художественный         NaN                  NaN   \n",
       "6104   Художественный         NaN               Россия   \n",
       "6180   Документальный         NaN               Россия   \n",
       "6378   Документальный         NaN               Россия   \n",
       "\n",
       "                                               director  \\\n",
       "1293  Роберт Фестингер, Руперт Френд, Джей Камен, Ни...   \n",
       "4440                                                NaN   \n",
       "6104                                        А.Краевский   \n",
       "6180                                            В.Марин   \n",
       "6378                                          Е.Окопная   \n",
       "\n",
       "                                               producer  \\\n",
       "1293  Татьяна Келли, Роберта Мунро, Руперт Френд, До...   \n",
       "4440                                                NaN   \n",
       "6104                                        Е.Щербакова   \n",
       "6180                    Д.Якунин, Ф.Абрютин, О.Филонова   \n",
       "6378                                        Е.Герасимов   \n",
       "\n",
       "                             age_restriction  refundable_support  \\\n",
       "1293         «16+» - для детей старше 16 лет                 NaN   \n",
       "4440  «0+» - для любой зрительской аудитории                 NaN   \n",
       "6104             «18+» - запрещено для детей                 NaN   \n",
       "6180           «6+» - для детей старше 6 лет                 NaN   \n",
       "6378         «12+» - для детей старше 12 лет                 NaN   \n",
       "\n",
       "      nonrefundable_support  budget financing_source  ratings  \\\n",
       "1293                    NaN     NaN              NaN     7.30   \n",
       "4440                    NaN     NaN              NaN     4.00   \n",
       "6104                    NaN     NaN              NaN     0.00   \n",
       "6180                    NaN     NaN              NaN     0.00   \n",
       "6378                    NaN     NaN              NaN     0.00   \n",
       "\n",
       "                  genres  box_office  \n",
       "1293             комедия         NaN  \n",
       "4440  мультфильм,комедия         NaN  \n",
       "6104                 NaN         NaN  \n",
       "6180                 NaN         NaN  \n",
       "6378                 NaN         NaN  "
      ]
     },
     "execution_count": 28,
     "metadata": {},
     "output_type": "execute_result"
    }
   ],
   "source": [
    "data.loc[data['film_studio'].isna()].head(5)"
   ]
  },
  {
   "cell_type": "markdown",
   "metadata": {},
   "source": [
    "Данных о студии нет в соседних ячейках, заполним значением Без студии."
   ]
  },
  {
   "cell_type": "code",
   "execution_count": 29,
   "metadata": {},
   "outputs": [],
   "source": [
    "data['film_studio'] = data['film_studio'].fillna(value='Без студии')"
   ]
  },
  {
   "cell_type": "markdown",
   "metadata": {},
   "source": [
    "##### production_country"
   ]
  },
  {
   "cell_type": "markdown",
   "metadata": {},
   "source": [
    "Посмотрим на несколько первых отсутствующих значений."
   ]
  },
  {
   "cell_type": "code",
   "execution_count": 30,
   "metadata": {},
   "outputs": [
    {
     "data": {
      "text/html": [
       "<div>\n",
       "<style scoped>\n",
       "    .dataframe tbody tr th:only-of-type {\n",
       "        vertical-align: middle;\n",
       "    }\n",
       "\n",
       "    .dataframe tbody tr th {\n",
       "        vertical-align: top;\n",
       "    }\n",
       "\n",
       "    .dataframe thead th {\n",
       "        text-align: right;\n",
       "    }\n",
       "</style>\n",
       "<table border=\"1\" class=\"dataframe\">\n",
       "  <thead>\n",
       "    <tr style=\"text-align: right;\">\n",
       "      <th></th>\n",
       "      <th>title</th>\n",
       "      <th>puNumber</th>\n",
       "      <th>show_start_date</th>\n",
       "      <th>type</th>\n",
       "      <th>film_studio</th>\n",
       "      <th>production_country</th>\n",
       "      <th>director</th>\n",
       "      <th>producer</th>\n",
       "      <th>age_restriction</th>\n",
       "      <th>refundable_support</th>\n",
       "      <th>nonrefundable_support</th>\n",
       "      <th>budget</th>\n",
       "      <th>financing_source</th>\n",
       "      <th>ratings</th>\n",
       "      <th>genres</th>\n",
       "      <th>box_office</th>\n",
       "    </tr>\n",
       "  </thead>\n",
       "  <tbody>\n",
       "    <tr>\n",
       "      <th>3185</th>\n",
       "      <td>Детский юмористический киножурнал \"Ералаш. Ну ...</td>\n",
       "      <td>111001216</td>\n",
       "      <td>2016-02-09 12:00:00+00:00</td>\n",
       "      <td>Художественный</td>\n",
       "      <td>ООО \"Продюсерский центр ЕРАЛАШ\"</td>\n",
       "      <td>NaN</td>\n",
       "      <td>Р.Светлов, И.Магитон, А.Арутюнян, Л.Мирский, А...</td>\n",
       "      <td>ООО \"Продюсерский центр ЕРАЛАШ\"</td>\n",
       "      <td>«0+» - для любой зрительской аудитории</td>\n",
       "      <td>NaN</td>\n",
       "      <td>NaN</td>\n",
       "      <td>NaN</td>\n",
       "      <td>NaN</td>\n",
       "      <td>7.20</td>\n",
       "      <td>детский,комедия</td>\n",
       "      <td>194527.00</td>\n",
       "    </tr>\n",
       "    <tr>\n",
       "      <th>4440</th>\n",
       "      <td>Мульт личности. Выпуск 5</td>\n",
       "      <td>214000410</td>\n",
       "      <td>2010-01-25 12:00:00+00:00</td>\n",
       "      <td>Художественный</td>\n",
       "      <td>Без студии</td>\n",
       "      <td>NaN</td>\n",
       "      <td>NaN</td>\n",
       "      <td>NaN</td>\n",
       "      <td>«0+» - для любой зрительской аудитории</td>\n",
       "      <td>NaN</td>\n",
       "      <td>NaN</td>\n",
       "      <td>NaN</td>\n",
       "      <td>NaN</td>\n",
       "      <td>4.00</td>\n",
       "      <td>мультфильм,комедия</td>\n",
       "      <td>NaN</td>\n",
       "    </tr>\n",
       "  </tbody>\n",
       "</table>\n",
       "</div>"
      ],
      "text/plain": [
       "                                                  title   puNumber  \\\n",
       "3185  Детский юмористический киножурнал \"Ералаш. Ну ...  111001216   \n",
       "4440                           Мульт личности. Выпуск 5  214000410   \n",
       "\n",
       "               show_start_date            type  \\\n",
       "3185 2016-02-09 12:00:00+00:00  Художественный   \n",
       "4440 2010-01-25 12:00:00+00:00  Художественный   \n",
       "\n",
       "                          film_studio production_country  \\\n",
       "3185  ООО \"Продюсерский центр ЕРАЛАШ\"                NaN   \n",
       "4440                       Без студии                NaN   \n",
       "\n",
       "                                               director  \\\n",
       "3185  Р.Светлов, И.Магитон, А.Арутюнян, Л.Мирский, А...   \n",
       "4440                                                NaN   \n",
       "\n",
       "                             producer                         age_restriction  \\\n",
       "3185  ООО \"Продюсерский центр ЕРАЛАШ\"  «0+» - для любой зрительской аудитории   \n",
       "4440                              NaN  «0+» - для любой зрительской аудитории   \n",
       "\n",
       "      refundable_support  nonrefundable_support  budget financing_source  \\\n",
       "3185                 NaN                    NaN     NaN              NaN   \n",
       "4440                 NaN                    NaN     NaN              NaN   \n",
       "\n",
       "      ratings              genres  box_office  \n",
       "3185     7.20     детский,комедия   194527.00  \n",
       "4440     4.00  мультфильм,комедия         NaN  "
      ]
     },
     "execution_count": 30,
     "metadata": {},
     "output_type": "execute_result"
    }
   ],
   "source": [
    "data.loc[data['production_country'].isna()].head(5)"
   ]
  },
  {
   "cell_type": "code",
   "execution_count": 32,
   "metadata": {},
   "outputs": [],
   "source": [
    "data['production_country'] = data['production_country'].fillna(value='Россия')"
   ]
  },
  {
   "cell_type": "markdown",
   "metadata": {},
   "source": [
    "##### financing_source"
   ]
  },
  {
   "cell_type": "markdown",
   "metadata": {},
   "source": [
    "Посмотрим на несколько первых отсутствующих значений."
   ]
  },
  {
   "cell_type": "code",
   "execution_count": 33,
   "metadata": {},
   "outputs": [
    {
     "data": {
      "text/html": [
       "<div>\n",
       "<style scoped>\n",
       "    .dataframe tbody tr th:only-of-type {\n",
       "        vertical-align: middle;\n",
       "    }\n",
       "\n",
       "    .dataframe tbody tr th {\n",
       "        vertical-align: top;\n",
       "    }\n",
       "\n",
       "    .dataframe thead th {\n",
       "        text-align: right;\n",
       "    }\n",
       "</style>\n",
       "<table border=\"1\" class=\"dataframe\">\n",
       "  <thead>\n",
       "    <tr style=\"text-align: right;\">\n",
       "      <th></th>\n",
       "      <th>title</th>\n",
       "      <th>puNumber</th>\n",
       "      <th>show_start_date</th>\n",
       "      <th>type</th>\n",
       "      <th>film_studio</th>\n",
       "      <th>production_country</th>\n",
       "      <th>director</th>\n",
       "      <th>producer</th>\n",
       "      <th>age_restriction</th>\n",
       "      <th>refundable_support</th>\n",
       "      <th>nonrefundable_support</th>\n",
       "      <th>budget</th>\n",
       "      <th>financing_source</th>\n",
       "      <th>ratings</th>\n",
       "      <th>genres</th>\n",
       "      <th>box_office</th>\n",
       "    </tr>\n",
       "  </thead>\n",
       "  <tbody>\n",
       "    <tr>\n",
       "      <th>0</th>\n",
       "      <td>Открытый простор</td>\n",
       "      <td>221048915</td>\n",
       "      <td>2015-11-27 12:00:00+00:00</td>\n",
       "      <td>Художественный</td>\n",
       "      <td>Тачстоун Пикчерз, Кобальт Пикчерз, Бикон Пикче...</td>\n",
       "      <td>США</td>\n",
       "      <td>Кевин Костнер</td>\n",
       "      <td>Дэвид Валдес, Кевин Костнер, Джейк Эбертс</td>\n",
       "      <td>«18+» - запрещено для детей</td>\n",
       "      <td>NaN</td>\n",
       "      <td>NaN</td>\n",
       "      <td>NaN</td>\n",
       "      <td>NaN</td>\n",
       "      <td>7.20</td>\n",
       "      <td>боевик,драма,мелодрама</td>\n",
       "      <td>NaN</td>\n",
       "    </tr>\n",
       "    <tr>\n",
       "      <th>1</th>\n",
       "      <td>Особо важное задание</td>\n",
       "      <td>111013716</td>\n",
       "      <td>2016-09-13 12:00:00+00:00</td>\n",
       "      <td>Художественный</td>\n",
       "      <td>Киностудия \"Мосфильм\"</td>\n",
       "      <td>СССР</td>\n",
       "      <td>Е.Матвеев</td>\n",
       "      <td>NaN</td>\n",
       "      <td>«6+» - для детей старше 6 лет</td>\n",
       "      <td>NaN</td>\n",
       "      <td>NaN</td>\n",
       "      <td>NaN</td>\n",
       "      <td>NaN</td>\n",
       "      <td>6.60</td>\n",
       "      <td>драма,военный</td>\n",
       "      <td>NaN</td>\n",
       "    </tr>\n",
       "    <tr>\n",
       "      <th>2</th>\n",
       "      <td>Особо опасен</td>\n",
       "      <td>221038416</td>\n",
       "      <td>2016-10-10 12:00:00+00:00</td>\n",
       "      <td>Художественный</td>\n",
       "      <td>Юниверсал Пикчерз, Кикстарт Продакшнз, Марк Пл...</td>\n",
       "      <td>США</td>\n",
       "      <td>Тимур Бекмамбетов</td>\n",
       "      <td>Джим Лемли, Джейсон Нетер, Марк Е.Платт, Яйн Смит</td>\n",
       "      <td>«18+» - запрещено для детей</td>\n",
       "      <td>NaN</td>\n",
       "      <td>NaN</td>\n",
       "      <td>NaN</td>\n",
       "      <td>NaN</td>\n",
       "      <td>6.80</td>\n",
       "      <td>фантастика,боевик,триллер</td>\n",
       "      <td>NaN</td>\n",
       "    </tr>\n",
       "    <tr>\n",
       "      <th>3</th>\n",
       "      <td>Особо опасен</td>\n",
       "      <td>221026916</td>\n",
       "      <td>2016-06-10 12:00:00+00:00</td>\n",
       "      <td>Художественный</td>\n",
       "      <td>Юниверсал Пикчерз, Кикстарт Продакшнз, Марк Пл...</td>\n",
       "      <td>США</td>\n",
       "      <td>Тимур Бекмамбетов</td>\n",
       "      <td>Джим Лемли, Джейсон Нетер, Марк Е.Платт, Яйн Смит</td>\n",
       "      <td>«18+» - запрещено для детей</td>\n",
       "      <td>NaN</td>\n",
       "      <td>NaN</td>\n",
       "      <td>NaN</td>\n",
       "      <td>NaN</td>\n",
       "      <td>6.80</td>\n",
       "      <td>фантастика,боевик,триллер</td>\n",
       "      <td>NaN</td>\n",
       "    </tr>\n",
       "    <tr>\n",
       "      <th>4</th>\n",
       "      <td>Особо опасен</td>\n",
       "      <td>221030815</td>\n",
       "      <td>2015-07-29 12:00:00+00:00</td>\n",
       "      <td>Художественный</td>\n",
       "      <td>Юниверсал Пикчерз, Кикстарт Продакшнз, Марк Пл...</td>\n",
       "      <td>США</td>\n",
       "      <td>Тимур Бекмамбетов</td>\n",
       "      <td>Джим Лемли, Джейсон Нетер, Марк Е.Платт, Яйн Смит</td>\n",
       "      <td>«18+» - запрещено для детей</td>\n",
       "      <td>NaN</td>\n",
       "      <td>NaN</td>\n",
       "      <td>NaN</td>\n",
       "      <td>NaN</td>\n",
       "      <td>6.80</td>\n",
       "      <td>фантастика,боевик,триллер</td>\n",
       "      <td>NaN</td>\n",
       "    </tr>\n",
       "  </tbody>\n",
       "</table>\n",
       "</div>"
      ],
      "text/plain": [
       "                  title   puNumber           show_start_date            type  \\\n",
       "0      Открытый простор  221048915 2015-11-27 12:00:00+00:00  Художественный   \n",
       "1  Особо важное задание  111013716 2016-09-13 12:00:00+00:00  Художественный   \n",
       "2          Особо опасен  221038416 2016-10-10 12:00:00+00:00  Художественный   \n",
       "3          Особо опасен  221026916 2016-06-10 12:00:00+00:00  Художественный   \n",
       "4          Особо опасен  221030815 2015-07-29 12:00:00+00:00  Художественный   \n",
       "\n",
       "                                         film_studio production_country  \\\n",
       "0  Тачстоун Пикчерз, Кобальт Пикчерз, Бикон Пикче...                США   \n",
       "1                              Киностудия \"Мосфильм\"               СССР   \n",
       "2  Юниверсал Пикчерз, Кикстарт Продакшнз, Марк Пл...                США   \n",
       "3  Юниверсал Пикчерз, Кикстарт Продакшнз, Марк Пл...                США   \n",
       "4  Юниверсал Пикчерз, Кикстарт Продакшнз, Марк Пл...                США   \n",
       "\n",
       "            director                                           producer  \\\n",
       "0      Кевин Костнер          Дэвид Валдес, Кевин Костнер, Джейк Эбертс   \n",
       "1          Е.Матвеев                                                NaN   \n",
       "2  Тимур Бекмамбетов  Джим Лемли, Джейсон Нетер, Марк Е.Платт, Яйн Смит   \n",
       "3  Тимур Бекмамбетов  Джим Лемли, Джейсон Нетер, Марк Е.Платт, Яйн Смит   \n",
       "4  Тимур Бекмамбетов  Джим Лемли, Джейсон Нетер, Марк Е.Платт, Яйн Смит   \n",
       "\n",
       "                 age_restriction  refundable_support  nonrefundable_support  \\\n",
       "0    «18+» - запрещено для детей                 NaN                    NaN   \n",
       "1  «6+» - для детей старше 6 лет                 NaN                    NaN   \n",
       "2    «18+» - запрещено для детей                 NaN                    NaN   \n",
       "3    «18+» - запрещено для детей                 NaN                    NaN   \n",
       "4    «18+» - запрещено для детей                 NaN                    NaN   \n",
       "\n",
       "   budget financing_source  ratings                     genres  box_office  \n",
       "0     NaN              NaN     7.20     боевик,драма,мелодрама         NaN  \n",
       "1     NaN              NaN     6.60              драма,военный         NaN  \n",
       "2     NaN              NaN     6.80  фантастика,боевик,триллер         NaN  \n",
       "3     NaN              NaN     6.80  фантастика,боевик,триллер         NaN  \n",
       "4     NaN              NaN     6.80  фантастика,боевик,триллер         NaN  "
      ]
     },
     "execution_count": 33,
     "metadata": {},
     "output_type": "execute_result"
    }
   ],
   "source": [
    "data.loc[data['financing_source'].isna()].head(5)"
   ]
  },
  {
   "cell_type": "markdown",
   "metadata": {},
   "source": [
    "Тут также нечем заполнять, кроме как условленным ранее значением Коммерческий."
   ]
  },
  {
   "cell_type": "code",
   "execution_count": 34,
   "metadata": {},
   "outputs": [],
   "source": [
    "data['financing_source'] = data['financing_source'].fillna(value='Коммерческий')"
   ]
  },
  {
   "cell_type": "markdown",
   "metadata": {},
   "source": [
    "##### genres"
   ]
  },
  {
   "cell_type": "markdown",
   "metadata": {},
   "source": [
    "Посмотрим на несколько первых отсутствующих значений."
   ]
  },
  {
   "cell_type": "code",
   "execution_count": 35,
   "metadata": {},
   "outputs": [
    {
     "data": {
      "text/html": [
       "<div>\n",
       "<style scoped>\n",
       "    .dataframe tbody tr th:only-of-type {\n",
       "        vertical-align: middle;\n",
       "    }\n",
       "\n",
       "    .dataframe tbody tr th {\n",
       "        vertical-align: top;\n",
       "    }\n",
       "\n",
       "    .dataframe thead th {\n",
       "        text-align: right;\n",
       "    }\n",
       "</style>\n",
       "<table border=\"1\" class=\"dataframe\">\n",
       "  <thead>\n",
       "    <tr style=\"text-align: right;\">\n",
       "      <th></th>\n",
       "      <th>title</th>\n",
       "      <th>puNumber</th>\n",
       "      <th>show_start_date</th>\n",
       "      <th>type</th>\n",
       "      <th>film_studio</th>\n",
       "      <th>production_country</th>\n",
       "      <th>director</th>\n",
       "      <th>producer</th>\n",
       "      <th>age_restriction</th>\n",
       "      <th>refundable_support</th>\n",
       "      <th>nonrefundable_support</th>\n",
       "      <th>budget</th>\n",
       "      <th>financing_source</th>\n",
       "      <th>ratings</th>\n",
       "      <th>genres</th>\n",
       "      <th>box_office</th>\n",
       "    </tr>\n",
       "  </thead>\n",
       "  <tbody>\n",
       "    <tr>\n",
       "      <th>43</th>\n",
       "      <td>Мемуары гейши (по роману Артура Голдена)</td>\n",
       "      <td>121000606</td>\n",
       "      <td>2012-12-14 12:00:00+00:00</td>\n",
       "      <td>Художественный</td>\n",
       "      <td>Коламбия Пикчерз Корпорейшн, ДримУоркс ЭсКейДж...</td>\n",
       "      <td>США</td>\n",
       "      <td>Роб Маршалл</td>\n",
       "      <td>Стивен Спилберг, Люси Фишер, Дуглас Уик, Джон ...</td>\n",
       "      <td>«12+» - для детей старше 12 лет</td>\n",
       "      <td>NaN</td>\n",
       "      <td>NaN</td>\n",
       "      <td>NaN</td>\n",
       "      <td>Коммерческий</td>\n",
       "      <td>0.00</td>\n",
       "      <td>NaN</td>\n",
       "      <td>NaN</td>\n",
       "    </tr>\n",
       "    <tr>\n",
       "      <th>150</th>\n",
       "      <td>Жди меня</td>\n",
       "      <td>111013615</td>\n",
       "      <td>2015-08-25 12:00:00+00:00</td>\n",
       "      <td>Художественный</td>\n",
       "      <td>Киностудия \"Мосфильм\"</td>\n",
       "      <td>СССР</td>\n",
       "      <td>А.Столпер, Б.Иванов</td>\n",
       "      <td>NaN</td>\n",
       "      <td>«6+» - для детей старше 6 лет</td>\n",
       "      <td>NaN</td>\n",
       "      <td>NaN</td>\n",
       "      <td>NaN</td>\n",
       "      <td>Коммерческий</td>\n",
       "      <td>0.00</td>\n",
       "      <td>NaN</td>\n",
       "      <td>NaN</td>\n",
       "    </tr>\n",
       "    <tr>\n",
       "      <th>154</th>\n",
       "      <td>Дом из песка и тумана (по книге Андре Дюбуи III)</td>\n",
       "      <td>221037813</td>\n",
       "      <td>2013-10-25 12:00:00+00:00</td>\n",
       "      <td>Художественный</td>\n",
       "      <td>Кобальт Пикчерз</td>\n",
       "      <td>США</td>\n",
       "      <td>Вадим Перельман</td>\n",
       "      <td>Майкл Лондон</td>\n",
       "      <td>«16+» - для детей старше 16 лет</td>\n",
       "      <td>NaN</td>\n",
       "      <td>NaN</td>\n",
       "      <td>NaN</td>\n",
       "      <td>Коммерческий</td>\n",
       "      <td>0.00</td>\n",
       "      <td>NaN</td>\n",
       "      <td>NaN</td>\n",
       "    </tr>\n",
       "    <tr>\n",
       "      <th>159</th>\n",
       "      <td>Жемчужная девушка</td>\n",
       "      <td>224011014</td>\n",
       "      <td>2014-08-28 12:00:00+00:00</td>\n",
       "      <td>Художественный</td>\n",
       "      <td>Чешское телевидение,Студия \"Три брата\" агентск...</td>\n",
       "      <td>Чехия</td>\n",
       "      <td>Владимир Дрга</td>\n",
       "      <td>NaN</td>\n",
       "      <td>«0+» - для любой зрительской аудитории</td>\n",
       "      <td>NaN</td>\n",
       "      <td>NaN</td>\n",
       "      <td>NaN</td>\n",
       "      <td>Коммерческий</td>\n",
       "      <td>0.00</td>\n",
       "      <td>NaN</td>\n",
       "      <td>NaN</td>\n",
       "    </tr>\n",
       "    <tr>\n",
       "      <th>227</th>\n",
       "      <td>Полустанок</td>\n",
       "      <td>111026714</td>\n",
       "      <td>2014-12-24 12:00:00+00:00</td>\n",
       "      <td>Художественный</td>\n",
       "      <td>Киностудия \"Мосфильм\"</td>\n",
       "      <td>СССР</td>\n",
       "      <td>Б.Барнет</td>\n",
       "      <td>NaN</td>\n",
       "      <td>«12+» - для детей старше 12 лет</td>\n",
       "      <td>NaN</td>\n",
       "      <td>NaN</td>\n",
       "      <td>NaN</td>\n",
       "      <td>Коммерческий</td>\n",
       "      <td>0.00</td>\n",
       "      <td>NaN</td>\n",
       "      <td>NaN</td>\n",
       "    </tr>\n",
       "  </tbody>\n",
       "</table>\n",
       "</div>"
      ],
      "text/plain": [
       "                                                title   puNumber  \\\n",
       "43           Мемуары гейши (по роману Артура Голдена)  121000606   \n",
       "150                                          Жди меня  111013615   \n",
       "154  Дом из песка и тумана (по книге Андре Дюбуи III)  221037813   \n",
       "159                                 Жемчужная девушка  224011014   \n",
       "227                                        Полустанок  111026714   \n",
       "\n",
       "              show_start_date            type  \\\n",
       "43  2012-12-14 12:00:00+00:00  Художественный   \n",
       "150 2015-08-25 12:00:00+00:00  Художественный   \n",
       "154 2013-10-25 12:00:00+00:00  Художественный   \n",
       "159 2014-08-28 12:00:00+00:00  Художественный   \n",
       "227 2014-12-24 12:00:00+00:00  Художественный   \n",
       "\n",
       "                                           film_studio production_country  \\\n",
       "43   Коламбия Пикчерз Корпорейшн, ДримУоркс ЭсКейДж...                США   \n",
       "150                              Киностудия \"Мосфильм\"               СССР   \n",
       "154                                    Кобальт Пикчерз                США   \n",
       "159  Чешское телевидение,Студия \"Три брата\" агентск...              Чехия   \n",
       "227                              Киностудия \"Мосфильм\"               СССР   \n",
       "\n",
       "                director                                           producer  \\\n",
       "43           Роб Маршалл  Стивен Спилберг, Люси Фишер, Дуглас Уик, Джон ...   \n",
       "150  А.Столпер, Б.Иванов                                                NaN   \n",
       "154      Вадим Перельман                                       Майкл Лондон   \n",
       "159        Владимир Дрга                                                NaN   \n",
       "227             Б.Барнет                                                NaN   \n",
       "\n",
       "                            age_restriction  refundable_support  \\\n",
       "43          «12+» - для детей старше 12 лет                 NaN   \n",
       "150           «6+» - для детей старше 6 лет                 NaN   \n",
       "154         «16+» - для детей старше 16 лет                 NaN   \n",
       "159  «0+» - для любой зрительской аудитории                 NaN   \n",
       "227         «12+» - для детей старше 12 лет                 NaN   \n",
       "\n",
       "     nonrefundable_support  budget financing_source  ratings genres  \\\n",
       "43                     NaN     NaN     Коммерческий     0.00    NaN   \n",
       "150                    NaN     NaN     Коммерческий     0.00    NaN   \n",
       "154                    NaN     NaN     Коммерческий     0.00    NaN   \n",
       "159                    NaN     NaN     Коммерческий     0.00    NaN   \n",
       "227                    NaN     NaN     Коммерческий     0.00    NaN   \n",
       "\n",
       "     box_office  \n",
       "43          NaN  \n",
       "150         NaN  \n",
       "154         NaN  \n",
       "159         NaN  \n",
       "227         NaN  "
      ]
     },
     "execution_count": 35,
     "metadata": {},
     "output_type": "execute_result"
    }
   ],
   "source": [
    "data.loc[data['genres'].isna()].head(5)"
   ]
  },
  {
   "cell_type": "markdown",
   "metadata": {},
   "source": [
    "Тут также нечем заполнять, кроме как условленным ранее значением Без жанра."
   ]
  },
  {
   "cell_type": "code",
   "execution_count": 36,
   "metadata": {},
   "outputs": [],
   "source": [
    "data['genres'] = data['genres'].fillna(value='Без жанра')"
   ]
  },
  {
   "cell_type": "markdown",
   "metadata": {},
   "source": [
    "##### director, producer"
   ]
  },
  {
   "cell_type": "markdown",
   "metadata": {},
   "source": [
    "Предположим, что если значение указано только в одной из ячеек, то этот человек исполнял роль режисера и продюсера одновременно, можно заполнить эти ячейки соответственно из соседних. Если данных вовсе нет, заполним ранее условленным значением Без директора и Без продюсера."
   ]
  },
  {
   "cell_type": "code",
   "execution_count": 37,
   "metadata": {},
   "outputs": [],
   "source": [
    "data['director'] = data['director'].fillna(value=data['producer'])\n",
    "data['producer'] = data['producer'].fillna(value=data['director'])\n",
    "data['director'] = data['director'].fillna(value='Без директора')\n",
    "data['producer'] = data['producer'].fillna(value='Без продюсера')"
   ]
  },
  {
   "cell_type": "markdown",
   "metadata": {},
   "source": [
    "##### refundable_support"
   ]
  },
  {
   "cell_type": "markdown",
   "metadata": {},
   "source": [
    "Если данные не указаны, вероятно это частный коммерческий проект, либо данные не указаны. Заполним значением 0."
   ]
  },
  {
   "cell_type": "code",
   "execution_count": 38,
   "metadata": {},
   "outputs": [],
   "source": [
    "data['refundable_support'] = data['refundable_support'].fillna(value=0)"
   ]
  },
  {
   "cell_type": "markdown",
   "metadata": {},
   "source": [
    "##### nonrefundable_support"
   ]
  },
  {
   "cell_type": "markdown",
   "metadata": {},
   "source": [
    "Если данные не указаны, вероятно для этой ленты не было государственной поддержки, либо данные не указаны. Заполним значением 0."
   ]
  },
  {
   "cell_type": "code",
   "execution_count": 39,
   "metadata": {},
   "outputs": [],
   "source": [
    "data['nonrefundable_support'] = data['nonrefundable_support'].fillna(value=0)"
   ]
  },
  {
   "cell_type": "markdown",
   "metadata": {},
   "source": [
    "##### budget"
   ]
  },
  {
   "cell_type": "markdown",
   "metadata": {},
   "source": [
    "Так как столбец включает в себя полный объём государственной поддержки, то данные в этом столбце указаны только для тех фильмов, которые получили государственную поддержку. Заполним остальные значение как 0."
   ]
  },
  {
   "cell_type": "code",
   "execution_count": 40,
   "metadata": {},
   "outputs": [],
   "source": [
    "data['budget'] = data['budget'].fillna(value=0)"
   ]
  },
  {
   "cell_type": "markdown",
   "metadata": {},
   "source": [
    "##### box_office"
   ]
  },
  {
   "cell_type": "markdown",
   "metadata": {},
   "source": [
    "Данные о сборах указаны не для всех фильмов, взять эти значения неоткуда, заполним их как 0."
   ]
  },
  {
   "cell_type": "code",
   "execution_count": 41,
   "metadata": {},
   "outputs": [],
   "source": [
    "data['box_office'] = data['box_office'].fillna(value=0)"
   ]
  },
  {
   "cell_type": "markdown",
   "metadata": {
    "id": "4c6k1t9ygFyQ"
   },
   "source": [
    "#### Шаг 2.3. Изучите дубликаты в датафрейме\n",
    "- Проверьте, есть ли в данных дубликаты. Опишите причины, которые могли повлиять на появление дублей."
   ]
  },
  {
   "cell_type": "markdown",
   "metadata": {
    "id": "aKck8RIdgFyQ"
   },
   "source": [
    "Проверим значения на идентичные строки."
   ]
  },
  {
   "cell_type": "code",
   "execution_count": 42,
   "metadata": {},
   "outputs": [
    {
     "data": {
      "text/plain": [
       "0"
      ]
     },
     "execution_count": 42,
     "metadata": {},
     "output_type": "execute_result"
    }
   ],
   "source": [
    "data.duplicated().sum()"
   ]
  },
  {
   "cell_type": "markdown",
   "metadata": {},
   "source": [
    "Полных совпадений в данных нет."
   ]
  },
  {
   "cell_type": "markdown",
   "metadata": {},
   "source": [
    "Посмотрим на общее количество уникальных значений по каждому столбцу."
   ]
  },
  {
   "cell_type": "code",
   "execution_count": 43,
   "metadata": {},
   "outputs": [
    {
     "data": {
      "text/plain": [
       "title                    6771\n",
       "puNumber                 7483\n",
       "show_start_date          1964\n",
       "type                        8\n",
       "film_studio              5491\n",
       "production_country        950\n",
       "director                 4817\n",
       "producer                 5714\n",
       "age_restriction             5\n",
       "refundable_support         34\n",
       "nonrefundable_support      75\n",
       "budget                    290\n",
       "financing_source            4\n",
       "ratings                    85\n",
       "genres                    743\n",
       "box_office               2938\n",
       "dtype: int64"
      ]
     },
     "execution_count": 43,
     "metadata": {},
     "output_type": "execute_result"
    }
   ],
   "source": [
    "data.nunique()"
   ]
  },
  {
   "cell_type": "markdown",
   "metadata": {},
   "source": [
    "Попробуем найти фильмы, которые совпадают по полям названия, даты премьеры, типа, студии-производителя, страны-производителя и директора. Сделаем это из соображений, что фильмы могли задублироваться."
   ]
  },
  {
   "cell_type": "code",
   "execution_count": 44,
   "metadata": {},
   "outputs": [
    {
     "data": {
      "text/html": [
       "<div>\n",
       "<style scoped>\n",
       "    .dataframe tbody tr th:only-of-type {\n",
       "        vertical-align: middle;\n",
       "    }\n",
       "\n",
       "    .dataframe tbody tr th {\n",
       "        vertical-align: top;\n",
       "    }\n",
       "\n",
       "    .dataframe thead th {\n",
       "        text-align: right;\n",
       "    }\n",
       "</style>\n",
       "<table border=\"1\" class=\"dataframe\">\n",
       "  <thead>\n",
       "    <tr style=\"text-align: right;\">\n",
       "      <th></th>\n",
       "      <th>title</th>\n",
       "      <th>puNumber</th>\n",
       "      <th>show_start_date</th>\n",
       "      <th>type</th>\n",
       "      <th>film_studio</th>\n",
       "      <th>production_country</th>\n",
       "      <th>director</th>\n",
       "      <th>producer</th>\n",
       "      <th>age_restriction</th>\n",
       "      <th>refundable_support</th>\n",
       "      <th>nonrefundable_support</th>\n",
       "      <th>budget</th>\n",
       "      <th>financing_source</th>\n",
       "      <th>ratings</th>\n",
       "      <th>genres</th>\n",
       "      <th>box_office</th>\n",
       "    </tr>\n",
       "  </thead>\n",
       "  <tbody>\n",
       "    <tr>\n",
       "      <th>1300</th>\n",
       "      <td>Эпидемия_</td>\n",
       "      <td>121025713</td>\n",
       "      <td>2013-10-07 12:00:00+00:00</td>\n",
       "      <td>Художественный</td>\n",
       "      <td>Морена Фильм, Ребелион Террестр, А 3 Медиа Гру...</td>\n",
       "      <td>Испания - Франция</td>\n",
       "      <td>Алекс Пастор, Давид Пастор</td>\n",
       "      <td>Мерседес Гамеро, Альберто Марини, Педро Уриоль</td>\n",
       "      <td>«16+» - для детей старше 16 лет</td>\n",
       "      <td>0.00</td>\n",
       "      <td>0.00</td>\n",
       "      <td>0.00</td>\n",
       "      <td>Коммерческий</td>\n",
       "      <td>7.20</td>\n",
       "      <td>драма,фантастика,триллер</td>\n",
       "      <td>0.00</td>\n",
       "    </tr>\n",
       "    <tr>\n",
       "      <th>1301</th>\n",
       "      <td>Эпидемия_</td>\n",
       "      <td>221035513</td>\n",
       "      <td>2013-10-07 12:00:00+00:00</td>\n",
       "      <td>Художественный</td>\n",
       "      <td>Морена Фильм, Ребелион Террестр, А 3 Медиа Гру...</td>\n",
       "      <td>Испания - Франция</td>\n",
       "      <td>Алекс Пастор, Давид Пастор</td>\n",
       "      <td>Мерседес Гамеро, Альберто Марини, Педро Уриоль</td>\n",
       "      <td>«16+» - для детей старше 16 лет</td>\n",
       "      <td>0.00</td>\n",
       "      <td>0.00</td>\n",
       "      <td>0.00</td>\n",
       "      <td>Коммерческий</td>\n",
       "      <td>7.20</td>\n",
       "      <td>драма,фантастика,триллер</td>\n",
       "      <td>0.00</td>\n",
       "    </tr>\n",
       "    <tr>\n",
       "      <th>1475</th>\n",
       "      <td>Оторвы</td>\n",
       "      <td>121006514</td>\n",
       "      <td>2014-04-07 12:00:00+00:00</td>\n",
       "      <td>Художественный</td>\n",
       "      <td>Проминент Пикчерз, Ворлдвью Интертейнмент, Инд...</td>\n",
       "      <td>США</td>\n",
       "      <td>Кристофер Нельсон</td>\n",
       "      <td>Молли Коннерс, Хезер Рэй</td>\n",
       "      <td>«16+» - для детей старше 16 лет</td>\n",
       "      <td>0.00</td>\n",
       "      <td>0.00</td>\n",
       "      <td>0.00</td>\n",
       "      <td>Коммерческий</td>\n",
       "      <td>3.50</td>\n",
       "      <td>комедия,приключения</td>\n",
       "      <td>0.00</td>\n",
       "    </tr>\n",
       "    <tr>\n",
       "      <th>1476</th>\n",
       "      <td>Оторвы</td>\n",
       "      <td>221013214</td>\n",
       "      <td>2014-04-07 12:00:00+00:00</td>\n",
       "      <td>Художественный</td>\n",
       "      <td>Проминент Пикчерз, Ворлдвью Интертейнмент, Инд...</td>\n",
       "      <td>США</td>\n",
       "      <td>Кристофер Нельсон</td>\n",
       "      <td>Молли Коннерс, Хезер Рэй</td>\n",
       "      <td>«16+» - для детей старше 16 лет</td>\n",
       "      <td>0.00</td>\n",
       "      <td>0.00</td>\n",
       "      <td>0.00</td>\n",
       "      <td>Коммерческий</td>\n",
       "      <td>3.50</td>\n",
       "      <td>комедия,приключения</td>\n",
       "      <td>0.00</td>\n",
       "    </tr>\n",
       "    <tr>\n",
       "      <th>2190</th>\n",
       "      <td>Последние пять лет.</td>\n",
       "      <td>221008115</td>\n",
       "      <td>2015-03-25 12:00:00+00:00</td>\n",
       "      <td>Художественный</td>\n",
       "      <td>Гранд Пикс Интертейнмент, Лаки Манки Пикчерз, ...</td>\n",
       "      <td>США</td>\n",
       "      <td>Ричард ЛаГравенес</td>\n",
       "      <td>Джанет Бреннер, Лорен Версель, Курт Дойтч, Рич...</td>\n",
       "      <td>«16+» - для детей старше 16 лет</td>\n",
       "      <td>0.00</td>\n",
       "      <td>0.00</td>\n",
       "      <td>0.00</td>\n",
       "      <td>Коммерческий</td>\n",
       "      <td>5.70</td>\n",
       "      <td>мюзикл,драма,мелодрама</td>\n",
       "      <td>0.00</td>\n",
       "    </tr>\n",
       "    <tr>\n",
       "      <th>2191</th>\n",
       "      <td>Последние пять лет.</td>\n",
       "      <td>121005715</td>\n",
       "      <td>2015-03-25 12:00:00+00:00</td>\n",
       "      <td>Художественный</td>\n",
       "      <td>Гранд Пикс Интертейнмент, Лаки Манки Пикчерз, ...</td>\n",
       "      <td>США</td>\n",
       "      <td>Ричард ЛаГравенес</td>\n",
       "      <td>Джанет Бреннер, Лорен Версель, Курт Дойтч, Рич...</td>\n",
       "      <td>«16+» - для детей старше 16 лет</td>\n",
       "      <td>0.00</td>\n",
       "      <td>0.00</td>\n",
       "      <td>0.00</td>\n",
       "      <td>Коммерческий</td>\n",
       "      <td>5.70</td>\n",
       "      <td>мюзикл,драма,мелодрама</td>\n",
       "      <td>52495.00</td>\n",
       "    </tr>\n",
       "    <tr>\n",
       "      <th>2751</th>\n",
       "      <td>Пингвиненок Пороро: Большие гонки</td>\n",
       "      <td>224001915</td>\n",
       "      <td>2015-04-15 12:00:00+00:00</td>\n",
       "      <td>Анимационный</td>\n",
       "      <td>Окон Студиос, Чина Филм, Симка Интертейнмент, ...</td>\n",
       "      <td>Южная Корея - КНР</td>\n",
       "      <td>Юнг Куюн Парк</td>\n",
       "      <td>Иль Хо Ким, Михал Симка</td>\n",
       "      <td>«0+» - для любой зрительской аудитории</td>\n",
       "      <td>0.00</td>\n",
       "      <td>0.00</td>\n",
       "      <td>0.00</td>\n",
       "      <td>Коммерческий</td>\n",
       "      <td>5.20</td>\n",
       "      <td>мультфильм,семейный,спорт</td>\n",
       "      <td>1360.00</td>\n",
       "    </tr>\n",
       "    <tr>\n",
       "      <th>2752</th>\n",
       "      <td>Пингвиненок Пороро: Большие гонки</td>\n",
       "      <td>124001915</td>\n",
       "      <td>2015-04-15 12:00:00+00:00</td>\n",
       "      <td>Анимационный</td>\n",
       "      <td>Окон Студиос, Чина Филм, Симка Интертейнмент, ...</td>\n",
       "      <td>Южная Корея - КНР</td>\n",
       "      <td>Юнг Куюн Парк</td>\n",
       "      <td>Иль Хо Ким, Михал Симка</td>\n",
       "      <td>«0+» - для любой зрительской аудитории</td>\n",
       "      <td>0.00</td>\n",
       "      <td>0.00</td>\n",
       "      <td>0.00</td>\n",
       "      <td>Коммерческий</td>\n",
       "      <td>5.20</td>\n",
       "      <td>мультфильм,семейный,спорт</td>\n",
       "      <td>14152495.90</td>\n",
       "    </tr>\n",
       "    <tr>\n",
       "      <th>3085</th>\n",
       "      <td>Анархисты</td>\n",
       "      <td>221003916</td>\n",
       "      <td>2016-02-03 12:00:00+00:00</td>\n",
       "      <td>Художественный</td>\n",
       "      <td>24 Май Продюксьон, Франс 2 Синема</td>\n",
       "      <td>Франция</td>\n",
       "      <td>Эли Важеман</td>\n",
       "      <td>Лола Гэнс</td>\n",
       "      <td>«16+» - для детей старше 16 лет</td>\n",
       "      <td>0.00</td>\n",
       "      <td>0.00</td>\n",
       "      <td>0.00</td>\n",
       "      <td>Коммерческий</td>\n",
       "      <td>5.70</td>\n",
       "      <td>драма</td>\n",
       "      <td>0.00</td>\n",
       "    </tr>\n",
       "    <tr>\n",
       "      <th>3086</th>\n",
       "      <td>Анархисты</td>\n",
       "      <td>121002316</td>\n",
       "      <td>2016-02-03 12:00:00+00:00</td>\n",
       "      <td>Художественный</td>\n",
       "      <td>24 Май Продюксьон, Франс 2 Синема</td>\n",
       "      <td>Франция</td>\n",
       "      <td>Эли Важеман</td>\n",
       "      <td>Лола Гэнс</td>\n",
       "      <td>«16+» - для детей старше 16 лет</td>\n",
       "      <td>0.00</td>\n",
       "      <td>0.00</td>\n",
       "      <td>0.00</td>\n",
       "      <td>Коммерческий</td>\n",
       "      <td>5.70</td>\n",
       "      <td>драма</td>\n",
       "      <td>332371.00</td>\n",
       "    </tr>\n",
       "    <tr>\n",
       "      <th>4041</th>\n",
       "      <td>Бугай</td>\n",
       "      <td>224021210</td>\n",
       "      <td>2010-09-24 12:00:00+00:00</td>\n",
       "      <td>Анимационный</td>\n",
       "      <td>Иллюзион Студиос, Процесо</td>\n",
       "      <td>Мексика-Аргентина</td>\n",
       "      <td>Густаво Кова</td>\n",
       "      <td>Хуго Е. Лаура, Хосе Луис Масса</td>\n",
       "      <td>«16+» - для детей старше 16 лет</td>\n",
       "      <td>0.00</td>\n",
       "      <td>0.00</td>\n",
       "      <td>0.00</td>\n",
       "      <td>Коммерческий</td>\n",
       "      <td>6.60</td>\n",
       "      <td>мультфильм,боевик,триллер</td>\n",
       "      <td>0.00</td>\n",
       "    </tr>\n",
       "    <tr>\n",
       "      <th>4042</th>\n",
       "      <td>Бугай</td>\n",
       "      <td>124001210</td>\n",
       "      <td>2010-09-24 12:00:00+00:00</td>\n",
       "      <td>Анимационный</td>\n",
       "      <td>Иллюзион Студиос, Процесо</td>\n",
       "      <td>Мексика-Аргентина</td>\n",
       "      <td>Густаво Кова</td>\n",
       "      <td>Хуго Е. Лаура, Хосе Луис Масса</td>\n",
       "      <td>«16+» - для детей старше 16 лет</td>\n",
       "      <td>0.00</td>\n",
       "      <td>0.00</td>\n",
       "      <td>0.00</td>\n",
       "      <td>Коммерческий</td>\n",
       "      <td>6.60</td>\n",
       "      <td>мультфильм,боевик,триллер</td>\n",
       "      <td>0.00</td>\n",
       "    </tr>\n",
       "    <tr>\n",
       "      <th>6378</th>\n",
       "      <td>Ян Антонышев</td>\n",
       "      <td>112011818</td>\n",
       "      <td>2018-11-15 12:00:00+00:00</td>\n",
       "      <td>Документальный</td>\n",
       "      <td>Без студии</td>\n",
       "      <td>Россия</td>\n",
       "      <td>Е.Окопная</td>\n",
       "      <td>Е.Герасимов</td>\n",
       "      <td>«12+» - для детей старше 12 лет</td>\n",
       "      <td>0.00</td>\n",
       "      <td>0.00</td>\n",
       "      <td>0.00</td>\n",
       "      <td>Коммерческий</td>\n",
       "      <td>0.00</td>\n",
       "      <td>Без жанра</td>\n",
       "      <td>0.00</td>\n",
       "    </tr>\n",
       "    <tr>\n",
       "      <th>6379</th>\n",
       "      <td>Ян Антонышев</td>\n",
       "      <td>112011918</td>\n",
       "      <td>2018-11-15 12:00:00+00:00</td>\n",
       "      <td>Документальный</td>\n",
       "      <td>Без студии</td>\n",
       "      <td>Россия</td>\n",
       "      <td>Е.Окопная</td>\n",
       "      <td>Е.Герасимов</td>\n",
       "      <td>«12+» - для детей старше 12 лет</td>\n",
       "      <td>0.00</td>\n",
       "      <td>0.00</td>\n",
       "      <td>0.00</td>\n",
       "      <td>Коммерческий</td>\n",
       "      <td>0.00</td>\n",
       "      <td>Без жанра</td>\n",
       "      <td>0.00</td>\n",
       "    </tr>\n",
       "    <tr>\n",
       "      <th>6427</th>\n",
       "      <td>Зоя</td>\n",
       "      <td>111022618</td>\n",
       "      <td>2018-11-25 12:00:00+00:00</td>\n",
       "      <td>Художественный</td>\n",
       "      <td>Тарханова Юлия Олеговна</td>\n",
       "      <td>Россия</td>\n",
       "      <td>О.Товма</td>\n",
       "      <td>Ю.Тарханова</td>\n",
       "      <td>«16+» - для детей старше 16 лет</td>\n",
       "      <td>0.00</td>\n",
       "      <td>0.00</td>\n",
       "      <td>0.00</td>\n",
       "      <td>Коммерческий</td>\n",
       "      <td>3.90</td>\n",
       "      <td>история,биография,военный</td>\n",
       "      <td>0.00</td>\n",
       "    </tr>\n",
       "    <tr>\n",
       "      <th>6428</th>\n",
       "      <td>Зоя</td>\n",
       "      <td>111022718</td>\n",
       "      <td>2018-11-25 12:00:00+00:00</td>\n",
       "      <td>Художественный</td>\n",
       "      <td>Тарханова Юлия Олеговна</td>\n",
       "      <td>Россия</td>\n",
       "      <td>О.Товма</td>\n",
       "      <td>Ю.Тарханова</td>\n",
       "      <td>«16+» - для детей старше 16 лет</td>\n",
       "      <td>0.00</td>\n",
       "      <td>0.00</td>\n",
       "      <td>0.00</td>\n",
       "      <td>Коммерческий</td>\n",
       "      <td>3.90</td>\n",
       "      <td>история,биография,военный</td>\n",
       "      <td>0.00</td>\n",
       "    </tr>\n",
       "  </tbody>\n",
       "</table>\n",
       "</div>"
      ],
      "text/plain": [
       "                                  title   puNumber           show_start_date  \\\n",
       "1300                          Эпидемия_  121025713 2013-10-07 12:00:00+00:00   \n",
       "1301                          Эпидемия_  221035513 2013-10-07 12:00:00+00:00   \n",
       "1475                             Оторвы  121006514 2014-04-07 12:00:00+00:00   \n",
       "1476                             Оторвы  221013214 2014-04-07 12:00:00+00:00   \n",
       "2190                Последние пять лет.  221008115 2015-03-25 12:00:00+00:00   \n",
       "2191                Последние пять лет.  121005715 2015-03-25 12:00:00+00:00   \n",
       "2751  Пингвиненок Пороро: Большие гонки  224001915 2015-04-15 12:00:00+00:00   \n",
       "2752  Пингвиненок Пороро: Большие гонки  124001915 2015-04-15 12:00:00+00:00   \n",
       "3085                          Анархисты  221003916 2016-02-03 12:00:00+00:00   \n",
       "3086                          Анархисты  121002316 2016-02-03 12:00:00+00:00   \n",
       "4041                              Бугай  224021210 2010-09-24 12:00:00+00:00   \n",
       "4042                              Бугай  124001210 2010-09-24 12:00:00+00:00   \n",
       "6378                       Ян Антонышев  112011818 2018-11-15 12:00:00+00:00   \n",
       "6379                       Ян Антонышев  112011918 2018-11-15 12:00:00+00:00   \n",
       "6427                                Зоя  111022618 2018-11-25 12:00:00+00:00   \n",
       "6428                                Зоя  111022718 2018-11-25 12:00:00+00:00   \n",
       "\n",
       "                 type                                        film_studio  \\\n",
       "1300   Художественный  Морена Фильм, Ребелион Террестр, А 3 Медиа Гру...   \n",
       "1301   Художественный  Морена Фильм, Ребелион Террестр, А 3 Медиа Гру...   \n",
       "1475   Художественный  Проминент Пикчерз, Ворлдвью Интертейнмент, Инд...   \n",
       "1476   Художественный  Проминент Пикчерз, Ворлдвью Интертейнмент, Инд...   \n",
       "2190   Художественный  Гранд Пикс Интертейнмент, Лаки Манки Пикчерз, ...   \n",
       "2191   Художественный  Гранд Пикс Интертейнмент, Лаки Манки Пикчерз, ...   \n",
       "2751     Анимационный  Окон Студиос, Чина Филм, Симка Интертейнмент, ...   \n",
       "2752     Анимационный  Окон Студиос, Чина Филм, Симка Интертейнмент, ...   \n",
       "3085   Художественный                  24 Май Продюксьон, Франс 2 Синема   \n",
       "3086   Художественный                  24 Май Продюксьон, Франс 2 Синема   \n",
       "4041     Анимационный                          Иллюзион Студиос, Процесо   \n",
       "4042     Анимационный                          Иллюзион Студиос, Процесо   \n",
       "6378   Документальный                                         Без студии   \n",
       "6379   Документальный                                         Без студии   \n",
       "6427   Художественный                            Тарханова Юлия Олеговна   \n",
       "6428   Художественный                            Тарханова Юлия Олеговна   \n",
       "\n",
       "     production_country                    director  \\\n",
       "1300  Испания - Франция  Алекс Пастор, Давид Пастор   \n",
       "1301  Испания - Франция  Алекс Пастор, Давид Пастор   \n",
       "1475                США           Кристофер Нельсон   \n",
       "1476                США           Кристофер Нельсон   \n",
       "2190                США           Ричард ЛаГравенес   \n",
       "2191                США           Ричард ЛаГравенес   \n",
       "2751  Южная Корея - КНР               Юнг Куюн Парк   \n",
       "2752  Южная Корея - КНР               Юнг Куюн Парк   \n",
       "3085            Франция                 Эли Важеман   \n",
       "3086            Франция                 Эли Важеман   \n",
       "4041  Мексика-Аргентина                Густаво Кова   \n",
       "4042  Мексика-Аргентина                Густаво Кова   \n",
       "6378             Россия                   Е.Окопная   \n",
       "6379             Россия                   Е.Окопная   \n",
       "6427             Россия                     О.Товма   \n",
       "6428             Россия                     О.Товма   \n",
       "\n",
       "                                               producer  \\\n",
       "1300     Мерседес Гамеро, Альберто Марини, Педро Уриоль   \n",
       "1301     Мерседес Гамеро, Альберто Марини, Педро Уриоль   \n",
       "1475                           Молли Коннерс, Хезер Рэй   \n",
       "1476                           Молли Коннерс, Хезер Рэй   \n",
       "2190  Джанет Бреннер, Лорен Версель, Курт Дойтч, Рич...   \n",
       "2191  Джанет Бреннер, Лорен Версель, Курт Дойтч, Рич...   \n",
       "2751                            Иль Хо Ким, Михал Симка   \n",
       "2752                            Иль Хо Ким, Михал Симка   \n",
       "3085                                          Лола Гэнс   \n",
       "3086                                          Лола Гэнс   \n",
       "4041                     Хуго Е. Лаура, Хосе Луис Масса   \n",
       "4042                     Хуго Е. Лаура, Хосе Луис Масса   \n",
       "6378                                        Е.Герасимов   \n",
       "6379                                        Е.Герасимов   \n",
       "6427                                        Ю.Тарханова   \n",
       "6428                                        Ю.Тарханова   \n",
       "\n",
       "                             age_restriction  refundable_support  \\\n",
       "1300         «16+» - для детей старше 16 лет                0.00   \n",
       "1301         «16+» - для детей старше 16 лет                0.00   \n",
       "1475         «16+» - для детей старше 16 лет                0.00   \n",
       "1476         «16+» - для детей старше 16 лет                0.00   \n",
       "2190         «16+» - для детей старше 16 лет                0.00   \n",
       "2191         «16+» - для детей старше 16 лет                0.00   \n",
       "2751  «0+» - для любой зрительской аудитории                0.00   \n",
       "2752  «0+» - для любой зрительской аудитории                0.00   \n",
       "3085         «16+» - для детей старше 16 лет                0.00   \n",
       "3086         «16+» - для детей старше 16 лет                0.00   \n",
       "4041         «16+» - для детей старше 16 лет                0.00   \n",
       "4042         «16+» - для детей старше 16 лет                0.00   \n",
       "6378         «12+» - для детей старше 12 лет                0.00   \n",
       "6379         «12+» - для детей старше 12 лет                0.00   \n",
       "6427         «16+» - для детей старше 16 лет                0.00   \n",
       "6428         «16+» - для детей старше 16 лет                0.00   \n",
       "\n",
       "      nonrefundable_support  budget financing_source  ratings  \\\n",
       "1300                   0.00    0.00     Коммерческий     7.20   \n",
       "1301                   0.00    0.00     Коммерческий     7.20   \n",
       "1475                   0.00    0.00     Коммерческий     3.50   \n",
       "1476                   0.00    0.00     Коммерческий     3.50   \n",
       "2190                   0.00    0.00     Коммерческий     5.70   \n",
       "2191                   0.00    0.00     Коммерческий     5.70   \n",
       "2751                   0.00    0.00     Коммерческий     5.20   \n",
       "2752                   0.00    0.00     Коммерческий     5.20   \n",
       "3085                   0.00    0.00     Коммерческий     5.70   \n",
       "3086                   0.00    0.00     Коммерческий     5.70   \n",
       "4041                   0.00    0.00     Коммерческий     6.60   \n",
       "4042                   0.00    0.00     Коммерческий     6.60   \n",
       "6378                   0.00    0.00     Коммерческий     0.00   \n",
       "6379                   0.00    0.00     Коммерческий     0.00   \n",
       "6427                   0.00    0.00     Коммерческий     3.90   \n",
       "6428                   0.00    0.00     Коммерческий     3.90   \n",
       "\n",
       "                         genres  box_office  \n",
       "1300   драма,фантастика,триллер        0.00  \n",
       "1301   драма,фантастика,триллер        0.00  \n",
       "1475        комедия,приключения        0.00  \n",
       "1476        комедия,приключения        0.00  \n",
       "2190     мюзикл,драма,мелодрама        0.00  \n",
       "2191     мюзикл,драма,мелодрама    52495.00  \n",
       "2751  мультфильм,семейный,спорт     1360.00  \n",
       "2752  мультфильм,семейный,спорт 14152495.90  \n",
       "3085                      драма        0.00  \n",
       "3086                      драма   332371.00  \n",
       "4041  мультфильм,боевик,триллер        0.00  \n",
       "4042  мультфильм,боевик,триллер        0.00  \n",
       "6378                  Без жанра        0.00  \n",
       "6379                  Без жанра        0.00  \n",
       "6427  история,биография,военный        0.00  \n",
       "6428  история,биография,военный        0.00  "
      ]
     },
     "execution_count": 44,
     "metadata": {},
     "output_type": "execute_result"
    }
   ],
   "source": [
    "data[data.duplicated(subset=['title', 'show_start_date', 'type', 'film_studio', 'production_country', 'director'], keep=False)]"
   ]
  },
  {
   "cell_type": "markdown",
   "metadata": {},
   "source": [
    "Проверим фильмы, которые могут совпадать по номеру прокатного удостоверения."
   ]
  },
  {
   "cell_type": "code",
   "execution_count": 45,
   "metadata": {},
   "outputs": [
    {
     "data": {
      "text/html": [
       "<div>\n",
       "<style scoped>\n",
       "    .dataframe tbody tr th:only-of-type {\n",
       "        vertical-align: middle;\n",
       "    }\n",
       "\n",
       "    .dataframe tbody tr th {\n",
       "        vertical-align: top;\n",
       "    }\n",
       "\n",
       "    .dataframe thead th {\n",
       "        text-align: right;\n",
       "    }\n",
       "</style>\n",
       "<table border=\"1\" class=\"dataframe\">\n",
       "  <thead>\n",
       "    <tr style=\"text-align: right;\">\n",
       "      <th></th>\n",
       "      <th>title</th>\n",
       "      <th>puNumber</th>\n",
       "      <th>show_start_date</th>\n",
       "      <th>type</th>\n",
       "      <th>film_studio</th>\n",
       "      <th>production_country</th>\n",
       "      <th>director</th>\n",
       "      <th>producer</th>\n",
       "      <th>age_restriction</th>\n",
       "      <th>refundable_support</th>\n",
       "      <th>nonrefundable_support</th>\n",
       "      <th>budget</th>\n",
       "      <th>financing_source</th>\n",
       "      <th>ratings</th>\n",
       "      <th>genres</th>\n",
       "      <th>box_office</th>\n",
       "    </tr>\n",
       "  </thead>\n",
       "  <tbody>\n",
       "    <tr>\n",
       "      <th>4637</th>\n",
       "      <td>Как жениться и остаться холостым</td>\n",
       "      <td>221154310</td>\n",
       "      <td>2010-12-17 12:00:00+00:00</td>\n",
       "      <td>Художественный</td>\n",
       "      <td>Ше Вам, Скрипт Ассосье, Тэ Фэ 1 Фильм Продюксь...</td>\n",
       "      <td>Франция</td>\n",
       "      <td>Эрик Лартиго</td>\n",
       "      <td>Амандин Било, Алан Шаба</td>\n",
       "      <td>«16+» - для детей старше 16 лет</td>\n",
       "      <td>0.00</td>\n",
       "      <td>0.00</td>\n",
       "      <td>0.00</td>\n",
       "      <td>Коммерческий</td>\n",
       "      <td>7.00</td>\n",
       "      <td>мелодрама,комедия</td>\n",
       "      <td>0.00</td>\n",
       "    </tr>\n",
       "    <tr>\n",
       "      <th>4638</th>\n",
       "      <td>Иоанна - женщина на папском престоле /По роман...</td>\n",
       "      <td>221154310</td>\n",
       "      <td>2010-12-17 12:00:00+00:00</td>\n",
       "      <td>Художественный</td>\n",
       "      <td>Константин Фильм, А Эр Ди Дегето Фильм, Дюне ...</td>\n",
       "      <td>Германия - Великобритания - Италия - Испания</td>\n",
       "      <td>Зенке Вортманн</td>\n",
       "      <td>Оливер Бербен, Дорис Д.Хайнце, Фарук Элтан</td>\n",
       "      <td>«16+» - для детей старше 16 лет</td>\n",
       "      <td>0.00</td>\n",
       "      <td>0.00</td>\n",
       "      <td>0.00</td>\n",
       "      <td>Коммерческий</td>\n",
       "      <td>7.60</td>\n",
       "      <td>драма,мелодрама,история</td>\n",
       "      <td>0.00</td>\n",
       "    </tr>\n",
       "    <tr>\n",
       "      <th>5066</th>\n",
       "      <td>Анализируй это!</td>\n",
       "      <td>221054410</td>\n",
       "      <td>2010-05-25 12:00:00+00:00</td>\n",
       "      <td>Художественный</td>\n",
       "      <td>Уорнер Бразерс, Вилладж Роудшоу Филмз ЛТД</td>\n",
       "      <td>США-Австралия</td>\n",
       "      <td>ХЭрольд Рэмис</td>\n",
       "      <td>Джейн Розенталь, Пола Уейнстейн</td>\n",
       "      <td>«16+» - для детей старше 16 лет</td>\n",
       "      <td>0.00</td>\n",
       "      <td>0.00</td>\n",
       "      <td>0.00</td>\n",
       "      <td>Коммерческий</td>\n",
       "      <td>7.40</td>\n",
       "      <td>комедия,криминал</td>\n",
       "      <td>0.00</td>\n",
       "    </tr>\n",
       "    <tr>\n",
       "      <th>5067</th>\n",
       "      <td>Анализируй то!</td>\n",
       "      <td>221054410</td>\n",
       "      <td>2010-05-25 12:00:00+00:00</td>\n",
       "      <td>Художественный</td>\n",
       "      <td>Уорнер Бразерс, Виллидж Роадшоу Пикчерз, Эн-Пи...</td>\n",
       "      <td>США</td>\n",
       "      <td>Гарольд Реймис</td>\n",
       "      <td>Джейн Розенталь, Паул Уэйнстейн</td>\n",
       "      <td>«12+» - для детей старше 12 лет</td>\n",
       "      <td>0.00</td>\n",
       "      <td>0.00</td>\n",
       "      <td>0.00</td>\n",
       "      <td>Коммерческий</td>\n",
       "      <td>6.80</td>\n",
       "      <td>комедия,криминал</td>\n",
       "      <td>0.00</td>\n",
       "    </tr>\n",
       "  </tbody>\n",
       "</table>\n",
       "</div>"
      ],
      "text/plain": [
       "                                                  title   puNumber  \\\n",
       "4637                   Как жениться и остаться холостым  221154310   \n",
       "4638  Иоанна - женщина на папском престоле /По роман...  221154310   \n",
       "5066                                    Анализируй это!  221054410   \n",
       "5067                                     Анализируй то!  221054410   \n",
       "\n",
       "               show_start_date            type  \\\n",
       "4637 2010-12-17 12:00:00+00:00  Художественный   \n",
       "4638 2010-12-17 12:00:00+00:00  Художественный   \n",
       "5066 2010-05-25 12:00:00+00:00  Художественный   \n",
       "5067 2010-05-25 12:00:00+00:00  Художественный   \n",
       "\n",
       "                                            film_studio  \\\n",
       "4637  Ше Вам, Скрипт Ассосье, Тэ Фэ 1 Фильм Продюксь...   \n",
       "4638   Константин Фильм, А Эр Ди Дегето Фильм, Дюне ...   \n",
       "5066          Уорнер Бразерс, Вилладж Роудшоу Филмз ЛТД   \n",
       "5067  Уорнер Бразерс, Виллидж Роадшоу Пикчерз, Эн-Пи...   \n",
       "\n",
       "                                production_country        director  \\\n",
       "4637                                       Франция    Эрик Лартиго   \n",
       "4638  Германия - Великобритания - Италия - Испания  Зенке Вортманн   \n",
       "5066                                 США-Австралия   ХЭрольд Рэмис   \n",
       "5067                                           США  Гарольд Реймис   \n",
       "\n",
       "                                        producer  \\\n",
       "4637                     Амандин Било, Алан Шаба   \n",
       "4638  Оливер Бербен, Дорис Д.Хайнце, Фарук Элтан   \n",
       "5066             Джейн Розенталь, Пола Уейнстейн   \n",
       "5067             Джейн Розенталь, Паул Уэйнстейн   \n",
       "\n",
       "                      age_restriction  refundable_support  \\\n",
       "4637  «16+» - для детей старше 16 лет                0.00   \n",
       "4638  «16+» - для детей старше 16 лет                0.00   \n",
       "5066  «16+» - для детей старше 16 лет                0.00   \n",
       "5067  «12+» - для детей старше 12 лет                0.00   \n",
       "\n",
       "      nonrefundable_support  budget financing_source  ratings  \\\n",
       "4637                   0.00    0.00     Коммерческий     7.00   \n",
       "4638                   0.00    0.00     Коммерческий     7.60   \n",
       "5066                   0.00    0.00     Коммерческий     7.40   \n",
       "5067                   0.00    0.00     Коммерческий     6.80   \n",
       "\n",
       "                       genres  box_office  \n",
       "4637        мелодрама,комедия        0.00  \n",
       "4638  драма,мелодрама,история        0.00  \n",
       "5066         комедия,криминал        0.00  \n",
       "5067         комедия,криминал        0.00  "
      ]
     },
     "execution_count": 45,
     "metadata": {},
     "output_type": "execute_result"
    }
   ],
   "source": [
    "data.loc[data['puNumber'].duplicated(keep=False)]"
   ]
  },
  {
   "cell_type": "markdown",
   "metadata": {},
   "source": [
    "Проверим по названию на дубли один из фильмов, которые имеют одно прокатное удостоверение и разные названия.\n",
    "\n",
    "Так как это два фильма являются связанными, вероятнее всего произошла ошибка с выдачей прокатного удостоверения. Данные только в этом исследовании используются и прокатный номер нужен только как уникальный идентификатор, сделаем допущение и укажем свой прокатный номер.\n",
    "\n",
    "Фильм Анализируй то!, который на данный момент имеет идентичный с фильмом Анализируй это! прокатный номер 221054410 получит новый свободный номер: 100000000."
   ]
  },
  {
   "cell_type": "code",
   "execution_count": 46,
   "metadata": {},
   "outputs": [],
   "source": [
    "data.loc[(data['title'] == 'Анализируй то!') & (data['puNumber'] == 221054410), 'puNumber'] = 100000001"
   ]
  },
  {
   "cell_type": "code",
   "execution_count": 47,
   "metadata": {},
   "outputs": [
    {
     "data": {
      "text/html": [
       "<div>\n",
       "<style scoped>\n",
       "    .dataframe tbody tr th:only-of-type {\n",
       "        vertical-align: middle;\n",
       "    }\n",
       "\n",
       "    .dataframe tbody tr th {\n",
       "        vertical-align: top;\n",
       "    }\n",
       "\n",
       "    .dataframe thead th {\n",
       "        text-align: right;\n",
       "    }\n",
       "</style>\n",
       "<table border=\"1\" class=\"dataframe\">\n",
       "  <thead>\n",
       "    <tr style=\"text-align: right;\">\n",
       "      <th></th>\n",
       "      <th>title</th>\n",
       "      <th>puNumber</th>\n",
       "      <th>show_start_date</th>\n",
       "      <th>type</th>\n",
       "      <th>film_studio</th>\n",
       "      <th>production_country</th>\n",
       "      <th>director</th>\n",
       "      <th>producer</th>\n",
       "      <th>age_restriction</th>\n",
       "      <th>refundable_support</th>\n",
       "      <th>nonrefundable_support</th>\n",
       "      <th>budget</th>\n",
       "      <th>financing_source</th>\n",
       "      <th>ratings</th>\n",
       "      <th>genres</th>\n",
       "      <th>box_office</th>\n",
       "    </tr>\n",
       "  </thead>\n",
       "  <tbody>\n",
       "    <tr>\n",
       "      <th>4049</th>\n",
       "      <td>Иоанна - женщина на папском престоле /По роман...</td>\n",
       "      <td>121005410</td>\n",
       "      <td>2010-03-25 12:00:00+00:00</td>\n",
       "      <td>Художественный</td>\n",
       "      <td>Константин Фильм, А Эр Ди Дегето Фильм, Дюне ...</td>\n",
       "      <td>Германия - Великобритания - Италия - Испания</td>\n",
       "      <td>Зенке Вортманн</td>\n",
       "      <td>Оливер Бербен, Дорис Д.Хайнце, Фарук Элтан</td>\n",
       "      <td>«16+» - для детей старше 16 лет</td>\n",
       "      <td>0.00</td>\n",
       "      <td>0.00</td>\n",
       "      <td>0.00</td>\n",
       "      <td>Коммерческий</td>\n",
       "      <td>7.60</td>\n",
       "      <td>драма,мелодрама,история</td>\n",
       "      <td>0.00</td>\n",
       "    </tr>\n",
       "    <tr>\n",
       "      <th>4512</th>\n",
       "      <td>Иоанна - женщина на папском престоле /По роман...</td>\n",
       "      <td>221141710</td>\n",
       "      <td>2010-12-03 12:00:00+00:00</td>\n",
       "      <td>Художественный</td>\n",
       "      <td>Константин Фильм, А Эр Ди Дегето Фильм, Дюне ...</td>\n",
       "      <td>Германия - Великобритания - Италия - Испания</td>\n",
       "      <td>Зенке Вортманн</td>\n",
       "      <td>Оливер Бербен, Дорис Д.Хайнце, Фарук Элтан</td>\n",
       "      <td>«16+» - для детей старше 16 лет</td>\n",
       "      <td>0.00</td>\n",
       "      <td>0.00</td>\n",
       "      <td>0.00</td>\n",
       "      <td>Коммерческий</td>\n",
       "      <td>7.60</td>\n",
       "      <td>драма,мелодрама,история</td>\n",
       "      <td>0.00</td>\n",
       "    </tr>\n",
       "    <tr>\n",
       "      <th>4638</th>\n",
       "      <td>Иоанна - женщина на папском престоле /По роман...</td>\n",
       "      <td>221154310</td>\n",
       "      <td>2010-12-17 12:00:00+00:00</td>\n",
       "      <td>Художественный</td>\n",
       "      <td>Константин Фильм, А Эр Ди Дегето Фильм, Дюне ...</td>\n",
       "      <td>Германия - Великобритания - Италия - Испания</td>\n",
       "      <td>Зенке Вортманн</td>\n",
       "      <td>Оливер Бербен, Дорис Д.Хайнце, Фарук Элтан</td>\n",
       "      <td>«16+» - для детей старше 16 лет</td>\n",
       "      <td>0.00</td>\n",
       "      <td>0.00</td>\n",
       "      <td>0.00</td>\n",
       "      <td>Коммерческий</td>\n",
       "      <td>7.60</td>\n",
       "      <td>драма,мелодрама,история</td>\n",
       "      <td>0.00</td>\n",
       "    </tr>\n",
       "  </tbody>\n",
       "</table>\n",
       "</div>"
      ],
      "text/plain": [
       "                                                  title   puNumber  \\\n",
       "4049  Иоанна - женщина на папском престоле /По роман...  121005410   \n",
       "4512  Иоанна - женщина на папском престоле /По роман...  221141710   \n",
       "4638  Иоанна - женщина на папском престоле /По роман...  221154310   \n",
       "\n",
       "               show_start_date            type  \\\n",
       "4049 2010-03-25 12:00:00+00:00  Художественный   \n",
       "4512 2010-12-03 12:00:00+00:00  Художественный   \n",
       "4638 2010-12-17 12:00:00+00:00  Художественный   \n",
       "\n",
       "                                            film_studio  \\\n",
       "4049   Константин Фильм, А Эр Ди Дегето Фильм, Дюне ...   \n",
       "4512   Константин Фильм, А Эр Ди Дегето Фильм, Дюне ...   \n",
       "4638   Константин Фильм, А Эр Ди Дегето Фильм, Дюне ...   \n",
       "\n",
       "                                production_country        director  \\\n",
       "4049  Германия - Великобритания - Италия - Испания  Зенке Вортманн   \n",
       "4512  Германия - Великобритания - Италия - Испания  Зенке Вортманн   \n",
       "4638  Германия - Великобритания - Италия - Испания  Зенке Вортманн   \n",
       "\n",
       "                                        producer  \\\n",
       "4049  Оливер Бербен, Дорис Д.Хайнце, Фарук Элтан   \n",
       "4512  Оливер Бербен, Дорис Д.Хайнце, Фарук Элтан   \n",
       "4638  Оливер Бербен, Дорис Д.Хайнце, Фарук Элтан   \n",
       "\n",
       "                      age_restriction  refundable_support  \\\n",
       "4049  «16+» - для детей старше 16 лет                0.00   \n",
       "4512  «16+» - для детей старше 16 лет                0.00   \n",
       "4638  «16+» - для детей старше 16 лет                0.00   \n",
       "\n",
       "      nonrefundable_support  budget financing_source  ratings  \\\n",
       "4049                   0.00    0.00     Коммерческий     7.60   \n",
       "4512                   0.00    0.00     Коммерческий     7.60   \n",
       "4638                   0.00    0.00     Коммерческий     7.60   \n",
       "\n",
       "                       genres  box_office  \n",
       "4049  драма,мелодрама,история        0.00  \n",
       "4512  драма,мелодрама,история        0.00  \n",
       "4638  драма,мелодрама,история        0.00  "
      ]
     },
     "metadata": {},
     "output_type": "display_data"
    }
   ],
   "source": [
    "display(data[data['title'].str.contains('Иоанна - женщина на папском престоле')])"
   ]
  },
  {
   "cell_type": "markdown",
   "metadata": {},
   "source": [
    "Судя по разным датам, этот фильм перезапускали несколько раз, стоит сохранить их все.\n",
    "\n",
    "Так как данные только в этом исследовании используются и прокатный номер нужен только как уникальный идентификатор, сделаем допущение и укажем свой прокатный номер.\n",
    "\n",
    "Фильм Иоанна - женщина на папском престоле..., который на данный момент имеет идентичный с фильмом Как жениться и остаться холостым прокатный номер 221154310 получит новый свободный номер: 100000001."
   ]
  },
  {
   "cell_type": "code",
   "execution_count": 48,
   "metadata": {},
   "outputs": [],
   "source": [
    "data.loc[(data['title'] == 'Иоанна - женщина на папском престоле /По роману Донны Вулфольк Кросс/') & (data['puNumber'] == 221154310), 'puNumber'] = 100000001"
   ]
  },
  {
   "cell_type": "markdown",
   "metadata": {
    "id": "52fOPrEBgFyQ"
   },
   "source": [
    "#### Шаг 2.4. Изучите категориальные значения\n",
    "\n",
    "- Посмотрите, какая общая проблема встречается почти во всех категориальных столбцах;\n",
    "- Исправьте проблемные значения в поле `type`.\n",
    "\n",
    "<div id=\"accordion\">\n",
    "    <div class=\"card\">\n",
    "        <div class=\"card-header\" id=\"headingThree\">\n",
    "            <button class=\"btn btn-link collapsed\" data-toggle=\"collapse\" data-target=\"#collapseHint_1\" aria-expanded=\"false\" aria-controls=\"collapseHint_1\">Подсказка</button>\n",
    "        </div>\n",
    "        <div id=\"collapseHint_1\" class=\"collapse\" aria-labelledby=\"headingThree\" data-parent=\"#accordion\">\n",
    "            <div class=\"card-body\">\n",
    "В поле <code>type</code> есть несколько значений, у которых появился пробел в начале строки. Самый простой способ их «починить» -- использовать метод <a href=\"https://pandas.pydata.org/docs/reference/api/pandas.Series.str.strip.html#pandas.Series.str.strip\">.str.strip</a>. Этот метод удаляет все пробелы, которые встречаются в начале и в конце строки. Применяют его таким образом:<br>\n",
    "<code>df['type'].str.strip()</code>\n",
    "            </div>\n",
    "        </div>\n",
    "    </div>\n",
    "</div>"
   ]
  },
  {
   "cell_type": "markdown",
   "metadata": {
    "id": "PnXKIVdFgFyR"
   },
   "source": [
    "##### type"
   ]
  },
  {
   "cell_type": "markdown",
   "metadata": {},
   "source": [
    "Проверим на уникальные значения."
   ]
  },
  {
   "cell_type": "code",
   "execution_count": 49,
   "metadata": {},
   "outputs": [
    {
     "data": {
      "text/plain": [
       "array(['Художественный', 'Анимационный', 'Прочие', 'Документальный',\n",
       "       'Научно-популярный', ' Художественный', ' Анимационный',\n",
       "       'Музыкально-развлекательный'], dtype=object)"
      ]
     },
     "execution_count": 49,
     "metadata": {},
     "output_type": "execute_result"
    }
   ],
   "source": [
    "data['type'].unique()"
   ]
  },
  {
   "cell_type": "markdown",
   "metadata": {},
   "source": [
    "Встречаются одинаковые типы, но с разным написанием, есть лишние пробелы. Удалим их."
   ]
  },
  {
   "cell_type": "code",
   "execution_count": 50,
   "metadata": {},
   "outputs": [],
   "source": [
    "data['type'] = data['type'].str.strip()"
   ]
  },
  {
   "cell_type": "code",
   "execution_count": 51,
   "metadata": {},
   "outputs": [
    {
     "data": {
      "text/plain": [
       "array(['Художественный', 'Анимационный', 'Прочие', 'Документальный',\n",
       "       'Научно-популярный', 'Музыкально-развлекательный'], dtype=object)"
      ]
     },
     "execution_count": 51,
     "metadata": {},
     "output_type": "execute_result"
    }
   ],
   "source": [
    "data['type'].unique()"
   ]
  },
  {
   "cell_type": "markdown",
   "metadata": {},
   "source": [
    "##### age_restriction"
   ]
  },
  {
   "cell_type": "markdown",
   "metadata": {},
   "source": [
    "Проверим на уникальные значения."
   ]
  },
  {
   "cell_type": "code",
   "execution_count": 52,
   "metadata": {},
   "outputs": [
    {
     "data": {
      "text/plain": [
       "array(['«18+» - запрещено для детей', '«6+» - для детей старше 6 лет',\n",
       "       '«12+» - для детей старше 12 лет',\n",
       "       '«16+» - для детей старше 16 лет',\n",
       "       '«0+» - для любой зрительской аудитории'], dtype=object)"
      ]
     },
     "execution_count": 52,
     "metadata": {},
     "output_type": "execute_result"
    }
   ],
   "source": [
    "data['age_restriction'].unique()"
   ]
  },
  {
   "cell_type": "markdown",
   "metadata": {},
   "source": [
    "Тут нет одинаковых строк."
   ]
  },
  {
   "cell_type": "markdown",
   "metadata": {},
   "source": [
    "##### financing_source"
   ]
  },
  {
   "cell_type": "markdown",
   "metadata": {},
   "source": [
    "Проверим на уникальные значения."
   ]
  },
  {
   "cell_type": "code",
   "execution_count": 53,
   "metadata": {},
   "outputs": [
    {
     "data": {
      "text/plain": [
       "array(['Коммерческий', 'Министерство культуры', 'Фонд кино',\n",
       "       'Министерство культуры, Фонд кино'], dtype=object)"
      ]
     },
     "execution_count": 53,
     "metadata": {},
     "output_type": "execute_result"
    }
   ],
   "source": [
    "data['financing_source'].unique()"
   ]
  },
  {
   "cell_type": "markdown",
   "metadata": {},
   "source": [
    "Тут нет одинаковых строк."
   ]
  },
  {
   "cell_type": "markdown",
   "metadata": {},
   "source": [
    "##### genres"
   ]
  },
  {
   "cell_type": "markdown",
   "metadata": {},
   "source": [
    "Проверим на уникальные значения."
   ]
  },
  {
   "cell_type": "code",
   "execution_count": 54,
   "metadata": {},
   "outputs": [
    {
     "data": {
      "text/plain": [
       "743"
      ]
     },
     "execution_count": 54,
     "metadata": {},
     "output_type": "execute_result"
    }
   ],
   "source": [
    "data['genres'].nunique()"
   ]
  },
  {
   "cell_type": "markdown",
   "metadata": {},
   "source": [
    "Подозрительно много жанров, предположим, что часть это вариации из нескольких жанров указанных в одной ячейке.\n",
    "\n",
    "Удалим лишние пробелы, которые могут встречаться в начале и конце строки."
   ]
  },
  {
   "cell_type": "code",
   "execution_count": 55,
   "metadata": {},
   "outputs": [],
   "source": [
    "data['genres'] = data['genres'].str.strip()"
   ]
  },
  {
   "cell_type": "markdown",
   "metadata": {},
   "source": [
    "Предположим, что первым в строке указан основной жанр, выделим его в отдельную ячейку."
   ]
  },
  {
   "cell_type": "code",
   "execution_count": 56,
   "metadata": {},
   "outputs": [],
   "source": [
    "data = main_data_add(data, ['genres'])"
   ]
  },
  {
   "cell_type": "code",
   "execution_count": 57,
   "metadata": {},
   "outputs": [
    {
     "data": {
      "text/plain": [
       "array(['боевик', 'драма', 'фантастика', 'мелодрама', 'мюзикл', 'комедия',\n",
       "       'триллер', 'ужасы', 'мультфильм', 'Без жанра', 'военный',\n",
       "       'документальный', 'фэнтези', 'криминал', 'приключения', 'аниме',\n",
       "       'детектив', 'для взрослых', 'семейный', 'концерт', 'история',\n",
       "       'короткометражка', 'детский', 'спорт', 'биография', 'вестерн',\n",
       "       'музыка', 'фильм-нуар', 'реальное ТВ'], dtype=object)"
      ]
     },
     "metadata": {},
     "output_type": "display_data"
    },
    {
     "data": {
      "text/plain": [
       "29"
      ]
     },
     "execution_count": 57,
     "metadata": {},
     "output_type": "execute_result"
    }
   ],
   "source": [
    "display(data['main_genres'].unique())\n",
    "data['main_genres'].nunique()"
   ]
  },
  {
   "cell_type": "markdown",
   "metadata": {},
   "source": [
    "Всего получилось 29 уникальных жанров из 743."
   ]
  },
  {
   "cell_type": "markdown",
   "metadata": {},
   "source": [
    "##### Общий вывод. Категориальные значения"
   ]
  },
  {
   "cell_type": "markdown",
   "metadata": {},
   "source": [
    "Практически во всех столбцах встречались несовершенства, основное, что встречалось чаще всего — лишние символы пробела. Так в столбце type было убрано два дублирующих, но внесенных в данные с ошибкой, значения. Часть категориальных значений, например, данные о директоре, продюсере и источнике спонсирования, была обработана на предыдущем шаге, там общей проблемой являлись пропуски.\n",
    "\n",
    "Общая проблема многих колонок с категориальными данными связана с тем, что они содержат очень много уникальных значений из-за того, что в них идет перечисления отдельных признаков."
   ]
  },
  {
   "cell_type": "markdown",
   "metadata": {
    "id": "XFSN5lrEgFyR"
   },
   "source": [
    "#### Шаг 2.5. Проверьте количественные значения\n",
    "\n",
    "- Проверьте, обнаружились ли в таких столбцах подозрительные данные. Как с такими данными лучше поступить?\n",
    "\n",
    "<div id=\"accordion\">\n",
    "    <div class=\"card\">\n",
    "        <div class=\"card-header\" id=\"headingThree\">\n",
    "            <button class=\"btn btn-link collapsed\" data-toggle=\"collapse\" data-target=\"#collapseHint_budget\" aria-expanded=\"false\" aria-controls=\"collapseHint_budget\">Подсказка</button>\n",
    "        </div>\n",
    "        <div id=\"collapseHint_budget\" class=\"collapse\" aria-labelledby=\"headingThree\" data-parent=\"#accordion\">\n",
    "            <div class=\"card-body\">\n",
    "Обратите внимание на описание столбца <code>budget</code>. Как этот столбец соотносится с двумя другими: <code>refundable_support</code> и <code>nonrefundable_support</code>?\n",
    "            </div>\n",
    "        </div>\n",
    "    </div>\n",
    "</div>"
   ]
  },
  {
   "cell_type": "markdown",
   "metadata": {
    "id": "YbzClBxagFyS"
   },
   "source": [
    "##### budget"
   ]
  },
  {
   "cell_type": "code",
   "execution_count": 58,
   "metadata": {},
   "outputs": [
    {
     "data": {
      "text/plain": [
       "count         7485.00\n",
       "mean       5643322.10\n",
       "std       47531308.14\n",
       "min              0.00\n",
       "25%              0.00\n",
       "50%              0.00\n",
       "75%              0.00\n",
       "max     2305074303.00\n",
       "Name: budget, dtype: float64"
      ]
     },
     "execution_count": 58,
     "metadata": {},
     "output_type": "execute_result"
    }
   ],
   "source": [
    "data['budget'].describe()"
   ]
  },
  {
   "cell_type": "code",
   "execution_count": 59,
   "metadata": {},
   "outputs": [
    {
     "data": {
      "text/plain": [
       "count        7485.00\n",
       "mean       526252.51\n",
       "std       5781491.10\n",
       "min             0.00\n",
       "25%             0.00\n",
       "50%             0.00\n",
       "75%             0.00\n",
       "max     180000000.00\n",
       "Name: refundable_support, dtype: float64"
      ]
     },
     "execution_count": 59,
     "metadata": {},
     "output_type": "execute_result"
    }
   ],
   "source": [
    "data['refundable_support'].describe()"
   ]
  },
  {
   "cell_type": "code",
   "execution_count": 60,
   "metadata": {},
   "outputs": [
    {
     "data": {
      "text/plain": [
       "count        7485.00\n",
       "mean      2172570.25\n",
       "std      16149994.78\n",
       "min             0.00\n",
       "25%             0.00\n",
       "50%             0.00\n",
       "75%             0.00\n",
       "max     400000000.00\n",
       "Name: nonrefundable_support, dtype: float64"
      ]
     },
     "execution_count": 60,
     "metadata": {},
     "output_type": "execute_result"
    }
   ],
   "source": [
    "data['nonrefundable_support'].describe()"
   ]
  },
  {
   "cell_type": "markdown",
   "metadata": {},
   "source": [
    "В столбце budget содержатся данные, которые указаны только для тех фильмов, которые получили государственную поддержку. Рассмотрим их в разрезе соотношения с двумя другими объём возвратных средств государственной поддержки refundable_support и объём невозвратных средств государственной поддержки nonrefundable_support."
   ]
  },
  {
   "cell_type": "markdown",
   "metadata": {},
   "source": [
    "Для большинства фильмов есть информация о сборах, но проверим фильмы, которые были сняты при государственной поддержке, но по кассовым сборам у них 0."
   ]
  },
  {
   "cell_type": "code",
   "execution_count": 61,
   "metadata": {},
   "outputs": [
    {
     "data": {
      "text/html": [
       "<div>\n",
       "<style scoped>\n",
       "    .dataframe tbody tr th:only-of-type {\n",
       "        vertical-align: middle;\n",
       "    }\n",
       "\n",
       "    .dataframe tbody tr th {\n",
       "        vertical-align: top;\n",
       "    }\n",
       "\n",
       "    .dataframe thead th {\n",
       "        text-align: right;\n",
       "    }\n",
       "</style>\n",
       "<table border=\"1\" class=\"dataframe\">\n",
       "  <thead>\n",
       "    <tr style=\"text-align: right;\">\n",
       "      <th></th>\n",
       "      <th>title</th>\n",
       "      <th>puNumber</th>\n",
       "      <th>show_start_date</th>\n",
       "      <th>type</th>\n",
       "      <th>film_studio</th>\n",
       "      <th>production_country</th>\n",
       "      <th>director</th>\n",
       "      <th>producer</th>\n",
       "      <th>age_restriction</th>\n",
       "      <th>refundable_support</th>\n",
       "      <th>nonrefundable_support</th>\n",
       "      <th>budget</th>\n",
       "      <th>financing_source</th>\n",
       "      <th>ratings</th>\n",
       "      <th>genres</th>\n",
       "      <th>box_office</th>\n",
       "      <th>main_genres</th>\n",
       "    </tr>\n",
       "  </thead>\n",
       "  <tbody>\n",
       "    <tr>\n",
       "      <th>7473</th>\n",
       "      <td>Вторжение</td>\n",
       "      <td>111022519</td>\n",
       "      <td>2019-12-23 12:00:00+00:00</td>\n",
       "      <td>Художественный</td>\n",
       "      <td>ООО \"Арт Пикчерс Студия\", ООО \"Водород 2011\"</td>\n",
       "      <td>Россия</td>\n",
       "      <td>Ф.Бондарчук</td>\n",
       "      <td>Ф.Бондарчук, М.Врубель, А.Андрющенко, Д.Рудовский</td>\n",
       "      <td>«12+» - для детей старше 12 лет</td>\n",
       "      <td>100000000.00</td>\n",
       "      <td>400000000.00</td>\n",
       "      <td>944000000.00</td>\n",
       "      <td>Фонд кино</td>\n",
       "      <td>5.70</td>\n",
       "      <td>фантастика,боевик</td>\n",
       "      <td>0.00</td>\n",
       "      <td>фантастика</td>\n",
       "    </tr>\n",
       "    <tr>\n",
       "      <th>7477</th>\n",
       "      <td>(Не)идеальный мужчина</td>\n",
       "      <td>111023119</td>\n",
       "      <td>2019-12-24 12:00:00+00:00</td>\n",
       "      <td>Художественный</td>\n",
       "      <td>ООО \"Нон-Стоп Продакшн\"</td>\n",
       "      <td>Россия</td>\n",
       "      <td>М.Бальчюнас (псевдоним М.Вайсберг)</td>\n",
       "      <td>С.Мелькумов, А.Роднянский, М.Вайсберг, Р.Минас...</td>\n",
       "      <td>«12+» - для детей старше 12 лет</td>\n",
       "      <td>40000000.00</td>\n",
       "      <td>60000000.00</td>\n",
       "      <td>150147502.00</td>\n",
       "      <td>Фонд кино</td>\n",
       "      <td>4.50</td>\n",
       "      <td>комедия,фантастика,мелодрама</td>\n",
       "      <td>0.00</td>\n",
       "      <td>комедия</td>\n",
       "    </tr>\n",
       "  </tbody>\n",
       "</table>\n",
       "</div>"
      ],
      "text/plain": [
       "                      title   puNumber           show_start_date  \\\n",
       "7473              Вторжение  111022519 2019-12-23 12:00:00+00:00   \n",
       "7477  (Не)идеальный мужчина  111023119 2019-12-24 12:00:00+00:00   \n",
       "\n",
       "                type                                   film_studio  \\\n",
       "7473  Художественный  ООО \"Арт Пикчерс Студия\", ООО \"Водород 2011\"   \n",
       "7477  Художественный                      ООО \"Нон-Стоп Продакшн\"    \n",
       "\n",
       "     production_country                            director  \\\n",
       "7473             Россия                         Ф.Бондарчук   \n",
       "7477             Россия  М.Бальчюнас (псевдоним М.Вайсберг)   \n",
       "\n",
       "                                               producer  \\\n",
       "7473  Ф.Бондарчук, М.Врубель, А.Андрющенко, Д.Рудовский   \n",
       "7477  С.Мелькумов, А.Роднянский, М.Вайсберг, Р.Минас...   \n",
       "\n",
       "                      age_restriction  refundable_support  \\\n",
       "7473  «12+» - для детей старше 12 лет        100000000.00   \n",
       "7477  «12+» - для детей старше 12 лет         40000000.00   \n",
       "\n",
       "      nonrefundable_support       budget financing_source  ratings  \\\n",
       "7473           400000000.00 944000000.00        Фонд кино     5.70   \n",
       "7477            60000000.00 150147502.00        Фонд кино     4.50   \n",
       "\n",
       "                            genres  box_office main_genres  \n",
       "7473             фантастика,боевик        0.00  фантастика  \n",
       "7477  комедия,фантастика,мелодрама        0.00     комедия  "
      ]
     },
     "execution_count": 61,
     "metadata": {},
     "output_type": "execute_result"
    }
   ],
   "source": [
    "data.query('refundable_support > 0 and nonrefundable_support > 0 and budget > 0 and box_office == 0' )"
   ]
  },
  {
   "cell_type": "markdown",
   "metadata": {},
   "source": [
    "Фильмы, которые были сняты при поддержке государства и без сборов есть, но так как последняя дата, за которую есть данные это 2019-12-30 12:00:00+00:00, стоит предположить, что эти два фильма только вышли в прокат и пока не имеют информации о сборах."
   ]
  },
  {
   "cell_type": "markdown",
   "metadata": {},
   "source": [
    "Проверим данные для фильмов, у которых бюджет может быть меньше, чем для них зафиксирована сумма возвратных и невозвратных средств."
   ]
  },
  {
   "cell_type": "code",
   "execution_count": 62,
   "metadata": {},
   "outputs": [
    {
     "data": {
      "text/html": [
       "<div>\n",
       "<style scoped>\n",
       "    .dataframe tbody tr th:only-of-type {\n",
       "        vertical-align: middle;\n",
       "    }\n",
       "\n",
       "    .dataframe tbody tr th {\n",
       "        vertical-align: top;\n",
       "    }\n",
       "\n",
       "    .dataframe thead th {\n",
       "        text-align: right;\n",
       "    }\n",
       "</style>\n",
       "<table border=\"1\" class=\"dataframe\">\n",
       "  <thead>\n",
       "    <tr style=\"text-align: right;\">\n",
       "      <th></th>\n",
       "      <th>title</th>\n",
       "      <th>puNumber</th>\n",
       "      <th>show_start_date</th>\n",
       "      <th>type</th>\n",
       "      <th>film_studio</th>\n",
       "      <th>production_country</th>\n",
       "      <th>director</th>\n",
       "      <th>producer</th>\n",
       "      <th>age_restriction</th>\n",
       "      <th>refundable_support</th>\n",
       "      <th>nonrefundable_support</th>\n",
       "      <th>budget</th>\n",
       "      <th>financing_source</th>\n",
       "      <th>ratings</th>\n",
       "      <th>genres</th>\n",
       "      <th>box_office</th>\n",
       "      <th>main_genres</th>\n",
       "    </tr>\n",
       "  </thead>\n",
       "  <tbody>\n",
       "    <tr>\n",
       "      <th>2052</th>\n",
       "      <td>14+</td>\n",
       "      <td>111023614</td>\n",
       "      <td>2014-12-19 12:00:00+00:00</td>\n",
       "      <td>Художественный</td>\n",
       "      <td>ООО Киностудия  \"Сентябрь\"</td>\n",
       "      <td>Россия</td>\n",
       "      <td>А.Зайцев</td>\n",
       "      <td>О.Гранина, А.Зайцев</td>\n",
       "      <td>«16+» - для детей старше 16 лет</td>\n",
       "      <td>0.00</td>\n",
       "      <td>23000000.00</td>\n",
       "      <td>0.00</td>\n",
       "      <td>Министерство культуры, Фонд кино</td>\n",
       "      <td>6.60</td>\n",
       "      <td>мелодрама</td>\n",
       "      <td>10234016.10</td>\n",
       "      <td>мелодрама</td>\n",
       "    </tr>\n",
       "    <tr>\n",
       "      <th>2057</th>\n",
       "      <td>Дуxless 2</td>\n",
       "      <td>111000415</td>\n",
       "      <td>2015-01-26 12:00:00+00:00</td>\n",
       "      <td>Художественный</td>\n",
       "      <td>ООО \"Киностудия \"Слово\", ООО \"Арт Пикчерс Студия\"</td>\n",
       "      <td>Россия</td>\n",
       "      <td>Р.Прыгунов</td>\n",
       "      <td>П.Ануров, Ф.Бондарчук, Д.Рудовский</td>\n",
       "      <td>«16+» - для детей старше 16 лет</td>\n",
       "      <td>0.00</td>\n",
       "      <td>75000000.00</td>\n",
       "      <td>0.00</td>\n",
       "      <td>Фонд кино</td>\n",
       "      <td>6.60</td>\n",
       "      <td>драма</td>\n",
       "      <td>446163511.00</td>\n",
       "      <td>драма</td>\n",
       "    </tr>\n",
       "    <tr>\n",
       "      <th>2471</th>\n",
       "      <td>Воин (2015)</td>\n",
       "      <td>111017315</td>\n",
       "      <td>2015-09-28 12:00:00+00:00</td>\n",
       "      <td>Художественный</td>\n",
       "      <td>ООО \"Форпост Продакшн\", ООО \"Арт Пикчерс Студия\"</td>\n",
       "      <td>Россия</td>\n",
       "      <td>А.Андрианов</td>\n",
       "      <td>ООО \"Арт Пикчерс Студия\"</td>\n",
       "      <td>«12+» - для детей старше 12 лет</td>\n",
       "      <td>10000000.00</td>\n",
       "      <td>70000000.00</td>\n",
       "      <td>0.00</td>\n",
       "      <td>Фонд кино</td>\n",
       "      <td>7.80</td>\n",
       "      <td>боевик,драма,криминал</td>\n",
       "      <td>196572438.40</td>\n",
       "      <td>боевик</td>\n",
       "    </tr>\n",
       "    <tr>\n",
       "      <th>2531</th>\n",
       "      <td>Бармен.</td>\n",
       "      <td>111009615</td>\n",
       "      <td>2015-05-26 12:00:00+00:00</td>\n",
       "      <td>Художественный</td>\n",
       "      <td>АО \"ВайТ Медиа\", ООО \"Арт Пикчерс Студия\"</td>\n",
       "      <td>Россия</td>\n",
       "      <td>Д.Штурманова</td>\n",
       "      <td>Т.Вайнштейн</td>\n",
       "      <td>«16+» - для детей старше 16 лет</td>\n",
       "      <td>20000000.00</td>\n",
       "      <td>0.00</td>\n",
       "      <td>0.00</td>\n",
       "      <td>Фонд кино</td>\n",
       "      <td>6.20</td>\n",
       "      <td>комедия,фэнтези</td>\n",
       "      <td>67418974.80</td>\n",
       "      <td>комедия</td>\n",
       "    </tr>\n",
       "    <tr>\n",
       "      <th>2614</th>\n",
       "      <td>Савва. Сердце воина</td>\n",
       "      <td>114001715</td>\n",
       "      <td>2015-07-21 12:00:00+00:00</td>\n",
       "      <td>Анимационный</td>\n",
       "      <td>ООО \"Глюкоза Продакшн\", ООО \"Арт Пикчерс Студия\"</td>\n",
       "      <td>Россия</td>\n",
       "      <td>М.Фадеев</td>\n",
       "      <td>А.Чистяков</td>\n",
       "      <td>«6+» - для детей старше 6 лет</td>\n",
       "      <td>60000000.00</td>\n",
       "      <td>100000000.00</td>\n",
       "      <td>0.00</td>\n",
       "      <td>Фонд кино</td>\n",
       "      <td>4.60</td>\n",
       "      <td>мультфильм,приключения,фэнтези</td>\n",
       "      <td>184487551.40</td>\n",
       "      <td>мультфильм</td>\n",
       "    </tr>\n",
       "    <tr>\n",
       "      <th>2683</th>\n",
       "      <td>Тряпичный союз</td>\n",
       "      <td>111010215</td>\n",
       "      <td>2015-06-08 12:00:00+00:00</td>\n",
       "      <td>Художественный</td>\n",
       "      <td>ООО \"Кинокомпания \"КОКТЕБЕЛЬ\"</td>\n",
       "      <td>Россия</td>\n",
       "      <td>М.Местецкий</td>\n",
       "      <td>Р.Борисевич, А.Кушаев</td>\n",
       "      <td>«18+» - запрещено для детей</td>\n",
       "      <td>0.00</td>\n",
       "      <td>59000000.00</td>\n",
       "      <td>0.00</td>\n",
       "      <td>Фонд кино</td>\n",
       "      <td>6.30</td>\n",
       "      <td>комедия,драма</td>\n",
       "      <td>1957738.51</td>\n",
       "      <td>комедия</td>\n",
       "    </tr>\n",
       "    <tr>\n",
       "      <th>2787</th>\n",
       "      <td>Срочно выйду замуж</td>\n",
       "      <td>111017115</td>\n",
       "      <td>2015-09-30 12:00:00+00:00</td>\n",
       "      <td>Художественный</td>\n",
       "      <td>АО \"ВайТ Медиа\", ООО \"Арт Пикчерс Студия\"</td>\n",
       "      <td>Россия</td>\n",
       "      <td>С Чекалов</td>\n",
       "      <td>Ф.Бондарчук, Т.Вайнштейн, Д.Рудовский</td>\n",
       "      <td>«16+» - для детей старше 16 лет</td>\n",
       "      <td>0.00</td>\n",
       "      <td>35000000.00</td>\n",
       "      <td>0.00</td>\n",
       "      <td>Фонд кино</td>\n",
       "      <td>5.10</td>\n",
       "      <td>комедия,мелодрама</td>\n",
       "      <td>72937783.20</td>\n",
       "      <td>комедия</td>\n",
       "    </tr>\n",
       "    <tr>\n",
       "      <th>2873</th>\n",
       "      <td>Помню - не помню!</td>\n",
       "      <td>111004916</td>\n",
       "      <td>2016-03-01 12:00:00+00:00</td>\n",
       "      <td>Художественный</td>\n",
       "      <td>ООО \"КиноФирма\"</td>\n",
       "      <td>Россия</td>\n",
       "      <td>В.Ровенский</td>\n",
       "      <td>ООО \"КиноФирма\"</td>\n",
       "      <td>«12+» - для детей старше 12 лет</td>\n",
       "      <td>0.00</td>\n",
       "      <td>6000000.00</td>\n",
       "      <td>0.00</td>\n",
       "      <td>Министерство культуры</td>\n",
       "      <td>4.30</td>\n",
       "      <td>комедия</td>\n",
       "      <td>15362931.43</td>\n",
       "      <td>комедия</td>\n",
       "    </tr>\n",
       "    <tr>\n",
       "      <th>3046</th>\n",
       "      <td>Любовь с ограничениями</td>\n",
       "      <td>111008216</td>\n",
       "      <td>2016-04-29 12:00:00+00:00</td>\n",
       "      <td>Художественный</td>\n",
       "      <td>АО \"ВайТ Медиа\", ООО \"Арт Пикчерс Студия\"</td>\n",
       "      <td>Россия</td>\n",
       "      <td>Д.Тюрин</td>\n",
       "      <td>Ф.Бондарчук, Т.Вайнштейн, Д.Рудовский</td>\n",
       "      <td>«16+» - для детей старше 16 лет</td>\n",
       "      <td>19000000.00</td>\n",
       "      <td>51000000.00</td>\n",
       "      <td>0.00</td>\n",
       "      <td>Фонд кино</td>\n",
       "      <td>6.30</td>\n",
       "      <td>комедия,мелодрама</td>\n",
       "      <td>70299052.00</td>\n",
       "      <td>комедия</td>\n",
       "    </tr>\n",
       "    <tr>\n",
       "      <th>3564</th>\n",
       "      <td>Притяжение (2016)</td>\n",
       "      <td>111018116</td>\n",
       "      <td>2016-12-16 12:00:00+00:00</td>\n",
       "      <td>Художественный</td>\n",
       "      <td>ООО \"Водород 2011\",  ООО \"Арт Пикчерс Студия\"</td>\n",
       "      <td>Россия</td>\n",
       "      <td>Ф.Бондарчук</td>\n",
       "      <td>ООО \"Арт Пикчерс Студия\"</td>\n",
       "      <td>«12+» - для детей старше 12 лет</td>\n",
       "      <td>0.00</td>\n",
       "      <td>250000000.00</td>\n",
       "      <td>0.00</td>\n",
       "      <td>Фонд кино</td>\n",
       "      <td>5.60</td>\n",
       "      <td>фантастика</td>\n",
       "      <td>1038321489.00</td>\n",
       "      <td>фантастика</td>\n",
       "    </tr>\n",
       "    <tr>\n",
       "      <th>3674</th>\n",
       "      <td>Чудо-юдо</td>\n",
       "      <td>114001817</td>\n",
       "      <td>2017-06-27 12:00:00+00:00</td>\n",
       "      <td>Анимационный</td>\n",
       "      <td>ООО \"КиноФирма\"</td>\n",
       "      <td>Россия</td>\n",
       "      <td>А.Лукичев</td>\n",
       "      <td>ООО \"КиноФирма\"</td>\n",
       "      <td>«6+» - для детей старше 6 лет</td>\n",
       "      <td>20000000.00</td>\n",
       "      <td>20000000.00</td>\n",
       "      <td>0.00</td>\n",
       "      <td>Фонд кино</td>\n",
       "      <td>5.20</td>\n",
       "      <td>мультфильм,фэнтези,семейный</td>\n",
       "      <td>55108014.76</td>\n",
       "      <td>мультфильм</td>\n",
       "    </tr>\n",
       "    <tr>\n",
       "      <th>3738</th>\n",
       "      <td>Мифы</td>\n",
       "      <td>111004317</td>\n",
       "      <td>2017-06-07 12:00:00+00:00</td>\n",
       "      <td>Художественный</td>\n",
       "      <td>ООО \"ХАЙПФИЛМ\", ООО \"Арт Пикчерс Студия\"</td>\n",
       "      <td>Россия</td>\n",
       "      <td>А.Молочников</td>\n",
       "      <td>Ф.Бондарчук, Д.Рудовский, И.Стюарт, М.Османн, ...</td>\n",
       "      <td>«16+» - для детей старше 16 лет</td>\n",
       "      <td>25000000.00</td>\n",
       "      <td>20000000.00</td>\n",
       "      <td>0.00</td>\n",
       "      <td>Фонд кино</td>\n",
       "      <td>4.80</td>\n",
       "      <td>комедия</td>\n",
       "      <td>50451949.00</td>\n",
       "      <td>комедия</td>\n",
       "    </tr>\n",
       "    <tr>\n",
       "      <th>5672</th>\n",
       "      <td>Селфи</td>\n",
       "      <td>111012117</td>\n",
       "      <td>2018-02-01 12:00:00+00:00</td>\n",
       "      <td>Художественный</td>\n",
       "      <td>ООО \"Киностудия \"Слово\", ООО \"Арт Пикчерс Студия\"</td>\n",
       "      <td>Россия</td>\n",
       "      <td>Н.Хомерики</td>\n",
       "      <td>П.Ануров, Ф.Бондарчук, Д.Рудовский</td>\n",
       "      <td>«16+» - для детей старше 16 лет</td>\n",
       "      <td>20000000.00</td>\n",
       "      <td>40000000.00</td>\n",
       "      <td>0.00</td>\n",
       "      <td>Фонд кино</td>\n",
       "      <td>5.80</td>\n",
       "      <td>триллер,драма</td>\n",
       "      <td>225196400.03</td>\n",
       "      <td>триллер</td>\n",
       "    </tr>\n",
       "    <tr>\n",
       "      <th>5805</th>\n",
       "      <td>Два хвоста</td>\n",
       "      <td>114001018</td>\n",
       "      <td>2018-05-31 12:00:00+00:00</td>\n",
       "      <td>Анимационный</td>\n",
       "      <td>ООО \"ЛИЦЕНЗИОННЫЕ БРЕНДЫ\"</td>\n",
       "      <td>Россия</td>\n",
       "      <td>В.Ровенский, Н.Лопато, В.Азеев</td>\n",
       "      <td>ООО \"ЛИЦЕНЗИОННЫЕ БРЕНДЫ\"</td>\n",
       "      <td>«6+» - для детей старше 6 лет</td>\n",
       "      <td>10000000.00</td>\n",
       "      <td>60000000.00</td>\n",
       "      <td>0.00</td>\n",
       "      <td>Фонд кино</td>\n",
       "      <td>5.00</td>\n",
       "      <td>мультфильм,детский</td>\n",
       "      <td>106514301.03</td>\n",
       "      <td>мультфильм</td>\n",
       "    </tr>\n",
       "    <tr>\n",
       "      <th>6007</th>\n",
       "      <td>Принцесса и дракон</td>\n",
       "      <td>114003018</td>\n",
       "      <td>2018-08-23 12:00:00+00:00</td>\n",
       "      <td>Анимационный</td>\n",
       "      <td>ООО \"ЛИЦЕНЗИОННЫЕ БРЕНДЫ\"</td>\n",
       "      <td>Россия</td>\n",
       "      <td>М.Нефедова</td>\n",
       "      <td>ООО \"ЛИЦЕНЗИОННЫЕ БРЕНДЫ\"</td>\n",
       "      <td>«6+» - для детей старше 6 лет</td>\n",
       "      <td>40000000.00</td>\n",
       "      <td>40000000.00</td>\n",
       "      <td>0.00</td>\n",
       "      <td>Фонд кино</td>\n",
       "      <td>5.20</td>\n",
       "      <td>мультфильм,фэнтези,детский</td>\n",
       "      <td>83366328.66</td>\n",
       "      <td>мультфильм</td>\n",
       "    </tr>\n",
       "    <tr>\n",
       "      <th>6322</th>\n",
       "      <td>Баба Яга</td>\n",
       "      <td>114006518</td>\n",
       "      <td>2018-11-08 12:00:00+00:00</td>\n",
       "      <td>Анимационный</td>\n",
       "      <td>ООО \"Арт Пикчерс Студия\"</td>\n",
       "      <td>Россия</td>\n",
       "      <td>В.Саков</td>\n",
       "      <td>ООО \"Арт Пикчерс Студия\", ООО \"КРИЭЙТИВ АНИМЭЙ...</td>\n",
       "      <td>«6+» - для детей старше 6 лет</td>\n",
       "      <td>0.00</td>\n",
       "      <td>138969465.00</td>\n",
       "      <td>0.00</td>\n",
       "      <td>Фонд кино</td>\n",
       "      <td>0.00</td>\n",
       "      <td>Без жанра</td>\n",
       "      <td>1334699.40</td>\n",
       "      <td>Без жанра</td>\n",
       "    </tr>\n",
       "    <tr>\n",
       "      <th>6822</th>\n",
       "      <td>Большое путешествие</td>\n",
       "      <td>114002419</td>\n",
       "      <td>2019-04-20 12:00:00+00:00</td>\n",
       "      <td>Анимационный</td>\n",
       "      <td>ООО \"ЛИЦЕНЗИОННЫЕ БРЕНДЫ\"</td>\n",
       "      <td>Россия</td>\n",
       "      <td>Н.Лопато, В.Ровенский</td>\n",
       "      <td>ООО \"ЛИЦЕНЗИОННЫЕ БРЕНДЫ\"</td>\n",
       "      <td>«6+» - для детей старше 6 лет</td>\n",
       "      <td>60000000.00</td>\n",
       "      <td>120000000.00</td>\n",
       "      <td>0.00</td>\n",
       "      <td>Фонд кино</td>\n",
       "      <td>6.20</td>\n",
       "      <td>мультфильм,комедия,приключения</td>\n",
       "      <td>147606826.51</td>\n",
       "      <td>мультфильм</td>\n",
       "    </tr>\n",
       "  </tbody>\n",
       "</table>\n",
       "</div>"
      ],
      "text/plain": [
       "                       title   puNumber           show_start_date  \\\n",
       "2052                     14+  111023614 2014-12-19 12:00:00+00:00   \n",
       "2057               Дуxless 2  111000415 2015-01-26 12:00:00+00:00   \n",
       "2471             Воин (2015)  111017315 2015-09-28 12:00:00+00:00   \n",
       "2531                 Бармен.  111009615 2015-05-26 12:00:00+00:00   \n",
       "2614     Савва. Сердце воина  114001715 2015-07-21 12:00:00+00:00   \n",
       "2683          Тряпичный союз  111010215 2015-06-08 12:00:00+00:00   \n",
       "2787      Срочно выйду замуж  111017115 2015-09-30 12:00:00+00:00   \n",
       "2873       Помню - не помню!  111004916 2016-03-01 12:00:00+00:00   \n",
       "3046  Любовь с ограничениями  111008216 2016-04-29 12:00:00+00:00   \n",
       "3564       Притяжение (2016)  111018116 2016-12-16 12:00:00+00:00   \n",
       "3674                Чудо-юдо  114001817 2017-06-27 12:00:00+00:00   \n",
       "3738                    Мифы  111004317 2017-06-07 12:00:00+00:00   \n",
       "5672                   Селфи  111012117 2018-02-01 12:00:00+00:00   \n",
       "5805              Два хвоста  114001018 2018-05-31 12:00:00+00:00   \n",
       "6007      Принцесса и дракон  114003018 2018-08-23 12:00:00+00:00   \n",
       "6322                Баба Яга  114006518 2018-11-08 12:00:00+00:00   \n",
       "6822     Большое путешествие  114002419 2019-04-20 12:00:00+00:00   \n",
       "\n",
       "                type                                        film_studio  \\\n",
       "2052  Художественный                         ООО Киностудия  \"Сентябрь\"   \n",
       "2057  Художественный  ООО \"Киностудия \"Слово\", ООО \"Арт Пикчерс Студия\"   \n",
       "2471  Художественный   ООО \"Форпост Продакшн\", ООО \"Арт Пикчерс Студия\"   \n",
       "2531  Художественный          АО \"ВайТ Медиа\", ООО \"Арт Пикчерс Студия\"   \n",
       "2614    Анимационный   ООО \"Глюкоза Продакшн\", ООО \"Арт Пикчерс Студия\"   \n",
       "2683  Художественный                      ООО \"Кинокомпания \"КОКТЕБЕЛЬ\"   \n",
       "2787  Художественный          АО \"ВайТ Медиа\", ООО \"Арт Пикчерс Студия\"   \n",
       "2873  Художественный                                    ООО \"КиноФирма\"   \n",
       "3046  Художественный          АО \"ВайТ Медиа\", ООО \"Арт Пикчерс Студия\"   \n",
       "3564  Художественный      ООО \"Водород 2011\",  ООО \"Арт Пикчерс Студия\"   \n",
       "3674    Анимационный                                    ООО \"КиноФирма\"   \n",
       "3738  Художественный           ООО \"ХАЙПФИЛМ\", ООО \"Арт Пикчерс Студия\"   \n",
       "5672  Художественный  ООО \"Киностудия \"Слово\", ООО \"Арт Пикчерс Студия\"   \n",
       "5805    Анимационный                          ООО \"ЛИЦЕНЗИОННЫЕ БРЕНДЫ\"   \n",
       "6007    Анимационный                          ООО \"ЛИЦЕНЗИОННЫЕ БРЕНДЫ\"   \n",
       "6322    Анимационный                           ООО \"Арт Пикчерс Студия\"   \n",
       "6822    Анимационный                          ООО \"ЛИЦЕНЗИОННЫЕ БРЕНДЫ\"   \n",
       "\n",
       "     production_country                        director  \\\n",
       "2052             Россия                        А.Зайцев   \n",
       "2057             Россия                      Р.Прыгунов   \n",
       "2471             Россия                     А.Андрианов   \n",
       "2531             Россия                    Д.Штурманова   \n",
       "2614             Россия                        М.Фадеев   \n",
       "2683             Россия                     М.Местецкий   \n",
       "2787             Россия                       С Чекалов   \n",
       "2873             Россия                     В.Ровенский   \n",
       "3046             Россия                         Д.Тюрин   \n",
       "3564             Россия                     Ф.Бондарчук   \n",
       "3674             Россия                       А.Лукичев   \n",
       "3738             Россия                    А.Молочников   \n",
       "5672             Россия                      Н.Хомерики   \n",
       "5805             Россия  В.Ровенский, Н.Лопато, В.Азеев   \n",
       "6007             Россия                      М.Нефедова   \n",
       "6322             Россия                         В.Саков   \n",
       "6822             Россия           Н.Лопато, В.Ровенский   \n",
       "\n",
       "                                               producer  \\\n",
       "2052                                О.Гранина, А.Зайцев   \n",
       "2057                 П.Ануров, Ф.Бондарчук, Д.Рудовский   \n",
       "2471                           ООО \"Арт Пикчерс Студия\"   \n",
       "2531                                        Т.Вайнштейн   \n",
       "2614                                         А.Чистяков   \n",
       "2683                              Р.Борисевич, А.Кушаев   \n",
       "2787              Ф.Бондарчук, Т.Вайнштейн, Д.Рудовский   \n",
       "2873                                    ООО \"КиноФирма\"   \n",
       "3046              Ф.Бондарчук, Т.Вайнштейн, Д.Рудовский   \n",
       "3564                           ООО \"Арт Пикчерс Студия\"   \n",
       "3674                                    ООО \"КиноФирма\"   \n",
       "3738  Ф.Бондарчук, Д.Рудовский, И.Стюарт, М.Османн, ...   \n",
       "5672                 П.Ануров, Ф.Бондарчук, Д.Рудовский   \n",
       "5805                          ООО \"ЛИЦЕНЗИОННЫЕ БРЕНДЫ\"   \n",
       "6007                          ООО \"ЛИЦЕНЗИОННЫЕ БРЕНДЫ\"   \n",
       "6322  ООО \"Арт Пикчерс Студия\", ООО \"КРИЭЙТИВ АНИМЭЙ...   \n",
       "6822                          ООО \"ЛИЦЕНЗИОННЫЕ БРЕНДЫ\"   \n",
       "\n",
       "                      age_restriction  refundable_support  \\\n",
       "2052  «16+» - для детей старше 16 лет                0.00   \n",
       "2057  «16+» - для детей старше 16 лет                0.00   \n",
       "2471  «12+» - для детей старше 12 лет         10000000.00   \n",
       "2531  «16+» - для детей старше 16 лет         20000000.00   \n",
       "2614    «6+» - для детей старше 6 лет         60000000.00   \n",
       "2683      «18+» - запрещено для детей                0.00   \n",
       "2787  «16+» - для детей старше 16 лет                0.00   \n",
       "2873  «12+» - для детей старше 12 лет                0.00   \n",
       "3046  «16+» - для детей старше 16 лет         19000000.00   \n",
       "3564  «12+» - для детей старше 12 лет                0.00   \n",
       "3674    «6+» - для детей старше 6 лет         20000000.00   \n",
       "3738  «16+» - для детей старше 16 лет         25000000.00   \n",
       "5672  «16+» - для детей старше 16 лет         20000000.00   \n",
       "5805    «6+» - для детей старше 6 лет         10000000.00   \n",
       "6007    «6+» - для детей старше 6 лет         40000000.00   \n",
       "6322    «6+» - для детей старше 6 лет                0.00   \n",
       "6822    «6+» - для детей старше 6 лет         60000000.00   \n",
       "\n",
       "      nonrefundable_support  budget                  financing_source  \\\n",
       "2052            23000000.00    0.00  Министерство культуры, Фонд кино   \n",
       "2057            75000000.00    0.00                         Фонд кино   \n",
       "2471            70000000.00    0.00                         Фонд кино   \n",
       "2531                   0.00    0.00                         Фонд кино   \n",
       "2614           100000000.00    0.00                         Фонд кино   \n",
       "2683            59000000.00    0.00                         Фонд кино   \n",
       "2787            35000000.00    0.00                         Фонд кино   \n",
       "2873             6000000.00    0.00             Министерство культуры   \n",
       "3046            51000000.00    0.00                         Фонд кино   \n",
       "3564           250000000.00    0.00                         Фонд кино   \n",
       "3674            20000000.00    0.00                         Фонд кино   \n",
       "3738            20000000.00    0.00                         Фонд кино   \n",
       "5672            40000000.00    0.00                         Фонд кино   \n",
       "5805            60000000.00    0.00                         Фонд кино   \n",
       "6007            40000000.00    0.00                         Фонд кино   \n",
       "6322           138969465.00    0.00                         Фонд кино   \n",
       "6822           120000000.00    0.00                         Фонд кино   \n",
       "\n",
       "      ratings                          genres    box_office main_genres  \n",
       "2052     6.60                       мелодрама   10234016.10   мелодрама  \n",
       "2057     6.60                           драма  446163511.00       драма  \n",
       "2471     7.80           боевик,драма,криминал  196572438.40      боевик  \n",
       "2531     6.20                 комедия,фэнтези   67418974.80     комедия  \n",
       "2614     4.60  мультфильм,приключения,фэнтези  184487551.40  мультфильм  \n",
       "2683     6.30                   комедия,драма    1957738.51     комедия  \n",
       "2787     5.10               комедия,мелодрама   72937783.20     комедия  \n",
       "2873     4.30                         комедия   15362931.43     комедия  \n",
       "3046     6.30               комедия,мелодрама   70299052.00     комедия  \n",
       "3564     5.60                      фантастика 1038321489.00  фантастика  \n",
       "3674     5.20     мультфильм,фэнтези,семейный   55108014.76  мультфильм  \n",
       "3738     4.80                         комедия   50451949.00     комедия  \n",
       "5672     5.80                   триллер,драма  225196400.03     триллер  \n",
       "5805     5.00              мультфильм,детский  106514301.03  мультфильм  \n",
       "6007     5.20      мультфильм,фэнтези,детский   83366328.66  мультфильм  \n",
       "6322     0.00                       Без жанра    1334699.40   Без жанра  \n",
       "6822     6.20  мультфильм,комедия,приключения  147606826.51  мультфильм  "
      ]
     },
     "execution_count": 62,
     "metadata": {},
     "output_type": "execute_result"
    }
   ],
   "source": [
    "data_bad_budget_list = data[data['budget'] < (data['refundable_support'] + data['nonrefundable_support'])]\n",
    "data_bad_budget_list"
   ]
  },
  {
   "cell_type": "markdown",
   "metadata": {},
   "source": [
    "Некоторые фильмы получили государственную поддержку, но при этом в бюджете указана сумма 0. Мы проведем анализ, чтобы определить обычный объем господдержки. Предположим, что процент поддержки всегда примерно одинаков и мы можем заменить эту сумму медианным процентом от поддержки."
   ]
  },
  {
   "cell_type": "markdown",
   "metadata": {},
   "source": [
    "Найдем медиану по тем суммам, которые выделялись другим фильмам, определим процент государственной поддержки."
   ]
  },
  {
   "cell_type": "code",
   "execution_count": 63,
   "metadata": {},
   "outputs": [
    {
     "data": {
      "text/plain": [
       "61.0"
      ]
     },
     "execution_count": 63,
     "metadata": {},
     "output_type": "execute_result"
    }
   ],
   "source": [
    "data_budget_support_median  = round(data.eval('(refundable_support + nonrefundable_support) / budget').median(), 2)\n",
    "data_budget_support_median * 100"
   ]
  },
  {
   "cell_type": "markdown",
   "metadata": {},
   "source": [
    "Процент государственной поддержки обычно равен 61%."
   ]
  },
  {
   "cell_type": "markdown",
   "metadata": {},
   "source": [
    "Заполним пропущенные значения в budget."
   ]
  },
  {
   "cell_type": "code",
   "execution_count": 64,
   "metadata": {},
   "outputs": [
    {
     "data": {
      "text/html": [
       "<div>\n",
       "<style scoped>\n",
       "    .dataframe tbody tr th:only-of-type {\n",
       "        vertical-align: middle;\n",
       "    }\n",
       "\n",
       "    .dataframe tbody tr th {\n",
       "        vertical-align: top;\n",
       "    }\n",
       "\n",
       "    .dataframe thead th {\n",
       "        text-align: right;\n",
       "    }\n",
       "</style>\n",
       "<table border=\"1\" class=\"dataframe\">\n",
       "  <thead>\n",
       "    <tr style=\"text-align: right;\">\n",
       "      <th></th>\n",
       "      <th>title</th>\n",
       "      <th>puNumber</th>\n",
       "      <th>show_start_date</th>\n",
       "      <th>type</th>\n",
       "      <th>film_studio</th>\n",
       "      <th>production_country</th>\n",
       "      <th>director</th>\n",
       "      <th>producer</th>\n",
       "      <th>age_restriction</th>\n",
       "      <th>refundable_support</th>\n",
       "      <th>nonrefundable_support</th>\n",
       "      <th>budget</th>\n",
       "      <th>financing_source</th>\n",
       "      <th>ratings</th>\n",
       "      <th>genres</th>\n",
       "      <th>box_office</th>\n",
       "      <th>main_genres</th>\n",
       "    </tr>\n",
       "  </thead>\n",
       "  <tbody>\n",
       "    <tr>\n",
       "      <th>2052</th>\n",
       "      <td>14+</td>\n",
       "      <td>111023614</td>\n",
       "      <td>2014-12-19 12:00:00+00:00</td>\n",
       "      <td>Художественный</td>\n",
       "      <td>ООО Киностудия  \"Сентябрь\"</td>\n",
       "      <td>Россия</td>\n",
       "      <td>А.Зайцев</td>\n",
       "      <td>О.Гранина, А.Зайцев</td>\n",
       "      <td>«16+» - для детей старше 16 лет</td>\n",
       "      <td>0.00</td>\n",
       "      <td>23000000.00</td>\n",
       "      <td>37704918.03</td>\n",
       "      <td>Министерство культуры, Фонд кино</td>\n",
       "      <td>6.60</td>\n",
       "      <td>мелодрама</td>\n",
       "      <td>10234016.10</td>\n",
       "      <td>мелодрама</td>\n",
       "    </tr>\n",
       "    <tr>\n",
       "      <th>2057</th>\n",
       "      <td>Дуxless 2</td>\n",
       "      <td>111000415</td>\n",
       "      <td>2015-01-26 12:00:00+00:00</td>\n",
       "      <td>Художественный</td>\n",
       "      <td>ООО \"Киностудия \"Слово\", ООО \"Арт Пикчерс Студия\"</td>\n",
       "      <td>Россия</td>\n",
       "      <td>Р.Прыгунов</td>\n",
       "      <td>П.Ануров, Ф.Бондарчук, Д.Рудовский</td>\n",
       "      <td>«16+» - для детей старше 16 лет</td>\n",
       "      <td>0.00</td>\n",
       "      <td>75000000.00</td>\n",
       "      <td>122950819.67</td>\n",
       "      <td>Фонд кино</td>\n",
       "      <td>6.60</td>\n",
       "      <td>драма</td>\n",
       "      <td>446163511.00</td>\n",
       "      <td>драма</td>\n",
       "    </tr>\n",
       "    <tr>\n",
       "      <th>2471</th>\n",
       "      <td>Воин (2015)</td>\n",
       "      <td>111017315</td>\n",
       "      <td>2015-09-28 12:00:00+00:00</td>\n",
       "      <td>Художественный</td>\n",
       "      <td>ООО \"Форпост Продакшн\", ООО \"Арт Пикчерс Студия\"</td>\n",
       "      <td>Россия</td>\n",
       "      <td>А.Андрианов</td>\n",
       "      <td>ООО \"Арт Пикчерс Студия\"</td>\n",
       "      <td>«12+» - для детей старше 12 лет</td>\n",
       "      <td>10000000.00</td>\n",
       "      <td>70000000.00</td>\n",
       "      <td>131147540.98</td>\n",
       "      <td>Фонд кино</td>\n",
       "      <td>7.80</td>\n",
       "      <td>боевик,драма,криминал</td>\n",
       "      <td>196572438.40</td>\n",
       "      <td>боевик</td>\n",
       "    </tr>\n",
       "    <tr>\n",
       "      <th>2531</th>\n",
       "      <td>Бармен.</td>\n",
       "      <td>111009615</td>\n",
       "      <td>2015-05-26 12:00:00+00:00</td>\n",
       "      <td>Художественный</td>\n",
       "      <td>АО \"ВайТ Медиа\", ООО \"Арт Пикчерс Студия\"</td>\n",
       "      <td>Россия</td>\n",
       "      <td>Д.Штурманова</td>\n",
       "      <td>Т.Вайнштейн</td>\n",
       "      <td>«16+» - для детей старше 16 лет</td>\n",
       "      <td>20000000.00</td>\n",
       "      <td>0.00</td>\n",
       "      <td>32786885.25</td>\n",
       "      <td>Фонд кино</td>\n",
       "      <td>6.20</td>\n",
       "      <td>комедия,фэнтези</td>\n",
       "      <td>67418974.80</td>\n",
       "      <td>комедия</td>\n",
       "    </tr>\n",
       "    <tr>\n",
       "      <th>2614</th>\n",
       "      <td>Савва. Сердце воина</td>\n",
       "      <td>114001715</td>\n",
       "      <td>2015-07-21 12:00:00+00:00</td>\n",
       "      <td>Анимационный</td>\n",
       "      <td>ООО \"Глюкоза Продакшн\", ООО \"Арт Пикчерс Студия\"</td>\n",
       "      <td>Россия</td>\n",
       "      <td>М.Фадеев</td>\n",
       "      <td>А.Чистяков</td>\n",
       "      <td>«6+» - для детей старше 6 лет</td>\n",
       "      <td>60000000.00</td>\n",
       "      <td>100000000.00</td>\n",
       "      <td>262295081.97</td>\n",
       "      <td>Фонд кино</td>\n",
       "      <td>4.60</td>\n",
       "      <td>мультфильм,приключения,фэнтези</td>\n",
       "      <td>184487551.40</td>\n",
       "      <td>мультфильм</td>\n",
       "    </tr>\n",
       "    <tr>\n",
       "      <th>2683</th>\n",
       "      <td>Тряпичный союз</td>\n",
       "      <td>111010215</td>\n",
       "      <td>2015-06-08 12:00:00+00:00</td>\n",
       "      <td>Художественный</td>\n",
       "      <td>ООО \"Кинокомпания \"КОКТЕБЕЛЬ\"</td>\n",
       "      <td>Россия</td>\n",
       "      <td>М.Местецкий</td>\n",
       "      <td>Р.Борисевич, А.Кушаев</td>\n",
       "      <td>«18+» - запрещено для детей</td>\n",
       "      <td>0.00</td>\n",
       "      <td>59000000.00</td>\n",
       "      <td>96721311.48</td>\n",
       "      <td>Фонд кино</td>\n",
       "      <td>6.30</td>\n",
       "      <td>комедия,драма</td>\n",
       "      <td>1957738.51</td>\n",
       "      <td>комедия</td>\n",
       "    </tr>\n",
       "    <tr>\n",
       "      <th>2787</th>\n",
       "      <td>Срочно выйду замуж</td>\n",
       "      <td>111017115</td>\n",
       "      <td>2015-09-30 12:00:00+00:00</td>\n",
       "      <td>Художественный</td>\n",
       "      <td>АО \"ВайТ Медиа\", ООО \"Арт Пикчерс Студия\"</td>\n",
       "      <td>Россия</td>\n",
       "      <td>С Чекалов</td>\n",
       "      <td>Ф.Бондарчук, Т.Вайнштейн, Д.Рудовский</td>\n",
       "      <td>«16+» - для детей старше 16 лет</td>\n",
       "      <td>0.00</td>\n",
       "      <td>35000000.00</td>\n",
       "      <td>57377049.18</td>\n",
       "      <td>Фонд кино</td>\n",
       "      <td>5.10</td>\n",
       "      <td>комедия,мелодрама</td>\n",
       "      <td>72937783.20</td>\n",
       "      <td>комедия</td>\n",
       "    </tr>\n",
       "    <tr>\n",
       "      <th>2873</th>\n",
       "      <td>Помню - не помню!</td>\n",
       "      <td>111004916</td>\n",
       "      <td>2016-03-01 12:00:00+00:00</td>\n",
       "      <td>Художественный</td>\n",
       "      <td>ООО \"КиноФирма\"</td>\n",
       "      <td>Россия</td>\n",
       "      <td>В.Ровенский</td>\n",
       "      <td>ООО \"КиноФирма\"</td>\n",
       "      <td>«12+» - для детей старше 12 лет</td>\n",
       "      <td>0.00</td>\n",
       "      <td>6000000.00</td>\n",
       "      <td>9836065.57</td>\n",
       "      <td>Министерство культуры</td>\n",
       "      <td>4.30</td>\n",
       "      <td>комедия</td>\n",
       "      <td>15362931.43</td>\n",
       "      <td>комедия</td>\n",
       "    </tr>\n",
       "    <tr>\n",
       "      <th>3046</th>\n",
       "      <td>Любовь с ограничениями</td>\n",
       "      <td>111008216</td>\n",
       "      <td>2016-04-29 12:00:00+00:00</td>\n",
       "      <td>Художественный</td>\n",
       "      <td>АО \"ВайТ Медиа\", ООО \"Арт Пикчерс Студия\"</td>\n",
       "      <td>Россия</td>\n",
       "      <td>Д.Тюрин</td>\n",
       "      <td>Ф.Бондарчук, Т.Вайнштейн, Д.Рудовский</td>\n",
       "      <td>«16+» - для детей старше 16 лет</td>\n",
       "      <td>19000000.00</td>\n",
       "      <td>51000000.00</td>\n",
       "      <td>114754098.36</td>\n",
       "      <td>Фонд кино</td>\n",
       "      <td>6.30</td>\n",
       "      <td>комедия,мелодрама</td>\n",
       "      <td>70299052.00</td>\n",
       "      <td>комедия</td>\n",
       "    </tr>\n",
       "    <tr>\n",
       "      <th>3564</th>\n",
       "      <td>Притяжение (2016)</td>\n",
       "      <td>111018116</td>\n",
       "      <td>2016-12-16 12:00:00+00:00</td>\n",
       "      <td>Художественный</td>\n",
       "      <td>ООО \"Водород 2011\",  ООО \"Арт Пикчерс Студия\"</td>\n",
       "      <td>Россия</td>\n",
       "      <td>Ф.Бондарчук</td>\n",
       "      <td>ООО \"Арт Пикчерс Студия\"</td>\n",
       "      <td>«12+» - для детей старше 12 лет</td>\n",
       "      <td>0.00</td>\n",
       "      <td>250000000.00</td>\n",
       "      <td>409836065.57</td>\n",
       "      <td>Фонд кино</td>\n",
       "      <td>5.60</td>\n",
       "      <td>фантастика</td>\n",
       "      <td>1038321489.00</td>\n",
       "      <td>фантастика</td>\n",
       "    </tr>\n",
       "    <tr>\n",
       "      <th>3674</th>\n",
       "      <td>Чудо-юдо</td>\n",
       "      <td>114001817</td>\n",
       "      <td>2017-06-27 12:00:00+00:00</td>\n",
       "      <td>Анимационный</td>\n",
       "      <td>ООО \"КиноФирма\"</td>\n",
       "      <td>Россия</td>\n",
       "      <td>А.Лукичев</td>\n",
       "      <td>ООО \"КиноФирма\"</td>\n",
       "      <td>«6+» - для детей старше 6 лет</td>\n",
       "      <td>20000000.00</td>\n",
       "      <td>20000000.00</td>\n",
       "      <td>65573770.49</td>\n",
       "      <td>Фонд кино</td>\n",
       "      <td>5.20</td>\n",
       "      <td>мультфильм,фэнтези,семейный</td>\n",
       "      <td>55108014.76</td>\n",
       "      <td>мультфильм</td>\n",
       "    </tr>\n",
       "    <tr>\n",
       "      <th>3738</th>\n",
       "      <td>Мифы</td>\n",
       "      <td>111004317</td>\n",
       "      <td>2017-06-07 12:00:00+00:00</td>\n",
       "      <td>Художественный</td>\n",
       "      <td>ООО \"ХАЙПФИЛМ\", ООО \"Арт Пикчерс Студия\"</td>\n",
       "      <td>Россия</td>\n",
       "      <td>А.Молочников</td>\n",
       "      <td>Ф.Бондарчук, Д.Рудовский, И.Стюарт, М.Османн, ...</td>\n",
       "      <td>«16+» - для детей старше 16 лет</td>\n",
       "      <td>25000000.00</td>\n",
       "      <td>20000000.00</td>\n",
       "      <td>73770491.80</td>\n",
       "      <td>Фонд кино</td>\n",
       "      <td>4.80</td>\n",
       "      <td>комедия</td>\n",
       "      <td>50451949.00</td>\n",
       "      <td>комедия</td>\n",
       "    </tr>\n",
       "    <tr>\n",
       "      <th>5672</th>\n",
       "      <td>Селфи</td>\n",
       "      <td>111012117</td>\n",
       "      <td>2018-02-01 12:00:00+00:00</td>\n",
       "      <td>Художественный</td>\n",
       "      <td>ООО \"Киностудия \"Слово\", ООО \"Арт Пикчерс Студия\"</td>\n",
       "      <td>Россия</td>\n",
       "      <td>Н.Хомерики</td>\n",
       "      <td>П.Ануров, Ф.Бондарчук, Д.Рудовский</td>\n",
       "      <td>«16+» - для детей старше 16 лет</td>\n",
       "      <td>20000000.00</td>\n",
       "      <td>40000000.00</td>\n",
       "      <td>98360655.74</td>\n",
       "      <td>Фонд кино</td>\n",
       "      <td>5.80</td>\n",
       "      <td>триллер,драма</td>\n",
       "      <td>225196400.03</td>\n",
       "      <td>триллер</td>\n",
       "    </tr>\n",
       "    <tr>\n",
       "      <th>5805</th>\n",
       "      <td>Два хвоста</td>\n",
       "      <td>114001018</td>\n",
       "      <td>2018-05-31 12:00:00+00:00</td>\n",
       "      <td>Анимационный</td>\n",
       "      <td>ООО \"ЛИЦЕНЗИОННЫЕ БРЕНДЫ\"</td>\n",
       "      <td>Россия</td>\n",
       "      <td>В.Ровенский, Н.Лопато, В.Азеев</td>\n",
       "      <td>ООО \"ЛИЦЕНЗИОННЫЕ БРЕНДЫ\"</td>\n",
       "      <td>«6+» - для детей старше 6 лет</td>\n",
       "      <td>10000000.00</td>\n",
       "      <td>60000000.00</td>\n",
       "      <td>114754098.36</td>\n",
       "      <td>Фонд кино</td>\n",
       "      <td>5.00</td>\n",
       "      <td>мультфильм,детский</td>\n",
       "      <td>106514301.03</td>\n",
       "      <td>мультфильм</td>\n",
       "    </tr>\n",
       "    <tr>\n",
       "      <th>6007</th>\n",
       "      <td>Принцесса и дракон</td>\n",
       "      <td>114003018</td>\n",
       "      <td>2018-08-23 12:00:00+00:00</td>\n",
       "      <td>Анимационный</td>\n",
       "      <td>ООО \"ЛИЦЕНЗИОННЫЕ БРЕНДЫ\"</td>\n",
       "      <td>Россия</td>\n",
       "      <td>М.Нефедова</td>\n",
       "      <td>ООО \"ЛИЦЕНЗИОННЫЕ БРЕНДЫ\"</td>\n",
       "      <td>«6+» - для детей старше 6 лет</td>\n",
       "      <td>40000000.00</td>\n",
       "      <td>40000000.00</td>\n",
       "      <td>131147540.98</td>\n",
       "      <td>Фонд кино</td>\n",
       "      <td>5.20</td>\n",
       "      <td>мультфильм,фэнтези,детский</td>\n",
       "      <td>83366328.66</td>\n",
       "      <td>мультфильм</td>\n",
       "    </tr>\n",
       "    <tr>\n",
       "      <th>6322</th>\n",
       "      <td>Баба Яга</td>\n",
       "      <td>114006518</td>\n",
       "      <td>2018-11-08 12:00:00+00:00</td>\n",
       "      <td>Анимационный</td>\n",
       "      <td>ООО \"Арт Пикчерс Студия\"</td>\n",
       "      <td>Россия</td>\n",
       "      <td>В.Саков</td>\n",
       "      <td>ООО \"Арт Пикчерс Студия\", ООО \"КРИЭЙТИВ АНИМЭЙ...</td>\n",
       "      <td>«6+» - для детей старше 6 лет</td>\n",
       "      <td>0.00</td>\n",
       "      <td>138969465.00</td>\n",
       "      <td>227818795.08</td>\n",
       "      <td>Фонд кино</td>\n",
       "      <td>0.00</td>\n",
       "      <td>Без жанра</td>\n",
       "      <td>1334699.40</td>\n",
       "      <td>Без жанра</td>\n",
       "    </tr>\n",
       "    <tr>\n",
       "      <th>6822</th>\n",
       "      <td>Большое путешествие</td>\n",
       "      <td>114002419</td>\n",
       "      <td>2019-04-20 12:00:00+00:00</td>\n",
       "      <td>Анимационный</td>\n",
       "      <td>ООО \"ЛИЦЕНЗИОННЫЕ БРЕНДЫ\"</td>\n",
       "      <td>Россия</td>\n",
       "      <td>Н.Лопато, В.Ровенский</td>\n",
       "      <td>ООО \"ЛИЦЕНЗИОННЫЕ БРЕНДЫ\"</td>\n",
       "      <td>«6+» - для детей старше 6 лет</td>\n",
       "      <td>60000000.00</td>\n",
       "      <td>120000000.00</td>\n",
       "      <td>295081967.21</td>\n",
       "      <td>Фонд кино</td>\n",
       "      <td>6.20</td>\n",
       "      <td>мультфильм,комедия,приключения</td>\n",
       "      <td>147606826.51</td>\n",
       "      <td>мультфильм</td>\n",
       "    </tr>\n",
       "  </tbody>\n",
       "</table>\n",
       "</div>"
      ],
      "text/plain": [
       "                       title   puNumber           show_start_date  \\\n",
       "2052                     14+  111023614 2014-12-19 12:00:00+00:00   \n",
       "2057               Дуxless 2  111000415 2015-01-26 12:00:00+00:00   \n",
       "2471             Воин (2015)  111017315 2015-09-28 12:00:00+00:00   \n",
       "2531                 Бармен.  111009615 2015-05-26 12:00:00+00:00   \n",
       "2614     Савва. Сердце воина  114001715 2015-07-21 12:00:00+00:00   \n",
       "2683          Тряпичный союз  111010215 2015-06-08 12:00:00+00:00   \n",
       "2787      Срочно выйду замуж  111017115 2015-09-30 12:00:00+00:00   \n",
       "2873       Помню - не помню!  111004916 2016-03-01 12:00:00+00:00   \n",
       "3046  Любовь с ограничениями  111008216 2016-04-29 12:00:00+00:00   \n",
       "3564       Притяжение (2016)  111018116 2016-12-16 12:00:00+00:00   \n",
       "3674                Чудо-юдо  114001817 2017-06-27 12:00:00+00:00   \n",
       "3738                    Мифы  111004317 2017-06-07 12:00:00+00:00   \n",
       "5672                   Селфи  111012117 2018-02-01 12:00:00+00:00   \n",
       "5805              Два хвоста  114001018 2018-05-31 12:00:00+00:00   \n",
       "6007      Принцесса и дракон  114003018 2018-08-23 12:00:00+00:00   \n",
       "6322                Баба Яга  114006518 2018-11-08 12:00:00+00:00   \n",
       "6822     Большое путешествие  114002419 2019-04-20 12:00:00+00:00   \n",
       "\n",
       "                type                                        film_studio  \\\n",
       "2052  Художественный                         ООО Киностудия  \"Сентябрь\"   \n",
       "2057  Художественный  ООО \"Киностудия \"Слово\", ООО \"Арт Пикчерс Студия\"   \n",
       "2471  Художественный   ООО \"Форпост Продакшн\", ООО \"Арт Пикчерс Студия\"   \n",
       "2531  Художественный          АО \"ВайТ Медиа\", ООО \"Арт Пикчерс Студия\"   \n",
       "2614    Анимационный   ООО \"Глюкоза Продакшн\", ООО \"Арт Пикчерс Студия\"   \n",
       "2683  Художественный                      ООО \"Кинокомпания \"КОКТЕБЕЛЬ\"   \n",
       "2787  Художественный          АО \"ВайТ Медиа\", ООО \"Арт Пикчерс Студия\"   \n",
       "2873  Художественный                                    ООО \"КиноФирма\"   \n",
       "3046  Художественный          АО \"ВайТ Медиа\", ООО \"Арт Пикчерс Студия\"   \n",
       "3564  Художественный      ООО \"Водород 2011\",  ООО \"Арт Пикчерс Студия\"   \n",
       "3674    Анимационный                                    ООО \"КиноФирма\"   \n",
       "3738  Художественный           ООО \"ХАЙПФИЛМ\", ООО \"Арт Пикчерс Студия\"   \n",
       "5672  Художественный  ООО \"Киностудия \"Слово\", ООО \"Арт Пикчерс Студия\"   \n",
       "5805    Анимационный                          ООО \"ЛИЦЕНЗИОННЫЕ БРЕНДЫ\"   \n",
       "6007    Анимационный                          ООО \"ЛИЦЕНЗИОННЫЕ БРЕНДЫ\"   \n",
       "6322    Анимационный                           ООО \"Арт Пикчерс Студия\"   \n",
       "6822    Анимационный                          ООО \"ЛИЦЕНЗИОННЫЕ БРЕНДЫ\"   \n",
       "\n",
       "     production_country                        director  \\\n",
       "2052             Россия                        А.Зайцев   \n",
       "2057             Россия                      Р.Прыгунов   \n",
       "2471             Россия                     А.Андрианов   \n",
       "2531             Россия                    Д.Штурманова   \n",
       "2614             Россия                        М.Фадеев   \n",
       "2683             Россия                     М.Местецкий   \n",
       "2787             Россия                       С Чекалов   \n",
       "2873             Россия                     В.Ровенский   \n",
       "3046             Россия                         Д.Тюрин   \n",
       "3564             Россия                     Ф.Бондарчук   \n",
       "3674             Россия                       А.Лукичев   \n",
       "3738             Россия                    А.Молочников   \n",
       "5672             Россия                      Н.Хомерики   \n",
       "5805             Россия  В.Ровенский, Н.Лопато, В.Азеев   \n",
       "6007             Россия                      М.Нефедова   \n",
       "6322             Россия                         В.Саков   \n",
       "6822             Россия           Н.Лопато, В.Ровенский   \n",
       "\n",
       "                                               producer  \\\n",
       "2052                                О.Гранина, А.Зайцев   \n",
       "2057                 П.Ануров, Ф.Бондарчук, Д.Рудовский   \n",
       "2471                           ООО \"Арт Пикчерс Студия\"   \n",
       "2531                                        Т.Вайнштейн   \n",
       "2614                                         А.Чистяков   \n",
       "2683                              Р.Борисевич, А.Кушаев   \n",
       "2787              Ф.Бондарчук, Т.Вайнштейн, Д.Рудовский   \n",
       "2873                                    ООО \"КиноФирма\"   \n",
       "3046              Ф.Бондарчук, Т.Вайнштейн, Д.Рудовский   \n",
       "3564                           ООО \"Арт Пикчерс Студия\"   \n",
       "3674                                    ООО \"КиноФирма\"   \n",
       "3738  Ф.Бондарчук, Д.Рудовский, И.Стюарт, М.Османн, ...   \n",
       "5672                 П.Ануров, Ф.Бондарчук, Д.Рудовский   \n",
       "5805                          ООО \"ЛИЦЕНЗИОННЫЕ БРЕНДЫ\"   \n",
       "6007                          ООО \"ЛИЦЕНЗИОННЫЕ БРЕНДЫ\"   \n",
       "6322  ООО \"Арт Пикчерс Студия\", ООО \"КРИЭЙТИВ АНИМЭЙ...   \n",
       "6822                          ООО \"ЛИЦЕНЗИОННЫЕ БРЕНДЫ\"   \n",
       "\n",
       "                      age_restriction  refundable_support  \\\n",
       "2052  «16+» - для детей старше 16 лет                0.00   \n",
       "2057  «16+» - для детей старше 16 лет                0.00   \n",
       "2471  «12+» - для детей старше 12 лет         10000000.00   \n",
       "2531  «16+» - для детей старше 16 лет         20000000.00   \n",
       "2614    «6+» - для детей старше 6 лет         60000000.00   \n",
       "2683      «18+» - запрещено для детей                0.00   \n",
       "2787  «16+» - для детей старше 16 лет                0.00   \n",
       "2873  «12+» - для детей старше 12 лет                0.00   \n",
       "3046  «16+» - для детей старше 16 лет         19000000.00   \n",
       "3564  «12+» - для детей старше 12 лет                0.00   \n",
       "3674    «6+» - для детей старше 6 лет         20000000.00   \n",
       "3738  «16+» - для детей старше 16 лет         25000000.00   \n",
       "5672  «16+» - для детей старше 16 лет         20000000.00   \n",
       "5805    «6+» - для детей старше 6 лет         10000000.00   \n",
       "6007    «6+» - для детей старше 6 лет         40000000.00   \n",
       "6322    «6+» - для детей старше 6 лет                0.00   \n",
       "6822    «6+» - для детей старше 6 лет         60000000.00   \n",
       "\n",
       "      nonrefundable_support       budget                  financing_source  \\\n",
       "2052            23000000.00  37704918.03  Министерство культуры, Фонд кино   \n",
       "2057            75000000.00 122950819.67                         Фонд кино   \n",
       "2471            70000000.00 131147540.98                         Фонд кино   \n",
       "2531                   0.00  32786885.25                         Фонд кино   \n",
       "2614           100000000.00 262295081.97                         Фонд кино   \n",
       "2683            59000000.00  96721311.48                         Фонд кино   \n",
       "2787            35000000.00  57377049.18                         Фонд кино   \n",
       "2873             6000000.00   9836065.57             Министерство культуры   \n",
       "3046            51000000.00 114754098.36                         Фонд кино   \n",
       "3564           250000000.00 409836065.57                         Фонд кино   \n",
       "3674            20000000.00  65573770.49                         Фонд кино   \n",
       "3738            20000000.00  73770491.80                         Фонд кино   \n",
       "5672            40000000.00  98360655.74                         Фонд кино   \n",
       "5805            60000000.00 114754098.36                         Фонд кино   \n",
       "6007            40000000.00 131147540.98                         Фонд кино   \n",
       "6322           138969465.00 227818795.08                         Фонд кино   \n",
       "6822           120000000.00 295081967.21                         Фонд кино   \n",
       "\n",
       "      ratings                          genres    box_office main_genres  \n",
       "2052     6.60                       мелодрама   10234016.10   мелодрама  \n",
       "2057     6.60                           драма  446163511.00       драма  \n",
       "2471     7.80           боевик,драма,криминал  196572438.40      боевик  \n",
       "2531     6.20                 комедия,фэнтези   67418974.80     комедия  \n",
       "2614     4.60  мультфильм,приключения,фэнтези  184487551.40  мультфильм  \n",
       "2683     6.30                   комедия,драма    1957738.51     комедия  \n",
       "2787     5.10               комедия,мелодрама   72937783.20     комедия  \n",
       "2873     4.30                         комедия   15362931.43     комедия  \n",
       "3046     6.30               комедия,мелодрама   70299052.00     комедия  \n",
       "3564     5.60                      фантастика 1038321489.00  фантастика  \n",
       "3674     5.20     мультфильм,фэнтези,семейный   55108014.76  мультфильм  \n",
       "3738     4.80                         комедия   50451949.00     комедия  \n",
       "5672     5.80                   триллер,драма  225196400.03     триллер  \n",
       "5805     5.00              мультфильм,детский  106514301.03  мультфильм  \n",
       "6007     5.20      мультфильм,фэнтези,детский   83366328.66  мультфильм  \n",
       "6322     0.00                       Без жанра    1334699.40   Без жанра  \n",
       "6822     6.20  мультфильм,комедия,приключения  147606826.51  мультфильм  "
      ]
     },
     "execution_count": 64,
     "metadata": {},
     "output_type": "execute_result"
    }
   ],
   "source": [
    "data.loc[data_bad_budget_list.index, 'budget'] = (data.loc[data_bad_budget_list.index, 'refundable_support'] + data.loc[data_bad_budget_list.index, 'nonrefundable_support']) / data_budget_support_median\n",
    "data.loc[data_bad_budget_list.index]"
   ]
  },
  {
   "cell_type": "markdown",
   "metadata": {
    "id": "Eu6oWp2CgFyS"
   },
   "source": [
    "#### Шаг 2.6. Добавьте новые столбцы\n",
    "\n",
    "\n",
    "\n"
   ]
  },
  {
   "cell_type": "markdown",
   "metadata": {
    "id": "7GgW-UpAgFyS"
   },
   "source": [
    "- Создайте столбец с информацией о годе проката. Выделите год из даты премьеры фильма."
   ]
  },
  {
   "cell_type": "markdown",
   "metadata": {
    "id": "I-yd1DkWgFyT"
   },
   "source": [
    "##### Год начала проката show_start_year"
   ]
  },
  {
   "cell_type": "markdown",
   "metadata": {},
   "source": [
    "Добавим столбец с информацией о годе проката."
   ]
  },
  {
   "cell_type": "code",
   "execution_count": 65,
   "metadata": {},
   "outputs": [],
   "source": [
    "data['show_start_year'] = pd.DatetimeIndex(data['show_start_date']).year"
   ]
  },
  {
   "cell_type": "code",
   "execution_count": 66,
   "metadata": {},
   "outputs": [
    {
     "data": {
      "text/html": [
       "<div>\n",
       "<style scoped>\n",
       "    .dataframe tbody tr th:only-of-type {\n",
       "        vertical-align: middle;\n",
       "    }\n",
       "\n",
       "    .dataframe tbody tr th {\n",
       "        vertical-align: top;\n",
       "    }\n",
       "\n",
       "    .dataframe thead th {\n",
       "        text-align: right;\n",
       "    }\n",
       "</style>\n",
       "<table border=\"1\" class=\"dataframe\">\n",
       "  <thead>\n",
       "    <tr style=\"text-align: right;\">\n",
       "      <th></th>\n",
       "      <th>title</th>\n",
       "      <th>puNumber</th>\n",
       "      <th>show_start_date</th>\n",
       "      <th>type</th>\n",
       "      <th>film_studio</th>\n",
       "      <th>production_country</th>\n",
       "      <th>director</th>\n",
       "      <th>producer</th>\n",
       "      <th>age_restriction</th>\n",
       "      <th>refundable_support</th>\n",
       "      <th>nonrefundable_support</th>\n",
       "      <th>budget</th>\n",
       "      <th>financing_source</th>\n",
       "      <th>ratings</th>\n",
       "      <th>genres</th>\n",
       "      <th>box_office</th>\n",
       "      <th>main_genres</th>\n",
       "      <th>show_start_year</th>\n",
       "    </tr>\n",
       "  </thead>\n",
       "  <tbody>\n",
       "    <tr>\n",
       "      <th>0</th>\n",
       "      <td>Открытый простор</td>\n",
       "      <td>221048915</td>\n",
       "      <td>2015-11-27 12:00:00+00:00</td>\n",
       "      <td>Художественный</td>\n",
       "      <td>Тачстоун Пикчерз, Кобальт Пикчерз, Бикон Пикче...</td>\n",
       "      <td>США</td>\n",
       "      <td>Кевин Костнер</td>\n",
       "      <td>Дэвид Валдес, Кевин Костнер, Джейк Эбертс</td>\n",
       "      <td>«18+» - запрещено для детей</td>\n",
       "      <td>0.00</td>\n",
       "      <td>0.00</td>\n",
       "      <td>0.00</td>\n",
       "      <td>Коммерческий</td>\n",
       "      <td>7.20</td>\n",
       "      <td>боевик,драма,мелодрама</td>\n",
       "      <td>0.00</td>\n",
       "      <td>боевик</td>\n",
       "      <td>2015</td>\n",
       "    </tr>\n",
       "    <tr>\n",
       "      <th>1</th>\n",
       "      <td>Особо важное задание</td>\n",
       "      <td>111013716</td>\n",
       "      <td>2016-09-13 12:00:00+00:00</td>\n",
       "      <td>Художественный</td>\n",
       "      <td>Киностудия \"Мосфильм\"</td>\n",
       "      <td>СССР</td>\n",
       "      <td>Е.Матвеев</td>\n",
       "      <td>Е.Матвеев</td>\n",
       "      <td>«6+» - для детей старше 6 лет</td>\n",
       "      <td>0.00</td>\n",
       "      <td>0.00</td>\n",
       "      <td>0.00</td>\n",
       "      <td>Коммерческий</td>\n",
       "      <td>6.60</td>\n",
       "      <td>драма,военный</td>\n",
       "      <td>0.00</td>\n",
       "      <td>драма</td>\n",
       "      <td>2016</td>\n",
       "    </tr>\n",
       "  </tbody>\n",
       "</table>\n",
       "</div>"
      ],
      "text/plain": [
       "                  title   puNumber           show_start_date            type  \\\n",
       "0      Открытый простор  221048915 2015-11-27 12:00:00+00:00  Художественный   \n",
       "1  Особо важное задание  111013716 2016-09-13 12:00:00+00:00  Художественный   \n",
       "\n",
       "                                         film_studio production_country  \\\n",
       "0  Тачстоун Пикчерз, Кобальт Пикчерз, Бикон Пикче...                США   \n",
       "1                              Киностудия \"Мосфильм\"               СССР   \n",
       "\n",
       "        director                                   producer  \\\n",
       "0  Кевин Костнер  Дэвид Валдес, Кевин Костнер, Джейк Эбертс   \n",
       "1      Е.Матвеев                                  Е.Матвеев   \n",
       "\n",
       "                 age_restriction  refundable_support  nonrefundable_support  \\\n",
       "0    «18+» - запрещено для детей                0.00                   0.00   \n",
       "1  «6+» - для детей старше 6 лет                0.00                   0.00   \n",
       "\n",
       "   budget financing_source  ratings                  genres  box_office  \\\n",
       "0    0.00     Коммерческий     7.20  боевик,драма,мелодрама        0.00   \n",
       "1    0.00     Коммерческий     6.60           драма,военный        0.00   \n",
       "\n",
       "  main_genres  show_start_year  \n",
       "0      боевик             2015  \n",
       "1       драма             2016  "
      ]
     },
     "execution_count": 66,
     "metadata": {},
     "output_type": "execute_result"
    }
   ],
   "source": [
    "data.head(2)"
   ]
  },
  {
   "cell_type": "markdown",
   "metadata": {},
   "source": [
    "##### Фамилия и имя главного директора"
   ]
  },
  {
   "cell_type": "markdown",
   "metadata": {
    "id": "nFTDLDYOgFyT"
   },
   "source": [
    "- Создайте два столбца: с именем и фамилией главного режиссёра и основным жанром фильма. В столбцы войдут первые значения из списка режиссёров и жанров соответственно.\n",
    "\n",
    "<div id=\"accordion\">\n",
    "    <div class=\"card\">\n",
    "        <div class=\"card-header\" id=\"headingThree\">\n",
    "            <button class=\"btn btn-link collapsed\" data-toggle=\"collapse\" data-target=\"#collapseHint_2\" aria-expanded=\"false\" aria-controls=\"collapseHint_2\">Подсказка</button>\n",
    "        </div>\n",
    "        <div id=\"collapseHint_2\" class=\"collapse\" aria-labelledby=\"headingThree\" data-parent=\"#accordion\">\n",
    "            <div class=\"card-body\">\n",
    "Чтобы создать такие столбцы, лучше всего использовать собственную функцию. Эту функцию можно применить к двум столбцам сразу. \n",
    "            </div>\n",
    "        </div>\n",
    "    </div>\n",
    "</div>"
   ]
  },
  {
   "cell_type": "code",
   "execution_count": 67,
   "metadata": {},
   "outputs": [],
   "source": [
    "data = main_data_add(data, ['director'])"
   ]
  },
  {
   "cell_type": "code",
   "execution_count": 68,
   "metadata": {},
   "outputs": [
    {
     "data": {
      "text/html": [
       "<div>\n",
       "<style scoped>\n",
       "    .dataframe tbody tr th:only-of-type {\n",
       "        vertical-align: middle;\n",
       "    }\n",
       "\n",
       "    .dataframe tbody tr th {\n",
       "        vertical-align: top;\n",
       "    }\n",
       "\n",
       "    .dataframe thead th {\n",
       "        text-align: right;\n",
       "    }\n",
       "</style>\n",
       "<table border=\"1\" class=\"dataframe\">\n",
       "  <thead>\n",
       "    <tr style=\"text-align: right;\">\n",
       "      <th></th>\n",
       "      <th>title</th>\n",
       "      <th>puNumber</th>\n",
       "      <th>show_start_date</th>\n",
       "      <th>type</th>\n",
       "      <th>film_studio</th>\n",
       "      <th>production_country</th>\n",
       "      <th>director</th>\n",
       "      <th>producer</th>\n",
       "      <th>age_restriction</th>\n",
       "      <th>refundable_support</th>\n",
       "      <th>nonrefundable_support</th>\n",
       "      <th>budget</th>\n",
       "      <th>financing_source</th>\n",
       "      <th>ratings</th>\n",
       "      <th>genres</th>\n",
       "      <th>box_office</th>\n",
       "      <th>main_genres</th>\n",
       "      <th>show_start_year</th>\n",
       "      <th>main_director</th>\n",
       "    </tr>\n",
       "  </thead>\n",
       "  <tbody>\n",
       "    <tr>\n",
       "      <th>0</th>\n",
       "      <td>Открытый простор</td>\n",
       "      <td>221048915</td>\n",
       "      <td>2015-11-27 12:00:00+00:00</td>\n",
       "      <td>Художественный</td>\n",
       "      <td>Тачстоун Пикчерз, Кобальт Пикчерз, Бикон Пикче...</td>\n",
       "      <td>США</td>\n",
       "      <td>Кевин Костнер</td>\n",
       "      <td>Дэвид Валдес, Кевин Костнер, Джейк Эбертс</td>\n",
       "      <td>«18+» - запрещено для детей</td>\n",
       "      <td>0.00</td>\n",
       "      <td>0.00</td>\n",
       "      <td>0.00</td>\n",
       "      <td>Коммерческий</td>\n",
       "      <td>7.20</td>\n",
       "      <td>боевик,драма,мелодрама</td>\n",
       "      <td>0.00</td>\n",
       "      <td>боевик</td>\n",
       "      <td>2015</td>\n",
       "      <td>Кевин Костнер</td>\n",
       "    </tr>\n",
       "    <tr>\n",
       "      <th>1</th>\n",
       "      <td>Особо важное задание</td>\n",
       "      <td>111013716</td>\n",
       "      <td>2016-09-13 12:00:00+00:00</td>\n",
       "      <td>Художественный</td>\n",
       "      <td>Киностудия \"Мосфильм\"</td>\n",
       "      <td>СССР</td>\n",
       "      <td>Е.Матвеев</td>\n",
       "      <td>Е.Матвеев</td>\n",
       "      <td>«6+» - для детей старше 6 лет</td>\n",
       "      <td>0.00</td>\n",
       "      <td>0.00</td>\n",
       "      <td>0.00</td>\n",
       "      <td>Коммерческий</td>\n",
       "      <td>6.60</td>\n",
       "      <td>драма,военный</td>\n",
       "      <td>0.00</td>\n",
       "      <td>драма</td>\n",
       "      <td>2016</td>\n",
       "      <td>Е.Матвеев</td>\n",
       "    </tr>\n",
       "  </tbody>\n",
       "</table>\n",
       "</div>"
      ],
      "text/plain": [
       "                  title   puNumber           show_start_date            type  \\\n",
       "0      Открытый простор  221048915 2015-11-27 12:00:00+00:00  Художественный   \n",
       "1  Особо важное задание  111013716 2016-09-13 12:00:00+00:00  Художественный   \n",
       "\n",
       "                                         film_studio production_country  \\\n",
       "0  Тачстоун Пикчерз, Кобальт Пикчерз, Бикон Пикче...                США   \n",
       "1                              Киностудия \"Мосфильм\"               СССР   \n",
       "\n",
       "        director                                   producer  \\\n",
       "0  Кевин Костнер  Дэвид Валдес, Кевин Костнер, Джейк Эбертс   \n",
       "1      Е.Матвеев                                  Е.Матвеев   \n",
       "\n",
       "                 age_restriction  refundable_support  nonrefundable_support  \\\n",
       "0    «18+» - запрещено для детей                0.00                   0.00   \n",
       "1  «6+» - для детей старше 6 лет                0.00                   0.00   \n",
       "\n",
       "   budget financing_source  ratings                  genres  box_office  \\\n",
       "0    0.00     Коммерческий     7.20  боевик,драма,мелодрама        0.00   \n",
       "1    0.00     Коммерческий     6.60           драма,военный        0.00   \n",
       "\n",
       "  main_genres  show_start_year  main_director  \n",
       "0      боевик             2015  Кевин Костнер  \n",
       "1       драма             2016      Е.Матвеев  "
      ]
     },
     "execution_count": 68,
     "metadata": {},
     "output_type": "execute_result"
    }
   ],
   "source": [
    "data.head(2)"
   ]
  },
  {
   "cell_type": "markdown",
   "metadata": {},
   "source": [
    "##### Какую долю от общего бюджета фильма составляет государственная поддержка"
   ]
  },
  {
   "cell_type": "markdown",
   "metadata": {
    "id": "1FsCXHwdgFyU"
   },
   "source": [
    "- Посчитайте, какую долю от общего бюджета фильма составляет государственная поддержка."
   ]
  },
  {
   "cell_type": "code",
   "execution_count": 69,
   "metadata": {},
   "outputs": [
    {
     "data": {
      "text/plain": [
       "'Государственная поддержка от общего бюджета фильма в медианном значении составляет %:'"
      ]
     },
     "metadata": {},
     "output_type": "display_data"
    },
    {
     "data": {
      "text/plain": [
       "61.0"
      ]
     },
     "metadata": {},
     "output_type": "display_data"
    }
   ],
   "source": [
    "display('Государственная поддержка от общего бюджета фильма в медианном значении составляет %:', round(data.eval('(refundable_support + nonrefundable_support) / budget').median() * 100, 2))"
   ]
  },
  {
   "cell_type": "markdown",
   "metadata": {},
   "source": [
    "Добавим в данные столбец с данными по доле господдержки для каждого фильма индивидуально."
   ]
  },
  {
   "cell_type": "code",
   "execution_count": 70,
   "metadata": {},
   "outputs": [],
   "source": [
    "data['gov_support_percent'] = round(data.eval('(refundable_support + nonrefundable_support) / budget') * 100, 2)\n",
    "data['gov_support_percent'].replace([np.inf, -np.inf, np.nan], 0, inplace=True)"
   ]
  },
  {
   "cell_type": "code",
   "execution_count": 71,
   "metadata": {},
   "outputs": [
    {
     "data": {
      "text/html": [
       "<div>\n",
       "<style scoped>\n",
       "    .dataframe tbody tr th:only-of-type {\n",
       "        vertical-align: middle;\n",
       "    }\n",
       "\n",
       "    .dataframe tbody tr th {\n",
       "        vertical-align: top;\n",
       "    }\n",
       "\n",
       "    .dataframe thead th {\n",
       "        text-align: right;\n",
       "    }\n",
       "</style>\n",
       "<table border=\"1\" class=\"dataframe\">\n",
       "  <thead>\n",
       "    <tr style=\"text-align: right;\">\n",
       "      <th></th>\n",
       "      <th>title</th>\n",
       "      <th>puNumber</th>\n",
       "      <th>show_start_date</th>\n",
       "      <th>type</th>\n",
       "      <th>film_studio</th>\n",
       "      <th>production_country</th>\n",
       "      <th>director</th>\n",
       "      <th>producer</th>\n",
       "      <th>age_restriction</th>\n",
       "      <th>refundable_support</th>\n",
       "      <th>nonrefundable_support</th>\n",
       "      <th>budget</th>\n",
       "      <th>financing_source</th>\n",
       "      <th>ratings</th>\n",
       "      <th>genres</th>\n",
       "      <th>box_office</th>\n",
       "      <th>main_genres</th>\n",
       "      <th>show_start_year</th>\n",
       "      <th>main_director</th>\n",
       "      <th>gov_support_percent</th>\n",
       "    </tr>\n",
       "  </thead>\n",
       "  <tbody>\n",
       "    <tr>\n",
       "      <th>0</th>\n",
       "      <td>Открытый простор</td>\n",
       "      <td>221048915</td>\n",
       "      <td>2015-11-27 12:00:00+00:00</td>\n",
       "      <td>Художественный</td>\n",
       "      <td>Тачстоун Пикчерз, Кобальт Пикчерз, Бикон Пикче...</td>\n",
       "      <td>США</td>\n",
       "      <td>Кевин Костнер</td>\n",
       "      <td>Дэвид Валдес, Кевин Костнер, Джейк Эбертс</td>\n",
       "      <td>«18+» - запрещено для детей</td>\n",
       "      <td>0.00</td>\n",
       "      <td>0.00</td>\n",
       "      <td>0.00</td>\n",
       "      <td>Коммерческий</td>\n",
       "      <td>7.20</td>\n",
       "      <td>боевик,драма,мелодрама</td>\n",
       "      <td>0.00</td>\n",
       "      <td>боевик</td>\n",
       "      <td>2015</td>\n",
       "      <td>Кевин Костнер</td>\n",
       "      <td>0.00</td>\n",
       "    </tr>\n",
       "    <tr>\n",
       "      <th>1</th>\n",
       "      <td>Особо важное задание</td>\n",
       "      <td>111013716</td>\n",
       "      <td>2016-09-13 12:00:00+00:00</td>\n",
       "      <td>Художественный</td>\n",
       "      <td>Киностудия \"Мосфильм\"</td>\n",
       "      <td>СССР</td>\n",
       "      <td>Е.Матвеев</td>\n",
       "      <td>Е.Матвеев</td>\n",
       "      <td>«6+» - для детей старше 6 лет</td>\n",
       "      <td>0.00</td>\n",
       "      <td>0.00</td>\n",
       "      <td>0.00</td>\n",
       "      <td>Коммерческий</td>\n",
       "      <td>6.60</td>\n",
       "      <td>драма,военный</td>\n",
       "      <td>0.00</td>\n",
       "      <td>драма</td>\n",
       "      <td>2016</td>\n",
       "      <td>Е.Матвеев</td>\n",
       "      <td>0.00</td>\n",
       "    </tr>\n",
       "    <tr>\n",
       "      <th>2</th>\n",
       "      <td>Особо опасен</td>\n",
       "      <td>221038416</td>\n",
       "      <td>2016-10-10 12:00:00+00:00</td>\n",
       "      <td>Художественный</td>\n",
       "      <td>Юниверсал Пикчерз, Кикстарт Продакшнз, Марк Пл...</td>\n",
       "      <td>США</td>\n",
       "      <td>Тимур Бекмамбетов</td>\n",
       "      <td>Джим Лемли, Джейсон Нетер, Марк Е.Платт, Яйн Смит</td>\n",
       "      <td>«18+» - запрещено для детей</td>\n",
       "      <td>0.00</td>\n",
       "      <td>0.00</td>\n",
       "      <td>0.00</td>\n",
       "      <td>Коммерческий</td>\n",
       "      <td>6.80</td>\n",
       "      <td>фантастика,боевик,триллер</td>\n",
       "      <td>0.00</td>\n",
       "      <td>фантастика</td>\n",
       "      <td>2016</td>\n",
       "      <td>Тимур Бекмамбетов</td>\n",
       "      <td>0.00</td>\n",
       "    </tr>\n",
       "    <tr>\n",
       "      <th>3</th>\n",
       "      <td>Особо опасен</td>\n",
       "      <td>221026916</td>\n",
       "      <td>2016-06-10 12:00:00+00:00</td>\n",
       "      <td>Художественный</td>\n",
       "      <td>Юниверсал Пикчерз, Кикстарт Продакшнз, Марк Пл...</td>\n",
       "      <td>США</td>\n",
       "      <td>Тимур Бекмамбетов</td>\n",
       "      <td>Джим Лемли, Джейсон Нетер, Марк Е.Платт, Яйн Смит</td>\n",
       "      <td>«18+» - запрещено для детей</td>\n",
       "      <td>0.00</td>\n",
       "      <td>0.00</td>\n",
       "      <td>0.00</td>\n",
       "      <td>Коммерческий</td>\n",
       "      <td>6.80</td>\n",
       "      <td>фантастика,боевик,триллер</td>\n",
       "      <td>0.00</td>\n",
       "      <td>фантастика</td>\n",
       "      <td>2016</td>\n",
       "      <td>Тимур Бекмамбетов</td>\n",
       "      <td>0.00</td>\n",
       "    </tr>\n",
       "    <tr>\n",
       "      <th>4</th>\n",
       "      <td>Особо опасен</td>\n",
       "      <td>221030815</td>\n",
       "      <td>2015-07-29 12:00:00+00:00</td>\n",
       "      <td>Художественный</td>\n",
       "      <td>Юниверсал Пикчерз, Кикстарт Продакшнз, Марк Пл...</td>\n",
       "      <td>США</td>\n",
       "      <td>Тимур Бекмамбетов</td>\n",
       "      <td>Джим Лемли, Джейсон Нетер, Марк Е.Платт, Яйн Смит</td>\n",
       "      <td>«18+» - запрещено для детей</td>\n",
       "      <td>0.00</td>\n",
       "      <td>0.00</td>\n",
       "      <td>0.00</td>\n",
       "      <td>Коммерческий</td>\n",
       "      <td>6.80</td>\n",
       "      <td>фантастика,боевик,триллер</td>\n",
       "      <td>0.00</td>\n",
       "      <td>фантастика</td>\n",
       "      <td>2015</td>\n",
       "      <td>Тимур Бекмамбетов</td>\n",
       "      <td>0.00</td>\n",
       "    </tr>\n",
       "  </tbody>\n",
       "</table>\n",
       "</div>"
      ],
      "text/plain": [
       "                  title   puNumber           show_start_date            type  \\\n",
       "0      Открытый простор  221048915 2015-11-27 12:00:00+00:00  Художественный   \n",
       "1  Особо важное задание  111013716 2016-09-13 12:00:00+00:00  Художественный   \n",
       "2          Особо опасен  221038416 2016-10-10 12:00:00+00:00  Художественный   \n",
       "3          Особо опасен  221026916 2016-06-10 12:00:00+00:00  Художественный   \n",
       "4          Особо опасен  221030815 2015-07-29 12:00:00+00:00  Художественный   \n",
       "\n",
       "                                         film_studio production_country  \\\n",
       "0  Тачстоун Пикчерз, Кобальт Пикчерз, Бикон Пикче...                США   \n",
       "1                              Киностудия \"Мосфильм\"               СССР   \n",
       "2  Юниверсал Пикчерз, Кикстарт Продакшнз, Марк Пл...                США   \n",
       "3  Юниверсал Пикчерз, Кикстарт Продакшнз, Марк Пл...                США   \n",
       "4  Юниверсал Пикчерз, Кикстарт Продакшнз, Марк Пл...                США   \n",
       "\n",
       "            director                                           producer  \\\n",
       "0      Кевин Костнер          Дэвид Валдес, Кевин Костнер, Джейк Эбертс   \n",
       "1          Е.Матвеев                                          Е.Матвеев   \n",
       "2  Тимур Бекмамбетов  Джим Лемли, Джейсон Нетер, Марк Е.Платт, Яйн Смит   \n",
       "3  Тимур Бекмамбетов  Джим Лемли, Джейсон Нетер, Марк Е.Платт, Яйн Смит   \n",
       "4  Тимур Бекмамбетов  Джим Лемли, Джейсон Нетер, Марк Е.Платт, Яйн Смит   \n",
       "\n",
       "                 age_restriction  refundable_support  nonrefundable_support  \\\n",
       "0    «18+» - запрещено для детей                0.00                   0.00   \n",
       "1  «6+» - для детей старше 6 лет                0.00                   0.00   \n",
       "2    «18+» - запрещено для детей                0.00                   0.00   \n",
       "3    «18+» - запрещено для детей                0.00                   0.00   \n",
       "4    «18+» - запрещено для детей                0.00                   0.00   \n",
       "\n",
       "   budget financing_source  ratings                     genres  box_office  \\\n",
       "0    0.00     Коммерческий     7.20     боевик,драма,мелодрама        0.00   \n",
       "1    0.00     Коммерческий     6.60              драма,военный        0.00   \n",
       "2    0.00     Коммерческий     6.80  фантастика,боевик,триллер        0.00   \n",
       "3    0.00     Коммерческий     6.80  фантастика,боевик,триллер        0.00   \n",
       "4    0.00     Коммерческий     6.80  фантастика,боевик,триллер        0.00   \n",
       "\n",
       "  main_genres  show_start_year      main_director  gov_support_percent  \n",
       "0      боевик             2015      Кевин Костнер                 0.00  \n",
       "1       драма             2016          Е.Матвеев                 0.00  \n",
       "2  фантастика             2016  Тимур Бекмамбетов                 0.00  \n",
       "3  фантастика             2016  Тимур Бекмамбетов                 0.00  \n",
       "4  фантастика             2015  Тимур Бекмамбетов                 0.00  "
      ]
     },
     "execution_count": 71,
     "metadata": {},
     "output_type": "execute_result"
    }
   ],
   "source": [
    "data.query('budget == 0').head(5)"
   ]
  },
  {
   "cell_type": "code",
   "execution_count": 72,
   "metadata": {},
   "outputs": [
    {
     "data": {
      "text/html": [
       "<div>\n",
       "<style scoped>\n",
       "    .dataframe tbody tr th:only-of-type {\n",
       "        vertical-align: middle;\n",
       "    }\n",
       "\n",
       "    .dataframe tbody tr th {\n",
       "        vertical-align: top;\n",
       "    }\n",
       "\n",
       "    .dataframe thead th {\n",
       "        text-align: right;\n",
       "    }\n",
       "</style>\n",
       "<table border=\"1\" class=\"dataframe\">\n",
       "  <thead>\n",
       "    <tr style=\"text-align: right;\">\n",
       "      <th></th>\n",
       "      <th>title</th>\n",
       "      <th>puNumber</th>\n",
       "      <th>show_start_date</th>\n",
       "      <th>type</th>\n",
       "      <th>film_studio</th>\n",
       "      <th>production_country</th>\n",
       "      <th>director</th>\n",
       "      <th>producer</th>\n",
       "      <th>age_restriction</th>\n",
       "      <th>refundable_support</th>\n",
       "      <th>nonrefundable_support</th>\n",
       "      <th>budget</th>\n",
       "      <th>financing_source</th>\n",
       "      <th>ratings</th>\n",
       "      <th>genres</th>\n",
       "      <th>box_office</th>\n",
       "      <th>main_genres</th>\n",
       "      <th>show_start_year</th>\n",
       "      <th>main_director</th>\n",
       "      <th>gov_support_percent</th>\n",
       "    </tr>\n",
       "  </thead>\n",
       "  <tbody>\n",
       "    <tr>\n",
       "      <th>1281</th>\n",
       "      <td>Пока еще жива</td>\n",
       "      <td>111005313</td>\n",
       "      <td>2013-10-11 12:00:00+00:00</td>\n",
       "      <td>Художественный</td>\n",
       "      <td>АНО содействия развитию кинематографии \"Ангел-...</td>\n",
       "      <td>Россия</td>\n",
       "      <td>А.Атанесян</td>\n",
       "      <td>А.Атанесян, М.Бабаханов, Р.Бутко</td>\n",
       "      <td>«16+» - для детей старше 16 лет</td>\n",
       "      <td>0.00</td>\n",
       "      <td>26500000.00</td>\n",
       "      <td>79411900.00</td>\n",
       "      <td>Министерство культуры</td>\n",
       "      <td>8.10</td>\n",
       "      <td>драма,мелодрама</td>\n",
       "      <td>365353.60</td>\n",
       "      <td>драма</td>\n",
       "      <td>2013</td>\n",
       "      <td>А.Атанесян</td>\n",
       "      <td>33.37</td>\n",
       "    </tr>\n",
       "    <tr>\n",
       "      <th>1448</th>\n",
       "      <td>Бесславные придурки</td>\n",
       "      <td>111003314</td>\n",
       "      <td>2014-03-28 12:00:00+00:00</td>\n",
       "      <td>Художественный</td>\n",
       "      <td>ООО \"Компания \"АТК-Студио\"</td>\n",
       "      <td>Россия</td>\n",
       "      <td>А.Якимчук</td>\n",
       "      <td>А.Тютрюмов</td>\n",
       "      <td>«12+» - для детей старше 12 лет</td>\n",
       "      <td>0.00</td>\n",
       "      <td>26000000.00</td>\n",
       "      <td>37142857.00</td>\n",
       "      <td>Министерство культуры</td>\n",
       "      <td>0.00</td>\n",
       "      <td>Без жанра</td>\n",
       "      <td>28140.00</td>\n",
       "      <td>Без жанра</td>\n",
       "      <td>2014</td>\n",
       "      <td>А.Якимчук</td>\n",
       "      <td>70.00</td>\n",
       "    </tr>\n",
       "    <tr>\n",
       "      <th>1498</th>\n",
       "      <td>Невидимки</td>\n",
       "      <td>111004213</td>\n",
       "      <td>2013-09-10 12:00:00+00:00</td>\n",
       "      <td>Художественный</td>\n",
       "      <td>ООО \"Компания \"РЕАЛ-ДАКОТА\"</td>\n",
       "      <td>Россия</td>\n",
       "      <td>Р.Давлетьяров, С.Комаров</td>\n",
       "      <td>Р.Давлетьяров, А.Котелевский, А.Олейников</td>\n",
       "      <td>«12+» - для детей старше 12 лет</td>\n",
       "      <td>0.00</td>\n",
       "      <td>107847945.00</td>\n",
       "      <td>176023490.00</td>\n",
       "      <td>Фонд кино</td>\n",
       "      <td>5.30</td>\n",
       "      <td>комедия,фантастика</td>\n",
       "      <td>19957031.50</td>\n",
       "      <td>комедия</td>\n",
       "      <td>2013</td>\n",
       "      <td>Р.Давлетьяров</td>\n",
       "      <td>61.27</td>\n",
       "    </tr>\n",
       "    <tr>\n",
       "      <th>1524</th>\n",
       "      <td>БЕРЦЫ</td>\n",
       "      <td>111004314</td>\n",
       "      <td>2014-05-05 12:00:00+00:00</td>\n",
       "      <td>Художественный</td>\n",
       "      <td>ООО \"Студия \"Пассажир\"</td>\n",
       "      <td>Россия</td>\n",
       "      <td>Е.Миндадзе (псевдоним Катя Шагалова)</td>\n",
       "      <td>Л.Антонова</td>\n",
       "      <td>«16+» - для детей старше 16 лет</td>\n",
       "      <td>0.00</td>\n",
       "      <td>28000000.00</td>\n",
       "      <td>40574140.00</td>\n",
       "      <td>Министерство культуры</td>\n",
       "      <td>4.20</td>\n",
       "      <td>драма</td>\n",
       "      <td>55917.50</td>\n",
       "      <td>драма</td>\n",
       "      <td>2014</td>\n",
       "      <td>Е.Миндадзе (псевдоним Катя Шагалова)</td>\n",
       "      <td>69.01</td>\n",
       "    </tr>\n",
       "    <tr>\n",
       "      <th>1792</th>\n",
       "      <td>Братья Ч</td>\n",
       "      <td>111004414</td>\n",
       "      <td>2014-04-23 12:00:00+00:00</td>\n",
       "      <td>Художественный</td>\n",
       "      <td>ООО \"Студия \"Пассажир\"</td>\n",
       "      <td>Россия</td>\n",
       "      <td>М.Угаров</td>\n",
       "      <td>А.Миндадзе, Л.Антонова</td>\n",
       "      <td>«16+» - для детей старше 16 лет</td>\n",
       "      <td>0.00</td>\n",
       "      <td>25000000.00</td>\n",
       "      <td>40015122.00</td>\n",
       "      <td>Министерство культуры</td>\n",
       "      <td>6.40</td>\n",
       "      <td>драма</td>\n",
       "      <td>232100.00</td>\n",
       "      <td>драма</td>\n",
       "      <td>2014</td>\n",
       "      <td>М.Угаров</td>\n",
       "      <td>62.48</td>\n",
       "    </tr>\n",
       "  </tbody>\n",
       "</table>\n",
       "</div>"
      ],
      "text/plain": [
       "                    title   puNumber           show_start_date  \\\n",
       "1281        Пока еще жива  111005313 2013-10-11 12:00:00+00:00   \n",
       "1448  Бесславные придурки  111003314 2014-03-28 12:00:00+00:00   \n",
       "1498            Невидимки  111004213 2013-09-10 12:00:00+00:00   \n",
       "1524                БЕРЦЫ  111004314 2014-05-05 12:00:00+00:00   \n",
       "1792             Братья Ч  111004414 2014-04-23 12:00:00+00:00   \n",
       "\n",
       "                type                                        film_studio  \\\n",
       "1281  Художественный  АНО содействия развитию кинематографии \"Ангел-...   \n",
       "1448  Художественный                         ООО \"Компания \"АТК-Студио\"   \n",
       "1498  Художественный                        ООО \"Компания \"РЕАЛ-ДАКОТА\"   \n",
       "1524  Художественный                             ООО \"Студия \"Пассажир\"   \n",
       "1792  Художественный                             ООО \"Студия \"Пассажир\"   \n",
       "\n",
       "     production_country                              director  \\\n",
       "1281             Россия                            А.Атанесян   \n",
       "1448             Россия                             А.Якимчук   \n",
       "1498             Россия              Р.Давлетьяров, С.Комаров   \n",
       "1524             Россия  Е.Миндадзе (псевдоним Катя Шагалова)   \n",
       "1792             Россия                              М.Угаров   \n",
       "\n",
       "                                       producer  \\\n",
       "1281           А.Атанесян, М.Бабаханов, Р.Бутко   \n",
       "1448                                 А.Тютрюмов   \n",
       "1498  Р.Давлетьяров, А.Котелевский, А.Олейников   \n",
       "1524                                 Л.Антонова   \n",
       "1792                     А.Миндадзе, Л.Антонова   \n",
       "\n",
       "                      age_restriction  refundable_support  \\\n",
       "1281  «16+» - для детей старше 16 лет                0.00   \n",
       "1448  «12+» - для детей старше 12 лет                0.00   \n",
       "1498  «12+» - для детей старше 12 лет                0.00   \n",
       "1524  «16+» - для детей старше 16 лет                0.00   \n",
       "1792  «16+» - для детей старше 16 лет                0.00   \n",
       "\n",
       "      nonrefundable_support       budget       financing_source  ratings  \\\n",
       "1281            26500000.00  79411900.00  Министерство культуры     8.10   \n",
       "1448            26000000.00  37142857.00  Министерство культуры     0.00   \n",
       "1498           107847945.00 176023490.00              Фонд кино     5.30   \n",
       "1524            28000000.00  40574140.00  Министерство культуры     4.20   \n",
       "1792            25000000.00  40015122.00  Министерство культуры     6.40   \n",
       "\n",
       "                  genres  box_office main_genres  show_start_year  \\\n",
       "1281     драма,мелодрама   365353.60       драма             2013   \n",
       "1448           Без жанра    28140.00   Без жанра             2014   \n",
       "1498  комедия,фантастика 19957031.50     комедия             2013   \n",
       "1524               драма    55917.50       драма             2014   \n",
       "1792               драма   232100.00       драма             2014   \n",
       "\n",
       "                             main_director  gov_support_percent  \n",
       "1281                            А.Атанесян                33.37  \n",
       "1448                             А.Якимчук                70.00  \n",
       "1498                         Р.Давлетьяров                61.27  \n",
       "1524  Е.Миндадзе (псевдоним Катя Шагалова)                69.01  \n",
       "1792                              М.Угаров                62.48  "
      ]
     },
     "execution_count": 72,
     "metadata": {},
     "output_type": "execute_result"
    }
   ],
   "source": [
    "data.query('budget > 0').head(5)"
   ]
  },
  {
   "cell_type": "markdown",
   "metadata": {},
   "source": [
    "</font><font color='Blue'><b>Комментарий студента</b></font><br>\n",
    "Результатом дапнного этапа работы является исправление некорректных данных в полях датафрейма и наведение единообразия в представлении перечислений. Кроме этого была проверенна корректность финансовых данных. Выявленные расхождения бюджета и размера субсидий были устранены. Дополнительно, для удобства дальнейшего анализа, в отдельные поля были вынесены год премьеры картины, жанр и главный режисер."
   ]
  },
  {
   "cell_type": "markdown",
   "metadata": {
    "id": "6t4EukPLgFyV"
   },
   "source": [
    "### Шаг 3. Проведите исследовательский анализ данных\n"
   ]
  },
  {
   "cell_type": "markdown",
   "metadata": {
    "id": "ABeV47y7gFyW"
   },
   "source": [
    "#### Создадим сводную таблицу data_pivot"
   ]
  },
  {
   "cell_type": "markdown",
   "metadata": {},
   "source": [
    "Создадим сводную таблицу, которую заполним данными по годам:\n",
    "\n",
    "* сколько фильмов вышло в прокат;\n",
    "* суммой сборов в рублях;\n",
    "* средним количеством сборов в рублях;\n",
    "* медианой по сборам в рублях;\n",
    "* сколько фильмов вышло за год(не прокат);\n",
    "* процентом проката за каждый указанный год."
   ]
  },
  {
   "cell_type": "code",
   "execution_count": 73,
   "metadata": {},
   "outputs": [
    {
     "data": {
      "text/html": [
       "<div>\n",
       "<style scoped>\n",
       "    .dataframe tbody tr th:only-of-type {\n",
       "        vertical-align: middle;\n",
       "    }\n",
       "\n",
       "    .dataframe tbody tr th {\n",
       "        vertical-align: top;\n",
       "    }\n",
       "\n",
       "    .dataframe thead th {\n",
       "        text-align: right;\n",
       "    }\n",
       "</style>\n",
       "<table border=\"1\" class=\"dataframe\">\n",
       "  <thead>\n",
       "    <tr style=\"text-align: right;\">\n",
       "      <th></th>\n",
       "      <th>Вышло в прокат</th>\n",
       "      <th>Фильмов за год</th>\n",
       "      <th>Процент проката</th>\n",
       "    </tr>\n",
       "    <tr>\n",
       "      <th>show_start_year</th>\n",
       "      <th></th>\n",
       "      <th></th>\n",
       "      <th></th>\n",
       "    </tr>\n",
       "  </thead>\n",
       "  <tbody>\n",
       "    <tr>\n",
       "      <th>2010</th>\n",
       "      <td>101</td>\n",
       "      <td>985</td>\n",
       "      <td>10.25</td>\n",
       "    </tr>\n",
       "    <tr>\n",
       "      <th>2011</th>\n",
       "      <td>109</td>\n",
       "      <td>622</td>\n",
       "      <td>17.52</td>\n",
       "    </tr>\n",
       "    <tr>\n",
       "      <th>2012</th>\n",
       "      <td>123</td>\n",
       "      <td>593</td>\n",
       "      <td>20.74</td>\n",
       "    </tr>\n",
       "    <tr>\n",
       "      <th>2013</th>\n",
       "      <td>179</td>\n",
       "      <td>630</td>\n",
       "      <td>28.41</td>\n",
       "    </tr>\n",
       "    <tr>\n",
       "      <th>2014</th>\n",
       "      <td>273</td>\n",
       "      <td>806</td>\n",
       "      <td>33.87</td>\n",
       "    </tr>\n",
       "    <tr>\n",
       "      <th>2015</th>\n",
       "      <td>462</td>\n",
       "      <td>705</td>\n",
       "      <td>65.53</td>\n",
       "    </tr>\n",
       "    <tr>\n",
       "      <th>2016</th>\n",
       "      <td>525</td>\n",
       "      <td>818</td>\n",
       "      <td>64.18</td>\n",
       "    </tr>\n",
       "    <tr>\n",
       "      <th>2017</th>\n",
       "      <td>357</td>\n",
       "      <td>505</td>\n",
       "      <td>70.69</td>\n",
       "    </tr>\n",
       "    <tr>\n",
       "      <th>2018</th>\n",
       "      <td>475</td>\n",
       "      <td>891</td>\n",
       "      <td>53.31</td>\n",
       "    </tr>\n",
       "    <tr>\n",
       "      <th>2019</th>\n",
       "      <td>530</td>\n",
       "      <td>930</td>\n",
       "      <td>56.99</td>\n",
       "    </tr>\n",
       "  </tbody>\n",
       "</table>\n",
       "</div>"
      ],
      "text/plain": [
       "                 Вышло в прокат  Фильмов за год  Процент проката\n",
       "show_start_year                                                 \n",
       "2010                        101             985            10.25\n",
       "2011                        109             622            17.52\n",
       "2012                        123             593            20.74\n",
       "2013                        179             630            28.41\n",
       "2014                        273             806            33.87\n",
       "2015                        462             705            65.53\n",
       "2016                        525             818            64.18\n",
       "2017                        357             505            70.69\n",
       "2018                        475             891            53.31\n",
       "2019                        530             930            56.99"
      ]
     },
     "metadata": {},
     "output_type": "display_data"
    }
   ],
   "source": [
    "data_pivot = data.query('box_office > 0').pivot_table(index='show_start_year', values='box_office', aggfunc=['count', 'sum', 'mean', 'median'])\n",
    "data_pivot = data_pivot.set_axis(['Вышло в прокат', 'Сумма', 'Среднее', 'Медиана'], axis='columns')\n",
    "data_pivot['Фильмов за год'] = data.pivot_table(index='show_start_year', values='box_office', aggfunc='count')['box_office']\n",
    "data_pivot['Процент проката'] = data_pivot['Вышло в прокат'] / data_pivot['Фильмов за год']  * 100\n",
    "display(data_pivot.loc[:, ['Вышло в прокат', 'Фильмов за год', 'Процент проката']])"
   ]
  },
  {
   "cell_type": "markdown",
   "metadata": {},
   "source": [
    "Можно отметить, что с 2010 по 2019 значительно увеличилось производство в киноиндустрии, количество фильмов, которые выходили в прокат, суммы затрат выросли примерно в пять раз."
   ]
  },
  {
   "cell_type": "markdown",
   "metadata": {
    "id": "tfEhofYvgFyX"
   },
   "source": [
    "#### Посмотрим сколько фильмов выходило в прокат каждый год"
   ]
  },
  {
   "cell_type": "markdown",
   "metadata": {
    "id": "vAH8WCzugFyV"
   },
   "source": [
    "- Посмотрите, сколько фильмов выходило в прокат каждый год. Обратите внимание, что данные о прокате в кинотеатрах известны не для всех фильмов. Посчитайте, какую долю составляют фильмы с указанной информацией о прокате в кинотеатрах. Проанализируйте, как эта доля менялась по годам. Сделайте вывод о том, какой период полнее всего представлен в данных."
   ]
  },
  {
   "cell_type": "markdown",
   "metadata": {},
   "source": [
    "Выше были приведены данные для каждого года отдельно, посмотрим на то, сколько фильмов выходило в прокат каждый год в виде столбчатой диаграммы."
   ]
  },
  {
   "cell_type": "code",
   "execution_count": 74,
   "metadata": {},
   "outputs": [
    {
     "data": {
      "image/png": "[encoded data removed]",
      "text/plain": [
       "<Figure size 1080x360 with 1 Axes>"
      ]
     },
     "metadata": {
      "needs_background": "light"
     },
     "output_type": "display_data"
    }
   ],
   "source": [
    "data_pivot.plot(kind='bar', y='Вышло в прокат', figsize=(15, 5), grid=True, legend=False, alpha=0.5);\n",
    "plt.ylabel('Количество фильмов')\n",
    "plt.suptitle('Диаграмма выхода фильмов прокат')\n",
    "plt.xlabel('Год')\n",
    "plt.show()"
   ]
  },
  {
   "cell_type": "markdown",
   "metadata": {},
   "source": [
    "Начиная с 2010 был заметен рост количества фильмов, которым выдавались прокатные удостоверения в целом, в 2017 был резкий спад, а к 2019 значения вернулись в норму 2016 год.\n",
    "\n",
    "Спад мог быть частично связан с тем, что стриминговая площадка Netflix в 2017 добавила в свой сервис многоязычные субтитры, что открыло значительной доле русскоязычных зрителей доступ к довольно большой библиотеке фильмов. В 2017 году был принят закон, который вводил новые правила выдачи прокатных удостоверений, что могло сильно повлиять на количество выдаваемых прокатных удостоверений. Также в 2017 был скачок инфляции и это сильно сказалось на ценах на билеты, и значительно ограничило количество посещений и как следствие сборы. Еще отмечу, что в 2017 году в России произошли изменения в системе финансирования кинопроектов, в результате чего многие кинокомпании столкнулись с финансовыми трудностями.\n",
    "\n",
    "Эти предположения невозможно доказать в рамках этого исследования, но информация о них доступна в открытых источниках, так что оставлю их как дополнительный комментарий, который требует отдельной проработки и детального изучения."
   ]
  },
  {
   "cell_type": "markdown",
   "metadata": {},
   "source": [
    "Определим какую долю составляют фильмы с указанной информацией о прокате в кинотеатрах."
   ]
  },
  {
   "cell_type": "code",
   "execution_count": 75,
   "metadata": {},
   "outputs": [
    {
     "data": {
      "text/plain": [
       "'Общая доля фильмов с информацией о прокате в кинотеатре составляет %:'"
      ]
     },
     "metadata": {},
     "output_type": "display_data"
    },
    {
     "data": {
      "text/plain": [
       "41.87"
      ]
     },
     "metadata": {},
     "output_type": "display_data"
    }
   ],
   "source": [
    "display('Общая доля фильмов с информацией о прокате в кинотеатре составляет %:', round(data.query('box_office > 0')['box_office'].count() / data['box_office'].count() * 100, 2))"
   ]
  },
  {
   "cell_type": "markdown",
   "metadata": {
    "id": "jmp-rgg9gFyY"
   },
   "source": [
    "#### Изучим динамику проката по годам"
   ]
  },
  {
   "cell_type": "markdown",
   "metadata": {
    "id": "BEOdcIrIgFyW"
   },
   "source": [
    "- Изучите, как менялась динамика проката по годам. В каком году сумма сборов была минимальной? А максимальной?"
   ]
  },
  {
   "cell_type": "markdown",
   "metadata": {},
   "source": [
    "Посмотрим на изменение суммы сборов в разрезе каждого отдельного года."
   ]
  },
  {
   "cell_type": "code",
   "execution_count": 76,
   "metadata": {},
   "outputs": [
    {
     "data": {
      "image/png": "[encoded data removed]",
      "text/plain": [
       "<Figure size 720x360 with 1 Axes>"
      ]
     },
     "metadata": {
      "needs_background": "light"
     },
     "output_type": "display_data"
    }
   ],
   "source": [
    "data_pivot.plot(kind='line', y='Сумма', figsize=(10, 5), legend=False, grid=True, color='blue', alpha=0.6)\n",
    "plt.ylabel('Сумма сборов')\n",
    "plt.suptitle('График изменения суммы сборов')\n",
    "plt.xlabel('Год')\n",
    "plt.show()"
   ]
  },
  {
   "cell_type": "markdown",
   "metadata": {},
   "source": [
    "Минимальные сборы были в:"
   ]
  },
  {
   "cell_type": "code",
   "execution_count": 77,
   "metadata": {},
   "outputs": [
    {
     "data": {
      "text/plain": [
       "2010"
      ]
     },
     "execution_count": 77,
     "metadata": {},
     "output_type": "execute_result"
    }
   ],
   "source": [
    "data_pivot['Сумма'].idxmin()"
   ]
  },
  {
   "cell_type": "markdown",
   "metadata": {},
   "source": [
    "Максимальные сборы были в:"
   ]
  },
  {
   "cell_type": "code",
   "execution_count": 78,
   "metadata": {},
   "outputs": [
    {
     "data": {
      "text/plain": [
       "2018"
      ]
     },
     "execution_count": 78,
     "metadata": {},
     "output_type": "execute_result"
    }
   ],
   "source": [
    "data_pivot['Сумма'].idxmax()"
   ]
  },
  {
   "cell_type": "markdown",
   "metadata": {},
   "source": [
    "С увеличением производимых кинолент, естественно выросли и суммы сборов как в качественном эквиваленте, так и в количественном."
   ]
  },
  {
   "cell_type": "markdown",
   "metadata": {},
   "source": [
    "#### Медианная и средняя сумма сборов в рублях для каждого года"
   ]
  },
  {
   "cell_type": "markdown",
   "metadata": {
    "id": "G-7qS-N-gFyY"
   },
   "source": [
    "- С помощью сводной таблицы посчитайте среднюю и медианную сумму сборов для каждого года."
   ]
  },
  {
   "cell_type": "markdown",
   "metadata": {},
   "source": [
    "Посмотрим на среднее и медианное значение по каждому году отдельно."
   ]
  },
  {
   "cell_type": "code",
   "execution_count": 79,
   "metadata": {},
   "outputs": [
    {
     "data": {
      "text/html": [
       "<div>\n",
       "<style scoped>\n",
       "    .dataframe tbody tr th:only-of-type {\n",
       "        vertical-align: middle;\n",
       "    }\n",
       "\n",
       "    .dataframe tbody tr th {\n",
       "        vertical-align: top;\n",
       "    }\n",
       "\n",
       "    .dataframe thead th {\n",
       "        text-align: right;\n",
       "    }\n",
       "</style>\n",
       "<table border=\"1\" class=\"dataframe\">\n",
       "  <thead>\n",
       "    <tr style=\"text-align: right;\">\n",
       "      <th></th>\n",
       "      <th>Среднее</th>\n",
       "      <th>Медиана</th>\n",
       "    </tr>\n",
       "    <tr>\n",
       "      <th>show_start_year</th>\n",
       "      <th></th>\n",
       "      <th></th>\n",
       "    </tr>\n",
       "  </thead>\n",
       "  <tbody>\n",
       "    <tr>\n",
       "      <th>2010</th>\n",
       "      <td>24046.08</td>\n",
       "      <td>1710.00</td>\n",
       "    </tr>\n",
       "    <tr>\n",
       "      <th>2011</th>\n",
       "      <td>129383.17</td>\n",
       "      <td>3000.00</td>\n",
       "    </tr>\n",
       "    <tr>\n",
       "      <th>2012</th>\n",
       "      <td>56548.15</td>\n",
       "      <td>6220.00</td>\n",
       "    </tr>\n",
       "    <tr>\n",
       "      <th>2013</th>\n",
       "      <td>166478.81</td>\n",
       "      <td>3580.00</td>\n",
       "    </tr>\n",
       "    <tr>\n",
       "      <th>2014</th>\n",
       "      <td>27270885.93</td>\n",
       "      <td>20400.00</td>\n",
       "    </tr>\n",
       "    <tr>\n",
       "      <th>2015</th>\n",
       "      <td>85492132.46</td>\n",
       "      <td>5003450.15</td>\n",
       "    </tr>\n",
       "    <tr>\n",
       "      <th>2016</th>\n",
       "      <td>91173904.27</td>\n",
       "      <td>3915041.02</td>\n",
       "    </tr>\n",
       "    <tr>\n",
       "      <th>2017</th>\n",
       "      <td>136032793.33</td>\n",
       "      <td>9968340.00</td>\n",
       "    </tr>\n",
       "    <tr>\n",
       "      <th>2018</th>\n",
       "      <td>104565059.23</td>\n",
       "      <td>8891102.21</td>\n",
       "    </tr>\n",
       "    <tr>\n",
       "      <th>2019</th>\n",
       "      <td>91369261.85</td>\n",
       "      <td>4627798.34</td>\n",
       "    </tr>\n",
       "  </tbody>\n",
       "</table>\n",
       "</div>"
      ],
      "text/plain": [
       "                     Среднее    Медиана\n",
       "show_start_year                        \n",
       "2010                24046.08    1710.00\n",
       "2011               129383.17    3000.00\n",
       "2012                56548.15    6220.00\n",
       "2013               166478.81    3580.00\n",
       "2014             27270885.93   20400.00\n",
       "2015             85492132.46 5003450.15\n",
       "2016             91173904.27 3915041.02\n",
       "2017            136032793.33 9968340.00\n",
       "2018            104565059.23 8891102.21\n",
       "2019             91369261.85 4627798.34"
      ]
     },
     "metadata": {},
     "output_type": "display_data"
    }
   ],
   "source": [
    "display(data_pivot.loc[:, ['Среднее', 'Медиана']])"
   ]
  },
  {
   "cell_type": "markdown",
   "metadata": {},
   "source": [
    "Отобразим в графическом виде для наглядности."
   ]
  },
  {
   "cell_type": "code",
   "execution_count": 80,
   "metadata": {},
   "outputs": [
    {
     "data": {
      "image/png": "[encoded data removed]",
      "text/plain": [
       "<Figure size 720x360 with 1 Axes>"
      ]
     },
     "metadata": {
      "needs_background": "light"
     },
     "output_type": "display_data"
    }
   ],
   "source": [
    "data_pivot.plot(kind='line', y=['Медиана', 'Среднее'], figsize=(10, 5), legend=True, grid=True, color=['blue','red'], alpha=0.6)\n",
    "plt.ylabel('Сборы')\n",
    "plt.suptitle('Медианная и средняя сумма сборов для каждого года')\n",
    "plt.xlabel('Год')\n",
    "plt.show()"
   ]
  },
  {
   "cell_type": "markdown",
   "metadata": {},
   "source": [
    "Динамика сохраняется, начиная с 2010 по 2019 суммы за сборы естественно увеличивались. Не смотря на изменение среднего за эти годы, медианное значение так и осталось не очень большим."
   ]
  },
  {
   "cell_type": "markdown",
   "metadata": {},
   "source": [
    "#### Влияние возрастного ограничения на сборы"
   ]
  },
  {
   "cell_type": "markdown",
   "metadata": {
    "id": "Ok89WFwJgFyZ"
   },
   "source": [
    "- Определите, влияет ли возрастное ограничение аудитории («6+», «12+», «16+», «18+» и т. д.) на сборы фильма в прокате в период с 2015 по 2019 год? Фильмы с каким возрастным ограничением собрали больше всего денег в прокате? Меняется ли картина в зависимости от года? Если да, предположите, с чем это может быть связано."
   ]
  },
  {
   "cell_type": "markdown",
   "metadata": {
    "id": "jsSbEqfjgFya"
   },
   "source": [
    "Посмотрим на то, как влияет возрастное ограничение аудитории «6+», «12+», «16+», «18+» и «0+» на сборы фильма и влияет ли. Данные будем анализировать за промежуток с 2015 по 2019 год."
   ]
  },
  {
   "cell_type": "code",
   "execution_count": 81,
   "metadata": {},
   "outputs": [
    {
     "data": {
      "image/png": "[encoded data removed]",
      "text/plain": [
       "<Figure size 1080x504 with 1 Axes>"
      ]
     },
     "metadata": {
      "needs_background": "light"
     },
     "output_type": "display_data"
    }
   ],
   "source": [
    "data_check_age = data.query('box_office > 0').pivot_table(index='show_start_year', columns='age_restriction', values='box_office', aggfunc='sum')\n",
    "\n",
    "(data_check_age.plot(kind='line', xlim=[2015, 2019], figsize=(15, 7), legend=True, grid=True, alpha=0.6))\n",
    "plt.ylabel('Сборы')\n",
    "plt.suptitle('Медианная и средняя сумма сборов для каждого года')\n",
    "plt.xlabel('Год')\n",
    "plt.show()"
   ]
  },
  {
   "cell_type": "markdown",
   "metadata": {},
   "source": [
    "Посмотрим на суммарные данные по категориям и подведем итог в строке Total."
   ]
  },
  {
   "cell_type": "code",
   "execution_count": 82,
   "metadata": {
    "scrolled": true
   },
   "outputs": [
    {
     "data": {
      "text/html": [
       "<div>\n",
       "<style scoped>\n",
       "    .dataframe tbody tr th:only-of-type {\n",
       "        vertical-align: middle;\n",
       "    }\n",
       "\n",
       "    .dataframe tbody tr th {\n",
       "        vertical-align: top;\n",
       "    }\n",
       "\n",
       "    .dataframe thead th {\n",
       "        text-align: right;\n",
       "    }\n",
       "</style>\n",
       "<table border=\"1\" class=\"dataframe\">\n",
       "  <thead>\n",
       "    <tr style=\"text-align: right;\">\n",
       "      <th>age_restriction</th>\n",
       "      <th>«0+»</th>\n",
       "      <th>«12+»</th>\n",
       "      <th>«16+»</th>\n",
       "      <th>«18+»</th>\n",
       "      <th>«6+»</th>\n",
       "    </tr>\n",
       "    <tr>\n",
       "      <th>show_start_year</th>\n",
       "      <th></th>\n",
       "      <th></th>\n",
       "      <th></th>\n",
       "      <th></th>\n",
       "      <th></th>\n",
       "    </tr>\n",
       "  </thead>\n",
       "  <tbody>\n",
       "    <tr>\n",
       "      <th>2010</th>\n",
       "      <td>1887611.00</td>\n",
       "      <td>120146.00</td>\n",
       "      <td>366512.00</td>\n",
       "      <td>54385.00</td>\n",
       "      <td>NaN</td>\n",
       "    </tr>\n",
       "    <tr>\n",
       "      <th>2011</th>\n",
       "      <td>13499871.00</td>\n",
       "      <td>219891.00</td>\n",
       "      <td>381513.00</td>\n",
       "      <td>1040.00</td>\n",
       "      <td>450.00</td>\n",
       "    </tr>\n",
       "    <tr>\n",
       "      <th>2012</th>\n",
       "      <td>2266483.00</td>\n",
       "      <td>108734.00</td>\n",
       "      <td>3254216.00</td>\n",
       "      <td>182580.00</td>\n",
       "      <td>1143410.00</td>\n",
       "    </tr>\n",
       "    <tr>\n",
       "      <th>2013</th>\n",
       "      <td>2710302.50</td>\n",
       "      <td>20910336.50</td>\n",
       "      <td>658069.60</td>\n",
       "      <td>5161245.60</td>\n",
       "      <td>359752.00</td>\n",
       "    </tr>\n",
       "    <tr>\n",
       "      <th>2014</th>\n",
       "      <td>375562258.20</td>\n",
       "      <td>2584782324.00</td>\n",
       "      <td>544280086.70</td>\n",
       "      <td>2209712746.90</td>\n",
       "      <td>1730614443.40</td>\n",
       "    </tr>\n",
       "    <tr>\n",
       "      <th>2015</th>\n",
       "      <td>379054578.37</td>\n",
       "      <td>13616082008.91</td>\n",
       "      <td>11368120870.27</td>\n",
       "      <td>5432308367.44</td>\n",
       "      <td>8701799371.41</td>\n",
       "    </tr>\n",
       "    <tr>\n",
       "      <th>2016</th>\n",
       "      <td>150228848.67</td>\n",
       "      <td>12204446524.39</td>\n",
       "      <td>16664548541.74</td>\n",
       "      <td>6793929818.87</td>\n",
       "      <td>12053146008.24</td>\n",
       "    </tr>\n",
       "    <tr>\n",
       "      <th>2017</th>\n",
       "      <td>229598930.00</td>\n",
       "      <td>7851427660.67</td>\n",
       "      <td>18745042900.06</td>\n",
       "      <td>9651495581.02</td>\n",
       "      <td>12086142145.76</td>\n",
       "    </tr>\n",
       "    <tr>\n",
       "      <th>2018</th>\n",
       "      <td>32449002.11</td>\n",
       "      <td>14267291660.69</td>\n",
       "      <td>16503602346.96</td>\n",
       "      <td>8760085501.15</td>\n",
       "      <td>10104974623.41</td>\n",
       "    </tr>\n",
       "    <tr>\n",
       "      <th>2019</th>\n",
       "      <td>17746066.82</td>\n",
       "      <td>12680198773.67</td>\n",
       "      <td>12753418984.60</td>\n",
       "      <td>10121796303.64</td>\n",
       "      <td>12852548650.86</td>\n",
       "    </tr>\n",
       "    <tr>\n",
       "      <th>Total</th>\n",
       "      <td>1205003951.67</td>\n",
       "      <td>63225588059.83</td>\n",
       "      <td>76583674040.93</td>\n",
       "      <td>42974727569.62</td>\n",
       "      <td>57530728855.08</td>\n",
       "    </tr>\n",
       "  </tbody>\n",
       "</table>\n",
       "</div>"
      ],
      "text/plain": [
       "age_restriction          «0+»          «12+»          «16+»          «18+»  \\\n",
       "show_start_year                                                              \n",
       "2010               1887611.00      120146.00      366512.00       54385.00   \n",
       "2011              13499871.00      219891.00      381513.00        1040.00   \n",
       "2012               2266483.00      108734.00     3254216.00      182580.00   \n",
       "2013               2710302.50    20910336.50      658069.60     5161245.60   \n",
       "2014             375562258.20  2584782324.00   544280086.70  2209712746.90   \n",
       "2015             379054578.37 13616082008.91 11368120870.27  5432308367.44   \n",
       "2016             150228848.67 12204446524.39 16664548541.74  6793929818.87   \n",
       "2017             229598930.00  7851427660.67 18745042900.06  9651495581.02   \n",
       "2018              32449002.11 14267291660.69 16503602346.96  8760085501.15   \n",
       "2019              17746066.82 12680198773.67 12753418984.60 10121796303.64   \n",
       "Total           1205003951.67 63225588059.83 76583674040.93 42974727569.62   \n",
       "\n",
       "age_restriction           «6+»  \n",
       "show_start_year                 \n",
       "2010                       NaN  \n",
       "2011                    450.00  \n",
       "2012                1143410.00  \n",
       "2013                 359752.00  \n",
       "2014             1730614443.40  \n",
       "2015             8701799371.41  \n",
       "2016            12053146008.24  \n",
       "2017            12086142145.76  \n",
       "2018            10104974623.41  \n",
       "2019            12852548650.86  \n",
       "Total           57530728855.08  "
      ]
     },
     "execution_count": 82,
     "metadata": {},
     "output_type": "execute_result"
    }
   ],
   "source": [
    "col_sum = data_check_age.sum(axis=0)\n",
    "data_check_age = data_check_age.append(pd.Series(col_sum, name='Total'))\n",
    "data_check_age.rename(\n",
    "    columns = {\n",
    "    '«0+» - для любой зрительской аудитории':'«0+»', \n",
    "    '«12+» - для детей старше 12 лет':'«12+»',\n",
    "    '«16+» - для детей старше 16 лет':'«16+»',\n",
    "    '«18+» - запрещено для детей':'«18+»',\n",
    "    '«6+» - для детей старше 6 лет':'«6+»',\n",
    "    }, inplace = True \n",
    ")\n",
    "data_check_age"
   ]
  },
  {
   "cell_type": "code",
   "execution_count": 83,
   "metadata": {},
   "outputs": [
    {
     "data": {
      "image/png": "[encoded data removed]",
      "text/plain": [
       "<Figure size 720x360 with 2 Axes>"
      ]
     },
     "metadata": {
      "needs_background": "light"
     },
     "output_type": "display_data"
    }
   ],
   "source": [
    "age_pt = data.query('show_start_year >= 2015')\n",
    "age_pt = age_pt.pivot_table(index = 'age_restriction', values = 'box_office', \\\n",
    "                   columns = 'show_start_year', aggfunc = {'box_office' : sum}) / 1000000000\n",
    "fig, ax = plt.subplots(figsize=(10, 5))\n",
    "sns.heatmap(age_pt, annot=True, cmap='RdYlGn', fmt ='.4g');"
   ]
  },
  {
   "cell_type": "code",
   "execution_count": 84,
   "metadata": {},
   "outputs": [
    {
     "data": {
      "text/plain": [
       "'Минимальная сумма по категориям:, 1205003951.67, рублей'"
      ]
     },
     "metadata": {},
     "output_type": "display_data"
    }
   ],
   "source": [
    "display('Минимальная сумма по категориям:, {}, рублей' .format(round(col_sum.min(), 2)))"
   ]
  },
  {
   "cell_type": "markdown",
   "metadata": {},
   "source": [
    "В прокате фильмы с возрастным ограничением «0+» - для любой зрительской аудитории набрали меньше всего средств."
   ]
  },
  {
   "cell_type": "code",
   "execution_count": 85,
   "metadata": {},
   "outputs": [
    {
     "data": {
      "text/plain": [
       "'Максимальная сумма по категориям:, 76583674040.93, рублей'"
      ]
     },
     "metadata": {},
     "output_type": "display_data"
    }
   ],
   "source": [
    "display('Максимальная сумма по категориям:, {}, рублей' .format(round(col_sum.max(), 2)))"
   ]
  },
  {
   "cell_type": "markdown",
   "metadata": {},
   "source": [
    "А больше всего средств собрали фильмы с возрастным ограничением «16+» — для детей старше 16 лет."
   ]
  },
  {
   "cell_type": "markdown",
   "metadata": {},
   "source": [
    "На графике видно, что фильмы «16+» три года подряд лидировали по сборам, в то время как в других нишах был либо спад, либо не очень заметные изменения. Только в 2019 году первое место по сборам заняли фильмы «6+» и то с небольшой разницей.\n",
    "\n",
    "Это может быть связано с тем, что фильмы «16+» за эти года, после своего пика в 2017 начали терять аудиторию, возможно из-за перенасыщения рынка. Также можно предположить что начиная с 2017 года, популярность начали набирать фильмы «12+», фильмы, которые так или иначе частично делят сегмент аудитории с фильмами «16+», что привело к спаду в категории фильмов «16+»."
   ]
  },
  {
   "cell_type": "code",
   "execution_count": 104,
   "metadata": {},
   "outputs": [
    {
     "data": {
      "image/png": "[encoded data removed]",
      "text/plain": [
       "<Figure size 576x576 with 1 Axes>"
      ]
     },
     "metadata": {
      "needs_background": "light"
     },
     "output_type": "display_data"
    }
   ],
   "source": [
    "# Комментарий ревьюера 2\n",
    "import seaborn as sns\n",
    "temp = data.copy()\n",
    "# для удобства укоротим названия категорий\n",
    "def get_first_value(s, sep = ','):  # Функция для выбора первого элемента из перечисления\n",
    "    value_lst = s.split(sep=sep)\n",
    "    return value_lst[0]\n",
    "\n",
    "temp['age_restriction'] = temp['age_restriction'].apply(lambda x: get_first_value(x, sep='-'))\n",
    "# сохраним маску для среза по годам\n",
    "year_mask = temp['show_start_year'] >= 2015\n",
    "\n",
    "plt.figure(figsize=(8, 8))\n",
    "(sns.boxplot(data = temp.loc[year_mask], y = 'box_office', x='age_restriction', showfliers=False, showmeans=True)\n",
    "    .set(title = 'Кассовые сборы в зависимости от возрастной категории', \n",
    "         xlabel = 'Возрастные категории', ylabel = 'Кассовый сбор'))\n",
    "plt.text(0, 1.18e8,'Треугольник показывает среднее значение')\n",
    "plt.show()"
   ]
  },
  {
   "cell_type": "markdown",
   "metadata": {},
   "source": [
    "#### Общий вывод. Исследовательский анализ данных"
   ]
  },
  {
   "cell_type": "markdown",
   "metadata": {},
   "source": [
    "Из рассмотренных данных и полученных результатов можно сделать вывод, что киноиндустрия за период с 2010 по 2019 годы продолжала развиваться и расти, с увеличением производства фильмов и суммы затрат.\n",
    "\n",
    "Однако, наблюдался резкий спад количества фильмов, получивших прокатные удостоверения в 2017 году. По сборам лидерами являлись фильмы «16+», но после 2017 года они начали терять аудиторию, возможно из-за перенасыщения рынка и конкуренции со стороны фильмов «12+». В 2019 году первое место по сборам заняли фильмы «6+», что может свидетельствовать о том, что вкусы и предпочтения зрителей меняются со временем. Например, увеличение интереса к фильмам «6+» может быть связано с тенденцией к семейным ценностям и приоритетам, таким как укрепление семьи и отношений между родителями и детьми. Кроме того, существенное влияние на выбор зрителей может оказывать качество фильмов и их сценарий, а также качество продвижения и рекламы фильмов."
   ]
  },
  {
   "cell_type": "markdown",
   "metadata": {
    "id": "l_Kg6Ku4gFya"
   },
   "source": [
    "### Шаг 4. Исследуйте фильмы, которые получили государственную поддержку\n",
    "\n",
    "На этом этапе нет конкретных инструкций и заданий — поищите интересные закономерности в данных. Посмотрите, сколько выделяют средств на поддержку кино. Проверьте, хорошо ли окупаются такие фильмы, какой у них рейтинг."
   ]
  },
  {
   "cell_type": "markdown",
   "metadata": {
    "id": "W9QKpjUdgFyb"
   },
   "source": [
    "Посмотрим на фильмы, которые получали государственную поддержку через параметр сборов, сколько собрано в целом, на какие фильмы, на какие жанры, а также проверим рейтинги у фильмов с государственной поддержкой и без нее."
   ]
  },
  {
   "cell_type": "markdown",
   "metadata": {},
   "source": [
    "Посмотрим на информацию о общих сборах."
   ]
  },
  {
   "cell_type": "code",
   "execution_count": 86,
   "metadata": {},
   "outputs": [
    {
     "data": {
      "text/plain": [
       "'Среднее значение для столбца: box_office'"
      ]
     },
     "metadata": {},
     "output_type": "display_data"
    },
    {
     "data": {
      "text/plain": [
       "32267163.99"
      ]
     },
     "metadata": {},
     "output_type": "display_data"
    },
    {
     "data": {
      "text/plain": [
       "'Медианное значение для столбца: box_office'"
      ]
     },
     "metadata": {},
     "output_type": "display_data"
    },
    {
     "data": {
      "text/plain": [
       "0.0"
      ]
     },
     "metadata": {},
     "output_type": "display_data"
    },
    {
     "data": {
      "text/plain": [
       "'Минимальное значение для столбца: box_office'"
      ]
     },
     "metadata": {},
     "output_type": "display_data"
    },
    {
     "data": {
      "text/plain": [
       "0.0"
      ]
     },
     "metadata": {},
     "output_type": "display_data"
    },
    {
     "data": {
      "text/plain": [
       "'Максимальное значение для столбца: box_office'"
      ]
     },
     "metadata": {},
     "output_type": "display_data"
    },
    {
     "data": {
      "text/plain": [
       "3073568690.79"
      ]
     },
     "metadata": {},
     "output_type": "display_data"
    }
   ],
   "source": [
    "mean_median_min_max(data, 'box_office')"
   ]
  },
  {
   "cell_type": "markdown",
   "metadata": {},
   "source": [
    "Посмотрим подробнее на параметр сборов исключив из него отсутствующие данные в представлении гистограммы. Поставим количество корзин 100, чтобы немного подробнее посмотреть на значения."
   ]
  },
  {
   "cell_type": "code",
   "execution_count": 87,
   "metadata": {},
   "outputs": [
    {
     "data": {
      "text/plain": [
       "Text(0.5, 0, 'Размер сборов')"
      ]
     },
     "execution_count": 87,
     "metadata": {},
     "output_type": "execute_result"
    },
    {
     "data": {
      "image/png": "[encoded data removed]",
      "text/plain": [
       "<Figure size 432x288 with 1 Axes>"
      ]
     },
     "metadata": {
      "needs_background": "light"
     },
     "output_type": "display_data"
    }
   ],
   "source": [
    "data.query('box_office > 0')['box_office'].hist(bins=100);\n",
    "plt.ylabel('Кол-во значений в данных')\n",
    "plt.suptitle('Гистограмма распределения сборов')\n",
    "plt.xlabel('Размер сборов')"
   ]
  },
  {
   "cell_type": "markdown",
   "metadata": {},
   "source": [
    "Сборов в крупных суммах было очень немного. Судя по графиках преобладают сборы до 500 000 рублей, но большая часть сборов все равно довольно мала."
   ]
  },
  {
   "cell_type": "markdown",
   "metadata": {},
   "source": [
    "Посмотрим на количество снятых при поддержке Министерства культуры или Фонда кино фильмов, отдельно для тех, у которых есть сборы, а отдельно без сборов."
   ]
  },
  {
   "cell_type": "code",
   "execution_count": 88,
   "metadata": {},
   "outputs": [
    {
     "data": {
      "text/plain": [
       "'Проекты сняты при поддержке Министерства культуры или Фонда кино без информации о сборах'"
      ]
     },
     "metadata": {},
     "output_type": "display_data"
    },
    {
     "data": {
      "text/plain": [
       "14"
      ]
     },
     "metadata": {},
     "output_type": "display_data"
    },
    {
     "data": {
      "text/plain": [
       "'Проекты сняты при поддержке Министерства культуры или Фонда кино с информацией о сборах'"
      ]
     },
     "metadata": {},
     "output_type": "display_data"
    },
    {
     "data": {
      "text/plain": [
       "318"
      ]
     },
     "metadata": {},
     "output_type": "display_data"
    }
   ],
   "source": [
    "list_sponsor = ['Министерство культуры', 'Фонд кино', 'Министерство культуры, Фонд кино']\n",
    "display('Проекты сняты при поддержке Министерства культуры или Фонда кино без информации о сборах', data.query('budget != 0 and box_office == 0  and financing_source in @list_sponsor' )['title'].count())\n",
    "display('Проекты сняты при поддержке Министерства культуры или Фонда кино с информацией о сборах', data.query('budget != 0 and box_office != 0 and financing_source in @list_sponsor' )['title'].count())"
   ]
  },
  {
   "cell_type": "markdown",
   "metadata": {},
   "source": [
    "Так как последняя дата, которая зафиксирована в данных это 30 декабря 2019 года, стоит предположить, что на эту дату могли попасть фильмы недавно стартовавшие и без информации о сборах. Допустим, что за два месяца и более после даты старта фильма, данные о сборах уже есть, так что исключим фильмы, которые были запущены в прокат после 30 октября 2019 года."
   ]
  },
  {
   "cell_type": "code",
   "execution_count": 89,
   "metadata": {},
   "outputs": [
    {
     "data": {
      "text/html": [
       "<div>\n",
       "<style scoped>\n",
       "    .dataframe tbody tr th:only-of-type {\n",
       "        vertical-align: middle;\n",
       "    }\n",
       "\n",
       "    .dataframe tbody tr th {\n",
       "        vertical-align: top;\n",
       "    }\n",
       "\n",
       "    .dataframe thead th {\n",
       "        text-align: right;\n",
       "    }\n",
       "</style>\n",
       "<table border=\"1\" class=\"dataframe\">\n",
       "  <thead>\n",
       "    <tr style=\"text-align: right;\">\n",
       "      <th></th>\n",
       "      <th>title</th>\n",
       "      <th>puNumber</th>\n",
       "      <th>show_start_date</th>\n",
       "      <th>type</th>\n",
       "      <th>film_studio</th>\n",
       "      <th>production_country</th>\n",
       "      <th>director</th>\n",
       "      <th>producer</th>\n",
       "      <th>age_restriction</th>\n",
       "      <th>refundable_support</th>\n",
       "      <th>nonrefundable_support</th>\n",
       "      <th>budget</th>\n",
       "      <th>financing_source</th>\n",
       "      <th>ratings</th>\n",
       "      <th>genres</th>\n",
       "      <th>box_office</th>\n",
       "      <th>main_genres</th>\n",
       "      <th>show_start_year</th>\n",
       "      <th>main_director</th>\n",
       "      <th>gov_support_percent</th>\n",
       "    </tr>\n",
       "  </thead>\n",
       "  <tbody>\n",
       "    <tr>\n",
       "      <th>2799</th>\n",
       "      <td>Золотая рыбка (2015)</td>\n",
       "      <td>111018715</td>\n",
       "      <td>2015-10-29 12:00:00+00:00</td>\n",
       "      <td>Художественный</td>\n",
       "      <td>ООО \"Кинокомпания Дебют\"</td>\n",
       "      <td>Россия</td>\n",
       "      <td>А.Галибин</td>\n",
       "      <td>Б.Токарев</td>\n",
       "      <td>«12+» - для детей старше 12 лет</td>\n",
       "      <td>0.00</td>\n",
       "      <td>25000000.00</td>\n",
       "      <td>41998984.00</td>\n",
       "      <td>Министерство культуры</td>\n",
       "      <td>6.30</td>\n",
       "      <td>драма</td>\n",
       "      <td>0.00</td>\n",
       "      <td>драма</td>\n",
       "      <td>2015</td>\n",
       "      <td>А.Галибин</td>\n",
       "      <td>59.53</td>\n",
       "    </tr>\n",
       "    <tr>\n",
       "      <th>3336</th>\n",
       "      <td>Любовь и Сакс</td>\n",
       "      <td>111001217</td>\n",
       "      <td>2017-02-16 12:00:00+00:00</td>\n",
       "      <td>Художественный</td>\n",
       "      <td>ООО \"ДжемСтудия\"</td>\n",
       "      <td>Россия</td>\n",
       "      <td>А.Сурикова</td>\n",
       "      <td>А.Голутва</td>\n",
       "      <td>«12+» - для детей старше 12 лет</td>\n",
       "      <td>0.00</td>\n",
       "      <td>10000000.00</td>\n",
       "      <td>61000000.00</td>\n",
       "      <td>Министерство культуры</td>\n",
       "      <td>5.20</td>\n",
       "      <td>мелодрама</td>\n",
       "      <td>0.00</td>\n",
       "      <td>мелодрама</td>\n",
       "      <td>2017</td>\n",
       "      <td>А.Сурикова</td>\n",
       "      <td>16.39</td>\n",
       "    </tr>\n",
       "    <tr>\n",
       "      <th>3710</th>\n",
       "      <td>Колобанга. Только для пользователей Интернета ...</td>\n",
       "      <td>214010116</td>\n",
       "      <td>2016-10-06 12:00:00+00:00</td>\n",
       "      <td>Анимационный</td>\n",
       "      <td>ООО \"Колобанга\"</td>\n",
       "      <td>Россия</td>\n",
       "      <td>А.Романец</td>\n",
       "      <td>А.Ревва</td>\n",
       "      <td>«0+» - для любой зрительской аудитории</td>\n",
       "      <td>0.00</td>\n",
       "      <td>11520000.00</td>\n",
       "      <td>18706080.00</td>\n",
       "      <td>Министерство культуры</td>\n",
       "      <td>7.00</td>\n",
       "      <td>мультфильм,приключения,детектив</td>\n",
       "      <td>0.00</td>\n",
       "      <td>мультфильм</td>\n",
       "      <td>2016</td>\n",
       "      <td>А.Романец</td>\n",
       "      <td>61.58</td>\n",
       "    </tr>\n",
       "    <tr>\n",
       "      <th>5660</th>\n",
       "      <td>Детский юмористический киножурнал \"ЕРАЛАШ\", вы...</td>\n",
       "      <td>111011917</td>\n",
       "      <td>2017-12-26 12:00:00+00:00</td>\n",
       "      <td>Художественный</td>\n",
       "      <td>ООО \"Продюсерский центр ЕРАЛАШ\"</td>\n",
       "      <td>Россия</td>\n",
       "      <td>Е.Соколов, В.Панжев, Г.Курлаев, С.Морозов, М.С...</td>\n",
       "      <td>ООО \"Продюсерский центр ЕРАЛАШ\"</td>\n",
       "      <td>«0+» - для любой зрительской аудитории</td>\n",
       "      <td>0.00</td>\n",
       "      <td>25000000.00</td>\n",
       "      <td>44600000.00</td>\n",
       "      <td>Министерство культуры</td>\n",
       "      <td>7.20</td>\n",
       "      <td>детский,комедия</td>\n",
       "      <td>0.00</td>\n",
       "      <td>детский</td>\n",
       "      <td>2017</td>\n",
       "      <td>Е.Соколов</td>\n",
       "      <td>56.05</td>\n",
       "    </tr>\n",
       "    <tr>\n",
       "      <th>6475</th>\n",
       "      <td>Зима</td>\n",
       "      <td>111023518</td>\n",
       "      <td>2019-03-15 12:00:00+00:00</td>\n",
       "      <td>Художественный</td>\n",
       "      <td>ООО \"КиноТрест\"</td>\n",
       "      <td>Россия</td>\n",
       "      <td>С.Черников</td>\n",
       "      <td>З.Болотаев, А.Плотников, Н.Агеев, А.Горский, П...</td>\n",
       "      <td>«16+» - для детей старше 16 лет</td>\n",
       "      <td>0.00</td>\n",
       "      <td>25000000.00</td>\n",
       "      <td>39700000.00</td>\n",
       "      <td>Министерство культуры</td>\n",
       "      <td>5.20</td>\n",
       "      <td>драма,криминал</td>\n",
       "      <td>0.00</td>\n",
       "      <td>драма</td>\n",
       "      <td>2019</td>\n",
       "      <td>С.Черников</td>\n",
       "      <td>62.97</td>\n",
       "    </tr>\n",
       "    <tr>\n",
       "      <th>6708</th>\n",
       "      <td>Мальчик русский</td>\n",
       "      <td>111002619</td>\n",
       "      <td>2019-02-20 12:00:00+00:00</td>\n",
       "      <td>Художественный</td>\n",
       "      <td>АО \"Ленфильм\"</td>\n",
       "      <td>Россия</td>\n",
       "      <td>А.Золотухин</td>\n",
       "      <td>А.Золотухин</td>\n",
       "      <td>«12+» - для детей старше 12 лет</td>\n",
       "      <td>0.00</td>\n",
       "      <td>30000000.00</td>\n",
       "      <td>46941140.00</td>\n",
       "      <td>Министерство культуры</td>\n",
       "      <td>6.10</td>\n",
       "      <td>драма,военный,история</td>\n",
       "      <td>0.00</td>\n",
       "      <td>драма</td>\n",
       "      <td>2019</td>\n",
       "      <td>А.Золотухин</td>\n",
       "      <td>63.91</td>\n",
       "    </tr>\n",
       "    <tr>\n",
       "      <th>6967</th>\n",
       "      <td>Танец с саблями</td>\n",
       "      <td>111008619</td>\n",
       "      <td>2019-05-29 12:00:00+00:00</td>\n",
       "      <td>Художественный</td>\n",
       "      <td>ООО \"Кинокомпания Флагман\" по заказу ООО \"ММЕ\"</td>\n",
       "      <td>Россия</td>\n",
       "      <td>Ю.Разыков</td>\n",
       "      <td>Р.Дишдишян, ООО \"МАРС МЕДИА ЭНТЕРТЕЙНМЕНТ\"</td>\n",
       "      <td>«16+» - для детей старше 16 лет</td>\n",
       "      <td>0.00</td>\n",
       "      <td>40000000.00</td>\n",
       "      <td>61571449.00</td>\n",
       "      <td>Министерство культуры</td>\n",
       "      <td>5.80</td>\n",
       "      <td>драма,история,биография</td>\n",
       "      <td>0.00</td>\n",
       "      <td>драма</td>\n",
       "      <td>2019</td>\n",
       "      <td>Ю.Разыков</td>\n",
       "      <td>64.97</td>\n",
       "    </tr>\n",
       "    <tr>\n",
       "      <th>7008</th>\n",
       "      <td>Куратор</td>\n",
       "      <td>111010019</td>\n",
       "      <td>2019-06-13 12:00:00+00:00</td>\n",
       "      <td>Художественный</td>\n",
       "      <td>ООО \"Кинокомпания Атлантик\", 20 стэпс продакшнс</td>\n",
       "      <td>Россия - Грузия</td>\n",
       "      <td>П.Левченко</td>\n",
       "      <td>Е.Филиппова</td>\n",
       "      <td>«16+» - для детей старше 16 лет</td>\n",
       "      <td>0.00</td>\n",
       "      <td>25000000.00</td>\n",
       "      <td>60668576.00</td>\n",
       "      <td>Министерство культуры</td>\n",
       "      <td>4.90</td>\n",
       "      <td>драма,криминал,детектив</td>\n",
       "      <td>0.00</td>\n",
       "      <td>драма</td>\n",
       "      <td>2019</td>\n",
       "      <td>П.Левченко</td>\n",
       "      <td>41.21</td>\n",
       "    </tr>\n",
       "  </tbody>\n",
       "</table>\n",
       "</div>"
      ],
      "text/plain": [
       "                                                  title   puNumber  \\\n",
       "2799                               Золотая рыбка (2015)  111018715   \n",
       "3336                                      Любовь и Сакс  111001217   \n",
       "3710  Колобанга. Только для пользователей Интернета ...  214010116   \n",
       "5660  Детский юмористический киножурнал \"ЕРАЛАШ\", вы...  111011917   \n",
       "6475                                               Зима  111023518   \n",
       "6708                                    Мальчик русский  111002619   \n",
       "6967                                    Танец с саблями  111008619   \n",
       "7008                                            Куратор  111010019   \n",
       "\n",
       "               show_start_date            type  \\\n",
       "2799 2015-10-29 12:00:00+00:00  Художественный   \n",
       "3336 2017-02-16 12:00:00+00:00  Художественный   \n",
       "3710 2016-10-06 12:00:00+00:00    Анимационный   \n",
       "5660 2017-12-26 12:00:00+00:00  Художественный   \n",
       "6475 2019-03-15 12:00:00+00:00  Художественный   \n",
       "6708 2019-02-20 12:00:00+00:00  Художественный   \n",
       "6967 2019-05-29 12:00:00+00:00  Художественный   \n",
       "7008 2019-06-13 12:00:00+00:00  Художественный   \n",
       "\n",
       "                                          film_studio production_country  \\\n",
       "2799                         ООО \"Кинокомпания Дебют\"             Россия   \n",
       "3336                                 ООО \"ДжемСтудия\"             Россия   \n",
       "3710                                  ООО \"Колобанга\"             Россия   \n",
       "5660                  ООО \"Продюсерский центр ЕРАЛАШ\"             Россия   \n",
       "6475                                  ООО \"КиноТрест\"             Россия   \n",
       "6708                                    АО \"Ленфильм\"             Россия   \n",
       "6967   ООО \"Кинокомпания Флагман\" по заказу ООО \"ММЕ\"             Россия   \n",
       "7008  ООО \"Кинокомпания Атлантик\", 20 стэпс продакшнс    Россия - Грузия   \n",
       "\n",
       "                                               director  \\\n",
       "2799                                          А.Галибин   \n",
       "3336                                         А.Сурикова   \n",
       "3710                                          А.Романец   \n",
       "5660  Е.Соколов, В.Панжев, Г.Курлаев, С.Морозов, М.С...   \n",
       "6475                                         С.Черников   \n",
       "6708                                        А.Золотухин   \n",
       "6967                                          Ю.Разыков   \n",
       "7008                                         П.Левченко   \n",
       "\n",
       "                                               producer  \\\n",
       "2799                                          Б.Токарев   \n",
       "3336                                          А.Голутва   \n",
       "3710                                            А.Ревва   \n",
       "5660                    ООО \"Продюсерский центр ЕРАЛАШ\"   \n",
       "6475  З.Болотаев, А.Плотников, Н.Агеев, А.Горский, П...   \n",
       "6708                                        А.Золотухин   \n",
       "6967         Р.Дишдишян, ООО \"МАРС МЕДИА ЭНТЕРТЕЙНМЕНТ\"   \n",
       "7008                                        Е.Филиппова   \n",
       "\n",
       "                             age_restriction  refundable_support  \\\n",
       "2799         «12+» - для детей старше 12 лет                0.00   \n",
       "3336         «12+» - для детей старше 12 лет                0.00   \n",
       "3710  «0+» - для любой зрительской аудитории                0.00   \n",
       "5660  «0+» - для любой зрительской аудитории                0.00   \n",
       "6475         «16+» - для детей старше 16 лет                0.00   \n",
       "6708         «12+» - для детей старше 12 лет                0.00   \n",
       "6967         «16+» - для детей старше 16 лет                0.00   \n",
       "7008         «16+» - для детей старше 16 лет                0.00   \n",
       "\n",
       "      nonrefundable_support      budget       financing_source  ratings  \\\n",
       "2799            25000000.00 41998984.00  Министерство культуры     6.30   \n",
       "3336            10000000.00 61000000.00  Министерство культуры     5.20   \n",
       "3710            11520000.00 18706080.00  Министерство культуры     7.00   \n",
       "5660            25000000.00 44600000.00  Министерство культуры     7.20   \n",
       "6475            25000000.00 39700000.00  Министерство культуры     5.20   \n",
       "6708            30000000.00 46941140.00  Министерство культуры     6.10   \n",
       "6967            40000000.00 61571449.00  Министерство культуры     5.80   \n",
       "7008            25000000.00 60668576.00  Министерство культуры     4.90   \n",
       "\n",
       "                               genres  box_office main_genres  \\\n",
       "2799                            драма        0.00       драма   \n",
       "3336                        мелодрама        0.00   мелодрама   \n",
       "3710  мультфильм,приключения,детектив        0.00  мультфильм   \n",
       "5660                  детский,комедия        0.00     детский   \n",
       "6475                   драма,криминал        0.00       драма   \n",
       "6708            драма,военный,история        0.00       драма   \n",
       "6967          драма,история,биография        0.00       драма   \n",
       "7008          драма,криминал,детектив        0.00       драма   \n",
       "\n",
       "      show_start_year main_director  gov_support_percent  \n",
       "2799             2015     А.Галибин                59.53  \n",
       "3336             2017    А.Сурикова                16.39  \n",
       "3710             2016     А.Романец                61.58  \n",
       "5660             2017     Е.Соколов                56.05  \n",
       "6475             2019    С.Черников                62.97  \n",
       "6708             2019   А.Золотухин                63.91  \n",
       "6967             2019     Ю.Разыков                64.97  \n",
       "7008             2019    П.Левченко                41.21  "
      ]
     },
     "execution_count": 89,
     "metadata": {},
     "output_type": "execute_result"
    }
   ],
   "source": [
    "data.query('budget != 0 and box_office == 0 and financing_source in @list_sponsor and show_start_date < \"2019-10-30 12:00:00+00:00\" ' )"
   ]
  },
  {
   "cell_type": "markdown",
   "metadata": {},
   "source": [
    "Список включает в себя разные года и какой-то особой тенденции в пропусках данных о сборах нет, учитывая, что у фильмов есть рейтинг, то они точно выходили в прокат. Скорее всего данные просто пропущены."
   ]
  },
  {
   "cell_type": "code",
   "execution_count": 90,
   "metadata": {},
   "outputs": [
    {
     "data": {
      "text/plain": [
       "'Медиана по выделяемому бюджету на фильмы руб.: '"
      ]
     },
     "metadata": {},
     "output_type": "display_data"
    },
    {
     "data": {
      "text/plain": [
       "74592550.0"
      ]
     },
     "metadata": {},
     "output_type": "display_data"
    }
   ],
   "source": [
    "display('Медиана по выделяемому бюджету на фильмы руб.: ', data.query('budget != 0')['budget'].median())"
   ]
  },
  {
   "cell_type": "markdown",
   "metadata": {},
   "source": [
    "Очень много сумм сборов относительно скромные. Так как медианная сумма по размеру бюджета 74 592 550 рублей, посмотрим на количество фильмов, которые ниже этой границы по сборам."
   ]
  },
  {
   "cell_type": "code",
   "execution_count": 91,
   "metadata": {},
   "outputs": [
    {
     "data": {
      "text/plain": [
       "'Сборов до медианы по выделяемому бюджету: '"
      ]
     },
     "metadata": {},
     "output_type": "display_data"
    },
    {
     "data": {
      "text/plain": [
       "221"
      ]
     },
     "metadata": {},
     "output_type": "display_data"
    }
   ],
   "source": [
    "display('Сборов до медианы по выделяемому бюджету: ', data.query('budget != 0 and box_office < 74592550 and financing_source in @list_sponsor')['box_office'].sort_values(ascending=True).nunique())"
   ]
  },
  {
   "cell_type": "markdown",
   "metadata": {},
   "source": [
    "Фильмов, которые сняты при поддержке Министерства культуры или Фонда кино и получили сборов меньше медианного значения выделяемого бюджета — 221, это 69.5% от общей информации о сборах, которая у нас есть. Судя по всему доходы у выпускаемых фильмов, которые были на господдержке были очень скромные."
   ]
  },
  {
   "cell_type": "markdown",
   "metadata": {},
   "source": [
    "Чтобы разобраться со сборами и получить как можно больше информации об этом параметре, обратимся к распределению по категориям и вычислению процентов от общего количества данных, а затем посмотрим на доходы в разрезе по типам фильмов.\n",
    "\n",
    "Сборы можно поделить на пять основных условных категорий:\n",
    "\n",
    "* провал - сборы фильма не покрыли даже бюджет производства;\n",
    "* убыток - сборы фильма покрыли только бюджет производства, но не принесли прибыли;\n",
    "* средний успех - сборы фильма превысили бюджет производства, но не достигли уровня ожидаемой прибыли;\n",
    "* хороший успех - сборы фильма превысили бюджет производства и достигли или превысили ожидаемую прибыль;\n",
    "* кассовый успех - сборы фильма значительно превысили бюджет производства и принесли огромную прибыль.\n",
    "Для категоризации поделим цены с помощью метода .quantile() и шага 20%. цена:\n",
    "\n",
    "* провал: 0-20%\n",
    "* убыток: 21-40%\n",
    "* средний успех: 41-60%\n",
    "* хороший успех: 61-80%\n",
    "* кассовый успех: 81-100%"
   ]
  },
  {
   "cell_type": "code",
   "execution_count": 92,
   "metadata": {},
   "outputs": [
    {
     "data": {
      "text/plain": [
       "0.20      725984.10\n",
       "0.40     5789606.54\n",
       "0.60    37480267.37\n",
       "0.80   150860738.64\n",
       "Name: box_office, dtype: float64"
      ]
     },
     "execution_count": 92,
     "metadata": {},
     "output_type": "execute_result"
    }
   ],
   "source": [
    "data.query('budget != 0 and box_office != 0 and financing_source in @list_sponsor')['box_office'].quantile([.20, .40, .60, .80])"
   ]
  },
  {
   "cell_type": "code",
   "execution_count": 93,
   "metadata": {},
   "outputs": [],
   "source": [
    "bins = [0, 725984.10, 5789606.54, 37480267.37, 150860738.64, float('inf')]\n",
    "labels = ['провал', 'убыток', 'средний успех', 'хороший успех', 'кассовый успех']\n",
    "data['category'] = pd.cut(data['box_office'], bins=bins, labels=labels)"
   ]
  },
  {
   "cell_type": "markdown",
   "metadata": {},
   "source": [
    "Посмотрим на процент по каждой категории."
   ]
  },
  {
   "cell_type": "code",
   "execution_count": 94,
   "metadata": {},
   "outputs": [
    {
     "data": {
      "text/html": [
       "<div>\n",
       "<style scoped>\n",
       "    .dataframe tbody tr th:only-of-type {\n",
       "        vertical-align: middle;\n",
       "    }\n",
       "\n",
       "    .dataframe tbody tr th {\n",
       "        vertical-align: top;\n",
       "    }\n",
       "\n",
       "    .dataframe thead th {\n",
       "        text-align: right;\n",
       "    }\n",
       "</style>\n",
       "<table border=\"1\" class=\"dataframe\">\n",
       "  <thead>\n",
       "    <tr style=\"text-align: right;\">\n",
       "      <th></th>\n",
       "      <th>Количество в box_office</th>\n",
       "      <th>Процент от общего</th>\n",
       "    </tr>\n",
       "    <tr>\n",
       "      <th>category</th>\n",
       "      <th></th>\n",
       "      <th></th>\n",
       "    </tr>\n",
       "  </thead>\n",
       "  <tbody>\n",
       "    <tr>\n",
       "      <th>провал</th>\n",
       "      <td>1131</td>\n",
       "      <td>36.09</td>\n",
       "    </tr>\n",
       "    <tr>\n",
       "      <th>убыток</th>\n",
       "      <td>785</td>\n",
       "      <td>25.05</td>\n",
       "    </tr>\n",
       "    <tr>\n",
       "      <th>средний успех</th>\n",
       "      <td>544</td>\n",
       "      <td>17.36</td>\n",
       "    </tr>\n",
       "    <tr>\n",
       "      <th>кассовый успех</th>\n",
       "      <td>355</td>\n",
       "      <td>11.33</td>\n",
       "    </tr>\n",
       "    <tr>\n",
       "      <th>хороший успех</th>\n",
       "      <td>319</td>\n",
       "      <td>10.18</td>\n",
       "    </tr>\n",
       "  </tbody>\n",
       "</table>\n",
       "</div>"
      ],
      "text/plain": [
       "                Количество в box_office  Процент от общего\n",
       "category                                                  \n",
       "провал                             1131              36.09\n",
       "убыток                              785              25.05\n",
       "средний успех                       544              17.36\n",
       "кассовый успех                      355              11.33\n",
       "хороший успех                       319              10.18"
      ]
     },
     "execution_count": 94,
     "metadata": {},
     "output_type": "execute_result"
    }
   ],
   "source": [
    "sort_category(data, 'category', 'box_office')"
   ]
  },
  {
   "cell_type": "markdown",
   "metadata": {},
   "source": [
    "Доля провальных и убыточных фильмов крайне велика, суммарно это 61.14% от всех количества всех данных о сборах."
   ]
  },
  {
   "cell_type": "markdown",
   "metadata": {},
   "source": [
    "Построим диаграмму в зависимости от определенных ранее категорий и типов, которые указаны в данных."
   ]
  },
  {
   "cell_type": "code",
   "execution_count": 95,
   "metadata": {},
   "outputs": [
    {
     "data": {
      "text/plain": [
       "Text(0.5, 0.98, 'Диаграмма распределения суммы сборов')"
      ]
     },
     "execution_count": 95,
     "metadata": {},
     "output_type": "execute_result"
    },
    {
     "data": {
      "image/png": "[encoded data removed]",
      "text/plain": [
       "<Figure size 1080x360 with 1 Axes>"
      ]
     },
     "metadata": {
      "needs_background": "light"
     },
     "output_type": "display_data"
    }
   ],
   "source": [
    "counts_hist(data, 'category', 'bar')\n",
    "plt.suptitle('Диаграмма распределения суммы сборов')"
   ]
  },
  {
   "cell_type": "markdown",
   "metadata": {},
   "source": [
    "Больше всего в российских кинотеатрах было художественных фильмов, которые провалились в прокате. Анимационные фильмы также преимущественно были провальными по сборам."
   ]
  },
  {
   "cell_type": "markdown",
   "metadata": {},
   "source": [
    "Посмотрим на расходы по жанрам в виде сводной таблицы, отдельно выясним какие жанры были убыточны, а какие наоборот окупали себя."
   ]
  },
  {
   "cell_type": "code",
   "execution_count": 96,
   "metadata": {},
   "outputs": [],
   "source": [
    "data_budget_box_office_pivot = (data.query('budget != 0 and box_office != 0 and financing_source in @list_sponsor and ratings != 0')\n",
    "                    .pivot_table(index='main_genres', values=['ratings', 'box_office', 'budget'], aggfunc= 'mean')\n",
    "                    .sort_values(by='main_genres', ascending = True))\n",
    "data_budget_box_office_pivot = data_budget_box_office_pivot.reindex(['ratings', 'budget', 'box_office'], axis=1)\n",
    "data_budget_box_office_pivot['percent_box'] = round((data_budget_box_office_pivot['box_office'] / data_budget_box_office_pivot['box_office'].sum()) * 100, 2) \n",
    "data_budget_box_office_pivot['percent_budget'] = round((data_budget_box_office_pivot['budget'] / data_budget_box_office_pivot['budget'].sum()) * 100, 2)  \n",
    "data_budget_box_office_pivot = data_budget_box_office_pivot.set_axis(['Рейтинг', 'Сборы', 'Бюджет','Сборы процент', 'Бюджет процент'], axis='columns')"
   ]
  },
  {
   "cell_type": "markdown",
   "metadata": {},
   "source": [
    "Для удобного восприятия выведу результаты в цветовом представлении.\n",
    "\n",
    "Ключ к данным:\n",
    "\n",
    "* зеленые ячейки — жанры, в которых сборы больше затраченного бюджета;\n",
    "* оранжевые — сборы у которых сумма меньше бюджета."
   ]
  },
  {
   "cell_type": "code",
   "execution_count": 97,
   "metadata": {},
   "outputs": [
    {
     "data": {
      "text/html": [
       "<style  type=\"text/css\" >\n",
       "#T_f76a5_row0_col0,#T_f76a5_row1_col0,#T_f76a5_row2_col0,#T_f76a5_row3_col0,#T_f76a5_row4_col0,#T_f76a5_row5_col0,#T_f76a5_row6_col0,#T_f76a5_row7_col0,#T_f76a5_row9_col0,#T_f76a5_row10_col0,#T_f76a5_row11_col0,#T_f76a5_row12_col0,#T_f76a5_row13_col0,#T_f76a5_row15_col0,#T_f76a5_row16_col0,#T_f76a5_row17_col0,#T_f76a5_row18_col0,#T_f76a5_row19_col0{\n",
       "            background-color:  rgba(255, 222, 173, 0.5);\n",
       "        }#T_f76a5_row0_col1,#T_f76a5_row0_col2,#T_f76a5_row0_col3,#T_f76a5_row0_col4,#T_f76a5_row5_col1,#T_f76a5_row5_col2,#T_f76a5_row5_col3,#T_f76a5_row5_col4,#T_f76a5_row7_col1,#T_f76a5_row7_col2,#T_f76a5_row7_col3,#T_f76a5_row7_col4,#T_f76a5_row8_col0,#T_f76a5_row10_col1,#T_f76a5_row10_col2,#T_f76a5_row10_col3,#T_f76a5_row10_col4,#T_f76a5_row14_col1,#T_f76a5_row14_col2,#T_f76a5_row14_col3,#T_f76a5_row14_col4,#T_f76a5_row15_col1,#T_f76a5_row15_col2,#T_f76a5_row15_col3,#T_f76a5_row15_col4,#T_f76a5_row17_col1,#T_f76a5_row17_col2,#T_f76a5_row17_col3,#T_f76a5_row17_col4,#T_f76a5_row18_col1,#T_f76a5_row18_col2,#T_f76a5_row18_col3,#T_f76a5_row18_col4{\n",
       "            background-color:  rgba(143, 188, 143, 0.5);\n",
       "        }#T_f76a5_row1_col1,#T_f76a5_row1_col2,#T_f76a5_row1_col3,#T_f76a5_row1_col4,#T_f76a5_row2_col1,#T_f76a5_row2_col2,#T_f76a5_row2_col3,#T_f76a5_row2_col4,#T_f76a5_row3_col1,#T_f76a5_row3_col2,#T_f76a5_row3_col3,#T_f76a5_row3_col4,#T_f76a5_row4_col1,#T_f76a5_row4_col2,#T_f76a5_row4_col3,#T_f76a5_row4_col4,#T_f76a5_row6_col1,#T_f76a5_row6_col2,#T_f76a5_row6_col3,#T_f76a5_row6_col4,#T_f76a5_row8_col1,#T_f76a5_row8_col2,#T_f76a5_row8_col3,#T_f76a5_row8_col4,#T_f76a5_row9_col1,#T_f76a5_row9_col2,#T_f76a5_row9_col3,#T_f76a5_row9_col4,#T_f76a5_row11_col1,#T_f76a5_row11_col2,#T_f76a5_row11_col3,#T_f76a5_row11_col4,#T_f76a5_row12_col1,#T_f76a5_row12_col2,#T_f76a5_row12_col3,#T_f76a5_row12_col4,#T_f76a5_row13_col1,#T_f76a5_row13_col2,#T_f76a5_row13_col3,#T_f76a5_row13_col4,#T_f76a5_row14_col0,#T_f76a5_row16_col1,#T_f76a5_row16_col2,#T_f76a5_row16_col3,#T_f76a5_row16_col4,#T_f76a5_row19_col1,#T_f76a5_row19_col2,#T_f76a5_row19_col3,#T_f76a5_row19_col4{\n",
       "            background-color:  rgba(244, 164, 96, 0.5);\n",
       "        }</style><table id=\"T_f76a5_\" ><thead>    <tr>        <th class=\"blank level0\" ></th>        <th class=\"col_heading level0 col0\" >Рейтинг</th>        <th class=\"col_heading level0 col1\" >Сборы</th>        <th class=\"col_heading level0 col2\" >Бюджет</th>        <th class=\"col_heading level0 col3\" >Сборы процент</th>        <th class=\"col_heading level0 col4\" >Бюджет процент</th>    </tr>    <tr>        <th class=\"index_name level0\" >main_genres</th>        <th class=\"blank\" ></th>        <th class=\"blank\" ></th>        <th class=\"blank\" ></th>        <th class=\"blank\" ></th>        <th class=\"blank\" ></th>    </tr></thead><tbody>\n",
       "                <tr>\n",
       "                        <th id=\"T_f76a5_level0_row0\" class=\"row_heading level0 row0\" >биография</th>\n",
       "                        <td id=\"T_f76a5_row0_col0\" class=\"data row0 col0\" >6.900000</td>\n",
       "                        <td id=\"T_f76a5_row0_col1\" class=\"data row0 col1\" >176311212.333333</td>\n",
       "                        <td id=\"T_f76a5_row0_col2\" class=\"data row0 col2\" >172294345.880000</td>\n",
       "                        <td id=\"T_f76a5_row0_col3\" class=\"data row0 col3\" >5.640000</td>\n",
       "                        <td id=\"T_f76a5_row0_col4\" class=\"data row0 col4\" >5.000000</td>\n",
       "            </tr>\n",
       "            <tr>\n",
       "                        <th id=\"T_f76a5_level0_row1\" class=\"row_heading level0 row1\" >боевик</th>\n",
       "                        <td id=\"T_f76a5_row1_col0\" class=\"data row1 col0\" >6.583333</td>\n",
       "                        <td id=\"T_f76a5_row1_col1\" class=\"data row1 col1\" >122430724.830601</td>\n",
       "                        <td id=\"T_f76a5_row1_col2\" class=\"data row1 col2\" >99321489.083333</td>\n",
       "                        <td id=\"T_f76a5_row1_col3\" class=\"data row1 col3\" >3.250000</td>\n",
       "                        <td id=\"T_f76a5_row1_col4\" class=\"data row1 col4\" >3.480000</td>\n",
       "            </tr>\n",
       "            <tr>\n",
       "                        <th id=\"T_f76a5_level0_row2\" class=\"row_heading level0 row2\" >военный</th>\n",
       "                        <td id=\"T_f76a5_row2_col0\" class=\"data row2 col0\" >6.466667</td>\n",
       "                        <td id=\"T_f76a5_row2_col1\" class=\"data row2 col1\" >142878536.111111</td>\n",
       "                        <td id=\"T_f76a5_row2_col2\" class=\"data row2 col2\" >113074496.866667</td>\n",
       "                        <td id=\"T_f76a5_row2_col3\" class=\"data row2 col3\" >3.700000</td>\n",
       "                        <td id=\"T_f76a5_row2_col4\" class=\"data row2 col4\" >4.060000</td>\n",
       "            </tr>\n",
       "            <tr>\n",
       "                        <th id=\"T_f76a5_level0_row3\" class=\"row_heading level0 row3\" >детектив</th>\n",
       "                        <td id=\"T_f76a5_row3_col0\" class=\"data row3 col0\" >6.760000</td>\n",
       "                        <td id=\"T_f76a5_row3_col1\" class=\"data row3 col1\" >239644459.400000</td>\n",
       "                        <td id=\"T_f76a5_row3_col2\" class=\"data row3 col2\" >27709502.280000</td>\n",
       "                        <td id=\"T_f76a5_row3_col3\" class=\"data row3 col3\" >0.910000</td>\n",
       "                        <td id=\"T_f76a5_row3_col4\" class=\"data row3 col4\" >6.800000</td>\n",
       "            </tr>\n",
       "            <tr>\n",
       "                        <th id=\"T_f76a5_level0_row4\" class=\"row_heading level0 row4\" >детский</th>\n",
       "                        <td id=\"T_f76a5_row4_col0\" class=\"data row4 col0\" >7.100000</td>\n",
       "                        <td id=\"T_f76a5_row4_col1\" class=\"data row4 col1\" >46432668.000000</td>\n",
       "                        <td id=\"T_f76a5_row4_col2\" class=\"data row4 col2\" >1004550.666667</td>\n",
       "                        <td id=\"T_f76a5_row4_col3\" class=\"data row4 col3\" >0.030000</td>\n",
       "                        <td id=\"T_f76a5_row4_col4\" class=\"data row4 col4\" >1.320000</td>\n",
       "            </tr>\n",
       "            <tr>\n",
       "                        <th id=\"T_f76a5_level0_row5\" class=\"row_heading level0 row5\" >драма</th>\n",
       "                        <td id=\"T_f76a5_row5_col0\" class=\"data row5 col0\" >6.468966</td>\n",
       "                        <td id=\"T_f76a5_row5_col1\" class=\"data row5 col1\" >125032222.513473</td>\n",
       "                        <td id=\"T_f76a5_row5_col2\" class=\"data row5 col2\" >109090162.080920</td>\n",
       "                        <td id=\"T_f76a5_row5_col3\" class=\"data row5 col3\" >3.570000</td>\n",
       "                        <td id=\"T_f76a5_row5_col4\" class=\"data row5 col4\" >3.550000</td>\n",
       "            </tr>\n",
       "            <tr>\n",
       "                        <th id=\"T_f76a5_level0_row6\" class=\"row_heading level0 row6\" >история</th>\n",
       "                        <td id=\"T_f76a5_row6_col0\" class=\"data row6 col0\" >5.350000</td>\n",
       "                        <td id=\"T_f76a5_row6_col1\" class=\"data row6 col1\" >536265551.500000</td>\n",
       "                        <td id=\"T_f76a5_row6_col2\" class=\"data row6 col2\" >363867058.642500</td>\n",
       "                        <td id=\"T_f76a5_row6_col3\" class=\"data row6 col3\" >11.910000</td>\n",
       "                        <td id=\"T_f76a5_row6_col4\" class=\"data row6 col4\" >15.220000</td>\n",
       "            </tr>\n",
       "            <tr>\n",
       "                        <th id=\"T_f76a5_level0_row7\" class=\"row_heading level0 row7\" >комедия</th>\n",
       "                        <td id=\"T_f76a5_row7_col0\" class=\"data row7 col0\" >5.528767</td>\n",
       "                        <td id=\"T_f76a5_row7_col1\" class=\"data row7 col1\" >84255962.734786</td>\n",
       "                        <td id=\"T_f76a5_row7_col2\" class=\"data row7 col2\" >170958595.264795</td>\n",
       "                        <td id=\"T_f76a5_row7_col3\" class=\"data row7 col3\" >5.600000</td>\n",
       "                        <td id=\"T_f76a5_row7_col4\" class=\"data row7 col4\" >2.390000</td>\n",
       "            </tr>\n",
       "            <tr>\n",
       "                        <th id=\"T_f76a5_level0_row8\" class=\"row_heading level0 row8\" >криминал</th>\n",
       "                        <td id=\"T_f76a5_row8_col0\" class=\"data row8 col0\" >7.500000</td>\n",
       "                        <td id=\"T_f76a5_row8_col1\" class=\"data row8 col1\" >142198260.333333</td>\n",
       "                        <td id=\"T_f76a5_row8_col2\" class=\"data row8 col2\" >79931287.666667</td>\n",
       "                        <td id=\"T_f76a5_row8_col3\" class=\"data row8 col3\" >2.620000</td>\n",
       "                        <td id=\"T_f76a5_row8_col4\" class=\"data row8 col4\" >4.040000</td>\n",
       "            </tr>\n",
       "            <tr>\n",
       "                        <th id=\"T_f76a5_level0_row9\" class=\"row_heading level0 row9\" >мелодрама</th>\n",
       "                        <td id=\"T_f76a5_row9_col0\" class=\"data row9 col0\" >6.007143</td>\n",
       "                        <td id=\"T_f76a5_row9_col1\" class=\"data row9 col1\" >63907875.145199</td>\n",
       "                        <td id=\"T_f76a5_row9_col2\" class=\"data row9 col2\" >3913497.587857</td>\n",
       "                        <td id=\"T_f76a5_row9_col3\" class=\"data row9 col3\" >0.130000</td>\n",
       "                        <td id=\"T_f76a5_row9_col4\" class=\"data row9 col4\" >1.810000</td>\n",
       "            </tr>\n",
       "            <tr>\n",
       "                        <th id=\"T_f76a5_level0_row10\" class=\"row_heading level0 row10\" >мультфильм</th>\n",
       "                        <td id=\"T_f76a5_row10_col0\" class=\"data row10 col0\" >5.760000</td>\n",
       "                        <td id=\"T_f76a5_row10_col1\" class=\"data row10 col1\" >204521528.200546</td>\n",
       "                        <td id=\"T_f76a5_row10_col2\" class=\"data row10 col2\" >187400471.155333</td>\n",
       "                        <td id=\"T_f76a5_row10_col3\" class=\"data row10 col3\" >6.140000</td>\n",
       "                        <td id=\"T_f76a5_row10_col4\" class=\"data row10 col4\" >5.810000</td>\n",
       "            </tr>\n",
       "            <tr>\n",
       "                        <th id=\"T_f76a5_level0_row11\" class=\"row_heading level0 row11\" >мюзикл</th>\n",
       "                        <td id=\"T_f76a5_row11_col0\" class=\"data row11 col0\" >6.550000</td>\n",
       "                        <td id=\"T_f76a5_row11_col1\" class=\"data row11 col1\" >141049368.000000</td>\n",
       "                        <td id=\"T_f76a5_row11_col2\" class=\"data row11 col2\" >25426251.245000</td>\n",
       "                        <td id=\"T_f76a5_row11_col3\" class=\"data row11 col3\" >0.830000</td>\n",
       "                        <td id=\"T_f76a5_row11_col4\" class=\"data row11 col4\" >4.000000</td>\n",
       "            </tr>\n",
       "            <tr>\n",
       "                        <th id=\"T_f76a5_level0_row12\" class=\"row_heading level0 row12\" >приключения</th>\n",
       "                        <td id=\"T_f76a5_row12_col0\" class=\"data row12 col0\" >5.750000</td>\n",
       "                        <td id=\"T_f76a5_row12_col1\" class=\"data row12 col1\" >552811031.500000</td>\n",
       "                        <td id=\"T_f76a5_row12_col2\" class=\"data row12 col2\" >200932829.436667</td>\n",
       "                        <td id=\"T_f76a5_row12_col3\" class=\"data row12 col3\" >6.580000</td>\n",
       "                        <td id=\"T_f76a5_row12_col4\" class=\"data row12 col4\" >15.690000</td>\n",
       "            </tr>\n",
       "            <tr>\n",
       "                        <th id=\"T_f76a5_level0_row13\" class=\"row_heading level0 row13\" >реальное ТВ</th>\n",
       "                        <td id=\"T_f76a5_row13_col0\" class=\"data row13 col0\" >5.600000</td>\n",
       "                        <td id=\"T_f76a5_row13_col1\" class=\"data row13 col1\" >80000000.000000</td>\n",
       "                        <td id=\"T_f76a5_row13_col2\" class=\"data row13 col2\" >32721103.430000</td>\n",
       "                        <td id=\"T_f76a5_row13_col3\" class=\"data row13 col3\" >1.070000</td>\n",
       "                        <td id=\"T_f76a5_row13_col4\" class=\"data row13 col4\" >2.270000</td>\n",
       "            </tr>\n",
       "            <tr>\n",
       "                        <th id=\"T_f76a5_level0_row14\" class=\"row_heading level0 row14\" >семейный</th>\n",
       "                        <td id=\"T_f76a5_row14_col0\" class=\"data row14 col0\" >4.983333</td>\n",
       "                        <td id=\"T_f76a5_row14_col1\" class=\"data row14 col1\" >100633297.833333</td>\n",
       "                        <td id=\"T_f76a5_row14_col2\" class=\"data row14 col2\" >97404124.941667</td>\n",
       "                        <td id=\"T_f76a5_row14_col3\" class=\"data row14 col3\" >3.190000</td>\n",
       "                        <td id=\"T_f76a5_row14_col4\" class=\"data row14 col4\" >2.860000</td>\n",
       "            </tr>\n",
       "            <tr>\n",
       "                        <th id=\"T_f76a5_level0_row15\" class=\"row_heading level0 row15\" >спорт</th>\n",
       "                        <td id=\"T_f76a5_row15_col0\" class=\"data row15 col0\" >6.933333</td>\n",
       "                        <td id=\"T_f76a5_row15_col1\" class=\"data row15 col1\" >236822988.333333</td>\n",
       "                        <td id=\"T_f76a5_row15_col2\" class=\"data row15 col2\" >989256129.146667</td>\n",
       "                        <td id=\"T_f76a5_row15_col3\" class=\"data row15 col3\" >32.390000</td>\n",
       "                        <td id=\"T_f76a5_row15_col4\" class=\"data row15 col4\" >6.720000</td>\n",
       "            </tr>\n",
       "            <tr>\n",
       "                        <th id=\"T_f76a5_level0_row16\" class=\"row_heading level0 row16\" >триллер</th>\n",
       "                        <td id=\"T_f76a5_row16_col0\" class=\"data row16 col0\" >5.706667</td>\n",
       "                        <td id=\"T_f76a5_row16_col1\" class=\"data row16 col1\" >92621439.715847</td>\n",
       "                        <td id=\"T_f76a5_row16_col2\" class=\"data row16 col2\" >46696679.342667</td>\n",
       "                        <td id=\"T_f76a5_row16_col3\" class=\"data row16 col3\" >1.530000</td>\n",
       "                        <td id=\"T_f76a5_row16_col4\" class=\"data row16 col4\" >2.630000</td>\n",
       "            </tr>\n",
       "            <tr>\n",
       "                        <th id=\"T_f76a5_level0_row17\" class=\"row_heading level0 row17\" >ужасы</th>\n",
       "                        <td id=\"T_f76a5_row17_col0\" class=\"data row17 col0\" >5.200000</td>\n",
       "                        <td id=\"T_f76a5_row17_col1\" class=\"data row17 col1\" >56387762.500000</td>\n",
       "                        <td id=\"T_f76a5_row17_col2\" class=\"data row17 col2\" >71012318.935000</td>\n",
       "                        <td id=\"T_f76a5_row17_col3\" class=\"data row17 col3\" >2.320000</td>\n",
       "                        <td id=\"T_f76a5_row17_col4\" class=\"data row17 col4\" >1.600000</td>\n",
       "            </tr>\n",
       "            <tr>\n",
       "                        <th id=\"T_f76a5_level0_row18\" class=\"row_heading level0 row18\" >фантастика</th>\n",
       "                        <td id=\"T_f76a5_row18_col0\" class=\"data row18 col0\" >6.190000</td>\n",
       "                        <td id=\"T_f76a5_row18_col1\" class=\"data row18 col1\" >165893688.057377</td>\n",
       "                        <td id=\"T_f76a5_row18_col2\" class=\"data row18 col2\" >171820427.939000</td>\n",
       "                        <td id=\"T_f76a5_row18_col3\" class=\"data row18 col3\" >5.630000</td>\n",
       "                        <td id=\"T_f76a5_row18_col4\" class=\"data row18 col4\" >4.710000</td>\n",
       "            </tr>\n",
       "            <tr>\n",
       "                        <th id=\"T_f76a5_level0_row19\" class=\"row_heading level0 row19\" >фэнтези</th>\n",
       "                        <td id=\"T_f76a5_row19_col0\" class=\"data row19 col0\" >6.090909</td>\n",
       "                        <td id=\"T_f76a5_row19_col1\" class=\"data row19 col1\" >212738524.090909</td>\n",
       "                        <td id=\"T_f76a5_row19_col2\" class=\"data row19 col2\" >90530600.724545</td>\n",
       "                        <td id=\"T_f76a5_row19_col3\" class=\"data row19 col3\" >2.960000</td>\n",
       "                        <td id=\"T_f76a5_row19_col4\" class=\"data row19 col4\" >6.040000</td>\n",
       "            </tr>\n",
       "    </tbody></table>"
      ],
      "text/plain": [
       "<pandas.io.formats.style.Styler at 0x7f81d8d88cd0>"
      ]
     },
     "execution_count": 97,
     "metadata": {},
     "output_type": "execute_result"
    }
   ],
   "source": [
    "def highlight_cells(x, alpha=1.0):\n",
    "    df_color = pd.DataFrame('', index=x.index, columns=x.columns)\n",
    "    df_color.loc[x['Сборы процент'] < x['Бюджет процент'], ['Сборы процент', 'Бюджет процент', 'Сборы', 'Бюджет']] = f'background-color: rgba(244, 164, 96, {alpha})'\n",
    "    df_color.loc[x['Сборы процент'] > x['Бюджет процент'], ['Сборы процент', 'Бюджет процент', 'Сборы', 'Бюджет']] = f'background-color: rgba(143, 188, 143, {alpha})'\n",
    "    df_color.loc[(x['Рейтинг'] < 5) & (x['Рейтинг'] > 0), ['Рейтинг']] = f'background-color: rgba(244, 164, 96, {alpha})'\n",
    "    df_color.loc[x['Рейтинг'] >= 5 , ['Рейтинг']] = f'background-color: rgba(255, 222, 173, {alpha})'\n",
    "    df_color.loc[x['Рейтинг'] >= 7.5 , ['Рейтинг']] = f'background-color: rgba(143, 188, 143, {alpha})'\n",
    "    return df_color \n",
    "\n",
    "data_budget_box_office_pivot.style.apply(highlight_cells, alpha=0.5, axis=None)"
   ]
  },
  {
   "cell_type": "markdown",
   "metadata": {},
   "source": [
    "Похоже, что хорошо идут фильмы про:\n",
    "\n",
    "* спорт — из всех полученных сборов 31.37% пришлось именно на эту категорию, это при том, что из всех выделяемых средств на фильмы о спорте было выделено всего 6.58% от общего бюджета;\n",
    "* мультфильмы — разница между выделенной долей бюджета и сборами не очень велика, 5.68% против 5.94%, но она есть;\n",
    "* биографические фильмы — тут также есть прибыль, получено 5.46%, а выделено от общего бюджета 4.90%;\n",
    "* комедии — сборы 5.42% от общей суммы, а затрачено всего 2.34% от общего бюджета;\n",
    "* семейные — сборы 3.09% от общей суммы, а затрачено 2.80% от общего бюджета;\n",
    "* ужасы сборы 2.25% от общей суммы сборов, а затрачено из общего бюджета 1.57%;\n",
    "* фантастика — сборы 5.45% от общей суммы сборов, а затрачено из общего бюджета 4.61%.\n",
    "\n",
    "Остальные жанры получили довольно скромные доходы, которые не покрыли даже расходы на бюджет.\n",
    "\n",
    "Отдельно отмечу, что фильмы про спорт это однозначный успех, сборы у таких фильмов в несколько раз больше затраченного бюджета."
   ]
  },
  {
   "cell_type": "markdown",
   "metadata": {},
   "source": [
    "Соберем данные по рейтингу среди остальных фильмов, которые не спонсировались Министерством культуры и Фондом кино."
   ]
  },
  {
   "cell_type": "code",
   "execution_count": 98,
   "metadata": {},
   "outputs": [
    {
     "data": {
      "text/html": [
       "<style  type=\"text/css\" >\n",
       "#T_e0f92_row0_col0,#T_e0f92_row2_col0,#T_e0f92_row5_col0,#T_e0f92_row6_col0,#T_e0f92_row7_col0,#T_e0f92_row9_col0,#T_e0f92_row10_col0,#T_e0f92_row11_col0,#T_e0f92_row12_col0,#T_e0f92_row14_col0,#T_e0f92_row15_col0,#T_e0f92_row16_col0,#T_e0f92_row17_col0,#T_e0f92_row18_col0,#T_e0f92_row19_col0{\n",
       "            background-color:  rgba(244, 164, 96, 0.5);\n",
       "        }#T_e0f92_row1_col1,#T_e0f92_row3_col1,#T_e0f92_row4_col1,#T_e0f92_row8_col1{\n",
       "            background-color:  rgba(143, 188, 143, 0.5);\n",
       "        }</style><table id=\"T_e0f92_\" ><thead>    <tr>        <th class=\"blank level0\" ></th>        <th class=\"col_heading level0 col0\" >Рейтинг фильмов без господдержки</th>        <th class=\"col_heading level0 col1\" >Рейтинг фильмов с господдержкой</th>    </tr>    <tr>        <th class=\"index_name level0\" >main_genres</th>        <th class=\"blank\" ></th>        <th class=\"blank\" ></th>    </tr></thead><tbody>\n",
       "                <tr>\n",
       "                        <th id=\"T_e0f92_level0_row0\" class=\"row_heading level0 row0\" >биография</th>\n",
       "                        <td id=\"T_e0f92_row0_col0\" class=\"data row0 col0\" >7.023333</td>\n",
       "                        <td id=\"T_e0f92_row0_col1\" class=\"data row0 col1\" >6.900000</td>\n",
       "            </tr>\n",
       "            <tr>\n",
       "                        <th id=\"T_e0f92_level0_row1\" class=\"row_heading level0 row1\" >боевик</th>\n",
       "                        <td id=\"T_e0f92_row1_col0\" class=\"data row1 col0\" >6.508183</td>\n",
       "                        <td id=\"T_e0f92_row1_col1\" class=\"data row1 col1\" >6.583333</td>\n",
       "            </tr>\n",
       "            <tr>\n",
       "                        <th id=\"T_e0f92_level0_row2\" class=\"row_heading level0 row2\" >военный</th>\n",
       "                        <td id=\"T_e0f92_row2_col0\" class=\"data row2 col0\" >6.789189</td>\n",
       "                        <td id=\"T_e0f92_row2_col1\" class=\"data row2 col1\" >6.466667</td>\n",
       "            </tr>\n",
       "            <tr>\n",
       "                        <th id=\"T_e0f92_level0_row3\" class=\"row_heading level0 row3\" >детектив</th>\n",
       "                        <td id=\"T_e0f92_row3_col0\" class=\"data row3 col0\" >6.635294</td>\n",
       "                        <td id=\"T_e0f92_row3_col1\" class=\"data row3 col1\" >6.760000</td>\n",
       "            </tr>\n",
       "            <tr>\n",
       "                        <th id=\"T_e0f92_level0_row4\" class=\"row_heading level0 row4\" >детский</th>\n",
       "                        <td id=\"T_e0f92_row4_col0\" class=\"data row4 col0\" >5.945833</td>\n",
       "                        <td id=\"T_e0f92_row4_col1\" class=\"data row4 col1\" >7.100000</td>\n",
       "            </tr>\n",
       "            <tr>\n",
       "                        <th id=\"T_e0f92_level0_row5\" class=\"row_heading level0 row5\" >драма</th>\n",
       "                        <td id=\"T_e0f92_row5_col0\" class=\"data row5 col0\" >6.787524</td>\n",
       "                        <td id=\"T_e0f92_row5_col1\" class=\"data row5 col1\" >6.468966</td>\n",
       "            </tr>\n",
       "            <tr>\n",
       "                        <th id=\"T_e0f92_level0_row6\" class=\"row_heading level0 row6\" >история</th>\n",
       "                        <td id=\"T_e0f92_row6_col0\" class=\"data row6 col0\" >6.631818</td>\n",
       "                        <td id=\"T_e0f92_row6_col1\" class=\"data row6 col1\" >5.350000</td>\n",
       "            </tr>\n",
       "            <tr>\n",
       "                        <th id=\"T_e0f92_level0_row7\" class=\"row_heading level0 row7\" >комедия</th>\n",
       "                        <td id=\"T_e0f92_row7_col0\" class=\"data row7 col0\" >6.038042</td>\n",
       "                        <td id=\"T_e0f92_row7_col1\" class=\"data row7 col1\" >5.528767</td>\n",
       "            </tr>\n",
       "            <tr>\n",
       "                        <th id=\"T_e0f92_level0_row8\" class=\"row_heading level0 row8\" >криминал</th>\n",
       "                        <td id=\"T_e0f92_row8_col0\" class=\"data row8 col0\" >6.630556</td>\n",
       "                        <td id=\"T_e0f92_row8_col1\" class=\"data row8 col1\" >7.500000</td>\n",
       "            </tr>\n",
       "            <tr>\n",
       "                        <th id=\"T_e0f92_level0_row9\" class=\"row_heading level0 row9\" >мелодрама</th>\n",
       "                        <td id=\"T_e0f92_row9_col0\" class=\"data row9 col0\" >6.546196</td>\n",
       "                        <td id=\"T_e0f92_row9_col1\" class=\"data row9 col1\" >6.007143</td>\n",
       "            </tr>\n",
       "            <tr>\n",
       "                        <th id=\"T_e0f92_level0_row10\" class=\"row_heading level0 row10\" >мультфильм</th>\n",
       "                        <td id=\"T_e0f92_row10_col0\" class=\"data row10 col0\" >6.300789</td>\n",
       "                        <td id=\"T_e0f92_row10_col1\" class=\"data row10 col1\" >5.760000</td>\n",
       "            </tr>\n",
       "            <tr>\n",
       "                        <th id=\"T_e0f92_level0_row11\" class=\"row_heading level0 row11\" >мюзикл</th>\n",
       "                        <td id=\"T_e0f92_row11_col0\" class=\"data row11 col0\" >6.928333</td>\n",
       "                        <td id=\"T_e0f92_row11_col1\" class=\"data row11 col1\" >6.550000</td>\n",
       "            </tr>\n",
       "            <tr>\n",
       "                        <th id=\"T_e0f92_level0_row12\" class=\"row_heading level0 row12\" >приключения</th>\n",
       "                        <td id=\"T_e0f92_row12_col0\" class=\"data row12 col0\" >6.475000</td>\n",
       "                        <td id=\"T_e0f92_row12_col1\" class=\"data row12 col1\" >5.750000</td>\n",
       "            </tr>\n",
       "            <tr>\n",
       "                        <th id=\"T_e0f92_level0_row13\" class=\"row_heading level0 row13\" >реальное ТВ</th>\n",
       "                        <td id=\"T_e0f92_row13_col0\" class=\"data row13 col0\" >nan</td>\n",
       "                        <td id=\"T_e0f92_row13_col1\" class=\"data row13 col1\" >5.600000</td>\n",
       "            </tr>\n",
       "            <tr>\n",
       "                        <th id=\"T_e0f92_level0_row14\" class=\"row_heading level0 row14\" >семейный</th>\n",
       "                        <td id=\"T_e0f92_row14_col0\" class=\"data row14 col0\" >6.100000</td>\n",
       "                        <td id=\"T_e0f92_row14_col1\" class=\"data row14 col1\" >4.983333</td>\n",
       "            </tr>\n",
       "            <tr>\n",
       "                        <th id=\"T_e0f92_level0_row15\" class=\"row_heading level0 row15\" >спорт</th>\n",
       "                        <td id=\"T_e0f92_row15_col0\" class=\"data row15 col0\" >7.250000</td>\n",
       "                        <td id=\"T_e0f92_row15_col1\" class=\"data row15 col1\" >6.933333</td>\n",
       "            </tr>\n",
       "            <tr>\n",
       "                        <th id=\"T_e0f92_level0_row16\" class=\"row_heading level0 row16\" >триллер</th>\n",
       "                        <td id=\"T_e0f92_row16_col0\" class=\"data row16 col0\" >6.615810</td>\n",
       "                        <td id=\"T_e0f92_row16_col1\" class=\"data row16 col1\" >5.706667</td>\n",
       "            </tr>\n",
       "            <tr>\n",
       "                        <th id=\"T_e0f92_level0_row17\" class=\"row_heading level0 row17\" >ужасы</th>\n",
       "                        <td id=\"T_e0f92_row17_col0\" class=\"data row17 col0\" >5.666785</td>\n",
       "                        <td id=\"T_e0f92_row17_col1\" class=\"data row17 col1\" >5.200000</td>\n",
       "            </tr>\n",
       "            <tr>\n",
       "                        <th id=\"T_e0f92_level0_row18\" class=\"row_heading level0 row18\" >фантастика</th>\n",
       "                        <td id=\"T_e0f92_row18_col0\" class=\"data row18 col0\" >6.656892</td>\n",
       "                        <td id=\"T_e0f92_row18_col1\" class=\"data row18 col1\" >6.190000</td>\n",
       "            </tr>\n",
       "            <tr>\n",
       "                        <th id=\"T_e0f92_level0_row19\" class=\"row_heading level0 row19\" >фэнтези</th>\n",
       "                        <td id=\"T_e0f92_row19_col0\" class=\"data row19 col0\" >6.606052</td>\n",
       "                        <td id=\"T_e0f92_row19_col1\" class=\"data row19 col1\" >6.090909</td>\n",
       "            </tr>\n",
       "    </tbody></table>"
      ],
      "text/plain": [
       "<pandas.io.formats.style.Styler at 0x7f81d8d094f0>"
      ]
     },
     "execution_count": 98,
     "metadata": {},
     "output_type": "execute_result"
    }
   ],
   "source": [
    "data_raitings_without_gs_pivot = (data.query('financing_source not in @list_sponsor')\n",
    "                    .pivot_table(index='main_genres', values=['ratings'], aggfunc= 'mean')\n",
    "                    .sort_values(by='main_genres', ascending = True))\n",
    "data_raitings_without_gs_pivot = data_raitings_without_gs_pivot.set_axis(['Рейтинг фильмов без господдержки'], axis='columns')\n",
    "\n",
    "data_raitings_gs_pivot = (data.query('budget != 0 and box_office != 0 and financing_source in @list_sponsor and ratings != 0')\n",
    "                    .pivot_table(index='main_genres', values=['ratings'], aggfunc= 'mean')\n",
    "                    .sort_values(by='main_genres', ascending = True))\n",
    "data_raitings_gs_pivot = data_raitings_gs_pivot.set_axis(['Рейтинг фильмов с господдержкой'], axis='columns')\n",
    "\n",
    "data_raitings_merge = data_raitings_without_gs_pivot.merge(data_raitings_gs_pivot, on='main_genres', how='right')\n",
    "\n",
    "\n",
    "def highlight_cells(x, alpha=1.0):\n",
    "    df_color = pd.DataFrame('', index=x.index, columns=x.columns)\n",
    "    df_color.loc[x['Рейтинг фильмов без господдержки'] > x['Рейтинг фильмов с господдержкой'], ['Рейтинг фильмов без господдержки']] = f'background-color: rgba(244, 164, 96, {alpha})'\n",
    "    df_color.loc[x['Рейтинг фильмов с господдержкой'] > x['Рейтинг фильмов без господдержки'], ['Рейтинг фильмов с господдержкой']] = f'background-color: rgba(143, 188, 143, {alpha})'\n",
    "    return df_color\n",
    "\n",
    "data_raitings_merge.style.apply(highlight_cells, alpha=0.5, axis=None)"
   ]
  },
  {
   "cell_type": "code",
   "execution_count": 99,
   "metadata": {},
   "outputs": [
    {
     "data": {
      "image/png": "[encoded data removed]",
      "text/plain": [
       "<Figure size 1080x576 with 1 Axes>"
      ]
     },
     "metadata": {
      "needs_background": "light"
     },
     "output_type": "display_data"
    }
   ],
   "source": [
    "data_raitings_merge.plot(kind='bar', color=['DarkSeaGreen', 'SandyBrown'], figsize=(15, 8), grid=True, legend=True, alpha=0.7)\n",
    "plt.ylabel('Рейтинг')\n",
    "plt.suptitle('Диаграмма рейтинга фильмов с влиянием господдержки')\n",
    "plt.show()"
   ]
  },
  {
   "cell_type": "markdown",
   "metadata": {},
   "source": [
    "Посмотрев на данные фильмов, которые снимались при государственной поддержке, можно выделить только несколько жанров, в которых медианный рейтинг выше чем у фильмов, которые снимались на частные деньги в России или у зарубежных фильмов, это:\n",
    "\n",
    "* боевики — 6.58 против 6.50;\n",
    "* детективы — 6.76 против 6.63;\n",
    "* детские — 7.10 против 5.94;\n",
    "* криминал — 7.50 против 6.63.\n",
    "\n",
    "По соотношению количества жанров с преобладающим рейтингом все не очень хорошо, высоких рейтингов всего 4 из 19 возможных."
   ]
  },
  {
   "cell_type": "markdown",
   "metadata": {},
   "source": [
    "Так как исследование проводится по фильмам, которые спонсирует Министерство культуры и Фонд кино России, следует посмотреть на данные фильмов, которые произведены в России и которые не получали поддержку государства, а затем сравнить эти данные с данными о фильмах с государственным спонсированием."
   ]
  },
  {
   "cell_type": "code",
   "execution_count": 100,
   "metadata": {},
   "outputs": [
    {
     "data": {
      "text/html": [
       "<style  type=\"text/css\" >\n",
       "#T_45685_row0_col0,#T_45685_row3_col2,#T_45685_row5_col0,#T_45685_row6_col0,#T_45685_row7_col0,#T_45685_row11_col0,#T_45685_row14_col0,#T_45685_row15_col0,#T_45685_row16_col0,#T_45685_row17_col0,#T_45685_row18_col0{\n",
       "            background-color:  rgba(244, 164, 96, 0.5);\n",
       "        }#T_45685_row0_col3,#T_45685_row1_col1,#T_45685_row1_col3,#T_45685_row2_col1,#T_45685_row2_col3,#T_45685_row3_col1,#T_45685_row4_col1,#T_45685_row4_col3,#T_45685_row5_col3,#T_45685_row6_col3,#T_45685_row7_col3,#T_45685_row8_col1,#T_45685_row8_col3,#T_45685_row9_col1,#T_45685_row9_col3,#T_45685_row10_col1,#T_45685_row10_col3,#T_45685_row11_col3,#T_45685_row12_col1,#T_45685_row12_col3,#T_45685_row14_col3,#T_45685_row15_col3,#T_45685_row16_col3,#T_45685_row17_col3,#T_45685_row18_col3,#T_45685_row19_col1,#T_45685_row19_col3{\n",
       "            background-color:  rgba(143, 188, 143, 0.5);\n",
       "        }</style><table id=\"T_45685_\" ><thead>    <tr>        <th class=\"blank level0\" ></th>        <th class=\"col_heading level0 col0\" >Рейтинг фильмов без спонсирования. Россия</th>        <th class=\"col_heading level0 col1\" >Рейтинг фильмов со спонсированием. Россия</th>        <th class=\"col_heading level0 col2\" >Средние сборы без спонсирования. Россия</th>        <th class=\"col_heading level0 col3\" >Средние сборы со спонсированием. Россия</th>    </tr>    <tr>        <th class=\"index_name level0\" >main_genres</th>        <th class=\"blank\" ></th>        <th class=\"blank\" ></th>        <th class=\"blank\" ></th>        <th class=\"blank\" ></th>    </tr></thead><tbody>\n",
       "                <tr>\n",
       "                        <th id=\"T_45685_level0_row0\" class=\"row_heading level0 row0\" >биография</th>\n",
       "                        <td id=\"T_45685_row0_col0\" class=\"data row0 col0\" >6.811111</td>\n",
       "                        <td id=\"T_45685_row0_col1\" class=\"data row0 col1\" >6.600000</td>\n",
       "                        <td id=\"T_45685_row0_col2\" class=\"data row0 col2\" >10056933.201111</td>\n",
       "                        <td id=\"T_45685_row0_col3\" class=\"data row0 col3\" >57539287.870000</td>\n",
       "            </tr>\n",
       "            <tr>\n",
       "                        <th id=\"T_45685_level0_row1\" class=\"row_heading level0 row1\" >боевик</th>\n",
       "                        <td id=\"T_45685_row1_col0\" class=\"data row1 col0\" >6.278947</td>\n",
       "                        <td id=\"T_45685_row1_col1\" class=\"data row1 col1\" >6.440000</td>\n",
       "                        <td id=\"T_45685_row1_col2\" class=\"data row1 col2\" >6679187.410526</td>\n",
       "                        <td id=\"T_45685_row1_col3\" class=\"data row1 col3\" >57655658.052000</td>\n",
       "            </tr>\n",
       "            <tr>\n",
       "                        <th id=\"T_45685_level0_row2\" class=\"row_heading level0 row2\" >военный</th>\n",
       "                        <td id=\"T_45685_row2_col0\" class=\"data row2 col0\" >6.284615</td>\n",
       "                        <td id=\"T_45685_row2_col1\" class=\"data row2 col1\" >6.425000</td>\n",
       "                        <td id=\"T_45685_row2_col2\" class=\"data row2 col2\" >22135996.551538</td>\n",
       "                        <td id=\"T_45685_row2_col3\" class=\"data row2 col3\" >120745685.725000</td>\n",
       "            </tr>\n",
       "            <tr>\n",
       "                        <th id=\"T_45685_level0_row3\" class=\"row_heading level0 row3\" >детектив</th>\n",
       "                        <td id=\"T_45685_row3_col0\" class=\"data row3 col0\" >6.323529</td>\n",
       "                        <td id=\"T_45685_row3_col1\" class=\"data row3 col1\" >6.760000</td>\n",
       "                        <td id=\"T_45685_row3_col2\" class=\"data row3 col2\" >53164252.274706</td>\n",
       "                        <td id=\"T_45685_row3_col3\" class=\"data row3 col3\" >27709502.280000</td>\n",
       "            </tr>\n",
       "            <tr>\n",
       "                        <th id=\"T_45685_level0_row4\" class=\"row_heading level0 row4\" >детский</th>\n",
       "                        <td id=\"T_45685_row4_col0\" class=\"data row4 col0\" >5.921739</td>\n",
       "                        <td id=\"T_45685_row4_col1\" class=\"data row4 col1\" >7.100000</td>\n",
       "                        <td id=\"T_45685_row4_col2\" class=\"data row4 col2\" >57608.304348</td>\n",
       "                        <td id=\"T_45685_row4_col3\" class=\"data row4 col3\" >1004550.666667</td>\n",
       "            </tr>\n",
       "            <tr>\n",
       "                        <th id=\"T_45685_level0_row5\" class=\"row_heading level0 row5\" >драма</th>\n",
       "                        <td id=\"T_45685_row5_col0\" class=\"data row5 col0\" >6.551613</td>\n",
       "                        <td id=\"T_45685_row5_col1\" class=\"data row5 col1\" >6.477500</td>\n",
       "                        <td id=\"T_45685_row5_col2\" class=\"data row5 col2\" >2393919.577312</td>\n",
       "                        <td id=\"T_45685_row5_col3\" class=\"data row5 col3\" >117514032.109500</td>\n",
       "            </tr>\n",
       "            <tr>\n",
       "                        <th id=\"T_45685_level0_row6\" class=\"row_heading level0 row6\" >история</th>\n",
       "                        <td id=\"T_45685_row6_col0\" class=\"data row6 col0\" >5.890000</td>\n",
       "                        <td id=\"T_45685_row6_col1\" class=\"data row6 col1\" >5.350000</td>\n",
       "                        <td id=\"T_45685_row6_col2\" class=\"data row6 col2\" >12497392.999000</td>\n",
       "                        <td id=\"T_45685_row6_col3\" class=\"data row6 col3\" >363867058.642500</td>\n",
       "            </tr>\n",
       "            <tr>\n",
       "                        <th id=\"T_45685_level0_row7\" class=\"row_heading level0 row7\" >комедия</th>\n",
       "                        <td id=\"T_45685_row7_col0\" class=\"data row7 col0\" >5.593143</td>\n",
       "                        <td id=\"T_45685_row7_col1\" class=\"data row7 col1\" >5.545833</td>\n",
       "                        <td id=\"T_45685_row7_col2\" class=\"data row7 col2\" >35499778.839886</td>\n",
       "                        <td id=\"T_45685_row7_col3\" class=\"data row7 col3\" >173322743.282361</td>\n",
       "            </tr>\n",
       "            <tr>\n",
       "                        <th id=\"T_45685_level0_row8\" class=\"row_heading level0 row8\" >криминал</th>\n",
       "                        <td id=\"T_45685_row8_col0\" class=\"data row8 col0\" >6.483333</td>\n",
       "                        <td id=\"T_45685_row8_col1\" class=\"data row8 col1\" >7.500000</td>\n",
       "                        <td id=\"T_45685_row8_col2\" class=\"data row8 col2\" >6073711.010000</td>\n",
       "                        <td id=\"T_45685_row8_col3\" class=\"data row8 col3\" >79931287.666667</td>\n",
       "            </tr>\n",
       "            <tr>\n",
       "                        <th id=\"T_45685_level0_row9\" class=\"row_heading level0 row9\" >мелодрама</th>\n",
       "                        <td id=\"T_45685_row9_col0\" class=\"data row9 col0\" >5.900000</td>\n",
       "                        <td id=\"T_45685_row9_col1\" class=\"data row9 col1\" >5.992308</td>\n",
       "                        <td id=\"T_45685_row9_col2\" class=\"data row9 col2\" >261692.282609</td>\n",
       "                        <td id=\"T_45685_row9_col3\" class=\"data row9 col3\" >4026313.863846</td>\n",
       "            </tr>\n",
       "            <tr>\n",
       "                        <th id=\"T_45685_level0_row10\" class=\"row_heading level0 row10\" >мультфильм</th>\n",
       "                        <td id=\"T_45685_row10_col0\" class=\"data row10 col0\" >5.636000</td>\n",
       "                        <td id=\"T_45685_row10_col1\" class=\"data row10 col1\" >5.760000</td>\n",
       "                        <td id=\"T_45685_row10_col2\" class=\"data row10 col2\" >1771664.512800</td>\n",
       "                        <td id=\"T_45685_row10_col3\" class=\"data row10 col3\" >187400471.155333</td>\n",
       "            </tr>\n",
       "            <tr>\n",
       "                        <th id=\"T_45685_level0_row11\" class=\"row_heading level0 row11\" >мюзикл</th>\n",
       "                        <td id=\"T_45685_row11_col0\" class=\"data row11 col0\" >7.833333</td>\n",
       "                        <td id=\"T_45685_row11_col1\" class=\"data row11 col1\" >6.550000</td>\n",
       "                        <td id=\"T_45685_row11_col2\" class=\"data row11 col2\" >0.000000</td>\n",
       "                        <td id=\"T_45685_row11_col3\" class=\"data row11 col3\" >25426251.245000</td>\n",
       "            </tr>\n",
       "            <tr>\n",
       "                        <th id=\"T_45685_level0_row12\" class=\"row_heading level0 row12\" >приключения</th>\n",
       "                        <td id=\"T_45685_row12_col0\" class=\"data row12 col0\" >5.636364</td>\n",
       "                        <td id=\"T_45685_row12_col1\" class=\"data row12 col1\" >5.740000</td>\n",
       "                        <td id=\"T_45685_row12_col2\" class=\"data row12 col2\" >1324495.692727</td>\n",
       "                        <td id=\"T_45685_row12_col3\" class=\"data row12 col3\" >174399983.406000</td>\n",
       "            </tr>\n",
       "            <tr>\n",
       "                        <th id=\"T_45685_level0_row13\" class=\"row_heading level0 row13\" >реальное ТВ</th>\n",
       "                        <td id=\"T_45685_row13_col0\" class=\"data row13 col0\" >nan</td>\n",
       "                        <td id=\"T_45685_row13_col1\" class=\"data row13 col1\" >5.600000</td>\n",
       "                        <td id=\"T_45685_row13_col2\" class=\"data row13 col2\" >nan</td>\n",
       "                        <td id=\"T_45685_row13_col3\" class=\"data row13 col3\" >32721103.430000</td>\n",
       "            </tr>\n",
       "            <tr>\n",
       "                        <th id=\"T_45685_level0_row14\" class=\"row_heading level0 row14\" >семейный</th>\n",
       "                        <td id=\"T_45685_row14_col0\" class=\"data row14 col0\" >6.084615</td>\n",
       "                        <td id=\"T_45685_row14_col1\" class=\"data row14 col1\" >4.983333</td>\n",
       "                        <td id=\"T_45685_row14_col2\" class=\"data row14 col2\" >32793863.338462</td>\n",
       "                        <td id=\"T_45685_row14_col3\" class=\"data row14 col3\" >97404124.941667</td>\n",
       "            </tr>\n",
       "            <tr>\n",
       "                        <th id=\"T_45685_level0_row15\" class=\"row_heading level0 row15\" >спорт</th>\n",
       "                        <td id=\"T_45685_row15_col0\" class=\"data row15 col0\" >6.966667</td>\n",
       "                        <td id=\"T_45685_row15_col1\" class=\"data row15 col1\" >6.933333</td>\n",
       "                        <td id=\"T_45685_row15_col2\" class=\"data row15 col2\" >547086.666667</td>\n",
       "                        <td id=\"T_45685_row15_col3\" class=\"data row15 col3\" >989256129.146667</td>\n",
       "            </tr>\n",
       "            <tr>\n",
       "                        <th id=\"T_45685_level0_row16\" class=\"row_heading level0 row16\" >триллер</th>\n",
       "                        <td id=\"T_45685_row16_col0\" class=\"data row16 col0\" >6.441791</td>\n",
       "                        <td id=\"T_45685_row16_col1\" class=\"data row16 col1\" >5.671429</td>\n",
       "                        <td id=\"T_45685_row16_col2\" class=\"data row16 col2\" >5700517.819104</td>\n",
       "                        <td id=\"T_45685_row16_col3\" class=\"data row16 col3\" >50011583.617143</td>\n",
       "            </tr>\n",
       "            <tr>\n",
       "                        <th id=\"T_45685_level0_row17\" class=\"row_heading level0 row17\" >ужасы</th>\n",
       "                        <td id=\"T_45685_row17_col0\" class=\"data row17 col0\" >5.816216</td>\n",
       "                        <td id=\"T_45685_row17_col1\" class=\"data row17 col1\" >5.200000</td>\n",
       "                        <td id=\"T_45685_row17_col2\" class=\"data row17 col2\" >5537782.456757</td>\n",
       "                        <td id=\"T_45685_row17_col3\" class=\"data row17 col3\" >71012318.935000</td>\n",
       "            </tr>\n",
       "            <tr>\n",
       "                        <th id=\"T_45685_level0_row18\" class=\"row_heading level0 row18\" >фантастика</th>\n",
       "                        <td id=\"T_45685_row18_col0\" class=\"data row18 col0\" >6.451351</td>\n",
       "                        <td id=\"T_45685_row18_col1\" class=\"data row18 col1\" >6.190000</td>\n",
       "                        <td id=\"T_45685_row18_col2\" class=\"data row18 col2\" >24277.135135</td>\n",
       "                        <td id=\"T_45685_row18_col3\" class=\"data row18 col3\" >171820427.939000</td>\n",
       "            </tr>\n",
       "            <tr>\n",
       "                        <th id=\"T_45685_level0_row19\" class=\"row_heading level0 row19\" >фэнтези</th>\n",
       "                        <td id=\"T_45685_row19_col0\" class=\"data row19 col0\" >6.078378</td>\n",
       "                        <td id=\"T_45685_row19_col1\" class=\"data row19 col1\" >6.090909</td>\n",
       "                        <td id=\"T_45685_row19_col2\" class=\"data row19 col2\" >198864.170270</td>\n",
       "                        <td id=\"T_45685_row19_col3\" class=\"data row19 col3\" >90530600.724545</td>\n",
       "            </tr>\n",
       "    </tbody></table>"
      ],
      "text/plain": [
       "<pandas.io.formats.style.Styler at 0x7f81d8ce6730>"
      ]
     },
     "execution_count": 100,
     "metadata": {},
     "output_type": "execute_result"
    }
   ],
   "source": [
    "data_raitings_russia_pivot = (data.query('financing_source not in @list_sponsor and production_country == \"Россия\" ')\n",
    "                    .pivot_table(index='main_genres', values=['ratings', 'box_office'], aggfunc= 'mean')\n",
    "                    .sort_values(by='main_genres', ascending = True))\n",
    "data_raitings_russia_pivot = data_raitings_russia_pivot.reindex(['ratings', 'box_office'], axis=1)\n",
    "data_raitings_russia_pivot = data_raitings_russia_pivot.set_axis(['Рейтинг фильмов без спонсирования. Россия', 'Средние сборы без спонсирования. Россия'], axis='columns')\n",
    "\n",
    "data_raitings_russia_gs_pivot = (data.query('budget != 0 and box_office != 0 and financing_source in @list_sponsor and production_country == \"Россия\" and ratings != 0')\n",
    "                    .pivot_table(index='main_genres', values=['ratings', 'box_office'], aggfunc= 'mean')\n",
    "                    .sort_values(by='main_genres', ascending = True))\n",
    "data_raitings_russia_gs_pivot = data_raitings_russia_gs_pivot.reindex(['ratings', 'box_office'], axis=1)\n",
    "data_raitings_russia_gs_pivot = data_raitings_russia_gs_pivot.set_axis(['Рейтинг фильмов со спонсированием. Россия', 'Средние сборы со спонсированием. Россия'], axis='columns')\n",
    "\n",
    "data_raitings_russia_merge = data_raitings_russia_pivot.merge(data_raitings_russia_gs_pivot, on='main_genres', how='right')\n",
    "data_raitings_russia_merge = data_raitings_russia_merge.reindex(['Рейтинг фильмов без спонсирования. Россия', 'Рейтинг фильмов со спонсированием. Россия', 'Средние сборы без спонсирования. Россия', 'Средние сборы со спонсированием. Россия'], axis=1)\n",
    "\n",
    "def highlight_cells(x, alpha=1.0):\n",
    "    df_color = pd.DataFrame('', index=x.index, columns=x.columns)\n",
    "    df_color.loc[x['Рейтинг фильмов без спонсирования. Россия'] > x['Рейтинг фильмов со спонсированием. Россия'], ['Рейтинг фильмов без спонсирования. Россия']] = f'background-color: rgba(244, 164, 96, {alpha})'\n",
    "    df_color.loc[x['Рейтинг фильмов со спонсированием. Россия'] > x['Рейтинг фильмов без спонсирования. Россия'], ['Рейтинг фильмов со спонсированием. Россия']] = f'background-color: rgba(143, 188, 143, {alpha})'\n",
    "    \n",
    "    df_color.loc[x['Средние сборы без спонсирования. Россия'] > x['Средние сборы со спонсированием. Россия'], ['Средние сборы без спонсирования. Россия']] = f'background-color: rgba(244, 164, 96, {alpha})'\n",
    "    df_color.loc[x['Средние сборы со спонсированием. Россия'] > x['Средние сборы без спонсирования. Россия'], ['Средние сборы со спонсированием. Россия']] = f'background-color: rgba(143, 188, 143, {alpha})'\n",
    "    return df_color\n",
    "\n",
    "data_raitings_russia_merge.style.apply(highlight_cells, alpha=0.5, axis=None)"
   ]
  },
  {
   "cell_type": "markdown",
   "metadata": {},
   "source": [
    "Если рассматривать итог сравнения российских фильмов с господдержкой и без нее, то общее представление о кинематографе России станет более оптимистичным. Рейтинги у обоих категорий поделились примерно пополам.\n",
    "\n",
    "Так фильмы с господдержкой лидируют в:\n",
    "\n",
    "* боевиках — рейтинг 6.44 против 6.28 у фильмов без господдержки;\n",
    "* военных — рейтинг 6.43 против 6.28;\n",
    "* детективах — рейтинг 6.76 против 6.32;\n",
    "* детских — рейтинг 7.10 против 5.86;\n",
    "* криминальных — рейтинг 7.50 против 6.48;\n",
    "* мелодраммах — рейтинг 5.99 против 5.90;\n",
    "* мультфильмах — рейтинг 5.76 против 5.66;\n",
    "* приключениях — рейтинг 5.74 против 5.64;\n",
    "* фентези — рейтинг 6.09 против 6.08.\n",
    "\n",
    "Лучше всего получаются детские фильмы, которые снимают при поддержке государства, рейтинг таких фильмов в среднем 7.10, а у коммерческих 5.86, возможно это связано с тем, что государство делает упор на развитие мультипликации в рамках программы заботы о детях и детстве.\n",
    "\n",
    "Если сравнивать коммерческие фильмы по ощутимому перевесу в рейтинге, то лучше всего у частных проектов получаются:\n",
    "\n",
    "* мюзиклы — рейтинг 7.83 против 6.55 у фильмов с господдержкой;\n",
    "* семейные — рейтинг 6.08 против 4.98;\n",
    "* фантастика — рейтинг 6.45 против 6.19. В остальных жанрах — ужасы, триллер, спорт, комедия, история, драма и биография, разница в пользу коммерческих фильмов в рейтинге не особо большая, но она есть.\n",
    "\n",
    "Если смотреть по сборам, то фильмы снятые по госпрограмме суммарно собирают больше, чем коммерческие проекты. Возможно это связано с тем, что бюджеты, реклама и прочее продвижение для фильмов по госпрограмме более обширно, и такие фильмы получают лучшее эфирное время для рекламы на тв, например.\n",
    "\n",
    "Интересный момент, детективы на коммерческой основе получили сборов больше, хотя, рейтинги у государственных детективных фильмов выше."
   ]
  },
  {
   "cell_type": "markdown",
   "metadata": {
    "id": "V2gYwMcPgFyd"
   },
   "source": [
    "### Шаг 5. Напишите общий вывод"
   ]
  },
  {
   "cell_type": "markdown",
   "metadata": {},
   "source": [
    "Общий вывод\n",
    "В первой части проекта была выполнена важная работа по предварительной обработке данных. Очистка данных является важным этапом в процессе анализа данных. Это позволяет убрать ошибки и пропуски в данных, чтобы получить более точные и релевантные результаты. Различные вариации записи в данных могут затруднять их анализ и сравнение. Поэтому, важно проводить стандартизацию данных, убирая разные варианты написания, что позволит сократить количество ошибок в будущем. Определение значимых параметров для анализа данных также является важным шагом.\n",
    "\n",
    "Киноиндустрия является одной из наиболее динамичных и значимых отраслей в мировой экономике. С 2010 по 2019 годы отрасль продемонстрировала значительный рост в производстве и количестве выходящих фильмов, а также в затратах на их производство. В частности, количество фильмов, которые выходили в прокат, увеличилось примерно в 5 раз, а затраты на производство кинолент существенно выросли.\n",
    "\n",
    "При этом можно отметить, что начиная с 2010 года, был заметен рост количества фильмов, которым выдавались прокатные удостоверения в целом. Однако, в 2017 году произошел резкий спад, который был связан с некоторыми проблемами внутри отрасли, в том числе с качеством фильмов и низкими сборами. К 2019 году значения количества выходящих фильмов и затрат на их производство вернулись к уровню 2016 года.\n",
    "\n",
    "Спад по количеству выдаваемых прокатных удостоверений и уменьшению сборов в России в 2017 и 2018 годах можно связать с несколькими факторами.\n",
    "\n",
    "Во-первых, на этот период пришелся скачок инфляции, что привело к росту цен на билеты в кинотеатрах. Это могло снизить спрос на кино и привести к сокращению выдачи прокатных удостоверений.\n",
    "Во-вторых, в 2017 году был принят закон, который вводил новые правила выдачи прокатных удостоверений и требовал большей прозрачности в работе кинокомпаний. Это могло привести к снижению количества выдаваемых удостоверений в связи с изменением условий работы.\n",
    "В-третьих, в этот период происходили изменения в налоговом законодательстве, которые могли повлиять на финансовую устойчивость кинокомпаний.\n",
    "Наконец, следует отметить, что в 2017 году в России произошли изменения в системе финансирования кинопроектов, в результате чего многие кинокомпании столкнулись с финансовыми трудностями, что могло сказаться на количестве производимых фильмов и выдаче прокатных удостоверений.\n",
    "Что касается непосредственно самих фильмов, а не индустрии в целом.\n",
    "\n",
    "Можно сделать вывод, что в течение трех лет подряд c 2016 по 2018 фильмы «16+» были лидерами по сборам в кинотеатрах, тогда как другие категории испытывали спад или не очень заметные изменения. Однако в 2019 году первое место по сборам заняли фильмы «6+» с небольшим отрывом. Вероятно, это связано с тем, что фильмы «16+» после пика в 2017 году начали терять аудиторию, возможно, из-за перенасыщения рынка. Кроме того, начиная с 2017 года, популярность набирают фильмы «12+», которые частично делят сегмент аудитории с фильмами «16+», что также могло привести к снижению интереса к фильмам в этой категории. Из анализа данных о фильмах, выпущенных в российский прокат с 2010 по 2019 год, следует, что большинство художественных фильмов не смотря на то, что занимали лидирующую позицию по прокатам, не смогли окупить свои бюджеты, а многие анимационные фильмы также оказались провальными. Однако, в то же время, фильмы про спорт, биографические фильмы, мультфильмы, комедии, семейные фильмы, ужасы и фантастика показали сравнительно хорошие результаты в сборах и относительно малый разрыв между выделенными на них бюджетами и сборами за все время. В частности, фильмы про спорт оказались одними из наиболее прибыльных жанров за все время, принося 31,37% от общих сборов при затрате только 6,58% от общего бюджета.\n",
    "\n",
    "Однако, данные также показывают, что фильмы, снятые при государственной поддержке, не всегда показывают высокие результаты. Медианные рейтинги таких фильмов по большинству жанров ниже, чем у фильмов, снятых на частные деньги в России или зарубежных фильмов. Из всего спектра жанров, фильмы-боевики, детективы, детские фильмы и криминальные фильмы с государственной поддержкой оказались более высоко оцененными по сравнению с аналогичными жанрами фильмов, снятых на частные деньги в России или зарубежных фильмов. Однако количество жанров с преобладающим рейтингом все еще невысоко, только 4 из 19 возможных.\n",
    "\n",
    "Результаты сравнения российских фильмов с государственной поддержкой и без нее говорят о том, что общее впечатление о кинематографе России становится более оптимистичным. Рейтинги фильмов в обеих категориях распределились примерно поровну. Фильмы, получившие государственную поддержку, имеют не очень большой но перевес по рейтингу но он есть в боевиках, военных, детективах, детских, криминальных, мелодрамах, мультфильмах, приключениях и фэнтези. Особенно хорошо снимаются детские фильмы с господдержкой, которые имеют рейтинг в среднем 7.10, в то время как коммерческие фильмы имеют рейтинг 5.86. Это может быть связано с тем, что государство делает упор на развитие мультипликации в рамках программы заботы о детях и детстве. Если рассматривать коммерческие фильмы, которые имеют ощутимый перевес в рейтинге, то лучше всего получаются мюзиклы, семейные фильмы и фантастика. В остальных жанрах разница в рейтинге между коммерческими и государственными фильмами не очень большая, но она есть. Однако, если смотреть на сборы, то фильмы, снятые по государственной программе, суммарно собирают больше, чем коммерческие проекты. Возможно, это связано с тем, что бюджеты, реклама и продвижение для фильмов, снятых по государственной программе, более обширны. Кроме того, такие фильмы получают лучшее эфирное время для рекламы на телевидении, например.\n",
    "\n",
    "Интересно отметить, что хотя рейтинги государственных детективных фильмов выше, фильмы этого жанра, снятые на коммерческой основе, получили больше сборов."
   ]
  }
 ],
 "metadata": {
  "ExecuteTimeLog": [
   {
    "duration": 537,
    "start_time": "2021-07-07T10:12:08.634Z"
   },
   {
    "duration": 206,
    "start_time": "2021-07-07T10:12:30.191Z"
   },
   {
    "duration": 227,
    "start_time": "2021-07-07T10:12:33.078Z"
   },
   {
    "duration": 153,
    "start_time": "2021-07-07T10:13:42.146Z"
   },
   {
    "duration": 233,
    "start_time": "2021-07-07T10:30:09.252Z"
   },
   {
    "duration": 19,
    "start_time": "2021-07-07T10:30:15.577Z"
   },
   {
    "duration": 18,
    "start_time": "2021-07-07T10:30:57.348Z"
   },
   {
    "duration": 19,
    "start_time": "2021-07-07T10:31:17.452Z"
   },
   {
    "duration": 21,
    "start_time": "2021-07-07T10:31:32.227Z"
   },
   {
    "duration": 27,
    "start_time": "2021-07-07T10:32:06.588Z"
   },
   {
    "duration": 23,
    "start_time": "2021-07-07T10:32:43.645Z"
   },
   {
    "duration": 24,
    "start_time": "2021-07-07T10:33:06.948Z"
   },
   {
    "duration": 7,
    "start_time": "2021-07-07T10:33:28.558Z"
   },
   {
    "duration": 23,
    "start_time": "2021-07-07T10:33:43.761Z"
   },
   {
    "duration": 28,
    "start_time": "2021-07-07T10:34:13.466Z"
   },
   {
    "duration": 23,
    "start_time": "2021-07-07T10:35:56.187Z"
   },
   {
    "duration": 6,
    "start_time": "2021-07-07T10:36:48.182Z"
   },
   {
    "duration": 14,
    "start_time": "2021-07-07T10:37:49.641Z"
   },
   {
    "duration": 6,
    "start_time": "2021-07-07T10:38:06.694Z"
   },
   {
    "duration": 6,
    "start_time": "2021-07-07T10:38:13.493Z"
   },
   {
    "duration": 19,
    "start_time": "2021-07-07T10:38:44.056Z"
   },
   {
    "duration": 186,
    "start_time": "2021-07-07T10:48:35.618Z"
   },
   {
    "duration": 24,
    "start_time": "2021-07-07T10:48:51.498Z"
   },
   {
    "duration": 20,
    "start_time": "2021-07-07T10:48:59.415Z"
   },
   {
    "duration": 20,
    "start_time": "2021-07-07T10:53:02.195Z"
   },
   {
    "duration": 188,
    "start_time": "2021-07-07T10:54:40.486Z"
   },
   {
    "duration": 115,
    "start_time": "2021-07-07T10:54:52.552Z"
   },
   {
    "duration": 214,
    "start_time": "2021-07-07T10:54:56.354Z"
   },
   {
    "duration": 47,
    "start_time": "2021-07-07T10:54:58.282Z"
   },
   {
    "duration": 217,
    "start_time": "2021-07-07T10:59:16.075Z"
   },
   {
    "duration": 51,
    "start_time": "2021-07-07T10:59:16.243Z"
   },
   {
    "duration": 578,
    "start_time": "2021-07-07T10:59:18.774Z"
   },
   {
    "duration": 161,
    "start_time": "2021-07-07T10:59:21.238Z"
   },
   {
    "duration": 59,
    "start_time": "2021-07-07T10:59:21.453Z"
   },
   {
    "duration": 3,
    "start_time": "2021-07-07T11:02:10.786Z"
   },
   {
    "duration": 13,
    "start_time": "2021-07-07T11:07:07.722Z"
   },
   {
    "duration": 26,
    "start_time": "2021-07-07T11:07:17.958Z"
   },
   {
    "duration": 22,
    "start_time": "2021-07-07T11:08:17.939Z"
   },
   {
    "duration": 212,
    "start_time": "2021-07-07T11:08:19.665Z"
   },
   {
    "duration": 21,
    "start_time": "2021-07-07T11:08:29.945Z"
   },
   {
    "duration": 31,
    "start_time": "2021-07-07T11:08:38.899Z"
   },
   {
    "duration": 23,
    "start_time": "2021-07-07T11:08:54.527Z"
   },
   {
    "duration": 8,
    "start_time": "2021-07-07T11:18:55.974Z"
   },
   {
    "duration": 7,
    "start_time": "2021-07-07T11:19:03.639Z"
   },
   {
    "duration": 7,
    "start_time": "2021-07-07T11:19:06.444Z"
   },
   {
    "duration": 578,
    "start_time": "2021-07-07T12:09:59.576Z"
   },
   {
    "duration": 195,
    "start_time": "2021-07-07T12:10:00.156Z"
   },
   {
    "duration": 115,
    "start_time": "2021-07-07T12:10:00.353Z"
   },
   {
    "duration": 3,
    "start_time": "2021-07-07T12:10:00.470Z"
   },
   {
    "duration": 32,
    "start_time": "2021-07-07T12:10:00.474Z"
   },
   {
    "duration": 23,
    "start_time": "2021-07-07T12:10:00.508Z"
   },
   {
    "duration": 19,
    "start_time": "2021-07-07T12:10:00.533Z"
   },
   {
    "duration": 44,
    "start_time": "2021-07-07T12:10:00.553Z"
   },
   {
    "duration": 7,
    "start_time": "2021-07-07T12:10:00.600Z"
   },
   {
    "duration": 7,
    "start_time": "2021-07-07T12:19:45.761Z"
   },
   {
    "duration": 21,
    "start_time": "2021-07-07T12:21:35.482Z"
   },
   {
    "duration": 21,
    "start_time": "2021-07-07T12:29:23.569Z"
   },
   {
    "duration": 525,
    "start_time": "2021-07-07T12:29:44.542Z"
   },
   {
    "duration": 214,
    "start_time": "2021-07-07T12:29:45.069Z"
   },
   {
    "duration": 92,
    "start_time": "2021-07-07T12:29:45.285Z"
   },
   {
    "duration": 3,
    "start_time": "2021-07-07T12:29:45.379Z"
   },
   {
    "duration": 28,
    "start_time": "2021-07-07T12:29:45.384Z"
   },
   {
    "duration": 23,
    "start_time": "2021-07-07T12:29:45.413Z"
   },
   {
    "duration": 21,
    "start_time": "2021-07-07T12:29:45.437Z"
   },
   {
    "duration": 41,
    "start_time": "2021-07-07T12:29:45.460Z"
   },
   {
    "duration": 7,
    "start_time": "2021-07-07T12:29:45.502Z"
   },
   {
    "duration": 20,
    "start_time": "2021-07-07T12:29:45.511Z"
   },
   {
    "duration": 12,
    "start_time": "2021-07-07T12:34:02.800Z"
   },
   {
    "duration": 7,
    "start_time": "2021-07-07T12:35:10.479Z"
   },
   {
    "duration": 8,
    "start_time": "2021-07-07T12:35:22.440Z"
   },
   {
    "duration": 6,
    "start_time": "2021-07-07T12:35:35.649Z"
   },
   {
    "duration": 6,
    "start_time": "2021-07-07T12:35:43.107Z"
   },
   {
    "duration": 22,
    "start_time": "2021-07-07T12:38:03.029Z"
   },
   {
    "duration": 10,
    "start_time": "2021-07-07T12:38:06.592Z"
   },
   {
    "duration": 563,
    "start_time": "2021-07-07T12:38:46.493Z"
   },
   {
    "duration": 265,
    "start_time": "2021-07-07T12:38:47.058Z"
   },
   {
    "duration": 94,
    "start_time": "2021-07-07T12:38:47.325Z"
   },
   {
    "duration": 3,
    "start_time": "2021-07-07T12:38:47.422Z"
   },
   {
    "duration": 30,
    "start_time": "2021-07-07T12:38:47.427Z"
   },
   {
    "duration": 16,
    "start_time": "2021-07-07T12:38:53.305Z"
   },
   {
    "duration": 10,
    "start_time": "2021-07-07T12:38:53.499Z"
   },
   {
    "duration": 8,
    "start_time": "2021-07-07T12:39:48.161Z"
   },
   {
    "duration": 27,
    "start_time": "2021-07-07T12:41:17.629Z"
   },
   {
    "duration": 17,
    "start_time": "2021-07-07T12:41:17.867Z"
   },
   {
    "duration": 21,
    "start_time": "2021-07-07T12:41:19.310Z"
   },
   {
    "duration": 7,
    "start_time": "2021-07-07T12:41:19.544Z"
   },
   {
    "duration": 20,
    "start_time": "2021-07-07T12:41:20.504Z"
   },
   {
    "duration": 554,
    "start_time": "2021-07-07T12:56:23.696Z"
   },
   {
    "duration": 200,
    "start_time": "2021-07-07T12:56:25.234Z"
   },
   {
    "duration": 119,
    "start_time": "2021-07-07T12:56:25.480Z"
   },
   {
    "duration": 4,
    "start_time": "2021-07-07T12:56:25.762Z"
   },
   {
    "duration": 26,
    "start_time": "2021-07-07T12:56:27.172Z"
   },
   {
    "duration": 12,
    "start_time": "2021-07-07T12:56:29.051Z"
   },
   {
    "duration": 10,
    "start_time": "2021-07-07T12:56:29.291Z"
   },
   {
    "duration": 8,
    "start_time": "2021-07-07T12:56:29.623Z"
   },
   {
    "duration": 28,
    "start_time": "2021-07-07T12:56:32.137Z"
   },
   {
    "duration": 19,
    "start_time": "2021-07-07T12:56:39.785Z"
   },
   {
    "duration": 20,
    "start_time": "2021-07-07T12:56:44.297Z"
   },
   {
    "duration": 7,
    "start_time": "2021-07-07T12:56:45.392Z"
   },
   {
    "duration": 23,
    "start_time": "2021-07-07T12:56:46.615Z"
   },
   {
    "duration": 4,
    "start_time": "2021-07-07T12:57:06.625Z"
   },
   {
    "duration": 32,
    "start_time": "2021-07-07T12:57:36.690Z"
   },
   {
    "duration": 18,
    "start_time": "2021-07-07T12:58:00.149Z"
   },
   {
    "duration": 15,
    "start_time": "2021-07-07T12:59:16.793Z"
   },
   {
    "duration": 7,
    "start_time": "2021-07-07T13:19:22.624Z"
   },
   {
    "duration": 6,
    "start_time": "2021-07-07T14:17:33.527Z"
   },
   {
    "duration": 9,
    "start_time": "2021-07-07T14:17:48.409Z"
   },
   {
    "duration": 8,
    "start_time": "2021-07-07T14:20:13.060Z"
   },
   {
    "duration": 8,
    "start_time": "2021-07-07T14:20:37.957Z"
   },
   {
    "duration": 8,
    "start_time": "2021-07-07T14:20:47.470Z"
   },
   {
    "duration": 9,
    "start_time": "2021-07-07T14:20:54.503Z"
   },
   {
    "duration": 10,
    "start_time": "2021-07-07T14:28:57.763Z"
   },
   {
    "duration": 3,
    "start_time": "2021-07-07T14:30:23.377Z"
   },
   {
    "duration": 3,
    "start_time": "2021-07-07T14:30:36.489Z"
   },
   {
    "duration": 103,
    "start_time": "2021-07-07T14:30:52.351Z"
   },
   {
    "duration": 8,
    "start_time": "2021-07-07T14:30:54.763Z"
   },
   {
    "duration": 8,
    "start_time": "2021-07-07T14:31:29.301Z"
   },
   {
    "duration": 13,
    "start_time": "2021-07-07T14:31:44.516Z"
   },
   {
    "duration": 7,
    "start_time": "2021-07-07T14:33:10.972Z"
   },
   {
    "duration": 11,
    "start_time": "2021-07-07T14:33:27.780Z"
   },
   {
    "duration": 8,
    "start_time": "2021-07-07T14:34:44.588Z"
   },
   {
    "duration": 57,
    "start_time": "2021-07-07T14:35:59.042Z"
   },
   {
    "duration": 3,
    "start_time": "2021-07-07T14:36:28.168Z"
   },
   {
    "duration": 5,
    "start_time": "2021-07-07T14:36:46.254Z"
   },
   {
    "duration": 4,
    "start_time": "2021-07-07T14:36:52.714Z"
   },
   {
    "duration": 3,
    "start_time": "2021-07-07T14:36:56.612Z"
   },
   {
    "duration": 4,
    "start_time": "2021-07-07T14:36:57.049Z"
   },
   {
    "duration": 3,
    "start_time": "2021-07-07T14:39:21.214Z"
   },
   {
    "duration": 7,
    "start_time": "2021-07-07T14:39:52.406Z"
   },
   {
    "duration": 11,
    "start_time": "2021-07-07T14:39:58.576Z"
   },
   {
    "duration": 9,
    "start_time": "2021-07-07T14:40:26.301Z"
   },
   {
    "duration": 10,
    "start_time": "2021-07-07T14:40:31.704Z"
   },
   {
    "duration": 11,
    "start_time": "2021-07-07T14:40:36.249Z"
   },
   {
    "duration": 10,
    "start_time": "2021-07-07T14:40:39.783Z"
   },
   {
    "duration": 9,
    "start_time": "2021-07-07T14:40:48.558Z"
   },
   {
    "duration": 10,
    "start_time": "2021-07-07T14:40:57.143Z"
   },
   {
    "duration": 9,
    "start_time": "2021-07-07T14:41:06.074Z"
   },
   {
    "duration": 4324,
    "start_time": "2021-07-07T14:41:22.004Z"
   },
   {
    "duration": 11,
    "start_time": "2021-07-07T14:41:33.392Z"
   },
   {
    "duration": 9,
    "start_time": "2021-07-07T14:41:39.288Z"
   },
   {
    "duration": 569,
    "start_time": "2021-07-07T14:42:14.387Z"
   },
   {
    "duration": 197,
    "start_time": "2021-07-07T14:42:14.959Z"
   },
   {
    "duration": 84,
    "start_time": "2021-07-07T14:42:16.052Z"
   },
   {
    "duration": 4,
    "start_time": "2021-07-07T14:42:16.900Z"
   },
   {
    "duration": 27,
    "start_time": "2021-07-07T14:42:19.898Z"
   },
   {
    "duration": 12,
    "start_time": "2021-07-07T14:42:21.577Z"
   },
   {
    "duration": 9,
    "start_time": "2021-07-07T14:42:21.813Z"
   },
   {
    "duration": 9,
    "start_time": "2021-07-07T14:42:22.569Z"
   },
   {
    "duration": 29,
    "start_time": "2021-07-07T14:42:25.837Z"
   },
   {
    "duration": 20,
    "start_time": "2021-07-07T14:42:27.003Z"
   },
   {
    "duration": 21,
    "start_time": "2021-07-07T14:42:28.767Z"
   },
   {
    "duration": 7,
    "start_time": "2021-07-07T14:42:29.838Z"
   },
   {
    "duration": 4,
    "start_time": "2021-07-07T14:43:25.493Z"
   },
   {
    "duration": 7,
    "start_time": "2021-07-07T14:43:26.573Z"
   },
   {
    "duration": 10,
    "start_time": "2021-07-07T14:43:31.639Z"
   },
   {
    "duration": 9,
    "start_time": "2021-07-07T14:43:32.046Z"
   },
   {
    "duration": 10,
    "start_time": "2021-07-07T14:43:33.301Z"
   },
   {
    "duration": 12,
    "start_time": "2021-07-07T14:43:33.658Z"
   },
   {
    "duration": 8,
    "start_time": "2021-07-07T14:43:34.552Z"
   },
   {
    "duration": 9,
    "start_time": "2021-07-07T14:43:35.058Z"
   },
   {
    "duration": 12,
    "start_time": "2021-07-07T14:43:35.914Z"
   },
   {
    "duration": 17,
    "start_time": "2021-07-07T14:45:34.368Z"
   },
   {
    "duration": 512,
    "start_time": "2021-07-07T14:51:58.236Z"
   },
   {
    "duration": 223,
    "start_time": "2021-07-07T14:51:58.750Z"
   },
   {
    "duration": 93,
    "start_time": "2021-07-07T14:51:58.977Z"
   },
   {
    "duration": 4,
    "start_time": "2021-07-07T14:51:59.071Z"
   },
   {
    "duration": 37,
    "start_time": "2021-07-07T14:51:59.077Z"
   },
   {
    "duration": 18,
    "start_time": "2021-07-07T14:51:59.116Z"
   },
   {
    "duration": 10,
    "start_time": "2021-07-07T14:51:59.137Z"
   },
   {
    "duration": 8,
    "start_time": "2021-07-07T14:51:59.149Z"
   },
   {
    "duration": 54,
    "start_time": "2021-07-07T14:51:59.158Z"
   },
   {
    "duration": 18,
    "start_time": "2021-07-07T14:51:59.213Z"
   },
   {
    "duration": 22,
    "start_time": "2021-07-07T14:51:59.232Z"
   },
   {
    "duration": 36,
    "start_time": "2021-07-07T14:51:59.255Z"
   },
   {
    "duration": 7,
    "start_time": "2021-07-07T14:51:59.293Z"
   },
   {
    "duration": 10,
    "start_time": "2021-07-07T14:51:59.302Z"
   },
   {
    "duration": 9,
    "start_time": "2021-07-07T14:51:59.313Z"
   },
   {
    "duration": 11,
    "start_time": "2021-07-07T14:51:59.324Z"
   },
   {
    "duration": 8,
    "start_time": "2021-07-07T14:51:59.337Z"
   },
   {
    "duration": 46,
    "start_time": "2021-07-07T14:51:59.347Z"
   },
   {
    "duration": 22,
    "start_time": "2021-07-07T14:51:59.395Z"
   },
   {
    "duration": 24,
    "start_time": "2021-07-07T14:57:32.911Z"
   },
   {
    "duration": 7,
    "start_time": "2021-07-07T14:58:22.070Z"
   },
   {
    "duration": 4,
    "start_time": "2021-07-07T14:59:11.239Z"
   },
   {
    "duration": 25,
    "start_time": "2021-07-07T15:07:22.208Z"
   },
   {
    "duration": 16,
    "start_time": "2021-07-07T15:08:25.560Z"
   },
   {
    "duration": 15,
    "start_time": "2021-07-07T15:08:40.647Z"
   },
   {
    "duration": 14,
    "start_time": "2021-07-07T15:08:46.669Z"
   },
   {
    "duration": 533,
    "start_time": "2021-07-07T15:18:07.440Z"
   },
   {
    "duration": 173,
    "start_time": "2021-07-07T15:18:07.974Z"
   },
   {
    "duration": 84,
    "start_time": "2021-07-07T15:18:08.149Z"
   },
   {
    "duration": 3,
    "start_time": "2021-07-07T15:18:08.235Z"
   },
   {
    "duration": 30,
    "start_time": "2021-07-07T15:18:08.240Z"
   },
   {
    "duration": 22,
    "start_time": "2021-07-07T15:18:08.272Z"
   },
   {
    "duration": 11,
    "start_time": "2021-07-07T15:18:08.295Z"
   },
   {
    "duration": 11,
    "start_time": "2021-07-07T15:18:08.309Z"
   },
   {
    "duration": 40,
    "start_time": "2021-07-07T15:18:08.322Z"
   },
   {
    "duration": 42,
    "start_time": "2021-07-07T15:18:08.364Z"
   },
   {
    "duration": 22,
    "start_time": "2021-07-07T15:18:08.408Z"
   },
   {
    "duration": 5,
    "start_time": "2021-07-07T15:18:08.432Z"
   },
   {
    "duration": 13,
    "start_time": "2021-07-07T15:18:08.439Z"
   },
   {
    "duration": 9,
    "start_time": "2021-07-07T15:18:08.454Z"
   },
   {
    "duration": 32,
    "start_time": "2021-07-07T15:18:08.465Z"
   },
   {
    "duration": 10,
    "start_time": "2021-07-07T15:18:08.501Z"
   },
   {
    "duration": 7,
    "start_time": "2021-07-07T15:18:08.513Z"
   },
   {
    "duration": 11,
    "start_time": "2021-07-07T15:18:08.521Z"
   },
   {
    "duration": 17,
    "start_time": "2021-07-07T15:18:08.534Z"
   },
   {
    "duration": 44,
    "start_time": "2021-07-07T15:18:08.553Z"
   },
   {
    "duration": 22,
    "start_time": "2021-07-07T15:18:08.599Z"
   },
   {
    "duration": 61,
    "start_time": "2021-07-07T15:18:08.622Z"
   },
   {
    "duration": 7,
    "start_time": "2021-07-07T15:18:39.457Z"
   },
   {
    "duration": 5,
    "start_time": "2021-07-07T16:05:17.020Z"
   },
   {
    "duration": 5,
    "start_time": "2021-07-07T16:51:28.794Z"
   },
   {
    "duration": 546,
    "start_time": "2021-07-07T16:52:26.306Z"
   },
   {
    "duration": 203,
    "start_time": "2021-07-07T16:52:27.523Z"
   },
   {
    "duration": 85,
    "start_time": "2021-07-07T16:52:27.736Z"
   },
   {
    "duration": 4,
    "start_time": "2021-07-07T16:52:27.899Z"
   },
   {
    "duration": 25,
    "start_time": "2021-07-07T16:52:28.674Z"
   },
   {
    "duration": 8,
    "start_time": "2021-07-07T16:52:32.956Z"
   },
   {
    "duration": 18,
    "start_time": "2021-07-07T16:52:35.616Z"
   },
   {
    "duration": 6,
    "start_time": "2021-07-07T16:52:36.913Z"
   },
   {
    "duration": 11,
    "start_time": "2021-07-07T16:52:40.258Z"
   },
   {
    "duration": 10,
    "start_time": "2021-07-07T16:52:46.251Z"
   },
   {
    "duration": 8,
    "start_time": "2021-07-07T16:52:47.182Z"
   },
   {
    "duration": 27,
    "start_time": "2021-07-07T16:53:20.391Z"
   },
   {
    "duration": 20,
    "start_time": "2021-07-07T16:53:22.022Z"
   },
   {
    "duration": 23,
    "start_time": "2021-07-07T16:53:23.690Z"
   },
   {
    "duration": 8,
    "start_time": "2021-07-07T16:53:24.261Z"
   },
   {
    "duration": 4,
    "start_time": "2021-07-07T16:53:38.733Z"
   },
   {
    "duration": 7,
    "start_time": "2021-07-07T16:53:40.445Z"
   },
   {
    "duration": 11,
    "start_time": "2021-07-07T16:53:41.348Z"
   },
   {
    "duration": 13,
    "start_time": "2021-07-07T16:53:45.250Z"
   },
   {
    "duration": 12,
    "start_time": "2021-07-07T16:53:45.467Z"
   },
   {
    "duration": 4,
    "start_time": "2021-07-07T16:55:32.704Z"
   },
   {
    "duration": 12,
    "start_time": "2021-07-07T16:55:49.012Z"
   },
   {
    "duration": 18,
    "start_time": "2021-07-07T16:55:49.547Z"
   },
   {
    "duration": 611,
    "start_time": "2021-07-07T16:58:35.156Z"
   },
   {
    "duration": 200,
    "start_time": "2021-07-07T16:58:35.770Z"
   },
   {
    "duration": 86,
    "start_time": "2021-07-07T16:58:35.972Z"
   },
   {
    "duration": 3,
    "start_time": "2021-07-07T16:58:36.060Z"
   },
   {
    "duration": 27,
    "start_time": "2021-07-07T16:58:36.065Z"
   },
   {
    "duration": 8,
    "start_time": "2021-07-07T16:58:36.094Z"
   },
   {
    "duration": 17,
    "start_time": "2021-07-07T16:58:36.103Z"
   },
   {
    "duration": 5,
    "start_time": "2021-07-07T16:58:36.123Z"
   },
   {
    "duration": 11,
    "start_time": "2021-07-07T16:58:36.130Z"
   },
   {
    "duration": 7,
    "start_time": "2021-07-07T16:58:36.143Z"
   },
   {
    "duration": 37,
    "start_time": "2021-07-07T16:58:36.152Z"
   },
   {
    "duration": 27,
    "start_time": "2021-07-07T16:58:36.191Z"
   },
   {
    "duration": 19,
    "start_time": "2021-07-07T16:58:36.219Z"
   },
   {
    "duration": 49,
    "start_time": "2021-07-07T16:58:36.240Z"
   },
   {
    "duration": 6,
    "start_time": "2021-07-07T16:58:36.291Z"
   },
   {
    "duration": 3,
    "start_time": "2021-07-07T16:58:36.299Z"
   },
   {
    "duration": 13,
    "start_time": "2021-07-07T16:58:36.304Z"
   },
   {
    "duration": 10,
    "start_time": "2021-07-07T16:58:36.319Z"
   },
   {
    "duration": 10,
    "start_time": "2021-07-07T16:58:36.331Z"
   },
   {
    "duration": 44,
    "start_time": "2021-07-07T16:58:36.343Z"
   },
   {
    "duration": 4,
    "start_time": "2021-07-07T16:58:36.388Z"
   },
   {
    "duration": 13,
    "start_time": "2021-07-07T16:58:36.394Z"
   },
   {
    "duration": 16,
    "start_time": "2021-07-07T16:58:36.410Z"
   },
   {
    "duration": 8,
    "start_time": "2021-07-07T17:02:31.629Z"
   },
   {
    "duration": 8,
    "start_time": "2021-07-07T17:02:34.308Z"
   },
   {
    "duration": 6,
    "start_time": "2021-07-07T17:05:13.483Z"
   },
   {
    "duration": 17,
    "start_time": "2021-07-07T17:05:20.606Z"
   },
   {
    "duration": 7,
    "start_time": "2021-07-07T17:05:34.638Z"
   },
   {
    "duration": 3,
    "start_time": "2021-07-07T17:06:31.883Z"
   },
   {
    "duration": 570,
    "start_time": "2021-07-07T17:06:37.165Z"
   },
   {
    "duration": 174,
    "start_time": "2021-07-07T17:06:37.737Z"
   },
   {
    "duration": 47,
    "start_time": "2021-07-07T17:06:37.913Z"
   },
   {
    "duration": 3,
    "start_time": "2021-07-07T17:06:37.962Z"
   },
   {
    "duration": 27,
    "start_time": "2021-07-07T17:06:37.967Z"
   },
   {
    "duration": 7,
    "start_time": "2021-07-07T17:06:37.996Z"
   },
   {
    "duration": 16,
    "start_time": "2021-07-07T17:06:38.005Z"
   },
   {
    "duration": 6,
    "start_time": "2021-07-07T17:06:38.024Z"
   },
   {
    "duration": 12,
    "start_time": "2021-07-07T17:06:38.031Z"
   },
   {
    "duration": 41,
    "start_time": "2021-07-07T17:06:38.045Z"
   },
   {
    "duration": 8,
    "start_time": "2021-07-07T17:06:38.088Z"
   },
   {
    "duration": 26,
    "start_time": "2021-07-07T17:06:38.098Z"
   },
   {
    "duration": 17,
    "start_time": "2021-07-07T17:06:38.126Z"
   },
   {
    "duration": 43,
    "start_time": "2021-07-07T17:06:38.144Z"
   },
   {
    "duration": 6,
    "start_time": "2021-07-07T17:06:38.188Z"
   },
   {
    "duration": 5,
    "start_time": "2021-07-07T17:06:38.195Z"
   },
   {
    "duration": 9,
    "start_time": "2021-07-07T17:06:38.201Z"
   },
   {
    "duration": 12,
    "start_time": "2021-07-07T17:06:38.212Z"
   },
   {
    "duration": 11,
    "start_time": "2021-07-07T17:06:38.226Z"
   },
   {
    "duration": 47,
    "start_time": "2021-07-07T17:06:38.239Z"
   },
   {
    "duration": 4,
    "start_time": "2021-07-07T17:06:38.288Z"
   },
   {
    "duration": 13,
    "start_time": "2021-07-07T17:06:38.293Z"
   },
   {
    "duration": 5,
    "start_time": "2021-07-07T17:06:38.309Z"
   },
   {
    "duration": 18,
    "start_time": "2021-07-07T17:06:38.325Z"
   },
   {
    "duration": 20,
    "start_time": "2021-07-07T17:07:02.805Z"
   },
   {
    "duration": 19,
    "start_time": "2021-07-07T17:07:08.527Z"
   },
   {
    "duration": 19,
    "start_time": "2021-07-07T17:07:12.758Z"
   },
   {
    "duration": 22,
    "start_time": "2021-07-07T17:07:17.497Z"
   },
   {
    "duration": 19,
    "start_time": "2021-07-07T17:07:19.645Z"
   },
   {
    "duration": 10,
    "start_time": "2021-07-07T17:07:34.239Z"
   },
   {
    "duration": 17,
    "start_time": "2021-07-07T17:07:54.144Z"
   },
   {
    "duration": 14,
    "start_time": "2021-07-07T17:08:14.357Z"
   },
   {
    "duration": 616,
    "start_time": "2021-07-07T17:08:45.254Z"
   },
   {
    "duration": 178,
    "start_time": "2021-07-07T17:08:45.872Z"
   },
   {
    "duration": 60,
    "start_time": "2021-07-07T17:08:46.054Z"
   },
   {
    "duration": 3,
    "start_time": "2021-07-07T17:08:46.116Z"
   },
   {
    "duration": 26,
    "start_time": "2021-07-07T17:08:46.121Z"
   },
   {
    "duration": 7,
    "start_time": "2021-07-07T17:08:46.149Z"
   },
   {
    "duration": 17,
    "start_time": "2021-07-07T17:08:46.158Z"
   },
   {
    "duration": 14,
    "start_time": "2021-07-07T17:08:46.176Z"
   },
   {
    "duration": 17,
    "start_time": "2021-07-07T17:08:46.193Z"
   },
   {
    "duration": 9,
    "start_time": "2021-07-07T17:08:46.211Z"
   },
   {
    "duration": 21,
    "start_time": "2021-07-07T17:08:46.221Z"
   },
   {
    "duration": 49,
    "start_time": "2021-07-07T17:08:46.244Z"
   },
   {
    "duration": 24,
    "start_time": "2021-07-07T17:08:46.295Z"
   },
   {
    "duration": 22,
    "start_time": "2021-07-07T17:08:46.321Z"
   },
   {
    "duration": 6,
    "start_time": "2021-07-07T17:08:46.345Z"
   },
   {
    "duration": 5,
    "start_time": "2021-07-07T17:08:46.353Z"
   },
   {
    "duration": 13,
    "start_time": "2021-07-07T17:08:46.386Z"
   },
   {
    "duration": 12,
    "start_time": "2021-07-07T17:08:46.402Z"
   },
   {
    "duration": 10,
    "start_time": "2021-07-07T17:08:46.415Z"
   },
   {
    "duration": 7,
    "start_time": "2021-07-07T17:08:46.427Z"
   },
   {
    "duration": 8,
    "start_time": "2021-07-07T17:08:46.435Z"
   },
   {
    "duration": 68,
    "start_time": "2021-07-07T17:08:46.446Z"
   },
   {
    "duration": 13,
    "start_time": "2021-07-07T17:08:46.516Z"
   },
   {
    "duration": 78,
    "start_time": "2021-07-07T17:08:46.530Z"
   },
   {
    "duration": 40,
    "start_time": "2021-07-07T17:09:08.185Z"
   },
   {
    "duration": 16,
    "start_time": "2021-07-07T17:09:19.324Z"
   },
   {
    "duration": 21,
    "start_time": "2021-07-07T17:09:23.290Z"
   },
   {
    "duration": 13,
    "start_time": "2021-07-07T17:09:54.812Z"
   },
   {
    "duration": 13,
    "start_time": "2021-07-07T17:10:02.039Z"
   },
   {
    "duration": 10,
    "start_time": "2021-07-07T17:10:29.632Z"
   },
   {
    "duration": 13,
    "start_time": "2021-07-07T17:10:52.372Z"
   },
   {
    "duration": 13,
    "start_time": "2021-07-07T17:11:17.270Z"
   },
   {
    "duration": 13,
    "start_time": "2021-07-07T17:14:59.284Z"
   },
   {
    "duration": 547,
    "start_time": "2021-07-07T17:18:52.403Z"
   },
   {
    "duration": 163,
    "start_time": "2021-07-07T17:18:52.952Z"
   },
   {
    "duration": 44,
    "start_time": "2021-07-07T17:18:53.117Z"
   },
   {
    "duration": 3,
    "start_time": "2021-07-07T17:18:53.162Z"
   },
   {
    "duration": 26,
    "start_time": "2021-07-07T17:18:53.167Z"
   },
   {
    "duration": 6,
    "start_time": "2021-07-07T17:18:53.195Z"
   },
   {
    "duration": 15,
    "start_time": "2021-07-07T17:18:53.203Z"
   },
   {
    "duration": 5,
    "start_time": "2021-07-07T17:18:53.220Z"
   },
   {
    "duration": 11,
    "start_time": "2021-07-07T17:18:53.228Z"
   },
   {
    "duration": 9,
    "start_time": "2021-07-07T17:18:53.241Z"
   },
   {
    "duration": 41,
    "start_time": "2021-07-07T17:18:53.252Z"
   },
   {
    "duration": 33,
    "start_time": "2021-07-07T17:18:53.295Z"
   },
   {
    "duration": 19,
    "start_time": "2021-07-07T17:18:53.330Z"
   },
   {
    "duration": 49,
    "start_time": "2021-07-07T17:18:53.350Z"
   },
   {
    "duration": 5,
    "start_time": "2021-07-07T17:18:53.401Z"
   },
   {
    "duration": 5,
    "start_time": "2021-07-07T17:18:53.408Z"
   },
   {
    "duration": 11,
    "start_time": "2021-07-07T17:18:53.414Z"
   },
   {
    "duration": 9,
    "start_time": "2021-07-07T17:18:53.427Z"
   },
   {
    "duration": 10,
    "start_time": "2021-07-07T17:18:53.437Z"
   },
   {
    "duration": 39,
    "start_time": "2021-07-07T17:18:53.448Z"
   },
   {
    "duration": 26,
    "start_time": "2021-07-07T17:18:55.799Z"
   },
   {
    "duration": 598,
    "start_time": "2021-07-07T17:20:17.862Z"
   },
   {
    "duration": 161,
    "start_time": "2021-07-07T17:20:18.462Z"
   },
   {
    "duration": 45,
    "start_time": "2021-07-07T17:20:18.626Z"
   },
   {
    "duration": 4,
    "start_time": "2021-07-07T17:20:18.673Z"
   },
   {
    "duration": 38,
    "start_time": "2021-07-07T17:20:26.877Z"
   },
   {
    "duration": 7,
    "start_time": "2021-07-07T17:20:37.405Z"
   },
   {
    "duration": 19,
    "start_time": "2021-07-07T17:20:51.534Z"
   },
   {
    "duration": 5,
    "start_time": "2021-07-07T17:20:57.228Z"
   },
   {
    "duration": 7,
    "start_time": "2021-07-07T17:21:08.235Z"
   },
   {
    "duration": 19,
    "start_time": "2021-07-07T17:21:42.158Z"
   },
   {
    "duration": 14,
    "start_time": "2021-07-07T17:21:50.225Z"
   },
   {
    "duration": 22,
    "start_time": "2021-07-07T17:22:54.104Z"
   },
   {
    "duration": 5,
    "start_time": "2021-07-07T17:22:56.371Z"
   },
   {
    "duration": 14,
    "start_time": "2021-07-07T17:22:58.316Z"
   },
   {
    "duration": 5,
    "start_time": "2021-07-07T17:22:58.493Z"
   },
   {
    "duration": 35,
    "start_time": "2021-07-07T17:22:59.666Z"
   },
   {
    "duration": 6,
    "start_time": "2021-07-07T17:23:02.410Z"
   },
   {
    "duration": 611,
    "start_time": "2021-07-07T17:24:59.664Z"
   },
   {
    "duration": 178,
    "start_time": "2021-07-07T17:25:01.945Z"
   },
   {
    "duration": 47,
    "start_time": "2021-07-07T17:25:02.125Z"
   },
   {
    "duration": 2,
    "start_time": "2021-07-07T17:25:07.903Z"
   },
   {
    "duration": 254,
    "start_time": "2021-07-07T17:25:08.232Z"
   },
   {
    "duration": 182,
    "start_time": "2021-07-07T17:25:08.671Z"
   },
   {
    "duration": 6,
    "start_time": "2021-07-07T17:25:13.104Z"
   },
   {
    "duration": 36,
    "start_time": "2021-07-07T17:25:13.662Z"
   },
   {
    "duration": 7,
    "start_time": "2021-07-07T17:25:14.528Z"
   },
   {
    "duration": 24,
    "start_time": "2021-07-07T17:25:27.982Z"
   },
   {
    "duration": 3,
    "start_time": "2021-07-07T17:25:48.982Z"
   },
   {
    "duration": 165,
    "start_time": "2021-07-07T17:25:48.987Z"
   },
   {
    "duration": 50,
    "start_time": "2021-07-07T17:25:49.154Z"
   },
   {
    "duration": 4,
    "start_time": "2021-07-07T17:25:49.206Z"
   },
   {
    "duration": 26,
    "start_time": "2021-07-07T17:25:49.212Z"
   },
   {
    "duration": 7,
    "start_time": "2021-07-07T17:25:49.240Z"
   },
   {
    "duration": 16,
    "start_time": "2021-07-07T17:25:49.249Z"
   },
   {
    "duration": 22,
    "start_time": "2021-07-07T17:25:49.266Z"
   },
   {
    "duration": 16,
    "start_time": "2021-07-07T17:25:49.291Z"
   },
   {
    "duration": 9,
    "start_time": "2021-07-07T17:25:49.309Z"
   },
   {
    "duration": 7,
    "start_time": "2021-07-07T17:25:49.319Z"
   },
   {
    "duration": 28,
    "start_time": "2021-07-07T17:25:49.328Z"
   },
   {
    "duration": 44,
    "start_time": "2021-07-07T17:25:49.357Z"
   },
   {
    "duration": 22,
    "start_time": "2021-07-07T17:25:49.403Z"
   },
   {
    "duration": 7,
    "start_time": "2021-07-07T17:25:49.427Z"
   },
   {
    "duration": 3,
    "start_time": "2021-07-07T17:25:49.436Z"
   },
   {
    "duration": 44,
    "start_time": "2021-07-07T17:25:49.441Z"
   },
   {
    "duration": 12,
    "start_time": "2021-07-07T17:25:49.488Z"
   },
   {
    "duration": 13,
    "start_time": "2021-07-07T17:25:49.502Z"
   },
   {
    "duration": 10,
    "start_time": "2021-07-07T17:25:49.516Z"
   },
   {
    "duration": 62,
    "start_time": "2021-07-07T17:25:49.527Z"
   },
   {
    "duration": 26,
    "start_time": "2021-07-07T17:26:51.809Z"
   },
   {
    "duration": 26,
    "start_time": "2021-07-07T17:26:55.759Z"
   },
   {
    "duration": 26,
    "start_time": "2021-07-07T17:27:04.501Z"
   },
   {
    "duration": 25,
    "start_time": "2021-07-07T17:28:24.859Z"
   },
   {
    "duration": 21,
    "start_time": "2021-07-07T17:28:55.250Z"
   },
   {
    "duration": 21,
    "start_time": "2021-07-07T17:28:58.885Z"
   },
   {
    "duration": 7,
    "start_time": "2021-07-07T17:45:40.972Z"
   },
   {
    "duration": 13,
    "start_time": "2021-07-07T17:45:42.529Z"
   },
   {
    "duration": 27,
    "start_time": "2021-07-07T17:45:51.026Z"
   },
   {
    "duration": 518,
    "start_time": "2021-07-07T17:46:15.532Z"
   },
   {
    "duration": 235,
    "start_time": "2021-07-07T17:46:16.053Z"
   },
   {
    "duration": 80,
    "start_time": "2021-07-07T17:46:16.292Z"
   },
   {
    "duration": 5,
    "start_time": "2021-07-07T17:46:16.373Z"
   },
   {
    "duration": 26,
    "start_time": "2021-07-07T17:46:16.380Z"
   },
   {
    "duration": 7,
    "start_time": "2021-07-07T17:46:16.408Z"
   },
   {
    "duration": 16,
    "start_time": "2021-07-07T17:46:16.418Z"
   },
   {
    "duration": 5,
    "start_time": "2021-07-07T17:46:16.436Z"
   },
   {
    "duration": 13,
    "start_time": "2021-07-07T17:46:16.442Z"
   },
   {
    "duration": 35,
    "start_time": "2021-07-07T17:46:16.456Z"
   },
   {
    "duration": 8,
    "start_time": "2021-07-07T17:46:16.493Z"
   },
   {
    "duration": 28,
    "start_time": "2021-07-07T17:46:16.502Z"
   },
   {
    "duration": 17,
    "start_time": "2021-07-07T17:46:16.532Z"
   },
   {
    "duration": 44,
    "start_time": "2021-07-07T17:46:16.551Z"
   },
   {
    "duration": 6,
    "start_time": "2021-07-07T17:46:16.597Z"
   },
   {
    "duration": 4,
    "start_time": "2021-07-07T17:46:16.605Z"
   },
   {
    "duration": 9,
    "start_time": "2021-07-07T17:46:16.610Z"
   },
   {
    "duration": 9,
    "start_time": "2021-07-07T17:46:16.621Z"
   },
   {
    "duration": 10,
    "start_time": "2021-07-07T17:46:16.632Z"
   },
   {
    "duration": 43,
    "start_time": "2021-07-07T17:46:16.644Z"
   },
   {
    "duration": 26,
    "start_time": "2021-07-07T17:46:16.689Z"
   },
   {
    "duration": 19,
    "start_time": "2021-07-07T17:46:16.718Z"
   },
   {
    "duration": 8,
    "start_time": "2021-07-07T17:46:16.738Z"
   },
   {
    "duration": 43,
    "start_time": "2021-07-07T17:46:16.747Z"
   },
   {
    "duration": 19,
    "start_time": "2021-07-07T17:46:16.791Z"
   },
   {
    "duration": 9,
    "start_time": "2021-07-07T17:46:16.812Z"
   },
   {
    "duration": 60,
    "start_time": "2021-07-07T17:46:16.822Z"
   },
   {
    "duration": -8,
    "start_time": "2021-07-07T17:46:16.892Z"
   },
   {
    "duration": 12,
    "start_time": "2021-07-07T17:48:47.707Z"
   },
   {
    "duration": 553,
    "start_time": "2021-07-07T18:10:09.350Z"
   },
   {
    "duration": 230,
    "start_time": "2021-07-07T18:10:09.905Z"
   },
   {
    "duration": 97,
    "start_time": "2021-07-07T18:10:10.137Z"
   },
   {
    "duration": 5,
    "start_time": "2021-07-07T18:10:10.236Z"
   },
   {
    "duration": 29,
    "start_time": "2021-07-07T18:10:10.242Z"
   },
   {
    "duration": 7,
    "start_time": "2021-07-07T18:10:10.272Z"
   },
   {
    "duration": 15,
    "start_time": "2021-07-07T18:10:10.281Z"
   },
   {
    "duration": 4,
    "start_time": "2021-07-07T18:10:10.299Z"
   },
   {
    "duration": 14,
    "start_time": "2021-07-07T18:10:10.305Z"
   },
   {
    "duration": 8,
    "start_time": "2021-07-07T18:10:10.321Z"
   },
   {
    "duration": 8,
    "start_time": "2021-07-07T18:10:10.331Z"
   },
   {
    "duration": 56,
    "start_time": "2021-07-07T18:10:10.341Z"
   },
   {
    "duration": 19,
    "start_time": "2021-07-07T18:10:10.399Z"
   },
   {
    "duration": 23,
    "start_time": "2021-07-07T18:10:10.419Z"
   },
   {
    "duration": 6,
    "start_time": "2021-07-07T18:10:10.444Z"
   },
   {
    "duration": 9,
    "start_time": "2021-07-07T18:10:10.451Z"
   },
   {
    "duration": 30,
    "start_time": "2021-07-07T18:10:10.462Z"
   },
   {
    "duration": 9,
    "start_time": "2021-07-07T18:10:10.494Z"
   },
   {
    "duration": 14,
    "start_time": "2021-07-07T18:10:10.505Z"
   },
   {
    "duration": 7,
    "start_time": "2021-07-07T18:10:10.521Z"
   },
   {
    "duration": 26,
    "start_time": "2021-07-07T18:10:10.530Z"
   },
   {
    "duration": 44,
    "start_time": "2021-07-07T18:10:10.558Z"
   },
   {
    "duration": 7,
    "start_time": "2021-07-07T18:10:10.605Z"
   },
   {
    "duration": 11,
    "start_time": "2021-07-07T18:10:10.614Z"
   },
   {
    "duration": 19,
    "start_time": "2021-07-07T18:10:10.626Z"
   },
   {
    "duration": 44,
    "start_time": "2021-07-07T18:10:10.646Z"
   },
   {
    "duration": 516,
    "start_time": "2021-07-07T18:14:00.826Z"
   },
   {
    "duration": 230,
    "start_time": "2021-07-07T18:14:01.344Z"
   },
   {
    "duration": 105,
    "start_time": "2021-07-07T18:14:01.576Z"
   },
   {
    "duration": 5,
    "start_time": "2021-07-07T18:14:01.683Z"
   },
   {
    "duration": 46,
    "start_time": "2021-07-07T18:14:01.690Z"
   },
   {
    "duration": 7,
    "start_time": "2021-07-07T18:14:01.738Z"
   },
   {
    "duration": 20,
    "start_time": "2021-07-07T18:14:01.747Z"
   },
   {
    "duration": 16,
    "start_time": "2021-07-07T18:14:01.769Z"
   },
   {
    "duration": 14,
    "start_time": "2021-07-07T18:14:01.787Z"
   },
   {
    "duration": 15,
    "start_time": "2021-07-07T18:14:01.803Z"
   },
   {
    "duration": 12,
    "start_time": "2021-07-07T18:14:01.820Z"
   },
   {
    "duration": 35,
    "start_time": "2021-07-07T18:14:01.833Z"
   },
   {
    "duration": 31,
    "start_time": "2021-07-07T18:14:01.869Z"
   },
   {
    "duration": 37,
    "start_time": "2021-07-07T18:14:01.902Z"
   },
   {
    "duration": 8,
    "start_time": "2021-07-07T18:14:01.942Z"
   },
   {
    "duration": 16,
    "start_time": "2021-07-07T18:14:01.952Z"
   },
   {
    "duration": 13,
    "start_time": "2021-07-07T18:14:01.970Z"
   },
   {
    "duration": 32,
    "start_time": "2021-07-07T18:14:01.985Z"
   },
   {
    "duration": 11,
    "start_time": "2021-07-07T18:14:02.019Z"
   },
   {
    "duration": 22,
    "start_time": "2021-07-07T18:14:02.031Z"
   },
   {
    "duration": 27,
    "start_time": "2021-07-07T18:14:02.055Z"
   },
   {
    "duration": 18,
    "start_time": "2021-07-07T18:14:02.084Z"
   },
   {
    "duration": 18,
    "start_time": "2021-07-07T18:14:02.106Z"
   },
   {
    "duration": 11,
    "start_time": "2021-07-07T18:14:02.126Z"
   },
   {
    "duration": 21,
    "start_time": "2021-07-07T18:14:02.138Z"
   },
   {
    "duration": 32,
    "start_time": "2021-07-07T18:14:02.161Z"
   },
   {
    "duration": 28,
    "start_time": "2021-07-07T18:14:44.295Z"
   },
   {
    "duration": 6,
    "start_time": "2021-07-07T18:15:05.834Z"
   },
   {
    "duration": 511,
    "start_time": "2021-07-07T18:15:41.541Z"
   },
   {
    "duration": 183,
    "start_time": "2021-07-07T18:15:42.054Z"
   },
   {
    "duration": 50,
    "start_time": "2021-07-07T18:15:42.239Z"
   },
   {
    "duration": 5,
    "start_time": "2021-07-07T18:15:42.291Z"
   },
   {
    "duration": 48,
    "start_time": "2021-07-07T18:15:42.297Z"
   },
   {
    "duration": 8,
    "start_time": "2021-07-07T18:15:42.346Z"
   },
   {
    "duration": 17,
    "start_time": "2021-07-07T18:15:42.356Z"
   },
   {
    "duration": 15,
    "start_time": "2021-07-07T18:15:42.375Z"
   },
   {
    "duration": 12,
    "start_time": "2021-07-07T18:15:42.392Z"
   },
   {
    "duration": 7,
    "start_time": "2021-07-07T18:15:42.406Z"
   },
   {
    "duration": 7,
    "start_time": "2021-07-07T18:15:42.415Z"
   },
   {
    "duration": 29,
    "start_time": "2021-07-07T18:15:42.423Z"
   },
   {
    "duration": 43,
    "start_time": "2021-07-07T18:15:42.453Z"
   },
   {
    "duration": 18,
    "start_time": "2021-07-07T18:15:42.497Z"
   },
   {
    "duration": 6,
    "start_time": "2021-07-07T18:15:42.516Z"
   },
   {
    "duration": 3,
    "start_time": "2021-07-07T18:15:42.523Z"
   },
   {
    "duration": 18,
    "start_time": "2021-07-07T18:15:42.528Z"
   },
   {
    "duration": 10,
    "start_time": "2021-07-07T18:15:42.547Z"
   },
   {
    "duration": 36,
    "start_time": "2021-07-07T18:15:42.559Z"
   },
   {
    "duration": 8,
    "start_time": "2021-07-07T18:15:42.597Z"
   },
   {
    "duration": 28,
    "start_time": "2021-07-07T18:15:42.606Z"
   },
   {
    "duration": 52,
    "start_time": "2021-07-07T18:15:42.635Z"
   },
   {
    "duration": 7,
    "start_time": "2021-07-07T18:15:42.690Z"
   },
   {
    "duration": 10,
    "start_time": "2021-07-07T18:15:42.699Z"
   },
   {
    "duration": 19,
    "start_time": "2021-07-07T18:15:42.711Z"
   },
   {
    "duration": 9,
    "start_time": "2021-07-07T18:15:42.732Z"
   },
   {
    "duration": 5,
    "start_time": "2021-07-07T18:15:42.743Z"
   },
   {
    "duration": 1450,
    "start_time": "2021-07-07T18:15:51.984Z"
   },
   {
    "duration": 161,
    "start_time": "2021-07-07T18:15:53.435Z"
   },
   {
    "duration": 124,
    "start_time": "2021-07-07T18:15:53.598Z"
   },
   {
    "duration": 5,
    "start_time": "2021-07-07T18:15:53.724Z"
   },
   {
    "duration": 34,
    "start_time": "2021-07-07T18:15:53.730Z"
   },
   {
    "duration": 7,
    "start_time": "2021-07-07T18:15:53.765Z"
   },
   {
    "duration": 15,
    "start_time": "2021-07-07T18:15:53.773Z"
   },
   {
    "duration": 5,
    "start_time": "2021-07-07T18:15:53.791Z"
   },
   {
    "duration": 19,
    "start_time": "2021-07-07T18:15:53.798Z"
   },
   {
    "duration": 9,
    "start_time": "2021-07-07T18:15:53.818Z"
   },
   {
    "duration": 19,
    "start_time": "2021-07-07T18:15:53.828Z"
   },
   {
    "duration": 27,
    "start_time": "2021-07-07T18:15:53.848Z"
   },
   {
    "duration": 16,
    "start_time": "2021-07-07T18:15:53.884Z"
   },
   {
    "duration": 29,
    "start_time": "2021-07-07T18:15:53.901Z"
   },
   {
    "duration": 5,
    "start_time": "2021-07-07T18:15:53.932Z"
   },
   {
    "duration": 15,
    "start_time": "2021-07-07T18:15:53.939Z"
   },
   {
    "duration": 13,
    "start_time": "2021-07-07T18:15:53.956Z"
   },
   {
    "duration": 20,
    "start_time": "2021-07-07T18:15:53.971Z"
   },
   {
    "duration": 14,
    "start_time": "2021-07-07T18:15:53.992Z"
   },
   {
    "duration": 9,
    "start_time": "2021-07-07T18:15:54.009Z"
   },
   {
    "duration": 28,
    "start_time": "2021-07-07T18:15:54.020Z"
   },
   {
    "duration": 50,
    "start_time": "2021-07-07T18:15:54.051Z"
   },
   {
    "duration": 8,
    "start_time": "2021-07-07T18:15:54.105Z"
   },
   {
    "duration": 11,
    "start_time": "2021-07-07T18:15:54.115Z"
   },
   {
    "duration": 20,
    "start_time": "2021-07-07T18:15:54.128Z"
   },
   {
    "duration": 13,
    "start_time": "2021-07-07T18:15:54.184Z"
   },
   {
    "duration": 7,
    "start_time": "2021-07-07T18:15:54.199Z"
   },
   {
    "duration": 7,
    "start_time": "2021-07-07T18:17:08.042Z"
   },
   {
    "duration": 8,
    "start_time": "2021-07-07T18:17:21.008Z"
   },
   {
    "duration": 7,
    "start_time": "2021-07-07T18:17:29.003Z"
   },
   {
    "duration": 8,
    "start_time": "2021-07-07T18:17:32.492Z"
   },
   {
    "duration": 9,
    "start_time": "2021-07-07T18:17:41.758Z"
   },
   {
    "duration": 255,
    "start_time": "2021-07-07T18:20:20.897Z"
   },
   {
    "duration": 173,
    "start_time": "2021-07-07T18:20:26.636Z"
   },
   {
    "duration": 7,
    "start_time": "2021-07-07T18:21:47.164Z"
   },
   {
    "duration": 254,
    "start_time": "2021-07-07T18:23:08.703Z"
   },
   {
    "duration": 21,
    "start_time": "2021-07-07T18:23:22.506Z"
   },
   {
    "duration": 315,
    "start_time": "2021-07-07T18:25:54.801Z"
   },
   {
    "duration": 34,
    "start_time": "2021-07-07T18:26:51.817Z"
   },
   {
    "duration": 327,
    "start_time": "2021-07-07T18:26:56.147Z"
   },
   {
    "duration": 342,
    "start_time": "2021-07-07T18:27:15.887Z"
   },
   {
    "duration": 302,
    "start_time": "2021-07-07T18:28:18.569Z"
   },
   {
    "duration": 226,
    "start_time": "2021-07-07T18:29:20.879Z"
   },
   {
    "duration": 207,
    "start_time": "2021-07-07T18:29:58.114Z"
   },
   {
    "duration": 140,
    "start_time": "2021-07-07T18:32:04.372Z"
   },
   {
    "duration": 158,
    "start_time": "2021-07-07T18:32:32.508Z"
   },
   {
    "duration": 145,
    "start_time": "2021-07-07T18:32:41.365Z"
   },
   {
    "duration": 132,
    "start_time": "2021-07-07T18:32:45.199Z"
   },
   {
    "duration": 11,
    "start_time": "2021-07-07T18:35:24.679Z"
   },
   {
    "duration": 268,
    "start_time": "2021-07-07T18:36:16.145Z"
   },
   {
    "duration": 227,
    "start_time": "2021-07-07T18:37:04.918Z"
   },
   {
    "duration": 3,
    "start_time": "2021-07-07T18:37:33.012Z"
   },
   {
    "duration": 671,
    "start_time": "2021-07-07T18:37:38.295Z"
   },
   {
    "duration": 54,
    "start_time": "2021-07-07T18:37:53.406Z"
   },
   {
    "duration": 631,
    "start_time": "2021-07-07T18:37:56.463Z"
   },
   {
    "duration": 19,
    "start_time": "2021-07-07T18:39:40.535Z"
   },
   {
    "duration": 20,
    "start_time": "2021-07-07T18:40:12.236Z"
   },
   {
    "duration": 633,
    "start_time": "2021-07-07T18:42:00.398Z"
   },
   {
    "duration": 218,
    "start_time": "2021-07-07T18:42:01.033Z"
   },
   {
    "duration": 49,
    "start_time": "2021-07-07T18:42:01.253Z"
   },
   {
    "duration": 5,
    "start_time": "2021-07-07T18:42:01.303Z"
   },
   {
    "duration": 27,
    "start_time": "2021-07-07T18:42:01.310Z"
   },
   {
    "duration": 8,
    "start_time": "2021-07-07T18:42:01.339Z"
   },
   {
    "duration": 20,
    "start_time": "2021-07-07T18:42:01.348Z"
   },
   {
    "duration": 6,
    "start_time": "2021-07-07T18:42:01.386Z"
   },
   {
    "duration": 16,
    "start_time": "2021-07-07T18:42:01.394Z"
   },
   {
    "duration": 9,
    "start_time": "2021-07-07T18:42:01.411Z"
   },
   {
    "duration": 11,
    "start_time": "2021-07-07T18:42:01.421Z"
   },
   {
    "duration": 31,
    "start_time": "2021-07-07T18:42:01.434Z"
   },
   {
    "duration": 18,
    "start_time": "2021-07-07T18:42:01.485Z"
   },
   {
    "duration": 23,
    "start_time": "2021-07-07T18:42:01.505Z"
   },
   {
    "duration": 6,
    "start_time": "2021-07-07T18:42:01.530Z"
   },
   {
    "duration": 10,
    "start_time": "2021-07-07T18:42:01.538Z"
   },
   {
    "duration": 13,
    "start_time": "2021-07-07T18:42:01.550Z"
   },
   {
    "duration": 24,
    "start_time": "2021-07-07T18:42:01.564Z"
   },
   {
    "duration": 20,
    "start_time": "2021-07-07T18:42:01.590Z"
   },
   {
    "duration": 8,
    "start_time": "2021-07-07T18:42:01.611Z"
   },
   {
    "duration": 31,
    "start_time": "2021-07-07T18:42:01.620Z"
   },
   {
    "duration": 39,
    "start_time": "2021-07-07T18:42:01.653Z"
   },
   {
    "duration": 8,
    "start_time": "2021-07-07T18:42:01.696Z"
   },
   {
    "duration": 13,
    "start_time": "2021-07-07T18:42:01.705Z"
   },
   {
    "duration": 20,
    "start_time": "2021-07-07T18:42:01.720Z"
   },
   {
    "duration": 12,
    "start_time": "2021-07-07T18:42:01.741Z"
   },
   {
    "duration": 35,
    "start_time": "2021-07-07T18:42:01.755Z"
   },
   {
    "duration": 14,
    "start_time": "2021-07-07T18:42:01.792Z"
   },
   {
    "duration": 188,
    "start_time": "2021-07-07T18:42:01.808Z"
   },
   {
    "duration": 19,
    "start_time": "2021-07-07T18:42:01.998Z"
   },
   {
    "duration": 175,
    "start_time": "2021-07-07T18:42:02.019Z"
   },
   {
    "duration": 134,
    "start_time": "2021-07-07T18:42:02.196Z"
   },
   {
    "duration": 10,
    "start_time": "2021-07-07T18:42:02.331Z"
   },
   {
    "duration": 19,
    "start_time": "2021-07-07T18:42:02.343Z"
   },
   {
    "duration": 628,
    "start_time": "2021-07-07T18:46:30.701Z"
   },
   {
    "duration": 183,
    "start_time": "2021-07-07T18:46:31.331Z"
   },
   {
    "duration": 48,
    "start_time": "2021-07-07T18:46:31.516Z"
   },
   {
    "duration": 5,
    "start_time": "2021-07-07T18:46:31.566Z"
   },
   {
    "duration": 28,
    "start_time": "2021-07-07T18:46:31.572Z"
   },
   {
    "duration": 8,
    "start_time": "2021-07-07T18:46:31.602Z"
   },
   {
    "duration": 19,
    "start_time": "2021-07-07T18:46:31.611Z"
   },
   {
    "duration": 6,
    "start_time": "2021-07-07T18:46:31.633Z"
   },
   {
    "duration": 17,
    "start_time": "2021-07-07T18:46:31.642Z"
   },
   {
    "duration": 10,
    "start_time": "2021-07-07T18:46:31.684Z"
   },
   {
    "duration": 9,
    "start_time": "2021-07-07T18:46:31.695Z"
   },
   {
    "duration": 28,
    "start_time": "2021-07-07T18:46:31.705Z"
   },
   {
    "duration": 18,
    "start_time": "2021-07-07T18:46:31.735Z"
   },
   {
    "duration": 48,
    "start_time": "2021-07-07T18:46:31.755Z"
   },
   {
    "duration": 6,
    "start_time": "2021-07-07T18:46:31.804Z"
   },
   {
    "duration": 4,
    "start_time": "2021-07-07T18:46:31.812Z"
   },
   {
    "duration": 9,
    "start_time": "2021-07-07T18:46:31.817Z"
   },
   {
    "duration": 10,
    "start_time": "2021-07-07T18:46:31.827Z"
   },
   {
    "duration": 12,
    "start_time": "2021-07-07T18:46:31.838Z"
   },
   {
    "duration": 39,
    "start_time": "2021-07-07T18:46:31.851Z"
   },
   {
    "duration": 24,
    "start_time": "2021-07-07T18:46:31.892Z"
   },
   {
    "duration": 15,
    "start_time": "2021-07-07T18:46:31.918Z"
   },
   {
    "duration": 7,
    "start_time": "2021-07-07T18:46:31.936Z"
   },
   {
    "duration": 8,
    "start_time": "2021-07-07T18:46:31.944Z"
   },
   {
    "duration": 19,
    "start_time": "2021-07-07T18:46:31.984Z"
   },
   {
    "duration": 10,
    "start_time": "2021-07-07T18:46:32.004Z"
   },
   {
    "duration": 5,
    "start_time": "2021-07-07T18:46:32.016Z"
   },
   {
    "duration": 9,
    "start_time": "2021-07-07T18:46:32.023Z"
   },
   {
    "duration": 199,
    "start_time": "2021-07-07T18:46:32.033Z"
   },
   {
    "duration": 19,
    "start_time": "2021-07-07T18:46:32.234Z"
   },
   {
    "duration": 159,
    "start_time": "2021-07-07T18:46:32.255Z"
   },
   {
    "duration": 134,
    "start_time": "2021-07-07T18:46:32.416Z"
   },
   {
    "duration": 10,
    "start_time": "2021-07-07T18:46:32.552Z"
   },
   {
    "duration": 34,
    "start_time": "2021-07-07T18:46:32.563Z"
   },
   {
    "duration": 1039,
    "start_time": "2021-07-08T08:41:09.419Z"
   },
   {
    "duration": 333,
    "start_time": "2021-07-08T08:41:10.459Z"
   },
   {
    "duration": 173,
    "start_time": "2021-07-08T08:41:10.794Z"
   },
   {
    "duration": 5,
    "start_time": "2021-07-08T08:41:10.968Z"
   },
   {
    "duration": 25,
    "start_time": "2021-07-08T08:41:10.975Z"
   },
   {
    "duration": 9,
    "start_time": "2021-07-08T08:41:11.002Z"
   },
   {
    "duration": 18,
    "start_time": "2021-07-08T08:41:11.013Z"
   },
   {
    "duration": 6,
    "start_time": "2021-07-08T08:41:11.033Z"
   },
   {
    "duration": 44,
    "start_time": "2021-07-08T08:41:11.042Z"
   },
   {
    "duration": 10,
    "start_time": "2021-07-08T08:41:11.088Z"
   },
   {
    "duration": 9,
    "start_time": "2021-07-08T08:41:11.100Z"
   },
   {
    "duration": 27,
    "start_time": "2021-07-08T08:41:11.111Z"
   },
   {
    "duration": 46,
    "start_time": "2021-07-08T08:41:11.140Z"
   },
   {
    "duration": 17,
    "start_time": "2021-07-08T08:41:11.187Z"
   },
   {
    "duration": 6,
    "start_time": "2021-07-08T08:41:11.206Z"
   },
   {
    "duration": 5,
    "start_time": "2021-07-08T08:41:11.213Z"
   },
   {
    "duration": 10,
    "start_time": "2021-07-08T08:41:11.219Z"
   },
   {
    "duration": 9,
    "start_time": "2021-07-08T08:41:11.230Z"
   },
   {
    "duration": 45,
    "start_time": "2021-07-08T08:41:11.241Z"
   },
   {
    "duration": 7,
    "start_time": "2021-07-08T08:41:11.287Z"
   },
   {
    "duration": 24,
    "start_time": "2021-07-08T08:41:11.296Z"
   },
   {
    "duration": 16,
    "start_time": "2021-07-08T08:41:11.322Z"
   },
   {
    "duration": 7,
    "start_time": "2021-07-08T08:41:11.341Z"
   },
   {
    "duration": 41,
    "start_time": "2021-07-08T08:41:11.349Z"
   },
   {
    "duration": 17,
    "start_time": "2021-07-08T08:41:11.391Z"
   },
   {
    "duration": 9,
    "start_time": "2021-07-08T08:41:11.410Z"
   },
   {
    "duration": 5,
    "start_time": "2021-07-08T08:41:11.421Z"
   },
   {
    "duration": 6,
    "start_time": "2021-07-08T08:41:11.428Z"
   },
   {
    "duration": 198,
    "start_time": "2021-07-08T08:41:11.435Z"
   },
   {
    "duration": 18,
    "start_time": "2021-07-08T08:41:11.635Z"
   },
   {
    "duration": 155,
    "start_time": "2021-07-08T08:41:11.655Z"
   },
   {
    "duration": 138,
    "start_time": "2021-07-08T08:41:11.811Z"
   },
   {
    "duration": 10,
    "start_time": "2021-07-08T08:41:11.950Z"
   },
   {
    "duration": 29,
    "start_time": "2021-07-08T08:41:11.961Z"
   },
   {
    "duration": 171,
    "start_time": "2021-07-08T08:47:44.522Z"
   },
   {
    "duration": 124,
    "start_time": "2021-07-08T08:47:46.872Z"
   },
   {
    "duration": 191,
    "start_time": "2021-07-08T08:47:58.148Z"
   },
   {
    "duration": 191,
    "start_time": "2021-07-08T08:48:07.412Z"
   },
   {
    "duration": 261,
    "start_time": "2021-07-08T08:48:10.385Z"
   },
   {
    "duration": 255,
    "start_time": "2021-07-08T08:48:14.494Z"
   },
   {
    "duration": 219,
    "start_time": "2021-07-08T08:48:22.752Z"
   },
   {
    "duration": 173,
    "start_time": "2021-07-08T08:49:06.395Z"
   },
   {
    "duration": 180,
    "start_time": "2021-07-08T08:49:21.011Z"
   },
   {
    "duration": 6,
    "start_time": "2021-07-08T08:50:31.697Z"
   },
   {
    "duration": 10,
    "start_time": "2021-07-08T08:50:47.394Z"
   },
   {
    "duration": 11,
    "start_time": "2021-07-08T08:53:49.332Z"
   },
   {
    "duration": 171,
    "start_time": "2021-07-08T08:54:28.408Z"
   },
   {
    "duration": 636,
    "start_time": "2021-07-08T09:02:48.385Z"
   },
   {
    "duration": 227,
    "start_time": "2021-07-08T09:02:49.023Z"
   },
   {
    "duration": 104,
    "start_time": "2021-07-08T09:02:49.252Z"
   },
   {
    "duration": 5,
    "start_time": "2021-07-08T09:02:49.358Z"
   },
   {
    "duration": 27,
    "start_time": "2021-07-08T09:02:49.365Z"
   },
   {
    "duration": 8,
    "start_time": "2021-07-08T09:02:49.394Z"
   },
   {
    "duration": 18,
    "start_time": "2021-07-08T09:02:49.404Z"
   },
   {
    "duration": 6,
    "start_time": "2021-07-08T09:02:49.424Z"
   },
   {
    "duration": 11,
    "start_time": "2021-07-08T09:02:49.433Z"
   },
   {
    "duration": 13,
    "start_time": "2021-07-08T09:02:49.485Z"
   },
   {
    "duration": 9,
    "start_time": "2021-07-08T09:02:49.500Z"
   },
   {
    "duration": 38,
    "start_time": "2021-07-08T09:02:49.511Z"
   },
   {
    "duration": 42,
    "start_time": "2021-07-08T09:02:49.551Z"
   },
   {
    "duration": 21,
    "start_time": "2021-07-08T09:02:49.594Z"
   },
   {
    "duration": 6,
    "start_time": "2021-07-08T09:02:49.616Z"
   },
   {
    "duration": 3,
    "start_time": "2021-07-08T09:02:49.623Z"
   },
   {
    "duration": 9,
    "start_time": "2021-07-08T09:02:49.628Z"
   },
   {
    "duration": 52,
    "start_time": "2021-07-08T09:02:49.638Z"
   },
   {
    "duration": 11,
    "start_time": "2021-07-08T09:02:49.692Z"
   },
   {
    "duration": 8,
    "start_time": "2021-07-08T09:02:49.704Z"
   },
   {
    "duration": 27,
    "start_time": "2021-07-08T09:02:49.713Z"
   },
   {
    "duration": 59,
    "start_time": "2021-07-08T09:02:49.741Z"
   },
   {
    "duration": 8,
    "start_time": "2021-07-08T09:02:49.803Z"
   },
   {
    "duration": 14,
    "start_time": "2021-07-08T09:02:49.813Z"
   },
   {
    "duration": 20,
    "start_time": "2021-07-08T09:02:49.829Z"
   },
   {
    "duration": 44,
    "start_time": "2021-07-08T09:02:49.851Z"
   },
   {
    "duration": 14,
    "start_time": "2021-07-08T09:02:49.896Z"
   },
   {
    "duration": 221,
    "start_time": "2021-07-08T09:02:49.912Z"
   },
   {
    "duration": 6,
    "start_time": "2021-07-08T09:02:50.134Z"
   },
   {
    "duration": 206,
    "start_time": "2021-07-08T09:02:50.142Z"
   },
   {
    "duration": 19,
    "start_time": "2021-07-08T09:02:50.350Z"
   },
   {
    "duration": 21,
    "start_time": "2021-07-08T09:02:50.370Z"
   },
   {
    "duration": 20,
    "start_time": "2021-07-08T09:02:50.393Z"
   },
   {
    "duration": 5,
    "start_time": "2021-07-08T09:02:50.414Z"
   },
   {
    "duration": 5,
    "start_time": "2021-07-08T09:03:34.173Z"
   },
   {
    "duration": 6,
    "start_time": "2021-07-08T09:04:49.062Z"
   },
   {
    "duration": 9,
    "start_time": "2021-07-08T09:04:50.118Z"
   },
   {
    "duration": 14,
    "start_time": "2021-07-08T09:04:58.512Z"
   },
   {
    "duration": 9,
    "start_time": "2021-07-08T09:05:10.988Z"
   },
   {
    "duration": 11,
    "start_time": "2021-07-08T09:05:11.743Z"
   },
   {
    "duration": 7,
    "start_time": "2021-07-08T09:05:25.677Z"
   },
   {
    "duration": 13,
    "start_time": "2021-07-08T09:05:47.189Z"
   },
   {
    "duration": 13,
    "start_time": "2021-07-08T09:05:54.755Z"
   },
   {
    "duration": 4,
    "start_time": "2021-07-08T09:06:29.189Z"
   },
   {
    "duration": 244,
    "start_time": "2021-07-08T09:06:29.195Z"
   },
   {
    "duration": 91,
    "start_time": "2021-07-08T09:06:29.441Z"
   },
   {
    "duration": 4,
    "start_time": "2021-07-08T09:06:29.534Z"
   },
   {
    "duration": 28,
    "start_time": "2021-07-08T09:06:29.540Z"
   },
   {
    "duration": 6,
    "start_time": "2021-07-08T09:06:29.570Z"
   },
   {
    "duration": 18,
    "start_time": "2021-07-08T09:06:29.578Z"
   },
   {
    "duration": 5,
    "start_time": "2021-07-08T09:06:29.597Z"
   },
   {
    "duration": 13,
    "start_time": "2021-07-08T09:06:29.605Z"
   },
   {
    "duration": 8,
    "start_time": "2021-07-08T09:06:29.620Z"
   },
   {
    "duration": 7,
    "start_time": "2021-07-08T09:06:29.630Z"
   },
   {
    "duration": 63,
    "start_time": "2021-07-08T09:06:29.639Z"
   },
   {
    "duration": 17,
    "start_time": "2021-07-08T09:06:29.704Z"
   },
   {
    "duration": 20,
    "start_time": "2021-07-08T09:06:29.723Z"
   },
   {
    "duration": 6,
    "start_time": "2021-07-08T09:06:29.745Z"
   },
   {
    "duration": 3,
    "start_time": "2021-07-08T09:06:29.752Z"
   },
   {
    "duration": 7,
    "start_time": "2021-07-08T09:06:29.785Z"
   },
   {
    "duration": 11,
    "start_time": "2021-07-08T09:06:29.794Z"
   },
   {
    "duration": 15,
    "start_time": "2021-07-08T09:06:29.807Z"
   },
   {
    "duration": 8,
    "start_time": "2021-07-08T09:06:29.823Z"
   },
   {
    "duration": 70,
    "start_time": "2021-07-08T09:06:29.832Z"
   },
   {
    "duration": 17,
    "start_time": "2021-07-08T09:06:29.903Z"
   },
   {
    "duration": 9,
    "start_time": "2021-07-08T09:06:29.921Z"
   },
   {
    "duration": 9,
    "start_time": "2021-07-08T09:06:29.932Z"
   },
   {
    "duration": 57,
    "start_time": "2021-07-08T09:06:29.942Z"
   },
   {
    "duration": 11,
    "start_time": "2021-07-08T09:06:30.001Z"
   },
   {
    "duration": 19,
    "start_time": "2021-07-08T09:06:30.016Z"
   },
   {
    "duration": 217,
    "start_time": "2021-07-08T09:06:30.037Z"
   },
   {
    "duration": 6,
    "start_time": "2021-07-08T09:06:30.255Z"
   },
   {
    "duration": 205,
    "start_time": "2021-07-08T09:06:30.263Z"
   },
   {
    "duration": 27,
    "start_time": "2021-07-08T09:06:30.470Z"
   },
   {
    "duration": 11,
    "start_time": "2021-07-08T09:06:30.500Z"
   },
   {
    "duration": 31,
    "start_time": "2021-07-08T09:06:30.513Z"
   },
   {
    "duration": 18,
    "start_time": "2021-07-08T09:06:30.546Z"
   },
   {
    "duration": 11,
    "start_time": "2021-07-08T09:06:30.566Z"
   },
   {
    "duration": 19,
    "start_time": "2021-07-08T09:06:30.579Z"
   },
   {
    "duration": 20,
    "start_time": "2021-07-08T09:06:49.466Z"
   },
   {
    "duration": 9,
    "start_time": "2021-07-08T09:06:51.994Z"
   },
   {
    "duration": 20,
    "start_time": "2021-07-08T09:06:52.273Z"
   },
   {
    "duration": 246,
    "start_time": "2021-07-08T09:10:21.272Z"
   },
   {
    "duration": 84,
    "start_time": "2021-07-08T09:10:21.436Z"
   },
   {
    "duration": 7,
    "start_time": "2021-07-08T09:10:37.608Z"
   },
   {
    "duration": 189,
    "start_time": "2021-07-08T09:10:38.573Z"
   },
   {
    "duration": 185,
    "start_time": "2021-07-08T09:10:53.181Z"
   },
   {
    "duration": 11,
    "start_time": "2021-07-08T09:10:59.549Z"
   },
   {
    "duration": 42,
    "start_time": "2021-07-08T09:10:59.709Z"
   },
   {
    "duration": 12,
    "start_time": "2021-07-08T09:11:02.857Z"
   },
   {
    "duration": 28,
    "start_time": "2021-07-08T09:11:10.062Z"
   },
   {
    "duration": 249,
    "start_time": "2021-07-08T09:11:37.388Z"
   },
   {
    "duration": 232,
    "start_time": "2021-07-08T09:11:49.485Z"
   },
   {
    "duration": 453,
    "start_time": "2021-07-08T09:12:01.546Z"
   },
   {
    "duration": 440,
    "start_time": "2021-07-08T09:12:12.347Z"
   },
   {
    "duration": 213,
    "start_time": "2021-07-08T09:13:32.196Z"
   },
   {
    "duration": 172,
    "start_time": "2021-07-08T09:14:07.400Z"
   },
   {
    "duration": 185,
    "start_time": "2021-07-08T09:14:14.905Z"
   },
   {
    "duration": 209,
    "start_time": "2021-07-08T09:14:40.109Z"
   },
   {
    "duration": 201,
    "start_time": "2021-07-08T09:14:54.506Z"
   },
   {
    "duration": 622,
    "start_time": "2021-07-08T09:18:14.497Z"
   },
   {
    "duration": 220,
    "start_time": "2021-07-08T09:18:15.121Z"
   },
   {
    "duration": 79,
    "start_time": "2021-07-08T09:18:15.343Z"
   },
   {
    "duration": 4,
    "start_time": "2021-07-08T09:18:15.425Z"
   },
   {
    "duration": 24,
    "start_time": "2021-07-08T09:18:15.431Z"
   },
   {
    "duration": 8,
    "start_time": "2021-07-08T09:18:15.457Z"
   },
   {
    "duration": 16,
    "start_time": "2021-07-08T09:18:15.466Z"
   },
   {
    "duration": 5,
    "start_time": "2021-07-08T09:18:15.484Z"
   },
   {
    "duration": 10,
    "start_time": "2021-07-08T09:18:15.493Z"
   },
   {
    "duration": 8,
    "start_time": "2021-07-08T09:18:15.504Z"
   },
   {
    "duration": 7,
    "start_time": "2021-07-08T09:18:15.513Z"
   },
   {
    "duration": 26,
    "start_time": "2021-07-08T09:18:15.522Z"
   },
   {
    "duration": 49,
    "start_time": "2021-07-08T09:18:15.550Z"
   },
   {
    "duration": 21,
    "start_time": "2021-07-08T09:18:15.601Z"
   },
   {
    "duration": 8,
    "start_time": "2021-07-08T09:18:15.624Z"
   },
   {
    "duration": 3,
    "start_time": "2021-07-08T09:18:15.634Z"
   },
   {
    "duration": 8,
    "start_time": "2021-07-08T09:18:15.639Z"
   },
   {
    "duration": 45,
    "start_time": "2021-07-08T09:18:15.649Z"
   },
   {
    "duration": 13,
    "start_time": "2021-07-08T09:18:15.696Z"
   },
   {
    "duration": 10,
    "start_time": "2021-07-08T09:18:15.711Z"
   },
   {
    "duration": 64,
    "start_time": "2021-07-08T09:18:15.722Z"
   },
   {
    "duration": 19,
    "start_time": "2021-07-08T09:18:15.788Z"
   },
   {
    "duration": 9,
    "start_time": "2021-07-08T09:18:15.809Z"
   },
   {
    "duration": 9,
    "start_time": "2021-07-08T09:18:15.820Z"
   },
   {
    "duration": 18,
    "start_time": "2021-07-08T09:18:15.831Z"
   },
   {
    "duration": 43,
    "start_time": "2021-07-08T09:18:15.851Z"
   },
   {
    "duration": 12,
    "start_time": "2021-07-08T09:18:15.897Z"
   },
   {
    "duration": 219,
    "start_time": "2021-07-08T09:18:15.911Z"
   },
   {
    "duration": 8,
    "start_time": "2021-07-08T09:18:16.132Z"
   },
   {
    "duration": 199,
    "start_time": "2021-07-08T09:18:16.141Z"
   },
   {
    "duration": 18,
    "start_time": "2021-07-08T09:18:16.341Z"
   },
   {
    "duration": 24,
    "start_time": "2021-07-08T09:18:16.361Z"
   },
   {
    "duration": 24,
    "start_time": "2021-07-08T09:18:16.387Z"
   },
   {
    "duration": 211,
    "start_time": "2021-07-08T09:18:16.413Z"
   },
   {
    "duration": 18,
    "start_time": "2021-07-08T09:18:16.626Z"
   },
   {
    "duration": 596,
    "start_time": "2021-07-08T10:06:33.623Z"
   },
   {
    "duration": 181,
    "start_time": "2021-07-08T10:06:34.221Z"
   },
   {
    "duration": 176,
    "start_time": "2021-07-08T10:06:34.635Z"
   },
   {
    "duration": 239,
    "start_time": "2021-07-08T10:06:55.572Z"
   },
   {
    "duration": 6,
    "start_time": "2021-07-08T10:06:57.687Z"
   },
   {
    "duration": 4,
    "start_time": "2021-07-08T10:07:03.956Z"
   },
   {
    "duration": 4,
    "start_time": "2021-07-08T10:07:10.376Z"
   },
   {
    "duration": 4,
    "start_time": "2021-07-08T10:17:19.889Z"
   },
   {
    "duration": 3,
    "start_time": "2021-07-08T10:19:19.407Z"
   },
   {
    "duration": 197,
    "start_time": "2021-07-08T10:19:19.412Z"
   },
   {
    "duration": 127,
    "start_time": "2021-07-08T10:19:19.611Z"
   },
   {
    "duration": 4,
    "start_time": "2021-07-08T10:19:19.740Z"
   },
   {
    "duration": 27,
    "start_time": "2021-07-08T10:19:19.746Z"
   },
   {
    "duration": 7,
    "start_time": "2021-07-08T10:19:19.775Z"
   },
   {
    "duration": 30,
    "start_time": "2021-07-08T10:19:19.784Z"
   },
   {
    "duration": 7,
    "start_time": "2021-07-08T10:19:19.817Z"
   },
   {
    "duration": 26,
    "start_time": "2021-07-08T10:19:19.826Z"
   },
   {
    "duration": 18,
    "start_time": "2021-07-08T10:19:19.854Z"
   },
   {
    "duration": 14,
    "start_time": "2021-07-08T10:19:19.874Z"
   },
   {
    "duration": 48,
    "start_time": "2021-07-08T10:19:19.890Z"
   },
   {
    "duration": 17,
    "start_time": "2021-07-08T10:19:19.940Z"
   },
   {
    "duration": 38,
    "start_time": "2021-07-08T10:19:19.959Z"
   },
   {
    "duration": 8,
    "start_time": "2021-07-08T10:19:19.999Z"
   },
   {
    "duration": 15,
    "start_time": "2021-07-08T10:19:20.009Z"
   },
   {
    "duration": 22,
    "start_time": "2021-07-08T10:19:20.026Z"
   },
   {
    "duration": 10,
    "start_time": "2021-07-08T10:19:20.050Z"
   },
   {
    "duration": 10,
    "start_time": "2021-07-08T10:19:20.062Z"
   },
   {
    "duration": 20,
    "start_time": "2021-07-08T10:19:20.073Z"
   },
   {
    "duration": 29,
    "start_time": "2021-07-08T10:19:20.095Z"
   },
   {
    "duration": 17,
    "start_time": "2021-07-08T10:19:20.126Z"
   },
   {
    "duration": 40,
    "start_time": "2021-07-08T10:19:20.146Z"
   },
   {
    "duration": 15,
    "start_time": "2021-07-08T10:19:20.189Z"
   },
   {
    "duration": 19,
    "start_time": "2021-07-08T10:19:20.206Z"
   },
   {
    "duration": 10,
    "start_time": "2021-07-08T10:19:20.226Z"
   },
   {
    "duration": 11,
    "start_time": "2021-07-08T10:19:20.238Z"
   },
   {
    "duration": 297,
    "start_time": "2021-07-08T10:19:20.250Z"
   },
   {
    "duration": 6,
    "start_time": "2021-07-08T10:19:20.549Z"
   },
   {
    "duration": 191,
    "start_time": "2021-07-08T10:19:20.557Z"
   },
   {
    "duration": 19,
    "start_time": "2021-07-08T10:19:20.750Z"
   },
   {
    "duration": 20,
    "start_time": "2021-07-08T10:19:20.771Z"
   },
   {
    "duration": 15,
    "start_time": "2021-07-08T10:19:20.793Z"
   },
   {
    "duration": 222,
    "start_time": "2021-07-08T10:19:20.809Z"
   },
   {
    "duration": 20,
    "start_time": "2021-07-08T10:19:21.033Z"
   },
   {
    "duration": 27,
    "start_time": "2021-07-08T10:45:04.055Z"
   },
   {
    "duration": 8,
    "start_time": "2021-07-08T10:45:08.478Z"
   },
   {
    "duration": 8,
    "start_time": "2021-07-08T10:45:31.982Z"
   },
   {
    "duration": 10,
    "start_time": "2021-07-08T10:46:01.221Z"
   },
   {
    "duration": 17,
    "start_time": "2021-07-08T10:46:40.011Z"
   },
   {
    "duration": 193,
    "start_time": "2021-07-08T10:48:19.471Z"
   },
   {
    "duration": 225,
    "start_time": "2021-07-08T10:49:26.480Z"
   },
   {
    "duration": 204,
    "start_time": "2021-07-08T10:49:59.992Z"
   },
   {
    "duration": 435,
    "start_time": "2021-07-08T10:50:06.779Z"
   },
   {
    "duration": 199,
    "start_time": "2021-07-08T10:50:14.891Z"
   },
   {
    "duration": 204,
    "start_time": "2021-07-08T10:50:18.501Z"
   },
   {
    "duration": 244,
    "start_time": "2021-07-08T10:50:23.359Z"
   },
   {
    "duration": 192,
    "start_time": "2021-07-08T10:50:29.135Z"
   },
   {
    "duration": 218,
    "start_time": "2021-07-08T10:50:33.092Z"
   },
   {
    "duration": 207,
    "start_time": "2021-07-08T10:52:45.381Z"
   },
   {
    "duration": 5,
    "start_time": "2021-07-08T10:53:34.641Z"
   },
   {
    "duration": 196,
    "start_time": "2021-07-08T10:53:41.478Z"
   },
   {
    "duration": 43,
    "start_time": "2021-07-08T10:53:50.335Z"
   },
   {
    "duration": 32,
    "start_time": "2021-07-08T10:53:55.294Z"
   },
   {
    "duration": 55,
    "start_time": "2021-07-08T10:54:09.675Z"
   },
   {
    "duration": 16,
    "start_time": "2021-07-08T10:54:12.260Z"
   },
   {
    "duration": 15,
    "start_time": "2021-07-08T10:54:49.150Z"
   },
   {
    "duration": 20,
    "start_time": "2021-07-08T10:56:07.596Z"
   },
   {
    "duration": 16,
    "start_time": "2021-07-08T10:58:26.276Z"
   },
   {
    "duration": 22,
    "start_time": "2021-07-08T10:59:00.486Z"
   },
   {
    "duration": 18,
    "start_time": "2021-07-08T11:02:09.653Z"
   },
   {
    "duration": 10,
    "start_time": "2021-07-08T11:03:44.331Z"
   },
   {
    "duration": 10,
    "start_time": "2021-07-08T11:03:54.055Z"
   },
   {
    "duration": 12,
    "start_time": "2021-07-08T11:04:41.967Z"
   },
   {
    "duration": 24,
    "start_time": "2021-07-08T11:07:30.732Z"
   },
   {
    "duration": 6,
    "start_time": "2021-07-08T11:07:37.364Z"
   },
   {
    "duration": 16,
    "start_time": "2021-07-08T11:08:01.819Z"
   },
   {
    "duration": 17,
    "start_time": "2021-07-08T11:09:47.488Z"
   },
   {
    "duration": 246,
    "start_time": "2021-07-08T11:10:00.830Z"
   },
   {
    "duration": 18,
    "start_time": "2021-07-08T11:13:55.195Z"
   },
   {
    "duration": 204,
    "start_time": "2021-07-08T11:14:04.951Z"
   },
   {
    "duration": 19,
    "start_time": "2021-07-08T11:15:10.613Z"
   },
   {
    "duration": 680,
    "start_time": "2021-07-08T11:16:25.793Z"
   },
   {
    "duration": 451,
    "start_time": "2021-07-08T11:16:40.313Z"
   },
   {
    "duration": 469,
    "start_time": "2021-07-08T11:17:21.286Z"
   },
   {
    "duration": 20,
    "start_time": "2021-07-08T11:19:12.554Z"
   },
   {
    "duration": 35,
    "start_time": "2021-07-08T11:20:05.484Z"
   },
   {
    "duration": 53,
    "start_time": "2021-07-08T11:21:40.050Z"
   },
   {
    "duration": 13,
    "start_time": "2021-07-08T11:22:26.059Z"
   },
   {
    "duration": 19,
    "start_time": "2021-07-08T11:22:47.419Z"
   },
   {
    "duration": 25,
    "start_time": "2021-07-08T11:23:19.958Z"
   },
   {
    "duration": 29,
    "start_time": "2021-07-08T11:23:25.415Z"
   },
   {
    "duration": 10,
    "start_time": "2021-07-08T11:24:45.138Z"
   },
   {
    "duration": 19,
    "start_time": "2021-07-08T11:24:54.498Z"
   },
   {
    "duration": 12,
    "start_time": "2021-07-08T11:25:32.225Z"
   },
   {
    "duration": 19,
    "start_time": "2021-07-08T11:25:37.092Z"
   },
   {
    "duration": 17,
    "start_time": "2021-07-08T11:25:58.116Z"
   },
   {
    "duration": 15,
    "start_time": "2021-07-08T11:26:02.258Z"
   },
   {
    "duration": 8,
    "start_time": "2021-07-08T11:26:59.682Z"
   },
   {
    "duration": 184,
    "start_time": "2021-07-08T11:27:21.894Z"
   },
   {
    "duration": 8,
    "start_time": "2021-07-08T11:27:23.824Z"
   },
   {
    "duration": 202,
    "start_time": "2021-07-08T11:27:23.962Z"
   },
   {
    "duration": 360,
    "start_time": "2021-07-08T11:28:33.215Z"
   },
   {
    "duration": 231,
    "start_time": "2021-07-08T11:32:05.542Z"
   },
   {
    "duration": 607,
    "start_time": "2021-07-08T11:36:27.854Z"
   },
   {
    "duration": 241,
    "start_time": "2021-07-08T11:36:28.463Z"
   },
   {
    "duration": 67,
    "start_time": "2021-07-08T11:36:28.709Z"
   },
   {
    "duration": 5,
    "start_time": "2021-07-08T11:36:28.778Z"
   },
   {
    "duration": 32,
    "start_time": "2021-07-08T11:36:28.784Z"
   },
   {
    "duration": 11,
    "start_time": "2021-07-08T11:36:28.819Z"
   },
   {
    "duration": 20,
    "start_time": "2021-07-08T11:36:28.834Z"
   },
   {
    "duration": 36,
    "start_time": "2021-07-08T11:36:28.857Z"
   },
   {
    "duration": 16,
    "start_time": "2021-07-08T11:36:28.895Z"
   },
   {
    "duration": 14,
    "start_time": "2021-07-08T11:36:28.913Z"
   },
   {
    "duration": 9,
    "start_time": "2021-07-08T11:36:28.930Z"
   },
   {
    "duration": 55,
    "start_time": "2021-07-08T11:36:28.941Z"
   },
   {
    "duration": 27,
    "start_time": "2021-07-08T11:36:28.999Z"
   },
   {
    "duration": 30,
    "start_time": "2021-07-08T11:36:29.028Z"
   },
   {
    "duration": 31,
    "start_time": "2021-07-08T11:36:29.060Z"
   },
   {
    "duration": 3,
    "start_time": "2021-07-08T11:36:29.093Z"
   },
   {
    "duration": 12,
    "start_time": "2021-07-08T11:36:29.099Z"
   },
   {
    "duration": 11,
    "start_time": "2021-07-08T11:36:29.112Z"
   },
   {
    "duration": 12,
    "start_time": "2021-07-08T11:36:29.125Z"
   },
   {
    "duration": 9,
    "start_time": "2021-07-08T11:36:29.139Z"
   },
   {
    "duration": 31,
    "start_time": "2021-07-08T11:36:29.191Z"
   },
   {
    "duration": 17,
    "start_time": "2021-07-08T11:36:29.226Z"
   },
   {
    "duration": 7,
    "start_time": "2021-07-08T11:36:29.245Z"
   },
   {
    "duration": 10,
    "start_time": "2021-07-08T11:36:29.254Z"
   },
   {
    "duration": 30,
    "start_time": "2021-07-08T11:36:29.292Z"
   },
   {
    "duration": 11,
    "start_time": "2021-07-08T11:36:29.324Z"
   },
   {
    "duration": 11,
    "start_time": "2021-07-08T11:36:29.337Z"
   },
   {
    "duration": 230,
    "start_time": "2021-07-08T11:36:29.349Z"
   },
   {
    "duration": 13,
    "start_time": "2021-07-08T11:36:29.588Z"
   },
   {
    "duration": 205,
    "start_time": "2021-07-08T11:36:29.603Z"
   },
   {
    "duration": 20,
    "start_time": "2021-07-08T11:36:29.810Z"
   },
   {
    "duration": 9,
    "start_time": "2021-07-08T11:36:29.832Z"
   },
   {
    "duration": 16,
    "start_time": "2021-07-08T11:36:29.843Z"
   },
   {
    "duration": 283,
    "start_time": "2021-07-08T11:36:29.861Z"
   },
   {
    "duration": 50,
    "start_time": "2021-07-08T11:36:30.146Z"
   },
   {
    "duration": 14,
    "start_time": "2021-07-08T11:36:30.198Z"
   },
   {
    "duration": 11,
    "start_time": "2021-07-08T11:36:30.214Z"
   },
   {
    "duration": 245,
    "start_time": "2021-07-08T11:36:30.227Z"
   },
   {
    "duration": 439,
    "start_time": "2021-07-08T11:36:30.474Z"
   },
   {
    "duration": 210,
    "start_time": "2021-07-08T11:36:30.915Z"
   },
   {
    "duration": 15,
    "start_time": "2021-07-08T11:36:31.127Z"
   },
   {
    "duration": 17,
    "start_time": "2021-07-08T11:38:20.451Z"
   },
   {
    "duration": 642,
    "start_time": "2021-07-08T11:46:17.881Z"
   },
   {
    "duration": 210,
    "start_time": "2021-07-08T11:46:18.525Z"
   },
   {
    "duration": 104,
    "start_time": "2021-07-08T11:46:18.741Z"
   },
   {
    "duration": 8,
    "start_time": "2021-07-08T11:46:18.847Z"
   },
   {
    "duration": 25,
    "start_time": "2021-07-08T11:46:18.857Z"
   },
   {
    "duration": 14,
    "start_time": "2021-07-08T11:46:18.884Z"
   },
   {
    "duration": 22,
    "start_time": "2021-07-08T11:46:18.900Z"
   },
   {
    "duration": 5,
    "start_time": "2021-07-08T11:46:18.924Z"
   },
   {
    "duration": 13,
    "start_time": "2021-07-08T11:46:18.931Z"
   },
   {
    "duration": 45,
    "start_time": "2021-07-08T11:46:18.946Z"
   },
   {
    "duration": 12,
    "start_time": "2021-07-08T11:46:18.993Z"
   },
   {
    "duration": 38,
    "start_time": "2021-07-08T11:46:19.006Z"
   },
   {
    "duration": 50,
    "start_time": "2021-07-08T11:46:19.046Z"
   },
   {
    "duration": 29,
    "start_time": "2021-07-08T11:46:19.099Z"
   },
   {
    "duration": 7,
    "start_time": "2021-07-08T11:46:19.130Z"
   },
   {
    "duration": 3,
    "start_time": "2021-07-08T11:46:19.139Z"
   },
   {
    "duration": 11,
    "start_time": "2021-07-08T11:46:19.144Z"
   },
   {
    "duration": 40,
    "start_time": "2021-07-08T11:46:19.157Z"
   },
   {
    "duration": 15,
    "start_time": "2021-07-08T11:46:19.199Z"
   },
   {
    "duration": 10,
    "start_time": "2021-07-08T11:46:19.217Z"
   },
   {
    "duration": 68,
    "start_time": "2021-07-08T11:46:19.230Z"
   },
   {
    "duration": 17,
    "start_time": "2021-07-08T11:46:19.301Z"
   },
   {
    "duration": 7,
    "start_time": "2021-07-08T11:46:19.321Z"
   },
   {
    "duration": 11,
    "start_time": "2021-07-08T11:46:19.330Z"
   },
   {
    "duration": 59,
    "start_time": "2021-07-08T11:46:19.343Z"
   },
   {
    "duration": 17,
    "start_time": "2021-07-08T11:46:19.405Z"
   },
   {
    "duration": 16,
    "start_time": "2021-07-08T11:46:19.424Z"
   },
   {
    "duration": 252,
    "start_time": "2021-07-08T11:46:19.443Z"
   },
   {
    "duration": 9,
    "start_time": "2021-07-08T11:46:19.697Z"
   },
   {
    "duration": 224,
    "start_time": "2021-07-08T11:46:19.708Z"
   },
   {
    "duration": 21,
    "start_time": "2021-07-08T11:46:19.934Z"
   },
   {
    "duration": 9,
    "start_time": "2021-07-08T11:46:19.956Z"
   },
   {
    "duration": 32,
    "start_time": "2021-07-08T11:46:19.967Z"
   },
   {
    "duration": 288,
    "start_time": "2021-07-08T11:46:20.004Z"
   },
   {
    "duration": 23,
    "start_time": "2021-07-08T11:46:20.300Z"
   },
   {
    "duration": 11,
    "start_time": "2021-07-08T11:46:20.325Z"
   },
   {
    "duration": 11,
    "start_time": "2021-07-08T11:46:20.339Z"
   },
   {
    "duration": 259,
    "start_time": "2021-07-08T11:46:20.352Z"
   },
   {
    "duration": 438,
    "start_time": "2021-07-08T11:46:20.613Z"
   },
   {
    "duration": 207,
    "start_time": "2021-07-08T11:46:21.054Z"
   },
   {
    "duration": 27,
    "start_time": "2021-07-08T11:46:21.262Z"
   },
   {
    "duration": 19,
    "start_time": "2021-07-08T11:46:21.291Z"
   },
   {
    "duration": 820,
    "start_time": "2021-07-08T11:49:01.655Z"
   },
   {
    "duration": 372,
    "start_time": "2021-07-08T11:49:02.478Z"
   },
   {
    "duration": 98,
    "start_time": "2021-07-08T11:49:02.853Z"
   },
   {
    "duration": 6,
    "start_time": "2021-07-08T11:49:02.953Z"
   },
   {
    "duration": 39,
    "start_time": "2021-07-08T11:49:02.960Z"
   },
   {
    "duration": 9,
    "start_time": "2021-07-08T11:49:03.003Z"
   },
   {
    "duration": 23,
    "start_time": "2021-07-08T11:49:03.014Z"
   },
   {
    "duration": 6,
    "start_time": "2021-07-08T11:49:03.041Z"
   },
   {
    "duration": 20,
    "start_time": "2021-07-08T11:49:03.049Z"
   },
   {
    "duration": 18,
    "start_time": "2021-07-08T11:49:03.084Z"
   },
   {
    "duration": 14,
    "start_time": "2021-07-08T11:49:03.104Z"
   },
   {
    "duration": 39,
    "start_time": "2021-07-08T11:49:03.119Z"
   },
   {
    "duration": 38,
    "start_time": "2021-07-08T11:49:03.160Z"
   },
   {
    "duration": 26,
    "start_time": "2021-07-08T11:49:03.200Z"
   },
   {
    "duration": 7,
    "start_time": "2021-07-08T11:49:03.227Z"
   },
   {
    "duration": 4,
    "start_time": "2021-07-08T11:49:03.236Z"
   },
   {
    "duration": 15,
    "start_time": "2021-07-08T11:49:03.243Z"
   },
   {
    "duration": 21,
    "start_time": "2021-07-08T11:49:03.285Z"
   },
   {
    "duration": 17,
    "start_time": "2021-07-08T11:49:03.309Z"
   },
   {
    "duration": 10,
    "start_time": "2021-07-08T11:49:03.328Z"
   },
   {
    "duration": 65,
    "start_time": "2021-07-08T11:49:03.340Z"
   },
   {
    "duration": 18,
    "start_time": "2021-07-08T11:49:03.407Z"
   },
   {
    "duration": 8,
    "start_time": "2021-07-08T11:49:03.428Z"
   },
   {
    "duration": 15,
    "start_time": "2021-07-08T11:49:03.438Z"
   },
   {
    "duration": 40,
    "start_time": "2021-07-08T11:49:03.455Z"
   },
   {
    "duration": 12,
    "start_time": "2021-07-08T11:49:03.497Z"
   },
   {
    "duration": 29,
    "start_time": "2021-07-08T11:49:03.511Z"
   },
   {
    "duration": 285,
    "start_time": "2021-07-08T11:49:03.542Z"
   },
   {
    "duration": 8,
    "start_time": "2021-07-08T11:49:03.829Z"
   },
   {
    "duration": 227,
    "start_time": "2021-07-08T11:49:03.838Z"
   },
   {
    "duration": 40,
    "start_time": "2021-07-08T11:49:04.066Z"
   },
   {
    "duration": 10,
    "start_time": "2021-07-08T11:49:04.108Z"
   },
   {
    "duration": 26,
    "start_time": "2021-07-08T11:49:04.121Z"
   },
   {
    "duration": 290,
    "start_time": "2021-07-08T11:49:04.149Z"
   },
   {
    "duration": 26,
    "start_time": "2021-07-08T11:49:04.441Z"
   },
   {
    "duration": 31,
    "start_time": "2021-07-08T11:49:04.470Z"
   },
   {
    "duration": 14,
    "start_time": "2021-07-08T11:49:04.503Z"
   },
   {
    "duration": 259,
    "start_time": "2021-07-08T11:49:04.521Z"
   },
   {
    "duration": 480,
    "start_time": "2021-07-08T11:49:04.782Z"
   },
   {
    "duration": 225,
    "start_time": "2021-07-08T11:49:05.264Z"
   },
   {
    "duration": 22,
    "start_time": "2021-07-08T11:49:05.491Z"
   },
   {
    "duration": 24,
    "start_time": "2021-07-08T11:49:05.515Z"
   },
   {
    "duration": 634,
    "start_time": "2021-07-08T11:52:24.960Z"
   },
   {
    "duration": 199,
    "start_time": "2021-07-08T11:52:25.599Z"
   },
   {
    "duration": 106,
    "start_time": "2021-07-08T11:52:25.803Z"
   },
   {
    "duration": 7,
    "start_time": "2021-07-08T11:52:25.911Z"
   },
   {
    "duration": 29,
    "start_time": "2021-07-08T11:52:25.920Z"
   },
   {
    "duration": 7,
    "start_time": "2021-07-08T11:52:25.951Z"
   },
   {
    "duration": 26,
    "start_time": "2021-07-08T11:52:25.961Z"
   },
   {
    "duration": 11,
    "start_time": "2021-07-08T11:52:25.990Z"
   },
   {
    "duration": 29,
    "start_time": "2021-07-08T11:52:26.005Z"
   },
   {
    "duration": 9,
    "start_time": "2021-07-08T11:52:26.036Z"
   },
   {
    "duration": 8,
    "start_time": "2021-07-08T11:52:26.047Z"
   },
   {
    "duration": 63,
    "start_time": "2021-07-08T11:52:26.057Z"
   },
   {
    "duration": 17,
    "start_time": "2021-07-08T11:52:26.122Z"
   },
   {
    "duration": 43,
    "start_time": "2021-07-08T11:52:26.142Z"
   },
   {
    "duration": 17,
    "start_time": "2021-07-08T11:52:26.187Z"
   },
   {
    "duration": 5,
    "start_time": "2021-07-08T11:52:26.206Z"
   },
   {
    "duration": 12,
    "start_time": "2021-07-08T11:52:26.212Z"
   },
   {
    "duration": 11,
    "start_time": "2021-07-08T11:52:26.226Z"
   },
   {
    "duration": 12,
    "start_time": "2021-07-08T11:52:26.238Z"
   },
   {
    "duration": 38,
    "start_time": "2021-07-08T11:52:26.252Z"
   },
   {
    "duration": 40,
    "start_time": "2021-07-08T11:52:26.292Z"
   },
   {
    "duration": 17,
    "start_time": "2021-07-08T11:52:26.336Z"
   },
   {
    "duration": 39,
    "start_time": "2021-07-08T11:52:26.355Z"
   },
   {
    "duration": 11,
    "start_time": "2021-07-08T11:52:26.395Z"
   },
   {
    "duration": 23,
    "start_time": "2021-07-08T11:52:26.408Z"
   },
   {
    "duration": 12,
    "start_time": "2021-07-08T11:52:26.432Z"
   },
   {
    "duration": 41,
    "start_time": "2021-07-08T11:52:26.446Z"
   },
   {
    "duration": 215,
    "start_time": "2021-07-08T11:52:26.493Z"
   },
   {
    "duration": 8,
    "start_time": "2021-07-08T11:52:26.710Z"
   },
   {
    "duration": 228,
    "start_time": "2021-07-08T11:52:26.720Z"
   },
   {
    "duration": 18,
    "start_time": "2021-07-08T11:52:26.950Z"
   },
   {
    "duration": 35,
    "start_time": "2021-07-08T11:52:26.969Z"
   },
   {
    "duration": 23,
    "start_time": "2021-07-08T11:52:27.006Z"
   },
   {
    "duration": 258,
    "start_time": "2021-07-08T11:52:27.030Z"
   },
   {
    "duration": 24,
    "start_time": "2021-07-08T11:52:27.290Z"
   },
   {
    "duration": 12,
    "start_time": "2021-07-08T11:52:27.316Z"
   },
   {
    "duration": 10,
    "start_time": "2021-07-08T11:52:27.329Z"
   },
   {
    "duration": 298,
    "start_time": "2021-07-08T11:52:27.341Z"
   },
   {
    "duration": 436,
    "start_time": "2021-07-08T11:52:27.641Z"
   },
   {
    "duration": 216,
    "start_time": "2021-07-08T11:52:28.079Z"
   },
   {
    "duration": 20,
    "start_time": "2021-07-08T11:52:28.297Z"
   },
   {
    "duration": 17,
    "start_time": "2021-07-08T11:52:28.319Z"
   },
   {
    "duration": 4,
    "start_time": "2024-01-23T12:57:20.777Z"
   },
   {
    "duration": 8,
    "start_time": "2024-01-23T13:06:33.223Z"
   },
   {
    "duration": 4,
    "start_time": "2024-01-23T13:06:38.270Z"
   },
   {
    "duration": 4,
    "start_time": "2024-01-23T13:06:39.478Z"
   },
   {
    "duration": 3,
    "start_time": "2024-01-23T13:06:40.712Z"
   },
   {
    "duration": 797,
    "start_time": "2024-01-23T13:07:30.703Z"
   },
   {
    "duration": 6,
    "start_time": "2024-01-23T13:40:25.943Z"
   },
   {
    "duration": 261,
    "start_time": "2024-01-23T13:41:21.875Z"
   },
   {
    "duration": 125,
    "start_time": "2024-01-23T13:41:29.739Z"
   },
   {
    "duration": 51,
    "start_time": "2024-01-23T13:42:54.173Z"
   },
   {
    "duration": 32,
    "start_time": "2024-01-23T13:44:37.298Z"
   },
   {
    "duration": 16,
    "start_time": "2024-01-23T13:58:00.743Z"
   },
   {
    "duration": 10,
    "start_time": "2024-01-23T13:59:07.715Z"
   },
   {
    "duration": 7,
    "start_time": "2024-01-23T13:59:18.361Z"
   },
   {
    "duration": 4,
    "start_time": "2024-01-23T14:00:03.704Z"
   },
   {
    "duration": 12,
    "start_time": "2024-01-23T14:01:22.915Z"
   },
   {
    "duration": 3,
    "start_time": "2024-01-23T14:01:30.394Z"
   },
   {
    "duration": 15,
    "start_time": "2024-01-23T14:05:54.777Z"
   },
   {
    "duration": 19,
    "start_time": "2024-01-23T14:08:13.838Z"
   },
   {
    "duration": 4,
    "start_time": "2024-01-23T14:09:37.032Z"
   },
   {
    "duration": 6,
    "start_time": "2024-01-23T14:10:49.914Z"
   },
   {
    "duration": 4,
    "start_time": "2024-01-23T14:10:56.364Z"
   },
   {
    "duration": 4,
    "start_time": "2024-01-23T14:11:44.802Z"
   },
   {
    "duration": 5,
    "start_time": "2024-01-23T14:12:05.177Z"
   },
   {
    "duration": 8,
    "start_time": "2024-01-23T14:13:06.834Z"
   },
   {
    "duration": 4,
    "start_time": "2024-01-23T14:13:09.373Z"
   },
   {
    "duration": 5,
    "start_time": "2024-01-23T14:13:12.437Z"
   },
   {
    "duration": 7,
    "start_time": "2024-01-23T14:14:28.897Z"
   },
   {
    "duration": 11,
    "start_time": "2024-01-23T14:21:17.017Z"
   },
   {
    "duration": 52,
    "start_time": "2024-01-23T14:21:37.107Z"
   },
   {
    "duration": 18,
    "start_time": "2024-01-23T14:23:13.723Z"
   },
   {
    "duration": 4,
    "start_time": "2024-01-23T14:23:37.979Z"
   },
   {
    "duration": 15,
    "start_time": "2024-01-23T14:28:29.307Z"
   },
   {
    "duration": 4,
    "start_time": "2024-01-23T14:29:04.183Z"
   },
   {
    "duration": 24,
    "start_time": "2024-01-23T14:29:38.759Z"
   },
   {
    "duration": 4,
    "start_time": "2024-01-23T14:29:57.828Z"
   },
   {
    "duration": 15,
    "start_time": "2024-01-23T14:30:24.327Z"
   },
   {
    "duration": 4,
    "start_time": "2024-01-23T14:30:51.783Z"
   },
   {
    "duration": 11,
    "start_time": "2024-01-23T14:31:29.770Z"
   },
   {
    "duration": 3,
    "start_time": "2024-01-23T14:32:16.593Z"
   },
   {
    "duration": 4,
    "start_time": "2024-01-23T14:33:16.180Z"
   },
   {
    "duration": 3,
    "start_time": "2024-01-23T14:33:18.343Z"
   },
   {
    "duration": 3,
    "start_time": "2024-01-23T14:33:21.510Z"
   },
   {
    "duration": 4,
    "start_time": "2024-01-23T14:33:24.050Z"
   },
   {
    "duration": 3,
    "start_time": "2024-01-23T14:34:08.421Z"
   },
   {
    "duration": 24,
    "start_time": "2024-01-23T14:35:21.559Z"
   },
   {
    "duration": 22,
    "start_time": "2024-01-23T14:35:46.234Z"
   },
   {
    "duration": 25,
    "start_time": "2024-01-23T14:36:24.523Z"
   },
   {
    "duration": 14,
    "start_time": "2024-01-23T14:37:21.471Z"
   },
   {
    "duration": 5,
    "start_time": "2024-01-23T14:38:22.807Z"
   },
   {
    "duration": 17,
    "start_time": "2024-01-23T14:38:34.198Z"
   },
   {
    "duration": 5,
    "start_time": "2024-01-23T14:39:16.562Z"
   },
   {
    "duration": 4,
    "start_time": "2024-01-23T14:45:44.504Z"
   },
   {
    "duration": 6,
    "start_time": "2024-01-23T14:46:08.137Z"
   },
   {
    "duration": 5,
    "start_time": "2024-01-23T14:46:15.472Z"
   },
   {
    "duration": 4,
    "start_time": "2024-01-23T14:47:20.808Z"
   },
   {
    "duration": 16,
    "start_time": "2024-01-23T14:47:20.818Z"
   },
   {
    "duration": 35,
    "start_time": "2024-01-23T14:47:20.835Z"
   },
   {
    "duration": 43,
    "start_time": "2024-01-23T14:47:20.871Z"
   },
   {
    "duration": 36,
    "start_time": "2024-01-23T14:47:20.916Z"
   },
   {
    "duration": 649,
    "start_time": "2024-01-23T14:47:20.954Z"
   },
   {
    "duration": 124,
    "start_time": "2024-01-23T14:47:21.605Z"
   },
   {
    "duration": 54,
    "start_time": "2024-01-23T14:47:21.732Z"
   },
   {
    "duration": 28,
    "start_time": "2024-01-23T14:47:21.788Z"
   },
   {
    "duration": 48,
    "start_time": "2024-01-23T14:47:21.818Z"
   },
   {
    "duration": 9,
    "start_time": "2024-01-23T14:47:21.868Z"
   },
   {
    "duration": 20,
    "start_time": "2024-01-23T14:47:21.879Z"
   },
   {
    "duration": 11,
    "start_time": "2024-01-23T14:47:21.900Z"
   },
   {
    "duration": 23,
    "start_time": "2024-01-23T14:47:21.912Z"
   },
   {
    "duration": 18,
    "start_time": "2024-01-23T14:47:21.937Z"
   },
   {
    "duration": 46,
    "start_time": "2024-01-23T14:47:21.956Z"
   },
   {
    "duration": 36,
    "start_time": "2024-01-23T14:47:22.004Z"
   },
   {
    "duration": 16,
    "start_time": "2024-01-23T14:47:22.042Z"
   },
   {
    "duration": 31,
    "start_time": "2024-01-23T14:47:22.059Z"
   },
   {
    "duration": 27,
    "start_time": "2024-01-23T14:47:22.091Z"
   },
   {
    "duration": 18,
    "start_time": "2024-01-23T14:47:22.119Z"
   },
   {
    "duration": 17,
    "start_time": "2024-01-23T14:47:22.138Z"
   },
   {
    "duration": 12,
    "start_time": "2024-01-23T14:47:22.156Z"
   },
   {
    "duration": 9,
    "start_time": "2024-01-23T14:47:22.169Z"
   },
   {
    "duration": 27,
    "start_time": "2024-01-23T14:47:22.180Z"
   },
   {
    "duration": 84,
    "start_time": "2024-01-23T14:47:22.208Z"
   },
   {
    "duration": 14,
    "start_time": "2024-01-23T14:47:22.294Z"
   },
   {
    "duration": 35,
    "start_time": "2024-01-23T14:47:22.310Z"
   },
   {
    "duration": 24,
    "start_time": "2024-01-23T14:47:22.347Z"
   },
   {
    "duration": 23,
    "start_time": "2024-01-23T14:47:22.372Z"
   },
   {
    "duration": 15,
    "start_time": "2024-01-23T14:47:22.437Z"
   },
   {
    "duration": 4,
    "start_time": "2024-01-23T14:47:22.490Z"
   },
   {
    "duration": 16,
    "start_time": "2024-01-23T14:47:22.569Z"
   },
   {
    "duration": 4,
    "start_time": "2024-01-23T14:47:22.648Z"
   },
   {
    "duration": 8,
    "start_time": "2024-01-23T14:47:22.727Z"
   },
   {
    "duration": 4,
    "start_time": "2024-01-23T14:47:22.810Z"
   },
   {
    "duration": 3,
    "start_time": "2024-01-23T14:47:22.916Z"
   },
   {
    "duration": 3,
    "start_time": "2024-01-23T14:47:23.019Z"
   },
   {
    "duration": 3,
    "start_time": "2024-01-23T14:47:23.164Z"
   },
   {
    "duration": 23,
    "start_time": "2024-01-23T14:47:23.242Z"
   },
   {
    "duration": 22,
    "start_time": "2024-01-23T14:47:23.332Z"
   },
   {
    "duration": 24,
    "start_time": "2024-01-23T14:47:23.411Z"
   },
   {
    "duration": 14,
    "start_time": "2024-01-23T14:47:23.504Z"
   },
   {
    "duration": 5,
    "start_time": "2024-01-23T14:47:23.582Z"
   },
   {
    "duration": 17,
    "start_time": "2024-01-23T14:47:23.589Z"
   },
   {
    "duration": 5,
    "start_time": "2024-01-23T14:47:23.652Z"
   },
   {
    "duration": 5,
    "start_time": "2024-01-23T14:47:23.720Z"
   },
   {
    "duration": 7,
    "start_time": "2024-01-23T14:47:23.800Z"
   },
   {
    "duration": 6,
    "start_time": "2024-01-23T14:47:23.808Z"
   },
   {
    "duration": 5,
    "start_time": "2024-01-23T14:49:12.952Z"
   },
   {
    "duration": 5,
    "start_time": "2024-01-23T14:49:58.591Z"
   },
   {
    "duration": 6,
    "start_time": "2024-01-23T14:51:56.183Z"
   },
   {
    "duration": 6,
    "start_time": "2024-01-23T14:52:18.526Z"
   },
   {
    "duration": 15,
    "start_time": "2024-01-23T14:52:36.914Z"
   },
   {
    "duration": 10,
    "start_time": "2024-01-23T14:52:45.482Z"
   },
   {
    "duration": 19,
    "start_time": "2024-01-23T14:54:47.831Z"
   },
   {
    "duration": 22,
    "start_time": "2024-01-23T14:55:22.751Z"
   },
   {
    "duration": 8,
    "start_time": "2024-01-23T14:56:08.730Z"
   },
   {
    "duration": 23,
    "start_time": "2024-01-23T14:56:44.627Z"
   },
   {
    "duration": 5,
    "start_time": "2024-01-23T14:58:54.101Z"
   },
   {
    "duration": 11,
    "start_time": "2024-01-23T14:59:38.483Z"
   },
   {
    "duration": 18,
    "start_time": "2024-01-23T15:00:00.809Z"
   },
   {
    "duration": 3,
    "start_time": "2024-01-23T15:12:49.432Z"
   },
   {
    "duration": 3,
    "start_time": "2024-01-23T15:13:22.752Z"
   },
   {
    "duration": 16,
    "start_time": "2024-01-23T15:13:34.438Z"
   },
   {
    "duration": 11,
    "start_time": "2024-01-23T15:21:09.715Z"
   },
   {
    "duration": 16,
    "start_time": "2024-01-23T15:21:21.617Z"
   },
   {
    "duration": 16,
    "start_time": "2024-01-23T15:21:36.720Z"
   },
   {
    "duration": 13,
    "start_time": "2024-01-23T15:22:03.444Z"
   },
   {
    "duration": 4,
    "start_time": "2024-01-23T15:24:20.527Z"
   },
   {
    "duration": 12,
    "start_time": "2024-01-23T15:24:20.538Z"
   },
   {
    "duration": 26,
    "start_time": "2024-01-23T15:24:20.552Z"
   },
   {
    "duration": 7,
    "start_time": "2024-01-23T15:24:20.579Z"
   },
   {
    "duration": 19,
    "start_time": "2024-01-23T15:24:20.587Z"
   },
   {
    "duration": 596,
    "start_time": "2024-01-23T15:24:20.608Z"
   },
   {
    "duration": 120,
    "start_time": "2024-01-23T15:24:21.205Z"
   },
   {
    "duration": 52,
    "start_time": "2024-01-23T15:24:21.327Z"
   },
   {
    "duration": 31,
    "start_time": "2024-01-23T15:24:21.380Z"
   },
   {
    "duration": 26,
    "start_time": "2024-01-23T15:24:21.413Z"
   },
   {
    "duration": 15,
    "start_time": "2024-01-23T15:24:21.464Z"
   },
   {
    "duration": 27,
    "start_time": "2024-01-23T15:24:21.481Z"
   },
   {
    "duration": 23,
    "start_time": "2024-01-23T15:24:21.511Z"
   },
   {
    "duration": 26,
    "start_time": "2024-01-23T15:24:21.536Z"
   },
   {
    "duration": 42,
    "start_time": "2024-01-23T15:24:21.564Z"
   },
   {
    "duration": 38,
    "start_time": "2024-01-23T15:24:21.607Z"
   },
   {
    "duration": 26,
    "start_time": "2024-01-23T15:24:21.646Z"
   },
   {
    "duration": 41,
    "start_time": "2024-01-23T15:24:21.674Z"
   },
   {
    "duration": 26,
    "start_time": "2024-01-23T15:24:21.716Z"
   },
   {
    "duration": 28,
    "start_time": "2024-01-23T15:24:21.744Z"
   },
   {
    "duration": 18,
    "start_time": "2024-01-23T15:24:21.774Z"
   },
   {
    "duration": 16,
    "start_time": "2024-01-23T15:24:21.794Z"
   },
   {
    "duration": 24,
    "start_time": "2024-01-23T15:24:21.811Z"
   },
   {
    "duration": 21,
    "start_time": "2024-01-23T15:24:21.837Z"
   },
   {
    "duration": 24,
    "start_time": "2024-01-23T15:24:21.860Z"
   },
   {
    "duration": 57,
    "start_time": "2024-01-23T15:24:21.885Z"
   },
   {
    "duration": 15,
    "start_time": "2024-01-23T15:24:21.944Z"
   },
   {
    "duration": 32,
    "start_time": "2024-01-23T15:24:21.960Z"
   },
   {
    "duration": 29,
    "start_time": "2024-01-23T15:24:21.993Z"
   },
   {
    "duration": 27,
    "start_time": "2024-01-23T15:24:22.023Z"
   },
   {
    "duration": 25,
    "start_time": "2024-01-23T15:24:22.051Z"
   },
   {
    "duration": 8,
    "start_time": "2024-01-23T15:24:22.078Z"
   },
   {
    "duration": 36,
    "start_time": "2024-01-23T15:24:22.089Z"
   },
   {
    "duration": 4,
    "start_time": "2024-01-23T15:24:22.127Z"
   },
   {
    "duration": 20,
    "start_time": "2024-01-23T15:24:22.132Z"
   },
   {
    "duration": 15,
    "start_time": "2024-01-23T15:24:22.154Z"
   },
   {
    "duration": 8,
    "start_time": "2024-01-23T15:24:22.171Z"
   },
   {
    "duration": 20,
    "start_time": "2024-01-23T15:24:22.181Z"
   },
   {
    "duration": 17,
    "start_time": "2024-01-23T15:24:22.202Z"
   },
   {
    "duration": 36,
    "start_time": "2024-01-23T15:24:22.221Z"
   },
   {
    "duration": 21,
    "start_time": "2024-01-23T15:24:22.259Z"
   },
   {
    "duration": 25,
    "start_time": "2024-01-23T15:24:22.282Z"
   },
   {
    "duration": 14,
    "start_time": "2024-01-23T15:24:22.308Z"
   },
   {
    "duration": 23,
    "start_time": "2024-01-23T15:24:22.323Z"
   },
   {
    "duration": 32,
    "start_time": "2024-01-23T15:24:22.348Z"
   },
   {
    "duration": 30,
    "start_time": "2024-01-23T15:24:22.382Z"
   },
   {
    "duration": 42,
    "start_time": "2024-01-23T15:24:22.413Z"
   },
   {
    "duration": 23,
    "start_time": "2024-01-23T15:24:22.456Z"
   },
   {
    "duration": 44,
    "start_time": "2024-01-23T15:24:22.480Z"
   },
   {
    "duration": 50,
    "start_time": "2024-01-23T15:24:22.525Z"
   },
   {
    "duration": 29,
    "start_time": "2024-01-23T15:24:22.577Z"
   },
   {
    "duration": 20,
    "start_time": "2024-01-23T15:24:22.608Z"
   },
   {
    "duration": 20,
    "start_time": "2024-01-23T15:24:22.630Z"
   },
   {
    "duration": 39,
    "start_time": "2024-01-23T15:24:22.652Z"
   },
   {
    "duration": 21,
    "start_time": "2024-01-23T15:24:22.693Z"
   },
   {
    "duration": 38,
    "start_time": "2024-01-23T15:24:22.716Z"
   },
   {
    "duration": 19,
    "start_time": "2024-01-23T15:24:22.758Z"
   },
   {
    "duration": 21,
    "start_time": "2024-01-23T15:24:22.779Z"
   },
   {
    "duration": 28,
    "start_time": "2024-01-23T15:24:22.801Z"
   },
   {
    "duration": 29,
    "start_time": "2024-01-23T15:24:22.831Z"
   },
   {
    "duration": 39,
    "start_time": "2024-01-23T15:24:22.862Z"
   },
   {
    "duration": 77,
    "start_time": "2024-01-23T15:24:22.903Z"
   },
   {
    "duration": 0,
    "start_time": "2024-01-23T15:24:22.981Z"
   },
   {
    "duration": 22,
    "start_time": "2024-01-23T15:26:04.854Z"
   },
   {
    "duration": 15,
    "start_time": "2024-01-23T15:26:07.137Z"
   },
   {
    "duration": 56,
    "start_time": "2024-01-23T15:29:32.263Z"
   },
   {
    "duration": 4,
    "start_time": "2024-01-23T15:29:38.868Z"
   },
   {
    "duration": 7,
    "start_time": "2024-01-23T15:29:38.879Z"
   },
   {
    "duration": 9,
    "start_time": "2024-01-23T15:29:38.888Z"
   },
   {
    "duration": 6,
    "start_time": "2024-01-23T15:29:38.899Z"
   },
   {
    "duration": 6,
    "start_time": "2024-01-23T15:29:38.906Z"
   },
   {
    "duration": 614,
    "start_time": "2024-01-23T15:29:38.915Z"
   },
   {
    "duration": 124,
    "start_time": "2024-01-23T15:29:39.531Z"
   },
   {
    "duration": 66,
    "start_time": "2024-01-23T15:29:39.656Z"
   },
   {
    "duration": 51,
    "start_time": "2024-01-23T15:29:39.724Z"
   },
   {
    "duration": 16,
    "start_time": "2024-01-23T15:29:39.776Z"
   },
   {
    "duration": 9,
    "start_time": "2024-01-23T15:29:39.794Z"
   },
   {
    "duration": 9,
    "start_time": "2024-01-23T15:29:39.804Z"
   },
   {
    "duration": 5,
    "start_time": "2024-01-23T15:29:39.815Z"
   },
   {
    "duration": 49,
    "start_time": "2024-01-23T15:29:39.822Z"
   },
   {
    "duration": 4,
    "start_time": "2024-01-23T15:29:39.874Z"
   },
   {
    "duration": 19,
    "start_time": "2024-01-23T15:29:39.880Z"
   },
   {
    "duration": 13,
    "start_time": "2024-01-23T15:29:39.902Z"
   },
   {
    "duration": 5,
    "start_time": "2024-01-23T15:29:39.916Z"
   },
   {
    "duration": 13,
    "start_time": "2024-01-23T15:29:39.922Z"
   },
   {
    "duration": 4,
    "start_time": "2024-01-23T15:29:39.937Z"
   },
   {
    "duration": 31,
    "start_time": "2024-01-23T15:29:39.942Z"
   },
   {
    "duration": 4,
    "start_time": "2024-01-23T15:29:39.975Z"
   },
   {
    "duration": 12,
    "start_time": "2024-01-23T15:29:39.981Z"
   },
   {
    "duration": 8,
    "start_time": "2024-01-23T15:29:39.994Z"
   },
   {
    "duration": 20,
    "start_time": "2024-01-23T15:29:40.003Z"
   },
   {
    "duration": 62,
    "start_time": "2024-01-23T15:29:40.024Z"
   },
   {
    "duration": 15,
    "start_time": "2024-01-23T15:29:40.088Z"
   },
   {
    "duration": 6,
    "start_time": "2024-01-23T15:29:40.104Z"
   },
   {
    "duration": 15,
    "start_time": "2024-01-23T15:29:40.111Z"
   },
   {
    "duration": 17,
    "start_time": "2024-01-23T15:29:40.128Z"
   },
   {
    "duration": 30,
    "start_time": "2024-01-23T15:29:40.146Z"
   },
   {
    "duration": 3,
    "start_time": "2024-01-23T15:29:40.177Z"
   },
   {
    "duration": 16,
    "start_time": "2024-01-23T15:29:40.182Z"
   },
   {
    "duration": 3,
    "start_time": "2024-01-23T15:29:40.200Z"
   },
   {
    "duration": 9,
    "start_time": "2024-01-23T15:29:40.205Z"
   },
   {
    "duration": 7,
    "start_time": "2024-01-23T15:29:40.215Z"
   },
   {
    "duration": 4,
    "start_time": "2024-01-23T15:29:40.223Z"
   },
   {
    "duration": 4,
    "start_time": "2024-01-23T15:29:40.228Z"
   },
   {
    "duration": 32,
    "start_time": "2024-01-23T15:29:40.233Z"
   },
   {
    "duration": 24,
    "start_time": "2024-01-23T15:29:40.266Z"
   },
   {
    "duration": 22,
    "start_time": "2024-01-23T15:29:40.293Z"
   },
   {
    "duration": 25,
    "start_time": "2024-01-23T15:29:40.316Z"
   },
   {
    "duration": 35,
    "start_time": "2024-01-23T15:29:40.342Z"
   },
   {
    "duration": 9,
    "start_time": "2024-01-23T15:29:40.379Z"
   },
   {
    "duration": 32,
    "start_time": "2024-01-23T15:29:40.389Z"
   },
   {
    "duration": 19,
    "start_time": "2024-01-23T15:29:40.422Z"
   },
   {
    "duration": 5,
    "start_time": "2024-01-23T15:29:40.442Z"
   },
   {
    "duration": 5,
    "start_time": "2024-01-23T15:29:40.448Z"
   },
   {
    "duration": 6,
    "start_time": "2024-01-23T15:29:40.455Z"
   },
   {
    "duration": 9,
    "start_time": "2024-01-23T15:29:40.463Z"
   },
   {
    "duration": 4,
    "start_time": "2024-01-23T15:29:40.473Z"
   },
   {
    "duration": 5,
    "start_time": "2024-01-23T15:29:40.479Z"
   },
   {
    "duration": 5,
    "start_time": "2024-01-23T15:29:40.485Z"
   },
   {
    "duration": 16,
    "start_time": "2024-01-23T15:29:40.491Z"
   },
   {
    "duration": 8,
    "start_time": "2024-01-23T15:29:40.508Z"
   },
   {
    "duration": 18,
    "start_time": "2024-01-23T15:29:40.518Z"
   },
   {
    "duration": 19,
    "start_time": "2024-01-23T15:29:40.565Z"
   },
   {
    "duration": 7,
    "start_time": "2024-01-23T15:29:40.586Z"
   },
   {
    "duration": 19,
    "start_time": "2024-01-23T15:29:40.595Z"
   },
   {
    "duration": 8,
    "start_time": "2024-01-23T15:29:40.616Z"
   },
   {
    "duration": 21,
    "start_time": "2024-01-23T15:29:40.625Z"
   },
   {
    "duration": 13,
    "start_time": "2024-01-23T15:29:40.664Z"
   },
   {
    "duration": 16,
    "start_time": "2024-01-23T15:29:40.679Z"
   },
   {
    "duration": 8,
    "start_time": "2024-01-23T15:30:29.651Z"
   },
   {
    "duration": 7,
    "start_time": "2024-01-23T15:30:53.061Z"
   },
   {
    "duration": 23,
    "start_time": "2024-01-23T15:31:01.256Z"
   },
   {
    "duration": 24,
    "start_time": "2024-01-23T15:31:37.765Z"
   },
   {
    "duration": 20,
    "start_time": "2024-01-23T15:31:45.016Z"
   },
   {
    "duration": 35,
    "start_time": "2024-01-23T15:37:00.717Z"
   },
   {
    "duration": 167,
    "start_time": "2024-01-23T15:38:13.348Z"
   },
   {
    "duration": 9,
    "start_time": "2024-01-23T15:40:34.388Z"
   },
   {
    "duration": 168,
    "start_time": "2024-01-23T15:41:05.005Z"
   },
   {
    "duration": 5,
    "start_time": "2024-01-23T15:41:34.914Z"
   },
   {
    "duration": 4,
    "start_time": "2024-01-23T15:42:02.205Z"
   },
   {
    "duration": 8,
    "start_time": "2024-01-23T15:45:08.076Z"
   },
   {
    "duration": 254,
    "start_time": "2024-01-23T15:46:16.703Z"
   },
   {
    "duration": 12,
    "start_time": "2024-01-23T15:46:35.691Z"
   },
   {
    "duration": 4,
    "start_time": "2024-01-23T15:46:46.504Z"
   },
   {
    "duration": 5,
    "start_time": "2024-01-23T15:47:10.601Z"
   },
   {
    "duration": 13,
    "start_time": "2024-01-23T15:49:18.778Z"
   },
   {
    "duration": 210,
    "start_time": "2024-01-23T15:49:31.839Z"
   },
   {
    "duration": 15,
    "start_time": "2024-01-23T15:49:53.060Z"
   },
   {
    "duration": 23,
    "start_time": "2024-01-23T15:50:07.503Z"
   },
   {
    "duration": 8,
    "start_time": "2024-01-23T15:50:22.491Z"
   },
   {
    "duration": 9,
    "start_time": "2024-01-23T15:50:36.323Z"
   },
   {
    "duration": 11,
    "start_time": "2024-01-23T15:51:18.989Z"
   },
   {
    "duration": 7,
    "start_time": "2024-01-23T15:51:25.827Z"
   },
   {
    "duration": 14,
    "start_time": "2024-01-23T15:51:42.340Z"
   },
   {
    "duration": 81,
    "start_time": "2024-01-23T15:52:03.741Z"
   },
   {
    "duration": 4,
    "start_time": "2024-01-23T15:52:28.298Z"
   },
   {
    "duration": 16,
    "start_time": "2024-01-23T15:52:28.310Z"
   },
   {
    "duration": 15,
    "start_time": "2024-01-23T15:52:28.328Z"
   },
   {
    "duration": 27,
    "start_time": "2024-01-23T15:52:28.345Z"
   },
   {
    "duration": 18,
    "start_time": "2024-01-23T15:52:28.374Z"
   },
   {
    "duration": 690,
    "start_time": "2024-01-23T15:52:28.394Z"
   },
   {
    "duration": 127,
    "start_time": "2024-01-23T15:52:29.085Z"
   },
   {
    "duration": 59,
    "start_time": "2024-01-23T15:52:29.213Z"
   },
   {
    "duration": 28,
    "start_time": "2024-01-23T15:52:29.274Z"
   },
   {
    "duration": 15,
    "start_time": "2024-01-23T15:52:29.303Z"
   },
   {
    "duration": 8,
    "start_time": "2024-01-23T15:52:29.319Z"
   },
   {
    "duration": 40,
    "start_time": "2024-01-23T15:52:29.328Z"
   },
   {
    "duration": 4,
    "start_time": "2024-01-23T15:52:29.370Z"
   },
   {
    "duration": 13,
    "start_time": "2024-01-23T15:52:29.376Z"
   },
   {
    "duration": 4,
    "start_time": "2024-01-23T15:52:29.391Z"
   },
   {
    "duration": 21,
    "start_time": "2024-01-23T15:52:29.396Z"
   },
   {
    "duration": 14,
    "start_time": "2024-01-23T15:52:29.419Z"
   },
   {
    "duration": 4,
    "start_time": "2024-01-23T15:52:29.435Z"
   },
   {
    "duration": 6,
    "start_time": "2024-01-23T15:52:29.465Z"
   },
   {
    "duration": 27,
    "start_time": "2024-01-23T15:52:29.472Z"
   },
   {
    "duration": 11,
    "start_time": "2024-01-23T15:52:29.500Z"
   },
   {
    "duration": 2,
    "start_time": "2024-01-23T15:52:29.513Z"
   },
   {
    "duration": 17,
    "start_time": "2024-01-23T15:52:29.517Z"
   },
   {
    "duration": 11,
    "start_time": "2024-01-23T15:52:29.535Z"
   },
   {
    "duration": 8,
    "start_time": "2024-01-23T15:52:29.547Z"
   },
   {
    "duration": 48,
    "start_time": "2024-01-23T15:52:29.557Z"
   },
   {
    "duration": 15,
    "start_time": "2024-01-23T15:52:29.606Z"
   },
   {
    "duration": 6,
    "start_time": "2024-01-23T15:52:29.622Z"
   },
   {
    "duration": 23,
    "start_time": "2024-01-23T15:52:29.629Z"
   },
   {
    "duration": 4,
    "start_time": "2024-01-23T15:52:29.654Z"
   },
   {
    "duration": 18,
    "start_time": "2024-01-23T15:52:29.659Z"
   },
   {
    "duration": 3,
    "start_time": "2024-01-23T15:52:29.679Z"
   },
   {
    "duration": 22,
    "start_time": "2024-01-23T15:52:29.684Z"
   },
   {
    "duration": 9,
    "start_time": "2024-01-23T15:52:29.708Z"
   },
   {
    "duration": 8,
    "start_time": "2024-01-23T15:52:29.718Z"
   },
   {
    "duration": 5,
    "start_time": "2024-01-23T15:52:29.728Z"
   },
   {
    "duration": 31,
    "start_time": "2024-01-23T15:52:29.734Z"
   },
   {
    "duration": 4,
    "start_time": "2024-01-23T15:52:29.769Z"
   },
   {
    "duration": 19,
    "start_time": "2024-01-23T15:52:29.775Z"
   },
   {
    "duration": 33,
    "start_time": "2024-01-23T15:52:29.795Z"
   },
   {
    "duration": 23,
    "start_time": "2024-01-23T15:52:29.830Z"
   },
   {
    "duration": 37,
    "start_time": "2024-01-23T15:52:29.855Z"
   },
   {
    "duration": 16,
    "start_time": "2024-01-23T15:52:29.894Z"
   },
   {
    "duration": 19,
    "start_time": "2024-01-23T15:52:29.912Z"
   },
   {
    "duration": 18,
    "start_time": "2024-01-23T15:52:29.932Z"
   },
   {
    "duration": 14,
    "start_time": "2024-01-23T15:52:29.952Z"
   },
   {
    "duration": 7,
    "start_time": "2024-01-23T15:52:29.968Z"
   },
   {
    "duration": 22,
    "start_time": "2024-01-23T15:52:29.977Z"
   },
   {
    "duration": 24,
    "start_time": "2024-01-23T15:52:30.000Z"
   },
   {
    "duration": 35,
    "start_time": "2024-01-23T15:52:30.025Z"
   },
   {
    "duration": 20,
    "start_time": "2024-01-23T15:52:30.062Z"
   },
   {
    "duration": 16,
    "start_time": "2024-01-23T15:52:30.083Z"
   },
   {
    "duration": 66,
    "start_time": "2024-01-23T15:52:30.100Z"
   },
   {
    "duration": 36,
    "start_time": "2024-01-23T15:52:30.168Z"
   },
   {
    "duration": 66,
    "start_time": "2024-01-23T15:52:30.205Z"
   },
   {
    "duration": 53,
    "start_time": "2024-01-23T15:52:30.273Z"
   },
   {
    "duration": 43,
    "start_time": "2024-01-23T15:52:30.328Z"
   },
   {
    "duration": 41,
    "start_time": "2024-01-23T15:52:30.373Z"
   },
   {
    "duration": 96,
    "start_time": "2024-01-23T15:52:30.416Z"
   },
   {
    "duration": 55,
    "start_time": "2024-01-23T15:52:30.513Z"
   },
   {
    "duration": 54,
    "start_time": "2024-01-23T15:52:30.569Z"
   },
   {
    "duration": 69,
    "start_time": "2024-01-23T15:52:30.624Z"
   },
   {
    "duration": 64,
    "start_time": "2024-01-23T15:52:30.695Z"
   },
   {
    "duration": 60,
    "start_time": "2024-01-23T15:52:30.761Z"
   },
   {
    "duration": 49,
    "start_time": "2024-01-23T15:52:30.822Z"
   },
   {
    "duration": 59,
    "start_time": "2024-01-23T15:52:30.872Z"
   },
   {
    "duration": 43,
    "start_time": "2024-01-23T15:52:30.932Z"
   },
   {
    "duration": 49,
    "start_time": "2024-01-23T15:52:30.976Z"
   },
   {
    "duration": 195,
    "start_time": "2024-01-23T15:52:31.026Z"
   },
   {
    "duration": 10,
    "start_time": "2024-01-23T15:52:31.225Z"
   },
   {
    "duration": 252,
    "start_time": "2024-01-23T15:52:31.237Z"
   },
   {
    "duration": 4,
    "start_time": "2024-01-23T15:52:31.491Z"
   },
   {
    "duration": 43,
    "start_time": "2024-01-23T15:52:31.497Z"
   },
   {
    "duration": 53,
    "start_time": "2024-01-23T15:52:31.542Z"
   },
   {
    "duration": 191,
    "start_time": "2024-01-23T15:52:31.597Z"
   },
   {
    "duration": 263,
    "start_time": "2024-01-23T15:52:31.789Z"
   },
   {
    "duration": 18,
    "start_time": "2024-01-23T15:52:32.054Z"
   },
   {
    "duration": 20,
    "start_time": "2024-01-23T15:52:32.073Z"
   },
   {
    "duration": 15,
    "start_time": "2024-01-23T15:52:32.094Z"
   },
   {
    "duration": 12,
    "start_time": "2024-01-23T15:52:32.254Z"
   },
   {
    "duration": 233,
    "start_time": "2024-01-23T15:52:32.384Z"
   },
   {
    "duration": 14,
    "start_time": "2024-01-23T15:52:32.643Z"
   },
   {
    "duration": 22,
    "start_time": "2024-01-23T15:52:32.775Z"
   },
   {
    "duration": 8,
    "start_time": "2024-01-23T15:52:32.907Z"
   },
   {
    "duration": 10,
    "start_time": "2024-01-23T15:52:33.040Z"
   },
   {
    "duration": 10,
    "start_time": "2024-01-23T15:52:33.360Z"
   },
   {
    "duration": 6,
    "start_time": "2024-01-23T15:52:33.439Z"
   },
   {
    "duration": 13,
    "start_time": "2024-01-23T15:52:33.520Z"
   },
   {
    "duration": 68,
    "start_time": "2024-01-23T15:52:33.796Z"
   },
   {
    "duration": 4,
    "start_time": "2024-01-23T15:53:48.058Z"
   },
   {
    "duration": 26,
    "start_time": "2024-01-23T15:53:48.070Z"
   },
   {
    "duration": 7,
    "start_time": "2024-01-23T15:53:48.098Z"
   },
   {
    "duration": 27,
    "start_time": "2024-01-23T15:53:48.106Z"
   },
   {
    "duration": 5,
    "start_time": "2024-01-23T15:53:48.135Z"
   },
   {
    "duration": 5,
    "start_time": "2024-01-23T15:53:48.147Z"
   },
   {
    "duration": 796,
    "start_time": "2024-01-23T15:53:48.153Z"
   },
   {
    "duration": 128,
    "start_time": "2024-01-23T15:53:48.951Z"
   },
   {
    "duration": 52,
    "start_time": "2024-01-23T15:53:49.080Z"
   },
   {
    "duration": 47,
    "start_time": "2024-01-23T15:53:49.134Z"
   },
   {
    "duration": 17,
    "start_time": "2024-01-23T15:53:49.182Z"
   },
   {
    "duration": 9,
    "start_time": "2024-01-23T15:53:49.200Z"
   },
   {
    "duration": 6,
    "start_time": "2024-01-23T15:53:49.211Z"
   },
   {
    "duration": 6,
    "start_time": "2024-01-23T15:53:49.218Z"
   },
   {
    "duration": 43,
    "start_time": "2024-01-23T15:53:49.225Z"
   },
   {
    "duration": 4,
    "start_time": "2024-01-23T15:53:49.271Z"
   },
   {
    "duration": 21,
    "start_time": "2024-01-23T15:53:49.277Z"
   },
   {
    "duration": 17,
    "start_time": "2024-01-23T15:53:49.300Z"
   },
   {
    "duration": 5,
    "start_time": "2024-01-23T15:53:49.319Z"
   },
   {
    "duration": 8,
    "start_time": "2024-01-23T15:53:49.326Z"
   },
   {
    "duration": 8,
    "start_time": "2024-01-23T15:53:49.367Z"
   },
   {
    "duration": 10,
    "start_time": "2024-01-23T15:53:49.376Z"
   },
   {
    "duration": 4,
    "start_time": "2024-01-23T15:53:49.387Z"
   },
   {
    "duration": 9,
    "start_time": "2024-01-23T15:53:49.392Z"
   },
   {
    "duration": 14,
    "start_time": "2024-01-23T15:53:49.402Z"
   },
   {
    "duration": 16,
    "start_time": "2024-01-23T15:53:49.417Z"
   },
   {
    "duration": 65,
    "start_time": "2024-01-23T15:53:49.435Z"
   },
   {
    "duration": 15,
    "start_time": "2024-01-23T15:53:49.501Z"
   },
   {
    "duration": 5,
    "start_time": "2024-01-23T15:53:49.517Z"
   },
   {
    "duration": 14,
    "start_time": "2024-01-23T15:53:49.523Z"
   },
   {
    "duration": 28,
    "start_time": "2024-01-23T15:53:49.538Z"
   },
   {
    "duration": 15,
    "start_time": "2024-01-23T15:53:49.567Z"
   },
   {
    "duration": 4,
    "start_time": "2024-01-23T15:53:49.583Z"
   },
   {
    "duration": 15,
    "start_time": "2024-01-23T15:53:49.592Z"
   },
   {
    "duration": 4,
    "start_time": "2024-01-23T15:53:49.608Z"
   },
   {
    "duration": 9,
    "start_time": "2024-01-23T15:53:49.613Z"
   },
   {
    "duration": 5,
    "start_time": "2024-01-23T15:53:49.623Z"
   },
   {
    "duration": 37,
    "start_time": "2024-01-23T15:53:49.629Z"
   },
   {
    "duration": 11,
    "start_time": "2024-01-23T15:53:49.668Z"
   },
   {
    "duration": 38,
    "start_time": "2024-01-23T15:53:49.681Z"
   },
   {
    "duration": 23,
    "start_time": "2024-01-23T15:53:49.721Z"
   },
   {
    "duration": 30,
    "start_time": "2024-01-23T15:53:49.746Z"
   },
   {
    "duration": 24,
    "start_time": "2024-01-23T15:53:49.777Z"
   },
   {
    "duration": 15,
    "start_time": "2024-01-23T15:53:49.802Z"
   },
   {
    "duration": 5,
    "start_time": "2024-01-23T15:53:49.819Z"
   },
   {
    "duration": 40,
    "start_time": "2024-01-23T15:53:49.826Z"
   },
   {
    "duration": 7,
    "start_time": "2024-01-23T15:53:49.867Z"
   },
   {
    "duration": 5,
    "start_time": "2024-01-23T15:53:49.875Z"
   },
   {
    "duration": 5,
    "start_time": "2024-01-23T15:53:49.882Z"
   },
   {
    "duration": 6,
    "start_time": "2024-01-23T15:53:49.888Z"
   },
   {
    "duration": 5,
    "start_time": "2024-01-23T15:53:49.895Z"
   },
   {
    "duration": 6,
    "start_time": "2024-01-23T15:53:49.901Z"
   },
   {
    "duration": 5,
    "start_time": "2024-01-23T15:53:49.908Z"
   },
   {
    "duration": 4,
    "start_time": "2024-01-23T15:53:49.915Z"
   },
   {
    "duration": 45,
    "start_time": "2024-01-23T15:53:49.921Z"
   },
   {
    "duration": 7,
    "start_time": "2024-01-23T15:53:49.968Z"
   },
   {
    "duration": 17,
    "start_time": "2024-01-23T15:53:49.976Z"
   },
   {
    "duration": 18,
    "start_time": "2024-01-23T15:53:49.995Z"
   },
   {
    "duration": 24,
    "start_time": "2024-01-23T15:53:50.014Z"
   },
   {
    "duration": 60,
    "start_time": "2024-01-23T15:53:50.039Z"
   },
   {
    "duration": 4,
    "start_time": "2024-01-23T15:53:50.100Z"
   },
   {
    "duration": 19,
    "start_time": "2024-01-23T15:53:50.105Z"
   },
   {
    "duration": 13,
    "start_time": "2024-01-23T15:53:50.125Z"
   },
   {
    "duration": 14,
    "start_time": "2024-01-23T15:53:50.139Z"
   },
   {
    "duration": 13,
    "start_time": "2024-01-23T15:53:50.154Z"
   },
   {
    "duration": 21,
    "start_time": "2024-01-23T15:53:50.168Z"
   },
   {
    "duration": 24,
    "start_time": "2024-01-23T15:53:50.191Z"
   },
   {
    "duration": 19,
    "start_time": "2024-01-23T15:53:50.217Z"
   },
   {
    "duration": 35,
    "start_time": "2024-01-23T15:53:50.237Z"
   },
   {
    "duration": 178,
    "start_time": "2024-01-23T15:53:50.273Z"
   },
   {
    "duration": 15,
    "start_time": "2024-01-23T15:53:50.452Z"
   },
   {
    "duration": 194,
    "start_time": "2024-01-23T15:53:50.468Z"
   },
   {
    "duration": 5,
    "start_time": "2024-01-23T15:53:50.665Z"
   },
   {
    "duration": 9,
    "start_time": "2024-01-23T15:53:50.672Z"
   },
   {
    "duration": 57,
    "start_time": "2024-01-23T15:53:50.683Z"
   },
   {
    "duration": 175,
    "start_time": "2024-01-23T15:53:50.741Z"
   },
   {
    "duration": 254,
    "start_time": "2024-01-23T15:53:50.918Z"
   },
   {
    "duration": 11,
    "start_time": "2024-01-23T15:53:51.174Z"
   },
   {
    "duration": 15,
    "start_time": "2024-01-23T15:53:51.187Z"
   },
   {
    "duration": 26,
    "start_time": "2024-01-23T15:53:51.204Z"
   },
   {
    "duration": 38,
    "start_time": "2024-01-23T15:53:51.232Z"
   },
   {
    "duration": 218,
    "start_time": "2024-01-23T15:53:51.271Z"
   },
   {
    "duration": 16,
    "start_time": "2024-01-23T15:53:51.491Z"
   },
   {
    "duration": 30,
    "start_time": "2024-01-23T15:53:51.509Z"
   },
   {
    "duration": 23,
    "start_time": "2024-01-23T15:53:51.541Z"
   },
   {
    "duration": 10,
    "start_time": "2024-01-23T15:53:51.566Z"
   },
   {
    "duration": 10,
    "start_time": "2024-01-23T15:53:51.577Z"
   },
   {
    "duration": 5,
    "start_time": "2024-01-23T15:53:51.592Z"
   },
   {
    "duration": 33,
    "start_time": "2024-01-23T15:53:51.598Z"
   },
   {
    "duration": 284,
    "start_time": "2024-01-23T15:53:51.633Z"
   },
   {
    "duration": 18,
    "start_time": "2024-01-23T15:54:42.681Z"
   },
   {
    "duration": 22,
    "start_time": "2024-01-23T15:55:23.372Z"
   },
   {
    "duration": 43,
    "start_time": "2024-01-23T15:56:34.378Z"
   },
   {
    "duration": 317,
    "start_time": "2024-01-23T15:56:46.715Z"
   },
   {
    "duration": 42,
    "start_time": "2024-01-23T15:57:29.002Z"
   },
   {
    "duration": 4,
    "start_time": "2024-01-23T15:59:07.006Z"
   },
   {
    "duration": 7,
    "start_time": "2024-01-23T15:59:07.022Z"
   },
   {
    "duration": 4,
    "start_time": "2024-01-23T15:59:07.030Z"
   },
   {
    "duration": 6,
    "start_time": "2024-01-23T15:59:07.036Z"
   },
   {
    "duration": 8,
    "start_time": "2024-01-23T15:59:07.043Z"
   },
   {
    "duration": 14,
    "start_time": "2024-01-23T15:59:07.052Z"
   },
   {
    "duration": 651,
    "start_time": "2024-01-23T15:59:07.068Z"
   },
   {
    "duration": 133,
    "start_time": "2024-01-23T15:59:07.721Z"
   },
   {
    "duration": 55,
    "start_time": "2024-01-23T15:59:07.856Z"
   },
   {
    "duration": 58,
    "start_time": "2024-01-23T15:59:07.912Z"
   },
   {
    "duration": 15,
    "start_time": "2024-01-23T15:59:07.971Z"
   },
   {
    "duration": 9,
    "start_time": "2024-01-23T15:59:07.988Z"
   },
   {
    "duration": 13,
    "start_time": "2024-01-23T15:59:07.998Z"
   },
   {
    "duration": 16,
    "start_time": "2024-01-23T15:59:08.013Z"
   },
   {
    "duration": 24,
    "start_time": "2024-01-23T15:59:08.031Z"
   },
   {
    "duration": 8,
    "start_time": "2024-01-23T15:59:08.056Z"
   },
   {
    "duration": 40,
    "start_time": "2024-01-23T15:59:08.065Z"
   },
   {
    "duration": 21,
    "start_time": "2024-01-23T15:59:08.106Z"
   },
   {
    "duration": 7,
    "start_time": "2024-01-23T15:59:08.128Z"
   },
   {
    "duration": 31,
    "start_time": "2024-01-23T15:59:08.137Z"
   },
   {
    "duration": 20,
    "start_time": "2024-01-23T15:59:08.170Z"
   },
   {
    "duration": 26,
    "start_time": "2024-01-23T15:59:08.191Z"
   },
   {
    "duration": 11,
    "start_time": "2024-01-23T15:59:08.218Z"
   },
   {
    "duration": 20,
    "start_time": "2024-01-23T15:59:08.232Z"
   },
   {
    "duration": 15,
    "start_time": "2024-01-23T15:59:08.253Z"
   },
   {
    "duration": 22,
    "start_time": "2024-01-23T15:59:08.269Z"
   },
   {
    "duration": 65,
    "start_time": "2024-01-23T15:59:08.293Z"
   },
   {
    "duration": 14,
    "start_time": "2024-01-23T15:59:08.360Z"
   },
   {
    "duration": 29,
    "start_time": "2024-01-23T15:59:08.376Z"
   },
   {
    "duration": 23,
    "start_time": "2024-01-23T15:59:08.406Z"
   },
   {
    "duration": 20,
    "start_time": "2024-01-23T15:59:08.431Z"
   },
   {
    "duration": 26,
    "start_time": "2024-01-23T15:59:08.453Z"
   },
   {
    "duration": 14,
    "start_time": "2024-01-23T15:59:08.481Z"
   },
   {
    "duration": 40,
    "start_time": "2024-01-23T15:59:08.497Z"
   },
   {
    "duration": 6,
    "start_time": "2024-01-23T15:59:08.538Z"
   },
   {
    "duration": 29,
    "start_time": "2024-01-23T15:59:08.545Z"
   },
   {
    "duration": 24,
    "start_time": "2024-01-23T15:59:08.576Z"
   },
   {
    "duration": 29,
    "start_time": "2024-01-23T15:59:08.602Z"
   },
   {
    "duration": 16,
    "start_time": "2024-01-23T15:59:08.633Z"
   },
   {
    "duration": 39,
    "start_time": "2024-01-23T15:59:08.651Z"
   },
   {
    "duration": 39,
    "start_time": "2024-01-23T15:59:08.692Z"
   },
   {
    "duration": 23,
    "start_time": "2024-01-23T15:59:08.733Z"
   },
   {
    "duration": 49,
    "start_time": "2024-01-23T15:59:08.757Z"
   },
   {
    "duration": 14,
    "start_time": "2024-01-23T15:59:08.808Z"
   },
   {
    "duration": 17,
    "start_time": "2024-01-23T15:59:08.824Z"
   },
   {
    "duration": 61,
    "start_time": "2024-01-23T15:59:08.843Z"
   },
   {
    "duration": 27,
    "start_time": "2024-01-23T15:59:08.906Z"
   },
   {
    "duration": 28,
    "start_time": "2024-01-23T15:59:08.935Z"
   },
   {
    "duration": 22,
    "start_time": "2024-01-23T15:59:08.965Z"
   },
   {
    "duration": 41,
    "start_time": "2024-01-23T15:59:08.988Z"
   },
   {
    "duration": 26,
    "start_time": "2024-01-23T15:59:09.030Z"
   },
   {
    "duration": 33,
    "start_time": "2024-01-23T15:59:09.057Z"
   },
   {
    "duration": 31,
    "start_time": "2024-01-23T15:59:09.091Z"
   },
   {
    "duration": 23,
    "start_time": "2024-01-23T15:59:09.124Z"
   },
   {
    "duration": 27,
    "start_time": "2024-01-23T15:59:09.148Z"
   },
   {
    "duration": 23,
    "start_time": "2024-01-23T15:59:09.176Z"
   },
   {
    "duration": 37,
    "start_time": "2024-01-23T15:59:09.201Z"
   },
   {
    "duration": 54,
    "start_time": "2024-01-23T15:59:09.239Z"
   },
   {
    "duration": 29,
    "start_time": "2024-01-23T15:59:09.295Z"
   },
   {
    "duration": 41,
    "start_time": "2024-01-23T15:59:09.329Z"
   },
   {
    "duration": 20,
    "start_time": "2024-01-23T15:59:09.372Z"
   },
   {
    "duration": 37,
    "start_time": "2024-01-23T15:59:09.393Z"
   },
   {
    "duration": 26,
    "start_time": "2024-01-23T15:59:09.432Z"
   },
   {
    "duration": 19,
    "start_time": "2024-01-23T15:59:09.460Z"
   },
   {
    "duration": 14,
    "start_time": "2024-01-23T15:59:09.480Z"
   },
   {
    "duration": 7,
    "start_time": "2024-01-23T15:59:09.496Z"
   },
   {
    "duration": 23,
    "start_time": "2024-01-23T15:59:09.504Z"
   },
   {
    "duration": 19,
    "start_time": "2024-01-23T15:59:09.528Z"
   },
   {
    "duration": 49,
    "start_time": "2024-01-23T15:59:09.548Z"
   },
   {
    "duration": 206,
    "start_time": "2024-01-23T15:59:09.598Z"
   },
   {
    "duration": 11,
    "start_time": "2024-01-23T15:59:09.806Z"
   },
   {
    "duration": 196,
    "start_time": "2024-01-23T15:59:09.819Z"
   },
   {
    "duration": 3,
    "start_time": "2024-01-23T15:59:10.017Z"
   },
   {
    "duration": 13,
    "start_time": "2024-01-23T15:59:10.021Z"
   },
   {
    "duration": 17,
    "start_time": "2024-01-23T15:59:10.035Z"
   },
   {
    "duration": 159,
    "start_time": "2024-01-23T15:59:10.053Z"
   },
   {
    "duration": 254,
    "start_time": "2024-01-23T15:59:10.214Z"
   },
   {
    "duration": 12,
    "start_time": "2024-01-23T15:59:10.469Z"
   },
   {
    "duration": 16,
    "start_time": "2024-01-23T15:59:10.483Z"
   },
   {
    "duration": 20,
    "start_time": "2024-01-23T15:59:10.501Z"
   },
   {
    "duration": 13,
    "start_time": "2024-01-23T15:59:10.523Z"
   },
   {
    "duration": 237,
    "start_time": "2024-01-23T15:59:10.537Z"
   },
   {
    "duration": 15,
    "start_time": "2024-01-23T15:59:10.776Z"
   },
   {
    "duration": 22,
    "start_time": "2024-01-23T15:59:10.792Z"
   },
   {
    "duration": 8,
    "start_time": "2024-01-23T15:59:10.816Z"
   },
   {
    "duration": 39,
    "start_time": "2024-01-23T15:59:10.826Z"
   },
   {
    "duration": 10,
    "start_time": "2024-01-23T15:59:10.867Z"
   },
   {
    "duration": 15,
    "start_time": "2024-01-23T15:59:10.878Z"
   },
   {
    "duration": 20,
    "start_time": "2024-01-23T15:59:10.895Z"
   },
   {
    "duration": 281,
    "start_time": "2024-01-23T15:59:10.917Z"
   },
   {
    "duration": 19,
    "start_time": "2024-01-23T15:59:11.199Z"
   },
   {
    "duration": 21,
    "start_time": "2024-01-23T15:59:11.220Z"
   },
   {
    "duration": 44,
    "start_time": "2024-01-23T15:59:11.243Z"
   },
   {
    "duration": 311,
    "start_time": "2024-01-23T15:59:11.289Z"
   },
   {
    "duration": 43,
    "start_time": "2024-01-23T15:59:11.601Z"
   },
   {
    "duration": 5,
    "start_time": "2024-01-23T23:41:07.127Z"
   },
   {
    "duration": 7,
    "start_time": "2024-01-23T23:41:07.140Z"
   },
   {
    "duration": 5,
    "start_time": "2024-01-23T23:41:07.149Z"
   },
   {
    "duration": 11,
    "start_time": "2024-01-23T23:41:07.155Z"
   },
   {
    "duration": 6,
    "start_time": "2024-01-23T23:41:07.167Z"
   },
   {
    "duration": 5,
    "start_time": "2024-01-23T23:41:07.174Z"
   },
   {
    "duration": 862,
    "start_time": "2024-01-23T23:41:07.180Z"
   },
   {
    "duration": 337,
    "start_time": "2024-01-23T23:41:08.045Z"
   },
   {
    "duration": 60,
    "start_time": "2024-01-23T23:41:08.383Z"
   },
   {
    "duration": 59,
    "start_time": "2024-01-23T23:41:08.445Z"
   },
   {
    "duration": 20,
    "start_time": "2024-01-23T23:41:08.506Z"
   },
   {
    "duration": 9,
    "start_time": "2024-01-23T23:41:08.529Z"
   },
   {
    "duration": 43,
    "start_time": "2024-01-23T23:41:08.540Z"
   },
   {
    "duration": 3,
    "start_time": "2024-01-23T23:41:08.585Z"
   },
   {
    "duration": 20,
    "start_time": "2024-01-23T23:41:08.590Z"
   },
   {
    "duration": 5,
    "start_time": "2024-01-23T23:41:08.611Z"
   },
   {
    "duration": 24,
    "start_time": "2024-01-23T23:41:08.618Z"
   },
   {
    "duration": 18,
    "start_time": "2024-01-23T23:41:08.644Z"
   },
   {
    "duration": 5,
    "start_time": "2024-01-23T23:41:08.681Z"
   },
   {
    "duration": 9,
    "start_time": "2024-01-23T23:41:08.688Z"
   },
   {
    "duration": 5,
    "start_time": "2024-01-23T23:41:08.699Z"
   },
   {
    "duration": 13,
    "start_time": "2024-01-23T23:41:08.706Z"
   },
   {
    "duration": 4,
    "start_time": "2024-01-23T23:41:08.721Z"
   },
   {
    "duration": 19,
    "start_time": "2024-01-23T23:41:08.729Z"
   },
   {
    "duration": 21,
    "start_time": "2024-01-23T23:41:08.750Z"
   },
   {
    "duration": 15,
    "start_time": "2024-01-23T23:41:08.772Z"
   },
   {
    "duration": 55,
    "start_time": "2024-01-23T23:41:08.789Z"
   },
   {
    "duration": 17,
    "start_time": "2024-01-23T23:41:08.845Z"
   },
   {
    "duration": 34,
    "start_time": "2024-01-23T23:41:08.881Z"
   },
   {
    "duration": 32,
    "start_time": "2024-01-23T23:41:08.916Z"
   },
   {
    "duration": 4,
    "start_time": "2024-01-23T23:41:08.950Z"
   },
   {
    "duration": 19,
    "start_time": "2024-01-23T23:41:08.955Z"
   },
   {
    "duration": 4,
    "start_time": "2024-01-23T23:41:08.975Z"
   },
   {
    "duration": 21,
    "start_time": "2024-01-23T23:41:08.981Z"
   },
   {
    "duration": 4,
    "start_time": "2024-01-23T23:41:09.003Z"
   },
   {
    "duration": 10,
    "start_time": "2024-01-23T23:41:09.009Z"
   },
   {
    "duration": 8,
    "start_time": "2024-01-23T23:41:09.020Z"
   },
   {
    "duration": 9,
    "start_time": "2024-01-23T23:41:09.029Z"
   },
   {
    "duration": 6,
    "start_time": "2024-01-23T23:41:09.039Z"
   },
   {
    "duration": 4,
    "start_time": "2024-01-23T23:41:09.046Z"
   },
   {
    "duration": 48,
    "start_time": "2024-01-23T23:41:09.052Z"
   },
   {
    "duration": 30,
    "start_time": "2024-01-23T23:41:09.103Z"
   },
   {
    "duration": 26,
    "start_time": "2024-01-23T23:41:09.135Z"
   },
   {
    "duration": 29,
    "start_time": "2024-01-23T23:41:09.162Z"
   },
   {
    "duration": 4,
    "start_time": "2024-01-23T23:41:09.193Z"
   },
   {
    "duration": 25,
    "start_time": "2024-01-23T23:41:09.198Z"
   },
   {
    "duration": 7,
    "start_time": "2024-01-23T23:41:09.224Z"
   },
   {
    "duration": 8,
    "start_time": "2024-01-23T23:41:09.232Z"
   },
   {
    "duration": 7,
    "start_time": "2024-01-23T23:41:09.241Z"
   },
   {
    "duration": 31,
    "start_time": "2024-01-23T23:41:09.249Z"
   },
   {
    "duration": 4,
    "start_time": "2024-01-23T23:41:09.282Z"
   },
   {
    "duration": 15,
    "start_time": "2024-01-23T23:41:09.288Z"
   },
   {
    "duration": 6,
    "start_time": "2024-01-23T23:41:09.304Z"
   },
   {
    "duration": 5,
    "start_time": "2024-01-23T23:41:09.311Z"
   },
   {
    "duration": 15,
    "start_time": "2024-01-23T23:41:09.318Z"
   },
   {
    "duration": 7,
    "start_time": "2024-01-23T23:41:09.335Z"
   },
   {
    "duration": 48,
    "start_time": "2024-01-23T23:41:09.344Z"
   },
   {
    "duration": 21,
    "start_time": "2024-01-23T23:41:09.393Z"
   },
   {
    "duration": 7,
    "start_time": "2024-01-23T23:41:09.416Z"
   },
   {
    "duration": 22,
    "start_time": "2024-01-23T23:41:09.428Z"
   },
   {
    "duration": 28,
    "start_time": "2024-01-23T23:41:09.452Z"
   },
   {
    "duration": 14,
    "start_time": "2024-01-23T23:41:09.482Z"
   },
   {
    "duration": 12,
    "start_time": "2024-01-23T23:41:09.498Z"
   },
   {
    "duration": 14,
    "start_time": "2024-01-23T23:41:09.512Z"
   },
   {
    "duration": 14,
    "start_time": "2024-01-23T23:41:09.527Z"
   },
   {
    "duration": 7,
    "start_time": "2024-01-23T23:41:09.542Z"
   },
   {
    "duration": 51,
    "start_time": "2024-01-23T23:41:09.550Z"
   },
   {
    "duration": 20,
    "start_time": "2024-01-23T23:41:09.602Z"
   },
   {
    "duration": 37,
    "start_time": "2024-01-23T23:41:09.623Z"
   },
   {
    "duration": 186,
    "start_time": "2024-01-23T23:41:09.681Z"
   },
   {
    "duration": 17,
    "start_time": "2024-01-23T23:41:09.869Z"
   },
   {
    "duration": 195,
    "start_time": "2024-01-23T23:41:09.887Z"
   },
   {
    "duration": 5,
    "start_time": "2024-01-23T23:41:10.083Z"
   },
   {
    "duration": 5,
    "start_time": "2024-01-23T23:41:10.090Z"
   },
   {
    "duration": 12,
    "start_time": "2024-01-23T23:41:10.096Z"
   },
   {
    "duration": 204,
    "start_time": "2024-01-23T23:41:10.109Z"
   },
   {
    "duration": 305,
    "start_time": "2024-01-23T23:41:10.314Z"
   },
   {
    "duration": 12,
    "start_time": "2024-01-23T23:41:10.620Z"
   },
   {
    "duration": 7,
    "start_time": "2024-01-23T23:41:10.634Z"
   },
   {
    "duration": 5,
    "start_time": "2024-01-23T23:41:10.642Z"
   },
   {
    "duration": 35,
    "start_time": "2024-01-23T23:41:10.648Z"
   },
   {
    "duration": 254,
    "start_time": "2024-01-23T23:41:10.684Z"
   },
   {
    "duration": 15,
    "start_time": "2024-01-23T23:41:10.939Z"
   },
   {
    "duration": 41,
    "start_time": "2024-01-23T23:41:10.956Z"
   },
   {
    "duration": 11,
    "start_time": "2024-01-23T23:41:10.999Z"
   },
   {
    "duration": 22,
    "start_time": "2024-01-23T23:41:11.011Z"
   },
   {
    "duration": 10,
    "start_time": "2024-01-23T23:41:11.035Z"
   },
   {
    "duration": 8,
    "start_time": "2024-01-23T23:41:11.046Z"
   },
   {
    "duration": 32,
    "start_time": "2024-01-23T23:41:11.055Z"
   },
   {
    "duration": 273,
    "start_time": "2024-01-23T23:41:11.088Z"
   },
   {
    "duration": 28,
    "start_time": "2024-01-23T23:41:11.363Z"
   },
   {
    "duration": 37,
    "start_time": "2024-01-23T23:41:11.393Z"
   },
   {
    "duration": 40,
    "start_time": "2024-01-23T23:41:11.431Z"
   },
   {
    "duration": 361,
    "start_time": "2024-01-23T23:41:11.472Z"
   },
   {
    "duration": 52,
    "start_time": "2024-01-23T23:41:11.834Z"
   },
   {
    "duration": 9,
    "start_time": "2024-01-24T00:19:10.605Z"
   },
   {
    "duration": 31,
    "start_time": "2024-01-24T00:19:10.616Z"
   },
   {
    "duration": 22,
    "start_time": "2024-01-24T00:19:10.649Z"
   },
   {
    "duration": 29,
    "start_time": "2024-01-24T00:19:10.673Z"
   },
   {
    "duration": 19,
    "start_time": "2024-01-24T00:19:10.704Z"
   },
   {
    "duration": 653,
    "start_time": "2024-01-24T00:19:10.725Z"
   },
   {
    "duration": 127,
    "start_time": "2024-01-24T00:19:11.379Z"
   },
   {
    "duration": 54,
    "start_time": "2024-01-24T00:19:11.508Z"
   },
   {
    "duration": 58,
    "start_time": "2024-01-24T00:19:11.564Z"
   },
   {
    "duration": 17,
    "start_time": "2024-01-24T00:19:11.624Z"
   },
   {
    "duration": 9,
    "start_time": "2024-01-24T00:19:11.642Z"
   },
   {
    "duration": 9,
    "start_time": "2024-01-24T00:19:11.652Z"
   },
   {
    "duration": 11,
    "start_time": "2024-01-24T00:19:11.662Z"
   },
   {
    "duration": 12,
    "start_time": "2024-01-24T00:19:11.675Z"
   },
   {
    "duration": 16,
    "start_time": "2024-01-24T00:19:11.688Z"
   },
   {
    "duration": 15,
    "start_time": "2024-01-24T00:19:11.717Z"
   },
   {
    "duration": 14,
    "start_time": "2024-01-24T00:19:11.733Z"
   },
   {
    "duration": 4,
    "start_time": "2024-01-24T00:19:11.748Z"
   },
   {
    "duration": 15,
    "start_time": "2024-01-24T00:19:11.753Z"
   },
   {
    "duration": 5,
    "start_time": "2024-01-24T00:19:11.770Z"
   },
   {
    "duration": 9,
    "start_time": "2024-01-24T00:19:11.777Z"
   },
   {
    "duration": 7,
    "start_time": "2024-01-24T00:19:11.787Z"
   },
   {
    "duration": 23,
    "start_time": "2024-01-24T00:19:11.795Z"
   },
   {
    "duration": 8,
    "start_time": "2024-01-24T00:19:11.820Z"
   },
   {
    "duration": 9,
    "start_time": "2024-01-24T00:19:11.829Z"
   },
   {
    "duration": 51,
    "start_time": "2024-01-24T00:19:11.840Z"
   },
   {
    "duration": 41,
    "start_time": "2024-01-24T00:19:11.892Z"
   },
   {
    "duration": 18,
    "start_time": "2024-01-24T00:19:11.938Z"
   },
   {
    "duration": 30,
    "start_time": "2024-01-24T00:19:11.958Z"
   },
   {
    "duration": 12,
    "start_time": "2024-01-24T00:19:11.989Z"
   },
   {
    "duration": 19,
    "start_time": "2024-01-24T00:19:12.002Z"
   },
   {
    "duration": 3,
    "start_time": "2024-01-24T00:19:12.023Z"
   },
   {
    "duration": 20,
    "start_time": "2024-01-24T00:19:12.028Z"
   },
   {
    "duration": 4,
    "start_time": "2024-01-24T00:19:12.050Z"
   },
   {
    "duration": 12,
    "start_time": "2024-01-24T00:19:12.055Z"
   },
   {
    "duration": 18,
    "start_time": "2024-01-24T00:19:12.068Z"
   },
   {
    "duration": 5,
    "start_time": "2024-01-24T00:19:12.088Z"
   },
   {
    "duration": 5,
    "start_time": "2024-01-24T00:19:12.094Z"
   },
   {
    "duration": 11,
    "start_time": "2024-01-24T00:19:12.100Z"
   },
   {
    "duration": 23,
    "start_time": "2024-01-24T00:19:12.118Z"
   },
   {
    "duration": 22,
    "start_time": "2024-01-24T00:19:12.143Z"
   },
   {
    "duration": 31,
    "start_time": "2024-01-24T00:19:12.167Z"
   },
   {
    "duration": 29,
    "start_time": "2024-01-24T00:19:12.200Z"
   },
   {
    "duration": 27,
    "start_time": "2024-01-24T00:19:12.230Z"
   },
   {
    "duration": 22,
    "start_time": "2024-01-24T00:19:12.259Z"
   },
   {
    "duration": 14,
    "start_time": "2024-01-24T00:19:12.283Z"
   },
   {
    "duration": 23,
    "start_time": "2024-01-24T00:19:12.298Z"
   },
   {
    "duration": 22,
    "start_time": "2024-01-24T00:19:12.322Z"
   },
   {
    "duration": 22,
    "start_time": "2024-01-24T00:19:12.345Z"
   },
   {
    "duration": 7,
    "start_time": "2024-01-24T00:19:12.368Z"
   },
   {
    "duration": 9,
    "start_time": "2024-01-24T00:19:12.376Z"
   },
   {
    "duration": 9,
    "start_time": "2024-01-24T00:19:12.386Z"
   },
   {
    "duration": 13,
    "start_time": "2024-01-24T00:19:12.396Z"
   },
   {
    "duration": 20,
    "start_time": "2024-01-24T00:19:12.411Z"
   },
   {
    "duration": 13,
    "start_time": "2024-01-24T00:19:12.433Z"
   },
   {
    "duration": 26,
    "start_time": "2024-01-24T00:19:12.447Z"
   },
   {
    "duration": 19,
    "start_time": "2024-01-24T00:19:12.475Z"
   },
   {
    "duration": 17,
    "start_time": "2024-01-24T00:19:12.495Z"
   },
   {
    "duration": 30,
    "start_time": "2024-01-24T00:19:12.513Z"
   },
   {
    "duration": 3,
    "start_time": "2024-01-24T00:19:12.544Z"
   },
   {
    "duration": 30,
    "start_time": "2024-01-24T00:19:12.548Z"
   },
   {
    "duration": 24,
    "start_time": "2024-01-24T00:19:12.579Z"
   },
   {
    "duration": 14,
    "start_time": "2024-01-24T00:19:12.604Z"
   },
   {
    "duration": 12,
    "start_time": "2024-01-24T00:19:12.619Z"
   },
   {
    "duration": 6,
    "start_time": "2024-01-24T00:19:12.633Z"
   },
   {
    "duration": 25,
    "start_time": "2024-01-24T00:19:12.640Z"
   },
   {
    "duration": 18,
    "start_time": "2024-01-24T00:19:12.666Z"
   },
   {
    "duration": 54,
    "start_time": "2024-01-24T00:19:12.685Z"
   },
   {
    "duration": 172,
    "start_time": "2024-01-24T00:19:12.740Z"
   },
   {
    "duration": 8,
    "start_time": "2024-01-24T00:19:12.917Z"
   },
   {
    "duration": 171,
    "start_time": "2024-01-24T00:19:12.927Z"
   },
   {
    "duration": 4,
    "start_time": "2024-01-24T00:19:13.099Z"
   },
   {
    "duration": 31,
    "start_time": "2024-01-24T00:19:13.105Z"
   },
   {
    "duration": 27,
    "start_time": "2024-01-24T00:19:13.137Z"
   },
   {
    "duration": 167,
    "start_time": "2024-01-24T00:19:13.165Z"
   },
   {
    "duration": 265,
    "start_time": "2024-01-24T00:19:13.333Z"
   },
   {
    "duration": 21,
    "start_time": "2024-01-24T00:19:13.600Z"
   },
   {
    "duration": 5,
    "start_time": "2024-01-24T00:19:13.623Z"
   },
   {
    "duration": 5,
    "start_time": "2024-01-24T00:19:13.629Z"
   },
   {
    "duration": 12,
    "start_time": "2024-01-24T00:19:13.635Z"
   },
   {
    "duration": 263,
    "start_time": "2024-01-24T00:19:13.649Z"
   },
   {
    "duration": 15,
    "start_time": "2024-01-24T00:19:13.917Z"
   },
   {
    "duration": 36,
    "start_time": "2024-01-24T00:19:13.934Z"
   },
   {
    "duration": 7,
    "start_time": "2024-01-24T00:19:13.972Z"
   },
   {
    "duration": 8,
    "start_time": "2024-01-24T00:19:13.980Z"
   },
   {
    "duration": 28,
    "start_time": "2024-01-24T00:19:13.990Z"
   },
   {
    "duration": 6,
    "start_time": "2024-01-24T00:19:14.020Z"
   },
   {
    "duration": 15,
    "start_time": "2024-01-24T00:19:14.027Z"
   },
   {
    "duration": 270,
    "start_time": "2024-01-24T00:19:14.044Z"
   },
   {
    "duration": 19,
    "start_time": "2024-01-24T00:19:14.318Z"
   },
   {
    "duration": 22,
    "start_time": "2024-01-24T00:19:14.339Z"
   },
   {
    "duration": 57,
    "start_time": "2024-01-24T00:19:14.363Z"
   },
   {
    "duration": 341,
    "start_time": "2024-01-24T00:19:14.421Z"
   },
   {
    "duration": 53,
    "start_time": "2024-01-24T00:19:14.765Z"
   },
   {
    "duration": 9,
    "start_time": "2024-01-24T09:45:30.962Z"
   },
   {
    "duration": 47,
    "start_time": "2024-01-24T09:45:30.973Z"
   },
   {
    "duration": 26,
    "start_time": "2024-01-24T09:45:31.022Z"
   },
   {
    "duration": 53,
    "start_time": "2024-01-24T09:45:31.050Z"
   },
   {
    "duration": 24,
    "start_time": "2024-01-24T09:45:31.105Z"
   },
   {
    "duration": 870,
    "start_time": "2024-01-24T09:45:31.131Z"
   },
   {
    "duration": 327,
    "start_time": "2024-01-24T09:45:32.003Z"
   },
   {
    "duration": 57,
    "start_time": "2024-01-24T09:45:32.332Z"
   },
   {
    "duration": 31,
    "start_time": "2024-01-24T09:45:32.391Z"
   },
   {
    "duration": 47,
    "start_time": "2024-01-24T09:45:32.423Z"
   },
   {
    "duration": 8,
    "start_time": "2024-01-24T09:45:32.471Z"
   },
   {
    "duration": 13,
    "start_time": "2024-01-24T09:45:32.481Z"
   },
   {
    "duration": 27,
    "start_time": "2024-01-24T09:45:32.497Z"
   },
   {
    "duration": 30,
    "start_time": "2024-01-24T09:45:32.525Z"
   },
   {
    "duration": 12,
    "start_time": "2024-01-24T09:45:32.556Z"
   },
   {
    "duration": 21,
    "start_time": "2024-01-24T09:45:32.569Z"
   },
   {
    "duration": 28,
    "start_time": "2024-01-24T09:45:32.591Z"
   },
   {
    "duration": 77,
    "start_time": "2024-01-24T09:45:32.621Z"
   },
   {
    "duration": 16,
    "start_time": "2024-01-24T09:45:32.700Z"
   },
   {
    "duration": 8,
    "start_time": "2024-01-24T09:45:32.718Z"
   },
   {
    "duration": 13,
    "start_time": "2024-01-24T09:45:32.727Z"
   },
   {
    "duration": 11,
    "start_time": "2024-01-24T09:45:32.742Z"
   },
   {
    "duration": 9,
    "start_time": "2024-01-24T09:45:32.755Z"
   },
   {
    "duration": 10,
    "start_time": "2024-01-24T09:45:32.766Z"
   },
   {
    "duration": 9,
    "start_time": "2024-01-24T09:45:32.778Z"
   },
   {
    "duration": 63,
    "start_time": "2024-01-24T09:45:32.789Z"
   },
   {
    "duration": 16,
    "start_time": "2024-01-24T09:45:32.853Z"
   },
   {
    "duration": 19,
    "start_time": "2024-01-24T09:45:32.870Z"
   },
   {
    "duration": 29,
    "start_time": "2024-01-24T09:45:32.891Z"
   },
   {
    "duration": 14,
    "start_time": "2024-01-24T09:45:32.922Z"
   },
   {
    "duration": 46,
    "start_time": "2024-01-24T09:45:32.937Z"
   },
   {
    "duration": 7,
    "start_time": "2024-01-24T09:45:32.984Z"
   },
   {
    "duration": 25,
    "start_time": "2024-01-24T09:45:32.992Z"
   },
   {
    "duration": 10,
    "start_time": "2024-01-24T09:45:33.018Z"
   },
   {
    "duration": 20,
    "start_time": "2024-01-24T09:45:33.030Z"
   },
   {
    "duration": 23,
    "start_time": "2024-01-24T09:45:33.052Z"
   },
   {
    "duration": 19,
    "start_time": "2024-01-24T09:45:33.080Z"
   },
   {
    "duration": 13,
    "start_time": "2024-01-24T09:45:33.100Z"
   },
   {
    "duration": 4,
    "start_time": "2024-01-24T09:45:33.115Z"
   },
   {
    "duration": 32,
    "start_time": "2024-01-24T09:45:33.120Z"
   },
   {
    "duration": 21,
    "start_time": "2024-01-24T09:45:33.153Z"
   },
   {
    "duration": 23,
    "start_time": "2024-01-24T09:45:33.176Z"
   },
   {
    "duration": 13,
    "start_time": "2024-01-24T09:45:33.200Z"
   },
   {
    "duration": 16,
    "start_time": "2024-01-24T09:45:33.215Z"
   },
   {
    "duration": 18,
    "start_time": "2024-01-24T09:45:33.232Z"
   },
   {
    "duration": 5,
    "start_time": "2024-01-24T09:45:33.258Z"
   },
   {
    "duration": 6,
    "start_time": "2024-01-24T09:45:33.264Z"
   },
   {
    "duration": 5,
    "start_time": "2024-01-24T09:45:33.271Z"
   },
   {
    "duration": 4,
    "start_time": "2024-01-24T09:45:33.278Z"
   },
   {
    "duration": 4,
    "start_time": "2024-01-24T09:45:33.284Z"
   },
   {
    "duration": 16,
    "start_time": "2024-01-24T09:45:33.289Z"
   },
   {
    "duration": 7,
    "start_time": "2024-01-24T09:45:33.307Z"
   },
   {
    "duration": 5,
    "start_time": "2024-01-24T09:45:33.315Z"
   },
   {
    "duration": 38,
    "start_time": "2024-01-24T09:45:33.322Z"
   },
   {
    "duration": 8,
    "start_time": "2024-01-24T09:45:33.361Z"
   },
   {
    "duration": 22,
    "start_time": "2024-01-24T09:45:33.370Z"
   },
   {
    "duration": 18,
    "start_time": "2024-01-24T09:45:33.393Z"
   },
   {
    "duration": 12,
    "start_time": "2024-01-24T09:45:33.413Z"
   },
   {
    "duration": 37,
    "start_time": "2024-01-24T09:45:33.427Z"
   },
   {
    "duration": 16,
    "start_time": "2024-01-24T09:45:33.466Z"
   },
   {
    "duration": 17,
    "start_time": "2024-01-24T09:45:33.484Z"
   },
   {
    "duration": 22,
    "start_time": "2024-01-24T09:45:33.503Z"
   },
   {
    "duration": 18,
    "start_time": "2024-01-24T09:45:33.527Z"
   },
   {
    "duration": 13,
    "start_time": "2024-01-24T09:45:33.546Z"
   },
   {
    "duration": 10,
    "start_time": "2024-01-24T09:45:33.561Z"
   },
   {
    "duration": 25,
    "start_time": "2024-01-24T09:45:33.572Z"
   },
   {
    "duration": 18,
    "start_time": "2024-01-24T09:45:33.598Z"
   },
   {
    "duration": 49,
    "start_time": "2024-01-24T09:45:33.617Z"
   },
   {
    "duration": 182,
    "start_time": "2024-01-24T09:45:33.667Z"
   },
   {
    "duration": 15,
    "start_time": "2024-01-24T09:45:33.850Z"
   },
   {
    "duration": 185,
    "start_time": "2024-01-24T09:45:33.866Z"
   },
   {
    "duration": 6,
    "start_time": "2024-01-24T09:45:34.053Z"
   },
   {
    "duration": 12,
    "start_time": "2024-01-24T09:45:34.060Z"
   },
   {
    "duration": 13,
    "start_time": "2024-01-24T09:45:34.073Z"
   },
   {
    "duration": 156,
    "start_time": "2024-01-24T09:45:34.087Z"
   },
   {
    "duration": 252,
    "start_time": "2024-01-24T09:45:34.244Z"
   },
   {
    "duration": 11,
    "start_time": "2024-01-24T09:45:34.497Z"
   },
   {
    "duration": 11,
    "start_time": "2024-01-24T09:45:34.510Z"
   },
   {
    "duration": 5,
    "start_time": "2024-01-24T09:45:34.522Z"
   },
   {
    "duration": 31,
    "start_time": "2024-01-24T09:45:34.528Z"
   },
   {
    "duration": 229,
    "start_time": "2024-01-24T09:45:34.561Z"
   },
   {
    "duration": 13,
    "start_time": "2024-01-24T09:45:34.792Z"
   },
   {
    "duration": 29,
    "start_time": "2024-01-24T09:45:34.806Z"
   },
   {
    "duration": 26,
    "start_time": "2024-01-24T09:45:34.837Z"
   },
   {
    "duration": 8,
    "start_time": "2024-01-24T09:45:34.864Z"
   },
   {
    "duration": 28,
    "start_time": "2024-01-24T09:45:34.874Z"
   },
   {
    "duration": 43,
    "start_time": "2024-01-24T09:45:34.903Z"
   },
   {
    "duration": 18,
    "start_time": "2024-01-24T09:45:34.948Z"
   },
   {
    "duration": 247,
    "start_time": "2024-01-24T09:45:34.967Z"
   },
   {
    "duration": 17,
    "start_time": "2024-01-24T09:45:35.216Z"
   },
   {
    "duration": 25,
    "start_time": "2024-01-24T09:45:35.235Z"
   },
   {
    "duration": 43,
    "start_time": "2024-01-24T09:45:35.262Z"
   },
   {
    "duration": 311,
    "start_time": "2024-01-24T09:45:35.306Z"
   },
   {
    "duration": 49,
    "start_time": "2024-01-24T09:45:35.618Z"
   },
   {
    "duration": 6,
    "start_time": "2024-01-24T09:56:48.439Z"
   },
   {
    "duration": 8,
    "start_time": "2024-01-24T13:13:07.351Z"
   },
   {
    "duration": 4,
    "start_time": "2024-01-24T13:13:07.364Z"
   },
   {
    "duration": 4,
    "start_time": "2024-01-24T13:13:07.370Z"
   },
   {
    "duration": 7,
    "start_time": "2024-01-24T13:13:07.376Z"
   },
   {
    "duration": 7,
    "start_time": "2024-01-24T13:13:07.385Z"
   },
   {
    "duration": 897,
    "start_time": "2024-01-24T13:13:07.397Z"
   },
   {
    "duration": 339,
    "start_time": "2024-01-24T13:13:08.296Z"
   },
   {
    "duration": 79,
    "start_time": "2024-01-24T13:13:08.637Z"
   },
   {
    "duration": 71,
    "start_time": "2024-01-24T13:13:08.718Z"
   },
   {
    "duration": 17,
    "start_time": "2024-01-24T13:13:08.791Z"
   },
   {
    "duration": 12,
    "start_time": "2024-01-24T13:13:08.810Z"
   },
   {
    "duration": 34,
    "start_time": "2024-01-24T13:13:08.823Z"
   },
   {
    "duration": 5,
    "start_time": "2024-01-24T13:13:08.859Z"
   },
   {
    "duration": 24,
    "start_time": "2024-01-24T13:13:08.866Z"
   },
   {
    "duration": 5,
    "start_time": "2024-01-24T13:13:08.892Z"
   },
   {
    "duration": 20,
    "start_time": "2024-01-24T13:13:08.898Z"
   },
   {
    "duration": 15,
    "start_time": "2024-01-24T13:13:08.920Z"
   },
   {
    "duration": 11,
    "start_time": "2024-01-24T13:13:08.936Z"
   },
   {
    "duration": 30,
    "start_time": "2024-01-24T13:13:08.950Z"
   },
   {
    "duration": 17,
    "start_time": "2024-01-24T13:13:08.981Z"
   },
   {
    "duration": 27,
    "start_time": "2024-01-24T13:13:08.999Z"
   },
   {
    "duration": 21,
    "start_time": "2024-01-24T13:13:09.027Z"
   },
   {
    "duration": 15,
    "start_time": "2024-01-24T13:13:09.050Z"
   },
   {
    "duration": 37,
    "start_time": "2024-01-24T13:13:09.066Z"
   },
   {
    "duration": 33,
    "start_time": "2024-01-24T13:13:09.104Z"
   },
   {
    "duration": 38,
    "start_time": "2024-01-24T13:13:09.138Z"
   },
   {
    "duration": 73,
    "start_time": "2024-01-24T13:13:09.178Z"
   },
   {
    "duration": 15,
    "start_time": "2024-01-24T13:13:09.252Z"
   },
   {
    "duration": 32,
    "start_time": "2024-01-24T13:13:09.269Z"
   },
   {
    "duration": 37,
    "start_time": "2024-01-24T13:13:09.303Z"
   },
   {
    "duration": 32,
    "start_time": "2024-01-24T13:13:09.341Z"
   },
   {
    "duration": 49,
    "start_time": "2024-01-24T13:13:09.375Z"
   },
   {
    "duration": 19,
    "start_time": "2024-01-24T13:13:09.426Z"
   },
   {
    "duration": 34,
    "start_time": "2024-01-24T13:13:09.447Z"
   },
   {
    "duration": 4,
    "start_time": "2024-01-24T13:13:09.483Z"
   },
   {
    "duration": 18,
    "start_time": "2024-01-24T13:13:09.489Z"
   },
   {
    "duration": 41,
    "start_time": "2024-01-24T13:13:09.508Z"
   },
   {
    "duration": 24,
    "start_time": "2024-01-24T13:13:09.551Z"
   },
   {
    "duration": 24,
    "start_time": "2024-01-24T13:13:09.577Z"
   },
   {
    "duration": 32,
    "start_time": "2024-01-24T13:13:09.603Z"
   },
   {
    "duration": 42,
    "start_time": "2024-01-24T13:13:09.637Z"
   },
   {
    "duration": 25,
    "start_time": "2024-01-24T13:13:09.681Z"
   },
   {
    "duration": 37,
    "start_time": "2024-01-24T13:13:09.708Z"
   },
   {
    "duration": 15,
    "start_time": "2024-01-24T13:13:09.746Z"
   },
   {
    "duration": 33,
    "start_time": "2024-01-24T13:13:09.763Z"
   },
   {
    "duration": 26,
    "start_time": "2024-01-24T13:13:09.800Z"
   },
   {
    "duration": 23,
    "start_time": "2024-01-24T13:13:09.827Z"
   },
   {
    "duration": 27,
    "start_time": "2024-01-24T13:13:09.851Z"
   },
   {
    "duration": 29,
    "start_time": "2024-01-24T13:13:09.880Z"
   },
   {
    "duration": 33,
    "start_time": "2024-01-24T13:13:09.911Z"
   },
   {
    "duration": 26,
    "start_time": "2024-01-24T13:13:09.946Z"
   },
   {
    "duration": 25,
    "start_time": "2024-01-24T13:13:09.974Z"
   },
   {
    "duration": 32,
    "start_time": "2024-01-24T13:13:10.001Z"
   },
   {
    "duration": 26,
    "start_time": "2024-01-24T13:13:10.035Z"
   },
   {
    "duration": 40,
    "start_time": "2024-01-24T13:13:10.063Z"
   },
   {
    "duration": 34,
    "start_time": "2024-01-24T13:13:10.105Z"
   },
   {
    "duration": 30,
    "start_time": "2024-01-24T13:13:10.140Z"
   },
   {
    "duration": 22,
    "start_time": "2024-01-24T13:13:10.172Z"
   },
   {
    "duration": 7,
    "start_time": "2024-01-24T13:13:10.196Z"
   },
   {
    "duration": 45,
    "start_time": "2024-01-24T13:13:10.204Z"
   },
   {
    "duration": 16,
    "start_time": "2024-01-24T13:13:10.251Z"
   },
   {
    "duration": 46,
    "start_time": "2024-01-24T13:13:10.269Z"
   },
   {
    "duration": 35,
    "start_time": "2024-01-24T13:13:10.316Z"
   },
   {
    "duration": 28,
    "start_time": "2024-01-24T13:13:10.353Z"
   },
   {
    "duration": 28,
    "start_time": "2024-01-24T13:13:10.383Z"
   },
   {
    "duration": 19,
    "start_time": "2024-01-24T13:13:10.413Z"
   },
   {
    "duration": 47,
    "start_time": "2024-01-24T13:13:10.434Z"
   },
   {
    "duration": 25,
    "start_time": "2024-01-24T13:13:10.483Z"
   },
   {
    "duration": 59,
    "start_time": "2024-01-24T13:13:10.510Z"
   },
   {
    "duration": 184,
    "start_time": "2024-01-24T13:13:10.571Z"
   },
   {
    "duration": 10,
    "start_time": "2024-01-24T13:13:10.756Z"
   },
   {
    "duration": 201,
    "start_time": "2024-01-24T13:13:10.768Z"
   },
   {
    "duration": 12,
    "start_time": "2024-01-24T13:13:10.970Z"
   },
   {
    "duration": 30,
    "start_time": "2024-01-24T13:13:10.983Z"
   },
   {
    "duration": 20,
    "start_time": "2024-01-24T13:13:11.015Z"
   },
   {
    "duration": 181,
    "start_time": "2024-01-24T13:13:11.036Z"
   },
   {
    "duration": 314,
    "start_time": "2024-01-24T13:13:11.218Z"
   },
   {
    "duration": 12,
    "start_time": "2024-01-24T13:13:11.533Z"
   },
   {
    "duration": 32,
    "start_time": "2024-01-24T13:13:11.547Z"
   },
   {
    "duration": 17,
    "start_time": "2024-01-24T13:13:11.581Z"
   },
   {
    "duration": 26,
    "start_time": "2024-01-24T13:13:11.599Z"
   },
   {
    "duration": 245,
    "start_time": "2024-01-24T13:13:11.626Z"
   },
   {
    "duration": 19,
    "start_time": "2024-01-24T13:13:11.873Z"
   },
   {
    "duration": 39,
    "start_time": "2024-01-24T13:13:11.893Z"
   },
   {
    "duration": 30,
    "start_time": "2024-01-24T13:13:11.933Z"
   },
   {
    "duration": 41,
    "start_time": "2024-01-24T13:13:11.964Z"
   },
   {
    "duration": 29,
    "start_time": "2024-01-24T13:13:12.007Z"
   },
   {
    "duration": 10,
    "start_time": "2024-01-24T13:13:12.039Z"
   },
   {
    "duration": 32,
    "start_time": "2024-01-24T13:13:12.050Z"
   },
   {
    "duration": 295,
    "start_time": "2024-01-24T13:13:12.085Z"
   },
   {
    "duration": 20,
    "start_time": "2024-01-24T13:13:12.382Z"
   },
   {
    "duration": 34,
    "start_time": "2024-01-24T13:13:12.403Z"
   },
   {
    "duration": 48,
    "start_time": "2024-01-24T13:13:12.438Z"
   },
   {
    "duration": 352,
    "start_time": "2024-01-24T13:13:12.487Z"
   },
   {
    "duration": 54,
    "start_time": "2024-01-24T13:13:12.841Z"
   },
   {
    "duration": 4,
    "start_time": "2024-01-24T13:47:11.936Z"
   },
   {
    "duration": 3,
    "start_time": "2024-01-24T13:47:15.564Z"
   },
   {
    "duration": 5,
    "start_time": "2024-01-24T13:47:32.901Z"
   },
   {
    "duration": 9,
    "start_time": "2024-01-25T12:47:45.721Z"
   },
   {
    "duration": 6,
    "start_time": "2024-01-25T12:47:45.735Z"
   },
   {
    "duration": 11,
    "start_time": "2024-01-25T12:47:45.743Z"
   },
   {
    "duration": 15,
    "start_time": "2024-01-25T12:47:45.756Z"
   },
   {
    "duration": 5,
    "start_time": "2024-01-25T12:47:45.773Z"
   },
   {
    "duration": 867,
    "start_time": "2024-01-25T12:47:45.780Z"
   },
   {
    "duration": 276,
    "start_time": "2024-01-25T12:47:46.649Z"
   },
   {
    "duration": 67,
    "start_time": "2024-01-25T12:47:46.927Z"
   },
   {
    "duration": 58,
    "start_time": "2024-01-25T12:47:46.996Z"
   },
   {
    "duration": 18,
    "start_time": "2024-01-25T12:47:47.056Z"
   },
   {
    "duration": 49,
    "start_time": "2024-01-25T12:47:47.076Z"
   },
   {
    "duration": 9,
    "start_time": "2024-01-25T12:47:47.128Z"
   },
   {
    "duration": 5,
    "start_time": "2024-01-25T12:47:47.139Z"
   },
   {
    "duration": 19,
    "start_time": "2024-01-25T12:47:47.146Z"
   },
   {
    "duration": 5,
    "start_time": "2024-01-25T12:47:47.167Z"
   },
   {
    "duration": 49,
    "start_time": "2024-01-25T12:47:47.174Z"
   },
   {
    "duration": 24,
    "start_time": "2024-01-25T12:47:47.228Z"
   },
   {
    "duration": 6,
    "start_time": "2024-01-25T12:47:47.254Z"
   },
   {
    "duration": 30,
    "start_time": "2024-01-25T12:47:47.261Z"
   },
   {
    "duration": 20,
    "start_time": "2024-01-25T12:47:47.293Z"
   },
   {
    "duration": 12,
    "start_time": "2024-01-25T12:47:47.315Z"
   },
   {
    "duration": 26,
    "start_time": "2024-01-25T12:47:47.330Z"
   },
   {
    "duration": 9,
    "start_time": "2024-01-25T12:47:47.358Z"
   },
   {
    "duration": 13,
    "start_time": "2024-01-25T12:47:47.369Z"
   },
   {
    "duration": 6,
    "start_time": "2024-01-25T12:47:47.383Z"
   },
   {
    "duration": 10,
    "start_time": "2024-01-25T12:47:47.390Z"
   },
   {
    "duration": 60,
    "start_time": "2024-01-25T12:47:47.402Z"
   },
   {
    "duration": 19,
    "start_time": "2024-01-25T12:47:47.464Z"
   },
   {
    "duration": 14,
    "start_time": "2024-01-25T12:47:47.484Z"
   },
   {
    "duration": 33,
    "start_time": "2024-01-25T12:47:47.501Z"
   },
   {
    "duration": 12,
    "start_time": "2024-01-25T12:47:47.536Z"
   },
   {
    "duration": 6,
    "start_time": "2024-01-25T12:47:47.551Z"
   },
   {
    "duration": 27,
    "start_time": "2024-01-25T12:47:47.559Z"
   },
   {
    "duration": 6,
    "start_time": "2024-01-25T12:47:47.588Z"
   },
   {
    "duration": 45,
    "start_time": "2024-01-25T12:47:47.595Z"
   },
   {
    "duration": 3,
    "start_time": "2024-01-25T12:47:47.642Z"
   },
   {
    "duration": 11,
    "start_time": "2024-01-25T12:47:47.647Z"
   },
   {
    "duration": 27,
    "start_time": "2024-01-25T12:47:47.659Z"
   },
   {
    "duration": 14,
    "start_time": "2024-01-25T12:47:47.688Z"
   },
   {
    "duration": 9,
    "start_time": "2024-01-25T12:47:47.703Z"
   },
   {
    "duration": 21,
    "start_time": "2024-01-25T12:47:47.716Z"
   },
   {
    "duration": 33,
    "start_time": "2024-01-25T12:47:47.739Z"
   },
   {
    "duration": 25,
    "start_time": "2024-01-25T12:47:47.773Z"
   },
   {
    "duration": 30,
    "start_time": "2024-01-25T12:47:47.799Z"
   },
   {
    "duration": 16,
    "start_time": "2024-01-25T12:47:47.831Z"
   },
   {
    "duration": 5,
    "start_time": "2024-01-25T12:47:47.850Z"
   },
   {
    "duration": 26,
    "start_time": "2024-01-25T12:47:47.856Z"
   },
   {
    "duration": 6,
    "start_time": "2024-01-25T12:47:47.885Z"
   },
   {
    "duration": 44,
    "start_time": "2024-01-25T12:47:47.893Z"
   },
   {
    "duration": 18,
    "start_time": "2024-01-25T12:47:47.939Z"
   },
   {
    "duration": 52,
    "start_time": "2024-01-25T12:47:47.959Z"
   },
   {
    "duration": 13,
    "start_time": "2024-01-25T12:47:48.012Z"
   },
   {
    "duration": 5,
    "start_time": "2024-01-25T12:47:48.027Z"
   },
   {
    "duration": 22,
    "start_time": "2024-01-25T12:47:48.034Z"
   },
   {
    "duration": 25,
    "start_time": "2024-01-25T12:47:48.058Z"
   },
   {
    "duration": 33,
    "start_time": "2024-01-25T12:47:48.085Z"
   },
   {
    "duration": 15,
    "start_time": "2024-01-25T12:47:48.120Z"
   },
   {
    "duration": 40,
    "start_time": "2024-01-25T12:47:48.137Z"
   },
   {
    "duration": 23,
    "start_time": "2024-01-25T12:47:48.179Z"
   },
   {
    "duration": 53,
    "start_time": "2024-01-25T12:47:48.204Z"
   },
   {
    "duration": 52,
    "start_time": "2024-01-25T12:47:48.259Z"
   },
   {
    "duration": 10,
    "start_time": "2024-01-25T12:47:48.313Z"
   },
   {
    "duration": 63,
    "start_time": "2024-01-25T12:47:48.325Z"
   },
   {
    "duration": 33,
    "start_time": "2024-01-25T12:47:48.390Z"
   },
   {
    "duration": 70,
    "start_time": "2024-01-25T12:47:48.425Z"
   },
   {
    "duration": 30,
    "start_time": "2024-01-25T12:47:48.497Z"
   },
   {
    "duration": 8,
    "start_time": "2024-01-25T12:47:48.529Z"
   },
   {
    "duration": 24,
    "start_time": "2024-01-25T12:47:48.539Z"
   },
   {
    "duration": 22,
    "start_time": "2024-01-25T12:47:48.565Z"
   },
   {
    "duration": 74,
    "start_time": "2024-01-25T12:47:48.590Z"
   },
   {
    "duration": 202,
    "start_time": "2024-01-25T12:47:48.666Z"
   },
   {
    "duration": 11,
    "start_time": "2024-01-25T12:47:48.870Z"
   },
   {
    "duration": 225,
    "start_time": "2024-01-25T12:47:48.883Z"
   },
   {
    "duration": 5,
    "start_time": "2024-01-25T12:47:49.111Z"
   },
   {
    "duration": 8,
    "start_time": "2024-01-25T12:47:49.124Z"
   },
   {
    "duration": 15,
    "start_time": "2024-01-25T12:47:49.134Z"
   },
   {
    "duration": 200,
    "start_time": "2024-01-25T12:47:49.151Z"
   },
   {
    "duration": 325,
    "start_time": "2024-01-25T12:47:49.353Z"
   },
   {
    "duration": 14,
    "start_time": "2024-01-25T12:47:49.680Z"
   },
   {
    "duration": 7,
    "start_time": "2024-01-25T12:47:49.696Z"
   },
   {
    "duration": 5,
    "start_time": "2024-01-25T12:47:49.724Z"
   },
   {
    "duration": 39,
    "start_time": "2024-01-25T12:47:49.731Z"
   },
   {
    "duration": 262,
    "start_time": "2024-01-25T12:47:49.772Z"
   },
   {
    "duration": 18,
    "start_time": "2024-01-25T12:47:50.036Z"
   },
   {
    "duration": 53,
    "start_time": "2024-01-25T12:47:50.056Z"
   },
   {
    "duration": 11,
    "start_time": "2024-01-25T12:47:50.112Z"
   },
   {
    "duration": 39,
    "start_time": "2024-01-25T12:47:50.124Z"
   },
   {
    "duration": 20,
    "start_time": "2024-01-25T12:47:50.165Z"
   },
   {
    "duration": 6,
    "start_time": "2024-01-25T12:47:50.187Z"
   },
   {
    "duration": 16,
    "start_time": "2024-01-25T12:47:50.195Z"
   },
   {
    "duration": 293,
    "start_time": "2024-01-25T12:47:50.213Z"
   },
   {
    "duration": 28,
    "start_time": "2024-01-25T12:47:50.509Z"
   },
   {
    "duration": 37,
    "start_time": "2024-01-25T12:47:50.538Z"
   },
   {
    "duration": 56,
    "start_time": "2024-01-25T12:47:50.577Z"
   },
   {
    "duration": 406,
    "start_time": "2024-01-25T12:47:50.635Z"
   },
   {
    "duration": 48,
    "start_time": "2024-01-25T12:47:51.044Z"
   },
   {
    "duration": 90,
    "start_time": "2024-01-25T13:02:19.650Z"
   },
   {
    "duration": 3,
    "start_time": "2024-01-25T13:03:08.612Z"
   },
   {
    "duration": 25,
    "start_time": "2024-01-25T13:04:17.617Z"
   },
   {
    "duration": 56,
    "start_time": "2024-01-25T13:04:42.262Z"
   },
   {
    "duration": 39,
    "start_time": "2024-01-25T13:05:35.361Z"
   },
   {
    "duration": 40,
    "start_time": "2024-01-25T13:06:09.372Z"
   },
   {
    "duration": 9,
    "start_time": "2024-01-25T13:15:10.282Z"
   },
   {
    "duration": 20,
    "start_time": "2024-01-25T13:15:10.296Z"
   },
   {
    "duration": 17,
    "start_time": "2024-01-25T13:15:10.318Z"
   },
   {
    "duration": 15,
    "start_time": "2024-01-25T13:15:10.337Z"
   },
   {
    "duration": 30,
    "start_time": "2024-01-25T13:15:10.354Z"
   },
   {
    "duration": 727,
    "start_time": "2024-01-25T13:15:10.387Z"
   },
   {
    "duration": 131,
    "start_time": "2024-01-25T13:15:11.116Z"
   },
   {
    "duration": 62,
    "start_time": "2024-01-25T13:15:11.249Z"
   },
   {
    "duration": 38,
    "start_time": "2024-01-25T13:15:11.313Z"
   },
   {
    "duration": 17,
    "start_time": "2024-01-25T13:15:11.353Z"
   },
   {
    "duration": 21,
    "start_time": "2024-01-25T13:15:11.372Z"
   },
   {
    "duration": 51,
    "start_time": "2024-01-25T13:15:11.395Z"
   },
   {
    "duration": 15,
    "start_time": "2024-01-25T13:15:11.448Z"
   },
   {
    "duration": 26,
    "start_time": "2024-01-25T13:15:11.465Z"
   },
   {
    "duration": 10,
    "start_time": "2024-01-25T13:15:11.493Z"
   },
   {
    "duration": 31,
    "start_time": "2024-01-25T13:15:11.505Z"
   },
   {
    "duration": 16,
    "start_time": "2024-01-25T13:15:11.538Z"
   },
   {
    "duration": 31,
    "start_time": "2024-01-25T13:15:11.556Z"
   },
   {
    "duration": 44,
    "start_time": "2024-01-25T13:15:11.589Z"
   },
   {
    "duration": 20,
    "start_time": "2024-01-25T13:15:11.634Z"
   },
   {
    "duration": 18,
    "start_time": "2024-01-25T13:15:11.656Z"
   },
   {
    "duration": 32,
    "start_time": "2024-01-25T13:15:11.675Z"
   },
   {
    "duration": 6,
    "start_time": "2024-01-25T13:15:11.708Z"
   },
   {
    "duration": 9,
    "start_time": "2024-01-25T13:15:11.715Z"
   },
   {
    "duration": 5,
    "start_time": "2024-01-25T13:15:11.726Z"
   },
   {
    "duration": 13,
    "start_time": "2024-01-25T13:15:11.732Z"
   },
   {
    "duration": 56,
    "start_time": "2024-01-25T13:15:11.747Z"
   },
   {
    "duration": 36,
    "start_time": "2024-01-25T13:15:11.804Z"
   },
   {
    "duration": 4,
    "start_time": "2024-01-25T13:15:11.842Z"
   },
   {
    "duration": 24,
    "start_time": "2024-01-25T13:15:11.848Z"
   },
   {
    "duration": 9,
    "start_time": "2024-01-25T13:15:11.874Z"
   },
   {
    "duration": 6,
    "start_time": "2024-01-25T13:15:11.884Z"
   },
   {
    "duration": 41,
    "start_time": "2024-01-25T13:15:11.892Z"
   },
   {
    "duration": 4,
    "start_time": "2024-01-25T13:15:11.935Z"
   },
   {
    "duration": 24,
    "start_time": "2024-01-25T13:15:11.941Z"
   },
   {
    "duration": 9,
    "start_time": "2024-01-25T13:15:11.966Z"
   },
   {
    "duration": 9,
    "start_time": "2024-01-25T13:15:11.981Z"
   },
   {
    "duration": 13,
    "start_time": "2024-01-25T13:15:11.991Z"
   },
   {
    "duration": 18,
    "start_time": "2024-01-25T13:15:12.006Z"
   },
   {
    "duration": 28,
    "start_time": "2024-01-25T13:15:12.026Z"
   },
   {
    "duration": 35,
    "start_time": "2024-01-25T13:15:12.056Z"
   },
   {
    "duration": 30,
    "start_time": "2024-01-25T13:15:12.092Z"
   },
   {
    "duration": 25,
    "start_time": "2024-01-25T13:15:12.123Z"
   },
   {
    "duration": 29,
    "start_time": "2024-01-25T13:15:12.149Z"
   },
   {
    "duration": 16,
    "start_time": "2024-01-25T13:15:12.179Z"
   },
   {
    "duration": 30,
    "start_time": "2024-01-25T13:15:12.197Z"
   },
   {
    "duration": 21,
    "start_time": "2024-01-25T13:15:12.229Z"
   },
   {
    "duration": 5,
    "start_time": "2024-01-25T13:15:12.252Z"
   },
   {
    "duration": 8,
    "start_time": "2024-01-25T13:15:12.259Z"
   },
   {
    "duration": 6,
    "start_time": "2024-01-25T13:15:12.269Z"
   },
   {
    "duration": 9,
    "start_time": "2024-01-25T13:15:12.276Z"
   },
   {
    "duration": 13,
    "start_time": "2024-01-25T13:15:12.286Z"
   },
   {
    "duration": 25,
    "start_time": "2024-01-25T13:15:12.301Z"
   },
   {
    "duration": 21,
    "start_time": "2024-01-25T13:15:12.327Z"
   },
   {
    "duration": 8,
    "start_time": "2024-01-25T13:15:12.350Z"
   },
   {
    "duration": 26,
    "start_time": "2024-01-25T13:15:12.360Z"
   },
   {
    "duration": 15,
    "start_time": "2024-01-25T13:15:12.387Z"
   },
   {
    "duration": 22,
    "start_time": "2024-01-25T13:15:12.404Z"
   },
   {
    "duration": 23,
    "start_time": "2024-01-25T13:15:12.428Z"
   },
   {
    "duration": 21,
    "start_time": "2024-01-25T13:15:12.453Z"
   },
   {
    "duration": 57,
    "start_time": "2024-01-25T13:15:12.475Z"
   },
   {
    "duration": 4,
    "start_time": "2024-01-25T13:15:12.533Z"
   },
   {
    "duration": 26,
    "start_time": "2024-01-25T13:15:12.538Z"
   },
   {
    "duration": 53,
    "start_time": "2024-01-25T13:15:12.566Z"
   },
   {
    "duration": 63,
    "start_time": "2024-01-25T13:15:12.620Z"
   },
   {
    "duration": 43,
    "start_time": "2024-01-25T13:15:12.684Z"
   },
   {
    "duration": 24,
    "start_time": "2024-01-25T13:15:12.729Z"
   },
   {
    "duration": 34,
    "start_time": "2024-01-25T13:15:12.754Z"
   },
   {
    "duration": 20,
    "start_time": "2024-01-25T13:15:12.789Z"
   },
   {
    "duration": 44,
    "start_time": "2024-01-25T13:15:12.811Z"
   },
   {
    "duration": 198,
    "start_time": "2024-01-25T13:15:12.857Z"
   },
   {
    "duration": 10,
    "start_time": "2024-01-25T13:15:13.056Z"
   },
   {
    "duration": 214,
    "start_time": "2024-01-25T13:15:13.067Z"
   },
   {
    "duration": 4,
    "start_time": "2024-01-25T13:15:13.282Z"
   },
   {
    "duration": 10,
    "start_time": "2024-01-25T13:15:13.288Z"
   },
   {
    "duration": 25,
    "start_time": "2024-01-25T13:15:13.300Z"
   },
   {
    "duration": 184,
    "start_time": "2024-01-25T13:15:13.327Z"
   },
   {
    "duration": 300,
    "start_time": "2024-01-25T13:15:13.514Z"
   },
   {
    "duration": 17,
    "start_time": "2024-01-25T13:15:13.816Z"
   },
   {
    "duration": 22,
    "start_time": "2024-01-25T13:15:13.834Z"
   },
   {
    "duration": 24,
    "start_time": "2024-01-25T13:15:13.857Z"
   },
   {
    "duration": 34,
    "start_time": "2024-01-25T13:15:13.883Z"
   },
   {
    "duration": 264,
    "start_time": "2024-01-25T13:15:13.919Z"
   },
   {
    "duration": 16,
    "start_time": "2024-01-25T13:15:14.185Z"
   },
   {
    "duration": 39,
    "start_time": "2024-01-25T13:15:14.202Z"
   },
   {
    "duration": 10,
    "start_time": "2024-01-25T13:15:14.243Z"
   },
   {
    "duration": 24,
    "start_time": "2024-01-25T13:15:14.255Z"
   },
   {
    "duration": 15,
    "start_time": "2024-01-25T13:15:14.281Z"
   },
   {
    "duration": 15,
    "start_time": "2024-01-25T13:15:14.298Z"
   },
   {
    "duration": 20,
    "start_time": "2024-01-25T13:15:14.322Z"
   },
   {
    "duration": 290,
    "start_time": "2024-01-25T13:15:14.343Z"
   },
   {
    "duration": 21,
    "start_time": "2024-01-25T13:15:14.634Z"
   },
   {
    "duration": 23,
    "start_time": "2024-01-25T13:15:14.656Z"
   },
   {
    "duration": 116,
    "start_time": "2024-01-25T13:15:14.681Z"
   },
   {
    "duration": 0,
    "start_time": "2024-01-25T13:15:14.799Z"
   },
   {
    "duration": 0,
    "start_time": "2024-01-25T13:15:14.800Z"
   },
   {
    "duration": 11,
    "start_time": "2024-01-25T13:30:07.382Z"
   },
   {
    "duration": 11,
    "start_time": "2024-01-25T13:30:09.805Z"
   },
   {
    "duration": 8,
    "start_time": "2024-01-25T13:30:10.181Z"
   },
   {
    "duration": 10,
    "start_time": "2024-01-25T13:30:39.206Z"
   },
   {
    "duration": 22,
    "start_time": "2024-01-25T13:30:39.220Z"
   },
   {
    "duration": 21,
    "start_time": "2024-01-25T13:30:39.243Z"
   },
   {
    "duration": 28,
    "start_time": "2024-01-25T13:30:39.266Z"
   },
   {
    "duration": 27,
    "start_time": "2024-01-25T13:30:39.296Z"
   },
   {
    "duration": 774,
    "start_time": "2024-01-25T13:30:39.326Z"
   },
   {
    "duration": 132,
    "start_time": "2024-01-25T13:30:40.102Z"
   },
   {
    "duration": 67,
    "start_time": "2024-01-25T13:30:40.235Z"
   },
   {
    "duration": 54,
    "start_time": "2024-01-25T13:30:40.304Z"
   },
   {
    "duration": 23,
    "start_time": "2024-01-25T13:30:40.360Z"
   },
   {
    "duration": 41,
    "start_time": "2024-01-25T13:30:40.385Z"
   },
   {
    "duration": 38,
    "start_time": "2024-01-25T13:30:40.428Z"
   },
   {
    "duration": 45,
    "start_time": "2024-01-25T13:30:40.467Z"
   },
   {
    "duration": 37,
    "start_time": "2024-01-25T13:30:40.515Z"
   },
   {
    "duration": 20,
    "start_time": "2024-01-25T13:30:40.553Z"
   },
   {
    "duration": 77,
    "start_time": "2024-01-25T13:30:40.574Z"
   },
   {
    "duration": 44,
    "start_time": "2024-01-25T13:30:40.653Z"
   },
   {
    "duration": 26,
    "start_time": "2024-01-25T13:30:40.698Z"
   },
   {
    "duration": 41,
    "start_time": "2024-01-25T13:30:40.726Z"
   },
   {
    "duration": 23,
    "start_time": "2024-01-25T13:30:40.769Z"
   },
   {
    "duration": 47,
    "start_time": "2024-01-25T13:30:40.794Z"
   },
   {
    "duration": 53,
    "start_time": "2024-01-25T13:30:40.842Z"
   },
   {
    "duration": 6,
    "start_time": "2024-01-25T13:30:40.896Z"
   },
   {
    "duration": 18,
    "start_time": "2024-01-25T13:30:40.904Z"
   },
   {
    "duration": 29,
    "start_time": "2024-01-25T13:30:40.924Z"
   },
   {
    "duration": 44,
    "start_time": "2024-01-25T13:30:40.955Z"
   },
   {
    "duration": 93,
    "start_time": "2024-01-25T13:30:41.000Z"
   },
   {
    "duration": 20,
    "start_time": "2024-01-25T13:30:41.094Z"
   },
   {
    "duration": 26,
    "start_time": "2024-01-25T13:30:41.116Z"
   },
   {
    "duration": 30,
    "start_time": "2024-01-25T13:30:41.144Z"
   },
   {
    "duration": 19,
    "start_time": "2024-01-25T13:30:41.176Z"
   },
   {
    "duration": 42,
    "start_time": "2024-01-25T13:30:41.196Z"
   },
   {
    "duration": 57,
    "start_time": "2024-01-25T13:30:41.240Z"
   },
   {
    "duration": 13,
    "start_time": "2024-01-25T13:30:41.298Z"
   },
   {
    "duration": 51,
    "start_time": "2024-01-25T13:30:41.313Z"
   },
   {
    "duration": 14,
    "start_time": "2024-01-25T13:30:41.365Z"
   },
   {
    "duration": 38,
    "start_time": "2024-01-25T13:30:41.381Z"
   },
   {
    "duration": 43,
    "start_time": "2024-01-25T13:30:41.427Z"
   },
   {
    "duration": 30,
    "start_time": "2024-01-25T13:30:41.472Z"
   },
   {
    "duration": 30,
    "start_time": "2024-01-25T13:30:41.504Z"
   },
   {
    "duration": 31,
    "start_time": "2024-01-25T13:30:41.537Z"
   },
   {
    "duration": 58,
    "start_time": "2024-01-25T13:30:41.570Z"
   },
   {
    "duration": 39,
    "start_time": "2024-01-25T13:30:41.629Z"
   },
   {
    "duration": 55,
    "start_time": "2024-01-25T13:30:41.671Z"
   },
   {
    "duration": 21,
    "start_time": "2024-01-25T13:30:41.728Z"
   },
   {
    "duration": 34,
    "start_time": "2024-01-25T13:30:41.751Z"
   },
   {
    "duration": 58,
    "start_time": "2024-01-25T13:30:41.787Z"
   },
   {
    "duration": 45,
    "start_time": "2024-01-25T13:30:41.847Z"
   },
   {
    "duration": 35,
    "start_time": "2024-01-25T13:30:41.894Z"
   },
   {
    "duration": 41,
    "start_time": "2024-01-25T13:30:41.931Z"
   },
   {
    "duration": 45,
    "start_time": "2024-01-25T13:30:41.974Z"
   },
   {
    "duration": 20,
    "start_time": "2024-01-25T13:30:42.021Z"
   },
   {
    "duration": 36,
    "start_time": "2024-01-25T13:30:42.042Z"
   },
   {
    "duration": 18,
    "start_time": "2024-01-25T13:30:42.080Z"
   },
   {
    "duration": 21,
    "start_time": "2024-01-25T13:30:42.099Z"
   },
   {
    "duration": 38,
    "start_time": "2024-01-25T13:30:42.122Z"
   },
   {
    "duration": 31,
    "start_time": "2024-01-25T13:30:42.162Z"
   },
   {
    "duration": 32,
    "start_time": "2024-01-25T13:30:42.194Z"
   },
   {
    "duration": 19,
    "start_time": "2024-01-25T13:30:42.228Z"
   },
   {
    "duration": 32,
    "start_time": "2024-01-25T13:30:42.249Z"
   },
   {
    "duration": 36,
    "start_time": "2024-01-25T13:30:42.283Z"
   },
   {
    "duration": 45,
    "start_time": "2024-01-25T13:30:42.320Z"
   },
   {
    "duration": 20,
    "start_time": "2024-01-25T13:30:42.366Z"
   },
   {
    "duration": 60,
    "start_time": "2024-01-25T13:30:42.387Z"
   },
   {
    "duration": 4,
    "start_time": "2024-01-25T13:30:42.449Z"
   },
   {
    "duration": 25,
    "start_time": "2024-01-25T13:30:42.455Z"
   },
   {
    "duration": 14,
    "start_time": "2024-01-25T13:30:42.482Z"
   },
   {
    "duration": 32,
    "start_time": "2024-01-25T13:30:42.498Z"
   },
   {
    "duration": 20,
    "start_time": "2024-01-25T13:30:42.532Z"
   },
   {
    "duration": 13,
    "start_time": "2024-01-25T13:30:42.553Z"
   },
   {
    "duration": 27,
    "start_time": "2024-01-25T13:30:42.568Z"
   },
   {
    "duration": 51,
    "start_time": "2024-01-25T13:30:42.597Z"
   },
   {
    "duration": 39,
    "start_time": "2024-01-25T13:30:42.650Z"
   },
   {
    "duration": 226,
    "start_time": "2024-01-25T13:30:42.691Z"
   },
   {
    "duration": 12,
    "start_time": "2024-01-25T13:30:42.919Z"
   },
   {
    "duration": 207,
    "start_time": "2024-01-25T13:30:42.932Z"
   },
   {
    "duration": 4,
    "start_time": "2024-01-25T13:30:43.141Z"
   },
   {
    "duration": 12,
    "start_time": "2024-01-25T13:30:43.147Z"
   },
   {
    "duration": 33,
    "start_time": "2024-01-25T13:30:43.161Z"
   },
   {
    "duration": 179,
    "start_time": "2024-01-25T13:30:43.196Z"
   },
   {
    "duration": 310,
    "start_time": "2024-01-25T13:30:43.377Z"
   },
   {
    "duration": 13,
    "start_time": "2024-01-25T13:30:43.689Z"
   },
   {
    "duration": 23,
    "start_time": "2024-01-25T13:30:43.703Z"
   },
   {
    "duration": 6,
    "start_time": "2024-01-25T13:30:43.727Z"
   },
   {
    "duration": 20,
    "start_time": "2024-01-25T13:30:43.734Z"
   },
   {
    "duration": 284,
    "start_time": "2024-01-25T13:30:43.756Z"
   },
   {
    "duration": 17,
    "start_time": "2024-01-25T13:30:44.041Z"
   },
   {
    "duration": 34,
    "start_time": "2024-01-25T13:30:44.060Z"
   },
   {
    "duration": 9,
    "start_time": "2024-01-25T13:30:44.096Z"
   },
   {
    "duration": 10,
    "start_time": "2024-01-25T13:30:44.124Z"
   },
   {
    "duration": 41,
    "start_time": "2024-01-25T13:30:44.136Z"
   },
   {
    "duration": 38,
    "start_time": "2024-01-25T13:30:44.179Z"
   },
   {
    "duration": 29,
    "start_time": "2024-01-25T13:30:44.219Z"
   },
   {
    "duration": 292,
    "start_time": "2024-01-25T13:30:44.250Z"
   },
   {
    "duration": 21,
    "start_time": "2024-01-25T13:30:44.543Z"
   },
   {
    "duration": 25,
    "start_time": "2024-01-25T13:30:44.566Z"
   },
   {
    "duration": 112,
    "start_time": "2024-01-25T13:30:44.593Z"
   },
   {
    "duration": 0,
    "start_time": "2024-01-25T13:30:44.707Z"
   },
   {
    "duration": 0,
    "start_time": "2024-01-25T13:30:44.708Z"
   },
   {
    "duration": 4,
    "start_time": "2024-01-25T13:32:36.618Z"
   },
   {
    "duration": 9,
    "start_time": "2024-01-25T13:32:43.105Z"
   },
   {
    "duration": 31,
    "start_time": "2024-01-25T13:32:43.118Z"
   },
   {
    "duration": 20,
    "start_time": "2024-01-25T13:32:43.151Z"
   },
   {
    "duration": 10,
    "start_time": "2024-01-25T13:32:43.173Z"
   },
   {
    "duration": 29,
    "start_time": "2024-01-25T13:32:43.185Z"
   },
   {
    "duration": 742,
    "start_time": "2024-01-25T13:32:43.216Z"
   },
   {
    "duration": 148,
    "start_time": "2024-01-25T13:32:43.960Z"
   },
   {
    "duration": 96,
    "start_time": "2024-01-25T13:32:44.111Z"
   },
   {
    "duration": 44,
    "start_time": "2024-01-25T13:32:44.223Z"
   },
   {
    "duration": 18,
    "start_time": "2024-01-25T13:32:44.268Z"
   },
   {
    "duration": 50,
    "start_time": "2024-01-25T13:32:44.287Z"
   },
   {
    "duration": 26,
    "start_time": "2024-01-25T13:32:44.339Z"
   },
   {
    "duration": 4,
    "start_time": "2024-01-25T13:32:44.367Z"
   },
   {
    "duration": 22,
    "start_time": "2024-01-25T13:32:44.375Z"
   },
   {
    "duration": 4,
    "start_time": "2024-01-25T13:32:44.399Z"
   },
   {
    "duration": 20,
    "start_time": "2024-01-25T13:32:44.405Z"
   },
   {
    "duration": 23,
    "start_time": "2024-01-25T13:32:44.427Z"
   },
   {
    "duration": 8,
    "start_time": "2024-01-25T13:32:44.452Z"
   },
   {
    "duration": 10,
    "start_time": "2024-01-25T13:32:44.462Z"
   },
   {
    "duration": 18,
    "start_time": "2024-01-25T13:32:44.474Z"
   },
   {
    "duration": 32,
    "start_time": "2024-01-25T13:32:44.494Z"
   },
   {
    "duration": 4,
    "start_time": "2024-01-25T13:32:44.528Z"
   },
   {
    "duration": 11,
    "start_time": "2024-01-25T13:32:44.534Z"
   },
   {
    "duration": 14,
    "start_time": "2024-01-25T13:32:44.547Z"
   },
   {
    "duration": 6,
    "start_time": "2024-01-25T13:32:44.563Z"
   },
   {
    "duration": 45,
    "start_time": "2024-01-25T13:32:44.571Z"
   },
   {
    "duration": 91,
    "start_time": "2024-01-25T13:32:44.618Z"
   },
   {
    "duration": 19,
    "start_time": "2024-01-25T13:32:44.711Z"
   },
   {
    "duration": 26,
    "start_time": "2024-01-25T13:32:44.732Z"
   },
   {
    "duration": 36,
    "start_time": "2024-01-25T13:32:44.760Z"
   },
   {
    "duration": 16,
    "start_time": "2024-01-25T13:32:44.798Z"
   },
   {
    "duration": 11,
    "start_time": "2024-01-25T13:32:44.816Z"
   },
   {
    "duration": 26,
    "start_time": "2024-01-25T13:32:44.829Z"
   },
   {
    "duration": 5,
    "start_time": "2024-01-25T13:32:44.857Z"
   },
   {
    "duration": 21,
    "start_time": "2024-01-25T13:32:44.864Z"
   },
   {
    "duration": 6,
    "start_time": "2024-01-25T13:32:44.887Z"
   },
   {
    "duration": 32,
    "start_time": "2024-01-25T13:32:44.900Z"
   },
   {
    "duration": 20,
    "start_time": "2024-01-25T13:32:44.934Z"
   },
   {
    "duration": 5,
    "start_time": "2024-01-25T13:32:44.956Z"
   },
   {
    "duration": 4,
    "start_time": "2024-01-25T13:32:44.963Z"
   },
   {
    "duration": 8,
    "start_time": "2024-01-25T13:32:44.969Z"
   },
   {
    "duration": 37,
    "start_time": "2024-01-25T13:32:44.979Z"
   },
   {
    "duration": 27,
    "start_time": "2024-01-25T13:32:45.018Z"
   },
   {
    "duration": 70,
    "start_time": "2024-01-25T13:32:45.047Z"
   },
   {
    "duration": 71,
    "start_time": "2024-01-25T13:32:45.118Z"
   },
   {
    "duration": 39,
    "start_time": "2024-01-25T13:32:45.191Z"
   },
   {
    "duration": 66,
    "start_time": "2024-01-25T13:32:45.232Z"
   },
   {
    "duration": 47,
    "start_time": "2024-01-25T13:32:45.300Z"
   },
   {
    "duration": 68,
    "start_time": "2024-01-25T13:32:45.349Z"
   },
   {
    "duration": 43,
    "start_time": "2024-01-25T13:32:45.419Z"
   },
   {
    "duration": 32,
    "start_time": "2024-01-25T13:32:45.464Z"
   },
   {
    "duration": 19,
    "start_time": "2024-01-25T13:32:45.498Z"
   },
   {
    "duration": 16,
    "start_time": "2024-01-25T13:32:45.519Z"
   },
   {
    "duration": 8,
    "start_time": "2024-01-25T13:32:45.537Z"
   },
   {
    "duration": 17,
    "start_time": "2024-01-25T13:32:45.546Z"
   },
   {
    "duration": 18,
    "start_time": "2024-01-25T13:32:45.566Z"
   },
   {
    "duration": 11,
    "start_time": "2024-01-25T13:32:45.586Z"
   },
   {
    "duration": 29,
    "start_time": "2024-01-25T13:32:45.599Z"
   },
   {
    "duration": 29,
    "start_time": "2024-01-25T13:32:45.630Z"
   },
   {
    "duration": 17,
    "start_time": "2024-01-25T13:32:45.661Z"
   },
   {
    "duration": 42,
    "start_time": "2024-01-25T13:32:45.680Z"
   },
   {
    "duration": 23,
    "start_time": "2024-01-25T13:32:45.724Z"
   },
   {
    "duration": 19,
    "start_time": "2024-01-25T13:32:45.749Z"
   },
   {
    "duration": 25,
    "start_time": "2024-01-25T13:32:45.770Z"
   },
   {
    "duration": 4,
    "start_time": "2024-01-25T13:32:45.798Z"
   },
   {
    "duration": 49,
    "start_time": "2024-01-25T13:32:45.804Z"
   },
   {
    "duration": 26,
    "start_time": "2024-01-25T13:32:45.855Z"
   },
   {
    "duration": 31,
    "start_time": "2024-01-25T13:32:45.883Z"
   },
   {
    "duration": 22,
    "start_time": "2024-01-25T13:32:45.917Z"
   },
   {
    "duration": 7,
    "start_time": "2024-01-25T13:32:45.941Z"
   },
   {
    "duration": 25,
    "start_time": "2024-01-25T13:32:45.950Z"
   },
   {
    "duration": 20,
    "start_time": "2024-01-25T13:32:45.977Z"
   },
   {
    "duration": 59,
    "start_time": "2024-01-25T13:32:45.998Z"
   },
   {
    "duration": 202,
    "start_time": "2024-01-25T13:32:46.059Z"
   },
   {
    "duration": 10,
    "start_time": "2024-01-25T13:32:46.263Z"
   },
   {
    "duration": 224,
    "start_time": "2024-01-25T13:32:46.275Z"
   },
   {
    "duration": 5,
    "start_time": "2024-01-25T13:32:46.501Z"
   },
   {
    "duration": 24,
    "start_time": "2024-01-25T13:32:46.508Z"
   },
   {
    "duration": 27,
    "start_time": "2024-01-25T13:32:46.534Z"
   },
   {
    "duration": 181,
    "start_time": "2024-01-25T13:32:46.564Z"
   },
   {
    "duration": 312,
    "start_time": "2024-01-25T13:32:46.747Z"
   },
   {
    "duration": 13,
    "start_time": "2024-01-25T13:32:47.061Z"
   },
   {
    "duration": 50,
    "start_time": "2024-01-25T13:32:47.076Z"
   },
   {
    "duration": 40,
    "start_time": "2024-01-25T13:32:47.128Z"
   },
   {
    "duration": 50,
    "start_time": "2024-01-25T13:32:47.170Z"
   },
   {
    "duration": 262,
    "start_time": "2024-01-25T13:32:47.222Z"
   },
   {
    "duration": 20,
    "start_time": "2024-01-25T13:32:47.486Z"
   },
   {
    "duration": 30,
    "start_time": "2024-01-25T13:32:47.522Z"
   },
   {
    "duration": 31,
    "start_time": "2024-01-25T13:32:47.555Z"
   },
   {
    "duration": 16,
    "start_time": "2024-01-25T13:32:47.588Z"
   },
   {
    "duration": 19,
    "start_time": "2024-01-25T13:32:47.607Z"
   },
   {
    "duration": 24,
    "start_time": "2024-01-25T13:32:47.628Z"
   },
   {
    "duration": 21,
    "start_time": "2024-01-25T13:32:47.654Z"
   },
   {
    "duration": 312,
    "start_time": "2024-01-25T13:32:47.677Z"
   },
   {
    "duration": 20,
    "start_time": "2024-01-25T13:32:47.991Z"
   },
   {
    "duration": 32,
    "start_time": "2024-01-25T13:32:48.012Z"
   },
   {
    "duration": 40,
    "start_time": "2024-01-25T13:32:48.046Z"
   },
   {
    "duration": 398,
    "start_time": "2024-01-25T13:32:48.087Z"
   },
   {
    "duration": 50,
    "start_time": "2024-01-25T13:32:48.487Z"
   },
   {
    "duration": 204,
    "start_time": "2024-01-25T14:17:46.591Z"
   },
   {
    "duration": 147,
    "start_time": "2024-01-25T14:18:19.331Z"
   },
   {
    "duration": 143,
    "start_time": "2024-01-25T14:18:46.565Z"
   },
   {
    "duration": 287,
    "start_time": "2024-01-25T14:19:03.889Z"
   },
   {
    "duration": 188,
    "start_time": "2024-01-25T14:19:31.594Z"
   },
   {
    "duration": 175,
    "start_time": "2024-01-25T14:19:51.698Z"
   },
   {
    "duration": 12,
    "start_time": "2024-01-27T07:11:29.394Z"
   },
   {
    "duration": 8,
    "start_time": "2024-01-27T07:11:29.410Z"
   },
   {
    "duration": 15,
    "start_time": "2024-01-27T07:11:29.420Z"
   },
   {
    "duration": 8,
    "start_time": "2024-01-27T07:11:29.437Z"
   },
   {
    "duration": 9,
    "start_time": "2024-01-27T07:11:29.447Z"
   },
   {
    "duration": 1023,
    "start_time": "2024-01-27T07:11:29.458Z"
   },
   {
    "duration": 376,
    "start_time": "2024-01-27T07:11:30.483Z"
   },
   {
    "duration": 84,
    "start_time": "2024-01-27T07:11:30.861Z"
   },
   {
    "duration": 55,
    "start_time": "2024-01-27T07:11:30.947Z"
   },
   {
    "duration": 18,
    "start_time": "2024-01-27T07:11:31.004Z"
   },
   {
    "duration": 17,
    "start_time": "2024-01-27T07:11:31.024Z"
   },
   {
    "duration": 73,
    "start_time": "2024-01-27T07:11:31.043Z"
   },
   {
    "duration": 93,
    "start_time": "2024-01-27T07:11:31.118Z"
   },
   {
    "duration": 221,
    "start_time": "2024-01-27T07:11:31.213Z"
   },
   {
    "duration": 316,
    "start_time": "2024-01-27T07:11:31.436Z"
   },
   {
    "duration": 114,
    "start_time": "2024-01-27T07:11:31.754Z"
   },
   {
    "duration": 224,
    "start_time": "2024-01-27T07:11:31.873Z"
   },
   {
    "duration": 171,
    "start_time": "2024-01-27T07:11:32.099Z"
   },
   {
    "duration": 328,
    "start_time": "2024-01-27T07:11:32.272Z"
   },
   {
    "duration": 229,
    "start_time": "2024-01-27T07:11:32.601Z"
   },
   {
    "duration": 97,
    "start_time": "2024-01-27T07:11:32.832Z"
   },
   {
    "duration": 16,
    "start_time": "2024-01-27T07:11:32.931Z"
   },
   {
    "duration": 42,
    "start_time": "2024-01-27T07:11:32.949Z"
   },
   {
    "duration": 45,
    "start_time": "2024-01-27T07:11:32.992Z"
   },
   {
    "duration": 31,
    "start_time": "2024-01-27T07:11:33.039Z"
   },
   {
    "duration": 28,
    "start_time": "2024-01-27T07:11:33.071Z"
   },
   {
    "duration": 97,
    "start_time": "2024-01-27T07:11:33.101Z"
   },
   {
    "duration": 20,
    "start_time": "2024-01-27T07:11:33.200Z"
   },
   {
    "duration": 25,
    "start_time": "2024-01-27T07:11:33.222Z"
   },
   {
    "duration": 29,
    "start_time": "2024-01-27T07:11:33.249Z"
   },
   {
    "duration": 19,
    "start_time": "2024-01-27T07:11:33.280Z"
   },
   {
    "duration": 25,
    "start_time": "2024-01-27T07:11:33.300Z"
   },
   {
    "duration": 36,
    "start_time": "2024-01-27T07:11:33.326Z"
   },
   {
    "duration": 8,
    "start_time": "2024-01-27T07:11:33.363Z"
   },
   {
    "duration": 28,
    "start_time": "2024-01-27T07:11:33.373Z"
   },
   {
    "duration": 29,
    "start_time": "2024-01-27T07:11:33.402Z"
   },
   {
    "duration": 13,
    "start_time": "2024-01-27T07:11:33.433Z"
   },
   {
    "duration": 31,
    "start_time": "2024-01-27T07:11:33.448Z"
   },
   {
    "duration": 11,
    "start_time": "2024-01-27T07:11:33.481Z"
   },
   {
    "duration": 31,
    "start_time": "2024-01-27T07:11:33.493Z"
   },
   {
    "duration": 19,
    "start_time": "2024-01-27T07:11:33.529Z"
   },
   {
    "duration": 36,
    "start_time": "2024-01-27T07:11:33.549Z"
   },
   {
    "duration": 27,
    "start_time": "2024-01-27T07:11:33.587Z"
   },
   {
    "duration": 27,
    "start_time": "2024-01-27T07:11:33.615Z"
   },
   {
    "duration": 16,
    "start_time": "2024-01-27T07:11:33.644Z"
   },
   {
    "duration": 20,
    "start_time": "2024-01-27T07:11:33.662Z"
   },
   {
    "duration": 28,
    "start_time": "2024-01-27T07:11:33.683Z"
   },
   {
    "duration": 5,
    "start_time": "2024-01-27T07:11:33.713Z"
   },
   {
    "duration": 28,
    "start_time": "2024-01-27T07:11:33.720Z"
   },
   {
    "duration": 19,
    "start_time": "2024-01-27T07:11:33.750Z"
   },
   {
    "duration": 21,
    "start_time": "2024-01-27T07:11:33.771Z"
   },
   {
    "duration": 25,
    "start_time": "2024-01-27T07:11:33.793Z"
   },
   {
    "duration": 10,
    "start_time": "2024-01-27T07:11:33.820Z"
   },
   {
    "duration": 6,
    "start_time": "2024-01-27T07:11:33.832Z"
   },
   {
    "duration": 9,
    "start_time": "2024-01-27T07:11:33.839Z"
   },
   {
    "duration": 123,
    "start_time": "2024-01-27T07:11:33.849Z"
   },
   {
    "duration": 49,
    "start_time": "2024-01-27T07:11:33.973Z"
   },
   {
    "duration": 18,
    "start_time": "2024-01-27T07:11:34.024Z"
   },
   {
    "duration": 26,
    "start_time": "2024-01-27T07:11:34.043Z"
   },
   {
    "duration": 30,
    "start_time": "2024-01-27T07:11:34.071Z"
   },
   {
    "duration": 37,
    "start_time": "2024-01-27T07:11:34.102Z"
   },
   {
    "duration": 28,
    "start_time": "2024-01-27T07:11:34.141Z"
   },
   {
    "duration": 41,
    "start_time": "2024-01-27T07:11:34.171Z"
   },
   {
    "duration": 79,
    "start_time": "2024-01-27T07:11:34.213Z"
   },
   {
    "duration": 8,
    "start_time": "2024-01-27T07:11:34.293Z"
   },
   {
    "duration": 39,
    "start_time": "2024-01-27T07:11:34.302Z"
   },
   {
    "duration": 34,
    "start_time": "2024-01-27T07:11:34.343Z"
   },
   {
    "duration": 31,
    "start_time": "2024-01-27T07:11:34.379Z"
   },
   {
    "duration": 68,
    "start_time": "2024-01-27T07:11:34.412Z"
   },
   {
    "duration": 181,
    "start_time": "2024-01-27T07:11:34.482Z"
   },
   {
    "duration": 162,
    "start_time": "2024-01-27T07:11:34.665Z"
   },
   {
    "duration": 92,
    "start_time": "2024-01-27T07:11:34.828Z"
   },
   {
    "duration": 40,
    "start_time": "2024-01-27T07:11:34.921Z"
   },
   {
    "duration": 250,
    "start_time": "2024-01-27T07:11:34.962Z"
   },
   {
    "duration": 9,
    "start_time": "2024-01-27T07:11:35.214Z"
   },
   {
    "duration": 160,
    "start_time": "2024-01-27T07:11:35.225Z"
   },
   {
    "duration": 6,
    "start_time": "2024-01-27T07:11:35.387Z"
   },
   {
    "duration": 9,
    "start_time": "2024-01-27T07:11:35.394Z"
   },
   {
    "duration": 12,
    "start_time": "2024-01-27T07:11:35.405Z"
   },
   {
    "duration": 209,
    "start_time": "2024-01-27T07:11:35.419Z"
   },
   {
    "duration": 330,
    "start_time": "2024-01-27T07:11:35.630Z"
   },
   {
    "duration": 14,
    "start_time": "2024-01-27T07:11:35.961Z"
   },
   {
    "duration": 28,
    "start_time": "2024-01-27T07:11:35.976Z"
   },
   {
    "duration": 19,
    "start_time": "2024-01-27T07:11:36.005Z"
   },
   {
    "duration": 62,
    "start_time": "2024-01-27T07:11:36.026Z"
   },
   {
    "duration": 259,
    "start_time": "2024-01-27T07:11:36.090Z"
   },
   {
    "duration": 20,
    "start_time": "2024-01-27T07:11:36.351Z"
   },
   {
    "duration": 47,
    "start_time": "2024-01-27T07:11:36.373Z"
   },
   {
    "duration": 11,
    "start_time": "2024-01-27T07:11:36.422Z"
   },
   {
    "duration": 15,
    "start_time": "2024-01-27T07:11:36.434Z"
   },
   {
    "duration": 11,
    "start_time": "2024-01-27T07:11:36.451Z"
   },
   {
    "duration": 7,
    "start_time": "2024-01-27T07:11:36.492Z"
   },
   {
    "duration": 33,
    "start_time": "2024-01-27T07:11:36.500Z"
   },
   {
    "duration": 312,
    "start_time": "2024-01-27T07:11:36.535Z"
   },
   {
    "duration": 19,
    "start_time": "2024-01-27T07:11:36.849Z"
   },
   {
    "duration": 37,
    "start_time": "2024-01-27T07:11:36.870Z"
   },
   {
    "duration": 40,
    "start_time": "2024-01-27T07:11:36.908Z"
   },
   {
    "duration": 383,
    "start_time": "2024-01-27T07:11:36.949Z"
   },
   {
    "duration": 57,
    "start_time": "2024-01-27T07:11:37.334Z"
   },
   {
    "duration": 7,
    "start_time": "2024-01-27T07:30:30.817Z"
   },
   {
    "duration": 81,
    "start_time": "2024-01-27T07:31:06.005Z"
   },
   {
    "duration": 8,
    "start_time": "2024-01-27T07:31:27.874Z"
   },
   {
    "duration": 9,
    "start_time": "2024-01-27T07:31:42.505Z"
   },
   {
    "duration": 13,
    "start_time": "2024-01-27T07:31:42.519Z"
   },
   {
    "duration": 4,
    "start_time": "2024-01-27T07:31:42.533Z"
   },
   {
    "duration": 52,
    "start_time": "2024-01-27T07:31:42.539Z"
   },
   {
    "duration": 18,
    "start_time": "2024-01-27T07:31:42.593Z"
   },
   {
    "duration": 700,
    "start_time": "2024-01-27T07:31:42.613Z"
   },
   {
    "duration": 132,
    "start_time": "2024-01-27T07:31:43.315Z"
   },
   {
    "duration": 64,
    "start_time": "2024-01-27T07:31:43.448Z"
   },
   {
    "duration": 36,
    "start_time": "2024-01-27T07:31:43.514Z"
   },
   {
    "duration": 45,
    "start_time": "2024-01-27T07:31:43.552Z"
   },
   {
    "duration": 9,
    "start_time": "2024-01-27T07:31:43.599Z"
   },
   {
    "duration": 27,
    "start_time": "2024-01-27T07:31:43.610Z"
   },
   {
    "duration": 4,
    "start_time": "2024-01-27T07:31:43.640Z"
   },
   {
    "duration": 28,
    "start_time": "2024-01-27T07:31:43.645Z"
   },
   {
    "duration": 4,
    "start_time": "2024-01-27T07:31:43.675Z"
   },
   {
    "duration": 21,
    "start_time": "2024-01-27T07:31:43.681Z"
   },
   {
    "duration": 16,
    "start_time": "2024-01-27T07:31:43.704Z"
   },
   {
    "duration": 30,
    "start_time": "2024-01-27T07:31:43.721Z"
   },
   {
    "duration": 9,
    "start_time": "2024-01-27T07:31:43.752Z"
   },
   {
    "duration": 12,
    "start_time": "2024-01-27T07:31:43.762Z"
   },
   {
    "duration": 10,
    "start_time": "2024-01-27T07:31:43.775Z"
   },
   {
    "duration": 4,
    "start_time": "2024-01-27T07:31:43.787Z"
   },
   {
    "duration": 7,
    "start_time": "2024-01-27T07:31:43.792Z"
   },
   {
    "duration": 11,
    "start_time": "2024-01-27T07:31:43.800Z"
   },
   {
    "duration": 4,
    "start_time": "2024-01-27T07:31:43.813Z"
   },
   {
    "duration": 11,
    "start_time": "2024-01-27T07:31:43.818Z"
   },
   {
    "duration": 76,
    "start_time": "2024-01-27T07:31:43.830Z"
   },
   {
    "duration": 17,
    "start_time": "2024-01-27T07:31:43.907Z"
   },
   {
    "duration": 23,
    "start_time": "2024-01-27T07:31:43.925Z"
   },
   {
    "duration": 23,
    "start_time": "2024-01-27T07:31:43.950Z"
   },
   {
    "duration": 7,
    "start_time": "2024-01-27T07:31:43.975Z"
   },
   {
    "duration": 6,
    "start_time": "2024-01-27T07:31:43.984Z"
   },
   {
    "duration": 20,
    "start_time": "2024-01-27T07:31:43.992Z"
   },
   {
    "duration": 4,
    "start_time": "2024-01-27T07:31:44.016Z"
   },
   {
    "duration": 21,
    "start_time": "2024-01-27T07:31:44.022Z"
   },
   {
    "duration": 10,
    "start_time": "2024-01-27T07:31:44.045Z"
   },
   {
    "duration": 9,
    "start_time": "2024-01-27T07:31:44.057Z"
   },
   {
    "duration": 25,
    "start_time": "2024-01-27T07:31:44.068Z"
   },
   {
    "duration": 6,
    "start_time": "2024-01-27T07:31:44.095Z"
   },
   {
    "duration": 5,
    "start_time": "2024-01-27T07:31:44.103Z"
   },
   {
    "duration": 10,
    "start_time": "2024-01-27T07:31:44.109Z"
   },
   {
    "duration": 28,
    "start_time": "2024-01-27T07:31:44.120Z"
   },
   {
    "duration": 44,
    "start_time": "2024-01-27T07:31:44.149Z"
   },
   {
    "duration": 29,
    "start_time": "2024-01-27T07:31:44.194Z"
   },
   {
    "duration": 15,
    "start_time": "2024-01-27T07:31:44.225Z"
   },
   {
    "duration": 8,
    "start_time": "2024-01-27T07:31:44.242Z"
   },
   {
    "duration": 42,
    "start_time": "2024-01-27T07:31:44.252Z"
   },
   {
    "duration": 6,
    "start_time": "2024-01-27T07:31:44.296Z"
   },
   {
    "duration": 8,
    "start_time": "2024-01-27T07:31:44.303Z"
   },
   {
    "duration": 8,
    "start_time": "2024-01-27T07:31:44.313Z"
   },
   {
    "duration": 6,
    "start_time": "2024-01-27T07:31:44.323Z"
   },
   {
    "duration": 6,
    "start_time": "2024-01-27T07:31:44.330Z"
   },
   {
    "duration": 6,
    "start_time": "2024-01-27T07:31:44.338Z"
   },
   {
    "duration": 6,
    "start_time": "2024-01-27T07:31:44.345Z"
   },
   {
    "duration": 47,
    "start_time": "2024-01-27T07:31:44.353Z"
   },
   {
    "duration": 22,
    "start_time": "2024-01-27T07:31:44.402Z"
   },
   {
    "duration": 8,
    "start_time": "2024-01-27T07:31:44.425Z"
   },
   {
    "duration": 8,
    "start_time": "2024-01-27T07:31:44.435Z"
   },
   {
    "duration": 31,
    "start_time": "2024-01-27T07:31:44.444Z"
   },
   {
    "duration": 9,
    "start_time": "2024-01-27T07:31:44.476Z"
   },
   {
    "duration": 22,
    "start_time": "2024-01-27T07:31:44.487Z"
   },
   {
    "duration": 21,
    "start_time": "2024-01-27T07:31:44.510Z"
   },
   {
    "duration": 8,
    "start_time": "2024-01-27T07:31:44.533Z"
   },
   {
    "duration": 50,
    "start_time": "2024-01-27T07:31:44.543Z"
   },
   {
    "duration": 4,
    "start_time": "2024-01-27T07:31:44.594Z"
   },
   {
    "duration": 18,
    "start_time": "2024-01-27T07:31:44.600Z"
   },
   {
    "duration": 14,
    "start_time": "2024-01-27T07:31:44.620Z"
   },
   {
    "duration": 19,
    "start_time": "2024-01-27T07:31:44.636Z"
   },
   {
    "duration": 10,
    "start_time": "2024-01-27T07:31:44.657Z"
   },
   {
    "duration": 7,
    "start_time": "2024-01-27T07:31:44.692Z"
   },
   {
    "duration": 26,
    "start_time": "2024-01-27T07:31:44.701Z"
   },
   {
    "duration": 20,
    "start_time": "2024-01-27T07:31:44.729Z"
   },
   {
    "duration": 59,
    "start_time": "2024-01-27T07:31:44.751Z"
   },
   {
    "duration": 204,
    "start_time": "2024-01-27T07:31:44.811Z"
   },
   {
    "duration": 10,
    "start_time": "2024-01-27T07:31:45.016Z"
   },
   {
    "duration": 221,
    "start_time": "2024-01-27T07:31:45.027Z"
   },
   {
    "duration": 5,
    "start_time": "2024-01-27T07:31:45.250Z"
   },
   {
    "duration": 24,
    "start_time": "2024-01-27T07:31:45.256Z"
   },
   {
    "duration": 30,
    "start_time": "2024-01-27T07:31:45.281Z"
   },
   {
    "duration": 239,
    "start_time": "2024-01-27T07:31:45.312Z"
   },
   {
    "duration": 312,
    "start_time": "2024-01-27T07:31:45.552Z"
   },
   {
    "duration": 13,
    "start_time": "2024-01-27T07:31:45.865Z"
   },
   {
    "duration": 5,
    "start_time": "2024-01-27T07:31:45.879Z"
   },
   {
    "duration": 6,
    "start_time": "2024-01-27T07:31:45.886Z"
   },
   {
    "duration": 21,
    "start_time": "2024-01-27T07:31:45.893Z"
   },
   {
    "duration": 265,
    "start_time": "2024-01-27T07:31:45.915Z"
   },
   {
    "duration": 25,
    "start_time": "2024-01-27T07:31:46.181Z"
   },
   {
    "duration": 23,
    "start_time": "2024-01-27T07:31:46.207Z"
   },
   {
    "duration": 11,
    "start_time": "2024-01-27T07:31:46.232Z"
   },
   {
    "duration": 11,
    "start_time": "2024-01-27T07:31:46.245Z"
   },
   {
    "duration": 43,
    "start_time": "2024-01-27T07:31:46.258Z"
   },
   {
    "duration": 7,
    "start_time": "2024-01-27T07:31:46.303Z"
   },
   {
    "duration": 15,
    "start_time": "2024-01-27T07:31:46.312Z"
   },
   {
    "duration": 299,
    "start_time": "2024-01-27T07:31:46.329Z"
   },
   {
    "duration": 21,
    "start_time": "2024-01-27T07:31:46.631Z"
   },
   {
    "duration": 52,
    "start_time": "2024-01-27T07:31:46.654Z"
   },
   {
    "duration": 36,
    "start_time": "2024-01-27T07:31:46.712Z"
   },
   {
    "duration": 360,
    "start_time": "2024-01-27T07:31:46.750Z"
   },
   {
    "duration": 44,
    "start_time": "2024-01-27T07:31:47.112Z"
   },
   {
    "duration": 14,
    "start_time": "2024-01-27T07:32:38.630Z"
   },
   {
    "duration": 13,
    "start_time": "2024-01-27T07:33:34.355Z"
   },
   {
    "duration": 14,
    "start_time": "2024-01-27T07:34:37.191Z"
   },
   {
    "duration": 14,
    "start_time": "2024-01-27T07:34:46.435Z"
   },
   {
    "duration": 8,
    "start_time": "2024-01-27T07:46:26.959Z"
   },
   {
    "duration": 87,
    "start_time": "2024-01-27T07:46:31.700Z"
   },
   {
    "duration": 9,
    "start_time": "2024-01-27T07:46:46.253Z"
   },
   {
    "duration": 9,
    "start_time": "2024-01-27T07:47:16.035Z"
   },
   {
    "duration": 9,
    "start_time": "2024-01-27T07:47:23.041Z"
   },
   {
    "duration": 29,
    "start_time": "2024-01-27T07:47:23.055Z"
   },
   {
    "duration": 33,
    "start_time": "2024-01-27T07:47:23.086Z"
   },
   {
    "duration": 46,
    "start_time": "2024-01-27T07:47:23.120Z"
   },
   {
    "duration": 42,
    "start_time": "2024-01-27T07:47:23.167Z"
   },
   {
    "duration": 744,
    "start_time": "2024-01-27T07:47:23.211Z"
   },
   {
    "duration": 133,
    "start_time": "2024-01-27T07:47:23.956Z"
   },
   {
    "duration": 58,
    "start_time": "2024-01-27T07:47:24.091Z"
   },
   {
    "duration": 57,
    "start_time": "2024-01-27T07:47:24.151Z"
   },
   {
    "duration": 19,
    "start_time": "2024-01-27T07:47:24.209Z"
   },
   {
    "duration": 10,
    "start_time": "2024-01-27T07:47:24.229Z"
   },
   {
    "duration": 7,
    "start_time": "2024-01-27T07:47:24.240Z"
   },
   {
    "duration": 8,
    "start_time": "2024-01-27T07:47:24.249Z"
   },
   {
    "duration": 12,
    "start_time": "2024-01-27T07:47:24.291Z"
   },
   {
    "duration": 4,
    "start_time": "2024-01-27T07:47:24.305Z"
   },
   {
    "duration": 25,
    "start_time": "2024-01-27T07:47:24.310Z"
   },
   {
    "duration": 15,
    "start_time": "2024-01-27T07:47:24.337Z"
   },
   {
    "duration": 5,
    "start_time": "2024-01-27T07:47:24.353Z"
   },
   {
    "duration": 32,
    "start_time": "2024-01-27T07:47:24.360Z"
   },
   {
    "duration": 8,
    "start_time": "2024-01-27T07:47:24.393Z"
   },
   {
    "duration": 27,
    "start_time": "2024-01-27T07:47:24.403Z"
   },
   {
    "duration": 5,
    "start_time": "2024-01-27T07:47:24.432Z"
   },
   {
    "duration": 8,
    "start_time": "2024-01-27T07:47:24.438Z"
   },
   {
    "duration": 18,
    "start_time": "2024-01-27T07:47:24.448Z"
   },
   {
    "duration": 16,
    "start_time": "2024-01-27T07:47:24.468Z"
   },
   {
    "duration": 26,
    "start_time": "2024-01-27T07:47:24.486Z"
   },
   {
    "duration": 61,
    "start_time": "2024-01-27T07:47:24.514Z"
   },
   {
    "duration": 16,
    "start_time": "2024-01-27T07:47:24.577Z"
   },
   {
    "duration": 6,
    "start_time": "2024-01-27T07:47:24.595Z"
   },
   {
    "duration": 17,
    "start_time": "2024-01-27T07:47:24.602Z"
   },
   {
    "duration": 15,
    "start_time": "2024-01-27T07:47:24.620Z"
   },
   {
    "duration": 5,
    "start_time": "2024-01-27T07:47:24.637Z"
   },
   {
    "duration": 19,
    "start_time": "2024-01-27T07:47:24.644Z"
   },
   {
    "duration": 3,
    "start_time": "2024-01-27T07:47:24.665Z"
   },
   {
    "duration": 45,
    "start_time": "2024-01-27T07:47:24.670Z"
   },
   {
    "duration": 6,
    "start_time": "2024-01-27T07:47:24.717Z"
   },
   {
    "duration": 9,
    "start_time": "2024-01-27T07:47:24.725Z"
   },
   {
    "duration": 9,
    "start_time": "2024-01-27T07:47:24.739Z"
   },
   {
    "duration": 4,
    "start_time": "2024-01-27T07:47:24.750Z"
   },
   {
    "duration": 5,
    "start_time": "2024-01-27T07:47:24.756Z"
   },
   {
    "duration": 30,
    "start_time": "2024-01-27T07:47:24.762Z"
   },
   {
    "duration": 29,
    "start_time": "2024-01-27T07:47:24.794Z"
   },
   {
    "duration": 26,
    "start_time": "2024-01-27T07:47:24.824Z"
   },
   {
    "duration": 56,
    "start_time": "2024-01-27T07:47:24.851Z"
   },
   {
    "duration": 16,
    "start_time": "2024-01-27T07:47:24.908Z"
   },
   {
    "duration": 6,
    "start_time": "2024-01-27T07:47:24.925Z"
   },
   {
    "duration": 18,
    "start_time": "2024-01-27T07:47:24.933Z"
   },
   {
    "duration": 5,
    "start_time": "2024-01-27T07:47:24.953Z"
   },
   {
    "duration": 4,
    "start_time": "2024-01-27T07:47:24.992Z"
   },
   {
    "duration": 9,
    "start_time": "2024-01-27T07:47:24.998Z"
   },
   {
    "duration": 7,
    "start_time": "2024-01-27T07:47:25.009Z"
   },
   {
    "duration": 4,
    "start_time": "2024-01-27T07:47:25.018Z"
   },
   {
    "duration": 24,
    "start_time": "2024-01-27T07:47:25.024Z"
   },
   {
    "duration": 19,
    "start_time": "2024-01-27T07:47:25.050Z"
   },
   {
    "duration": 6,
    "start_time": "2024-01-27T07:47:25.071Z"
   },
   {
    "duration": 18,
    "start_time": "2024-01-27T07:47:25.078Z"
   },
   {
    "duration": 9,
    "start_time": "2024-01-27T07:47:25.098Z"
   },
   {
    "duration": 8,
    "start_time": "2024-01-27T07:47:25.108Z"
   },
   {
    "duration": 8,
    "start_time": "2024-01-27T07:47:25.117Z"
   },
   {
    "duration": 8,
    "start_time": "2024-01-27T07:47:25.126Z"
   },
   {
    "duration": 27,
    "start_time": "2024-01-27T07:47:25.135Z"
   },
   {
    "duration": 46,
    "start_time": "2024-01-27T07:47:25.164Z"
   },
   {
    "duration": 9,
    "start_time": "2024-01-27T07:47:25.212Z"
   },
   {
    "duration": 22,
    "start_time": "2024-01-27T07:47:25.222Z"
   },
   {
    "duration": 4,
    "start_time": "2024-01-27T07:47:25.245Z"
   },
   {
    "duration": 43,
    "start_time": "2024-01-27T07:47:25.250Z"
   },
   {
    "duration": 13,
    "start_time": "2024-01-27T07:47:25.295Z"
   },
   {
    "duration": 18,
    "start_time": "2024-01-27T07:47:25.310Z"
   },
   {
    "duration": 9,
    "start_time": "2024-01-27T07:47:25.329Z"
   },
   {
    "duration": 9,
    "start_time": "2024-01-27T07:47:25.340Z"
   },
   {
    "duration": 49,
    "start_time": "2024-01-27T07:47:25.350Z"
   },
   {
    "duration": 21,
    "start_time": "2024-01-27T07:47:25.400Z"
   },
   {
    "duration": 43,
    "start_time": "2024-01-27T07:47:25.423Z"
   },
   {
    "duration": 205,
    "start_time": "2024-01-27T07:47:25.468Z"
   },
   {
    "duration": 18,
    "start_time": "2024-01-27T07:47:25.675Z"
   },
   {
    "duration": 206,
    "start_time": "2024-01-27T07:47:25.695Z"
   },
   {
    "duration": 6,
    "start_time": "2024-01-27T07:47:25.903Z"
   },
   {
    "duration": 27,
    "start_time": "2024-01-27T07:47:25.911Z"
   },
   {
    "duration": 11,
    "start_time": "2024-01-27T07:47:25.940Z"
   },
   {
    "duration": 209,
    "start_time": "2024-01-27T07:47:25.953Z"
   },
   {
    "duration": 316,
    "start_time": "2024-01-27T07:47:26.164Z"
   },
   {
    "duration": 13,
    "start_time": "2024-01-27T07:47:26.482Z"
   },
   {
    "duration": 25,
    "start_time": "2024-01-27T07:47:26.496Z"
   },
   {
    "duration": 27,
    "start_time": "2024-01-27T07:47:26.523Z"
   },
   {
    "duration": 13,
    "start_time": "2024-01-27T07:47:26.552Z"
   },
   {
    "duration": 21,
    "start_time": "2024-01-27T07:47:26.567Z"
   },
   {
    "duration": 253,
    "start_time": "2024-01-27T07:47:26.590Z"
   },
   {
    "duration": 17,
    "start_time": "2024-01-27T07:47:26.844Z"
   },
   {
    "duration": 72,
    "start_time": "2024-01-27T07:47:26.862Z"
   },
   {
    "duration": 9,
    "start_time": "2024-01-27T07:47:26.935Z"
   },
   {
    "duration": 14,
    "start_time": "2024-01-27T07:47:26.945Z"
   },
   {
    "duration": 11,
    "start_time": "2024-01-27T07:47:26.960Z"
   },
   {
    "duration": 6,
    "start_time": "2024-01-27T07:47:26.972Z"
   },
   {
    "duration": 21,
    "start_time": "2024-01-27T07:47:26.980Z"
   },
   {
    "duration": 294,
    "start_time": "2024-01-27T07:47:27.003Z"
   },
   {
    "duration": 20,
    "start_time": "2024-01-27T07:47:27.299Z"
   },
   {
    "duration": 23,
    "start_time": "2024-01-27T07:47:27.321Z"
   },
   {
    "duration": 59,
    "start_time": "2024-01-27T07:47:27.346Z"
   },
   {
    "duration": 385,
    "start_time": "2024-01-27T07:47:27.406Z"
   },
   {
    "duration": 47,
    "start_time": "2024-01-27T07:47:27.793Z"
   },
   {
    "duration": 212,
    "start_time": "2024-01-27T07:48:44.617Z"
   },
   {
    "duration": 491,
    "start_time": "2024-01-27T07:55:57.775Z"
   },
   {
    "duration": 243,
    "start_time": "2024-01-27T07:56:15.708Z"
   },
   {
    "duration": 13,
    "start_time": "2024-01-27T07:57:36.733Z"
   },
   {
    "duration": 12,
    "start_time": "2024-01-27T07:57:46.175Z"
   },
   {
    "duration": 9,
    "start_time": "2024-01-27T07:57:59.219Z"
   },
   {
    "duration": 19,
    "start_time": "2024-01-27T07:57:59.233Z"
   },
   {
    "duration": 19,
    "start_time": "2024-01-27T07:57:59.253Z"
   },
   {
    "duration": 6,
    "start_time": "2024-01-27T07:57:59.273Z"
   },
   {
    "duration": 5,
    "start_time": "2024-01-27T07:57:59.280Z"
   },
   {
    "duration": 728,
    "start_time": "2024-01-27T07:57:59.287Z"
   },
   {
    "duration": 129,
    "start_time": "2024-01-27T07:58:00.017Z"
   },
   {
    "duration": 61,
    "start_time": "2024-01-27T07:58:00.148Z"
   },
   {
    "duration": 63,
    "start_time": "2024-01-27T07:58:00.211Z"
   },
   {
    "duration": 65,
    "start_time": "2024-01-27T07:58:00.277Z"
   },
   {
    "duration": 104,
    "start_time": "2024-01-27T07:58:00.344Z"
   },
   {
    "duration": 41,
    "start_time": "2024-01-27T07:58:00.450Z"
   },
   {
    "duration": 39,
    "start_time": "2024-01-27T07:58:00.493Z"
   },
   {
    "duration": 100,
    "start_time": "2024-01-27T07:58:00.534Z"
   },
   {
    "duration": 58,
    "start_time": "2024-01-27T07:58:00.636Z"
   },
   {
    "duration": 84,
    "start_time": "2024-01-27T07:58:00.695Z"
   },
   {
    "duration": 26,
    "start_time": "2024-01-27T07:58:00.781Z"
   },
   {
    "duration": 42,
    "start_time": "2024-01-27T07:58:00.809Z"
   },
   {
    "duration": 39,
    "start_time": "2024-01-27T07:58:00.853Z"
   },
   {
    "duration": 36,
    "start_time": "2024-01-27T07:58:00.894Z"
   },
   {
    "duration": 55,
    "start_time": "2024-01-27T07:58:00.934Z"
   },
   {
    "duration": 32,
    "start_time": "2024-01-27T07:58:00.991Z"
   },
   {
    "duration": 41,
    "start_time": "2024-01-27T07:58:01.025Z"
   },
   {
    "duration": 120,
    "start_time": "2024-01-27T07:58:01.068Z"
   },
   {
    "duration": 126,
    "start_time": "2024-01-27T07:58:01.189Z"
   },
   {
    "duration": 95,
    "start_time": "2024-01-27T07:58:01.317Z"
   },
   {
    "duration": 91,
    "start_time": "2024-01-27T07:58:01.414Z"
   },
   {
    "duration": 17,
    "start_time": "2024-01-27T07:58:01.506Z"
   },
   {
    "duration": 48,
    "start_time": "2024-01-27T07:58:01.525Z"
   },
   {
    "duration": 185,
    "start_time": "2024-01-27T07:58:01.574Z"
   },
   {
    "duration": 486,
    "start_time": "2024-01-27T07:58:01.760Z"
   },
   {
    "duration": 517,
    "start_time": "2024-01-27T07:58:02.248Z"
   },
   {
    "duration": 135,
    "start_time": "2024-01-27T07:58:02.766Z"
   },
   {
    "duration": 13,
    "start_time": "2024-01-27T07:58:02.903Z"
   },
   {
    "duration": 57,
    "start_time": "2024-01-27T07:58:02.919Z"
   },
   {
    "duration": 19,
    "start_time": "2024-01-27T07:58:02.979Z"
   },
   {
    "duration": 88,
    "start_time": "2024-01-27T07:58:03.000Z"
   },
   {
    "duration": 295,
    "start_time": "2024-01-27T07:58:03.089Z"
   },
   {
    "duration": 26,
    "start_time": "2024-01-27T07:58:03.386Z"
   },
   {
    "duration": 14,
    "start_time": "2024-01-27T07:58:03.413Z"
   },
   {
    "duration": 71,
    "start_time": "2024-01-27T07:58:03.429Z"
   },
   {
    "duration": 33,
    "start_time": "2024-01-27T07:58:03.502Z"
   },
   {
    "duration": 24,
    "start_time": "2024-01-27T07:58:03.537Z"
   },
   {
    "duration": 44,
    "start_time": "2024-01-27T07:58:03.562Z"
   },
   {
    "duration": 17,
    "start_time": "2024-01-27T07:58:03.607Z"
   },
   {
    "duration": 69,
    "start_time": "2024-01-27T07:58:03.625Z"
   },
   {
    "duration": 201,
    "start_time": "2024-01-27T07:58:03.695Z"
   },
   {
    "duration": 59,
    "start_time": "2024-01-27T07:58:03.897Z"
   },
   {
    "duration": 151,
    "start_time": "2024-01-27T07:58:03.958Z"
   },
   {
    "duration": 53,
    "start_time": "2024-01-27T07:58:04.111Z"
   },
   {
    "duration": 44,
    "start_time": "2024-01-27T07:58:04.166Z"
   },
   {
    "duration": 477,
    "start_time": "2024-01-27T07:58:04.212Z"
   },
   {
    "duration": 374,
    "start_time": "2024-01-27T07:58:04.691Z"
   },
   {
    "duration": 171,
    "start_time": "2024-01-27T07:58:05.071Z"
   },
   {
    "duration": 152,
    "start_time": "2024-01-27T07:58:05.244Z"
   },
   {
    "duration": 35,
    "start_time": "2024-01-27T07:58:05.398Z"
   },
   {
    "duration": 195,
    "start_time": "2024-01-27T07:58:05.435Z"
   },
   {
    "duration": 208,
    "start_time": "2024-01-27T07:58:05.631Z"
   },
   {
    "duration": 35,
    "start_time": "2024-01-27T07:58:05.840Z"
   },
   {
    "duration": 8,
    "start_time": "2024-01-27T07:58:05.877Z"
   },
   {
    "duration": 21,
    "start_time": "2024-01-27T07:58:05.886Z"
   },
   {
    "duration": 20,
    "start_time": "2024-01-27T07:58:05.908Z"
   },
   {
    "duration": 25,
    "start_time": "2024-01-27T07:58:05.930Z"
   },
   {
    "duration": 38,
    "start_time": "2024-01-27T07:58:05.956Z"
   },
   {
    "duration": 12,
    "start_time": "2024-01-27T07:58:05.996Z"
   },
   {
    "duration": 16,
    "start_time": "2024-01-27T07:58:06.010Z"
   },
   {
    "duration": 18,
    "start_time": "2024-01-27T07:58:06.028Z"
   },
   {
    "duration": 21,
    "start_time": "2024-01-27T07:58:06.048Z"
   },
   {
    "duration": 24,
    "start_time": "2024-01-27T07:58:06.070Z"
   },
   {
    "duration": 10,
    "start_time": "2024-01-27T07:58:06.095Z"
   },
   {
    "duration": 25,
    "start_time": "2024-01-27T07:58:06.107Z"
   },
   {
    "duration": 21,
    "start_time": "2024-01-27T07:58:06.134Z"
   },
   {
    "duration": 71,
    "start_time": "2024-01-27T07:58:06.157Z"
   },
   {
    "duration": 201,
    "start_time": "2024-01-27T07:58:06.229Z"
   },
   {
    "duration": 11,
    "start_time": "2024-01-27T07:58:06.432Z"
   },
   {
    "duration": 213,
    "start_time": "2024-01-27T07:58:06.445Z"
   },
   {
    "duration": 5,
    "start_time": "2024-01-27T07:58:06.660Z"
   },
   {
    "duration": 15,
    "start_time": "2024-01-27T07:58:06.667Z"
   },
   {
    "duration": 9,
    "start_time": "2024-01-27T07:58:06.692Z"
   },
   {
    "duration": 191,
    "start_time": "2024-01-27T07:58:06.702Z"
   },
   {
    "duration": 325,
    "start_time": "2024-01-27T07:58:06.895Z"
   },
   {
    "duration": 13,
    "start_time": "2024-01-27T07:58:07.221Z"
   },
   {
    "duration": 208,
    "start_time": "2024-01-27T07:58:07.235Z"
   },
   {
    "duration": 0,
    "start_time": "2024-01-27T07:58:07.444Z"
   },
   {
    "duration": 0,
    "start_time": "2024-01-27T07:58:07.446Z"
   },
   {
    "duration": 0,
    "start_time": "2024-01-27T07:58:07.447Z"
   },
   {
    "duration": 0,
    "start_time": "2024-01-27T07:58:07.448Z"
   },
   {
    "duration": 0,
    "start_time": "2024-01-27T07:58:07.450Z"
   },
   {
    "duration": 0,
    "start_time": "2024-01-27T07:58:07.451Z"
   },
   {
    "duration": 0,
    "start_time": "2024-01-27T07:58:07.452Z"
   },
   {
    "duration": 0,
    "start_time": "2024-01-27T07:58:07.453Z"
   },
   {
    "duration": 0,
    "start_time": "2024-01-27T07:58:07.454Z"
   },
   {
    "duration": 0,
    "start_time": "2024-01-27T07:58:07.455Z"
   },
   {
    "duration": 0,
    "start_time": "2024-01-27T07:58:07.456Z"
   },
   {
    "duration": 0,
    "start_time": "2024-01-27T07:58:07.457Z"
   },
   {
    "duration": 0,
    "start_time": "2024-01-27T07:58:07.459Z"
   },
   {
    "duration": 0,
    "start_time": "2024-01-27T07:58:07.460Z"
   },
   {
    "duration": 0,
    "start_time": "2024-01-27T07:58:07.460Z"
   },
   {
    "duration": 0,
    "start_time": "2024-01-27T07:58:07.462Z"
   },
   {
    "duration": 0,
    "start_time": "2024-01-27T07:58:07.492Z"
   },
   {
    "duration": 13,
    "start_time": "2024-01-27T07:58:22.858Z"
   },
   {
    "duration": 17,
    "start_time": "2024-01-27T07:59:08.327Z"
   },
   {
    "duration": 15,
    "start_time": "2024-01-27T07:59:57.158Z"
   },
   {
    "duration": 143,
    "start_time": "2024-01-27T08:00:26.510Z"
   },
   {
    "duration": 143,
    "start_time": "2024-01-27T08:02:53.948Z"
   },
   {
    "duration": 6,
    "start_time": "2024-01-27T08:18:48.944Z"
   },
   {
    "duration": 5,
    "start_time": "2024-01-27T08:18:52.626Z"
   },
   {
    "duration": 11,
    "start_time": "2024-01-27T08:19:59.050Z"
   },
   {
    "duration": 14,
    "start_time": "2024-01-27T08:20:45.610Z"
   },
   {
    "duration": 140,
    "start_time": "2024-01-27T08:22:17.638Z"
   },
   {
    "duration": 142,
    "start_time": "2024-01-27T08:22:44.929Z"
   },
   {
    "duration": 10,
    "start_time": "2024-01-27T08:23:52.631Z"
   },
   {
    "duration": 8,
    "start_time": "2024-01-27T08:23:52.647Z"
   },
   {
    "duration": 7,
    "start_time": "2024-01-27T08:23:52.656Z"
   },
   {
    "duration": 4,
    "start_time": "2024-01-27T08:23:52.665Z"
   },
   {
    "duration": 7,
    "start_time": "2024-01-27T08:23:52.670Z"
   },
   {
    "duration": 736,
    "start_time": "2024-01-27T08:23:52.687Z"
   },
   {
    "duration": 133,
    "start_time": "2024-01-27T08:23:53.425Z"
   },
   {
    "duration": 63,
    "start_time": "2024-01-27T08:23:53.560Z"
   },
   {
    "duration": 33,
    "start_time": "2024-01-27T08:23:53.624Z"
   },
   {
    "duration": 42,
    "start_time": "2024-01-27T08:23:53.659Z"
   },
   {
    "duration": 8,
    "start_time": "2024-01-27T08:23:53.703Z"
   },
   {
    "duration": 26,
    "start_time": "2024-01-27T08:23:53.713Z"
   },
   {
    "duration": 36,
    "start_time": "2024-01-27T08:23:53.740Z"
   },
   {
    "duration": 27,
    "start_time": "2024-01-27T08:23:53.778Z"
   },
   {
    "duration": 15,
    "start_time": "2024-01-27T08:23:53.807Z"
   },
   {
    "duration": 32,
    "start_time": "2024-01-27T08:23:53.823Z"
   },
   {
    "duration": 18,
    "start_time": "2024-01-27T08:23:53.857Z"
   },
   {
    "duration": 5,
    "start_time": "2024-01-27T08:23:53.877Z"
   },
   {
    "duration": 5,
    "start_time": "2024-01-27T08:23:53.885Z"
   },
   {
    "duration": 43,
    "start_time": "2024-01-27T08:23:53.892Z"
   },
   {
    "duration": 48,
    "start_time": "2024-01-27T08:23:53.937Z"
   },
   {
    "duration": 3,
    "start_time": "2024-01-27T08:23:53.987Z"
   },
   {
    "duration": 8,
    "start_time": "2024-01-27T08:23:53.992Z"
   },
   {
    "duration": 9,
    "start_time": "2024-01-27T08:23:54.002Z"
   },
   {
    "duration": 13,
    "start_time": "2024-01-27T08:23:54.013Z"
   },
   {
    "duration": 14,
    "start_time": "2024-01-27T08:23:54.028Z"
   },
   {
    "duration": 79,
    "start_time": "2024-01-27T08:23:54.043Z"
   },
   {
    "duration": 17,
    "start_time": "2024-01-27T08:23:54.123Z"
   },
   {
    "duration": 59,
    "start_time": "2024-01-27T08:23:54.142Z"
   },
   {
    "duration": 21,
    "start_time": "2024-01-27T08:23:54.202Z"
   },
   {
    "duration": 5,
    "start_time": "2024-01-27T08:23:54.224Z"
   },
   {
    "duration": 27,
    "start_time": "2024-01-27T08:23:54.231Z"
   },
   {
    "duration": 40,
    "start_time": "2024-01-27T08:23:54.260Z"
   },
   {
    "duration": 5,
    "start_time": "2024-01-27T08:23:54.302Z"
   },
   {
    "duration": 28,
    "start_time": "2024-01-27T08:23:54.308Z"
   },
   {
    "duration": 7,
    "start_time": "2024-01-27T08:23:54.337Z"
   },
   {
    "duration": 12,
    "start_time": "2024-01-27T08:23:54.346Z"
   },
   {
    "duration": 15,
    "start_time": "2024-01-27T08:23:54.360Z"
   },
   {
    "duration": 9,
    "start_time": "2024-01-27T08:23:54.377Z"
   },
   {
    "duration": 25,
    "start_time": "2024-01-27T08:23:54.388Z"
   },
   {
    "duration": 8,
    "start_time": "2024-01-27T08:23:54.414Z"
   },
   {
    "duration": 31,
    "start_time": "2024-01-27T08:23:54.424Z"
   },
   {
    "duration": 25,
    "start_time": "2024-01-27T08:23:54.457Z"
   },
   {
    "duration": 29,
    "start_time": "2024-01-27T08:23:54.484Z"
   },
   {
    "duration": 16,
    "start_time": "2024-01-27T08:23:54.514Z"
   },
   {
    "duration": 7,
    "start_time": "2024-01-27T08:23:54.536Z"
   },
   {
    "duration": 55,
    "start_time": "2024-01-27T08:23:54.544Z"
   },
   {
    "duration": 35,
    "start_time": "2024-01-27T08:23:54.601Z"
   },
   {
    "duration": 16,
    "start_time": "2024-01-27T08:23:54.638Z"
   },
   {
    "duration": 18,
    "start_time": "2024-01-27T08:23:54.655Z"
   },
   {
    "duration": 21,
    "start_time": "2024-01-27T08:23:54.675Z"
   },
   {
    "duration": 14,
    "start_time": "2024-01-27T08:23:54.698Z"
   },
   {
    "duration": 37,
    "start_time": "2024-01-27T08:23:54.713Z"
   },
   {
    "duration": 13,
    "start_time": "2024-01-27T08:23:54.751Z"
   },
   {
    "duration": 11,
    "start_time": "2024-01-27T08:23:54.765Z"
   },
   {
    "duration": 23,
    "start_time": "2024-01-27T08:23:54.777Z"
   },
   {
    "duration": 38,
    "start_time": "2024-01-27T08:23:54.802Z"
   },
   {
    "duration": 8,
    "start_time": "2024-01-27T08:23:54.842Z"
   },
   {
    "duration": 8,
    "start_time": "2024-01-27T08:23:54.851Z"
   },
   {
    "duration": 8,
    "start_time": "2024-01-27T08:23:54.860Z"
   },
   {
    "duration": 24,
    "start_time": "2024-01-27T08:23:54.869Z"
   },
   {
    "duration": 21,
    "start_time": "2024-01-27T08:23:54.895Z"
   },
   {
    "duration": 23,
    "start_time": "2024-01-27T08:23:54.917Z"
   },
   {
    "duration": 34,
    "start_time": "2024-01-27T08:23:54.942Z"
   },
   {
    "duration": 4,
    "start_time": "2024-01-27T08:23:54.978Z"
   },
   {
    "duration": 24,
    "start_time": "2024-01-27T08:23:54.983Z"
   },
   {
    "duration": 24,
    "start_time": "2024-01-27T08:23:55.009Z"
   },
   {
    "duration": 32,
    "start_time": "2024-01-27T08:23:55.035Z"
   },
   {
    "duration": 18,
    "start_time": "2024-01-27T08:23:55.069Z"
   },
   {
    "duration": 8,
    "start_time": "2024-01-27T08:23:55.089Z"
   },
   {
    "duration": 28,
    "start_time": "2024-01-27T08:23:55.098Z"
   },
   {
    "duration": 34,
    "start_time": "2024-01-27T08:23:55.127Z"
   },
   {
    "duration": 70,
    "start_time": "2024-01-27T08:23:55.163Z"
   },
   {
    "duration": 206,
    "start_time": "2024-01-27T08:23:55.235Z"
   },
   {
    "duration": 11,
    "start_time": "2024-01-27T08:23:55.443Z"
   },
   {
    "duration": 214,
    "start_time": "2024-01-27T08:23:55.456Z"
   },
   {
    "duration": 5,
    "start_time": "2024-01-27T08:23:55.673Z"
   },
   {
    "duration": 45,
    "start_time": "2024-01-27T08:23:55.692Z"
   },
   {
    "duration": 45,
    "start_time": "2024-01-27T08:23:55.739Z"
   },
   {
    "duration": 215,
    "start_time": "2024-01-27T08:23:55.786Z"
   },
   {
    "duration": 329,
    "start_time": "2024-01-27T08:23:56.003Z"
   },
   {
    "duration": 230,
    "start_time": "2024-01-27T08:23:56.333Z"
   },
   {
    "duration": 0,
    "start_time": "2024-01-27T08:23:56.564Z"
   },
   {
    "duration": 0,
    "start_time": "2024-01-27T08:23:56.566Z"
   },
   {
    "duration": 0,
    "start_time": "2024-01-27T08:23:56.567Z"
   },
   {
    "duration": 0,
    "start_time": "2024-01-27T08:23:56.568Z"
   },
   {
    "duration": 0,
    "start_time": "2024-01-27T08:23:56.569Z"
   },
   {
    "duration": 0,
    "start_time": "2024-01-27T08:23:56.570Z"
   },
   {
    "duration": 0,
    "start_time": "2024-01-27T08:23:56.571Z"
   },
   {
    "duration": 1,
    "start_time": "2024-01-27T08:23:56.572Z"
   },
   {
    "duration": 0,
    "start_time": "2024-01-27T08:23:56.573Z"
   },
   {
    "duration": 1,
    "start_time": "2024-01-27T08:23:56.590Z"
   },
   {
    "duration": 0,
    "start_time": "2024-01-27T08:23:56.592Z"
   },
   {
    "duration": 0,
    "start_time": "2024-01-27T08:23:56.594Z"
   },
   {
    "duration": 0,
    "start_time": "2024-01-27T08:23:56.596Z"
   },
   {
    "duration": 0,
    "start_time": "2024-01-27T08:23:56.597Z"
   },
   {
    "duration": 0,
    "start_time": "2024-01-27T08:23:56.598Z"
   },
   {
    "duration": 0,
    "start_time": "2024-01-27T08:23:56.599Z"
   },
   {
    "duration": 0,
    "start_time": "2024-01-27T08:23:56.601Z"
   },
   {
    "duration": 0,
    "start_time": "2024-01-27T08:23:56.602Z"
   },
   {
    "duration": 468,
    "start_time": "2024-01-27T08:24:36.342Z"
   },
   {
    "duration": 18,
    "start_time": "2024-01-27T08:26:07.268Z"
   },
   {
    "duration": 15,
    "start_time": "2024-01-27T08:26:14.576Z"
   },
   {
    "duration": 223,
    "start_time": "2024-01-27T08:26:58.063Z"
   },
   {
    "duration": 15,
    "start_time": "2024-01-27T08:27:53.104Z"
   },
   {
    "duration": 126,
    "start_time": "2024-01-27T08:28:06.387Z"
   },
   {
    "duration": 10,
    "start_time": "2024-01-27T08:29:02.459Z"
   },
   {
    "duration": 25,
    "start_time": "2024-01-27T08:29:02.473Z"
   },
   {
    "duration": 25,
    "start_time": "2024-01-27T08:29:02.499Z"
   },
   {
    "duration": 11,
    "start_time": "2024-01-27T08:29:02.526Z"
   },
   {
    "duration": 17,
    "start_time": "2024-01-27T08:29:02.539Z"
   },
   {
    "duration": 1261,
    "start_time": "2024-01-27T08:29:02.558Z"
   },
   {
    "duration": 127,
    "start_time": "2024-01-27T08:29:03.821Z"
   },
   {
    "duration": 62,
    "start_time": "2024-01-27T08:29:03.950Z"
   },
   {
    "duration": 82,
    "start_time": "2024-01-27T08:29:04.013Z"
   },
   {
    "duration": 20,
    "start_time": "2024-01-27T08:29:04.097Z"
   },
   {
    "duration": 14,
    "start_time": "2024-01-27T08:29:04.119Z"
   },
   {
    "duration": 27,
    "start_time": "2024-01-27T08:29:04.135Z"
   },
   {
    "duration": 8,
    "start_time": "2024-01-27T08:29:04.164Z"
   },
   {
    "duration": 20,
    "start_time": "2024-01-27T08:29:04.175Z"
   },
   {
    "duration": 4,
    "start_time": "2024-01-27T08:29:04.197Z"
   },
   {
    "duration": 23,
    "start_time": "2024-01-27T08:29:04.203Z"
   },
   {
    "duration": 36,
    "start_time": "2024-01-27T08:29:04.228Z"
   },
   {
    "duration": 4,
    "start_time": "2024-01-27T08:29:04.268Z"
   },
   {
    "duration": 185,
    "start_time": "2024-01-27T08:29:04.275Z"
   },
   {
    "duration": 549,
    "start_time": "2024-01-27T08:29:04.462Z"
   },
   {
    "duration": 73,
    "start_time": "2024-01-27T08:29:05.013Z"
   },
   {
    "duration": 97,
    "start_time": "2024-01-27T08:29:05.087Z"
   },
   {
    "duration": 30,
    "start_time": "2024-01-27T08:29:05.186Z"
   },
   {
    "duration": 11,
    "start_time": "2024-01-27T08:29:05.218Z"
   },
   {
    "duration": 13,
    "start_time": "2024-01-27T08:29:05.231Z"
   },
   {
    "duration": 11,
    "start_time": "2024-01-27T08:29:05.246Z"
   },
   {
    "duration": 62,
    "start_time": "2024-01-27T08:29:05.258Z"
   },
   {
    "duration": 17,
    "start_time": "2024-01-27T08:29:05.321Z"
   },
   {
    "duration": 21,
    "start_time": "2024-01-27T08:29:05.340Z"
   },
   {
    "duration": 20,
    "start_time": "2024-01-27T08:29:05.363Z"
   },
   {
    "duration": 16,
    "start_time": "2024-01-27T08:29:05.385Z"
   },
   {
    "duration": 7,
    "start_time": "2024-01-27T08:29:05.403Z"
   },
   {
    "duration": 23,
    "start_time": "2024-01-27T08:29:05.412Z"
   },
   {
    "duration": 4,
    "start_time": "2024-01-27T08:29:05.437Z"
   },
   {
    "duration": 40,
    "start_time": "2024-01-27T08:29:05.442Z"
   },
   {
    "duration": 16,
    "start_time": "2024-01-27T08:29:05.484Z"
   },
   {
    "duration": 10,
    "start_time": "2024-01-27T08:29:05.501Z"
   },
   {
    "duration": 13,
    "start_time": "2024-01-27T08:29:05.516Z"
   },
   {
    "duration": 7,
    "start_time": "2024-01-27T08:29:05.531Z"
   },
   {
    "duration": 4,
    "start_time": "2024-01-27T08:29:05.540Z"
   },
   {
    "duration": 4,
    "start_time": "2024-01-27T08:29:05.545Z"
   },
   {
    "duration": 30,
    "start_time": "2024-01-27T08:29:05.551Z"
   },
   {
    "duration": 29,
    "start_time": "2024-01-27T08:29:05.582Z"
   },
   {
    "duration": 27,
    "start_time": "2024-01-27T08:29:05.613Z"
   },
   {
    "duration": 16,
    "start_time": "2024-01-27T08:29:05.642Z"
   },
   {
    "duration": 28,
    "start_time": "2024-01-27T08:29:05.659Z"
   },
   {
    "duration": 22,
    "start_time": "2024-01-27T08:29:05.691Z"
   },
   {
    "duration": 8,
    "start_time": "2024-01-27T08:29:05.714Z"
   },
   {
    "duration": 12,
    "start_time": "2024-01-27T08:29:05.724Z"
   },
   {
    "duration": 16,
    "start_time": "2024-01-27T08:29:05.738Z"
   },
   {
    "duration": 18,
    "start_time": "2024-01-27T08:29:05.756Z"
   },
   {
    "duration": 24,
    "start_time": "2024-01-27T08:29:05.776Z"
   },
   {
    "duration": 20,
    "start_time": "2024-01-27T08:29:05.801Z"
   },
   {
    "duration": 43,
    "start_time": "2024-01-27T08:29:05.822Z"
   },
   {
    "duration": 7,
    "start_time": "2024-01-27T08:29:05.867Z"
   },
   {
    "duration": 39,
    "start_time": "2024-01-27T08:29:05.875Z"
   },
   {
    "duration": 19,
    "start_time": "2024-01-27T08:29:05.915Z"
   },
   {
    "duration": 12,
    "start_time": "2024-01-27T08:29:05.935Z"
   },
   {
    "duration": 8,
    "start_time": "2024-01-27T08:29:05.949Z"
   },
   {
    "duration": 11,
    "start_time": "2024-01-27T08:29:05.959Z"
   },
   {
    "duration": 44,
    "start_time": "2024-01-27T08:29:05.971Z"
   },
   {
    "duration": 26,
    "start_time": "2024-01-27T08:29:06.017Z"
   },
   {
    "duration": 9,
    "start_time": "2024-01-27T08:29:06.045Z"
   },
   {
    "duration": 40,
    "start_time": "2024-01-27T08:29:06.056Z"
   },
   {
    "duration": 4,
    "start_time": "2024-01-27T08:29:06.097Z"
   },
   {
    "duration": 16,
    "start_time": "2024-01-27T08:29:06.103Z"
   },
   {
    "duration": 13,
    "start_time": "2024-01-27T08:29:06.121Z"
   },
   {
    "duration": 23,
    "start_time": "2024-01-27T08:29:06.135Z"
   },
   {
    "duration": 33,
    "start_time": "2024-01-27T08:29:06.159Z"
   },
   {
    "duration": 9,
    "start_time": "2024-01-27T08:29:06.194Z"
   },
   {
    "duration": 26,
    "start_time": "2024-01-27T08:29:06.205Z"
   },
   {
    "duration": 21,
    "start_time": "2024-01-27T08:29:06.232Z"
   },
   {
    "duration": 67,
    "start_time": "2024-01-27T08:29:06.254Z"
   },
   {
    "duration": 208,
    "start_time": "2024-01-27T08:29:06.322Z"
   },
   {
    "duration": 11,
    "start_time": "2024-01-27T08:29:06.532Z"
   },
   {
    "duration": 165,
    "start_time": "2024-01-27T08:29:06.544Z"
   },
   {
    "duration": 4,
    "start_time": "2024-01-27T08:29:06.711Z"
   },
   {
    "duration": 7,
    "start_time": "2024-01-27T08:29:06.717Z"
   },
   {
    "duration": 17,
    "start_time": "2024-01-27T08:29:06.725Z"
   },
   {
    "duration": 194,
    "start_time": "2024-01-27T08:29:06.744Z"
   },
   {
    "duration": 332,
    "start_time": "2024-01-27T08:29:06.940Z"
   },
   {
    "duration": 796,
    "start_time": "2024-01-27T08:29:07.274Z"
   },
   {
    "duration": 14,
    "start_time": "2024-01-27T08:29:08.071Z"
   },
   {
    "duration": 4,
    "start_time": "2024-01-27T08:29:08.092Z"
   },
   {
    "duration": 5,
    "start_time": "2024-01-27T08:29:08.098Z"
   },
   {
    "duration": 20,
    "start_time": "2024-01-27T08:29:08.104Z"
   },
   {
    "duration": 286,
    "start_time": "2024-01-27T08:29:08.126Z"
   },
   {
    "duration": 16,
    "start_time": "2024-01-27T08:29:08.414Z"
   },
   {
    "duration": 25,
    "start_time": "2024-01-27T08:29:08.431Z"
   },
   {
    "duration": 36,
    "start_time": "2024-01-27T08:29:08.458Z"
   },
   {
    "duration": 10,
    "start_time": "2024-01-27T08:29:08.495Z"
   },
   {
    "duration": 27,
    "start_time": "2024-01-27T08:29:08.507Z"
   },
   {
    "duration": 6,
    "start_time": "2024-01-27T08:29:08.536Z"
   },
   {
    "duration": 30,
    "start_time": "2024-01-27T08:29:08.543Z"
   },
   {
    "duration": 301,
    "start_time": "2024-01-27T08:29:08.575Z"
   },
   {
    "duration": 26,
    "start_time": "2024-01-27T08:29:08.878Z"
   },
   {
    "duration": 23,
    "start_time": "2024-01-27T08:29:08.906Z"
   },
   {
    "duration": 43,
    "start_time": "2024-01-27T08:29:08.931Z"
   },
   {
    "duration": 385,
    "start_time": "2024-01-27T08:29:08.976Z"
   },
   {
    "duration": 57,
    "start_time": "2024-01-27T08:29:09.363Z"
   },
   {
    "duration": 129,
    "start_time": "2024-01-27T08:32:22.373Z"
   },
   {
    "duration": 659,
    "start_time": "2024-01-27T08:32:36.611Z"
   },
   {
    "duration": 10,
    "start_time": "2024-01-27T08:32:59.587Z"
   },
   {
    "duration": 4,
    "start_time": "2024-01-27T08:32:59.603Z"
   },
   {
    "duration": 12,
    "start_time": "2024-01-27T08:32:59.609Z"
   },
   {
    "duration": 13,
    "start_time": "2024-01-27T08:32:59.623Z"
   },
   {
    "duration": 10,
    "start_time": "2024-01-27T08:32:59.638Z"
   },
   {
    "duration": 1219,
    "start_time": "2024-01-27T08:32:59.651Z"
   },
   {
    "duration": 131,
    "start_time": "2024-01-27T08:33:00.872Z"
   },
   {
    "duration": 61,
    "start_time": "2024-01-27T08:33:01.004Z"
   },
   {
    "duration": 55,
    "start_time": "2024-01-27T08:33:01.067Z"
   },
   {
    "duration": 20,
    "start_time": "2024-01-27T08:33:01.123Z"
   },
   {
    "duration": 65,
    "start_time": "2024-01-27T08:33:01.145Z"
   },
   {
    "duration": 63,
    "start_time": "2024-01-27T08:33:01.212Z"
   },
   {
    "duration": 45,
    "start_time": "2024-01-27T08:33:01.277Z"
   },
   {
    "duration": 48,
    "start_time": "2024-01-27T08:33:01.324Z"
   },
   {
    "duration": 24,
    "start_time": "2024-01-27T08:33:01.374Z"
   },
   {
    "duration": 54,
    "start_time": "2024-01-27T08:33:01.399Z"
   },
   {
    "duration": 61,
    "start_time": "2024-01-27T08:33:01.456Z"
   },
   {
    "duration": 17,
    "start_time": "2024-01-27T08:33:01.518Z"
   },
   {
    "duration": 44,
    "start_time": "2024-01-27T08:33:01.537Z"
   },
   {
    "duration": 30,
    "start_time": "2024-01-27T08:33:01.583Z"
   },
   {
    "duration": 53,
    "start_time": "2024-01-27T08:33:01.615Z"
   },
   {
    "duration": 144,
    "start_time": "2024-01-27T08:33:01.670Z"
   },
   {
    "duration": 180,
    "start_time": "2024-01-27T08:33:01.816Z"
   },
   {
    "duration": 98,
    "start_time": "2024-01-27T08:33:01.998Z"
   },
   {
    "duration": 183,
    "start_time": "2024-01-27T08:33:02.097Z"
   },
   {
    "duration": 99,
    "start_time": "2024-01-27T08:33:02.282Z"
   },
   {
    "duration": 267,
    "start_time": "2024-01-27T08:33:02.382Z"
   },
   {
    "duration": 17,
    "start_time": "2024-01-27T08:33:02.651Z"
   },
   {
    "duration": 156,
    "start_time": "2024-01-27T08:33:02.670Z"
   },
   {
    "duration": 88,
    "start_time": "2024-01-27T08:33:02.828Z"
   },
   {
    "duration": 98,
    "start_time": "2024-01-27T08:33:02.917Z"
   },
   {
    "duration": 211,
    "start_time": "2024-01-27T08:33:03.017Z"
   },
   {
    "duration": 92,
    "start_time": "2024-01-27T08:33:03.229Z"
   },
   {
    "duration": 78,
    "start_time": "2024-01-27T08:33:03.323Z"
   },
   {
    "duration": 42,
    "start_time": "2024-01-27T08:33:03.402Z"
   },
   {
    "duration": 57,
    "start_time": "2024-01-27T08:33:03.445Z"
   },
   {
    "duration": 150,
    "start_time": "2024-01-27T08:33:03.504Z"
   },
   {
    "duration": 167,
    "start_time": "2024-01-27T08:33:03.656Z"
   },
   {
    "duration": 298,
    "start_time": "2024-01-27T08:33:03.824Z"
   },
   {
    "duration": 270,
    "start_time": "2024-01-27T08:33:04.124Z"
   },
   {
    "duration": 62,
    "start_time": "2024-01-27T08:33:04.399Z"
   },
   {
    "duration": 50,
    "start_time": "2024-01-27T08:33:04.463Z"
   },
   {
    "duration": 39,
    "start_time": "2024-01-27T08:33:04.515Z"
   },
   {
    "duration": 30,
    "start_time": "2024-01-27T08:33:04.556Z"
   },
   {
    "duration": 16,
    "start_time": "2024-01-27T08:33:04.588Z"
   },
   {
    "duration": 36,
    "start_time": "2024-01-27T08:33:04.606Z"
   },
   {
    "duration": 55,
    "start_time": "2024-01-27T08:33:04.643Z"
   },
   {
    "duration": 124,
    "start_time": "2024-01-27T08:33:04.699Z"
   },
   {
    "duration": 204,
    "start_time": "2024-01-27T08:33:04.825Z"
   },
   {
    "duration": 420,
    "start_time": "2024-01-27T08:33:05.031Z"
   },
   {
    "duration": 233,
    "start_time": "2024-01-27T08:33:05.453Z"
   },
   {
    "duration": 74,
    "start_time": "2024-01-27T08:33:05.688Z"
   },
   {
    "duration": 27,
    "start_time": "2024-01-27T08:33:05.764Z"
   },
   {
    "duration": 24,
    "start_time": "2024-01-27T08:33:05.793Z"
   },
   {
    "duration": 35,
    "start_time": "2024-01-27T08:33:05.819Z"
   },
   {
    "duration": 29,
    "start_time": "2024-01-27T08:33:05.856Z"
   },
   {
    "duration": 47,
    "start_time": "2024-01-27T08:33:05.887Z"
   },
   {
    "duration": 24,
    "start_time": "2024-01-27T08:33:05.936Z"
   },
   {
    "duration": 42,
    "start_time": "2024-01-27T08:33:05.962Z"
   },
   {
    "duration": 33,
    "start_time": "2024-01-27T08:33:06.006Z"
   },
   {
    "duration": 39,
    "start_time": "2024-01-27T08:33:06.041Z"
   },
   {
    "duration": 25,
    "start_time": "2024-01-27T08:33:06.082Z"
   },
   {
    "duration": 36,
    "start_time": "2024-01-27T08:33:06.109Z"
   },
   {
    "duration": 55,
    "start_time": "2024-01-27T08:33:06.146Z"
   },
   {
    "duration": 4,
    "start_time": "2024-01-27T08:33:06.202Z"
   },
   {
    "duration": 51,
    "start_time": "2024-01-27T08:33:06.208Z"
   },
   {
    "duration": 31,
    "start_time": "2024-01-27T08:33:06.261Z"
   },
   {
    "duration": 23,
    "start_time": "2024-01-27T08:33:06.293Z"
   },
   {
    "duration": 31,
    "start_time": "2024-01-27T08:33:06.318Z"
   },
   {
    "duration": 20,
    "start_time": "2024-01-27T08:33:06.351Z"
   },
   {
    "duration": 52,
    "start_time": "2024-01-27T08:33:06.373Z"
   },
   {
    "duration": 24,
    "start_time": "2024-01-27T08:33:06.426Z"
   },
   {
    "duration": 57,
    "start_time": "2024-01-27T08:33:06.452Z"
   },
   {
    "duration": 207,
    "start_time": "2024-01-27T08:33:06.510Z"
   },
   {
    "duration": 10,
    "start_time": "2024-01-27T08:33:06.720Z"
   },
   {
    "duration": 165,
    "start_time": "2024-01-27T08:33:06.732Z"
   },
   {
    "duration": 6,
    "start_time": "2024-01-27T08:33:06.899Z"
   },
   {
    "duration": 10,
    "start_time": "2024-01-27T08:33:06.906Z"
   },
   {
    "duration": 22,
    "start_time": "2024-01-27T08:33:06.917Z"
   },
   {
    "duration": 210,
    "start_time": "2024-01-27T08:33:06.940Z"
   },
   {
    "duration": 328,
    "start_time": "2024-01-27T08:33:07.152Z"
   },
   {
    "duration": 786,
    "start_time": "2024-01-27T08:33:07.482Z"
   },
   {
    "duration": 22,
    "start_time": "2024-01-27T08:33:08.270Z"
   },
   {
    "duration": 23,
    "start_time": "2024-01-27T08:33:08.294Z"
   },
   {
    "duration": 10,
    "start_time": "2024-01-27T08:33:08.319Z"
   },
   {
    "duration": 34,
    "start_time": "2024-01-27T08:33:08.331Z"
   },
   {
    "duration": 247,
    "start_time": "2024-01-27T08:33:08.366Z"
   },
   {
    "duration": 18,
    "start_time": "2024-01-27T08:33:08.614Z"
   },
   {
    "duration": 49,
    "start_time": "2024-01-27T08:33:08.634Z"
   },
   {
    "duration": 9,
    "start_time": "2024-01-27T08:33:08.685Z"
   },
   {
    "duration": 30,
    "start_time": "2024-01-27T08:33:08.695Z"
   },
   {
    "duration": 60,
    "start_time": "2024-01-27T08:33:08.727Z"
   },
   {
    "duration": 20,
    "start_time": "2024-01-27T08:33:08.789Z"
   },
   {
    "duration": 21,
    "start_time": "2024-01-27T08:33:08.811Z"
   },
   {
    "duration": 380,
    "start_time": "2024-01-27T08:33:08.834Z"
   },
   {
    "duration": 30,
    "start_time": "2024-01-27T08:33:09.217Z"
   },
   {
    "duration": 63,
    "start_time": "2024-01-27T08:33:09.249Z"
   },
   {
    "duration": 68,
    "start_time": "2024-01-27T08:33:09.314Z"
   },
   {
    "duration": 355,
    "start_time": "2024-01-27T08:33:09.384Z"
   },
   {
    "duration": 59,
    "start_time": "2024-01-27T08:33:09.741Z"
   },
   {
    "duration": 438,
    "start_time": "2024-01-27T08:33:27.857Z"
   },
   {
    "duration": 112,
    "start_time": "2024-01-27T08:35:00.400Z"
   },
   {
    "duration": 432,
    "start_time": "2024-01-27T08:35:16.659Z"
   },
   {
    "duration": 429,
    "start_time": "2024-01-27T08:35:33.460Z"
   },
   {
    "duration": 98,
    "start_time": "2024-01-27T08:39:30.097Z"
   },
   {
    "duration": 365,
    "start_time": "2024-01-27T08:41:45.695Z"
   },
   {
    "duration": 22,
    "start_time": "2024-01-27T09:33:49.889Z"
   },
   {
    "duration": 25,
    "start_time": "2024-01-27T09:33:54.030Z"
   },
   {
    "duration": 38,
    "start_time": "2024-01-27T09:34:23.819Z"
   },
   {
    "duration": 41,
    "start_time": "2024-01-27T09:37:10.334Z"
   },
   {
    "duration": 50,
    "start_time": "2024-01-27T09:37:43.231Z"
   },
   {
    "duration": 48,
    "start_time": "2024-01-27T09:38:14.387Z"
   },
   {
    "duration": 452,
    "start_time": "2024-01-27T09:40:32.745Z"
   },
   {
    "duration": 270,
    "start_time": "2024-01-27T09:41:48.257Z"
   },
   {
    "duration": 285,
    "start_time": "2024-01-27T09:42:13.853Z"
   },
   {
    "duration": 291,
    "start_time": "2024-01-27T09:44:01.333Z"
   },
   {
    "duration": 288,
    "start_time": "2024-01-27T09:46:00.595Z"
   },
   {
    "duration": 283,
    "start_time": "2024-01-27T09:46:08.666Z"
   },
   {
    "duration": 392,
    "start_time": "2024-01-27T09:47:31.585Z"
   },
   {
    "duration": 285,
    "start_time": "2024-01-27T09:50:50.816Z"
   },
   {
    "duration": 345,
    "start_time": "2024-01-27T09:53:44.590Z"
   },
   {
    "duration": 9,
    "start_time": "2024-01-27T09:55:31.121Z"
   },
   {
    "duration": 58,
    "start_time": "2024-01-27T09:55:31.136Z"
   },
   {
    "duration": 37,
    "start_time": "2024-01-27T09:55:31.197Z"
   },
   {
    "duration": 22,
    "start_time": "2024-01-27T09:55:31.236Z"
   },
   {
    "duration": 16,
    "start_time": "2024-01-27T09:55:31.260Z"
   },
   {
    "duration": 1352,
    "start_time": "2024-01-27T09:55:31.278Z"
   },
   {
    "duration": 140,
    "start_time": "2024-01-27T09:55:32.632Z"
   },
   {
    "duration": 75,
    "start_time": "2024-01-27T09:55:32.775Z"
   },
   {
    "duration": 66,
    "start_time": "2024-01-27T09:55:32.852Z"
   },
   {
    "duration": 18,
    "start_time": "2024-01-27T09:55:32.920Z"
   },
   {
    "duration": 17,
    "start_time": "2024-01-27T09:55:32.940Z"
   },
   {
    "duration": 8,
    "start_time": "2024-01-27T09:55:32.959Z"
   },
   {
    "duration": 25,
    "start_time": "2024-01-27T09:55:32.968Z"
   },
   {
    "duration": 13,
    "start_time": "2024-01-27T09:55:32.995Z"
   },
   {
    "duration": 4,
    "start_time": "2024-01-27T09:55:33.011Z"
   },
   {
    "duration": 18,
    "start_time": "2024-01-27T09:55:33.017Z"
   },
   {
    "duration": 16,
    "start_time": "2024-01-27T09:55:33.037Z"
   },
   {
    "duration": 15,
    "start_time": "2024-01-27T09:55:33.055Z"
   },
   {
    "duration": 6,
    "start_time": "2024-01-27T09:55:33.092Z"
   },
   {
    "duration": 18,
    "start_time": "2024-01-27T09:55:33.100Z"
   },
   {
    "duration": 8,
    "start_time": "2024-01-27T09:55:33.120Z"
   },
   {
    "duration": 3,
    "start_time": "2024-01-27T09:55:33.130Z"
   },
   {
    "duration": 7,
    "start_time": "2024-01-27T09:55:33.135Z"
   },
   {
    "duration": 8,
    "start_time": "2024-01-27T09:55:33.143Z"
   },
   {
    "duration": 5,
    "start_time": "2024-01-27T09:55:33.153Z"
   },
   {
    "duration": 38,
    "start_time": "2024-01-27T09:55:33.160Z"
   },
   {
    "duration": 58,
    "start_time": "2024-01-27T09:55:33.200Z"
   },
   {
    "duration": 17,
    "start_time": "2024-01-27T09:55:33.260Z"
   },
   {
    "duration": 4,
    "start_time": "2024-01-27T09:55:33.292Z"
   },
   {
    "duration": 24,
    "start_time": "2024-01-27T09:55:33.298Z"
   },
   {
    "duration": 10,
    "start_time": "2024-01-27T09:55:33.324Z"
   },
   {
    "duration": 14,
    "start_time": "2024-01-27T09:55:33.336Z"
   },
   {
    "duration": 29,
    "start_time": "2024-01-27T09:55:33.352Z"
   },
   {
    "duration": 4,
    "start_time": "2024-01-27T09:55:33.383Z"
   },
   {
    "duration": 19,
    "start_time": "2024-01-27T09:55:33.389Z"
   },
   {
    "duration": 8,
    "start_time": "2024-01-27T09:55:33.410Z"
   },
   {
    "duration": 12,
    "start_time": "2024-01-27T09:55:33.420Z"
   },
   {
    "duration": 27,
    "start_time": "2024-01-27T09:55:33.434Z"
   },
   {
    "duration": 9,
    "start_time": "2024-01-27T09:55:33.463Z"
   },
   {
    "duration": 8,
    "start_time": "2024-01-27T09:55:33.473Z"
   },
   {
    "duration": 15,
    "start_time": "2024-01-27T09:55:33.483Z"
   },
   {
    "duration": 33,
    "start_time": "2024-01-27T09:55:33.503Z"
   },
   {
    "duration": 26,
    "start_time": "2024-01-27T09:55:33.537Z"
   },
   {
    "duration": 37,
    "start_time": "2024-01-27T09:55:33.565Z"
   },
   {
    "duration": 15,
    "start_time": "2024-01-27T09:55:33.604Z"
   },
   {
    "duration": 21,
    "start_time": "2024-01-27T09:55:33.621Z"
   },
   {
    "duration": 20,
    "start_time": "2024-01-27T09:55:33.643Z"
   },
   {
    "duration": 7,
    "start_time": "2024-01-27T09:55:33.664Z"
   },
   {
    "duration": 18,
    "start_time": "2024-01-27T09:55:33.673Z"
   },
   {
    "duration": 28,
    "start_time": "2024-01-27T09:55:33.693Z"
   },
   {
    "duration": 6,
    "start_time": "2024-01-27T09:55:33.722Z"
   },
   {
    "duration": 5,
    "start_time": "2024-01-27T09:55:33.729Z"
   },
   {
    "duration": 7,
    "start_time": "2024-01-27T09:55:33.735Z"
   },
   {
    "duration": 12,
    "start_time": "2024-01-27T09:55:33.743Z"
   },
   {
    "duration": 6,
    "start_time": "2024-01-27T09:55:33.756Z"
   },
   {
    "duration": 29,
    "start_time": "2024-01-27T09:55:33.764Z"
   },
   {
    "duration": 9,
    "start_time": "2024-01-27T09:55:33.795Z"
   },
   {
    "duration": 10,
    "start_time": "2024-01-27T09:55:33.806Z"
   },
   {
    "duration": 9,
    "start_time": "2024-01-27T09:55:33.817Z"
   },
   {
    "duration": 14,
    "start_time": "2024-01-27T09:55:33.828Z"
   },
   {
    "duration": 48,
    "start_time": "2024-01-27T09:55:33.844Z"
   },
   {
    "duration": 22,
    "start_time": "2024-01-27T09:55:33.895Z"
   },
   {
    "duration": 10,
    "start_time": "2024-01-27T09:55:33.919Z"
   },
   {
    "duration": 23,
    "start_time": "2024-01-27T09:55:33.931Z"
   },
   {
    "duration": 4,
    "start_time": "2024-01-27T09:55:33.956Z"
   },
   {
    "duration": 16,
    "start_time": "2024-01-27T09:55:33.991Z"
   },
   {
    "duration": 16,
    "start_time": "2024-01-27T09:55:34.009Z"
   },
   {
    "duration": 16,
    "start_time": "2024-01-27T09:55:34.026Z"
   },
   {
    "duration": 13,
    "start_time": "2024-01-27T09:55:34.043Z"
   },
   {
    "duration": 36,
    "start_time": "2024-01-27T09:55:34.058Z"
   },
   {
    "duration": 37,
    "start_time": "2024-01-27T09:55:34.096Z"
   },
   {
    "duration": 27,
    "start_time": "2024-01-27T09:55:34.135Z"
   },
   {
    "duration": 57,
    "start_time": "2024-01-27T09:55:34.164Z"
   },
   {
    "duration": 203,
    "start_time": "2024-01-27T09:55:34.223Z"
   },
   {
    "duration": 11,
    "start_time": "2024-01-27T09:55:34.427Z"
   },
   {
    "duration": 165,
    "start_time": "2024-01-27T09:55:34.440Z"
   },
   {
    "duration": 5,
    "start_time": "2024-01-27T09:55:34.607Z"
   },
   {
    "duration": 6,
    "start_time": "2024-01-27T09:55:34.613Z"
   },
   {
    "duration": 8,
    "start_time": "2024-01-27T09:55:34.621Z"
   },
   {
    "duration": 206,
    "start_time": "2024-01-27T09:55:34.631Z"
   },
   {
    "duration": 317,
    "start_time": "2024-01-27T09:55:34.839Z"
   },
   {
    "duration": 14,
    "start_time": "2024-01-27T09:55:35.158Z"
   },
   {
    "duration": 435,
    "start_time": "2024-01-27T09:55:35.173Z"
   },
   {
    "duration": 4,
    "start_time": "2024-01-27T09:55:35.610Z"
   },
   {
    "duration": 10,
    "start_time": "2024-01-27T09:55:35.615Z"
   },
   {
    "duration": 17,
    "start_time": "2024-01-27T09:55:35.627Z"
   },
   {
    "duration": 389,
    "start_time": "2024-01-27T09:55:35.646Z"
   },
   {
    "duration": 17,
    "start_time": "2024-01-27T09:55:36.036Z"
   },
   {
    "duration": 40,
    "start_time": "2024-01-27T09:55:36.055Z"
   },
   {
    "duration": 9,
    "start_time": "2024-01-27T09:55:36.097Z"
   },
   {
    "duration": 10,
    "start_time": "2024-01-27T09:55:36.108Z"
   },
   {
    "duration": 11,
    "start_time": "2024-01-27T09:55:36.120Z"
   },
   {
    "duration": 6,
    "start_time": "2024-01-27T09:55:36.133Z"
   },
   {
    "duration": 61,
    "start_time": "2024-01-27T09:55:36.140Z"
   },
   {
    "duration": 316,
    "start_time": "2024-01-27T09:55:36.203Z"
   },
   {
    "duration": 25,
    "start_time": "2024-01-27T09:55:36.520Z"
   },
   {
    "duration": 47,
    "start_time": "2024-01-27T09:55:36.547Z"
   },
   {
    "duration": 40,
    "start_time": "2024-01-27T09:55:36.596Z"
   },
   {
    "duration": 386,
    "start_time": "2024-01-27T09:55:36.637Z"
   },
   {
    "duration": 48,
    "start_time": "2024-01-27T09:55:37.025Z"
   },
   {
    "duration": 9,
    "start_time": "2024-01-27T10:55:47.785Z"
   },
   {
    "duration": 14,
    "start_time": "2024-01-27T10:55:47.796Z"
   },
   {
    "duration": 17,
    "start_time": "2024-01-27T10:55:47.812Z"
   },
   {
    "duration": 34,
    "start_time": "2024-01-27T10:55:47.831Z"
   },
   {
    "duration": 15,
    "start_time": "2024-01-27T10:55:47.866Z"
   },
   {
    "duration": 1455,
    "start_time": "2024-01-27T10:55:47.883Z"
   },
   {
    "duration": 275,
    "start_time": "2024-01-27T10:55:49.340Z"
   },
   {
    "duration": 59,
    "start_time": "2024-01-27T10:55:49.617Z"
   },
   {
    "duration": 32,
    "start_time": "2024-01-27T10:55:49.679Z"
   },
   {
    "duration": 54,
    "start_time": "2024-01-27T10:55:49.712Z"
   },
   {
    "duration": 9,
    "start_time": "2024-01-27T10:55:49.768Z"
   },
   {
    "duration": 8,
    "start_time": "2024-01-27T10:55:49.779Z"
   },
   {
    "duration": 17,
    "start_time": "2024-01-27T10:55:49.788Z"
   },
   {
    "duration": 14,
    "start_time": "2024-01-27T10:55:49.807Z"
   },
   {
    "duration": 15,
    "start_time": "2024-01-27T10:55:49.823Z"
   },
   {
    "duration": 46,
    "start_time": "2024-01-27T10:55:49.840Z"
   },
   {
    "duration": 17,
    "start_time": "2024-01-27T10:55:49.889Z"
   },
   {
    "duration": 25,
    "start_time": "2024-01-27T10:55:49.907Z"
   },
   {
    "duration": 26,
    "start_time": "2024-01-27T10:55:49.934Z"
   },
   {
    "duration": 14,
    "start_time": "2024-01-27T10:55:49.962Z"
   },
   {
    "duration": 21,
    "start_time": "2024-01-27T10:55:49.978Z"
   },
   {
    "duration": 71,
    "start_time": "2024-01-27T10:55:50.000Z"
   },
   {
    "duration": 10,
    "start_time": "2024-01-27T10:55:50.076Z"
   },
   {
    "duration": 31,
    "start_time": "2024-01-27T10:55:50.088Z"
   },
   {
    "duration": 8,
    "start_time": "2024-01-27T10:55:50.121Z"
   },
   {
    "duration": 34,
    "start_time": "2024-01-27T10:55:50.130Z"
   },
   {
    "duration": 63,
    "start_time": "2024-01-27T10:55:50.165Z"
   },
   {
    "duration": 28,
    "start_time": "2024-01-27T10:55:50.229Z"
   },
   {
    "duration": 18,
    "start_time": "2024-01-27T10:55:50.260Z"
   },
   {
    "duration": 30,
    "start_time": "2024-01-27T10:55:50.280Z"
   },
   {
    "duration": 27,
    "start_time": "2024-01-27T10:55:50.312Z"
   },
   {
    "duration": 32,
    "start_time": "2024-01-27T10:55:50.341Z"
   },
   {
    "duration": 35,
    "start_time": "2024-01-27T10:55:50.375Z"
   },
   {
    "duration": 9,
    "start_time": "2024-01-27T10:55:50.412Z"
   },
   {
    "duration": 33,
    "start_time": "2024-01-27T10:55:50.422Z"
   },
   {
    "duration": 7,
    "start_time": "2024-01-27T10:55:50.457Z"
   },
   {
    "duration": 14,
    "start_time": "2024-01-27T10:55:50.466Z"
   },
   {
    "duration": 29,
    "start_time": "2024-01-27T10:55:50.484Z"
   },
   {
    "duration": 26,
    "start_time": "2024-01-27T10:55:50.516Z"
   },
   {
    "duration": 19,
    "start_time": "2024-01-27T10:55:50.544Z"
   },
   {
    "duration": 27,
    "start_time": "2024-01-27T10:55:50.565Z"
   },
   {
    "duration": 66,
    "start_time": "2024-01-27T10:55:50.595Z"
   },
   {
    "duration": 27,
    "start_time": "2024-01-27T10:55:50.663Z"
   },
   {
    "duration": 35,
    "start_time": "2024-01-27T10:55:50.692Z"
   },
   {
    "duration": 36,
    "start_time": "2024-01-27T10:55:50.729Z"
   },
   {
    "duration": 10,
    "start_time": "2024-01-27T10:55:50.767Z"
   },
   {
    "duration": 29,
    "start_time": "2024-01-27T10:55:50.779Z"
   },
   {
    "duration": 37,
    "start_time": "2024-01-27T10:55:50.811Z"
   },
   {
    "duration": 6,
    "start_time": "2024-01-27T10:55:50.850Z"
   },
   {
    "duration": 24,
    "start_time": "2024-01-27T10:55:50.858Z"
   },
   {
    "duration": 6,
    "start_time": "2024-01-27T10:55:50.884Z"
   },
   {
    "duration": 41,
    "start_time": "2024-01-27T10:55:50.892Z"
   },
   {
    "duration": 5,
    "start_time": "2024-01-27T10:55:50.935Z"
   },
   {
    "duration": 10,
    "start_time": "2024-01-27T10:55:50.943Z"
   },
   {
    "duration": 18,
    "start_time": "2024-01-27T10:55:50.956Z"
   },
   {
    "duration": 24,
    "start_time": "2024-01-27T10:55:50.976Z"
   },
   {
    "duration": 11,
    "start_time": "2024-01-27T10:55:51.002Z"
   },
   {
    "duration": 8,
    "start_time": "2024-01-27T10:55:51.014Z"
   },
   {
    "duration": 11,
    "start_time": "2024-01-27T10:55:51.024Z"
   },
   {
    "duration": 28,
    "start_time": "2024-01-27T10:55:51.037Z"
   },
   {
    "duration": 22,
    "start_time": "2024-01-27T10:55:51.067Z"
   },
   {
    "duration": 22,
    "start_time": "2024-01-27T10:55:51.091Z"
   },
   {
    "duration": 18,
    "start_time": "2024-01-27T10:55:51.115Z"
   },
   {
    "duration": 54,
    "start_time": "2024-01-27T10:55:51.135Z"
   },
   {
    "duration": 4,
    "start_time": "2024-01-27T10:55:51.195Z"
   },
   {
    "duration": 51,
    "start_time": "2024-01-27T10:55:51.201Z"
   },
   {
    "duration": 15,
    "start_time": "2024-01-27T10:55:51.254Z"
   },
   {
    "duration": 16,
    "start_time": "2024-01-27T10:55:51.271Z"
   },
   {
    "duration": 9,
    "start_time": "2024-01-27T10:55:51.289Z"
   },
   {
    "duration": 7,
    "start_time": "2024-01-27T10:55:51.300Z"
   },
   {
    "duration": 26,
    "start_time": "2024-01-27T10:55:51.309Z"
   },
   {
    "duration": 21,
    "start_time": "2024-01-27T10:55:51.359Z"
   },
   {
    "duration": 55,
    "start_time": "2024-01-27T10:55:51.382Z"
   },
   {
    "duration": 210,
    "start_time": "2024-01-27T10:55:51.439Z"
   },
   {
    "duration": 16,
    "start_time": "2024-01-27T10:55:51.650Z"
   },
   {
    "duration": 172,
    "start_time": "2024-01-27T10:55:51.668Z"
   },
   {
    "duration": 5,
    "start_time": "2024-01-27T10:55:51.841Z"
   },
   {
    "duration": 6,
    "start_time": "2024-01-27T10:55:51.859Z"
   },
   {
    "duration": 8,
    "start_time": "2024-01-27T10:55:51.866Z"
   },
   {
    "duration": 213,
    "start_time": "2024-01-27T10:55:51.876Z"
   },
   {
    "duration": 353,
    "start_time": "2024-01-27T10:55:52.091Z"
   },
   {
    "duration": 14,
    "start_time": "2024-01-27T10:55:52.445Z"
   },
   {
    "duration": 554,
    "start_time": "2024-01-27T10:55:52.461Z"
   },
   {
    "duration": 4,
    "start_time": "2024-01-27T10:55:53.017Z"
   },
   {
    "duration": 23,
    "start_time": "2024-01-27T10:55:53.023Z"
   },
   {
    "duration": 20,
    "start_time": "2024-01-27T10:55:53.048Z"
   },
   {
    "duration": 302,
    "start_time": "2024-01-27T10:55:53.070Z"
   },
   {
    "duration": 19,
    "start_time": "2024-01-27T10:55:53.374Z"
   },
   {
    "duration": 25,
    "start_time": "2024-01-27T10:55:53.395Z"
   },
   {
    "duration": 39,
    "start_time": "2024-01-27T10:55:53.422Z"
   },
   {
    "duration": 31,
    "start_time": "2024-01-27T10:55:53.462Z"
   },
   {
    "duration": 24,
    "start_time": "2024-01-27T10:55:53.495Z"
   },
   {
    "duration": 24,
    "start_time": "2024-01-27T10:55:53.520Z"
   },
   {
    "duration": 20,
    "start_time": "2024-01-27T10:55:53.545Z"
   },
   {
    "duration": 313,
    "start_time": "2024-01-27T10:55:53.566Z"
   },
   {
    "duration": 23,
    "start_time": "2024-01-27T10:55:53.880Z"
   },
   {
    "duration": 27,
    "start_time": "2024-01-27T10:55:53.905Z"
   },
   {
    "duration": 57,
    "start_time": "2024-01-27T10:55:53.934Z"
   },
   {
    "duration": 381,
    "start_time": "2024-01-27T10:55:53.992Z"
   },
   {
    "duration": 47,
    "start_time": "2024-01-27T10:55:54.375Z"
   },
   {
    "duration": 1481,
    "start_time": "2024-01-27T11:22:38.985Z"
   },
   {
    "duration": 246,
    "start_time": "2024-01-27T11:23:05.072Z"
   },
   {
    "duration": 209,
    "start_time": "2024-01-27T11:23:16.134Z"
   },
   {
    "duration": 209,
    "start_time": "2024-01-27T11:23:23.105Z"
   }
  ],
  "colab": {
   "name": "DA+. Сборный проект 1. Шаблон (1).ipynb",
   "provenance": []
  },
  "kernelspec": {
   "display_name": "Python 3 (ipykernel)",
   "language": "python",
   "name": "python3"
  },
  "language_info": {
   "codemirror_mode": {
    "name": "ipython",
    "version": 3
   },
   "file_extension": ".py",
   "mimetype": "text/x-python",
   "name": "python",
   "nbconvert_exporter": "python",
   "pygments_lexer": "ipython3",
   "version": "3.12.7"
  },
  "toc": {
   "base_numbering": 1,
   "nav_menu": {
    "height": "476.222px",
    "width": "349.194px"
   },
   "number_sections": true,
   "sideBar": true,
   "skip_h1_title": true,
   "title_cell": "Table of Contents",
   "title_sidebar": "Contents",
   "toc_cell": false,
   "toc_position": {
    "height": "calc(100% - 180px)",
    "left": "10px",
    "top": "150px",
    "width": "186.766px"
   },
   "toc_section_display": true,
   "toc_window_display": true
  }
 },
 "nbformat": 4,
 "nbformat_minor": 4
}
