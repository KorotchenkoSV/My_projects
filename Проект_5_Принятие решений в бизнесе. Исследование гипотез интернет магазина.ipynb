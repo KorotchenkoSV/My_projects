{
 "cells": [
  {
   "cell_type": "markdown",
   "metadata": {},
   "source": [
    "# Проект: Исследование гипотез интернет-магазина. Анализ A/B тестов."
   ]
  },
  {
   "cell_type": "markdown",
   "metadata": {},
   "source": [
    "<a id=\"num1\"></a>\n",
    "## Цели"
   ]
  },
  {
   "cell_type": "markdown",
   "metadata": {},
   "source": [
    "Был подготовлен список гипотез для увеличения выручки, необходимо проверить его с помощью фреймворков ICE и RICE, и определить приоритетный и перспективные. \n",
    "\n",
    "Были проведены A/B-тесты, следует проанализировать результаты и сделать выводы. "
   ]
  },
  {
   "cell_type": "markdown",
   "metadata": {},
   "source": [
    "<a id=\"num2\"></a>\n",
    "## Вопросы"
   ]
  },
  {
   "cell_type": "markdown",
   "metadata": {},
   "source": [
    "1. __Применить фреймворк ICE и RICE для приоритизации гипотез.__\n",
    "    - Исследовать изменения и сделайте выводы. "
   ]
  },
  {
   "cell_type": "markdown",
   "metadata": {},
   "source": [
    "2. __Провести A/B-тест:__\n",
    "    - Построить график кумулятивной выручки по группам. \n",
    "    - Построить график кумулятивного среднего чека по группам. \n",
    "    - Построить график относительного изменения кумулятивного среднего чека группы B к группе A. \n",
    "    - Построить график кумулятивного среднего количества заказов на посетителя по группам.\n",
    "    - Построить график относительного изменения кумулятивного среднего количества заказов на посетителя группы B к группе A.\n",
    "    - Построить точечный график количества заказов по пользователям. \n",
    "    - Определить 95-й и 99-й перцентили количества заказов на пользователя.\n",
    "    - Построить точечный график стоимостей заказов. \n",
    "    - Определить 95-й и 99-й перцентили стоимости заказов. \n",
    "    - Определить статистическую значимость различий в среднем количестве заказов на посетителя между группами по «сырым» данным. \n",
    "    - Определить статистическую значимость различий в среднем чеке заказа между группами по «сырым» данным. \n",
    "    - Определить статистическую значимость различий в среднем количестве заказов на посетителя между группами по «очищенным» данным. \n",
    "    - Определить статистическую значимость различий в среднем чеке заказа между группами по «очищенным» данным."
   ]
  },
  {
   "cell_type": "markdown",
   "metadata": {},
   "source": [
    "3. __Принять решение по результатам теста.__"
   ]
  },
  {
   "cell_type": "markdown",
   "metadata": {},
   "source": [
    "<a id=\"num3\"></a>\n",
    "## Оглавление \n",
    "* [1. Цели исследования](#num1)\n",
    "* [2. Поставленные вопросы](#num2)\n",
    "* [3. Оглавление](#num3)\n",
    "* [4. Ключ к данным](#num4)\n",
    "* [5. Подготовка данных](#num5)\n",
    "    * [5.1. Библиотеки](#num51)\n",
    "    * [5.2. Загрузка данных](#num52)\n",
    "    * [5.3. Функции](#num53)\n",
    "    * [5.4. Ознакомление с данными](#num54)\n",
    "    * [5.5. Предобработка данных](#num55)\n",
    "        * [5.5.1. Приведение названий к единому виду](#num551)\n",
    "        * [5.5.2. Проверка на уникальность](#num552)\n",
    "        * [5.5.3. Проверка данных](#num553)\n",
    "            * [5.5.3.1. hypohtesis](#num5531)\n",
    "            * [5.5.3.2 orders](#num5531)\n",
    "            * [5.5.3.3 visitors](#num5533)\n",
    "* [6. Исследование](#num6)\n",
    "    * [6.1. Приоритизация гипотез](#num61)\n",
    "        * [6.1.1. ICE](#num61)\n",
    "        * [6.1.2. RICE](#num61)\n",
    "        * [6.1.3. Анализ результатов между ICE и RICE](#num61)\n",
    "* [7. Анализ A/B теста](#num7) \n",
    "    * [7.1. График кумулятивной выручки по группам](#num71)\n",
    "    * [7.2. График кумулятивного среднего чека по группам](#num72)\n",
    "    * [7.3. График относительного изменения кумулятивного среднего чека группы B к группе A](#num73)\n",
    "    * [7.4. График кумулятивного среднего количества заказов на посетителя по группам](#num74)\n",
    "    * [7.5. График относительного изменения кумулятивного среднего количества заказов на посетителя группы B к группе A](#num75)\n",
    "    * [7.6. График количества заказов по пользователям](#num76)\n",
    "    * [7.7. Перцентили количества заказов на пользователя](#num77)\n",
    "    * [7.8. График стоимостей заказов](#num78)\n",
    "    * [7.9. Перцентили стоимости заказов](#num79)\n",
    "    * [7.10. Cтатистическая значимость различий в среднем количестве заказов на посетителя между группами по «сырым» данным](#num710)\n",
    "    * [7.11. Cтатистическая значимость различий в среднем чеке заказа между группами по «сырым» данным](#num711)\n",
    "    * [7.12. Cтатистическая значимость различий в среднем количестве заказов на посетителя между группами по «очищенным» данным](#num712)\n",
    "    [7.13 Cтатистическую значимость различий в среднем чеке заказа между группами по «очищенным» данным](#num713)\n",
    "* [8. Выводы](#num8)  \n",
    "* [9. Рекомендации](#num9)   \n",
    "* [10. Дополнительная информация](#num10)   \n",
    "    * [10.1. Сноски](#num101)"
   ]
  },
  {
   "cell_type": "markdown",
   "metadata": {},
   "source": [
    "<a id=\"num4\"></a>\n",
    "## Ключ к данным "
   ]
  },
  {
   "cell_type": "markdown",
   "metadata": {},
   "source": [
    "<a id=\"num5\"></a>\n",
    "## Подготовка данных"
   ]
  },
  {
   "cell_type": "markdown",
   "metadata": {},
   "source": [
    "<a id=\"num51\"></a>\n",
    "### Библиотеки"
   ]
  },
  {
   "cell_type": "code",
   "execution_count": 1,
   "metadata": {},
   "outputs": [],
   "source": [
    "import plotly.io as pio\n",
    "pio.renderers.default = \"png\"\n",
    "svg_renderer = pio.renderers[\"png\"]\n",
    "svg_renderer.scale = 1.2"
   ]
  },
  {
   "cell_type": "code",
   "execution_count": 2,
   "metadata": {},
   "outputs": [],
   "source": [
    "import pandas as pd\n",
    "import plotly.express as px\n",
    "import numpy as np\n",
    "import plotly.graph_objects as go\n",
    "from scipy import stats as st\n",
    "import scipy.stats as stats"
   ]
  },
  {
   "cell_type": "markdown",
   "metadata": {},
   "source": [
    "<a id=\"num52\"></a>\n",
    "### Загрузка данных"
   ]
  },
  {
   "cell_type": "code",
   "execution_count": 3,
   "metadata": {},
   "outputs": [],
   "source": [
    "try:\n",
    "    hypothesis = pd.read_csv(\"C:\\\\Users\\\\alena\\\\OneDrive\\\\Рабочий стол\\\\Python\\\\Датасеты проектов Яндекс\\\\Принятие решений в бизнесе\\\\hypothesis.csv\") \n",
    "    orders = pd.read_csv(\"C:\\\\Users\\\\alena\\\\OneDrive\\\\Рабочий стол\\\\Python\\\\Датасеты проектов Яндекс\\\\Принятие решений в бизнесе\\\\orders.csv\", parse_dates=['date']) \n",
    "    visitors = pd.read_csv(\"C:\\\\Users\\\\alena\\\\OneDrive\\\\Рабочий стол\\\\Python\\\\Датасеты проектов Яндекс\\\\Принятие решений в бизнесе\\\\visitors.csv\", parse_dates=['date']) \n",
    "except:\n",
    "    display('No data')"
   ]
  },
  {
   "cell_type": "markdown",
   "metadata": {},
   "source": [
    "<a id=\"num53\"></a>\n",
    "### Функции"
   ]
  },
  {
   "cell_type": "markdown",
   "metadata": {},
   "source": [
    "Функция ``data_head_desc_info`` отображает основную информацию о имеющихся данных из указанного файла. \n",
    "\n",
    "*data_head_desc_info(датафрейм)*."
   ]
  },
  {
   "cell_type": "code",
   "execution_count": 4,
   "metadata": {},
   "outputs": [],
   "source": [
    "def data_head_desc_info(data):\n",
    "    try:\n",
    "        print('\\033[1m'+'1. Первые пять строк данных:'+'\\033[0m')\n",
    "        display(data.head(5))\n",
    "        print('\\033[1m'+'2. Описание данных:'+'\\033[0m')\n",
    "        display(data.describe())\n",
    "        print('\\033[1m'+'3. Общая информацию о датафрейме'+'\\033[0m')\n",
    "        display(data.info())\n",
    "        print('\\033[1m'+'4. Графическое отображение количества пропусков'+'\\033[0m')\n",
    "        display((data.isna().mean() * 100).sort_values().to_frame().style.format(\"{:.2f}\", na_rep=\"\").background_gradient('Blues'))\n",
    "        print('\\033[1m'+'5. Процент пропусков'+'\\033[0m')\n",
    "        display(round (1 - data.count()/data.shape[0], 2) * 100)\n",
    "    except:\n",
    "        return 'Проверьте параметры'"
   ]
  },
  {
   "cell_type": "markdown",
   "metadata": {},
   "source": [
    "Функция ``data_isna_nuniq`` для получения короткой информации по определенным столбцам.  \n",
    "\n",
    "*data_isna_nuniq (столбец по которому получаем информацию по пропускам и уникальным значениям)*."
   ]
  },
  {
   "cell_type": "code",
   "execution_count": 5,
   "metadata": {},
   "outputs": [],
   "source": [
    "def data_isna_nuniq(data):\n",
    "    try:\n",
    "        for column in data.columns:\n",
    "            print('Столбец:', column)\n",
    "            print('Количество пропусков:', data[column].isna().sum())\n",
    "            print('Количество уникальных значений:', data[column].nunique())\n",
    "    except Exception as e:\n",
    "        return 'Проверьте параметры: {}'.format(str(e))"
   ]
  },
  {
   "cell_type": "markdown",
   "metadata": {},
   "source": [
    "Функция ``lower`` для приведения названий столбцов к единому виду.  \n",
    "\n",
    "*lower (датафрейм)*."
   ]
  },
  {
   "cell_type": "code",
   "execution_count": 6,
   "metadata": {},
   "outputs": [],
   "source": [
    "def lower(data):\n",
    "    try:\n",
    "        data.columns = [x.lower().replace(' ', '_') for x in data.columns.values]\n",
    "        display(data.head(0))\n",
    "    except:\n",
    "        return 'Проверьте параметры'"
   ]
  },
  {
   "cell_type": "markdown",
   "metadata": {},
   "source": [
    "Палитра ``colors``: зададим предпочтительные для оформления цвета."
   ]
  },
  {
   "cell_type": "code",
   "execution_count": 7,
   "metadata": {},
   "outputs": [],
   "source": [
    "colors = (['#063751','#08527A',\n",
    "           '#0B6DA2','#0E89CB',\n",
    "           '#15A3EF','#3EB3F2',\n",
    "           '#66C3F4','#8FD3F7',\n",
    "           '#B7E3FA','#B7E3FA',\n",
    "           '#8FD3F7','#66C3F4',\n",
    "           '#3EB3F2','#15A3EF',\n",
    "           '#0E89CB','#0B6DA2',\n",
    "           '#08527A','#063751'])"
   ]
  },
  {
   "cell_type": "markdown",
   "metadata": {},
   "source": [
    "Функция ``uniq`` для проверки датафрейма orders и производных от него на уникальность пользователей в группах теста.  \n",
    "\n",
    "*uniq (датафрейм)*."
   ]
  },
  {
   "cell_type": "code",
   "execution_count": 8,
   "metadata": {},
   "outputs": [],
   "source": [
    "def uniq(data):\n",
    "    users_a = data.query('group == \"A\"')['visitorid']\n",
    "    users_b = data.query('group == \"B\"')['visitorid']\n",
    "    matching_elements = users_b[users_b.isin(users_a)]\n",
    "    display(matching_elements.nunique())\n",
    "    return(matching_elements)"
   ]
  },
  {
   "cell_type": "markdown",
   "metadata": {},
   "source": [
    "Функция ``cumulative`` для отображения графика по переданным данным. Используется в куммулятивных графиках \n",
    "\n",
    "*cumulative (ось х для первого элемента, ось у для первого элемента, ось х для второго элемента(при наличии), ось у для второго элемента(при наличии), первая линия значений(прерывающаяся), вторая линия значений(прерывающаяся))*."
   ]
  },
  {
   "cell_type": "code",
   "execution_count": 9,
   "metadata": {},
   "outputs": [],
   "source": [
    "def cumulative(a_x_axis, a_y_axis, b_x_axis=None, b_y_axis=None, axhline=None, one_y=None, two_y=None, y_name=None, x_name=None, title_name=None):\n",
    "    trace_a = go.Scatter(\n",
    "        x=a_x_axis,\n",
    "        y=a_y_axis,\n",
    "        mode='lines',\n",
    "        name='Группа A',\n",
    "        line=dict(color='blue'))\n",
    "\n",
    "    fig = go.Figure(data=[trace_a])\n",
    "\n",
    "    if b_x_axis is not None and b_y_axis is not None:\n",
    "        trace_b = go.Scatter(\n",
    "            x=b_x_axis,\n",
    "            y=b_y_axis,\n",
    "            mode='lines',\n",
    "            name='Группа B',\n",
    "            line=dict(color='red'))\n",
    "        fig.add_trace(trace_b)\n",
    "    if axhline=='one' and one_y is not None:\n",
    "        fig.add_shape(\n",
    "            type=\"line\",\n",
    "            x0=min(a_x_axis),  \n",
    "            y0=one_y, \n",
    "            x1=max(a_x_axis), \n",
    "            y1=one_y,  \n",
    "            line=dict(color=\"black\", dash=\"dash\")  # Цвет и стиль линии \n",
    "        )\n",
    "    if axhline == 'two' and one_y is not None and two_y is not None:\n",
    "        fig.add_shape(\n",
    "            type=\"line\",\n",
    "            x0=min(a_x_axis),  \n",
    "            y0=one_y,  \n",
    "            x1=max(a_x_axis),  \n",
    "            y1=one_y,  \n",
    "            line=dict(color=\"black\", dash=\"dash\")  # Цвет и стиль линии \n",
    "        )\n",
    "        fig.add_shape(\n",
    "            type=\"line\",\n",
    "            x0=min(a_x_axis), \n",
    "            y0=two_y, \n",
    "            x1=max(a_x_axis),  \n",
    "            y1=two_y,  \n",
    "            line=dict(color=\"black\", dash=\"dash\")  # Цвет и стиль линии \n",
    "        )\n",
    "\n",
    "    fig.update_layout(xaxis_title=x_name, yaxis_title=y_name, \n",
    "                  title=title_name,\n",
    "                  plot_bgcolor='AliceBlue',\n",
    "                  margin={\"r\": 0, \"t\": 50, \"l\": 0, \"b\": 50})\n",
    "    fig.show()\n",
    "    return"
   ]
  },
  {
   "cell_type": "markdown",
   "metadata": {},
   "source": [
    "<a id=\"num54\"></a>\n",
    "### Ознакомление с данными"
   ]
  },
  {
   "cell_type": "markdown",
   "metadata": {},
   "source": [
    "Для исследования предоставлены данные в трех таблицах: ``hypothesis``, ``orders``, ``visitors``. Получим первичную информацию о них. "
   ]
  },
  {
   "cell_type": "markdown",
   "metadata": {},
   "source": [
    "Получим данные о ``hypothesis``."
   ]
  },
  {
   "cell_type": "code",
   "execution_count": 10,
   "metadata": {},
   "outputs": [
    {
     "name": "stdout",
     "output_type": "stream",
     "text": [
      "\u001b[1m1. Первые пять строк данных:\u001b[0m\n"
     ]
    },
    {
     "data": {
      "text/html": [
       "<div>\n",
       "<style scoped>\n",
       "    .dataframe tbody tr th:only-of-type {\n",
       "        vertical-align: middle;\n",
       "    }\n",
       "\n",
       "    .dataframe tbody tr th {\n",
       "        vertical-align: top;\n",
       "    }\n",
       "\n",
       "    .dataframe thead th {\n",
       "        text-align: right;\n",
       "    }\n",
       "</style>\n",
       "<table border=\"1\" class=\"dataframe\">\n",
       "  <thead>\n",
       "    <tr style=\"text-align: right;\">\n",
       "      <th></th>\n",
       "      <th>Hypothesis</th>\n",
       "      <th>Reach</th>\n",
       "      <th>Impact</th>\n",
       "      <th>Confidence</th>\n",
       "      <th>Efforts</th>\n",
       "    </tr>\n",
       "  </thead>\n",
       "  <tbody>\n",
       "    <tr>\n",
       "      <th>0</th>\n",
       "      <td>Добавить два новых канала привлечения трафика,...</td>\n",
       "      <td>3</td>\n",
       "      <td>10</td>\n",
       "      <td>8</td>\n",
       "      <td>6</td>\n",
       "    </tr>\n",
       "    <tr>\n",
       "      <th>1</th>\n",
       "      <td>Запустить собственную службу доставки, что сок...</td>\n",
       "      <td>2</td>\n",
       "      <td>5</td>\n",
       "      <td>4</td>\n",
       "      <td>10</td>\n",
       "    </tr>\n",
       "    <tr>\n",
       "      <th>2</th>\n",
       "      <td>Добавить блоки рекомендаций товаров на сайт ин...</td>\n",
       "      <td>8</td>\n",
       "      <td>3</td>\n",
       "      <td>7</td>\n",
       "      <td>3</td>\n",
       "    </tr>\n",
       "    <tr>\n",
       "      <th>3</th>\n",
       "      <td>Изменить структура категорий, что увеличит кон...</td>\n",
       "      <td>8</td>\n",
       "      <td>3</td>\n",
       "      <td>3</td>\n",
       "      <td>8</td>\n",
       "    </tr>\n",
       "    <tr>\n",
       "      <th>4</th>\n",
       "      <td>Изменить цвет фона главной страницы, чтобы уве...</td>\n",
       "      <td>3</td>\n",
       "      <td>1</td>\n",
       "      <td>1</td>\n",
       "      <td>1</td>\n",
       "    </tr>\n",
       "  </tbody>\n",
       "</table>\n",
       "</div>"
      ],
      "text/plain": [
       "                                          Hypothesis  Reach  Impact  \\\n",
       "0  Добавить два новых канала привлечения трафика,...      3      10   \n",
       "1  Запустить собственную службу доставки, что сок...      2       5   \n",
       "2  Добавить блоки рекомендаций товаров на сайт ин...      8       3   \n",
       "3  Изменить структура категорий, что увеличит кон...      8       3   \n",
       "4  Изменить цвет фона главной страницы, чтобы уве...      3       1   \n",
       "\n",
       "   Confidence  Efforts  \n",
       "0           8        6  \n",
       "1           4       10  \n",
       "2           7        3  \n",
       "3           3        8  \n",
       "4           1        1  "
      ]
     },
     "metadata": {},
     "output_type": "display_data"
    },
    {
     "name": "stdout",
     "output_type": "stream",
     "text": [
      "\u001b[1m2. Описание данных:\u001b[0m\n"
     ]
    },
    {
     "data": {
      "text/html": [
       "<div>\n",
       "<style scoped>\n",
       "    .dataframe tbody tr th:only-of-type {\n",
       "        vertical-align: middle;\n",
       "    }\n",
       "\n",
       "    .dataframe tbody tr th {\n",
       "        vertical-align: top;\n",
       "    }\n",
       "\n",
       "    .dataframe thead th {\n",
       "        text-align: right;\n",
       "    }\n",
       "</style>\n",
       "<table border=\"1\" class=\"dataframe\">\n",
       "  <thead>\n",
       "    <tr style=\"text-align: right;\">\n",
       "      <th></th>\n",
       "      <th>Reach</th>\n",
       "      <th>Impact</th>\n",
       "      <th>Confidence</th>\n",
       "      <th>Efforts</th>\n",
       "    </tr>\n",
       "  </thead>\n",
       "  <tbody>\n",
       "    <tr>\n",
       "      <th>count</th>\n",
       "      <td>9.000000</td>\n",
       "      <td>9.000000</td>\n",
       "      <td>9.000000</td>\n",
       "      <td>9.000000</td>\n",
       "    </tr>\n",
       "    <tr>\n",
       "      <th>mean</th>\n",
       "      <td>4.777778</td>\n",
       "      <td>4.777778</td>\n",
       "      <td>5.555556</td>\n",
       "      <td>4.888889</td>\n",
       "    </tr>\n",
       "    <tr>\n",
       "      <th>std</th>\n",
       "      <td>3.153481</td>\n",
       "      <td>3.192874</td>\n",
       "      <td>3.045944</td>\n",
       "      <td>2.803767</td>\n",
       "    </tr>\n",
       "    <tr>\n",
       "      <th>min</th>\n",
       "      <td>1.000000</td>\n",
       "      <td>1.000000</td>\n",
       "      <td>1.000000</td>\n",
       "      <td>1.000000</td>\n",
       "    </tr>\n",
       "    <tr>\n",
       "      <th>25%</th>\n",
       "      <td>3.000000</td>\n",
       "      <td>3.000000</td>\n",
       "      <td>3.000000</td>\n",
       "      <td>3.000000</td>\n",
       "    </tr>\n",
       "    <tr>\n",
       "      <th>50%</th>\n",
       "      <td>3.000000</td>\n",
       "      <td>3.000000</td>\n",
       "      <td>7.000000</td>\n",
       "      <td>5.000000</td>\n",
       "    </tr>\n",
       "    <tr>\n",
       "      <th>75%</th>\n",
       "      <td>8.000000</td>\n",
       "      <td>7.000000</td>\n",
       "      <td>8.000000</td>\n",
       "      <td>6.000000</td>\n",
       "    </tr>\n",
       "    <tr>\n",
       "      <th>max</th>\n",
       "      <td>10.000000</td>\n",
       "      <td>10.000000</td>\n",
       "      <td>9.000000</td>\n",
       "      <td>10.000000</td>\n",
       "    </tr>\n",
       "  </tbody>\n",
       "</table>\n",
       "</div>"
      ],
      "text/plain": [
       "           Reach     Impact  Confidence    Efforts\n",
       "count   9.000000   9.000000    9.000000   9.000000\n",
       "mean    4.777778   4.777778    5.555556   4.888889\n",
       "std     3.153481   3.192874    3.045944   2.803767\n",
       "min     1.000000   1.000000    1.000000   1.000000\n",
       "25%     3.000000   3.000000    3.000000   3.000000\n",
       "50%     3.000000   3.000000    7.000000   5.000000\n",
       "75%     8.000000   7.000000    8.000000   6.000000\n",
       "max    10.000000  10.000000    9.000000  10.000000"
      ]
     },
     "metadata": {},
     "output_type": "display_data"
    },
    {
     "name": "stdout",
     "output_type": "stream",
     "text": [
      "\u001b[1m3. Общая информацию о датафрейме\u001b[0m\n",
      "<class 'pandas.core.frame.DataFrame'>\n",
      "RangeIndex: 9 entries, 0 to 8\n",
      "Data columns (total 5 columns):\n",
      " #   Column      Non-Null Count  Dtype \n",
      "---  ------      --------------  ----- \n",
      " 0   Hypothesis  9 non-null      object\n",
      " 1   Reach       9 non-null      int64 \n",
      " 2   Impact      9 non-null      int64 \n",
      " 3   Confidence  9 non-null      int64 \n",
      " 4   Efforts     9 non-null      int64 \n",
      "dtypes: int64(4), object(1)\n",
      "memory usage: 488.0+ bytes\n"
     ]
    },
    {
     "data": {
      "text/plain": [
       "None"
      ]
     },
     "metadata": {},
     "output_type": "display_data"
    },
    {
     "name": "stdout",
     "output_type": "stream",
     "text": [
      "\u001b[1m4. Графическое отображение количества пропусков\u001b[0m\n"
     ]
    },
    {
     "data": {
      "text/html": [
       "<style  type=\"text/css\" >\n",
       "#T_83fcc_row0_col0,#T_83fcc_row1_col0,#T_83fcc_row2_col0,#T_83fcc_row3_col0,#T_83fcc_row4_col0{\n",
       "            background-color:  #f7fbff;\n",
       "            color:  #000000;\n",
       "        }</style><table id=\"T_83fcc_\" ><thead>    <tr>        <th class=\"blank level0\" ></th>        <th class=\"col_heading level0 col0\" >0</th>    </tr></thead><tbody>\n",
       "                <tr>\n",
       "                        <th id=\"T_83fcc_level0_row0\" class=\"row_heading level0 row0\" >Hypothesis</th>\n",
       "                        <td id=\"T_83fcc_row0_col0\" class=\"data row0 col0\" >0.00</td>\n",
       "            </tr>\n",
       "            <tr>\n",
       "                        <th id=\"T_83fcc_level0_row1\" class=\"row_heading level0 row1\" >Reach</th>\n",
       "                        <td id=\"T_83fcc_row1_col0\" class=\"data row1 col0\" >0.00</td>\n",
       "            </tr>\n",
       "            <tr>\n",
       "                        <th id=\"T_83fcc_level0_row2\" class=\"row_heading level0 row2\" >Impact</th>\n",
       "                        <td id=\"T_83fcc_row2_col0\" class=\"data row2 col0\" >0.00</td>\n",
       "            </tr>\n",
       "            <tr>\n",
       "                        <th id=\"T_83fcc_level0_row3\" class=\"row_heading level0 row3\" >Confidence</th>\n",
       "                        <td id=\"T_83fcc_row3_col0\" class=\"data row3 col0\" >0.00</td>\n",
       "            </tr>\n",
       "            <tr>\n",
       "                        <th id=\"T_83fcc_level0_row4\" class=\"row_heading level0 row4\" >Efforts</th>\n",
       "                        <td id=\"T_83fcc_row4_col0\" class=\"data row4 col0\" >0.00</td>\n",
       "            </tr>\n",
       "    </tbody></table>"
      ],
      "text/plain": [
       "<pandas.io.formats.style.Styler at 0x142709af580>"
      ]
     },
     "metadata": {},
     "output_type": "display_data"
    },
    {
     "name": "stdout",
     "output_type": "stream",
     "text": [
      "\u001b[1m5. Процент пропусков\u001b[0m\n"
     ]
    },
    {
     "data": {
      "text/plain": [
       "Hypothesis    0.0\n",
       "Reach         0.0\n",
       "Impact        0.0\n",
       "Confidence    0.0\n",
       "Efforts       0.0\n",
       "dtype: float64"
      ]
     },
     "metadata": {},
     "output_type": "display_data"
    }
   ],
   "source": [
    "data_head_desc_info(hypothesis)"
   ]
  },
  {
   "cell_type": "code",
   "execution_count": 11,
   "metadata": {
    "scrolled": true
   },
   "outputs": [
    {
     "data": {
      "text/html": [
       "<div>\n",
       "<style scoped>\n",
       "    .dataframe tbody tr th:only-of-type {\n",
       "        vertical-align: middle;\n",
       "    }\n",
       "\n",
       "    .dataframe tbody tr th {\n",
       "        vertical-align: top;\n",
       "    }\n",
       "\n",
       "    .dataframe thead th {\n",
       "        text-align: right;\n",
       "    }\n",
       "</style>\n",
       "<table border=\"1\" class=\"dataframe\">\n",
       "  <thead>\n",
       "    <tr style=\"text-align: right;\">\n",
       "      <th></th>\n",
       "      <th>Hypothesis</th>\n",
       "      <th>Reach</th>\n",
       "      <th>Impact</th>\n",
       "      <th>Confidence</th>\n",
       "      <th>Efforts</th>\n",
       "    </tr>\n",
       "  </thead>\n",
       "  <tbody>\n",
       "    <tr>\n",
       "      <th>0</th>\n",
       "      <td>Добавить два новых канала привлечения трафика, что позволит привлекать на 30% больше пользователей</td>\n",
       "      <td>3</td>\n",
       "      <td>10</td>\n",
       "      <td>8</td>\n",
       "      <td>6</td>\n",
       "    </tr>\n",
       "    <tr>\n",
       "      <th>1</th>\n",
       "      <td>Запустить собственную службу доставки, что сократит срок доставки заказов</td>\n",
       "      <td>2</td>\n",
       "      <td>5</td>\n",
       "      <td>4</td>\n",
       "      <td>10</td>\n",
       "    </tr>\n",
       "    <tr>\n",
       "      <th>2</th>\n",
       "      <td>Добавить блоки рекомендаций товаров на сайт интернет магазина, чтобы повысить конверсию и средни...</td>\n",
       "      <td>8</td>\n",
       "      <td>3</td>\n",
       "      <td>7</td>\n",
       "      <td>3</td>\n",
       "    </tr>\n",
       "    <tr>\n",
       "      <th>3</th>\n",
       "      <td>Изменить структура категорий, что увеличит конверсию, т.к. пользователи быстрее найдут нужный товар</td>\n",
       "      <td>8</td>\n",
       "      <td>3</td>\n",
       "      <td>3</td>\n",
       "      <td>8</td>\n",
       "    </tr>\n",
       "    <tr>\n",
       "      <th>4</th>\n",
       "      <td>Изменить цвет фона главной страницы, чтобы увеличить вовлеченность пользователей</td>\n",
       "      <td>3</td>\n",
       "      <td>1</td>\n",
       "      <td>1</td>\n",
       "      <td>1</td>\n",
       "    </tr>\n",
       "    <tr>\n",
       "      <th>5</th>\n",
       "      <td>Добавить страницу отзывов клиентов о магазине, что позволит увеличить количество заказов</td>\n",
       "      <td>3</td>\n",
       "      <td>2</td>\n",
       "      <td>2</td>\n",
       "      <td>3</td>\n",
       "    </tr>\n",
       "    <tr>\n",
       "      <th>6</th>\n",
       "      <td>Показать на главной странице баннеры с актуальными акциями и распродажами, чтобы увеличить конве...</td>\n",
       "      <td>5</td>\n",
       "      <td>3</td>\n",
       "      <td>8</td>\n",
       "      <td>3</td>\n",
       "    </tr>\n",
       "    <tr>\n",
       "      <th>7</th>\n",
       "      <td>Добавить форму подписки на все основные страницы, чтобы собрать базу клиентов для email-рассылок</td>\n",
       "      <td>10</td>\n",
       "      <td>7</td>\n",
       "      <td>8</td>\n",
       "      <td>5</td>\n",
       "    </tr>\n",
       "    <tr>\n",
       "      <th>8</th>\n",
       "      <td>Запустить акцию, дающую скидку на товар в день рождения</td>\n",
       "      <td>1</td>\n",
       "      <td>9</td>\n",
       "      <td>9</td>\n",
       "      <td>5</td>\n",
       "    </tr>\n",
       "  </tbody>\n",
       "</table>\n",
       "</div>"
      ],
      "text/plain": [
       "                                                                                            Hypothesis  \\\n",
       "0   Добавить два новых канала привлечения трафика, что позволит привлекать на 30% больше пользователей   \n",
       "1                            Запустить собственную службу доставки, что сократит срок доставки заказов   \n",
       "2  Добавить блоки рекомендаций товаров на сайт интернет магазина, чтобы повысить конверсию и средни...   \n",
       "3  Изменить структура категорий, что увеличит конверсию, т.к. пользователи быстрее найдут нужный товар   \n",
       "4                     Изменить цвет фона главной страницы, чтобы увеличить вовлеченность пользователей   \n",
       "5             Добавить страницу отзывов клиентов о магазине, что позволит увеличить количество заказов   \n",
       "6  Показать на главной странице баннеры с актуальными акциями и распродажами, чтобы увеличить конве...   \n",
       "7     Добавить форму подписки на все основные страницы, чтобы собрать базу клиентов для email-рассылок   \n",
       "8                                              Запустить акцию, дающую скидку на товар в день рождения   \n",
       "\n",
       "   Reach  Impact  Confidence  Efforts  \n",
       "0      3      10           8        6  \n",
       "1      2       5           4       10  \n",
       "2      8       3           7        3  \n",
       "3      8       3           3        8  \n",
       "4      3       1           1        1  \n",
       "5      3       2           2        3  \n",
       "6      5       3           8        3  \n",
       "7     10       7           8        5  \n",
       "8      1       9           9        5  "
      ]
     },
     "execution_count": 11,
     "metadata": {},
     "output_type": "execute_result"
    }
   ],
   "source": [
    "pd.set_option('max_colwidth', 100)\n",
    "hypothesis"
   ]
  },
  {
   "cell_type": "markdown",
   "metadata": {},
   "source": [
    "При ознакомлении с данными проблем в таблице ``hypothesis`` не выявлено, типы данных представлены верно, пропусков нет. "
   ]
  },
  {
   "cell_type": "markdown",
   "metadata": {},
   "source": [
    "Получим данные о ``orders``."
   ]
  },
  {
   "cell_type": "code",
   "execution_count": 12,
   "metadata": {},
   "outputs": [
    {
     "name": "stdout",
     "output_type": "stream",
     "text": [
      "\u001b[1m1. Первые пять строк данных:\u001b[0m\n"
     ]
    },
    {
     "data": {
      "text/html": [
       "<div>\n",
       "<style scoped>\n",
       "    .dataframe tbody tr th:only-of-type {\n",
       "        vertical-align: middle;\n",
       "    }\n",
       "\n",
       "    .dataframe tbody tr th {\n",
       "        vertical-align: top;\n",
       "    }\n",
       "\n",
       "    .dataframe thead th {\n",
       "        text-align: right;\n",
       "    }\n",
       "</style>\n",
       "<table border=\"1\" class=\"dataframe\">\n",
       "  <thead>\n",
       "    <tr style=\"text-align: right;\">\n",
       "      <th></th>\n",
       "      <th>transactionId</th>\n",
       "      <th>visitorId</th>\n",
       "      <th>date</th>\n",
       "      <th>revenue</th>\n",
       "      <th>group</th>\n",
       "    </tr>\n",
       "  </thead>\n",
       "  <tbody>\n",
       "    <tr>\n",
       "      <th>0</th>\n",
       "      <td>3667963787</td>\n",
       "      <td>3312258926</td>\n",
       "      <td>2019-08-15</td>\n",
       "      <td>1650</td>\n",
       "      <td>B</td>\n",
       "    </tr>\n",
       "    <tr>\n",
       "      <th>1</th>\n",
       "      <td>2804400009</td>\n",
       "      <td>3642806036</td>\n",
       "      <td>2019-08-15</td>\n",
       "      <td>730</td>\n",
       "      <td>B</td>\n",
       "    </tr>\n",
       "    <tr>\n",
       "      <th>2</th>\n",
       "      <td>2961555356</td>\n",
       "      <td>4069496402</td>\n",
       "      <td>2019-08-15</td>\n",
       "      <td>400</td>\n",
       "      <td>A</td>\n",
       "    </tr>\n",
       "    <tr>\n",
       "      <th>3</th>\n",
       "      <td>3797467345</td>\n",
       "      <td>1196621759</td>\n",
       "      <td>2019-08-15</td>\n",
       "      <td>9759</td>\n",
       "      <td>B</td>\n",
       "    </tr>\n",
       "    <tr>\n",
       "      <th>4</th>\n",
       "      <td>2282983706</td>\n",
       "      <td>2322279887</td>\n",
       "      <td>2019-08-15</td>\n",
       "      <td>2308</td>\n",
       "      <td>B</td>\n",
       "    </tr>\n",
       "  </tbody>\n",
       "</table>\n",
       "</div>"
      ],
      "text/plain": [
       "   transactionId   visitorId       date  revenue group\n",
       "0     3667963787  3312258926 2019-08-15     1650     B\n",
       "1     2804400009  3642806036 2019-08-15      730     B\n",
       "2     2961555356  4069496402 2019-08-15      400     A\n",
       "3     3797467345  1196621759 2019-08-15     9759     B\n",
       "4     2282983706  2322279887 2019-08-15     2308     B"
      ]
     },
     "metadata": {},
     "output_type": "display_data"
    },
    {
     "name": "stdout",
     "output_type": "stream",
     "text": [
      "\u001b[1m2. Описание данных:\u001b[0m\n"
     ]
    },
    {
     "data": {
      "text/html": [
       "<div>\n",
       "<style scoped>\n",
       "    .dataframe tbody tr th:only-of-type {\n",
       "        vertical-align: middle;\n",
       "    }\n",
       "\n",
       "    .dataframe tbody tr th {\n",
       "        vertical-align: top;\n",
       "    }\n",
       "\n",
       "    .dataframe thead th {\n",
       "        text-align: right;\n",
       "    }\n",
       "</style>\n",
       "<table border=\"1\" class=\"dataframe\">\n",
       "  <thead>\n",
       "    <tr style=\"text-align: right;\">\n",
       "      <th></th>\n",
       "      <th>transactionId</th>\n",
       "      <th>visitorId</th>\n",
       "      <th>revenue</th>\n",
       "    </tr>\n",
       "  </thead>\n",
       "  <tbody>\n",
       "    <tr>\n",
       "      <th>count</th>\n",
       "      <td>1.197000e+03</td>\n",
       "      <td>1.197000e+03</td>\n",
       "      <td>1.197000e+03</td>\n",
       "    </tr>\n",
       "    <tr>\n",
       "      <th>mean</th>\n",
       "      <td>2.155621e+09</td>\n",
       "      <td>2.165960e+09</td>\n",
       "      <td>8.348006e+03</td>\n",
       "    </tr>\n",
       "    <tr>\n",
       "      <th>std</th>\n",
       "      <td>1.229085e+09</td>\n",
       "      <td>1.236014e+09</td>\n",
       "      <td>3.919113e+04</td>\n",
       "    </tr>\n",
       "    <tr>\n",
       "      <th>min</th>\n",
       "      <td>1.062393e+06</td>\n",
       "      <td>5.114589e+06</td>\n",
       "      <td>5.000000e+01</td>\n",
       "    </tr>\n",
       "    <tr>\n",
       "      <th>25%</th>\n",
       "      <td>1.166776e+09</td>\n",
       "      <td>1.111826e+09</td>\n",
       "      <td>1.220000e+03</td>\n",
       "    </tr>\n",
       "    <tr>\n",
       "      <th>50%</th>\n",
       "      <td>2.145194e+09</td>\n",
       "      <td>2.217985e+09</td>\n",
       "      <td>2.978000e+03</td>\n",
       "    </tr>\n",
       "    <tr>\n",
       "      <th>75%</th>\n",
       "      <td>3.237740e+09</td>\n",
       "      <td>3.177606e+09</td>\n",
       "      <td>8.290000e+03</td>\n",
       "    </tr>\n",
       "    <tr>\n",
       "      <th>max</th>\n",
       "      <td>4.293856e+09</td>\n",
       "      <td>4.283872e+09</td>\n",
       "      <td>1.294500e+06</td>\n",
       "    </tr>\n",
       "  </tbody>\n",
       "</table>\n",
       "</div>"
      ],
      "text/plain": [
       "       transactionId     visitorId       revenue\n",
       "count   1.197000e+03  1.197000e+03  1.197000e+03\n",
       "mean    2.155621e+09  2.165960e+09  8.348006e+03\n",
       "std     1.229085e+09  1.236014e+09  3.919113e+04\n",
       "min     1.062393e+06  5.114589e+06  5.000000e+01\n",
       "25%     1.166776e+09  1.111826e+09  1.220000e+03\n",
       "50%     2.145194e+09  2.217985e+09  2.978000e+03\n",
       "75%     3.237740e+09  3.177606e+09  8.290000e+03\n",
       "max     4.293856e+09  4.283872e+09  1.294500e+06"
      ]
     },
     "metadata": {},
     "output_type": "display_data"
    },
    {
     "name": "stdout",
     "output_type": "stream",
     "text": [
      "\u001b[1m3. Общая информацию о датафрейме\u001b[0m\n",
      "<class 'pandas.core.frame.DataFrame'>\n",
      "RangeIndex: 1197 entries, 0 to 1196\n",
      "Data columns (total 5 columns):\n",
      " #   Column         Non-Null Count  Dtype         \n",
      "---  ------         --------------  -----         \n",
      " 0   transactionId  1197 non-null   int64         \n",
      " 1   visitorId      1197 non-null   int64         \n",
      " 2   date           1197 non-null   datetime64[ns]\n",
      " 3   revenue        1197 non-null   int64         \n",
      " 4   group          1197 non-null   object        \n",
      "dtypes: datetime64[ns](1), int64(3), object(1)\n",
      "memory usage: 46.9+ KB\n"
     ]
    },
    {
     "data": {
      "text/plain": [
       "None"
      ]
     },
     "metadata": {},
     "output_type": "display_data"
    },
    {
     "name": "stdout",
     "output_type": "stream",
     "text": [
      "\u001b[1m4. Графическое отображение количества пропусков\u001b[0m\n"
     ]
    },
    {
     "data": {
      "text/html": [
       "<style  type=\"text/css\" >\n",
       "#T_da02e_row0_col0,#T_da02e_row1_col0,#T_da02e_row2_col0,#T_da02e_row3_col0,#T_da02e_row4_col0{\n",
       "            background-color:  #f7fbff;\n",
       "            color:  #000000;\n",
       "        }</style><table id=\"T_da02e_\" ><thead>    <tr>        <th class=\"blank level0\" ></th>        <th class=\"col_heading level0 col0\" >0</th>    </tr></thead><tbody>\n",
       "                <tr>\n",
       "                        <th id=\"T_da02e_level0_row0\" class=\"row_heading level0 row0\" >transactionId</th>\n",
       "                        <td id=\"T_da02e_row0_col0\" class=\"data row0 col0\" >0.00</td>\n",
       "            </tr>\n",
       "            <tr>\n",
       "                        <th id=\"T_da02e_level0_row1\" class=\"row_heading level0 row1\" >visitorId</th>\n",
       "                        <td id=\"T_da02e_row1_col0\" class=\"data row1 col0\" >0.00</td>\n",
       "            </tr>\n",
       "            <tr>\n",
       "                        <th id=\"T_da02e_level0_row2\" class=\"row_heading level0 row2\" >date</th>\n",
       "                        <td id=\"T_da02e_row2_col0\" class=\"data row2 col0\" >0.00</td>\n",
       "            </tr>\n",
       "            <tr>\n",
       "                        <th id=\"T_da02e_level0_row3\" class=\"row_heading level0 row3\" >revenue</th>\n",
       "                        <td id=\"T_da02e_row3_col0\" class=\"data row3 col0\" >0.00</td>\n",
       "            </tr>\n",
       "            <tr>\n",
       "                        <th id=\"T_da02e_level0_row4\" class=\"row_heading level0 row4\" >group</th>\n",
       "                        <td id=\"T_da02e_row4_col0\" class=\"data row4 col0\" >0.00</td>\n",
       "            </tr>\n",
       "    </tbody></table>"
      ],
      "text/plain": [
       "<pandas.io.formats.style.Styler at 0x1427172f7c0>"
      ]
     },
     "metadata": {},
     "output_type": "display_data"
    },
    {
     "name": "stdout",
     "output_type": "stream",
     "text": [
      "\u001b[1m5. Процент пропусков\u001b[0m\n"
     ]
    },
    {
     "data": {
      "text/plain": [
       "transactionId    0.0\n",
       "visitorId        0.0\n",
       "date             0.0\n",
       "revenue          0.0\n",
       "group            0.0\n",
       "dtype: float64"
      ]
     },
     "metadata": {},
     "output_type": "display_data"
    }
   ],
   "source": [
    "data_head_desc_info(orders)"
   ]
  },
  {
   "cell_type": "markdown",
   "metadata": {},
   "source": [
    "При ознакомлении с данными проблем в таблице ``orders`` не выявлено, типы данных представлены верно, пропусков нет. "
   ]
  },
  {
   "cell_type": "markdown",
   "metadata": {},
   "source": [
    "Получим данные о ``visitors``."
   ]
  },
  {
   "cell_type": "code",
   "execution_count": 13,
   "metadata": {},
   "outputs": [
    {
     "name": "stdout",
     "output_type": "stream",
     "text": [
      "\u001b[1m1. Первые пять строк данных:\u001b[0m\n"
     ]
    },
    {
     "data": {
      "text/html": [
       "<div>\n",
       "<style scoped>\n",
       "    .dataframe tbody tr th:only-of-type {\n",
       "        vertical-align: middle;\n",
       "    }\n",
       "\n",
       "    .dataframe tbody tr th {\n",
       "        vertical-align: top;\n",
       "    }\n",
       "\n",
       "    .dataframe thead th {\n",
       "        text-align: right;\n",
       "    }\n",
       "</style>\n",
       "<table border=\"1\" class=\"dataframe\">\n",
       "  <thead>\n",
       "    <tr style=\"text-align: right;\">\n",
       "      <th></th>\n",
       "      <th>date</th>\n",
       "      <th>group</th>\n",
       "      <th>visitors</th>\n",
       "    </tr>\n",
       "  </thead>\n",
       "  <tbody>\n",
       "    <tr>\n",
       "      <th>0</th>\n",
       "      <td>2019-08-01</td>\n",
       "      <td>A</td>\n",
       "      <td>719</td>\n",
       "    </tr>\n",
       "    <tr>\n",
       "      <th>1</th>\n",
       "      <td>2019-08-02</td>\n",
       "      <td>A</td>\n",
       "      <td>619</td>\n",
       "    </tr>\n",
       "    <tr>\n",
       "      <th>2</th>\n",
       "      <td>2019-08-03</td>\n",
       "      <td>A</td>\n",
       "      <td>507</td>\n",
       "    </tr>\n",
       "    <tr>\n",
       "      <th>3</th>\n",
       "      <td>2019-08-04</td>\n",
       "      <td>A</td>\n",
       "      <td>717</td>\n",
       "    </tr>\n",
       "    <tr>\n",
       "      <th>4</th>\n",
       "      <td>2019-08-05</td>\n",
       "      <td>A</td>\n",
       "      <td>756</td>\n",
       "    </tr>\n",
       "  </tbody>\n",
       "</table>\n",
       "</div>"
      ],
      "text/plain": [
       "        date group  visitors\n",
       "0 2019-08-01     A       719\n",
       "1 2019-08-02     A       619\n",
       "2 2019-08-03     A       507\n",
       "3 2019-08-04     A       717\n",
       "4 2019-08-05     A       756"
      ]
     },
     "metadata": {},
     "output_type": "display_data"
    },
    {
     "name": "stdout",
     "output_type": "stream",
     "text": [
      "\u001b[1m2. Описание данных:\u001b[0m\n"
     ]
    },
    {
     "data": {
      "text/html": [
       "<div>\n",
       "<style scoped>\n",
       "    .dataframe tbody tr th:only-of-type {\n",
       "        vertical-align: middle;\n",
       "    }\n",
       "\n",
       "    .dataframe tbody tr th {\n",
       "        vertical-align: top;\n",
       "    }\n",
       "\n",
       "    .dataframe thead th {\n",
       "        text-align: right;\n",
       "    }\n",
       "</style>\n",
       "<table border=\"1\" class=\"dataframe\">\n",
       "  <thead>\n",
       "    <tr style=\"text-align: right;\">\n",
       "      <th></th>\n",
       "      <th>visitors</th>\n",
       "    </tr>\n",
       "  </thead>\n",
       "  <tbody>\n",
       "    <tr>\n",
       "      <th>count</th>\n",
       "      <td>62.000000</td>\n",
       "    </tr>\n",
       "    <tr>\n",
       "      <th>mean</th>\n",
       "      <td>607.290323</td>\n",
       "    </tr>\n",
       "    <tr>\n",
       "      <th>std</th>\n",
       "      <td>114.400560</td>\n",
       "    </tr>\n",
       "    <tr>\n",
       "      <th>min</th>\n",
       "      <td>361.000000</td>\n",
       "    </tr>\n",
       "    <tr>\n",
       "      <th>25%</th>\n",
       "      <td>534.000000</td>\n",
       "    </tr>\n",
       "    <tr>\n",
       "      <th>50%</th>\n",
       "      <td>624.500000</td>\n",
       "    </tr>\n",
       "    <tr>\n",
       "      <th>75%</th>\n",
       "      <td>710.500000</td>\n",
       "    </tr>\n",
       "    <tr>\n",
       "      <th>max</th>\n",
       "      <td>770.000000</td>\n",
       "    </tr>\n",
       "  </tbody>\n",
       "</table>\n",
       "</div>"
      ],
      "text/plain": [
       "         visitors\n",
       "count   62.000000\n",
       "mean   607.290323\n",
       "std    114.400560\n",
       "min    361.000000\n",
       "25%    534.000000\n",
       "50%    624.500000\n",
       "75%    710.500000\n",
       "max    770.000000"
      ]
     },
     "metadata": {},
     "output_type": "display_data"
    },
    {
     "name": "stdout",
     "output_type": "stream",
     "text": [
      "\u001b[1m3. Общая информацию о датафрейме\u001b[0m\n",
      "<class 'pandas.core.frame.DataFrame'>\n",
      "RangeIndex: 62 entries, 0 to 61\n",
      "Data columns (total 3 columns):\n",
      " #   Column    Non-Null Count  Dtype         \n",
      "---  ------    --------------  -----         \n",
      " 0   date      62 non-null     datetime64[ns]\n",
      " 1   group     62 non-null     object        \n",
      " 2   visitors  62 non-null     int64         \n",
      "dtypes: datetime64[ns](1), int64(1), object(1)\n",
      "memory usage: 1.6+ KB\n"
     ]
    },
    {
     "data": {
      "text/plain": [
       "None"
      ]
     },
     "metadata": {},
     "output_type": "display_data"
    },
    {
     "name": "stdout",
     "output_type": "stream",
     "text": [
      "\u001b[1m4. Графическое отображение количества пропусков\u001b[0m\n"
     ]
    },
    {
     "data": {
      "text/html": [
       "<style  type=\"text/css\" >\n",
       "#T_a3d68_row0_col0,#T_a3d68_row1_col0,#T_a3d68_row2_col0{\n",
       "            background-color:  #f7fbff;\n",
       "            color:  #000000;\n",
       "        }</style><table id=\"T_a3d68_\" ><thead>    <tr>        <th class=\"blank level0\" ></th>        <th class=\"col_heading level0 col0\" >0</th>    </tr></thead><tbody>\n",
       "                <tr>\n",
       "                        <th id=\"T_a3d68_level0_row0\" class=\"row_heading level0 row0\" >date</th>\n",
       "                        <td id=\"T_a3d68_row0_col0\" class=\"data row0 col0\" >0.00</td>\n",
       "            </tr>\n",
       "            <tr>\n",
       "                        <th id=\"T_a3d68_level0_row1\" class=\"row_heading level0 row1\" >group</th>\n",
       "                        <td id=\"T_a3d68_row1_col0\" class=\"data row1 col0\" >0.00</td>\n",
       "            </tr>\n",
       "            <tr>\n",
       "                        <th id=\"T_a3d68_level0_row2\" class=\"row_heading level0 row2\" >visitors</th>\n",
       "                        <td id=\"T_a3d68_row2_col0\" class=\"data row2 col0\" >0.00</td>\n",
       "            </tr>\n",
       "    </tbody></table>"
      ],
      "text/plain": [
       "<pandas.io.formats.style.Styler at 0x14271729730>"
      ]
     },
     "metadata": {},
     "output_type": "display_data"
    },
    {
     "name": "stdout",
     "output_type": "stream",
     "text": [
      "\u001b[1m5. Процент пропусков\u001b[0m\n"
     ]
    },
    {
     "data": {
      "text/plain": [
       "date        0.0\n",
       "group       0.0\n",
       "visitors    0.0\n",
       "dtype: float64"
      ]
     },
     "metadata": {},
     "output_type": "display_data"
    }
   ],
   "source": [
    "data_head_desc_info(visitors)"
   ]
  },
  {
   "cell_type": "markdown",
   "metadata": {},
   "source": [
    "При ознакомлении с данными проблем в таблице ``visitors`` не выявлено, типы данных представлены верно, пропусков нет. "
   ]
  },
  {
   "cell_type": "markdown",
   "metadata": {},
   "source": [
    "Для работы представлены три таблицы ``hypothesis``, ``orders``, ``visitors``. \n",
    "\n",
    "В ``hypothesis`` 9 строк, 5 столбцов. \n",
    "\n",
    "В ``orders`` 1197 строк, 5 столбцов.\n",
    "\n",
    "В ``visitors`` 62 строки, 3 столбца. \n",
    "\n",
    "Таблицы полные, пропусков нет. Типы данных у всех трех таблиц верные. \n",
    "\n",
    "В ``hypothesis`` столбцы именованы не корректно, это исправим далее. "
   ]
  },
  {
   "cell_type": "markdown",
   "metadata": {},
   "source": [
    "<a id=\"num55\"></a>\n",
    "### Предобработка данных"
   ]
  },
  {
   "cell_type": "markdown",
   "metadata": {},
   "source": [
    "<a id=\"num551\"></a>\n",
    "#### Приведение названий к единому виду"
   ]
  },
  {
   "cell_type": "markdown",
   "metadata": {},
   "source": [
    "В таблице ``hypothesis`` столбцы имеют не верные названия, изменим их. Также проверим остальные таблицы, чтобы полностью исключить иные варианты написания."
   ]
  },
  {
   "cell_type": "code",
   "execution_count": 14,
   "metadata": {},
   "outputs": [
    {
     "data": {
      "text/html": [
       "<div>\n",
       "<style scoped>\n",
       "    .dataframe tbody tr th:only-of-type {\n",
       "        vertical-align: middle;\n",
       "    }\n",
       "\n",
       "    .dataframe tbody tr th {\n",
       "        vertical-align: top;\n",
       "    }\n",
       "\n",
       "    .dataframe thead th {\n",
       "        text-align: right;\n",
       "    }\n",
       "</style>\n",
       "<table border=\"1\" class=\"dataframe\">\n",
       "  <thead>\n",
       "    <tr style=\"text-align: right;\">\n",
       "      <th></th>\n",
       "      <th>hypothesis</th>\n",
       "      <th>reach</th>\n",
       "      <th>impact</th>\n",
       "      <th>confidence</th>\n",
       "      <th>efforts</th>\n",
       "    </tr>\n",
       "  </thead>\n",
       "  <tbody>\n",
       "  </tbody>\n",
       "</table>\n",
       "</div>"
      ],
      "text/plain": [
       "Empty DataFrame\n",
       "Columns: [hypothesis, reach, impact, confidence, efforts]\n",
       "Index: []"
      ]
     },
     "metadata": {},
     "output_type": "display_data"
    }
   ],
   "source": [
    "lower(hypothesis)"
   ]
  },
  {
   "cell_type": "code",
   "execution_count": 15,
   "metadata": {},
   "outputs": [
    {
     "data": {
      "text/html": [
       "<div>\n",
       "<style scoped>\n",
       "    .dataframe tbody tr th:only-of-type {\n",
       "        vertical-align: middle;\n",
       "    }\n",
       "\n",
       "    .dataframe tbody tr th {\n",
       "        vertical-align: top;\n",
       "    }\n",
       "\n",
       "    .dataframe thead th {\n",
       "        text-align: right;\n",
       "    }\n",
       "</style>\n",
       "<table border=\"1\" class=\"dataframe\">\n",
       "  <thead>\n",
       "    <tr style=\"text-align: right;\">\n",
       "      <th></th>\n",
       "      <th>transactionid</th>\n",
       "      <th>visitorid</th>\n",
       "      <th>date</th>\n",
       "      <th>revenue</th>\n",
       "      <th>group</th>\n",
       "    </tr>\n",
       "  </thead>\n",
       "  <tbody>\n",
       "  </tbody>\n",
       "</table>\n",
       "</div>"
      ],
      "text/plain": [
       "Empty DataFrame\n",
       "Columns: [transactionid, visitorid, date, revenue, group]\n",
       "Index: []"
      ]
     },
     "metadata": {},
     "output_type": "display_data"
    }
   ],
   "source": [
    "lower(orders)"
   ]
  },
  {
   "cell_type": "code",
   "execution_count": 16,
   "metadata": {},
   "outputs": [
    {
     "data": {
      "text/html": [
       "<div>\n",
       "<style scoped>\n",
       "    .dataframe tbody tr th:only-of-type {\n",
       "        vertical-align: middle;\n",
       "    }\n",
       "\n",
       "    .dataframe tbody tr th {\n",
       "        vertical-align: top;\n",
       "    }\n",
       "\n",
       "    .dataframe thead th {\n",
       "        text-align: right;\n",
       "    }\n",
       "</style>\n",
       "<table border=\"1\" class=\"dataframe\">\n",
       "  <thead>\n",
       "    <tr style=\"text-align: right;\">\n",
       "      <th></th>\n",
       "      <th>date</th>\n",
       "      <th>group</th>\n",
       "      <th>visitors</th>\n",
       "    </tr>\n",
       "  </thead>\n",
       "  <tbody>\n",
       "  </tbody>\n",
       "</table>\n",
       "</div>"
      ],
      "text/plain": [
       "Empty DataFrame\n",
       "Columns: [date, group, visitors]\n",
       "Index: []"
      ]
     },
     "metadata": {},
     "output_type": "display_data"
    }
   ],
   "source": [
    "lower(visitors)"
   ]
  },
  {
   "cell_type": "markdown",
   "metadata": {},
   "source": [
    "Теперь все таблицы имеют желаемый вид названий. "
   ]
  },
  {
   "cell_type": "markdown",
   "metadata": {},
   "source": [
    "<a id=\"num552\"></a>\n",
    "#### Проверка на уникальность"
   ]
  },
  {
   "cell_type": "code",
   "execution_count": 17,
   "metadata": {},
   "outputs": [
    {
     "name": "stdout",
     "output_type": "stream",
     "text": [
      "Столбец: hypothesis\n",
      "Количество пропусков: 0\n",
      "Количество уникальных значений: 9\n",
      "Столбец: reach\n",
      "Количество пропусков: 0\n",
      "Количество уникальных значений: 6\n",
      "Столбец: impact\n",
      "Количество пропусков: 0\n",
      "Количество уникальных значений: 7\n",
      "Столбец: confidence\n",
      "Количество пропусков: 0\n",
      "Количество уникальных значений: 7\n",
      "Столбец: efforts\n",
      "Количество пропусков: 0\n",
      "Количество уникальных значений: 6\n"
     ]
    }
   ],
   "source": [
    "data_isna_nuniq(hypothesis)"
   ]
  },
  {
   "cell_type": "markdown",
   "metadata": {},
   "source": [
    "Всего в таблице представлено ``9`` уникальных гипотез ``hypothesis``. \n",
    "\n",
    "Охват пользователей представлен по 10-балльной шкале, в таблице уникальных значений — ``9`` от 1 до 10, столбец ``reach``. \n",
    "\n",
    "Влияние на пользователей представлено по 10-балльной шкале, в таблице уникальных значений ``7`` от 1 до 10, столбец ``impact``.\n",
    "\n",
    "Уверенность в гипотезе представлена по 10-балльной шкале, в таблице уникальных значений ``7`` от 1 до 9, столбец ``confidence``.\n",
    "\n",
    "Затраты ресурсов на проверку гипотезы представлены по 10-балльной шкале, в таблице уникальных значений ``6`` от 1 до 10, столбец ``efforts``."
   ]
  },
  {
   "cell_type": "code",
   "execution_count": 18,
   "metadata": {},
   "outputs": [
    {
     "name": "stdout",
     "output_type": "stream",
     "text": [
      "Столбец: transactionid\n",
      "Количество пропусков: 0\n",
      "Количество уникальных значений: 1197\n",
      "Столбец: visitorid\n",
      "Количество пропусков: 0\n",
      "Количество уникальных значений: 1031\n",
      "Столбец: date\n",
      "Количество пропусков: 0\n",
      "Количество уникальных значений: 31\n",
      "Столбец: revenue\n",
      "Количество пропусков: 0\n",
      "Количество уникальных значений: 713\n",
      "Столбец: group\n",
      "Количество пропусков: 0\n",
      "Количество уникальных значений: 2\n"
     ]
    }
   ],
   "source": [
    "data_isna_nuniq(orders)"
   ]
  },
  {
   "cell_type": "markdown",
   "metadata": {},
   "source": [
    "Всего в таблице представлено ``1197`` уникальных заказа — ``orders``. \n",
    "\n",
    "Заказ совершили ``1031`` уникальный пользователь — ``visitorid``. \n",
    "\n",
    "Уникальных дат, в которые были совершены заказы ``31`` от ``01.08.2019`` до ``30.08.2019``, столбец ``date`` .\n",
    "\n",
    "Значений в поле о выручке ``713``, столбец ``revenue``.\n",
    "\n",
    "Групп A/B-теста, в которую попал заказ ``2``, столбец ``group``."
   ]
  },
  {
   "cell_type": "code",
   "execution_count": 19,
   "metadata": {},
   "outputs": [
    {
     "name": "stdout",
     "output_type": "stream",
     "text": [
      "Столбец: date\n",
      "Количество пропусков: 0\n",
      "Количество уникальных значений: 31\n",
      "Столбец: group\n",
      "Количество пропусков: 0\n",
      "Количество уникальных значений: 2\n",
      "Столбец: visitors\n",
      "Количество пропусков: 0\n",
      "Количество уникальных значений: 58\n"
     ]
    }
   ],
   "source": [
    "data_isna_nuniq(visitors)"
   ]
  },
  {
   "cell_type": "markdown",
   "metadata": {},
   "source": [
    "Уникальных дат посещения ``31`` от ``01.08.2019`` до ``30.08.2019``, столбец ``date`` .\n",
    "\n",
    "Групп A/B-теста ``2``, столбец ``group``.\n",
    "\n",
    "Уникальных значений количества пользователей в указанную дату, в указанной группе A/B-теста ``58``, столбец ``visitors``."
   ]
  },
  {
   "cell_type": "markdown",
   "metadata": {},
   "source": [
    "<a id=\"num553\"></a>\n",
    "#### Проверка данных"
   ]
  },
  {
   "cell_type": "markdown",
   "metadata": {},
   "source": [
    "Проверим данные по таблицам более детально. "
   ]
  },
  {
   "cell_type": "markdown",
   "metadata": {},
   "source": [
    "<a id=\"num5531\"></a>\n",
    "##### Hypothesis"
   ]
  },
  {
   "cell_type": "code",
   "execution_count": 20,
   "metadata": {},
   "outputs": [
    {
     "data": {
      "text/html": [
       "<div>\n",
       "<style scoped>\n",
       "    .dataframe tbody tr th:only-of-type {\n",
       "        vertical-align: middle;\n",
       "    }\n",
       "\n",
       "    .dataframe tbody tr th {\n",
       "        vertical-align: top;\n",
       "    }\n",
       "\n",
       "    .dataframe thead th {\n",
       "        text-align: right;\n",
       "    }\n",
       "</style>\n",
       "<table border=\"1\" class=\"dataframe\">\n",
       "  <thead>\n",
       "    <tr style=\"text-align: right;\">\n",
       "      <th></th>\n",
       "      <th>hypothesis</th>\n",
       "      <th>reach</th>\n",
       "      <th>impact</th>\n",
       "      <th>confidence</th>\n",
       "      <th>efforts</th>\n",
       "    </tr>\n",
       "  </thead>\n",
       "  <tbody>\n",
       "    <tr>\n",
       "      <th>0</th>\n",
       "      <td>Добавить два новых канала привлечения трафика, что позволит привлекать на 30% больше пользователей</td>\n",
       "      <td>3</td>\n",
       "      <td>10</td>\n",
       "      <td>8</td>\n",
       "      <td>6</td>\n",
       "    </tr>\n",
       "    <tr>\n",
       "      <th>1</th>\n",
       "      <td>Запустить собственную службу доставки, что сократит срок доставки заказов</td>\n",
       "      <td>2</td>\n",
       "      <td>5</td>\n",
       "      <td>4</td>\n",
       "      <td>10</td>\n",
       "    </tr>\n",
       "    <tr>\n",
       "      <th>2</th>\n",
       "      <td>Добавить блоки рекомендаций товаров на сайт интернет магазина, чтобы повысить конверсию и средни...</td>\n",
       "      <td>8</td>\n",
       "      <td>3</td>\n",
       "      <td>7</td>\n",
       "      <td>3</td>\n",
       "    </tr>\n",
       "    <tr>\n",
       "      <th>3</th>\n",
       "      <td>Изменить структура категорий, что увеличит конверсию, т.к. пользователи быстрее найдут нужный товар</td>\n",
       "      <td>8</td>\n",
       "      <td>3</td>\n",
       "      <td>3</td>\n",
       "      <td>8</td>\n",
       "    </tr>\n",
       "    <tr>\n",
       "      <th>4</th>\n",
       "      <td>Изменить цвет фона главной страницы, чтобы увеличить вовлеченность пользователей</td>\n",
       "      <td>3</td>\n",
       "      <td>1</td>\n",
       "      <td>1</td>\n",
       "      <td>1</td>\n",
       "    </tr>\n",
       "    <tr>\n",
       "      <th>5</th>\n",
       "      <td>Добавить страницу отзывов клиентов о магазине, что позволит увеличить количество заказов</td>\n",
       "      <td>3</td>\n",
       "      <td>2</td>\n",
       "      <td>2</td>\n",
       "      <td>3</td>\n",
       "    </tr>\n",
       "    <tr>\n",
       "      <th>6</th>\n",
       "      <td>Показать на главной странице баннеры с актуальными акциями и распродажами, чтобы увеличить конве...</td>\n",
       "      <td>5</td>\n",
       "      <td>3</td>\n",
       "      <td>8</td>\n",
       "      <td>3</td>\n",
       "    </tr>\n",
       "    <tr>\n",
       "      <th>7</th>\n",
       "      <td>Добавить форму подписки на все основные страницы, чтобы собрать базу клиентов для email-рассылок</td>\n",
       "      <td>10</td>\n",
       "      <td>7</td>\n",
       "      <td>8</td>\n",
       "      <td>5</td>\n",
       "    </tr>\n",
       "    <tr>\n",
       "      <th>8</th>\n",
       "      <td>Запустить акцию, дающую скидку на товар в день рождения</td>\n",
       "      <td>1</td>\n",
       "      <td>9</td>\n",
       "      <td>9</td>\n",
       "      <td>5</td>\n",
       "    </tr>\n",
       "  </tbody>\n",
       "</table>\n",
       "</div>"
      ],
      "text/plain": [
       "                                                                                            hypothesis  \\\n",
       "0   Добавить два новых канала привлечения трафика, что позволит привлекать на 30% больше пользователей   \n",
       "1                            Запустить собственную службу доставки, что сократит срок доставки заказов   \n",
       "2  Добавить блоки рекомендаций товаров на сайт интернет магазина, чтобы повысить конверсию и средни...   \n",
       "3  Изменить структура категорий, что увеличит конверсию, т.к. пользователи быстрее найдут нужный товар   \n",
       "4                     Изменить цвет фона главной страницы, чтобы увеличить вовлеченность пользователей   \n",
       "5             Добавить страницу отзывов клиентов о магазине, что позволит увеличить количество заказов   \n",
       "6  Показать на главной странице баннеры с актуальными акциями и распродажами, чтобы увеличить конве...   \n",
       "7     Добавить форму подписки на все основные страницы, чтобы собрать базу клиентов для email-рассылок   \n",
       "8                                              Запустить акцию, дающую скидку на товар в день рождения   \n",
       "\n",
       "   reach  impact  confidence  efforts  \n",
       "0      3      10           8        6  \n",
       "1      2       5           4       10  \n",
       "2      8       3           7        3  \n",
       "3      8       3           3        8  \n",
       "4      3       1           1        1  \n",
       "5      3       2           2        3  \n",
       "6      5       3           8        3  \n",
       "7     10       7           8        5  \n",
       "8      1       9           9        5  "
      ]
     },
     "execution_count": 20,
     "metadata": {},
     "output_type": "execute_result"
    }
   ],
   "source": [
    "pd.set_option('max_colwidth', 100)\n",
    "hypothesis"
   ]
  },
  {
   "cell_type": "markdown",
   "metadata": {},
   "source": [
    "В таблице 9 не повторяющихся гипотез, со своими значениями reach, impact, confidence, efforts. "
   ]
  },
  {
   "cell_type": "markdown",
   "metadata": {},
   "source": [
    "<a id=\"num5532\"></a>\n",
    "##### Orders"
   ]
  },
  {
   "cell_type": "code",
   "execution_count": 21,
   "metadata": {},
   "outputs": [
    {
     "data": {
      "text/html": [
       "<div>\n",
       "<style scoped>\n",
       "    .dataframe tbody tr th:only-of-type {\n",
       "        vertical-align: middle;\n",
       "    }\n",
       "\n",
       "    .dataframe tbody tr th {\n",
       "        vertical-align: top;\n",
       "    }\n",
       "\n",
       "    .dataframe thead th {\n",
       "        text-align: right;\n",
       "    }\n",
       "</style>\n",
       "<table border=\"1\" class=\"dataframe\">\n",
       "  <thead>\n",
       "    <tr style=\"text-align: right;\">\n",
       "      <th></th>\n",
       "      <th>transactionid</th>\n",
       "      <th>visitorid</th>\n",
       "      <th>date</th>\n",
       "      <th>revenue</th>\n",
       "      <th>group</th>\n",
       "    </tr>\n",
       "  </thead>\n",
       "  <tbody>\n",
       "    <tr>\n",
       "      <th>0</th>\n",
       "      <td>3667963787</td>\n",
       "      <td>3312258926</td>\n",
       "      <td>2019-08-15</td>\n",
       "      <td>1650</td>\n",
       "      <td>B</td>\n",
       "    </tr>\n",
       "    <tr>\n",
       "      <th>1</th>\n",
       "      <td>2804400009</td>\n",
       "      <td>3642806036</td>\n",
       "      <td>2019-08-15</td>\n",
       "      <td>730</td>\n",
       "      <td>B</td>\n",
       "    </tr>\n",
       "    <tr>\n",
       "      <th>2</th>\n",
       "      <td>2961555356</td>\n",
       "      <td>4069496402</td>\n",
       "      <td>2019-08-15</td>\n",
       "      <td>400</td>\n",
       "      <td>A</td>\n",
       "    </tr>\n",
       "    <tr>\n",
       "      <th>3</th>\n",
       "      <td>3797467345</td>\n",
       "      <td>1196621759</td>\n",
       "      <td>2019-08-15</td>\n",
       "      <td>9759</td>\n",
       "      <td>B</td>\n",
       "    </tr>\n",
       "    <tr>\n",
       "      <th>4</th>\n",
       "      <td>2282983706</td>\n",
       "      <td>2322279887</td>\n",
       "      <td>2019-08-15</td>\n",
       "      <td>2308</td>\n",
       "      <td>B</td>\n",
       "    </tr>\n",
       "  </tbody>\n",
       "</table>\n",
       "</div>"
      ],
      "text/plain": [
       "   transactionid   visitorid       date  revenue group\n",
       "0     3667963787  3312258926 2019-08-15     1650     B\n",
       "1     2804400009  3642806036 2019-08-15      730     B\n",
       "2     2961555356  4069496402 2019-08-15      400     A\n",
       "3     3797467345  1196621759 2019-08-15     9759     B\n",
       "4     2282983706  2322279887 2019-08-15     2308     B"
      ]
     },
     "execution_count": 21,
     "metadata": {},
     "output_type": "execute_result"
    }
   ],
   "source": [
    "orders.head(5)"
   ]
  },
  {
   "cell_type": "code",
   "execution_count": 22,
   "metadata": {},
   "outputs": [
    {
     "data": {
      "image/png": "[encoded data removed]"
     },
     "metadata": {},
     "output_type": "display_data"
    }
   ],
   "source": [
    "fig = px.bar(orders.groupby('group')['visitorid']\n",
    "             .count()\n",
    "             .reset_index()\n",
    "             .rename(columns={\n",
    "                 'group': 'Группа', \n",
    "                 'visitorid': 'Количество'}), \n",
    "             y='Количество', \n",
    "             x='Группа', \n",
    "             color='Группа', \n",
    "             color_discrete_sequence=[colors[0], colors[7]],\n",
    "             title='Распределение долей пользователей с подпиской и без',        \n",
    "             barmode='group',\n",
    "             text='Количество'\n",
    "            )\n",
    "\n",
    "fig.update_traces(texttemplate='%{text}', textposition='inside')\n",
    "fig.update_layout(showlegend=True, legend_title='Группы',\n",
    "                  plot_bgcolor='AliceBlue',\n",
    "                  margin={\"r\": 0, \"t\": 50, \"l\": 0, \"b\": 50})\n",
    "fig.show()"
   ]
  },
  {
   "cell_type": "markdown",
   "metadata": {},
   "source": [
    "Желательно, чтобы группы А и B были одинаковыми. Посмотрим, что может влиять на такую разницу."
   ]
  },
  {
   "cell_type": "markdown",
   "metadata": {},
   "source": [
    "Проверим дублирование записей о пользователях. "
   ]
  },
  {
   "cell_type": "code",
   "execution_count": 23,
   "metadata": {},
   "outputs": [
    {
     "data": {
      "text/html": [
       "<div>\n",
       "<style scoped>\n",
       "    .dataframe tbody tr th:only-of-type {\n",
       "        vertical-align: middle;\n",
       "    }\n",
       "\n",
       "    .dataframe tbody tr th {\n",
       "        vertical-align: top;\n",
       "    }\n",
       "\n",
       "    .dataframe thead th {\n",
       "        text-align: right;\n",
       "    }\n",
       "</style>\n",
       "<table border=\"1\" class=\"dataframe\">\n",
       "  <thead>\n",
       "    <tr style=\"text-align: right;\">\n",
       "      <th></th>\n",
       "      <th>transactionid</th>\n",
       "      <th>visitorid</th>\n",
       "      <th>date</th>\n",
       "      <th>revenue</th>\n",
       "      <th>group</th>\n",
       "    </tr>\n",
       "  </thead>\n",
       "  <tbody>\n",
       "    <tr>\n",
       "      <th>71</th>\n",
       "      <td>3679129301</td>\n",
       "      <td>8300375</td>\n",
       "      <td>2019-08-01</td>\n",
       "      <td>10510</td>\n",
       "      <td>B</td>\n",
       "    </tr>\n",
       "    <tr>\n",
       "      <th>703</th>\n",
       "      <td>4293855558</td>\n",
       "      <td>8300375</td>\n",
       "      <td>2019-08-07</td>\n",
       "      <td>1790</td>\n",
       "      <td>A</td>\n",
       "    </tr>\n",
       "    <tr>\n",
       "      <th>1102</th>\n",
       "      <td>1941707234</td>\n",
       "      <td>199603092</td>\n",
       "      <td>2019-08-12</td>\n",
       "      <td>6438</td>\n",
       "      <td>A</td>\n",
       "    </tr>\n",
       "    <tr>\n",
       "      <th>823</th>\n",
       "      <td>2971973105</td>\n",
       "      <td>199603092</td>\n",
       "      <td>2019-08-27</td>\n",
       "      <td>2790</td>\n",
       "      <td>A</td>\n",
       "    </tr>\n",
       "    <tr>\n",
       "      <th>134</th>\n",
       "      <td>62794304</td>\n",
       "      <td>199603092</td>\n",
       "      <td>2019-08-22</td>\n",
       "      <td>6976</td>\n",
       "      <td>A</td>\n",
       "    </tr>\n",
       "    <tr>\n",
       "      <th>...</th>\n",
       "      <td>...</td>\n",
       "      <td>...</td>\n",
       "      <td>...</td>\n",
       "      <td>...</td>\n",
       "      <td>...</td>\n",
       "    </tr>\n",
       "    <tr>\n",
       "      <th>1019</th>\n",
       "      <td>453824282</td>\n",
       "      <td>4256040402</td>\n",
       "      <td>2019-08-31</td>\n",
       "      <td>1850</td>\n",
       "      <td>B</td>\n",
       "    </tr>\n",
       "    <tr>\n",
       "      <th>253</th>\n",
       "      <td>1610091760</td>\n",
       "      <td>4256040402</td>\n",
       "      <td>2019-08-23</td>\n",
       "      <td>16950</td>\n",
       "      <td>A</td>\n",
       "    </tr>\n",
       "    <tr>\n",
       "      <th>263</th>\n",
       "      <td>2575861846</td>\n",
       "      <td>4256040402</td>\n",
       "      <td>2019-08-18</td>\n",
       "      <td>10970</td>\n",
       "      <td>B</td>\n",
       "    </tr>\n",
       "    <tr>\n",
       "      <th>682</th>\n",
       "      <td>1216533772</td>\n",
       "      <td>4266935830</td>\n",
       "      <td>2019-08-29</td>\n",
       "      <td>78990</td>\n",
       "      <td>B</td>\n",
       "    </tr>\n",
       "    <tr>\n",
       "      <th>662</th>\n",
       "      <td>1811671147</td>\n",
       "      <td>4266935830</td>\n",
       "      <td>2019-08-29</td>\n",
       "      <td>78990</td>\n",
       "      <td>A</td>\n",
       "    </tr>\n",
       "  </tbody>\n",
       "</table>\n",
       "<p>260 rows × 5 columns</p>\n",
       "</div>"
      ],
      "text/plain": [
       "      transactionid   visitorid       date  revenue group\n",
       "71       3679129301     8300375 2019-08-01    10510     B\n",
       "703      4293855558     8300375 2019-08-07     1790     A\n",
       "1102     1941707234   199603092 2019-08-12     6438     A\n",
       "823      2971973105   199603092 2019-08-27     2790     A\n",
       "134        62794304   199603092 2019-08-22     6976     A\n",
       "...             ...         ...        ...      ...   ...\n",
       "1019      453824282  4256040402 2019-08-31     1850     B\n",
       "253      1610091760  4256040402 2019-08-23    16950     A\n",
       "263      2575861846  4256040402 2019-08-18    10970     B\n",
       "682      1216533772  4266935830 2019-08-29    78990     B\n",
       "662      1811671147  4266935830 2019-08-29    78990     A\n",
       "\n",
       "[260 rows x 5 columns]"
      ]
     },
     "execution_count": 23,
     "metadata": {},
     "output_type": "execute_result"
    }
   ],
   "source": [
    "orders[orders.duplicated(subset=['visitorid'], keep=False)].sort_values(by='visitorid')"
   ]
  },
  {
   "cell_type": "markdown",
   "metadata": {},
   "source": [
    "В данных найдено 260 строк с дублирующимися пользователями. Часть из пользователей попала в одну группу теста, но в один день зафиксировано несколько транзакций от них. Часть пользователей попала __в обе группы теста__. "
   ]
  },
  {
   "cell_type": "markdown",
   "metadata": {},
   "source": [
    "Проверим пользователей, которые попали в обе группы теста. "
   ]
  },
  {
   "cell_type": "code",
   "execution_count": 24,
   "metadata": {},
   "outputs": [
    {
     "data": {
      "text/plain": [
       "58"
      ]
     },
     "metadata": {},
     "output_type": "display_data"
    }
   ],
   "source": [
    "matching_visitors = uniq(orders)"
   ]
  },
  {
   "cell_type": "markdown",
   "metadata": {},
   "source": [
    "58 пользователей попали в обе группы теста. "
   ]
  },
  {
   "cell_type": "markdown",
   "metadata": {},
   "source": [
    "Чтобы исключить влияние на результат, не будем использовать данные пользователей, которые попали в обе группы. Будем использовать данные убрав такие записи. "
   ]
  },
  {
   "cell_type": "code",
   "execution_count": 25,
   "metadata": {},
   "outputs": [],
   "source": [
    "orders_fixed = orders.query('visitorid not in @matching_visitors')"
   ]
  },
  {
   "cell_type": "markdown",
   "metadata": {},
   "source": [
    "В таблице остались только пользователи, которые находятся строго в одной группе. "
   ]
  },
  {
   "cell_type": "code",
   "execution_count": 26,
   "metadata": {},
   "outputs": [
    {
     "data": {
      "text/plain": [
       "0"
      ]
     },
     "metadata": {},
     "output_type": "display_data"
    },
    {
     "data": {
      "text/plain": [
       "Series([], Name: visitorid, dtype: int64)"
      ]
     },
     "execution_count": 26,
     "metadata": {},
     "output_type": "execute_result"
    }
   ],
   "source": [
    "uniq(orders_fixed)"
   ]
  },
  {
   "cell_type": "markdown",
   "metadata": {},
   "source": [
    "Пользоватаелей, которые попали в обе группы теста больше нет в данных. Пользователи, которые несколько раз за один день совершали транзакции — в данных остались, так как не представляют проблемы, вполне естественно, что за один день может быть несколько заказов от одного пользователя. "
   ]
  },
  {
   "cell_type": "code",
   "execution_count": 27,
   "metadata": {},
   "outputs": [
    {
     "data": {
      "text/plain": [
       "group\n",
       "A    468\n",
       "B    548\n",
       "Name: visitorid, dtype: int64"
      ]
     },
     "execution_count": 27,
     "metadata": {},
     "output_type": "execute_result"
    }
   ],
   "source": [
    "orders_fixed.groupby('group')['visitorid'].count()"
   ]
  },
  {
   "cell_type": "markdown",
   "metadata": {},
   "source": [
    "Количество пользователей в тесте уменьшилось, но они все равно представлены не в равных частях. В идеальных условиях теста количество пользователей в группах должно быть одинаковым. \n",
    "\n",
    "В группе ``А`` — ``468`` пользователей. \n",
    "\n",
    "В группе ``В`` — ``548`` пользователей."
   ]
  },
  {
   "cell_type": "markdown",
   "metadata": {},
   "source": [
    "Разница между группами порядка ``14.6%``. Но, так как невозможно привести к равному количеству пользователей в группах не нарушив результаты исследования, не будем уравнивать группы по количеству."
   ]
  },
  {
   "cell_type": "markdown",
   "metadata": {},
   "source": [
    "<a id=\"num5533\"></a>\n",
    "##### Visitors"
   ]
  },
  {
   "cell_type": "code",
   "execution_count": 28,
   "metadata": {},
   "outputs": [
    {
     "data": {
      "text/html": [
       "<div>\n",
       "<style scoped>\n",
       "    .dataframe tbody tr th:only-of-type {\n",
       "        vertical-align: middle;\n",
       "    }\n",
       "\n",
       "    .dataframe tbody tr th {\n",
       "        vertical-align: top;\n",
       "    }\n",
       "\n",
       "    .dataframe thead th {\n",
       "        text-align: right;\n",
       "    }\n",
       "</style>\n",
       "<table border=\"1\" class=\"dataframe\">\n",
       "  <thead>\n",
       "    <tr style=\"text-align: right;\">\n",
       "      <th></th>\n",
       "      <th>date</th>\n",
       "      <th>group</th>\n",
       "      <th>visitors</th>\n",
       "    </tr>\n",
       "  </thead>\n",
       "  <tbody>\n",
       "    <tr>\n",
       "      <th>0</th>\n",
       "      <td>2019-08-01</td>\n",
       "      <td>A</td>\n",
       "      <td>719</td>\n",
       "    </tr>\n",
       "    <tr>\n",
       "      <th>1</th>\n",
       "      <td>2019-08-02</td>\n",
       "      <td>A</td>\n",
       "      <td>619</td>\n",
       "    </tr>\n",
       "    <tr>\n",
       "      <th>2</th>\n",
       "      <td>2019-08-03</td>\n",
       "      <td>A</td>\n",
       "      <td>507</td>\n",
       "    </tr>\n",
       "    <tr>\n",
       "      <th>3</th>\n",
       "      <td>2019-08-04</td>\n",
       "      <td>A</td>\n",
       "      <td>717</td>\n",
       "    </tr>\n",
       "    <tr>\n",
       "      <th>4</th>\n",
       "      <td>2019-08-05</td>\n",
       "      <td>A</td>\n",
       "      <td>756</td>\n",
       "    </tr>\n",
       "    <tr>\n",
       "      <th>...</th>\n",
       "      <td>...</td>\n",
       "      <td>...</td>\n",
       "      <td>...</td>\n",
       "    </tr>\n",
       "    <tr>\n",
       "      <th>57</th>\n",
       "      <td>2019-08-27</td>\n",
       "      <td>B</td>\n",
       "      <td>720</td>\n",
       "    </tr>\n",
       "    <tr>\n",
       "      <th>58</th>\n",
       "      <td>2019-08-28</td>\n",
       "      <td>B</td>\n",
       "      <td>654</td>\n",
       "    </tr>\n",
       "    <tr>\n",
       "      <th>59</th>\n",
       "      <td>2019-08-29</td>\n",
       "      <td>B</td>\n",
       "      <td>531</td>\n",
       "    </tr>\n",
       "    <tr>\n",
       "      <th>60</th>\n",
       "      <td>2019-08-30</td>\n",
       "      <td>B</td>\n",
       "      <td>490</td>\n",
       "    </tr>\n",
       "    <tr>\n",
       "      <th>61</th>\n",
       "      <td>2019-08-31</td>\n",
       "      <td>B</td>\n",
       "      <td>718</td>\n",
       "    </tr>\n",
       "  </tbody>\n",
       "</table>\n",
       "<p>62 rows × 3 columns</p>\n",
       "</div>"
      ],
      "text/plain": [
       "         date group  visitors\n",
       "0  2019-08-01     A       719\n",
       "1  2019-08-02     A       619\n",
       "2  2019-08-03     A       507\n",
       "3  2019-08-04     A       717\n",
       "4  2019-08-05     A       756\n",
       "..        ...   ...       ...\n",
       "57 2019-08-27     B       720\n",
       "58 2019-08-28     B       654\n",
       "59 2019-08-29     B       531\n",
       "60 2019-08-30     B       490\n",
       "61 2019-08-31     B       718\n",
       "\n",
       "[62 rows x 3 columns]"
      ]
     },
     "execution_count": 28,
     "metadata": {},
     "output_type": "execute_result"
    }
   ],
   "source": [
    "visitors"
   ]
  },
  {
   "cell_type": "code",
   "execution_count": 29,
   "metadata": {},
   "outputs": [
    {
     "data": {
      "text/plain": [
       "group\n",
       "A    31\n",
       "B    31\n",
       "Name: date, dtype: int64"
      ]
     },
     "execution_count": 29,
     "metadata": {},
     "output_type": "execute_result"
    }
   ],
   "source": [
    "visitors.groupby('group')['date'].count()"
   ]
  },
  {
   "cell_type": "markdown",
   "metadata": {},
   "source": [
    "По датам результаты теста представлены верно, результаты для обоих тестов есть для каждой указанной даты. Каких-либо особых действий тут не требуется."
   ]
  },
  {
   "cell_type": "markdown",
   "metadata": {},
   "source": [
    "<a id=\"num6\"></a>\n",
    "## Исследование"
   ]
  },
  {
   "cell_type": "markdown",
   "metadata": {},
   "source": [
    "<a id=\"num61\"></a>\n",
    "### Приоритизация гипотез"
   ]
  },
  {
   "cell_type": "markdown",
   "metadata": {},
   "source": [
    "<a id=\"num611\"></a>\n",
    "#### ICE"
   ]
  },
  {
   "cell_type": "code",
   "execution_count": 30,
   "metadata": {},
   "outputs": [],
   "source": [
    "pd.set_option('max_colwidth', 150)"
   ]
  },
  {
   "cell_type": "code",
   "execution_count": 31,
   "metadata": {},
   "outputs": [],
   "source": [
    "hypothesis['ICE'] = ((hypothesis['impact'] * hypothesis['confidence']) / hypothesis['efforts']).round(2)"
   ]
  },
  {
   "cell_type": "markdown",
   "metadata": {},
   "source": [
    "При ``ICE`` топ-3 гипотезы:\n",
    "- 8 — __«Запустить акцию, дающую скидку на товар в день рождения»:__\n",
    "    - ``impact`` — 9, \n",
    "    - ``confidence`` — 9, \n",
    "    - ``efforts`` — 5;\n",
    "- 0 — __«Добавить два новых канала привлечения трафика, что позволит привлекать на 30% больше пользователей»:__ \n",
    "    - ``impact`` — 10, \n",
    "    - ``confidence`` — 8, \n",
    "    - ``efforts`` — 6;\n",
    "- 7 — __«Добавить форму подписки на все основные страницы, чтобы собрать базу клиентов для email-рассылок»:__\n",
    "    - ``impact`` — 7, \n",
    "    - ``confidence`` — 8, \n",
    "    - ``efforts`` — 5;"
   ]
  },
  {
   "cell_type": "markdown",
   "metadata": {},
   "source": [
    "При ``ICE`` наиболее перспективные гипотезы: \n",
    "- ``8 — «Запустить акцию, дающую скидку на товар в день рождения»``, \n",
    "- ``0 — «Добавить два новых канала привлечения трафика, что позволит привлекать на 30% больше пользователей»``, \n",
    "- ``7 — «Добавить форму подписки на все основные страницы, чтобы собрать базу клиентов для email-рассылок»``. \n",
    "\n",
    "Гипотезы были выбраны по довольно внушительным значениям __влияния__(impact — от 7 до 10) и __уверенности__(confidence — от 8 до 9), хоть и __усилия__(efforts) для проверки этих гипотез не самые малые(от 5 до 6). \n",
    "Можно заметить, что при ICE в приоритет попали гипотезы с макисмальным влиянием из всех остальных гипотез. "
   ]
  },
  {
   "cell_type": "markdown",
   "metadata": {},
   "source": [
    "<a id=\"num612\"></a>\n",
    "#### RICE"
   ]
  },
  {
   "cell_type": "code",
   "execution_count": 32,
   "metadata": {},
   "outputs": [],
   "source": [
    "hypothesis['RICE'] = (hypothesis['reach'] * hypothesis['impact'] * hypothesis['confidence']) / hypothesis['efforts']"
   ]
  },
  {
   "cell_type": "markdown",
   "metadata": {},
   "source": [
    "При ``RICE`` топ-3 гипотезы:\n",
    "- __«Добавить форму подписки на все основные страницы, чтобы собрать базу клиентов для email-рассылок»:__\n",
    "    - ``reach`` — 10, \n",
    "    - ``impact`` — 7, \n",
    "    - ``confidence`` — 8, \n",
    "    - ``efforts`` — 5;\n",
    "- __«Добавить блоки рекомендаций товаров на сайт интернет магазина, чтобы повысить конверсию и средний чек заказа»:__\n",
    "    - ``reach`` — 8, \n",
    "    - ``impact`` — 3, \n",
    "    - ``confidence`` — 7, \n",
    "    - ``efforts`` — 3;\n",
    "- __«Добавить два новых канала привлечения трафика, что позволит привлекать на 30% больше пользователей»:__\n",
    "    - ``reach`` — 3, \n",
    "    - ``impact`` — 10, \n",
    "    - ``confidence`` — 8, \n",
    "    - ``efforts`` — 6;\n",
    "\n",
    "При ``RICE`` распределение приоритетов немного сместилось, в топе уже не удерживаются гипотезы с каким-то одним преобладающим значением. "
   ]
  },
  {
   "cell_type": "markdown",
   "metadata": {},
   "source": [
    "<a id=\"num613\"></a>\n",
    "#### Анализ результатов между ICE и RICE"
   ]
  },
  {
   "cell_type": "code",
   "execution_count": 33,
   "metadata": {},
   "outputs": [
    {
     "data": {
      "text/html": [
       "<div>\n",
       "<style scoped>\n",
       "    .dataframe tbody tr th:only-of-type {\n",
       "        vertical-align: middle;\n",
       "    }\n",
       "\n",
       "    .dataframe tbody tr th {\n",
       "        vertical-align: top;\n",
       "    }\n",
       "\n",
       "    .dataframe thead th {\n",
       "        text-align: right;\n",
       "    }\n",
       "</style>\n",
       "<table border=\"1\" class=\"dataframe\">\n",
       "  <thead>\n",
       "    <tr style=\"text-align: right;\">\n",
       "      <th></th>\n",
       "      <th>hypothesis</th>\n",
       "      <th>reach</th>\n",
       "      <th>impact</th>\n",
       "      <th>confidence</th>\n",
       "      <th>efforts</th>\n",
       "      <th>ICE</th>\n",
       "      <th>RICE</th>\n",
       "    </tr>\n",
       "  </thead>\n",
       "  <tbody>\n",
       "    <tr>\n",
       "      <th>8</th>\n",
       "      <td>Запустить акцию, дающую скидку на товар в день рождения</td>\n",
       "      <td>1</td>\n",
       "      <td>9</td>\n",
       "      <td>9</td>\n",
       "      <td>5</td>\n",
       "      <td>16.20</td>\n",
       "      <td>16.2</td>\n",
       "    </tr>\n",
       "    <tr>\n",
       "      <th>0</th>\n",
       "      <td>Добавить два новых канала привлечения трафика, что позволит привлекать на 30% больше пользователей</td>\n",
       "      <td>3</td>\n",
       "      <td>10</td>\n",
       "      <td>8</td>\n",
       "      <td>6</td>\n",
       "      <td>13.33</td>\n",
       "      <td>40.0</td>\n",
       "    </tr>\n",
       "    <tr>\n",
       "      <th>7</th>\n",
       "      <td>Добавить форму подписки на все основные страницы, чтобы собрать базу клиентов для email-рассылок</td>\n",
       "      <td>10</td>\n",
       "      <td>7</td>\n",
       "      <td>8</td>\n",
       "      <td>5</td>\n",
       "      <td>11.20</td>\n",
       "      <td>112.0</td>\n",
       "    </tr>\n",
       "    <tr>\n",
       "      <th>6</th>\n",
       "      <td>Показать на главной странице баннеры с актуальными акциями и распродажами, чтобы увеличить конверсию</td>\n",
       "      <td>5</td>\n",
       "      <td>3</td>\n",
       "      <td>8</td>\n",
       "      <td>3</td>\n",
       "      <td>8.00</td>\n",
       "      <td>40.0</td>\n",
       "    </tr>\n",
       "    <tr>\n",
       "      <th>2</th>\n",
       "      <td>Добавить блоки рекомендаций товаров на сайт интернет магазина, чтобы повысить конверсию и средний чек заказа</td>\n",
       "      <td>8</td>\n",
       "      <td>3</td>\n",
       "      <td>7</td>\n",
       "      <td>3</td>\n",
       "      <td>7.00</td>\n",
       "      <td>56.0</td>\n",
       "    </tr>\n",
       "    <tr>\n",
       "      <th>1</th>\n",
       "      <td>Запустить собственную службу доставки, что сократит срок доставки заказов</td>\n",
       "      <td>2</td>\n",
       "      <td>5</td>\n",
       "      <td>4</td>\n",
       "      <td>10</td>\n",
       "      <td>2.00</td>\n",
       "      <td>4.0</td>\n",
       "    </tr>\n",
       "    <tr>\n",
       "      <th>5</th>\n",
       "      <td>Добавить страницу отзывов клиентов о магазине, что позволит увеличить количество заказов</td>\n",
       "      <td>3</td>\n",
       "      <td>2</td>\n",
       "      <td>2</td>\n",
       "      <td>3</td>\n",
       "      <td>1.33</td>\n",
       "      <td>4.0</td>\n",
       "    </tr>\n",
       "    <tr>\n",
       "      <th>3</th>\n",
       "      <td>Изменить структура категорий, что увеличит конверсию, т.к. пользователи быстрее найдут нужный товар</td>\n",
       "      <td>8</td>\n",
       "      <td>3</td>\n",
       "      <td>3</td>\n",
       "      <td>8</td>\n",
       "      <td>1.12</td>\n",
       "      <td>9.0</td>\n",
       "    </tr>\n",
       "    <tr>\n",
       "      <th>4</th>\n",
       "      <td>Изменить цвет фона главной страницы, чтобы увеличить вовлеченность пользователей</td>\n",
       "      <td>3</td>\n",
       "      <td>1</td>\n",
       "      <td>1</td>\n",
       "      <td>1</td>\n",
       "      <td>1.00</td>\n",
       "      <td>3.0</td>\n",
       "    </tr>\n",
       "  </tbody>\n",
       "</table>\n",
       "</div>"
      ],
      "text/plain": [
       "                                                                                                     hypothesis  \\\n",
       "8                                                       Запустить акцию, дающую скидку на товар в день рождения   \n",
       "0            Добавить два новых канала привлечения трафика, что позволит привлекать на 30% больше пользователей   \n",
       "7              Добавить форму подписки на все основные страницы, чтобы собрать базу клиентов для email-рассылок   \n",
       "6          Показать на главной странице баннеры с актуальными акциями и распродажами, чтобы увеличить конверсию   \n",
       "2  Добавить блоки рекомендаций товаров на сайт интернет магазина, чтобы повысить конверсию и средний чек заказа   \n",
       "1                                     Запустить собственную службу доставки, что сократит срок доставки заказов   \n",
       "5                      Добавить страницу отзывов клиентов о магазине, что позволит увеличить количество заказов   \n",
       "3           Изменить структура категорий, что увеличит конверсию, т.к. пользователи быстрее найдут нужный товар   \n",
       "4                              Изменить цвет фона главной страницы, чтобы увеличить вовлеченность пользователей   \n",
       "\n",
       "   reach  impact  confidence  efforts    ICE   RICE  \n",
       "8      1       9           9        5  16.20   16.2  \n",
       "0      3      10           8        6  13.33   40.0  \n",
       "7     10       7           8        5  11.20  112.0  \n",
       "6      5       3           8        3   8.00   40.0  \n",
       "2      8       3           7        3   7.00   56.0  \n",
       "1      2       5           4       10   2.00    4.0  \n",
       "5      3       2           2        3   1.33    4.0  \n",
       "3      8       3           3        8   1.12    9.0  \n",
       "4      3       1           1        1   1.00    3.0  "
      ]
     },
     "metadata": {},
     "output_type": "display_data"
    },
    {
     "data": {
      "text/html": [
       "<div>\n",
       "<style scoped>\n",
       "    .dataframe tbody tr th:only-of-type {\n",
       "        vertical-align: middle;\n",
       "    }\n",
       "\n",
       "    .dataframe tbody tr th {\n",
       "        vertical-align: top;\n",
       "    }\n",
       "\n",
       "    .dataframe thead th {\n",
       "        text-align: right;\n",
       "    }\n",
       "</style>\n",
       "<table border=\"1\" class=\"dataframe\">\n",
       "  <thead>\n",
       "    <tr style=\"text-align: right;\">\n",
       "      <th></th>\n",
       "      <th>hypothesis</th>\n",
       "      <th>reach</th>\n",
       "      <th>impact</th>\n",
       "      <th>confidence</th>\n",
       "      <th>efforts</th>\n",
       "      <th>ICE</th>\n",
       "      <th>RICE</th>\n",
       "    </tr>\n",
       "  </thead>\n",
       "  <tbody>\n",
       "    <tr>\n",
       "      <th>7</th>\n",
       "      <td>Добавить форму подписки на все основные страницы, чтобы собрать базу клиентов для email-рассылок</td>\n",
       "      <td>10</td>\n",
       "      <td>7</td>\n",
       "      <td>8</td>\n",
       "      <td>5</td>\n",
       "      <td>11.20</td>\n",
       "      <td>112.0</td>\n",
       "    </tr>\n",
       "    <tr>\n",
       "      <th>2</th>\n",
       "      <td>Добавить блоки рекомендаций товаров на сайт интернет магазина, чтобы повысить конверсию и средний чек заказа</td>\n",
       "      <td>8</td>\n",
       "      <td>3</td>\n",
       "      <td>7</td>\n",
       "      <td>3</td>\n",
       "      <td>7.00</td>\n",
       "      <td>56.0</td>\n",
       "    </tr>\n",
       "    <tr>\n",
       "      <th>0</th>\n",
       "      <td>Добавить два новых канала привлечения трафика, что позволит привлекать на 30% больше пользователей</td>\n",
       "      <td>3</td>\n",
       "      <td>10</td>\n",
       "      <td>8</td>\n",
       "      <td>6</td>\n",
       "      <td>13.33</td>\n",
       "      <td>40.0</td>\n",
       "    </tr>\n",
       "    <tr>\n",
       "      <th>6</th>\n",
       "      <td>Показать на главной странице баннеры с актуальными акциями и распродажами, чтобы увеличить конверсию</td>\n",
       "      <td>5</td>\n",
       "      <td>3</td>\n",
       "      <td>8</td>\n",
       "      <td>3</td>\n",
       "      <td>8.00</td>\n",
       "      <td>40.0</td>\n",
       "    </tr>\n",
       "    <tr>\n",
       "      <th>8</th>\n",
       "      <td>Запустить акцию, дающую скидку на товар в день рождения</td>\n",
       "      <td>1</td>\n",
       "      <td>9</td>\n",
       "      <td>9</td>\n",
       "      <td>5</td>\n",
       "      <td>16.20</td>\n",
       "      <td>16.2</td>\n",
       "    </tr>\n",
       "    <tr>\n",
       "      <th>3</th>\n",
       "      <td>Изменить структура категорий, что увеличит конверсию, т.к. пользователи быстрее найдут нужный товар</td>\n",
       "      <td>8</td>\n",
       "      <td>3</td>\n",
       "      <td>3</td>\n",
       "      <td>8</td>\n",
       "      <td>1.12</td>\n",
       "      <td>9.0</td>\n",
       "    </tr>\n",
       "    <tr>\n",
       "      <th>1</th>\n",
       "      <td>Запустить собственную службу доставки, что сократит срок доставки заказов</td>\n",
       "      <td>2</td>\n",
       "      <td>5</td>\n",
       "      <td>4</td>\n",
       "      <td>10</td>\n",
       "      <td>2.00</td>\n",
       "      <td>4.0</td>\n",
       "    </tr>\n",
       "    <tr>\n",
       "      <th>5</th>\n",
       "      <td>Добавить страницу отзывов клиентов о магазине, что позволит увеличить количество заказов</td>\n",
       "      <td>3</td>\n",
       "      <td>2</td>\n",
       "      <td>2</td>\n",
       "      <td>3</td>\n",
       "      <td>1.33</td>\n",
       "      <td>4.0</td>\n",
       "    </tr>\n",
       "    <tr>\n",
       "      <th>4</th>\n",
       "      <td>Изменить цвет фона главной страницы, чтобы увеличить вовлеченность пользователей</td>\n",
       "      <td>3</td>\n",
       "      <td>1</td>\n",
       "      <td>1</td>\n",
       "      <td>1</td>\n",
       "      <td>1.00</td>\n",
       "      <td>3.0</td>\n",
       "    </tr>\n",
       "  </tbody>\n",
       "</table>\n",
       "</div>"
      ],
      "text/plain": [
       "                                                                                                     hypothesis  \\\n",
       "7              Добавить форму подписки на все основные страницы, чтобы собрать базу клиентов для email-рассылок   \n",
       "2  Добавить блоки рекомендаций товаров на сайт интернет магазина, чтобы повысить конверсию и средний чек заказа   \n",
       "0            Добавить два новых канала привлечения трафика, что позволит привлекать на 30% больше пользователей   \n",
       "6          Показать на главной странице баннеры с актуальными акциями и распродажами, чтобы увеличить конверсию   \n",
       "8                                                       Запустить акцию, дающую скидку на товар в день рождения   \n",
       "3           Изменить структура категорий, что увеличит конверсию, т.к. пользователи быстрее найдут нужный товар   \n",
       "1                                     Запустить собственную службу доставки, что сократит срок доставки заказов   \n",
       "5                      Добавить страницу отзывов клиентов о магазине, что позволит увеличить количество заказов   \n",
       "4                              Изменить цвет фона главной страницы, чтобы увеличить вовлеченность пользователей   \n",
       "\n",
       "   reach  impact  confidence  efforts    ICE   RICE  \n",
       "7     10       7           8        5  11.20  112.0  \n",
       "2      8       3           7        3   7.00   56.0  \n",
       "0      3      10           8        6  13.33   40.0  \n",
       "6      5       3           8        3   8.00   40.0  \n",
       "8      1       9           9        5  16.20   16.2  \n",
       "3      8       3           3        8   1.12    9.0  \n",
       "1      2       5           4       10   2.00    4.0  \n",
       "5      3       2           2        3   1.33    4.0  \n",
       "4      3       1           1        1   1.00    3.0  "
      ]
     },
     "metadata": {},
     "output_type": "display_data"
    }
   ],
   "source": [
    "display(hypothesis.sort_values(by='ICE', ascending=False))\n",
    "display(hypothesis.sort_values(by='RICE', ascending=False))"
   ]
  },
  {
   "cell_type": "markdown",
   "metadata": {},
   "source": [
    "В зависимости от применения каждого фреймворка, приоритизация гипотез меняется.\n",
    "\n",
    "Единственным пересечением гипотез являются гипотезы ``0`` — __«Добавить два новых канала привлечения трафика, что позволит привлекать на 30% больше пользователей»__ и гипотеза ``7`` — __«Добавить форму подписки на все основные страницы, чтобы собрать базу клиентов для email-рассылок»__."
   ]
  },
  {
   "cell_type": "markdown",
   "metadata": {},
   "source": [
    "Из приведенных гипотез, гипотеза ``8`` — о запуске акции со скидкой на день рождения, и гипотеза ``0`` — о добавлении двух новых каналов привлечении трафика, имеют самые высокие коэффициенты по показателям ``impact`` и ``confidence``, а затраты на проверку — средние. \n",
    "\n",
    "При подсчете показателя ``ICE`` обе гипотезы стояли в приоритете проверки. \n",
    "\n",
    "При подсчете показателя ``RICE`` гипотеза ``8`` оказалась не в приоритете проверки. Не смотря на то, что прочие коэффициенты большие, охват предполагается минимальный, таким образом эту гипотезу стоит проверить, но не в первую очередь.  "
   ]
  },
  {
   "cell_type": "markdown",
   "metadata": {},
   "source": [
    "При введении дополнительного коэффициента охвата, приоритет гипотез поменялся. Если предполагается, что гипотеза будет задевать большое количество пользователей, ее приоритет может измениться на более высокий. "
   ]
  },
  {
   "cell_type": "markdown",
   "metadata": {},
   "source": [
    "<a id=\"num7\"></a>\n",
    "## Анализ A/B-теста"
   ]
  },
  {
   "cell_type": "markdown",
   "metadata": {},
   "source": [
    "Для дальнейшего анализа соберем таблицу с данными о группах теста, количестве заказов, количестве покупателей и количестве посетителей на каждый день теста. "
   ]
  },
  {
   "cell_type": "code",
   "execution_count": 34,
   "metadata": {},
   "outputs": [],
   "source": [
    "groups = orders_fixed[['date', 'group']].drop_duplicates()\n",
    "\n",
    "orders_agg = (groups.apply(\n",
    "    lambda x: orders_fixed[np.logical_and(orders_fixed['date'] <= x['date'], \n",
    "                                          orders_fixed['group'] == x['group'])]\n",
    "    .agg({\n",
    "        'date': 'max',\n",
    "        'group': 'max',\n",
    "        'transactionid': 'nunique',\n",
    "        'visitorid': 'nunique',\n",
    "        'revenue': 'sum',}),\n",
    "    axis=1,).sort_values(by=['date', 'group']))\n",
    "\n",
    "visitors_agg = (groups.apply(\n",
    "    lambda x: visitors[np.logical_and(visitors['date'] <= x['date'],\n",
    "                                      visitors['group'] == x['group'])]\n",
    "    .agg({\n",
    "        'date': 'max', \n",
    "        'group': 'max', \n",
    "        'visitors': 'sum'}),\n",
    "    axis=1,).sort_values(by=['date', 'group']))\n",
    "\n",
    "cumulative_data = orders_agg.merge(\n",
    "    visitors_agg, left_on=['date', 'group'], right_on=['date', 'group'])\n",
    "cumulative_data.columns = [\n",
    "    'date',\n",
    "    'group',\n",
    "    'orders',\n",
    "    'buyers',\n",
    "    'revenue',\n",
    "    'visitors']"
   ]
  },
  {
   "cell_type": "code",
   "execution_count": 35,
   "metadata": {},
   "outputs": [
    {
     "data": {
      "text/html": [
       "<div>\n",
       "<style scoped>\n",
       "    .dataframe tbody tr th:only-of-type {\n",
       "        vertical-align: middle;\n",
       "    }\n",
       "\n",
       "    .dataframe tbody tr th {\n",
       "        vertical-align: top;\n",
       "    }\n",
       "\n",
       "    .dataframe thead th {\n",
       "        text-align: right;\n",
       "    }\n",
       "</style>\n",
       "<table border=\"1\" class=\"dataframe\">\n",
       "  <thead>\n",
       "    <tr style=\"text-align: right;\">\n",
       "      <th></th>\n",
       "      <th>date</th>\n",
       "      <th>group</th>\n",
       "      <th>orders</th>\n",
       "      <th>buyers</th>\n",
       "      <th>revenue</th>\n",
       "      <th>visitors</th>\n",
       "    </tr>\n",
       "  </thead>\n",
       "  <tbody>\n",
       "    <tr>\n",
       "      <th>0</th>\n",
       "      <td>2019-08-01</td>\n",
       "      <td>A</td>\n",
       "      <td>23</td>\n",
       "      <td>19</td>\n",
       "      <td>142779</td>\n",
       "      <td>719</td>\n",
       "    </tr>\n",
       "    <tr>\n",
       "      <th>1</th>\n",
       "      <td>2019-08-01</td>\n",
       "      <td>B</td>\n",
       "      <td>17</td>\n",
       "      <td>17</td>\n",
       "      <td>59758</td>\n",
       "      <td>713</td>\n",
       "    </tr>\n",
       "    <tr>\n",
       "      <th>2</th>\n",
       "      <td>2019-08-02</td>\n",
       "      <td>A</td>\n",
       "      <td>42</td>\n",
       "      <td>36</td>\n",
       "      <td>234381</td>\n",
       "      <td>1338</td>\n",
       "    </tr>\n",
       "    <tr>\n",
       "      <th>3</th>\n",
       "      <td>2019-08-02</td>\n",
       "      <td>B</td>\n",
       "      <td>40</td>\n",
       "      <td>39</td>\n",
       "      <td>221801</td>\n",
       "      <td>1294</td>\n",
       "    </tr>\n",
       "    <tr>\n",
       "      <th>4</th>\n",
       "      <td>2019-08-03</td>\n",
       "      <td>A</td>\n",
       "      <td>66</td>\n",
       "      <td>60</td>\n",
       "      <td>346854</td>\n",
       "      <td>1845</td>\n",
       "    </tr>\n",
       "    <tr>\n",
       "      <th>...</th>\n",
       "      <td>...</td>\n",
       "      <td>...</td>\n",
       "      <td>...</td>\n",
       "      <td>...</td>\n",
       "      <td>...</td>\n",
       "      <td>...</td>\n",
       "    </tr>\n",
       "    <tr>\n",
       "      <th>57</th>\n",
       "      <td>2019-08-29</td>\n",
       "      <td>B</td>\n",
       "      <td>510</td>\n",
       "      <td>490</td>\n",
       "      <td>4746610</td>\n",
       "      <td>17708</td>\n",
       "    </tr>\n",
       "    <tr>\n",
       "      <th>58</th>\n",
       "      <td>2019-08-30</td>\n",
       "      <td>A</td>\n",
       "      <td>460</td>\n",
       "      <td>437</td>\n",
       "      <td>3311413</td>\n",
       "      <td>18037</td>\n",
       "    </tr>\n",
       "    <tr>\n",
       "      <th>59</th>\n",
       "      <td>2019-08-30</td>\n",
       "      <td>B</td>\n",
       "      <td>531</td>\n",
       "      <td>511</td>\n",
       "      <td>4955833</td>\n",
       "      <td>18198</td>\n",
       "    </tr>\n",
       "    <tr>\n",
       "      <th>60</th>\n",
       "      <td>2019-08-31</td>\n",
       "      <td>A</td>\n",
       "      <td>468</td>\n",
       "      <td>445</td>\n",
       "      <td>3364656</td>\n",
       "      <td>18736</td>\n",
       "    </tr>\n",
       "    <tr>\n",
       "      <th>61</th>\n",
       "      <td>2019-08-31</td>\n",
       "      <td>B</td>\n",
       "      <td>548</td>\n",
       "      <td>528</td>\n",
       "      <td>5068972</td>\n",
       "      <td>18916</td>\n",
       "    </tr>\n",
       "  </tbody>\n",
       "</table>\n",
       "<p>62 rows × 6 columns</p>\n",
       "</div>"
      ],
      "text/plain": [
       "         date group  orders  buyers  revenue  visitors\n",
       "0  2019-08-01     A      23      19   142779       719\n",
       "1  2019-08-01     B      17      17    59758       713\n",
       "2  2019-08-02     A      42      36   234381      1338\n",
       "3  2019-08-02     B      40      39   221801      1294\n",
       "4  2019-08-03     A      66      60   346854      1845\n",
       "..        ...   ...     ...     ...      ...       ...\n",
       "57 2019-08-29     B     510     490  4746610     17708\n",
       "58 2019-08-30     A     460     437  3311413     18037\n",
       "59 2019-08-30     B     531     511  4955833     18198\n",
       "60 2019-08-31     A     468     445  3364656     18736\n",
       "61 2019-08-31     B     548     528  5068972     18916\n",
       "\n",
       "[62 rows x 6 columns]"
      ]
     },
     "execution_count": 35,
     "metadata": {},
     "output_type": "execute_result"
    }
   ],
   "source": [
    "cumulative_data"
   ]
  },
  {
   "cell_type": "markdown",
   "metadata": {},
   "source": [
    "В полученной таблице ``62`` строки, ``31`` запить о данных для группы ``А``, ``31`` — для группы ``В``."
   ]
  },
  {
   "cell_type": "code",
   "execution_count": 36,
   "metadata": {},
   "outputs": [
    {
     "data": {
      "text/plain": [
       "31"
      ]
     },
     "execution_count": 36,
     "metadata": {},
     "output_type": "execute_result"
    }
   ],
   "source": [
    "cumulative_data['date'].nunique()"
   ]
  },
  {
   "cell_type": "code",
   "execution_count": 37,
   "metadata": {},
   "outputs": [
    {
     "data": {
      "text/plain": [
       "31"
      ]
     },
     "execution_count": 37,
     "metadata": {},
     "output_type": "execute_result"
    }
   ],
   "source": [
    "orders['date'].nunique()"
   ]
  },
  {
   "cell_type": "code",
   "execution_count": 38,
   "metadata": {},
   "outputs": [
    {
     "data": {
      "text/html": [
       "<div>\n",
       "<style scoped>\n",
       "    .dataframe tbody tr th:only-of-type {\n",
       "        vertical-align: middle;\n",
       "    }\n",
       "\n",
       "    .dataframe tbody tr th {\n",
       "        vertical-align: top;\n",
       "    }\n",
       "\n",
       "    .dataframe thead th {\n",
       "        text-align: right;\n",
       "    }\n",
       "</style>\n",
       "<table border=\"1\" class=\"dataframe\">\n",
       "  <thead>\n",
       "    <tr style=\"text-align: right;\">\n",
       "      <th></th>\n",
       "      <th>date</th>\n",
       "    </tr>\n",
       "  </thead>\n",
       "  <tbody>\n",
       "    <tr>\n",
       "      <th>0</th>\n",
       "      <td>True</td>\n",
       "    </tr>\n",
       "    <tr>\n",
       "      <th>1</th>\n",
       "      <td>True</td>\n",
       "    </tr>\n",
       "    <tr>\n",
       "      <th>2</th>\n",
       "      <td>True</td>\n",
       "    </tr>\n",
       "    <tr>\n",
       "      <th>3</th>\n",
       "      <td>True</td>\n",
       "    </tr>\n",
       "    <tr>\n",
       "      <th>4</th>\n",
       "      <td>True</td>\n",
       "    </tr>\n",
       "    <tr>\n",
       "      <th>5</th>\n",
       "      <td>True</td>\n",
       "    </tr>\n",
       "    <tr>\n",
       "      <th>6</th>\n",
       "      <td>True</td>\n",
       "    </tr>\n",
       "    <tr>\n",
       "      <th>7</th>\n",
       "      <td>True</td>\n",
       "    </tr>\n",
       "    <tr>\n",
       "      <th>8</th>\n",
       "      <td>True</td>\n",
       "    </tr>\n",
       "    <tr>\n",
       "      <th>9</th>\n",
       "      <td>True</td>\n",
       "    </tr>\n",
       "    <tr>\n",
       "      <th>10</th>\n",
       "      <td>True</td>\n",
       "    </tr>\n",
       "    <tr>\n",
       "      <th>11</th>\n",
       "      <td>True</td>\n",
       "    </tr>\n",
       "    <tr>\n",
       "      <th>12</th>\n",
       "      <td>True</td>\n",
       "    </tr>\n",
       "    <tr>\n",
       "      <th>13</th>\n",
       "      <td>True</td>\n",
       "    </tr>\n",
       "    <tr>\n",
       "      <th>14</th>\n",
       "      <td>True</td>\n",
       "    </tr>\n",
       "    <tr>\n",
       "      <th>15</th>\n",
       "      <td>True</td>\n",
       "    </tr>\n",
       "    <tr>\n",
       "      <th>16</th>\n",
       "      <td>True</td>\n",
       "    </tr>\n",
       "    <tr>\n",
       "      <th>17</th>\n",
       "      <td>True</td>\n",
       "    </tr>\n",
       "    <tr>\n",
       "      <th>18</th>\n",
       "      <td>True</td>\n",
       "    </tr>\n",
       "    <tr>\n",
       "      <th>19</th>\n",
       "      <td>True</td>\n",
       "    </tr>\n",
       "    <tr>\n",
       "      <th>20</th>\n",
       "      <td>True</td>\n",
       "    </tr>\n",
       "    <tr>\n",
       "      <th>21</th>\n",
       "      <td>True</td>\n",
       "    </tr>\n",
       "    <tr>\n",
       "      <th>22</th>\n",
       "      <td>True</td>\n",
       "    </tr>\n",
       "    <tr>\n",
       "      <th>23</th>\n",
       "      <td>True</td>\n",
       "    </tr>\n",
       "    <tr>\n",
       "      <th>24</th>\n",
       "      <td>True</td>\n",
       "    </tr>\n",
       "    <tr>\n",
       "      <th>25</th>\n",
       "      <td>True</td>\n",
       "    </tr>\n",
       "    <tr>\n",
       "      <th>26</th>\n",
       "      <td>True</td>\n",
       "    </tr>\n",
       "    <tr>\n",
       "      <th>27</th>\n",
       "      <td>True</td>\n",
       "    </tr>\n",
       "    <tr>\n",
       "      <th>28</th>\n",
       "      <td>True</td>\n",
       "    </tr>\n",
       "    <tr>\n",
       "      <th>29</th>\n",
       "      <td>True</td>\n",
       "    </tr>\n",
       "    <tr>\n",
       "      <th>30</th>\n",
       "      <td>True</td>\n",
       "    </tr>\n",
       "  </tbody>\n",
       "</table>\n",
       "</div>"
      ],
      "text/plain": [
       "    date\n",
       "0   True\n",
       "1   True\n",
       "2   True\n",
       "3   True\n",
       "4   True\n",
       "5   True\n",
       "6   True\n",
       "7   True\n",
       "8   True\n",
       "9   True\n",
       "10  True\n",
       "11  True\n",
       "12  True\n",
       "13  True\n",
       "14  True\n",
       "15  True\n",
       "16  True\n",
       "17  True\n",
       "18  True\n",
       "19  True\n",
       "20  True\n",
       "21  True\n",
       "22  True\n",
       "23  True\n",
       "24  True\n",
       "25  True\n",
       "26  True\n",
       "27  True\n",
       "28  True\n",
       "29  True\n",
       "30  True"
      ]
     },
     "execution_count": 38,
     "metadata": {},
     "output_type": "execute_result"
    }
   ],
   "source": [
    "check = pd.DataFrame()\n",
    "check['date'] = cumulative_data['date'].sort_values().unique() == orders['date'].sort_values().unique()\n",
    "check"
   ]
  },
  {
   "cell_type": "markdown",
   "metadata": {},
   "source": [
    "Данные в объединенной таблице, если сравнивать по столбцу даты, совпадают с данными о дате в оригинальной таблице. "
   ]
  },
  {
   "cell_type": "markdown",
   "metadata": {},
   "source": [
    "<a id=\"num71\"></a>\n",
    "### График кумулятивной выручки по группам"
   ]
  },
  {
   "cell_type": "markdown",
   "metadata": {},
   "source": [
    "Построим график кумулятивной выручки по группам теста."
   ]
  },
  {
   "cell_type": "code",
   "execution_count": 39,
   "metadata": {},
   "outputs": [],
   "source": [
    "cumulative_revenue = cumulative_data.groupby(['date', 'group'])['revenue'].sum().groupby(level=1).cumsum().reset_index()"
   ]
  },
  {
   "cell_type": "code",
   "execution_count": 40,
   "metadata": {},
   "outputs": [],
   "source": [
    "cumulative_rev_a = cumulative_data[cumulative_data['group'] == 'A'][['date', 'revenue', 'orders', 'visitors']]\n",
    "cumulative_rev_b = cumulative_data[cumulative_data['group'] == 'B'][['date', 'revenue', 'orders', 'visitors']]"
   ]
  },
  {
   "cell_type": "code",
   "execution_count": 41,
   "metadata": {},
   "outputs": [
    {
     "data": {
      "image/png": "[encoded data removed]"
     },
     "metadata": {},
     "output_type": "display_data"
    }
   ],
   "source": [
    "cumulative(cumulative_rev_a['date'],\n",
    "          cumulative_rev_a['revenue'],\n",
    "          cumulative_rev_b['date'],\n",
    "          cumulative_rev_b['revenue'],\n",
    "          title_name='График кумулятивной выручки по группам',\n",
    "          y_name='Сумма выручки',\n",
    "          x_name='Даты',\n",
    "          )"
   ]
  },
  {
   "cell_type": "markdown",
   "metadata": {},
   "source": [
    "Первые ``18`` дней теста, данные о выручке у обоих групп совпадали. ``19-го`` числа данные в группе В выросли, так, за один день сумма выручки __в группе В выросла__ ``с 2.2 млн до 3.6 млн``. \n",
    "\n",
    "В это же время в группе А никаких резких изменений не замечено. \n",
    "\n",
    "Увы, так как данных о дате запуска у нас нет, могу только предполагать причины внезапного роста. Либо на данные влияют большие заказы в группе ``B``, что могло случиться в следствии нового функционала. "
   ]
  },
  {
   "cell_type": "markdown",
   "metadata": {},
   "source": [
    "<a id=\"num72\"></a>\n",
    "### График кумулятивного среднего чека по группам"
   ]
  },
  {
   "cell_type": "markdown",
   "metadata": {},
   "source": [
    "Построим график кумулятивного среднего чека по группам. "
   ]
  },
  {
   "cell_type": "code",
   "execution_count": 42,
   "metadata": {},
   "outputs": [
    {
     "data": {
      "image/png": "[encoded data removed]"
     },
     "metadata": {},
     "output_type": "display_data"
    }
   ],
   "source": [
    "cumulative(cumulative_rev_a['date'], \n",
    "           cumulative_rev_a['revenue']/cumulative_rev_a['orders'], \n",
    "           cumulative_rev_b['date'],\n",
    "           cumulative_rev_b['revenue']/cumulative_rev_b['orders'],\n",
    "           title_name='График кумулятивного среднего чека по группам',\n",
    "           y_name='Сумма среднего чека',\n",
    "           x_name='Даты')"
   ]
  },
  {
   "cell_type": "markdown",
   "metadata": {},
   "source": [
    "На графике куммулятивного среднего чека также видно резкое увеличение начиная с 19-го числа. Стоит провести анализ по данным без больших заказов, так как их можно считать выбросами.  "
   ]
  },
  {
   "cell_type": "markdown",
   "metadata": {},
   "source": [
    "<a id=\"num73\"></a>\n",
    "### График относительного изменения кумулятивного среднего чека группы B к группе A."
   ]
  },
  {
   "cell_type": "markdown",
   "metadata": {},
   "source": [
    "Построим график относительного изменения кумулятивного среднего чека группы B к группе A."
   ]
  },
  {
   "cell_type": "code",
   "execution_count": 43,
   "metadata": {},
   "outputs": [],
   "source": [
    "merged_cumulative_rev = cumulative_rev_a.merge(cumulative_rev_b, \n",
    "                                                 left_on='date', \n",
    "                                                 right_on='date', \n",
    "                                                 how='left', \n",
    "                                                 suffixes=['A', 'B'])"
   ]
  },
  {
   "cell_type": "code",
   "execution_count": 44,
   "metadata": {},
   "outputs": [
    {
     "data": {
      "image/png": "[encoded data removed]"
     },
     "metadata": {},
     "output_type": "display_data"
    }
   ],
   "source": [
    "cumulative(\n",
    "    merged_cumulative_rev['date'],\n",
    "    ((merged_cumulative_rev['revenueB'] / merged_cumulative_rev['ordersB']) / \n",
    "    (merged_cumulative_rev['revenueA'] / merged_cumulative_rev['ordersA']) - 1),\n",
    "    axhline='one', one_y=0,\n",
    "    title_name='График относительного изменения кумулятивного среднего чека группы B к группе A',\n",
    "    y_name='Относительное изменение',\n",
    "    x_name='Даты')\n"
   ]
  },
  {
   "cell_type": "code",
   "execution_count": 45,
   "metadata": {},
   "outputs": [
    {
     "data": {
      "text/html": [
       "<div>\n",
       "<style scoped>\n",
       "    .dataframe tbody tr th:only-of-type {\n",
       "        vertical-align: middle;\n",
       "    }\n",
       "\n",
       "    .dataframe tbody tr th {\n",
       "        vertical-align: top;\n",
       "    }\n",
       "\n",
       "    .dataframe thead th {\n",
       "        text-align: right;\n",
       "    }\n",
       "</style>\n",
       "<table border=\"1\" class=\"dataframe\">\n",
       "  <thead>\n",
       "    <tr style=\"text-align: right;\">\n",
       "      <th></th>\n",
       "      <th>transactionid</th>\n",
       "      <th>visitorid</th>\n",
       "      <th>date</th>\n",
       "      <th>revenue</th>\n",
       "      <th>group</th>\n",
       "    </tr>\n",
       "  </thead>\n",
       "  <tbody>\n",
       "    <tr>\n",
       "      <th>425</th>\n",
       "      <td>590470918</td>\n",
       "      <td>1920142716</td>\n",
       "      <td>2019-08-19</td>\n",
       "      <td>1294500</td>\n",
       "      <td>B</td>\n",
       "    </tr>\n",
       "    <tr>\n",
       "      <th>1196</th>\n",
       "      <td>3936777065</td>\n",
       "      <td>2108080724</td>\n",
       "      <td>2019-08-15</td>\n",
       "      <td>202740</td>\n",
       "      <td>B</td>\n",
       "    </tr>\n",
       "    <tr>\n",
       "      <th>744</th>\n",
       "      <td>3668308183</td>\n",
       "      <td>888512513</td>\n",
       "      <td>2019-08-27</td>\n",
       "      <td>86620</td>\n",
       "      <td>B</td>\n",
       "    </tr>\n",
       "    <tr>\n",
       "      <th>682</th>\n",
       "      <td>1216533772</td>\n",
       "      <td>4266935830</td>\n",
       "      <td>2019-08-29</td>\n",
       "      <td>78990</td>\n",
       "      <td>B</td>\n",
       "    </tr>\n",
       "    <tr>\n",
       "      <th>940</th>\n",
       "      <td>2420050534</td>\n",
       "      <td>4003628586</td>\n",
       "      <td>2019-08-08</td>\n",
       "      <td>58550</td>\n",
       "      <td>B</td>\n",
       "    </tr>\n",
       "  </tbody>\n",
       "</table>\n",
       "</div>"
      ],
      "text/plain": [
       "      transactionid   visitorid       date  revenue group\n",
       "425       590470918  1920142716 2019-08-19  1294500     B\n",
       "1196     3936777065  2108080724 2019-08-15   202740     B\n",
       "744      3668308183   888512513 2019-08-27    86620     B\n",
       "682      1216533772  4266935830 2019-08-29    78990     B\n",
       "940      2420050534  4003628586 2019-08-08    58550     B"
      ]
     },
     "execution_count": 45,
     "metadata": {},
     "output_type": "execute_result"
    }
   ],
   "source": [
    "orders.query('group == \"B\"').sort_values(by='revenue', ascending=False).head(5)"
   ]
  },
  {
   "cell_type": "code",
   "execution_count": 46,
   "metadata": {},
   "outputs": [
    {
     "data": {
      "text/plain": [
       "'6 августа'"
      ]
     },
     "metadata": {},
     "output_type": "display_data"
    },
    {
     "data": {
      "text/plain": [
       "242342"
      ]
     },
     "metadata": {},
     "output_type": "display_data"
    },
    {
     "data": {
      "text/plain": [
       "'7 августа'"
      ]
     },
     "metadata": {},
     "output_type": "display_data"
    },
    {
     "data": {
      "text/plain": [
       "225334"
      ]
     },
     "metadata": {},
     "output_type": "display_data"
    }
   ],
   "source": [
    "display('6 августа', orders.query('group == \"B\" and date == \"2019-08-06\"')['revenue'].sum(), \n",
    "        '7 августа', orders.query('group == \"B\" and date == \"2019-08-07\"')['revenue'].sum())"
   ]
  },
  {
   "cell_type": "code",
   "execution_count": 47,
   "metadata": {},
   "outputs": [
    {
     "data": {
      "text/plain": [
       "'6 августа'"
      ]
     },
     "metadata": {},
     "output_type": "display_data"
    },
    {
     "data": {
      "text/plain": [
       "48484"
      ]
     },
     "metadata": {},
     "output_type": "display_data"
    },
    {
     "data": {
      "text/plain": [
       "'7 августа'"
      ]
     },
     "metadata": {},
     "output_type": "display_data"
    },
    {
     "data": {
      "text/plain": [
       "142417"
      ]
     },
     "metadata": {},
     "output_type": "display_data"
    }
   ],
   "source": [
    "display('6 августа', orders.query('group == \"A\" and date == \"2019-08-06\"')['revenue'].sum(), \n",
    "        '7 августа', orders.query('group == \"A\" and date == \"2019-08-07\"')['revenue'].sum())"
   ]
  },
  {
   "cell_type": "markdown",
   "metadata": {},
   "source": [
    "В некоторые даты было значительное различие куммулятивного среднего чека группы ``В``, к группе ``А``. Так на изменение ``19 августа`` в влияет то, что был заказ на очень большую сумму, что касается ``6 и 7 августа``, то на пик повлияли не изменения в группе ``В``, а малые суммы заказов в группе ``А``. "
   ]
  },
  {
   "cell_type": "markdown",
   "metadata": {},
   "source": [
    "<a id=\"num74\"></a>\n",
    "### График куммулятивного среднего количества заказов на посетителя по группам"
   ]
  },
  {
   "cell_type": "markdown",
   "metadata": {},
   "source": [
    "Постройте график кумулятивного среднего количества заказов на посетителя по группам. Сделайте выводы и предположения."
   ]
  },
  {
   "cell_type": "code",
   "execution_count": 48,
   "metadata": {},
   "outputs": [
    {
     "data": {
      "image/png": "[encoded data removed]"
     },
     "metadata": {},
     "output_type": "display_data"
    }
   ],
   "source": [
    "cumulative(\n",
    "    merged_cumulative_rev['date'],\n",
    "    merged_cumulative_rev['ordersA']/merged_cumulative_rev['visitorsA'],\n",
    "    merged_cumulative_rev['date'],\n",
    "    merged_cumulative_rev['ordersB']/merged_cumulative_rev['visitorsB'],\n",
    "    title_name='График куммулятивного среднего количества заказов на посетителя по группам',\n",
    "    y_name='Куммулятивное среднего количества заказов на посетителя',\n",
    "    x_name='Даты')"
   ]
  },
  {
   "cell_type": "markdown",
   "metadata": {},
   "source": [
    "Не смотря на то, что на графиках есть различия, сами графики между собой похожи. Колебания имеют схожий вид. Из этого следует, что куммулятивное среднее количества заказов по группам примерно равномерное. "
   ]
  },
  {
   "cell_type": "markdown",
   "metadata": {},
   "source": [
    "<a id=\"num75\"></a>\n",
    "### График относительного изменения кумулятивного среднего количества заказов на посетителя группы B к группе A"
   ]
  },
  {
   "cell_type": "markdown",
   "metadata": {},
   "source": [
    "Построим график относительного изменения кумулятивного среднего количества заказов на посетителя группы B к группе A. "
   ]
  },
  {
   "cell_type": "code",
   "execution_count": 49,
   "metadata": {},
   "outputs": [],
   "source": [
    "cumulative_data['conversion'] = (cumulative_data['orders'] / cumulative_data['visitors'])\n",
    "\n",
    "cumulative_data_a = cumulative_data[cumulative_data['group'] == 'A']\n",
    "cumulative_data_b = cumulative_data[cumulative_data['group'] == 'B']\n",
    "\n",
    "merged_cumulative_conversion = (cumulative_data_a[['date','conversion']]\n",
    "                                .merge(cumulative_data_b[['date','conversion']], \n",
    "                                       left_on='date', \n",
    "                                       right_on='date', \n",
    "                                       how='left', \n",
    "                                       suffixes=['A', 'B']))"
   ]
  },
  {
   "cell_type": "code",
   "execution_count": 50,
   "metadata": {},
   "outputs": [
    {
     "data": {
      "image/png": "[encoded data removed]"
     },
     "metadata": {},
     "output_type": "display_data"
    }
   ],
   "source": [
    "cumulative(merged_cumulative_conversion['date'],\n",
    "          (merged_cumulative_conversion['conversionB']/merged_cumulative_conversion['conversionA']-1),\n",
    "          axhline='two', \n",
    "          one_y=0,\n",
    "          two_y=0.15,\n",
    "          title_name='График относительного изменения кумулятивного среднего количества заказов на посетителя группы B к группе A',\n",
    "          y_name='Относительное изменение',\n",
    "          x_name='Даты')"
   ]
  },
  {
   "cell_type": "markdown",
   "metadata": {},
   "source": [
    "Не смотря на то, что первую неделю группа ``В`` несколько отставала по конверсии от группы ``А``, начиная с ``7-го августа`` значения стали выше и оставались примерно на уровне ``15%`` от группы ``А``. "
   ]
  },
  {
   "cell_type": "markdown",
   "metadata": {},
   "source": [
    "<a id=\"num76\"></a>\n",
    "### График количества заказов по пользователям"
   ]
  },
  {
   "cell_type": "markdown",
   "metadata": {},
   "source": [
    "Построим точечный график количества заказов по пользователям. "
   ]
  },
  {
   "cell_type": "code",
   "execution_count": 51,
   "metadata": {},
   "outputs": [],
   "source": [
    "orders_cumulative_data = orders_fixed.merge(\n",
    "    cumulative_data, left_on=['date', 'group'], right_on=['date', 'group'])\n",
    "\n",
    "orders_cumulative_data = (orders_cumulative_data\n",
    "                          .rename(columns={\n",
    "                              'transactionid': 'transactionid', \n",
    "                              'visitorid': 'visitorid', \n",
    "                              'date': 'date',\n",
    "                              'revenue_x': 'revenue_per_user',\n",
    "                              'group': 'group',\n",
    "                              'orders': 'orders_daily',\n",
    "                              'buyers': 'buyers_daily',\n",
    "                              'revenue_y': 'revenue_daily',\n",
    "                              'visitors':'visitors_daily'}))"
   ]
  },
  {
   "cell_type": "code",
   "execution_count": 52,
   "metadata": {},
   "outputs": [],
   "source": [
    "orders_count_fixed = (\n",
    "    orders_cumulative_data.groupby('visitorid', as_index=False)\n",
    "    .agg({'transactionid': 'nunique'}))\n",
    "\n",
    "orders_count_fixed.columns = ['visitorid', 'orders_count']"
   ]
  },
  {
   "cell_type": "code",
   "execution_count": 53,
   "metadata": {},
   "outputs": [
    {
     "data": {
      "image/png": "[encoded data removed]"
     },
     "metadata": {},
     "output_type": "display_data"
    }
   ],
   "source": [
    "fig = px.scatter(orders_count_fixed, \n",
    "                 x=orders_count_fixed.index,  \n",
    "                 y='orders_count',  \n",
    "                 color_discrete_sequence=[colors[2]],\n",
    "                 title='График количества заказов от количества посетителей с очисткой данных')\n",
    "\n",
    "fig.update_layout(xaxis_title='Пользователей', yaxis_title='Заказов',\n",
    "                  plot_bgcolor='AliceBlue',\n",
    "                  margin={\"r\": 0, \"t\": 50, \"l\": 0, \"b\": 50})\n",
    "fig.show()"
   ]
  },
  {
   "cell_type": "code",
   "execution_count": 54,
   "metadata": {},
   "outputs": [
    {
     "data": {
      "text/html": [
       "<div>\n",
       "<style scoped>\n",
       "    .dataframe tbody tr th:only-of-type {\n",
       "        vertical-align: middle;\n",
       "    }\n",
       "\n",
       "    .dataframe tbody tr th {\n",
       "        vertical-align: top;\n",
       "    }\n",
       "\n",
       "    .dataframe thead th {\n",
       "        text-align: right;\n",
       "    }\n",
       "</style>\n",
       "<table border=\"1\" class=\"dataframe\">\n",
       "  <thead>\n",
       "    <tr style=\"text-align: right;\">\n",
       "      <th></th>\n",
       "      <th>visitorid</th>\n",
       "      <th>orders_count</th>\n",
       "    </tr>\n",
       "  </thead>\n",
       "  <tbody>\n",
       "    <tr>\n",
       "      <th>55</th>\n",
       "      <td>249864742</td>\n",
       "      <td>3</td>\n",
       "    </tr>\n",
       "    <tr>\n",
       "      <th>138</th>\n",
       "      <td>611059232</td>\n",
       "      <td>3</td>\n",
       "    </tr>\n",
       "    <tr>\n",
       "      <th>478</th>\n",
       "      <td>2108163459</td>\n",
       "      <td>3</td>\n",
       "    </tr>\n",
       "    <tr>\n",
       "      <th>632</th>\n",
       "      <td>2742574263</td>\n",
       "      <td>3</td>\n",
       "    </tr>\n",
       "    <tr>\n",
       "      <th>687</th>\n",
       "      <td>2988190573</td>\n",
       "      <td>3</td>\n",
       "    </tr>\n",
       "    <tr>\n",
       "      <th>890</th>\n",
       "      <td>3908431265</td>\n",
       "      <td>3</td>\n",
       "    </tr>\n",
       "    <tr>\n",
       "      <th>908</th>\n",
       "      <td>3967698036</td>\n",
       "      <td>3</td>\n",
       "    </tr>\n",
       "  </tbody>\n",
       "</table>\n",
       "</div>"
      ],
      "text/plain": [
       "      visitorid  orders_count\n",
       "55    249864742             3\n",
       "138   611059232             3\n",
       "478  2108163459             3\n",
       "632  2742574263             3\n",
       "687  2988190573             3\n",
       "890  3908431265             3\n",
       "908  3967698036             3"
      ]
     },
     "metadata": {},
     "output_type": "display_data"
    },
    {
     "data": {
      "text/html": [
       "<div>\n",
       "<style scoped>\n",
       "    .dataframe tbody tr th:only-of-type {\n",
       "        vertical-align: middle;\n",
       "    }\n",
       "\n",
       "    .dataframe tbody tr th {\n",
       "        vertical-align: top;\n",
       "    }\n",
       "\n",
       "    .dataframe thead th {\n",
       "        text-align: right;\n",
       "    }\n",
       "</style>\n",
       "<table border=\"1\" class=\"dataframe\">\n",
       "  <thead>\n",
       "    <tr style=\"text-align: right;\">\n",
       "      <th></th>\n",
       "      <th>visitorid</th>\n",
       "      <th>orders_count</th>\n",
       "    </tr>\n",
       "  </thead>\n",
       "  <tbody>\n",
       "    <tr>\n",
       "      <th>0</th>\n",
       "      <td>5114589</td>\n",
       "      <td>1</td>\n",
       "    </tr>\n",
       "    <tr>\n",
       "      <th>1</th>\n",
       "      <td>6958315</td>\n",
       "      <td>1</td>\n",
       "    </tr>\n",
       "    <tr>\n",
       "      <th>2</th>\n",
       "      <td>11685486</td>\n",
       "      <td>1</td>\n",
       "    </tr>\n",
       "    <tr>\n",
       "      <th>3</th>\n",
       "      <td>39475350</td>\n",
       "      <td>1</td>\n",
       "    </tr>\n",
       "    <tr>\n",
       "      <th>4</th>\n",
       "      <td>47206413</td>\n",
       "      <td>1</td>\n",
       "    </tr>\n",
       "    <tr>\n",
       "      <th>...</th>\n",
       "      <td>...</td>\n",
       "      <td>...</td>\n",
       "    </tr>\n",
       "    <tr>\n",
       "      <th>968</th>\n",
       "      <td>4259830713</td>\n",
       "      <td>1</td>\n",
       "    </tr>\n",
       "    <tr>\n",
       "      <th>969</th>\n",
       "      <td>4278982564</td>\n",
       "      <td>1</td>\n",
       "    </tr>\n",
       "    <tr>\n",
       "      <th>970</th>\n",
       "      <td>4279090005</td>\n",
       "      <td>1</td>\n",
       "    </tr>\n",
       "    <tr>\n",
       "      <th>971</th>\n",
       "      <td>4281247801</td>\n",
       "      <td>1</td>\n",
       "    </tr>\n",
       "    <tr>\n",
       "      <th>972</th>\n",
       "      <td>4283872382</td>\n",
       "      <td>1</td>\n",
       "    </tr>\n",
       "  </tbody>\n",
       "</table>\n",
       "<p>937 rows × 2 columns</p>\n",
       "</div>"
      ],
      "text/plain": [
       "      visitorid  orders_count\n",
       "0       5114589             1\n",
       "1       6958315             1\n",
       "2      11685486             1\n",
       "3      39475350             1\n",
       "4      47206413             1\n",
       "..          ...           ...\n",
       "968  4259830713             1\n",
       "969  4278982564             1\n",
       "970  4279090005             1\n",
       "971  4281247801             1\n",
       "972  4283872382             1\n",
       "\n",
       "[937 rows x 2 columns]"
      ]
     },
     "metadata": {},
     "output_type": "display_data"
    }
   ],
   "source": [
    "display(orders_count_fixed[orders_count_fixed['orders_count']==orders_count_fixed['orders_count'].max()])\n",
    "display(orders_count_fixed[orders_count_fixed['orders_count']==orders_count_fixed['orders_count'].min()])"
   ]
  },
  {
   "cell_type": "markdown",
   "metadata": {},
   "source": [
    "Ранее из таблицы были убраны пользователи, которые попали в обе группы А/В теста, по оставшимся данным только ``7`` пользователей сделали максимальное количество заказов — ``3``. ``937`` пользователей из ``1031`` сделали по одному заказу."
   ]
  },
  {
   "cell_type": "markdown",
   "metadata": {},
   "source": [
    "<a id=\"num77\"></a>\n",
    "### Перцентили количества заказов на пользователя."
   ]
  },
  {
   "cell_type": "markdown",
   "metadata": {},
   "source": [
    "Посчитаем 95-й и 99-й перцентили количества заказов на пользователя."
   ]
  },
  {
   "cell_type": "code",
   "execution_count": 55,
   "metadata": {},
   "outputs": [
    {
     "data": {
      "text/plain": [
       "array([1., 1., 2.])"
      ]
     },
     "execution_count": 55,
     "metadata": {},
     "output_type": "execute_result"
    }
   ],
   "source": [
    "np.percentile(orders_count_fixed['orders_count'], [90, 95, 99])"
   ]
  },
  {
   "cell_type": "markdown",
   "metadata": {},
   "source": [
    "Для данных без пользователей, которые попали в обе группы A/B теста, __нормальными границами__ заказов считается ``1-2 заказа``. "
   ]
  },
  {
   "cell_type": "markdown",
   "metadata": {},
   "source": [
    "<a id=\"num78\"></a>\n",
    "### График стоимостей заказов"
   ]
  },
  {
   "cell_type": "markdown",
   "metadata": {},
   "source": [
    "Построим точечный график стоимостей заказов."
   ]
  },
  {
   "cell_type": "code",
   "execution_count": 56,
   "metadata": {},
   "outputs": [
    {
     "data": {
      "image/png": "[encoded data removed]"
     },
     "metadata": {},
     "output_type": "display_data"
    }
   ],
   "source": [
    "fig = px.scatter(orders_fixed, \n",
    "                 x=orders_fixed.index,  \n",
    "                 y='revenue',  \n",
    "                 color_discrete_sequence=[colors[2]],\n",
    "                 title='График стоимости заказов от количества посетителей')\n",
    "\n",
    "fig.update_layout(xaxis_title='Пользователей', yaxis_title='Стоимость',\n",
    "                  plot_bgcolor='AliceBlue',\n",
    "                  margin={\"r\": 0, \"t\": 50, \"l\": 0, \"b\": 50})\n",
    "fig.show()"
   ]
  },
  {
   "cell_type": "markdown",
   "metadata": {},
   "source": [
    "Для данных без пользователей, которые попали в обе группы A/B теста, в целом сумма не превышает ``150 тысяч``, в редких случаях сумма заказа сильно больше.  "
   ]
  },
  {
   "cell_type": "markdown",
   "metadata": {},
   "source": [
    "<a id=\"num79\"></a>\n",
    "### Перцентили стоимости заказов"
   ]
  },
  {
   "cell_type": "markdown",
   "metadata": {},
   "source": [
    "Посчитаем 95-й и 99-й перцентили стоимости заказов."
   ]
  },
  {
   "cell_type": "code",
   "execution_count": 57,
   "metadata": {},
   "outputs": [
    {
     "data": {
      "text/plain": [
       "array([18168. , 28000. , 58233.2])"
      ]
     },
     "execution_count": 57,
     "metadata": {},
     "output_type": "execute_result"
    }
   ],
   "source": [
    "np.percentile(orders['revenue'], [90, 95, 99])"
   ]
  },
  {
   "cell_type": "markdown",
   "metadata": {},
   "source": [
    "Для данных без пользователей, которые попали в обе группы A/B теста, нормальными границами стоимости заказов можно считать сумму ``от 18168 до 58233.2`` валютных единиц, все остальные значения можно считать выбросами. "
   ]
  },
  {
   "cell_type": "markdown",
   "metadata": {},
   "source": [
    "<a id=\"num710\"></a>\n",
    "### Cтатистическая значимость различий в среднем количестве заказов на посетителя между группами по «сырым» данным"
   ]
  },
  {
   "cell_type": "markdown",
   "metadata": {},
   "source": [
    "Посчитайтаем статистическую значимость различий в среднем количестве заказов на посетителя между группами по «сырым» данным."
   ]
  },
  {
   "cell_type": "markdown",
   "metadata": {},
   "source": [
    "Прежде чем приступим к анализу, определимся с нулевой и альтернативной гипотезами. "
   ]
  },
  {
   "cell_type": "markdown",
   "metadata": {},
   "source": [
    "- H0: статистически значимых различий в среднем количестве заказов на посетителя между группами А и В по «сырым» данным нет.\n",
    "- H1: статистически значимые различия в среднем количестве заказов на посетителя между группами А и В по «сырым» данным есть."
   ]
  },
  {
   "cell_type": "markdown",
   "metadata": {},
   "source": [
    "__Из данных исключены пользователи, которые попали в обе группы одновременно.__"
   ]
  },
  {
   "cell_type": "code",
   "execution_count": 58,
   "metadata": {},
   "outputs": [],
   "source": [
    "orders_a = (\n",
    "    orders_cumulative_data[orders_cumulative_data['group'] == 'A'][['date', 'transactionid', 'visitorid']]\n",
    "    .groupby('date', as_index=False)\n",
    "    .agg({'transactionid': pd.Series.nunique}))\n",
    "\n",
    "orders_a.columns = ['date', 'orders_a']\n",
    "\n",
    "orders_b = (\n",
    "    orders_cumulative_data[orders_cumulative_data['group'] == 'B'][['date', 'transactionid', 'visitorid']]\n",
    "    .groupby('date', as_index=False)\n",
    "    .agg({'transactionid': pd.Series.nunique})\n",
    ")\n",
    "orders_b.columns = ['date', 'orders_b']\n",
    "\n",
    "data_orders = (\n",
    "    orders_a.merge(\n",
    "        orders_b, left_on='date', right_on='date', how='left'\n",
    "    ))"
   ]
  },
  {
   "cell_type": "code",
   "execution_count": 59,
   "metadata": {},
   "outputs": [
    {
     "data": {
      "text/plain": [
       "'p-value: 0.04906'"
      ]
     },
     "metadata": {},
     "output_type": "display_data"
    },
    {
     "data": {
      "text/plain": [
       "'Относительный прирост: 0.171'"
      ]
     },
     "metadata": {},
     "output_type": "display_data"
    }
   ],
   "source": [
    "orders_a_list = pd.concat([orders_a['orders_a'], \n",
    "                           pd.Series(0, index=np.arange(data_orders['orders_a'].sum() - len(orders_a['orders_a'])), \n",
    "                                     name='orders',),],axis=0,)\n",
    "\n",
    "orders_b_list = pd.concat([orders_b['orders_b'], \n",
    "                           pd.Series(0, index=np.arange(data_orders['orders_b'].sum() - len(orders_b['orders_b'])),\n",
    "                                     name='orders',),],axis=0,)\n",
    "display('p-value: ' + \"{0:.5f}\".format(stats.mannwhitneyu(data_orders['orders_a'], data_orders['orders_b'])[1]))\n",
    "display('Относительный прирост: ' + \"{0:.3f}\".format(data_orders['orders_b'].mean() / data_orders['orders_a'].mean() - 1))"
   ]
  },
  {
   "cell_type": "markdown",
   "metadata": {},
   "source": [
    "P-value — ``4.9%``, это меньше обычного уровня значимости 0.05, что указывает на наличие статистически значимых различий между группами.\n",
    "\n",
    "Относительный прирост среднего количества заказов группы ``B`` к среднему количеству заказов группы ``A`` составляет ``17.1%``. Это значение говорит о том, что в группе ``B`` в среднем на ``17.1%`` больше заказов по сравнению с группой ``A``."
   ]
  },
  {
   "cell_type": "markdown",
   "metadata": {},
   "source": [
    "<a id=\"num711\"></a>\n",
    "### Cтатистическая значимость различий в среднем чеке заказа между группами по «сырым» данным"
   ]
  },
  {
   "cell_type": "markdown",
   "metadata": {},
   "source": [
    "Посчитаем статистическую значимость различий в среднем чеке заказа между группами по «сырым» данным."
   ]
  },
  {
   "cell_type": "markdown",
   "metadata": {},
   "source": [
    "Прежде чем приступим к анализу, определимся с нулевой и альтернативной гипотезами."
   ]
  },
  {
   "cell_type": "markdown",
   "metadata": {},
   "source": [
    "- H0: статистически значимых различий в среднем чеке заказа между группами по «сырым» данным А и В нет.\n",
    "- H1: статистически значимые различия в среднем чеке заказа между группами по «сырым» данным А и В есть."
   ]
  },
  {
   "cell_type": "markdown",
   "metadata": {},
   "source": [
    "__Из данных исключены пользователи, которые попали в обе группы одновременно.__"
   ]
  },
  {
   "cell_type": "code",
   "execution_count": 60,
   "metadata": {},
   "outputs": [],
   "source": [
    "revenue_a = (\n",
    "    orders_cumulative_data[orders_cumulative_data['group'] == 'A'][['date', 'revenue_per_user']]\n",
    "    .groupby('date', as_index=False)\n",
    "    .agg({'revenue_per_user': 'sum'}))\n",
    "\n",
    "revenue_a.columns = ['date', 'revenue_a']\n",
    "\n",
    "revenue_b = (\n",
    "    orders_cumulative_data[orders_cumulative_data['group'] == 'B'][['date', 'revenue_per_user']]\n",
    "    .groupby('date', as_index=False)\n",
    "    .agg({'revenue_per_user': 'sum'}))\n",
    "\n",
    "revenue_b.columns = ['date', 'revenue_b']\n",
    "\n",
    "data_rev = (\n",
    "    revenue_a.merge(\n",
    "        revenue_b, left_on='date', right_on='date', how='left'\n",
    "    ))"
   ]
  },
  {
   "cell_type": "code",
   "execution_count": 61,
   "metadata": {},
   "outputs": [
    {
     "data": {
      "text/plain": [
       "'p-value: 0.22599'"
      ]
     },
     "metadata": {},
     "output_type": "display_data"
    },
    {
     "data": {
      "text/plain": [
       "'Относительный прирост: 0.507'"
      ]
     },
     "metadata": {},
     "output_type": "display_data"
    }
   ],
   "source": [
    "revenue_a_list = pd.concat([revenue_a['revenue_a'], \n",
    "                           pd.Series(0, index=np.arange(data_rev['revenue_a'].sum() - len(revenue_a['revenue_a'])), \n",
    "                                     name='orders',),],axis=0,)\n",
    "\n",
    "revenue_b_list = pd.concat([revenue_b['revenue_b'], \n",
    "                           pd.Series(0, index=np.arange(data_rev['revenue_b'].sum() - len(revenue_b['revenue_b'])),\n",
    "                                     name='orders',),],axis=0,)\n",
    "\n",
    "display('p-value: ' + \"{0:.5f}\".format(stats.mannwhitneyu(data_rev['revenue_a'], data_rev['revenue_b'])[1]))\n",
    "display('Относительный прирост: ' +  \"{0:.3f}\".format(data_rev['revenue_b'].mean() / data_rev['revenue_a'].mean() - 1))"
   ]
  },
  {
   "cell_type": "markdown",
   "metadata": {},
   "source": [
    "P-value — ``22.6%``, это указывает, что нет статистически значимых различий между группами.\n",
    "\n",
    "Относительный прирост суммы среднего чека группы ``B`` к среднему чеку группы ``A`` составляет ``50.7%``. В группе ``В``, средний чек практически в два раза больше чем в группе ``А``. "
   ]
  },
  {
   "cell_type": "markdown",
   "metadata": {},
   "source": [
    "<a id=\"num712\"></a>\n",
    "### Cтатистическая значимость различий в среднем количестве заказов на посетителя между группами по «очищенным» данным"
   ]
  },
  {
   "cell_type": "markdown",
   "metadata": {},
   "source": [
    "Посчитаем статистическую значимость различий в среднем количестве заказов на посетителя между группами по «очищенным» данным."
   ]
  },
  {
   "cell_type": "markdown",
   "metadata": {},
   "source": [
    "Прежде чем приступим к анализу, определимся с нулевой и альтернативной гипотезами. Оставих их такими же, как и для анализа по сырым данным. "
   ]
  },
  {
   "cell_type": "markdown",
   "metadata": {},
   "source": [
    "- H0: статистически значимых различий в среднем количестве заказов на посетителя между группами А и В по «очищенным» данным нет.\n",
    "- H1: статистически значимые различия в среднем количестве заказов на посетителя между группами А и В по «очищенным» данным есть."
   ]
  },
  {
   "cell_type": "code",
   "execution_count": 62,
   "metadata": {},
   "outputs": [],
   "source": [
    "orders_cumulative_perc = (orders_cumulative_data\n",
    "                          .query('revenue_per_user < 58233.2 and visitorid in @orders_cumulative_data[\"visitorid\"]'))"
   ]
  },
  {
   "cell_type": "code",
   "execution_count": 63,
   "metadata": {},
   "outputs": [],
   "source": [
    "orders_a_clean = (    \n",
    "    orders_cumulative_perc[orders_cumulative_perc['group'] == 'A'][['date', 'transactionid', 'visitorid']]\n",
    "    .groupby('date', as_index=False)\n",
    "    .agg({'transactionid': pd.Series.nunique}))\n",
    "\n",
    "orders_a_clean.columns = ['date', 'orders_a']\n",
    "\n",
    "orders_b_clean = (\n",
    "    orders_cumulative_perc[orders_cumulative_perc['group'] == 'B'][['date', 'transactionid', 'visitorid']]\n",
    "    .groupby('date', as_index=False)\n",
    "    .agg({'transactionid': pd.Series.nunique})\n",
    ")\n",
    "orders_b_clean.columns = ['date', 'orders_b']\n",
    "\n",
    "data_orders_clean = (\n",
    "    orders_a_clean.merge(\n",
    "        orders_b_clean, left_on='date', right_on='date', how='left'\n",
    "    ))"
   ]
  },
  {
   "cell_type": "code",
   "execution_count": 64,
   "metadata": {},
   "outputs": [
    {
     "data": {
      "text/plain": [
       "'p-value: 0.04364'"
      ]
     },
     "metadata": {},
     "output_type": "display_data"
    },
    {
     "data": {
      "text/plain": [
       "'Относительный прирост: 0.175'"
      ]
     },
     "metadata": {},
     "output_type": "display_data"
    }
   ],
   "source": [
    "display('p-value: ' +  \"{0:.5f}\".format(stats.mannwhitneyu(data_orders_clean['orders_a'], data_orders_clean['orders_b'])[1]))\n",
    "display('Относительный прирост: ' +  \"{0:.3f}\".format(data_orders_clean['orders_b'].mean() / data_orders_clean['orders_a'].mean() - 1))"
   ]
  },
  {
   "cell_type": "markdown",
   "metadata": {},
   "source": [
    "С небольшими различиями результат такой же как и в «сырых» данных. \n",
    "\n",
    "P-value — меньше уровня значимости 0.05 — ``4.3%``, это указывает на наличие статистически значимых различий между группами.\n",
    "\n",
    "Относительный прирост среднего количества заказов группы ``B`` к среднему количеству заказов группы ``A`` составляет ``17.5%``. Это значение говорит о том, что в группе ``B`` в среднем на ``17.5%`` больше заказов по сравнению с группой ``A``."
   ]
  },
  {
   "cell_type": "markdown",
   "metadata": {},
   "source": [
    "<a id=\"num713\"></a>\n",
    "### Cтатистическую значимость различий в среднем чеке заказа между группами по «очищенным» данным"
   ]
  },
  {
   "cell_type": "markdown",
   "metadata": {},
   "source": [
    "Посчитаем статистическую значимость различий в среднем чеке заказа между группами по «очищенным» данным. "
   ]
  },
  {
   "cell_type": "markdown",
   "metadata": {},
   "source": [
    "Прежде чем приступим к анализу, определимся с нулевой и альтернативной гипотезами. Оставих их такими же, как и для анализа по сырым данным. "
   ]
  },
  {
   "cell_type": "markdown",
   "metadata": {},
   "source": [
    "- H0: статистически значимых различий в среднем чеке заказа между группами по «очищенным» данным А и В нет.\n",
    "- H1: статистически значимые различия в среднем чеке заказа между группами по «очищенным» данным А и В есть."
   ]
  },
  {
   "cell_type": "code",
   "execution_count": 65,
   "metadata": {},
   "outputs": [],
   "source": [
    "revenue_a_clean = (\n",
    "    orders_cumulative_perc[orders_cumulative_perc['group'] == 'A'][['date', 'revenue_per_user']]\n",
    "    .groupby('date', as_index=False)\n",
    "    .agg({'revenue_per_user': 'sum'}))\n",
    "\n",
    "revenue_a_clean.columns = ['date', 'revenue_a']\n",
    "\n",
    "revenue_b_clean = (\n",
    "    orders_cumulative_perc[orders_cumulative_perc['group'] == 'B'][['date', 'revenue_per_user']]\n",
    "    .groupby('date', as_index=False)\n",
    "    .agg({'revenue_per_user': 'sum'}))\n",
    "\n",
    "revenue_b_clean.columns = ['date', 'revenue_b']\n",
    "\n",
    "data_rev_clean = (\n",
    "    revenue_a_clean.merge(\n",
    "        revenue_b_clean, left_on='date', right_on='date', how='left'\n",
    "    ))"
   ]
  },
  {
   "cell_type": "code",
   "execution_count": 66,
   "metadata": {},
   "outputs": [
    {
     "data": {
      "text/plain": [
       "'p-value: 0.22064'"
      ]
     },
     "metadata": {},
     "output_type": "display_data"
    },
    {
     "data": {
      "text/plain": [
       "'Относительный прирост: 0.138'"
      ]
     },
     "metadata": {},
     "output_type": "display_data"
    }
   ],
   "source": [
    "revenue_a_list_clean = pd.concat([revenue_a_clean['revenue_a'], \n",
    "                           pd.Series(0, index=np.arange(data_rev_clean['revenue_a'].sum() - len(revenue_a_clean['revenue_a'])), \n",
    "                                     name='orders',),],axis=0,)\n",
    "\n",
    "revenue_b_list_clean = pd.concat([revenue_b['revenue_b'], \n",
    "                           pd.Series(0, index=np.arange(data_rev_clean['revenue_b'].sum() - len(revenue_b_clean['revenue_b'])),\n",
    "                                     name='orders',),],axis=0,)\n",
    "\n",
    "display('p-value: ' +  \"{0:.5f}\".format(stats.mannwhitneyu(data_rev_clean['revenue_a'], data_rev_clean['revenue_b'])[1]))\n",
    "display('Относительный прирост: ' +  \"{0:.3f}\".format(data_rev_clean['revenue_b'].mean() / data_rev_clean['revenue_a'].mean() - 1))"
   ]
  },
  {
   "cell_type": "markdown",
   "metadata": {},
   "source": [
    "P-value составляет ``0.22064``, что выше обычного уровня значимости 0.05. Это говорит о том, что нет статистически значимых различий в выручке между группами.\n",
    "\n",
    "Относительный прирост средней выручки группы ``B`` к средней выручке группы ``A`` составляет ``13.8%``."
   ]
  },
  {
   "cell_type": "markdown",
   "metadata": {},
   "source": [
    "<a id=\"num8\"></a>\n",
    "## Выводы"
   ]
  },
  {
   "cell_type": "markdown",
   "metadata": {},
   "source": [
    "1. **Обзор данных:** \n",
    "\n",
    "    - В предоставленных данных были три таблицы: ``hypothesis`` с информацией о выдвинутых гипотезах, ``orders`` с данными о финансовых операциях в магазине и ``visitors`` с данными о посещении сайта пользователями, за каждый день представлены данные отдельно по каждой группе теста.\n",
    "    - В таблице ``hypothesis`` содержалась информация о ``9`` гипотезах, включая их значения: Reach, Impact, Confidence и Effort. Данные были в полном порядке, пропусков нет, данные не дублировались. \n",
    "    - В таблице ``orders`` представлена информация о ``1197 `` заказах, включая идентификаторы покупателей, идентификаторы транзакций, дату и сумму каждой покупки. Тип данных для столбца ``date`` был исправлен на дату. Из данных были удалены пользователи, которые попали в обе группы теста одновременно. \n",
    "    - В таблице ``visitors`` содержалась информация о ``62 ``датах, в которые пользователи заходили на сайт, количестве пользователей в этот день, а также о группе теста. В данных пропусков не было, данные не дублировались. "
   ]
  },
  {
   "cell_type": "markdown",
   "metadata": {},
   "source": [
    "2. **Анализ данных:** \n",
    "\n",
    "    Таблица ``hypothesis``. \n",
    "\n",
    "    - Количество гипотез представлено девятью гипотезами, каждая из гипотез актуальна и в перспективе может привести к увеличению прибыли, либо уровня взаимодействия с платформой. \n",
    "    - Коэффициенты у каждого значения разные, что в итоге позволяет выбрать самые перспективные гипотезы и советовать анализировать их в первую очередь. \n",
    "    \n",
    "    Таблица ``orders``. \n",
    "    - Количество пользователей в тесте представлено не в равных частях. В идеальных условиях теста количество пользователей в группах должно быть одинаковым. \n",
    "    - В группе ``А`` — ``468`` пользователей. \n",
    "    - В группе ``В`` — ``548`` пользователей.\n",
    "    - Разница между группами порядка ``14.6%``. Во избежание влияния на результат, группы были оставлены в том же количестве. \n",
    "    \n",
    "    Таблица ``visitors``. \n",
    "    - Таблица отображает данные со счетчика посещений, что дает нам общее представление о посещаемости сайта в целом и отдельно по группам теста. "
   ]
  },
  {
   "cell_type": "markdown",
   "metadata": {},
   "source": [
    "3. **Проверка гипотез:**\n",
    "\n",
    "    - При использовании фреймворка ``ICE`` топ-3 гипотезы определены преимущественно по высоким значениям ``impact и confidence``, с умеренными усилиями для проверки.\n",
    "    - Гипотезы ``8 и 0`` выделяются на фоне других при анализе ``ICE``, обладая высоким влиянием и уверенностью.\n",
    "    - Фреймворк ``RICE`` учитывает дополнительный параметр охвата (reach), что влияет на пересмотр приоритетов гипотез.\n",
    "    - Гипотеза ``8``, хотя имеет высокие значения ``impact и confidence``, теряет приоритет при использовании ``RICE`` из-за низкого охвата.\n",
    "    - Пересечение гипотез в обоих фреймворках - гипотезы ``0 и 7``.\n",
    "    - Введение дополнительного коэффициента охвата в ``RICE`` может измениться приоритет гипотез в зависимости от охвата пользователей."
   ]
  },
  {
   "cell_type": "markdown",
   "metadata": {},
   "source": [
    "4. **Анализ А/В теста:**\n",
    "\n",
    "    __Cтатистическая значимость различий в среднем количестве заказов между группами А и В.__\n",
    "\n",
    "    Сырые данные: \n",
    "- P-value равно ``4.9%``, что меньше обычного уровня значимости 0.05. Это позволяет __отвергнуть нулевую гипотезу__ ``H0``, указывая на наличие статистически значимых различий в среднем количестве заказов между группами А и В по «сырым» данным.\n",
    "Относительный прирост среднего количества заказов в группе B по сравнению с группой A составляет ``17.1%``.\n",
    "\n",
    "    Очищенные данные:\n",
    "- P-value меньше уровня значимости — ``4.3%``, что также позволяет __отвергнуть нулевую гипотезу__ ``H0`` и указывает на наличие статистически значимых различий между группами по «очищенным» данным.\n",
    "Относительный прирост среднего количества заказов в группе B по сравнению с группой A составляет ``17.5%``.\n",
    "\n",
    "    Вывод:\n",
    "- Исходя из анализа, можно сказать, что статистически значимые различия в среднем количестве заказов между группами А и В обнаружены как по «сырым», так и по «очищенным» данным. Кроме того, относительный прирост количества заказов в группе B по сравнению с группой A примерно одинаков как для «сырых», так и для «очищенных» данных.\n",
    "\n",
    "    __Cтатистическая значимость различий в среднем чеке заказа между группами А и В.__\n",
    "\n",
    "    Сырые данные:\n",
    "- P-value равно 22.6%, что превышает уровень значимости 0.05. Это означает, что __нет статистически значимых различий__ в среднем чеке между группами по «сырым» данным.\n",
    "Относительный прирост суммы среднего чека группы B к среднему чеку группы A составляет ``50.7%``. Это высокий процент и может указывать на потенциальные различия в поведении клиентов между группами.\n",
    "\n",
    "    Очищенные данные:\n",
    "- P-value для «очищенных» данных равно 0.22064, что также превышает уровень значимости 0.05. Это говорит о том, что после удаления выбросов __нет статистически значимых различий__ в среднем чеке между группами.\n",
    "Относительный прирост средней выручки группы B к средней выручке группы A уменьшился до ``13.8%``. Это также меньше, чем при анализе «сырых» данных.\n",
    "\n",
    "    Вывод:\n",
    "- На основе текущих данных __нет статистически значимых различий__ в среднем чеке между группами ни по «сырым», ни по «очищенным» данным. Однако, стоит отметить, что в случае «сырых» данных относительный прирост среднего чека в группе B был значительно выше — 50.7%, чем после очистки данных — 13.8%. Вероятнее всего это влияние выбросов на результат. "
   ]
  },
  {
   "cell_type": "markdown",
   "metadata": {},
   "source": [
    "<a id=\"num9\"></a>\n",
    "## Рекомендации"
   ]
  },
  {
   "cell_type": "markdown",
   "metadata": {},
   "source": [
    "__Гипотезы.__\n",
    "\n",
    "- Стоит обратить внимание на гипотезы:  0 — __«Добавить два новых канала привлечения трафика, что позволит привлекать на 30% больше пользователей»__ и 7 — __«Добавить форму подписки на все основные страницы, чтобы собрать базу клиентов для email-рассылок»__.\n",
    "Это две перспективные гипотезы, которые оказывались в топе при использовании и фреймворка ICE, и фреймворка RICE. "
   ]
  },
  {
   "cell_type": "markdown",
   "metadata": {},
   "source": [
    "__Рекомендация для теста о среднем количестве заказов между группами А и В:__\n",
    "\n",
    "- На основе представленных результатов можно рекомендовать продолжить эксперимент и дополнительно изучить факторы, которые могли бы объяснить наблюдаемые различия между группами. "
   ]
  },
  {
   "cell_type": "markdown",
   "metadata": {},
   "source": [
    "__Рекомендация для теста о среднем чеке заказа между группами А и В:__\n",
    "\n",
    "- Продолжение эксперимента может быть оправданным для дополнительного анализа и подтверждения результатов."
   ]
  },
  {
   "cell_type": "markdown",
   "metadata": {},
   "source": [
    "__Временные рамки:__\n",
    "\n",
    "- Учитывая, что некоторые изменения по куммулятивным значениям показывали колебания, которые видны в рамках всего периода наблюдения, советую текущий эксперимента продлить еще на один месяц. "
   ]
  }
 ],
 "metadata": {
  "ExecuteTimeLog": [
   {
    "duration": 969,
    "start_time": "2024-09-14T06:11:43.372Z"
   },
   {
    "duration": 241,
    "start_time": "2024-09-14T06:12:01.369Z"
   },
   {
    "duration": 18,
    "start_time": "2024-09-14T06:12:36.753Z"
   },
   {
    "duration": 5,
    "start_time": "2024-09-14T06:57:28.950Z"
   },
   {
    "duration": 13,
    "start_time": "2024-09-14T06:57:56.089Z"
   },
   {
    "duration": 5,
    "start_time": "2024-09-14T06:58:17.091Z"
   },
   {
    "duration": 3,
    "start_time": "2024-09-14T06:58:37.141Z"
   },
   {
    "duration": 3,
    "start_time": "2024-09-14T06:58:55.650Z"
   },
   {
    "duration": 8,
    "start_time": "2024-09-14T06:59:19.598Z"
   },
   {
    "duration": 514,
    "start_time": "2024-09-14T06:59:58.117Z"
   },
   {
    "duration": 13,
    "start_time": "2024-09-14T07:00:19.288Z"
   },
   {
    "duration": 47,
    "start_time": "2024-09-14T07:01:57.442Z"
   },
   {
    "duration": 35,
    "start_time": "2024-09-14T07:02:25.861Z"
   },
   {
    "duration": 6,
    "start_time": "2024-09-14T07:03:53.702Z"
   },
   {
    "duration": 6,
    "start_time": "2024-09-14T07:04:06.488Z"
   },
   {
    "duration": 5,
    "start_time": "2024-09-14T07:04:15.577Z"
   },
   {
    "duration": 9,
    "start_time": "2024-09-14T07:04:53.526Z"
   },
   {
    "duration": 9,
    "start_time": "2024-09-14T07:05:24.989Z"
   },
   {
    "duration": 8,
    "start_time": "2024-09-14T07:05:52.182Z"
   },
   {
    "duration": 7,
    "start_time": "2024-09-14T07:06:44.559Z"
   },
   {
    "duration": 9,
    "start_time": "2024-09-14T07:07:31.959Z"
   },
   {
    "duration": 414,
    "start_time": "2024-09-14T07:07:41.618Z"
   },
   {
    "duration": 14,
    "start_time": "2024-09-14T07:08:29.358Z"
   },
   {
    "duration": 8,
    "start_time": "2024-09-14T07:08:55.179Z"
   },
   {
    "duration": 6,
    "start_time": "2024-09-14T07:09:20.681Z"
   },
   {
    "duration": 9,
    "start_time": "2024-09-14T07:09:40.619Z"
   },
   {
    "duration": 6,
    "start_time": "2024-09-14T07:09:57.537Z"
   },
   {
    "duration": 9,
    "start_time": "2024-09-14T07:10:36.031Z"
   },
   {
    "duration": 5,
    "start_time": "2024-09-14T07:10:46.375Z"
   },
   {
    "duration": 3,
    "start_time": "2024-09-14T07:11:40.650Z"
   },
   {
    "duration": 4,
    "start_time": "2024-09-14T07:11:52.241Z"
   },
   {
    "duration": 4,
    "start_time": "2024-09-14T07:12:50.869Z"
   },
   {
    "duration": 18,
    "start_time": "2024-09-14T07:13:23.751Z"
   },
   {
    "duration": 275,
    "start_time": "2024-09-14T07:14:29.802Z"
   },
   {
    "duration": 12,
    "start_time": "2024-09-14T07:14:38.741Z"
   },
   {
    "duration": 4,
    "start_time": "2024-09-14T07:15:29.234Z"
   },
   {
    "duration": 4,
    "start_time": "2024-09-14T07:15:35.959Z"
   },
   {
    "duration": 10,
    "start_time": "2024-09-14T07:15:49.051Z"
   },
   {
    "duration": 10,
    "start_time": "2024-09-14T07:16:40.334Z"
   },
   {
    "duration": 7,
    "start_time": "2024-09-14T07:29:48.452Z"
   },
   {
    "duration": 17,
    "start_time": "2024-09-14T07:29:57.012Z"
   },
   {
    "duration": 17,
    "start_time": "2024-09-14T07:31:14.020Z"
   },
   {
    "duration": 6,
    "start_time": "2024-09-14T07:31:50.502Z"
   },
   {
    "duration": 17,
    "start_time": "2024-09-14T07:31:58.452Z"
   },
   {
    "duration": 11,
    "start_time": "2024-09-14T07:32:07.661Z"
   },
   {
    "duration": 13,
    "start_time": "2024-09-14T07:32:15.112Z"
   },
   {
    "duration": 12,
    "start_time": "2024-09-14T07:32:22.972Z"
   },
   {
    "duration": 15,
    "start_time": "2024-09-14T07:34:27.902Z"
   },
   {
    "duration": 9,
    "start_time": "2024-09-14T07:35:02.761Z"
   },
   {
    "duration": 14,
    "start_time": "2024-09-14T07:35:10.744Z"
   },
   {
    "duration": 9,
    "start_time": "2024-09-14T07:36:17.164Z"
   },
   {
    "duration": 6,
    "start_time": "2024-09-14T07:36:26.134Z"
   },
   {
    "duration": 144,
    "start_time": "2024-09-14T07:36:37.098Z"
   },
   {
    "duration": 13,
    "start_time": "2024-09-14T07:36:48.538Z"
   },
   {
    "duration": 57,
    "start_time": "2024-09-14T07:37:40.545Z"
   },
   {
    "duration": 5,
    "start_time": "2024-09-14T07:37:54.510Z"
   },
   {
    "duration": 51,
    "start_time": "2024-09-14T07:38:35.322Z"
   },
   {
    "duration": 65,
    "start_time": "2024-09-14T07:38:46.302Z"
   },
   {
    "duration": 5,
    "start_time": "2024-09-14T07:39:14.775Z"
   },
   {
    "duration": 23,
    "start_time": "2024-09-14T07:40:24.381Z"
   },
   {
    "duration": 24,
    "start_time": "2024-09-14T07:40:48.732Z"
   },
   {
    "duration": 10,
    "start_time": "2024-09-14T07:40:50.434Z"
   },
   {
    "duration": 15,
    "start_time": "2024-09-14T07:42:21.545Z"
   },
   {
    "duration": 128,
    "start_time": "2024-09-14T07:42:31.545Z"
   },
   {
    "duration": 167,
    "start_time": "2024-09-14T07:43:39.323Z"
   },
   {
    "duration": 24,
    "start_time": "2024-09-14T07:43:51.504Z"
   },
   {
    "duration": 9,
    "start_time": "2024-09-14T07:44:02.886Z"
   },
   {
    "duration": 16,
    "start_time": "2024-09-14T07:44:55.023Z"
   },
   {
    "duration": 98,
    "start_time": "2024-09-14T07:45:04.013Z"
   },
   {
    "duration": 71,
    "start_time": "2024-09-14T07:45:12.645Z"
   },
   {
    "duration": 913,
    "start_time": "2024-09-14T13:46:25.525Z"
   },
   {
    "duration": 222,
    "start_time": "2024-09-14T13:46:26.441Z"
   },
   {
    "duration": 7,
    "start_time": "2024-09-14T13:46:26.665Z"
   },
   {
    "duration": 4,
    "start_time": "2024-09-14T13:46:26.674Z"
   },
   {
    "duration": 4,
    "start_time": "2024-09-14T13:46:26.681Z"
   },
   {
    "duration": 3,
    "start_time": "2024-09-14T13:46:26.686Z"
   },
   {
    "duration": 6,
    "start_time": "2024-09-14T13:46:26.691Z"
   },
   {
    "duration": 6,
    "start_time": "2024-09-14T13:46:26.699Z"
   },
   {
    "duration": 545,
    "start_time": "2024-09-14T13:46:26.707Z"
   },
   {
    "duration": 19,
    "start_time": "2024-09-14T13:46:27.254Z"
   },
   {
    "duration": 44,
    "start_time": "2024-09-14T13:46:27.276Z"
   },
   {
    "duration": 72,
    "start_time": "2024-09-14T13:46:27.322Z"
   },
   {
    "duration": 5,
    "start_time": "2024-09-14T13:46:27.396Z"
   },
   {
    "duration": 5,
    "start_time": "2024-09-14T13:46:27.404Z"
   },
   {
    "duration": 6,
    "start_time": "2024-09-14T13:46:27.410Z"
   },
   {
    "duration": 12,
    "start_time": "2024-09-14T13:46:27.417Z"
   },
   {
    "duration": 47,
    "start_time": "2024-09-14T13:46:27.431Z"
   },
   {
    "duration": 7,
    "start_time": "2024-09-14T13:46:27.480Z"
   },
   {
    "duration": 8,
    "start_time": "2024-09-14T13:46:27.489Z"
   },
   {
    "duration": 8,
    "start_time": "2024-09-14T13:46:27.498Z"
   },
   {
    "duration": 542,
    "start_time": "2024-09-14T13:46:27.507Z"
   },
   {
    "duration": 23,
    "start_time": "2024-09-14T13:46:28.051Z"
   },
   {
    "duration": 9,
    "start_time": "2024-09-14T13:46:28.076Z"
   },
   {
    "duration": 5,
    "start_time": "2024-09-14T13:46:28.087Z"
   },
   {
    "duration": 11,
    "start_time": "2024-09-14T13:46:28.094Z"
   },
   {
    "duration": 70,
    "start_time": "2024-09-14T13:46:28.106Z"
   },
   {
    "duration": 15,
    "start_time": "2024-09-14T13:46:28.184Z"
   },
   {
    "duration": 12,
    "start_time": "2024-09-14T13:46:28.201Z"
   },
   {
    "duration": 4,
    "start_time": "2024-09-14T13:46:28.215Z"
   },
   {
    "duration": 53,
    "start_time": "2024-09-14T13:46:28.220Z"
   },
   {
    "duration": 8,
    "start_time": "2024-09-14T13:46:28.275Z"
   },
   {
    "duration": 19,
    "start_time": "2024-09-14T13:46:28.285Z"
   },
   {
    "duration": 321,
    "start_time": "2024-09-14T13:46:28.306Z"
   },
   {
    "duration": 15,
    "start_time": "2024-09-14T13:46:28.629Z"
   },
   {
    "duration": 5,
    "start_time": "2024-09-14T13:46:28.646Z"
   },
   {
    "duration": 12,
    "start_time": "2024-09-14T13:46:28.667Z"
   },
   {
    "duration": 13,
    "start_time": "2024-09-14T13:46:28.681Z"
   },
   {
    "duration": 12,
    "start_time": "2024-09-14T13:46:28.696Z"
   },
   {
    "duration": 8,
    "start_time": "2024-09-14T13:46:28.710Z"
   },
   {
    "duration": 17,
    "start_time": "2024-09-14T13:46:28.719Z"
   },
   {
    "duration": 48,
    "start_time": "2024-09-14T13:46:28.741Z"
   },
   {
    "duration": 11,
    "start_time": "2024-09-14T13:46:28.790Z"
   },
   {
    "duration": 18,
    "start_time": "2024-09-14T13:46:28.803Z"
   },
   {
    "duration": 11,
    "start_time": "2024-09-14T13:46:28.822Z"
   },
   {
    "duration": 33,
    "start_time": "2024-09-14T13:46:28.834Z"
   },
   {
    "duration": 14,
    "start_time": "2024-09-14T13:46:28.868Z"
   },
   {
    "duration": 14,
    "start_time": "2024-09-14T13:46:28.883Z"
   },
   {
    "duration": 10,
    "start_time": "2024-09-14T13:46:28.899Z"
   },
   {
    "duration": 17,
    "start_time": "2024-09-14T13:46:28.910Z"
   },
   {
    "duration": 47,
    "start_time": "2024-09-14T13:46:28.929Z"
   },
   {
    "duration": 8,
    "start_time": "2024-09-14T13:46:28.977Z"
   },
   {
    "duration": 137,
    "start_time": "2024-09-14T13:46:28.986Z"
   },
   {
    "duration": 14,
    "start_time": "2024-09-14T13:46:29.125Z"
   },
   {
    "duration": 38,
    "start_time": "2024-09-14T13:46:29.141Z"
   },
   {
    "duration": 129,
    "start_time": "2024-09-14T13:46:29.180Z"
   },
   {
    "duration": 5,
    "start_time": "2024-09-14T13:46:29.310Z"
   },
   {
    "duration": 33,
    "start_time": "2024-09-14T13:46:29.317Z"
   },
   {
    "duration": 25,
    "start_time": "2024-09-14T13:46:29.352Z"
   },
   {
    "duration": 16,
    "start_time": "2024-09-14T13:46:29.379Z"
   },
   {
    "duration": 151,
    "start_time": "2024-09-14T13:46:29.397Z"
   },
   {
    "duration": 178,
    "start_time": "2024-09-14T13:46:29.549Z"
   },
   {
    "duration": 25,
    "start_time": "2024-09-14T13:46:29.729Z"
   },
   {
    "duration": 26,
    "start_time": "2024-09-14T13:46:29.756Z"
   },
   {
    "duration": 19,
    "start_time": "2024-09-14T13:46:29.784Z"
   },
   {
    "duration": 109,
    "start_time": "2024-09-14T13:46:29.805Z"
   },
   {
    "duration": 1049,
    "start_time": "2024-09-14T18:54:32.129Z"
   },
   {
    "duration": 258,
    "start_time": "2024-09-14T18:54:33.180Z"
   },
   {
    "duration": 5,
    "start_time": "2024-09-14T18:54:33.440Z"
   },
   {
    "duration": 4,
    "start_time": "2024-09-14T18:54:33.447Z"
   },
   {
    "duration": 5,
    "start_time": "2024-09-14T18:54:33.452Z"
   },
   {
    "duration": 3,
    "start_time": "2024-09-14T18:54:33.459Z"
   },
   {
    "duration": 9,
    "start_time": "2024-09-14T18:54:33.463Z"
   },
   {
    "duration": 7,
    "start_time": "2024-09-14T18:54:33.474Z"
   },
   {
    "duration": 591,
    "start_time": "2024-09-14T18:54:33.482Z"
   },
   {
    "duration": 9,
    "start_time": "2024-09-14T18:54:34.076Z"
   },
   {
    "duration": 74,
    "start_time": "2024-09-14T18:54:34.087Z"
   },
   {
    "duration": 38,
    "start_time": "2024-09-14T18:54:34.163Z"
   },
   {
    "duration": 6,
    "start_time": "2024-09-14T18:54:34.203Z"
   },
   {
    "duration": 43,
    "start_time": "2024-09-14T18:54:34.210Z"
   },
   {
    "duration": 6,
    "start_time": "2024-09-14T18:54:34.254Z"
   },
   {
    "duration": 10,
    "start_time": "2024-09-14T18:54:34.262Z"
   },
   {
    "duration": 9,
    "start_time": "2024-09-14T18:54:34.274Z"
   },
   {
    "duration": 7,
    "start_time": "2024-09-14T18:54:34.284Z"
   },
   {
    "duration": 30,
    "start_time": "2024-09-14T18:54:34.292Z"
   },
   {
    "duration": 35,
    "start_time": "2024-09-14T18:54:34.323Z"
   },
   {
    "duration": 408,
    "start_time": "2024-09-14T18:54:34.360Z"
   },
   {
    "duration": 15,
    "start_time": "2024-09-14T18:54:34.770Z"
   },
   {
    "duration": 67,
    "start_time": "2024-09-14T18:54:34.786Z"
   },
   {
    "duration": 6,
    "start_time": "2024-09-14T18:54:34.854Z"
   },
   {
    "duration": 11,
    "start_time": "2024-09-14T18:54:34.861Z"
   },
   {
    "duration": 7,
    "start_time": "2024-09-14T18:54:34.873Z"
   },
   {
    "duration": 14,
    "start_time": "2024-09-14T18:54:34.881Z"
   },
   {
    "duration": 53,
    "start_time": "2024-09-14T18:54:34.900Z"
   },
   {
    "duration": 3,
    "start_time": "2024-09-14T18:54:34.955Z"
   },
   {
    "duration": 5,
    "start_time": "2024-09-14T18:54:34.959Z"
   },
   {
    "duration": 4,
    "start_time": "2024-09-14T18:54:34.966Z"
   },
   {
    "duration": 19,
    "start_time": "2024-09-14T18:54:34.971Z"
   },
   {
    "duration": 309,
    "start_time": "2024-09-14T18:54:34.992Z"
   },
   {
    "duration": 11,
    "start_time": "2024-09-14T18:54:35.303Z"
   },
   {
    "duration": 4,
    "start_time": "2024-09-14T18:54:35.316Z"
   },
   {
    "duration": 16,
    "start_time": "2024-09-14T18:54:35.321Z"
   },
   {
    "duration": 23,
    "start_time": "2024-09-14T18:54:35.338Z"
   },
   {
    "duration": 12,
    "start_time": "2024-09-14T18:54:35.363Z"
   },
   {
    "duration": 8,
    "start_time": "2024-09-14T18:54:35.376Z"
   },
   {
    "duration": 34,
    "start_time": "2024-09-14T18:54:35.386Z"
   },
   {
    "duration": 16,
    "start_time": "2024-09-14T18:54:35.421Z"
   },
   {
    "duration": 18,
    "start_time": "2024-09-14T18:54:35.438Z"
   },
   {
    "duration": 23,
    "start_time": "2024-09-14T18:54:35.458Z"
   },
   {
    "duration": 11,
    "start_time": "2024-09-14T18:54:35.482Z"
   },
   {
    "duration": 24,
    "start_time": "2024-09-14T18:54:35.495Z"
   },
   {
    "duration": 33,
    "start_time": "2024-09-14T18:54:35.520Z"
   },
   {
    "duration": 16,
    "start_time": "2024-09-14T18:54:35.555Z"
   },
   {
    "duration": 49,
    "start_time": "2024-09-14T18:54:35.573Z"
   },
   {
    "duration": 99,
    "start_time": "2024-09-14T18:54:35.624Z"
   },
   {
    "duration": 26,
    "start_time": "2024-09-14T18:54:35.725Z"
   },
   {
    "duration": 7,
    "start_time": "2024-09-14T18:54:35.752Z"
   },
   {
    "duration": 54,
    "start_time": "2024-09-14T18:54:35.760Z"
   },
   {
    "duration": 14,
    "start_time": "2024-09-14T18:54:35.816Z"
   },
   {
    "duration": 26,
    "start_time": "2024-09-14T18:54:35.831Z"
   },
   {
    "duration": 102,
    "start_time": "2024-09-14T18:54:35.859Z"
   },
   {
    "duration": 6,
    "start_time": "2024-09-14T18:54:35.963Z"
   },
   {
    "duration": 26,
    "start_time": "2024-09-14T18:54:35.970Z"
   },
   {
    "duration": 17,
    "start_time": "2024-09-14T18:54:35.998Z"
   },
   {
    "duration": 43,
    "start_time": "2024-09-14T18:54:36.016Z"
   },
   {
    "duration": 142,
    "start_time": "2024-09-14T18:54:36.061Z"
   },
   {
    "duration": 164,
    "start_time": "2024-09-14T18:54:36.205Z"
   },
   {
    "duration": 25,
    "start_time": "2024-09-14T18:54:36.370Z"
   },
   {
    "duration": 11,
    "start_time": "2024-09-14T18:54:36.397Z"
   },
   {
    "duration": 16,
    "start_time": "2024-09-14T18:54:36.409Z"
   },
   {
    "duration": 140,
    "start_time": "2024-09-14T18:54:36.426Z"
   },
   {
    "duration": 13,
    "start_time": "2024-09-14T19:21:03.029Z"
   },
   {
    "duration": 12,
    "start_time": "2024-09-14T19:21:11.377Z"
   },
   {
    "duration": 11,
    "start_time": "2024-09-14T19:23:37.385Z"
   },
   {
    "duration": 56,
    "start_time": "2024-09-14T19:32:08.285Z"
   },
   {
    "duration": 66,
    "start_time": "2024-09-14T19:32:45.981Z"
   },
   {
    "duration": 65,
    "start_time": "2024-09-14T19:33:01.065Z"
   },
   {
    "duration": 22,
    "start_time": "2024-09-14T19:34:15.520Z"
   },
   {
    "duration": 23,
    "start_time": "2024-09-14T19:34:20.448Z"
   },
   {
    "duration": 22,
    "start_time": "2024-09-14T19:34:51.955Z"
   },
   {
    "duration": 9,
    "start_time": "2024-09-14T19:38:20.687Z"
   },
   {
    "duration": 15,
    "start_time": "2024-09-14T19:39:24.460Z"
   },
   {
    "duration": 12,
    "start_time": "2024-09-14T19:39:40.168Z"
   },
   {
    "duration": 990,
    "start_time": "2024-09-14T19:39:48.167Z"
   },
   {
    "duration": 92,
    "start_time": "2024-09-14T19:39:49.159Z"
   },
   {
    "duration": 5,
    "start_time": "2024-09-14T19:39:49.252Z"
   },
   {
    "duration": 7,
    "start_time": "2024-09-14T19:39:49.261Z"
   },
   {
    "duration": 5,
    "start_time": "2024-09-14T19:39:49.270Z"
   },
   {
    "duration": 5,
    "start_time": "2024-09-14T19:39:49.276Z"
   },
   {
    "duration": 4,
    "start_time": "2024-09-14T19:39:49.282Z"
   },
   {
    "duration": 13,
    "start_time": "2024-09-14T19:39:49.288Z"
   },
   {
    "duration": 471,
    "start_time": "2024-09-14T19:39:49.304Z"
   },
   {
    "duration": 9,
    "start_time": "2024-09-14T19:39:49.778Z"
   },
   {
    "duration": 81,
    "start_time": "2024-09-14T19:39:49.789Z"
   },
   {
    "duration": 80,
    "start_time": "2024-09-14T19:39:49.873Z"
   },
   {
    "duration": 9,
    "start_time": "2024-09-14T19:39:49.955Z"
   },
   {
    "duration": 7,
    "start_time": "2024-09-14T19:39:49.966Z"
   },
   {
    "duration": 9,
    "start_time": "2024-09-14T19:39:49.975Z"
   },
   {
    "duration": 9,
    "start_time": "2024-09-14T19:39:49.987Z"
   },
   {
    "duration": 64,
    "start_time": "2024-09-14T19:39:49.997Z"
   },
   {
    "duration": 19,
    "start_time": "2024-09-14T19:39:50.063Z"
   },
   {
    "duration": 9,
    "start_time": "2024-09-14T19:39:50.084Z"
   },
   {
    "duration": 11,
    "start_time": "2024-09-14T19:39:50.095Z"
   },
   {
    "duration": 442,
    "start_time": "2024-09-14T19:39:50.108Z"
   },
   {
    "duration": 24,
    "start_time": "2024-09-14T19:39:50.552Z"
   },
   {
    "duration": 83,
    "start_time": "2024-09-14T19:39:50.579Z"
   },
   {
    "duration": 27,
    "start_time": "2024-09-14T19:39:50.665Z"
   },
   {
    "duration": 21,
    "start_time": "2024-09-14T19:39:50.695Z"
   },
   {
    "duration": 36,
    "start_time": "2024-09-14T19:39:50.718Z"
   },
   {
    "duration": 19,
    "start_time": "2024-09-14T19:39:50.756Z"
   },
   {
    "duration": 6,
    "start_time": "2024-09-14T19:39:50.780Z"
   },
   {
    "duration": 4,
    "start_time": "2024-09-14T19:39:50.788Z"
   },
   {
    "duration": 9,
    "start_time": "2024-09-14T19:39:50.793Z"
   },
   {
    "duration": 13,
    "start_time": "2024-09-14T19:39:50.804Z"
   },
   {
    "duration": 68,
    "start_time": "2024-09-14T19:39:50.819Z"
   },
   {
    "duration": 368,
    "start_time": "2024-09-14T19:39:50.889Z"
   },
   {
    "duration": 14,
    "start_time": "2024-09-14T19:39:51.259Z"
   },
   {
    "duration": 5,
    "start_time": "2024-09-14T19:39:51.274Z"
   },
   {
    "duration": 5,
    "start_time": "2024-09-14T19:39:51.280Z"
   },
   {
    "duration": 71,
    "start_time": "2024-09-14T19:39:51.287Z"
   },
   {
    "duration": 9,
    "start_time": "2024-09-14T19:39:51.360Z"
   },
   {
    "duration": 7,
    "start_time": "2024-09-14T19:39:51.371Z"
   },
   {
    "duration": 297,
    "start_time": "2024-09-14T19:39:51.380Z"
   },
   {
    "duration": 0,
    "start_time": "2024-09-14T19:39:51.679Z"
   },
   {
    "duration": 0,
    "start_time": "2024-09-14T19:39:51.681Z"
   },
   {
    "duration": 0,
    "start_time": "2024-09-14T19:39:51.682Z"
   },
   {
    "duration": 0,
    "start_time": "2024-09-14T19:39:51.683Z"
   },
   {
    "duration": 0,
    "start_time": "2024-09-14T19:39:51.684Z"
   },
   {
    "duration": 0,
    "start_time": "2024-09-14T19:39:51.686Z"
   },
   {
    "duration": 0,
    "start_time": "2024-09-14T19:39:51.687Z"
   },
   {
    "duration": 0,
    "start_time": "2024-09-14T19:39:51.688Z"
   },
   {
    "duration": 0,
    "start_time": "2024-09-14T19:39:51.689Z"
   },
   {
    "duration": 0,
    "start_time": "2024-09-14T19:39:51.690Z"
   },
   {
    "duration": 0,
    "start_time": "2024-09-14T19:39:51.692Z"
   },
   {
    "duration": 0,
    "start_time": "2024-09-14T19:39:51.694Z"
   },
   {
    "duration": 0,
    "start_time": "2024-09-14T19:39:51.695Z"
   },
   {
    "duration": 0,
    "start_time": "2024-09-14T19:39:51.752Z"
   },
   {
    "duration": 0,
    "start_time": "2024-09-14T19:39:51.755Z"
   },
   {
    "duration": 0,
    "start_time": "2024-09-14T19:39:51.757Z"
   },
   {
    "duration": 0,
    "start_time": "2024-09-14T19:39:51.758Z"
   },
   {
    "duration": 0,
    "start_time": "2024-09-14T19:39:51.760Z"
   },
   {
    "duration": 0,
    "start_time": "2024-09-14T19:39:51.762Z"
   },
   {
    "duration": 0,
    "start_time": "2024-09-14T19:39:51.763Z"
   },
   {
    "duration": 0,
    "start_time": "2024-09-14T19:39:51.765Z"
   },
   {
    "duration": 0,
    "start_time": "2024-09-14T19:39:51.767Z"
   },
   {
    "duration": 0,
    "start_time": "2024-09-14T19:39:51.768Z"
   },
   {
    "duration": 0,
    "start_time": "2024-09-14T19:39:51.770Z"
   },
   {
    "duration": 0,
    "start_time": "2024-09-14T19:39:51.772Z"
   },
   {
    "duration": 17,
    "start_time": "2024-09-14T19:40:14.435Z"
   },
   {
    "duration": 16,
    "start_time": "2024-09-14T19:47:37.301Z"
   },
   {
    "duration": 11,
    "start_time": "2024-09-14T19:51:57.225Z"
   },
   {
    "duration": 7,
    "start_time": "2024-09-14T19:52:33.244Z"
   },
   {
    "duration": 7,
    "start_time": "2024-09-14T19:53:09.514Z"
   },
   {
    "duration": 10,
    "start_time": "2024-09-14T19:53:41.204Z"
   },
   {
    "duration": 1024,
    "start_time": "2024-09-14T19:53:58.164Z"
   },
   {
    "duration": 93,
    "start_time": "2024-09-14T19:53:59.189Z"
   },
   {
    "duration": 5,
    "start_time": "2024-09-14T19:53:59.284Z"
   },
   {
    "duration": 39,
    "start_time": "2024-09-14T19:53:59.291Z"
   },
   {
    "duration": 8,
    "start_time": "2024-09-14T19:53:59.332Z"
   },
   {
    "duration": 9,
    "start_time": "2024-09-14T19:53:59.342Z"
   },
   {
    "duration": 13,
    "start_time": "2024-09-14T19:53:59.353Z"
   },
   {
    "duration": 9,
    "start_time": "2024-09-14T19:53:59.369Z"
   },
   {
    "duration": 382,
    "start_time": "2024-09-14T19:53:59.380Z"
   },
   {
    "duration": 9,
    "start_time": "2024-09-14T19:53:59.765Z"
   },
   {
    "duration": 77,
    "start_time": "2024-09-14T19:53:59.776Z"
   },
   {
    "duration": 43,
    "start_time": "2024-09-14T19:53:59.855Z"
   },
   {
    "duration": 6,
    "start_time": "2024-09-14T19:53:59.899Z"
   },
   {
    "duration": 6,
    "start_time": "2024-09-14T19:53:59.907Z"
   },
   {
    "duration": 8,
    "start_time": "2024-09-14T19:53:59.952Z"
   },
   {
    "duration": 11,
    "start_time": "2024-09-14T19:53:59.963Z"
   },
   {
    "duration": 10,
    "start_time": "2024-09-14T19:53:59.977Z"
   },
   {
    "duration": 5,
    "start_time": "2024-09-14T19:53:59.989Z"
   },
   {
    "duration": 20,
    "start_time": "2024-09-14T19:53:59.996Z"
   },
   {
    "duration": 39,
    "start_time": "2024-09-14T19:54:00.018Z"
   },
   {
    "duration": 416,
    "start_time": "2024-09-14T19:54:00.059Z"
   },
   {
    "duration": 20,
    "start_time": "2024-09-14T19:54:00.477Z"
   },
   {
    "duration": 10,
    "start_time": "2024-09-14T19:54:00.499Z"
   },
   {
    "duration": 43,
    "start_time": "2024-09-14T19:54:00.511Z"
   },
   {
    "duration": 15,
    "start_time": "2024-09-14T19:54:00.556Z"
   },
   {
    "duration": 7,
    "start_time": "2024-09-14T19:54:00.572Z"
   },
   {
    "duration": 14,
    "start_time": "2024-09-14T19:54:00.581Z"
   },
   {
    "duration": 8,
    "start_time": "2024-09-14T19:54:00.651Z"
   },
   {
    "duration": 12,
    "start_time": "2024-09-14T19:54:00.661Z"
   },
   {
    "duration": 4,
    "start_time": "2024-09-14T19:54:00.676Z"
   },
   {
    "duration": 4,
    "start_time": "2024-09-14T19:54:00.682Z"
   },
   {
    "duration": 65,
    "start_time": "2024-09-14T19:54:00.688Z"
   },
   {
    "duration": 296,
    "start_time": "2024-09-14T19:54:00.756Z"
   },
   {
    "duration": 17,
    "start_time": "2024-09-14T19:54:01.054Z"
   },
   {
    "duration": 7,
    "start_time": "2024-09-14T19:54:01.074Z"
   },
   {
    "duration": 5,
    "start_time": "2024-09-14T19:54:01.082Z"
   },
   {
    "duration": 9,
    "start_time": "2024-09-14T19:54:01.089Z"
   },
   {
    "duration": 12,
    "start_time": "2024-09-14T19:54:01.100Z"
   },
   {
    "duration": 39,
    "start_time": "2024-09-14T19:54:01.113Z"
   },
   {
    "duration": 167,
    "start_time": "2024-09-14T19:54:01.154Z"
   },
   {
    "duration": 0,
    "start_time": "2024-09-14T19:54:01.322Z"
   },
   {
    "duration": 0,
    "start_time": "2024-09-14T19:54:01.323Z"
   },
   {
    "duration": 0,
    "start_time": "2024-09-14T19:54:01.325Z"
   },
   {
    "duration": 0,
    "start_time": "2024-09-14T19:54:01.326Z"
   },
   {
    "duration": 0,
    "start_time": "2024-09-14T19:54:01.327Z"
   },
   {
    "duration": 0,
    "start_time": "2024-09-14T19:54:01.328Z"
   },
   {
    "duration": 0,
    "start_time": "2024-09-14T19:54:01.329Z"
   },
   {
    "duration": 0,
    "start_time": "2024-09-14T19:54:01.330Z"
   },
   {
    "duration": 0,
    "start_time": "2024-09-14T19:54:01.331Z"
   },
   {
    "duration": 0,
    "start_time": "2024-09-14T19:54:01.354Z"
   },
   {
    "duration": 0,
    "start_time": "2024-09-14T19:54:01.358Z"
   },
   {
    "duration": 0,
    "start_time": "2024-09-14T19:54:01.359Z"
   },
   {
    "duration": 0,
    "start_time": "2024-09-14T19:54:01.361Z"
   },
   {
    "duration": 0,
    "start_time": "2024-09-14T19:54:01.363Z"
   },
   {
    "duration": 0,
    "start_time": "2024-09-14T19:54:01.364Z"
   },
   {
    "duration": 0,
    "start_time": "2024-09-14T19:54:01.365Z"
   },
   {
    "duration": 0,
    "start_time": "2024-09-14T19:54:01.366Z"
   },
   {
    "duration": 0,
    "start_time": "2024-09-14T19:54:01.367Z"
   },
   {
    "duration": 0,
    "start_time": "2024-09-14T19:54:01.368Z"
   },
   {
    "duration": 0,
    "start_time": "2024-09-14T19:54:01.369Z"
   },
   {
    "duration": 0,
    "start_time": "2024-09-14T19:54:01.372Z"
   },
   {
    "duration": 0,
    "start_time": "2024-09-14T19:54:01.373Z"
   },
   {
    "duration": 0,
    "start_time": "2024-09-14T19:54:01.374Z"
   },
   {
    "duration": 0,
    "start_time": "2024-09-14T19:54:01.375Z"
   },
   {
    "duration": 0,
    "start_time": "2024-09-14T19:54:01.376Z"
   },
   {
    "duration": 8,
    "start_time": "2024-09-14T19:55:01.058Z"
   },
   {
    "duration": 16,
    "start_time": "2024-09-14T19:55:09.078Z"
   },
   {
    "duration": 16,
    "start_time": "2024-09-14T19:57:23.396Z"
   },
   {
    "duration": 1012,
    "start_time": "2024-09-14T19:57:58.348Z"
   },
   {
    "duration": 92,
    "start_time": "2024-09-14T19:57:59.362Z"
   },
   {
    "duration": 5,
    "start_time": "2024-09-14T19:57:59.455Z"
   },
   {
    "duration": 4,
    "start_time": "2024-09-14T19:57:59.463Z"
   },
   {
    "duration": 3,
    "start_time": "2024-09-14T19:57:59.469Z"
   },
   {
    "duration": 5,
    "start_time": "2024-09-14T19:57:59.473Z"
   },
   {
    "duration": 3,
    "start_time": "2024-09-14T19:57:59.479Z"
   },
   {
    "duration": 7,
    "start_time": "2024-09-14T19:57:59.484Z"
   },
   {
    "duration": 374,
    "start_time": "2024-09-14T19:57:59.492Z"
   },
   {
    "duration": 9,
    "start_time": "2024-09-14T19:57:59.869Z"
   },
   {
    "duration": 79,
    "start_time": "2024-09-14T19:57:59.880Z"
   },
   {
    "duration": 50,
    "start_time": "2024-09-14T19:57:59.960Z"
   },
   {
    "duration": 42,
    "start_time": "2024-09-14T19:58:00.012Z"
   },
   {
    "duration": 36,
    "start_time": "2024-09-14T19:58:00.057Z"
   },
   {
    "duration": 17,
    "start_time": "2024-09-14T19:58:00.096Z"
   },
   {
    "duration": 19,
    "start_time": "2024-09-14T19:58:00.115Z"
   },
   {
    "duration": 15,
    "start_time": "2024-09-14T19:58:00.136Z"
   },
   {
    "duration": 19,
    "start_time": "2024-09-14T19:58:00.153Z"
   },
   {
    "duration": 25,
    "start_time": "2024-09-14T19:58:00.174Z"
   },
   {
    "duration": 32,
    "start_time": "2024-09-14T19:58:00.201Z"
   },
   {
    "duration": 397,
    "start_time": "2024-09-14T19:58:00.235Z"
   },
   {
    "duration": 14,
    "start_time": "2024-09-14T19:58:00.634Z"
   },
   {
    "duration": 42,
    "start_time": "2024-09-14T19:58:00.649Z"
   },
   {
    "duration": 7,
    "start_time": "2024-09-14T19:58:00.693Z"
   },
   {
    "duration": 51,
    "start_time": "2024-09-14T19:58:00.702Z"
   },
   {
    "duration": 8,
    "start_time": "2024-09-14T19:58:00.755Z"
   },
   {
    "duration": 10,
    "start_time": "2024-09-14T19:58:00.765Z"
   },
   {
    "duration": 73,
    "start_time": "2024-09-14T19:58:00.779Z"
   },
   {
    "duration": 3,
    "start_time": "2024-09-14T19:58:00.855Z"
   },
   {
    "duration": 6,
    "start_time": "2024-09-14T19:58:00.860Z"
   },
   {
    "duration": 15,
    "start_time": "2024-09-14T19:58:00.868Z"
   },
   {
    "duration": 46,
    "start_time": "2024-09-14T19:58:00.885Z"
   },
   {
    "duration": 374,
    "start_time": "2024-09-14T19:58:00.932Z"
   },
   {
    "duration": 12,
    "start_time": "2024-09-14T19:58:01.307Z"
   },
   {
    "duration": 16,
    "start_time": "2024-09-14T19:58:01.320Z"
   },
   {
    "duration": 10,
    "start_time": "2024-09-14T19:58:01.337Z"
   },
   {
    "duration": 15,
    "start_time": "2024-09-14T19:58:01.348Z"
   },
   {
    "duration": 12,
    "start_time": "2024-09-14T19:58:01.365Z"
   },
   {
    "duration": 12,
    "start_time": "2024-09-14T19:58:01.379Z"
   },
   {
    "duration": 45,
    "start_time": "2024-09-14T19:58:01.394Z"
   },
   {
    "duration": 27,
    "start_time": "2024-09-14T19:58:01.442Z"
   },
   {
    "duration": 8,
    "start_time": "2024-09-14T19:58:01.471Z"
   },
   {
    "duration": 33,
    "start_time": "2024-09-14T19:58:01.481Z"
   },
   {
    "duration": 11,
    "start_time": "2024-09-14T19:58:01.515Z"
   },
   {
    "duration": 34,
    "start_time": "2024-09-14T19:58:01.528Z"
   },
   {
    "duration": 17,
    "start_time": "2024-09-14T19:58:01.564Z"
   },
   {
    "duration": 17,
    "start_time": "2024-09-14T19:58:01.583Z"
   },
   {
    "duration": 25,
    "start_time": "2024-09-14T19:58:01.601Z"
   },
   {
    "duration": 110,
    "start_time": "2024-09-14T19:58:01.627Z"
   },
   {
    "duration": 9,
    "start_time": "2024-09-14T19:58:01.751Z"
   },
   {
    "duration": 33,
    "start_time": "2024-09-14T19:58:01.761Z"
   },
   {
    "duration": 61,
    "start_time": "2024-09-14T19:58:01.796Z"
   },
   {
    "duration": 14,
    "start_time": "2024-09-14T19:58:01.858Z"
   },
   {
    "duration": 5,
    "start_time": "2024-09-14T19:58:01.873Z"
   },
   {
    "duration": 84,
    "start_time": "2024-09-14T19:58:01.879Z"
   },
   {
    "duration": 5,
    "start_time": "2024-09-14T19:58:01.965Z"
   },
   {
    "duration": 36,
    "start_time": "2024-09-14T19:58:01.971Z"
   },
   {
    "duration": 11,
    "start_time": "2024-09-14T19:58:02.008Z"
   },
   {
    "duration": 45,
    "start_time": "2024-09-14T19:58:02.021Z"
   },
   {
    "duration": 128,
    "start_time": "2024-09-14T19:58:02.068Z"
   },
   {
    "duration": 189,
    "start_time": "2024-09-14T19:58:02.198Z"
   },
   {
    "duration": 25,
    "start_time": "2024-09-14T19:58:02.388Z"
   },
   {
    "duration": 10,
    "start_time": "2024-09-14T19:58:02.414Z"
   },
   {
    "duration": 39,
    "start_time": "2024-09-14T19:58:02.426Z"
   },
   {
    "duration": 100,
    "start_time": "2024-09-14T19:58:02.467Z"
   },
   {
    "duration": 16,
    "start_time": "2024-09-14T19:58:35.012Z"
   },
   {
    "duration": 16,
    "start_time": "2024-09-14T19:59:24.424Z"
   },
   {
    "duration": 17,
    "start_time": "2024-09-14T20:00:19.038Z"
   },
   {
    "duration": 18,
    "start_time": "2024-09-14T20:00:57.245Z"
   },
   {
    "duration": 1047,
    "start_time": "2024-09-14T20:02:11.437Z"
   },
   {
    "duration": 92,
    "start_time": "2024-09-14T20:02:12.486Z"
   },
   {
    "duration": 6,
    "start_time": "2024-09-14T20:02:12.579Z"
   },
   {
    "duration": 22,
    "start_time": "2024-09-14T20:02:12.587Z"
   },
   {
    "duration": 36,
    "start_time": "2024-09-14T20:02:12.611Z"
   },
   {
    "duration": 51,
    "start_time": "2024-09-14T20:02:12.649Z"
   },
   {
    "duration": 18,
    "start_time": "2024-09-14T20:02:12.702Z"
   },
   {
    "duration": 15,
    "start_time": "2024-09-14T20:02:12.722Z"
   },
   {
    "duration": 378,
    "start_time": "2024-09-14T20:02:12.738Z"
   },
   {
    "duration": 9,
    "start_time": "2024-09-14T20:02:13.118Z"
   },
   {
    "duration": 80,
    "start_time": "2024-09-14T20:02:13.129Z"
   },
   {
    "duration": 67,
    "start_time": "2024-09-14T20:02:13.211Z"
   },
   {
    "duration": 7,
    "start_time": "2024-09-14T20:02:13.280Z"
   },
   {
    "duration": 60,
    "start_time": "2024-09-14T20:02:13.293Z"
   },
   {
    "duration": 18,
    "start_time": "2024-09-14T20:02:13.354Z"
   },
   {
    "duration": 22,
    "start_time": "2024-09-14T20:02:13.374Z"
   },
   {
    "duration": 20,
    "start_time": "2024-09-14T20:02:13.397Z"
   },
   {
    "duration": 8,
    "start_time": "2024-09-14T20:02:13.419Z"
   },
   {
    "duration": 34,
    "start_time": "2024-09-14T20:02:13.430Z"
   },
   {
    "duration": 14,
    "start_time": "2024-09-14T20:02:13.466Z"
   },
   {
    "duration": 405,
    "start_time": "2024-09-14T20:02:13.482Z"
   },
   {
    "duration": 23,
    "start_time": "2024-09-14T20:02:13.889Z"
   },
   {
    "duration": 38,
    "start_time": "2024-09-14T20:02:13.914Z"
   },
   {
    "duration": 6,
    "start_time": "2024-09-14T20:02:13.954Z"
   },
   {
    "duration": 13,
    "start_time": "2024-09-14T20:02:13.962Z"
   },
   {
    "duration": 15,
    "start_time": "2024-09-14T20:02:13.977Z"
   },
   {
    "duration": 67,
    "start_time": "2024-09-14T20:02:13.994Z"
   },
   {
    "duration": 6,
    "start_time": "2024-09-14T20:02:14.063Z"
   },
   {
    "duration": 8,
    "start_time": "2024-09-14T20:02:14.071Z"
   },
   {
    "duration": 10,
    "start_time": "2024-09-14T20:02:14.081Z"
   },
   {
    "duration": 59,
    "start_time": "2024-09-14T20:02:14.093Z"
   },
   {
    "duration": 21,
    "start_time": "2024-09-14T20:02:14.154Z"
   },
   {
    "duration": 339,
    "start_time": "2024-09-14T20:02:14.176Z"
   },
   {
    "duration": 12,
    "start_time": "2024-09-14T20:02:14.517Z"
   },
   {
    "duration": 25,
    "start_time": "2024-09-14T20:02:14.531Z"
   },
   {
    "duration": 5,
    "start_time": "2024-09-14T20:02:14.558Z"
   },
   {
    "duration": 12,
    "start_time": "2024-09-14T20:02:14.565Z"
   },
   {
    "duration": 10,
    "start_time": "2024-09-14T20:02:14.579Z"
   },
   {
    "duration": 7,
    "start_time": "2024-09-14T20:02:14.591Z"
   },
   {
    "duration": 52,
    "start_time": "2024-09-14T20:02:14.600Z"
   },
   {
    "duration": 44,
    "start_time": "2024-09-14T20:02:14.656Z"
   },
   {
    "duration": 13,
    "start_time": "2024-09-14T20:02:14.701Z"
   },
   {
    "duration": 25,
    "start_time": "2024-09-14T20:02:14.721Z"
   },
   {
    "duration": 12,
    "start_time": "2024-09-14T20:02:14.747Z"
   },
   {
    "duration": 17,
    "start_time": "2024-09-14T20:02:14.760Z"
   },
   {
    "duration": 24,
    "start_time": "2024-09-14T20:02:14.779Z"
   },
   {
    "duration": 16,
    "start_time": "2024-09-14T20:02:14.805Z"
   },
   {
    "duration": 38,
    "start_time": "2024-09-14T20:02:14.823Z"
   },
   {
    "duration": 29,
    "start_time": "2024-09-14T20:02:14.864Z"
   },
   {
    "duration": 25,
    "start_time": "2024-09-14T20:02:14.894Z"
   },
   {
    "duration": 18,
    "start_time": "2024-09-14T20:02:14.921Z"
   },
   {
    "duration": 146,
    "start_time": "2024-09-14T20:02:14.941Z"
   },
   {
    "duration": 17,
    "start_time": "2024-09-14T20:02:15.088Z"
   },
   {
    "duration": 16,
    "start_time": "2024-09-14T20:02:15.107Z"
   },
   {
    "duration": 77,
    "start_time": "2024-09-14T20:02:15.125Z"
   },
   {
    "duration": 5,
    "start_time": "2024-09-14T20:02:15.204Z"
   },
   {
    "duration": 43,
    "start_time": "2024-09-14T20:02:15.210Z"
   },
   {
    "duration": 11,
    "start_time": "2024-09-14T20:02:15.255Z"
   },
   {
    "duration": 32,
    "start_time": "2024-09-14T20:02:15.268Z"
   },
   {
    "duration": 192,
    "start_time": "2024-09-14T20:02:15.302Z"
   },
   {
    "duration": 172,
    "start_time": "2024-09-14T20:02:15.496Z"
   },
   {
    "duration": 29,
    "start_time": "2024-09-14T20:02:15.669Z"
   },
   {
    "duration": 17,
    "start_time": "2024-09-14T20:02:15.699Z"
   },
   {
    "duration": 39,
    "start_time": "2024-09-14T20:02:15.717Z"
   },
   {
    "duration": 120,
    "start_time": "2024-09-14T20:02:15.758Z"
   }
  ],
  "kernelspec": {
   "display_name": "Python 3 (ipykernel)",
   "language": "python",
   "name": "python3"
  },
  "language_info": {
   "codemirror_mode": {
    "name": "ipython",
    "version": 3
   },
   "file_extension": ".py",
   "mimetype": "text/x-python",
   "name": "python",
   "nbconvert_exporter": "python",
   "pygments_lexer": "ipython3",
   "version": "3.9.22"
  },
  "toc": {
   "base_numbering": 1,
   "nav_menu": {},
   "number_sections": true,
   "sideBar": true,
   "skip_h1_title": true,
   "title_cell": "Table of Contents",
   "title_sidebar": "Contents",
   "toc_cell": false,
   "toc_position": {
    "height": "calc(100% - 180px)",
    "left": "10px",
    "top": "150px",
    "width": "341.333px"
   },
   "toc_section_display": true,
   "toc_window_display": true
  }
 },
 "nbformat": 4,
 "nbformat_minor": 4
}
