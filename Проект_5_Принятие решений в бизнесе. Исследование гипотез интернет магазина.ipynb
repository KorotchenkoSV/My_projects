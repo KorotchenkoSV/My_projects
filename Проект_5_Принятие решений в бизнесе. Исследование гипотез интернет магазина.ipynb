{
 "cells": [
  {
   "cell_type": "markdown",
   "metadata": {},
   "source": [
    "# Проект: Исследование гипотез интернет-магазина. Анализ A/B тестов."
   ]
  },
  {
   "cell_type": "markdown",
   "metadata": {},
   "source": [
    "<a id=\"num1\"></a>\n",
    "## Цели"
   ]
  },
  {
   "cell_type": "markdown",
   "metadata": {},
   "source": [
    "Был подготовлен список гипотез для увеличения выручки, необходимо проверить его с помощью фреймворков ICE и RICE, и определить приоритетный и перспективные. \n",
    "\n",
    "Были проведены A/B-тесты, следует проанализировать результаты и сделать выводы. "
   ]
  },
  {
   "cell_type": "markdown",
   "metadata": {},
   "source": [
    "<a id=\"num2\"></a>\n",
    "## Вопросы"
   ]
  },
  {
   "cell_type": "markdown",
   "metadata": {},
   "source": [
    "1. __Применить фреймворк ICE и RICE для приоритизации гипотез.__\n",
    "    - Исследовать изменения и сделайте выводы. "
   ]
  },
  {
   "cell_type": "markdown",
   "metadata": {},
   "source": [
    "2. __Провести A/B-тест:__\n",
    "    - Построить график кумулятивной выручки по группам. \n",
    "    - Построить график кумулятивного среднего чека по группам. \n",
    "    - Построить график относительного изменения кумулятивного среднего чека группы B к группе A. \n",
    "    - Построить график кумулятивного среднего количества заказов на посетителя по группам.\n",
    "    - Построить график относительного изменения кумулятивного среднего количества заказов на посетителя группы B к группе A.\n",
    "    - Построить точечный график количества заказов по пользователям. \n",
    "    - Определить 95-й и 99-й перцентили количества заказов на пользователя.\n",
    "    - Построить точечный график стоимостей заказов. \n",
    "    - Определить 95-й и 99-й перцентили стоимости заказов. \n",
    "    - Определить статистическую значимость различий в среднем количестве заказов на посетителя между группами по «сырым» данным. \n",
    "    - Определить статистическую значимость различий в среднем чеке заказа между группами по «сырым» данным. \n",
    "    - Определить статистическую значимость различий в среднем количестве заказов на посетителя между группами по «очищенным» данным. \n",
    "    - Определить статистическую значимость различий в среднем чеке заказа между группами по «очищенным» данным."
   ]
  },
  {
   "cell_type": "markdown",
   "metadata": {},
   "source": [
    "3. __Принять решение по результатам теста.__"
   ]
  },
  {
   "cell_type": "markdown",
   "metadata": {},
   "source": [
    "<a id=\"num3\"></a>\n",
    "## Оглавление \n",
    "* [1. Цели исследования](#num1)\n",
    "* [2. Поставленные вопросы](#num2)\n",
    "* [3. Оглавление](#num3)\n",
    "* [4. Ключ к данным](#num4)\n",
    "* [5. Подготовка данных](#num5)\n",
    "    * [5.1. Библиотеки](#num51)\n",
    "    * [5.2. Загрузка данных](#num52)\n",
    "    * [5.3. Функции](#num53)\n",
    "    * [5.4. Ознакомление с данными](#num54)\n",
    "    * [5.5. Предобработка данных](#num55)\n",
    "        * [5.5.1. Приведение названий к единому виду](#num551)\n",
    "        * [5.5.2. Проверка на уникальность](#num552)\n",
    "        * [5.5.3. Проверка данных](#num553)\n",
    "            * [5.5.3.1. hypohtesis](#num5531)\n",
    "            * [5.5.3.2 orders](#num5531)\n",
    "            * [5.5.3.3 visitors](#num5533)\n",
    "* [6. Исследование](#num6)\n",
    "    * [6.1. Приоритизация гипотез](#num61)\n",
    "        * [6.1.1. ICE](#num61)\n",
    "        * [6.1.2. RICE](#num61)\n",
    "        * [6.1.3. Анализ результатов между ICE и RICE](#num61)\n",
    "* [7. Анализ A/B теста](#num7) \n",
    "    * [7.1. График кумулятивной выручки по группам](#num71)\n",
    "    * [7.2. График кумулятивного среднего чека по группам](#num72)\n",
    "    * [7.3. График относительного изменения кумулятивного среднего чека группы B к группе A](#num73)\n",
    "    * [7.4. График кумулятивного среднего количества заказов на посетителя по группам](#num74)\n",
    "    * [7.5. График относительного изменения кумулятивного среднего количества заказов на посетителя группы B к группе A](#num75)\n",
    "    * [7.6. График количества заказов по пользователям](#num76)\n",
    "    * [7.7. Перцентили количества заказов на пользователя](#num77)\n",
    "    * [7.8. График стоимостей заказов](#num78)\n",
    "    * [7.9. Перцентили стоимости заказов](#num79)\n",
    "    * [7.10. Cтатистическая значимость различий в среднем количестве заказов на посетителя между группами по «сырым» данным](#num710)\n",
    "    * [7.11. Cтатистическая значимость различий в среднем чеке заказа между группами по «сырым» данным](#num711)\n",
    "    * [7.12. Cтатистическая значимость различий в среднем количестве заказов на посетителя между группами по «очищенным» данным](#num712)\n",
    "    [7.13 Cтатистическую значимость различий в среднем чеке заказа между группами по «очищенным» данным](#num713)\n",
    "* [8. Выводы](#num8)  \n",
    "* [9. Рекомендации](#num9)   \n",
    "* [10. Дополнительная информация](#num10)   \n",
    "    * [10.1. Сноски](#num101)"
   ]
  },
  {
   "cell_type": "markdown",
   "metadata": {},
   "source": [
    "<a id=\"num4\"></a>\n",
    "## Ключ к данным "
   ]
  },
  {
   "cell_type": "markdown",
   "metadata": {},
   "source": [
    "<a id=\"num5\"></a>\n",
    "## Подготовка данных"
   ]
  },
  {
   "cell_type": "markdown",
   "metadata": {},
   "source": [
    "<a id=\"num51\"></a>\n",
    "### Библиотеки"
   ]
  },
  {
   "cell_type": "code",
   "execution_count": 1,
   "metadata": {},
   "outputs": [],
   "source": [
    "import plotly.io as pio\n",
    "pio.renderers.default = \"svg\"\n",
    "svg_renderer = pio.renderers[\"svg\"]\n",
    "svg_renderer.scale = 1.2"
   ]
  },
  {
   "cell_type": "code",
   "execution_count": 2,
   "metadata": {},
   "outputs": [],
   "source": [
    "import pandas as pd\n",
    "import plotly.express as px\n",
    "import numpy as np\n",
    "import plotly.graph_objects as go\n",
    "from scipy import stats as st\n",
    "import scipy.stats as stats"
   ]
  },
  {
   "cell_type": "markdown",
   "metadata": {},
   "source": [
    "<a id=\"num52\"></a>\n",
    "### Загрузка данных"
   ]
  },
  {
   "cell_type": "code",
   "execution_count": 3,
   "metadata": {},
   "outputs": [],
   "source": [
    "try:\n",
    "    hypothesis = pd.read_csv(\"C:\\\\Users\\\\alena\\\\OneDrive\\\\Рабочий стол\\\\Python\\\\Датасеты проектов Яндекс\\\\Принятие решений в бизнесе\\\\hypothesis.csv\") \n",
    "    orders = pd.read_csv(\"C:\\\\Users\\\\alena\\\\OneDrive\\\\Рабочий стол\\\\Python\\\\Датасеты проектов Яндекс\\\\Принятие решений в бизнесе\\\\orders.csv\", parse_dates=['date']) \n",
    "    visitors = pd.read_csv(\"C:\\\\Users\\\\alena\\\\OneDrive\\\\Рабочий стол\\\\Python\\\\Датасеты проектов Яндекс\\\\Принятие решений в бизнесе\\\\visitors.csv\", parse_dates=['date']) \n",
    "except:\n",
    "    display('No data')"
   ]
  },
  {
   "cell_type": "markdown",
   "metadata": {},
   "source": [
    "<a id=\"num53\"></a>\n",
    "### Функции"
   ]
  },
  {
   "cell_type": "markdown",
   "metadata": {},
   "source": [
    "Функция ``data_head_desc_info`` отображает основную информацию о имеющихся данных из указанного файла. \n",
    "\n",
    "*data_head_desc_info(датафрейм)*."
   ]
  },
  {
   "cell_type": "code",
   "execution_count": 4,
   "metadata": {},
   "outputs": [],
   "source": [
    "def data_head_desc_info(data):\n",
    "    try:\n",
    "        print('\\033[1m'+'1. Первые пять строк данных:'+'\\033[0m')\n",
    "        display(data.head(5))\n",
    "        print('\\033[1m'+'2. Описание данных:'+'\\033[0m')\n",
    "        display(data.describe())\n",
    "        print('\\033[1m'+'3. Общая информацию о датафрейме'+'\\033[0m')\n",
    "        display(data.info())\n",
    "        print('\\033[1m'+'4. Графическое отображение количества пропусков'+'\\033[0m')\n",
    "        display((data.isna().mean() * 100).sort_values().to_frame().style.format(\"{:.2f}\", na_rep=\"\").background_gradient('Blues'))\n",
    "        print('\\033[1m'+'5. Процент пропусков'+'\\033[0m')\n",
    "        display(round (1 - data.count()/data.shape[0], 2) * 100)\n",
    "    except:\n",
    "        return 'Проверьте параметры'"
   ]
  },
  {
   "cell_type": "markdown",
   "metadata": {},
   "source": [
    "Функция ``data_isna_nuniq`` для получения короткой информации по определенным столбцам.  \n",
    "\n",
    "*data_isna_nuniq (столбец по которому получаем информацию по пропускам и уникальным значениям)*."
   ]
  },
  {
   "cell_type": "code",
   "execution_count": 5,
   "metadata": {},
   "outputs": [],
   "source": [
    "def data_isna_nuniq(data):\n",
    "    try:\n",
    "        for column in data.columns:\n",
    "            print('Столбец:', column)\n",
    "            print('Количество пропусков:', data[column].isna().sum())\n",
    "            print('Количество уникальных значений:', data[column].nunique())\n",
    "    except Exception as e:\n",
    "        return 'Проверьте параметры: {}'.format(str(e))"
   ]
  },
  {
   "cell_type": "markdown",
   "metadata": {},
   "source": [
    "Функция ``lower`` для приведения названий столбцов к единому виду.  \n",
    "\n",
    "*lower (датафрейм)*."
   ]
  },
  {
   "cell_type": "code",
   "execution_count": 6,
   "metadata": {},
   "outputs": [],
   "source": [
    "def lower(data):\n",
    "    try:\n",
    "        data.columns = [x.lower().replace(' ', '_') for x in data.columns.values]\n",
    "        display(data.head(0))\n",
    "    except:\n",
    "        return 'Проверьте параметры'"
   ]
  },
  {
   "cell_type": "markdown",
   "metadata": {},
   "source": [
    "Палитра ``colors``: зададим предпочтительные для оформления цвета."
   ]
  },
  {
   "cell_type": "code",
   "execution_count": 7,
   "metadata": {},
   "outputs": [],
   "source": [
    "colors = (['#063751','#08527A',\n",
    "           '#0B6DA2','#0E89CB',\n",
    "           '#15A3EF','#3EB3F2',\n",
    "           '#66C3F4','#8FD3F7',\n",
    "           '#B7E3FA','#B7E3FA',\n",
    "           '#8FD3F7','#66C3F4',\n",
    "           '#3EB3F2','#15A3EF',\n",
    "           '#0E89CB','#0B6DA2',\n",
    "           '#08527A','#063751'])"
   ]
  },
  {
   "cell_type": "markdown",
   "metadata": {},
   "source": [
    "Функция ``uniq`` для проверки датафрейма orders и производных от него на уникальность пользователей в группах теста.  \n",
    "\n",
    "*uniq (датафрейм)*."
   ]
  },
  {
   "cell_type": "code",
   "execution_count": 8,
   "metadata": {},
   "outputs": [],
   "source": [
    "def uniq(data):\n",
    "    users_a = data.query('group == \"A\"')['visitorid']\n",
    "    users_b = data.query('group == \"B\"')['visitorid']\n",
    "    matching_elements = users_b[users_b.isin(users_a)]\n",
    "    display(matching_elements.nunique())\n",
    "    return(matching_elements)"
   ]
  },
  {
   "cell_type": "markdown",
   "metadata": {},
   "source": [
    "Функция ``cumulative`` для отображения графика по переданным данным. Используется в куммулятивных графиках \n",
    "\n",
    "*cumulative (ось х для первого элемента, ось у для первого элемента, ось х для второго элемента(при наличии), ось у для второго элемента(при наличии), первая линия значений(прерывающаяся), вторая линия значений(прерывающаяся))*."
   ]
  },
  {
   "cell_type": "code",
   "execution_count": 9,
   "metadata": {},
   "outputs": [],
   "source": [
    "def cumulative(a_x_axis, a_y_axis, b_x_axis=None, b_y_axis=None, axhline=None, one_y=None, two_y=None, y_name=None, x_name=None, title_name=None):\n",
    "    trace_a = go.Scatter(\n",
    "        x=a_x_axis,\n",
    "        y=a_y_axis,\n",
    "        mode='lines',\n",
    "        name='Группа A',\n",
    "        line=dict(color='blue'))\n",
    "\n",
    "    fig = go.Figure(data=[trace_a])\n",
    "\n",
    "    if b_x_axis is not None and b_y_axis is not None:\n",
    "        trace_b = go.Scatter(\n",
    "            x=b_x_axis,\n",
    "            y=b_y_axis,\n",
    "            mode='lines',\n",
    "            name='Группа B',\n",
    "            line=dict(color='red'))\n",
    "        fig.add_trace(trace_b)\n",
    "    if axhline=='one' and one_y is not None:\n",
    "        fig.add_shape(\n",
    "            type=\"line\",\n",
    "            x0=min(a_x_axis),  \n",
    "            y0=one_y, \n",
    "            x1=max(a_x_axis), \n",
    "            y1=one_y,  \n",
    "            line=dict(color=\"black\", dash=\"dash\")  # Цвет и стиль линии \n",
    "        )\n",
    "    if axhline == 'two' and one_y is not None and two_y is not None:\n",
    "        fig.add_shape(\n",
    "            type=\"line\",\n",
    "            x0=min(a_x_axis),  \n",
    "            y0=one_y,  \n",
    "            x1=max(a_x_axis),  \n",
    "            y1=one_y,  \n",
    "            line=dict(color=\"black\", dash=\"dash\")  # Цвет и стиль линии \n",
    "        )\n",
    "        fig.add_shape(\n",
    "            type=\"line\",\n",
    "            x0=min(a_x_axis), \n",
    "            y0=two_y, \n",
    "            x1=max(a_x_axis),  \n",
    "            y1=two_y,  \n",
    "            line=dict(color=\"black\", dash=\"dash\")  # Цвет и стиль линии \n",
    "        )\n",
    "\n",
    "    fig.update_layout(xaxis_title=x_name, yaxis_title=y_name, \n",
    "                  title=title_name,\n",
    "                  plot_bgcolor='AliceBlue',\n",
    "                  margin={\"r\": 0, \"t\": 50, \"l\": 0, \"b\": 50})\n",
    "    fig.show()\n",
    "    return"
   ]
  },
  {
   "cell_type": "markdown",
   "metadata": {},
   "source": [
    "<a id=\"num54\"></a>\n",
    "### Ознакомление с данными"
   ]
  },
  {
   "cell_type": "markdown",
   "metadata": {},
   "source": [
    "Для исследования предоставлены данные в трех таблицах: ``hypothesis``, ``orders``, ``visitors``. Получим первичную информацию о них. "
   ]
  },
  {
   "cell_type": "markdown",
   "metadata": {},
   "source": [
    "Получим данные о ``hypothesis``."
   ]
  },
  {
   "cell_type": "code",
   "execution_count": 10,
   "metadata": {},
   "outputs": [
    {
     "name": "stdout",
     "output_type": "stream",
     "text": [
      "\u001b[1m1. Первые пять строк данных:\u001b[0m\n"
     ]
    },
    {
     "data": {
      "text/html": [
       "<div>\n",
       "<style scoped>\n",
       "    .dataframe tbody tr th:only-of-type {\n",
       "        vertical-align: middle;\n",
       "    }\n",
       "\n",
       "    .dataframe tbody tr th {\n",
       "        vertical-align: top;\n",
       "    }\n",
       "\n",
       "    .dataframe thead th {\n",
       "        text-align: right;\n",
       "    }\n",
       "</style>\n",
       "<table border=\"1\" class=\"dataframe\">\n",
       "  <thead>\n",
       "    <tr style=\"text-align: right;\">\n",
       "      <th></th>\n",
       "      <th>Hypothesis</th>\n",
       "      <th>Reach</th>\n",
       "      <th>Impact</th>\n",
       "      <th>Confidence</th>\n",
       "      <th>Efforts</th>\n",
       "    </tr>\n",
       "  </thead>\n",
       "  <tbody>\n",
       "    <tr>\n",
       "      <th>0</th>\n",
       "      <td>Добавить два новых канала привлечения трафика,...</td>\n",
       "      <td>3</td>\n",
       "      <td>10</td>\n",
       "      <td>8</td>\n",
       "      <td>6</td>\n",
       "    </tr>\n",
       "    <tr>\n",
       "      <th>1</th>\n",
       "      <td>Запустить собственную службу доставки, что сок...</td>\n",
       "      <td>2</td>\n",
       "      <td>5</td>\n",
       "      <td>4</td>\n",
       "      <td>10</td>\n",
       "    </tr>\n",
       "    <tr>\n",
       "      <th>2</th>\n",
       "      <td>Добавить блоки рекомендаций товаров на сайт ин...</td>\n",
       "      <td>8</td>\n",
       "      <td>3</td>\n",
       "      <td>7</td>\n",
       "      <td>3</td>\n",
       "    </tr>\n",
       "    <tr>\n",
       "      <th>3</th>\n",
       "      <td>Изменить структура категорий, что увеличит кон...</td>\n",
       "      <td>8</td>\n",
       "      <td>3</td>\n",
       "      <td>3</td>\n",
       "      <td>8</td>\n",
       "    </tr>\n",
       "    <tr>\n",
       "      <th>4</th>\n",
       "      <td>Изменить цвет фона главной страницы, чтобы уве...</td>\n",
       "      <td>3</td>\n",
       "      <td>1</td>\n",
       "      <td>1</td>\n",
       "      <td>1</td>\n",
       "    </tr>\n",
       "  </tbody>\n",
       "</table>\n",
       "</div>"
      ],
      "text/plain": [
       "                                          Hypothesis  Reach  Impact  \\\n",
       "0  Добавить два новых канала привлечения трафика,...      3      10   \n",
       "1  Запустить собственную службу доставки, что сок...      2       5   \n",
       "2  Добавить блоки рекомендаций товаров на сайт ин...      8       3   \n",
       "3  Изменить структура категорий, что увеличит кон...      8       3   \n",
       "4  Изменить цвет фона главной страницы, чтобы уве...      3       1   \n",
       "\n",
       "   Confidence  Efforts  \n",
       "0           8        6  \n",
       "1           4       10  \n",
       "2           7        3  \n",
       "3           3        8  \n",
       "4           1        1  "
      ]
     },
     "metadata": {},
     "output_type": "display_data"
    },
    {
     "name": "stdout",
     "output_type": "stream",
     "text": [
      "\u001b[1m2. Описание данных:\u001b[0m\n"
     ]
    },
    {
     "data": {
      "text/html": [
       "<div>\n",
       "<style scoped>\n",
       "    .dataframe tbody tr th:only-of-type {\n",
       "        vertical-align: middle;\n",
       "    }\n",
       "\n",
       "    .dataframe tbody tr th {\n",
       "        vertical-align: top;\n",
       "    }\n",
       "\n",
       "    .dataframe thead th {\n",
       "        text-align: right;\n",
       "    }\n",
       "</style>\n",
       "<table border=\"1\" class=\"dataframe\">\n",
       "  <thead>\n",
       "    <tr style=\"text-align: right;\">\n",
       "      <th></th>\n",
       "      <th>Reach</th>\n",
       "      <th>Impact</th>\n",
       "      <th>Confidence</th>\n",
       "      <th>Efforts</th>\n",
       "    </tr>\n",
       "  </thead>\n",
       "  <tbody>\n",
       "    <tr>\n",
       "      <th>count</th>\n",
       "      <td>9.000000</td>\n",
       "      <td>9.000000</td>\n",
       "      <td>9.000000</td>\n",
       "      <td>9.000000</td>\n",
       "    </tr>\n",
       "    <tr>\n",
       "      <th>mean</th>\n",
       "      <td>4.777778</td>\n",
       "      <td>4.777778</td>\n",
       "      <td>5.555556</td>\n",
       "      <td>4.888889</td>\n",
       "    </tr>\n",
       "    <tr>\n",
       "      <th>std</th>\n",
       "      <td>3.153481</td>\n",
       "      <td>3.192874</td>\n",
       "      <td>3.045944</td>\n",
       "      <td>2.803767</td>\n",
       "    </tr>\n",
       "    <tr>\n",
       "      <th>min</th>\n",
       "      <td>1.000000</td>\n",
       "      <td>1.000000</td>\n",
       "      <td>1.000000</td>\n",
       "      <td>1.000000</td>\n",
       "    </tr>\n",
       "    <tr>\n",
       "      <th>25%</th>\n",
       "      <td>3.000000</td>\n",
       "      <td>3.000000</td>\n",
       "      <td>3.000000</td>\n",
       "      <td>3.000000</td>\n",
       "    </tr>\n",
       "    <tr>\n",
       "      <th>50%</th>\n",
       "      <td>3.000000</td>\n",
       "      <td>3.000000</td>\n",
       "      <td>7.000000</td>\n",
       "      <td>5.000000</td>\n",
       "    </tr>\n",
       "    <tr>\n",
       "      <th>75%</th>\n",
       "      <td>8.000000</td>\n",
       "      <td>7.000000</td>\n",
       "      <td>8.000000</td>\n",
       "      <td>6.000000</td>\n",
       "    </tr>\n",
       "    <tr>\n",
       "      <th>max</th>\n",
       "      <td>10.000000</td>\n",
       "      <td>10.000000</td>\n",
       "      <td>9.000000</td>\n",
       "      <td>10.000000</td>\n",
       "    </tr>\n",
       "  </tbody>\n",
       "</table>\n",
       "</div>"
      ],
      "text/plain": [
       "           Reach     Impact  Confidence    Efforts\n",
       "count   9.000000   9.000000    9.000000   9.000000\n",
       "mean    4.777778   4.777778    5.555556   4.888889\n",
       "std     3.153481   3.192874    3.045944   2.803767\n",
       "min     1.000000   1.000000    1.000000   1.000000\n",
       "25%     3.000000   3.000000    3.000000   3.000000\n",
       "50%     3.000000   3.000000    7.000000   5.000000\n",
       "75%     8.000000   7.000000    8.000000   6.000000\n",
       "max    10.000000  10.000000    9.000000  10.000000"
      ]
     },
     "metadata": {},
     "output_type": "display_data"
    },
    {
     "name": "stdout",
     "output_type": "stream",
     "text": [
      "\u001b[1m3. Общая информацию о датафрейме\u001b[0m\n",
      "<class 'pandas.core.frame.DataFrame'>\n",
      "RangeIndex: 9 entries, 0 to 8\n",
      "Data columns (total 5 columns):\n",
      " #   Column      Non-Null Count  Dtype \n",
      "---  ------      --------------  ----- \n",
      " 0   Hypothesis  9 non-null      object\n",
      " 1   Reach       9 non-null      int64 \n",
      " 2   Impact      9 non-null      int64 \n",
      " 3   Confidence  9 non-null      int64 \n",
      " 4   Efforts     9 non-null      int64 \n",
      "dtypes: int64(4), object(1)\n",
      "memory usage: 488.0+ bytes\n"
     ]
    },
    {
     "data": {
      "text/plain": [
       "None"
      ]
     },
     "metadata": {},
     "output_type": "display_data"
    },
    {
     "name": "stdout",
     "output_type": "stream",
     "text": [
      "\u001b[1m4. Графическое отображение количества пропусков\u001b[0m\n"
     ]
    },
    {
     "data": {
      "text/html": [
       "<style  type=\"text/css\" >\n",
       "#T_be711_row0_col0,#T_be711_row1_col0,#T_be711_row2_col0,#T_be711_row3_col0,#T_be711_row4_col0{\n",
       "            background-color:  #f7fbff;\n",
       "            color:  #000000;\n",
       "        }</style><table id=\"T_be711_\" ><thead>    <tr>        <th class=\"blank level0\" ></th>        <th class=\"col_heading level0 col0\" >0</th>    </tr></thead><tbody>\n",
       "                <tr>\n",
       "                        <th id=\"T_be711_level0_row0\" class=\"row_heading level0 row0\" >Hypothesis</th>\n",
       "                        <td id=\"T_be711_row0_col0\" class=\"data row0 col0\" >0.00</td>\n",
       "            </tr>\n",
       "            <tr>\n",
       "                        <th id=\"T_be711_level0_row1\" class=\"row_heading level0 row1\" >Reach</th>\n",
       "                        <td id=\"T_be711_row1_col0\" class=\"data row1 col0\" >0.00</td>\n",
       "            </tr>\n",
       "            <tr>\n",
       "                        <th id=\"T_be711_level0_row2\" class=\"row_heading level0 row2\" >Impact</th>\n",
       "                        <td id=\"T_be711_row2_col0\" class=\"data row2 col0\" >0.00</td>\n",
       "            </tr>\n",
       "            <tr>\n",
       "                        <th id=\"T_be711_level0_row3\" class=\"row_heading level0 row3\" >Confidence</th>\n",
       "                        <td id=\"T_be711_row3_col0\" class=\"data row3 col0\" >0.00</td>\n",
       "            </tr>\n",
       "            <tr>\n",
       "                        <th id=\"T_be711_level0_row4\" class=\"row_heading level0 row4\" >Efforts</th>\n",
       "                        <td id=\"T_be711_row4_col0\" class=\"data row4 col0\" >0.00</td>\n",
       "            </tr>\n",
       "    </tbody></table>"
      ],
      "text/plain": [
       "<pandas.io.formats.style.Styler at 0x1b268ab0c10>"
      ]
     },
     "metadata": {},
     "output_type": "display_data"
    },
    {
     "name": "stdout",
     "output_type": "stream",
     "text": [
      "\u001b[1m5. Процент пропусков\u001b[0m\n"
     ]
    },
    {
     "data": {
      "text/plain": [
       "Hypothesis    0.0\n",
       "Reach         0.0\n",
       "Impact        0.0\n",
       "Confidence    0.0\n",
       "Efforts       0.0\n",
       "dtype: float64"
      ]
     },
     "metadata": {},
     "output_type": "display_data"
    }
   ],
   "source": [
    "data_head_desc_info(hypothesis)"
   ]
  },
  {
   "cell_type": "code",
   "execution_count": 11,
   "metadata": {
    "scrolled": true
   },
   "outputs": [
    {
     "data": {
      "text/html": [
       "<div>\n",
       "<style scoped>\n",
       "    .dataframe tbody tr th:only-of-type {\n",
       "        vertical-align: middle;\n",
       "    }\n",
       "\n",
       "    .dataframe tbody tr th {\n",
       "        vertical-align: top;\n",
       "    }\n",
       "\n",
       "    .dataframe thead th {\n",
       "        text-align: right;\n",
       "    }\n",
       "</style>\n",
       "<table border=\"1\" class=\"dataframe\">\n",
       "  <thead>\n",
       "    <tr style=\"text-align: right;\">\n",
       "      <th></th>\n",
       "      <th>Hypothesis</th>\n",
       "      <th>Reach</th>\n",
       "      <th>Impact</th>\n",
       "      <th>Confidence</th>\n",
       "      <th>Efforts</th>\n",
       "    </tr>\n",
       "  </thead>\n",
       "  <tbody>\n",
       "    <tr>\n",
       "      <th>0</th>\n",
       "      <td>Добавить два новых канала привлечения трафика, что позволит привлекать на 30% больше пользователей</td>\n",
       "      <td>3</td>\n",
       "      <td>10</td>\n",
       "      <td>8</td>\n",
       "      <td>6</td>\n",
       "    </tr>\n",
       "    <tr>\n",
       "      <th>1</th>\n",
       "      <td>Запустить собственную службу доставки, что сократит срок доставки заказов</td>\n",
       "      <td>2</td>\n",
       "      <td>5</td>\n",
       "      <td>4</td>\n",
       "      <td>10</td>\n",
       "    </tr>\n",
       "    <tr>\n",
       "      <th>2</th>\n",
       "      <td>Добавить блоки рекомендаций товаров на сайт интернет магазина, чтобы повысить конверсию и средни...</td>\n",
       "      <td>8</td>\n",
       "      <td>3</td>\n",
       "      <td>7</td>\n",
       "      <td>3</td>\n",
       "    </tr>\n",
       "    <tr>\n",
       "      <th>3</th>\n",
       "      <td>Изменить структура категорий, что увеличит конверсию, т.к. пользователи быстрее найдут нужный товар</td>\n",
       "      <td>8</td>\n",
       "      <td>3</td>\n",
       "      <td>3</td>\n",
       "      <td>8</td>\n",
       "    </tr>\n",
       "    <tr>\n",
       "      <th>4</th>\n",
       "      <td>Изменить цвет фона главной страницы, чтобы увеличить вовлеченность пользователей</td>\n",
       "      <td>3</td>\n",
       "      <td>1</td>\n",
       "      <td>1</td>\n",
       "      <td>1</td>\n",
       "    </tr>\n",
       "    <tr>\n",
       "      <th>5</th>\n",
       "      <td>Добавить страницу отзывов клиентов о магазине, что позволит увеличить количество заказов</td>\n",
       "      <td>3</td>\n",
       "      <td>2</td>\n",
       "      <td>2</td>\n",
       "      <td>3</td>\n",
       "    </tr>\n",
       "    <tr>\n",
       "      <th>6</th>\n",
       "      <td>Показать на главной странице баннеры с актуальными акциями и распродажами, чтобы увеличить конве...</td>\n",
       "      <td>5</td>\n",
       "      <td>3</td>\n",
       "      <td>8</td>\n",
       "      <td>3</td>\n",
       "    </tr>\n",
       "    <tr>\n",
       "      <th>7</th>\n",
       "      <td>Добавить форму подписки на все основные страницы, чтобы собрать базу клиентов для email-рассылок</td>\n",
       "      <td>10</td>\n",
       "      <td>7</td>\n",
       "      <td>8</td>\n",
       "      <td>5</td>\n",
       "    </tr>\n",
       "    <tr>\n",
       "      <th>8</th>\n",
       "      <td>Запустить акцию, дающую скидку на товар в день рождения</td>\n",
       "      <td>1</td>\n",
       "      <td>9</td>\n",
       "      <td>9</td>\n",
       "      <td>5</td>\n",
       "    </tr>\n",
       "  </tbody>\n",
       "</table>\n",
       "</div>"
      ],
      "text/plain": [
       "                                                                                            Hypothesis  \\\n",
       "0   Добавить два новых канала привлечения трафика, что позволит привлекать на 30% больше пользователей   \n",
       "1                            Запустить собственную службу доставки, что сократит срок доставки заказов   \n",
       "2  Добавить блоки рекомендаций товаров на сайт интернет магазина, чтобы повысить конверсию и средни...   \n",
       "3  Изменить структура категорий, что увеличит конверсию, т.к. пользователи быстрее найдут нужный товар   \n",
       "4                     Изменить цвет фона главной страницы, чтобы увеличить вовлеченность пользователей   \n",
       "5             Добавить страницу отзывов клиентов о магазине, что позволит увеличить количество заказов   \n",
       "6  Показать на главной странице баннеры с актуальными акциями и распродажами, чтобы увеличить конве...   \n",
       "7     Добавить форму подписки на все основные страницы, чтобы собрать базу клиентов для email-рассылок   \n",
       "8                                              Запустить акцию, дающую скидку на товар в день рождения   \n",
       "\n",
       "   Reach  Impact  Confidence  Efforts  \n",
       "0      3      10           8        6  \n",
       "1      2       5           4       10  \n",
       "2      8       3           7        3  \n",
       "3      8       3           3        8  \n",
       "4      3       1           1        1  \n",
       "5      3       2           2        3  \n",
       "6      5       3           8        3  \n",
       "7     10       7           8        5  \n",
       "8      1       9           9        5  "
      ]
     },
     "execution_count": 11,
     "metadata": {},
     "output_type": "execute_result"
    }
   ],
   "source": [
    "pd.set_option('max_colwidth', 100)\n",
    "hypothesis"
   ]
  },
  {
   "cell_type": "markdown",
   "metadata": {},
   "source": [
    "При ознакомлении с данными проблем в таблице ``hypothesis`` не выявлено, типы данных представлены верно, пропусков нет. "
   ]
  },
  {
   "cell_type": "markdown",
   "metadata": {},
   "source": [
    "Получим данные о ``orders``."
   ]
  },
  {
   "cell_type": "code",
   "execution_count": 12,
   "metadata": {},
   "outputs": [
    {
     "name": "stdout",
     "output_type": "stream",
     "text": [
      "\u001b[1m1. Первые пять строк данных:\u001b[0m\n"
     ]
    },
    {
     "data": {
      "text/html": [
       "<div>\n",
       "<style scoped>\n",
       "    .dataframe tbody tr th:only-of-type {\n",
       "        vertical-align: middle;\n",
       "    }\n",
       "\n",
       "    .dataframe tbody tr th {\n",
       "        vertical-align: top;\n",
       "    }\n",
       "\n",
       "    .dataframe thead th {\n",
       "        text-align: right;\n",
       "    }\n",
       "</style>\n",
       "<table border=\"1\" class=\"dataframe\">\n",
       "  <thead>\n",
       "    <tr style=\"text-align: right;\">\n",
       "      <th></th>\n",
       "      <th>transactionId</th>\n",
       "      <th>visitorId</th>\n",
       "      <th>date</th>\n",
       "      <th>revenue</th>\n",
       "      <th>group</th>\n",
       "    </tr>\n",
       "  </thead>\n",
       "  <tbody>\n",
       "    <tr>\n",
       "      <th>0</th>\n",
       "      <td>3667963787</td>\n",
       "      <td>3312258926</td>\n",
       "      <td>2019-08-15</td>\n",
       "      <td>1650</td>\n",
       "      <td>B</td>\n",
       "    </tr>\n",
       "    <tr>\n",
       "      <th>1</th>\n",
       "      <td>2804400009</td>\n",
       "      <td>3642806036</td>\n",
       "      <td>2019-08-15</td>\n",
       "      <td>730</td>\n",
       "      <td>B</td>\n",
       "    </tr>\n",
       "    <tr>\n",
       "      <th>2</th>\n",
       "      <td>2961555356</td>\n",
       "      <td>4069496402</td>\n",
       "      <td>2019-08-15</td>\n",
       "      <td>400</td>\n",
       "      <td>A</td>\n",
       "    </tr>\n",
       "    <tr>\n",
       "      <th>3</th>\n",
       "      <td>3797467345</td>\n",
       "      <td>1196621759</td>\n",
       "      <td>2019-08-15</td>\n",
       "      <td>9759</td>\n",
       "      <td>B</td>\n",
       "    </tr>\n",
       "    <tr>\n",
       "      <th>4</th>\n",
       "      <td>2282983706</td>\n",
       "      <td>2322279887</td>\n",
       "      <td>2019-08-15</td>\n",
       "      <td>2308</td>\n",
       "      <td>B</td>\n",
       "    </tr>\n",
       "  </tbody>\n",
       "</table>\n",
       "</div>"
      ],
      "text/plain": [
       "   transactionId   visitorId       date  revenue group\n",
       "0     3667963787  3312258926 2019-08-15     1650     B\n",
       "1     2804400009  3642806036 2019-08-15      730     B\n",
       "2     2961555356  4069496402 2019-08-15      400     A\n",
       "3     3797467345  1196621759 2019-08-15     9759     B\n",
       "4     2282983706  2322279887 2019-08-15     2308     B"
      ]
     },
     "metadata": {},
     "output_type": "display_data"
    },
    {
     "name": "stdout",
     "output_type": "stream",
     "text": [
      "\u001b[1m2. Описание данных:\u001b[0m\n"
     ]
    },
    {
     "data": {
      "text/html": [
       "<div>\n",
       "<style scoped>\n",
       "    .dataframe tbody tr th:only-of-type {\n",
       "        vertical-align: middle;\n",
       "    }\n",
       "\n",
       "    .dataframe tbody tr th {\n",
       "        vertical-align: top;\n",
       "    }\n",
       "\n",
       "    .dataframe thead th {\n",
       "        text-align: right;\n",
       "    }\n",
       "</style>\n",
       "<table border=\"1\" class=\"dataframe\">\n",
       "  <thead>\n",
       "    <tr style=\"text-align: right;\">\n",
       "      <th></th>\n",
       "      <th>transactionId</th>\n",
       "      <th>visitorId</th>\n",
       "      <th>revenue</th>\n",
       "    </tr>\n",
       "  </thead>\n",
       "  <tbody>\n",
       "    <tr>\n",
       "      <th>count</th>\n",
       "      <td>1.197000e+03</td>\n",
       "      <td>1.197000e+03</td>\n",
       "      <td>1.197000e+03</td>\n",
       "    </tr>\n",
       "    <tr>\n",
       "      <th>mean</th>\n",
       "      <td>2.155621e+09</td>\n",
       "      <td>2.165960e+09</td>\n",
       "      <td>8.348006e+03</td>\n",
       "    </tr>\n",
       "    <tr>\n",
       "      <th>std</th>\n",
       "      <td>1.229085e+09</td>\n",
       "      <td>1.236014e+09</td>\n",
       "      <td>3.919113e+04</td>\n",
       "    </tr>\n",
       "    <tr>\n",
       "      <th>min</th>\n",
       "      <td>1.062393e+06</td>\n",
       "      <td>5.114589e+06</td>\n",
       "      <td>5.000000e+01</td>\n",
       "    </tr>\n",
       "    <tr>\n",
       "      <th>25%</th>\n",
       "      <td>1.166776e+09</td>\n",
       "      <td>1.111826e+09</td>\n",
       "      <td>1.220000e+03</td>\n",
       "    </tr>\n",
       "    <tr>\n",
       "      <th>50%</th>\n",
       "      <td>2.145194e+09</td>\n",
       "      <td>2.217985e+09</td>\n",
       "      <td>2.978000e+03</td>\n",
       "    </tr>\n",
       "    <tr>\n",
       "      <th>75%</th>\n",
       "      <td>3.237740e+09</td>\n",
       "      <td>3.177606e+09</td>\n",
       "      <td>8.290000e+03</td>\n",
       "    </tr>\n",
       "    <tr>\n",
       "      <th>max</th>\n",
       "      <td>4.293856e+09</td>\n",
       "      <td>4.283872e+09</td>\n",
       "      <td>1.294500e+06</td>\n",
       "    </tr>\n",
       "  </tbody>\n",
       "</table>\n",
       "</div>"
      ],
      "text/plain": [
       "       transactionId     visitorId       revenue\n",
       "count   1.197000e+03  1.197000e+03  1.197000e+03\n",
       "mean    2.155621e+09  2.165960e+09  8.348006e+03\n",
       "std     1.229085e+09  1.236014e+09  3.919113e+04\n",
       "min     1.062393e+06  5.114589e+06  5.000000e+01\n",
       "25%     1.166776e+09  1.111826e+09  1.220000e+03\n",
       "50%     2.145194e+09  2.217985e+09  2.978000e+03\n",
       "75%     3.237740e+09  3.177606e+09  8.290000e+03\n",
       "max     4.293856e+09  4.283872e+09  1.294500e+06"
      ]
     },
     "metadata": {},
     "output_type": "display_data"
    },
    {
     "name": "stdout",
     "output_type": "stream",
     "text": [
      "\u001b[1m3. Общая информацию о датафрейме\u001b[0m\n",
      "<class 'pandas.core.frame.DataFrame'>\n",
      "RangeIndex: 1197 entries, 0 to 1196\n",
      "Data columns (total 5 columns):\n",
      " #   Column         Non-Null Count  Dtype         \n",
      "---  ------         --------------  -----         \n",
      " 0   transactionId  1197 non-null   int64         \n",
      " 1   visitorId      1197 non-null   int64         \n",
      " 2   date           1197 non-null   datetime64[ns]\n",
      " 3   revenue        1197 non-null   int64         \n",
      " 4   group          1197 non-null   object        \n",
      "dtypes: datetime64[ns](1), int64(3), object(1)\n",
      "memory usage: 46.9+ KB\n"
     ]
    },
    {
     "data": {
      "text/plain": [
       "None"
      ]
     },
     "metadata": {},
     "output_type": "display_data"
    },
    {
     "name": "stdout",
     "output_type": "stream",
     "text": [
      "\u001b[1m4. Графическое отображение количества пропусков\u001b[0m\n"
     ]
    },
    {
     "data": {
      "text/html": [
       "<style  type=\"text/css\" >\n",
       "#T_b96d0_row0_col0,#T_b96d0_row1_col0,#T_b96d0_row2_col0,#T_b96d0_row3_col0,#T_b96d0_row4_col0{\n",
       "            background-color:  #f7fbff;\n",
       "            color:  #000000;\n",
       "        }</style><table id=\"T_b96d0_\" ><thead>    <tr>        <th class=\"blank level0\" ></th>        <th class=\"col_heading level0 col0\" >0</th>    </tr></thead><tbody>\n",
       "                <tr>\n",
       "                        <th id=\"T_b96d0_level0_row0\" class=\"row_heading level0 row0\" >transactionId</th>\n",
       "                        <td id=\"T_b96d0_row0_col0\" class=\"data row0 col0\" >0.00</td>\n",
       "            </tr>\n",
       "            <tr>\n",
       "                        <th id=\"T_b96d0_level0_row1\" class=\"row_heading level0 row1\" >visitorId</th>\n",
       "                        <td id=\"T_b96d0_row1_col0\" class=\"data row1 col0\" >0.00</td>\n",
       "            </tr>\n",
       "            <tr>\n",
       "                        <th id=\"T_b96d0_level0_row2\" class=\"row_heading level0 row2\" >date</th>\n",
       "                        <td id=\"T_b96d0_row2_col0\" class=\"data row2 col0\" >0.00</td>\n",
       "            </tr>\n",
       "            <tr>\n",
       "                        <th id=\"T_b96d0_level0_row3\" class=\"row_heading level0 row3\" >revenue</th>\n",
       "                        <td id=\"T_b96d0_row3_col0\" class=\"data row3 col0\" >0.00</td>\n",
       "            </tr>\n",
       "            <tr>\n",
       "                        <th id=\"T_b96d0_level0_row4\" class=\"row_heading level0 row4\" >group</th>\n",
       "                        <td id=\"T_b96d0_row4_col0\" class=\"data row4 col0\" >0.00</td>\n",
       "            </tr>\n",
       "    </tbody></table>"
      ],
      "text/plain": [
       "<pandas.io.formats.style.Styler at 0x1b27a1ec460>"
      ]
     },
     "metadata": {},
     "output_type": "display_data"
    },
    {
     "name": "stdout",
     "output_type": "stream",
     "text": [
      "\u001b[1m5. Процент пропусков\u001b[0m\n"
     ]
    },
    {
     "data": {
      "text/plain": [
       "transactionId    0.0\n",
       "visitorId        0.0\n",
       "date             0.0\n",
       "revenue          0.0\n",
       "group            0.0\n",
       "dtype: float64"
      ]
     },
     "metadata": {},
     "output_type": "display_data"
    }
   ],
   "source": [
    "data_head_desc_info(orders)"
   ]
  },
  {
   "cell_type": "markdown",
   "metadata": {},
   "source": [
    "При ознакомлении с данными проблем в таблице ``orders`` не выявлено, типы данных представлены верно, пропусков нет. "
   ]
  },
  {
   "cell_type": "markdown",
   "metadata": {},
   "source": [
    "Получим данные о ``visitors``."
   ]
  },
  {
   "cell_type": "code",
   "execution_count": 13,
   "metadata": {},
   "outputs": [
    {
     "name": "stdout",
     "output_type": "stream",
     "text": [
      "\u001b[1m1. Первые пять строк данных:\u001b[0m\n"
     ]
    },
    {
     "data": {
      "text/html": [
       "<div>\n",
       "<style scoped>\n",
       "    .dataframe tbody tr th:only-of-type {\n",
       "        vertical-align: middle;\n",
       "    }\n",
       "\n",
       "    .dataframe tbody tr th {\n",
       "        vertical-align: top;\n",
       "    }\n",
       "\n",
       "    .dataframe thead th {\n",
       "        text-align: right;\n",
       "    }\n",
       "</style>\n",
       "<table border=\"1\" class=\"dataframe\">\n",
       "  <thead>\n",
       "    <tr style=\"text-align: right;\">\n",
       "      <th></th>\n",
       "      <th>date</th>\n",
       "      <th>group</th>\n",
       "      <th>visitors</th>\n",
       "    </tr>\n",
       "  </thead>\n",
       "  <tbody>\n",
       "    <tr>\n",
       "      <th>0</th>\n",
       "      <td>2019-08-01</td>\n",
       "      <td>A</td>\n",
       "      <td>719</td>\n",
       "    </tr>\n",
       "    <tr>\n",
       "      <th>1</th>\n",
       "      <td>2019-08-02</td>\n",
       "      <td>A</td>\n",
       "      <td>619</td>\n",
       "    </tr>\n",
       "    <tr>\n",
       "      <th>2</th>\n",
       "      <td>2019-08-03</td>\n",
       "      <td>A</td>\n",
       "      <td>507</td>\n",
       "    </tr>\n",
       "    <tr>\n",
       "      <th>3</th>\n",
       "      <td>2019-08-04</td>\n",
       "      <td>A</td>\n",
       "      <td>717</td>\n",
       "    </tr>\n",
       "    <tr>\n",
       "      <th>4</th>\n",
       "      <td>2019-08-05</td>\n",
       "      <td>A</td>\n",
       "      <td>756</td>\n",
       "    </tr>\n",
       "  </tbody>\n",
       "</table>\n",
       "</div>"
      ],
      "text/plain": [
       "        date group  visitors\n",
       "0 2019-08-01     A       719\n",
       "1 2019-08-02     A       619\n",
       "2 2019-08-03     A       507\n",
       "3 2019-08-04     A       717\n",
       "4 2019-08-05     A       756"
      ]
     },
     "metadata": {},
     "output_type": "display_data"
    },
    {
     "name": "stdout",
     "output_type": "stream",
     "text": [
      "\u001b[1m2. Описание данных:\u001b[0m\n"
     ]
    },
    {
     "data": {
      "text/html": [
       "<div>\n",
       "<style scoped>\n",
       "    .dataframe tbody tr th:only-of-type {\n",
       "        vertical-align: middle;\n",
       "    }\n",
       "\n",
       "    .dataframe tbody tr th {\n",
       "        vertical-align: top;\n",
       "    }\n",
       "\n",
       "    .dataframe thead th {\n",
       "        text-align: right;\n",
       "    }\n",
       "</style>\n",
       "<table border=\"1\" class=\"dataframe\">\n",
       "  <thead>\n",
       "    <tr style=\"text-align: right;\">\n",
       "      <th></th>\n",
       "      <th>visitors</th>\n",
       "    </tr>\n",
       "  </thead>\n",
       "  <tbody>\n",
       "    <tr>\n",
       "      <th>count</th>\n",
       "      <td>62.000000</td>\n",
       "    </tr>\n",
       "    <tr>\n",
       "      <th>mean</th>\n",
       "      <td>607.290323</td>\n",
       "    </tr>\n",
       "    <tr>\n",
       "      <th>std</th>\n",
       "      <td>114.400560</td>\n",
       "    </tr>\n",
       "    <tr>\n",
       "      <th>min</th>\n",
       "      <td>361.000000</td>\n",
       "    </tr>\n",
       "    <tr>\n",
       "      <th>25%</th>\n",
       "      <td>534.000000</td>\n",
       "    </tr>\n",
       "    <tr>\n",
       "      <th>50%</th>\n",
       "      <td>624.500000</td>\n",
       "    </tr>\n",
       "    <tr>\n",
       "      <th>75%</th>\n",
       "      <td>710.500000</td>\n",
       "    </tr>\n",
       "    <tr>\n",
       "      <th>max</th>\n",
       "      <td>770.000000</td>\n",
       "    </tr>\n",
       "  </tbody>\n",
       "</table>\n",
       "</div>"
      ],
      "text/plain": [
       "         visitors\n",
       "count   62.000000\n",
       "mean   607.290323\n",
       "std    114.400560\n",
       "min    361.000000\n",
       "25%    534.000000\n",
       "50%    624.500000\n",
       "75%    710.500000\n",
       "max    770.000000"
      ]
     },
     "metadata": {},
     "output_type": "display_data"
    },
    {
     "name": "stdout",
     "output_type": "stream",
     "text": [
      "\u001b[1m3. Общая информацию о датафрейме\u001b[0m\n",
      "<class 'pandas.core.frame.DataFrame'>\n",
      "RangeIndex: 62 entries, 0 to 61\n",
      "Data columns (total 3 columns):\n",
      " #   Column    Non-Null Count  Dtype         \n",
      "---  ------    --------------  -----         \n",
      " 0   date      62 non-null     datetime64[ns]\n",
      " 1   group     62 non-null     object        \n",
      " 2   visitors  62 non-null     int64         \n",
      "dtypes: datetime64[ns](1), int64(1), object(1)\n",
      "memory usage: 1.6+ KB\n"
     ]
    },
    {
     "data": {
      "text/plain": [
       "None"
      ]
     },
     "metadata": {},
     "output_type": "display_data"
    },
    {
     "name": "stdout",
     "output_type": "stream",
     "text": [
      "\u001b[1m4. Графическое отображение количества пропусков\u001b[0m\n"
     ]
    },
    {
     "data": {
      "text/html": [
       "<style  type=\"text/css\" >\n",
       "#T_33199_row0_col0,#T_33199_row1_col0,#T_33199_row2_col0{\n",
       "            background-color:  #f7fbff;\n",
       "            color:  #000000;\n",
       "        }</style><table id=\"T_33199_\" ><thead>    <tr>        <th class=\"blank level0\" ></th>        <th class=\"col_heading level0 col0\" >0</th>    </tr></thead><tbody>\n",
       "                <tr>\n",
       "                        <th id=\"T_33199_level0_row0\" class=\"row_heading level0 row0\" >date</th>\n",
       "                        <td id=\"T_33199_row0_col0\" class=\"data row0 col0\" >0.00</td>\n",
       "            </tr>\n",
       "            <tr>\n",
       "                        <th id=\"T_33199_level0_row1\" class=\"row_heading level0 row1\" >group</th>\n",
       "                        <td id=\"T_33199_row1_col0\" class=\"data row1 col0\" >0.00</td>\n",
       "            </tr>\n",
       "            <tr>\n",
       "                        <th id=\"T_33199_level0_row2\" class=\"row_heading level0 row2\" >visitors</th>\n",
       "                        <td id=\"T_33199_row2_col0\" class=\"data row2 col0\" >0.00</td>\n",
       "            </tr>\n",
       "    </tbody></table>"
      ],
      "text/plain": [
       "<pandas.io.formats.style.Styler at 0x1b27a1e8d30>"
      ]
     },
     "metadata": {},
     "output_type": "display_data"
    },
    {
     "name": "stdout",
     "output_type": "stream",
     "text": [
      "\u001b[1m5. Процент пропусков\u001b[0m\n"
     ]
    },
    {
     "data": {
      "text/plain": [
       "date        0.0\n",
       "group       0.0\n",
       "visitors    0.0\n",
       "dtype: float64"
      ]
     },
     "metadata": {},
     "output_type": "display_data"
    }
   ],
   "source": [
    "data_head_desc_info(visitors)"
   ]
  },
  {
   "cell_type": "markdown",
   "metadata": {},
   "source": [
    "При ознакомлении с данными проблем в таблице ``visitors`` не выявлено, типы данных представлены верно, пропусков нет. "
   ]
  },
  {
   "cell_type": "markdown",
   "metadata": {},
   "source": [
    "Для работы представлены три таблицы ``hypothesis``, ``orders``, ``visitors``. \n",
    "\n",
    "В ``hypothesis`` 9 строк, 5 столбцов. \n",
    "\n",
    "В ``orders`` 1197 строк, 5 столбцов.\n",
    "\n",
    "В ``visitors`` 62 строки, 3 столбца. \n",
    "\n",
    "Таблицы полные, пропусков нет. Типы данных у всех трех таблиц верные. \n",
    "\n",
    "В ``hypothesis`` столбцы именованы не корректно, это исправим далее. "
   ]
  },
  {
   "cell_type": "markdown",
   "metadata": {},
   "source": [
    "<a id=\"num55\"></a>\n",
    "### Предобработка данных"
   ]
  },
  {
   "cell_type": "markdown",
   "metadata": {},
   "source": [
    "<a id=\"num551\"></a>\n",
    "#### Приведение названий к единому виду"
   ]
  },
  {
   "cell_type": "markdown",
   "metadata": {},
   "source": [
    "В таблице ``hypothesis`` столбцы имеют не верные названия, изменим их. Также проверим остальные таблицы, чтобы полностью исключить иные варианты написания."
   ]
  },
  {
   "cell_type": "code",
   "execution_count": 14,
   "metadata": {},
   "outputs": [
    {
     "data": {
      "text/html": [
       "<div>\n",
       "<style scoped>\n",
       "    .dataframe tbody tr th:only-of-type {\n",
       "        vertical-align: middle;\n",
       "    }\n",
       "\n",
       "    .dataframe tbody tr th {\n",
       "        vertical-align: top;\n",
       "    }\n",
       "\n",
       "    .dataframe thead th {\n",
       "        text-align: right;\n",
       "    }\n",
       "</style>\n",
       "<table border=\"1\" class=\"dataframe\">\n",
       "  <thead>\n",
       "    <tr style=\"text-align: right;\">\n",
       "      <th></th>\n",
       "      <th>hypothesis</th>\n",
       "      <th>reach</th>\n",
       "      <th>impact</th>\n",
       "      <th>confidence</th>\n",
       "      <th>efforts</th>\n",
       "    </tr>\n",
       "  </thead>\n",
       "  <tbody>\n",
       "  </tbody>\n",
       "</table>\n",
       "</div>"
      ],
      "text/plain": [
       "Empty DataFrame\n",
       "Columns: [hypothesis, reach, impact, confidence, efforts]\n",
       "Index: []"
      ]
     },
     "metadata": {},
     "output_type": "display_data"
    }
   ],
   "source": [
    "lower(hypothesis)"
   ]
  },
  {
   "cell_type": "code",
   "execution_count": 15,
   "metadata": {},
   "outputs": [
    {
     "data": {
      "text/html": [
       "<div>\n",
       "<style scoped>\n",
       "    .dataframe tbody tr th:only-of-type {\n",
       "        vertical-align: middle;\n",
       "    }\n",
       "\n",
       "    .dataframe tbody tr th {\n",
       "        vertical-align: top;\n",
       "    }\n",
       "\n",
       "    .dataframe thead th {\n",
       "        text-align: right;\n",
       "    }\n",
       "</style>\n",
       "<table border=\"1\" class=\"dataframe\">\n",
       "  <thead>\n",
       "    <tr style=\"text-align: right;\">\n",
       "      <th></th>\n",
       "      <th>transactionid</th>\n",
       "      <th>visitorid</th>\n",
       "      <th>date</th>\n",
       "      <th>revenue</th>\n",
       "      <th>group</th>\n",
       "    </tr>\n",
       "  </thead>\n",
       "  <tbody>\n",
       "  </tbody>\n",
       "</table>\n",
       "</div>"
      ],
      "text/plain": [
       "Empty DataFrame\n",
       "Columns: [transactionid, visitorid, date, revenue, group]\n",
       "Index: []"
      ]
     },
     "metadata": {},
     "output_type": "display_data"
    }
   ],
   "source": [
    "lower(orders)"
   ]
  },
  {
   "cell_type": "code",
   "execution_count": 16,
   "metadata": {},
   "outputs": [
    {
     "data": {
      "text/html": [
       "<div>\n",
       "<style scoped>\n",
       "    .dataframe tbody tr th:only-of-type {\n",
       "        vertical-align: middle;\n",
       "    }\n",
       "\n",
       "    .dataframe tbody tr th {\n",
       "        vertical-align: top;\n",
       "    }\n",
       "\n",
       "    .dataframe thead th {\n",
       "        text-align: right;\n",
       "    }\n",
       "</style>\n",
       "<table border=\"1\" class=\"dataframe\">\n",
       "  <thead>\n",
       "    <tr style=\"text-align: right;\">\n",
       "      <th></th>\n",
       "      <th>date</th>\n",
       "      <th>group</th>\n",
       "      <th>visitors</th>\n",
       "    </tr>\n",
       "  </thead>\n",
       "  <tbody>\n",
       "  </tbody>\n",
       "</table>\n",
       "</div>"
      ],
      "text/plain": [
       "Empty DataFrame\n",
       "Columns: [date, group, visitors]\n",
       "Index: []"
      ]
     },
     "metadata": {},
     "output_type": "display_data"
    }
   ],
   "source": [
    "lower(visitors)"
   ]
  },
  {
   "cell_type": "markdown",
   "metadata": {},
   "source": [
    "Теперь все таблицы имеют желаемый вид названий. "
   ]
  },
  {
   "cell_type": "markdown",
   "metadata": {},
   "source": [
    "<a id=\"num552\"></a>\n",
    "#### Проверка на уникальность"
   ]
  },
  {
   "cell_type": "code",
   "execution_count": 17,
   "metadata": {},
   "outputs": [
    {
     "name": "stdout",
     "output_type": "stream",
     "text": [
      "Столбец: hypothesis\n",
      "Количество пропусков: 0\n",
      "Количество уникальных значений: 9\n",
      "Столбец: reach\n",
      "Количество пропусков: 0\n",
      "Количество уникальных значений: 6\n",
      "Столбец: impact\n",
      "Количество пропусков: 0\n",
      "Количество уникальных значений: 7\n",
      "Столбец: confidence\n",
      "Количество пропусков: 0\n",
      "Количество уникальных значений: 7\n",
      "Столбец: efforts\n",
      "Количество пропусков: 0\n",
      "Количество уникальных значений: 6\n"
     ]
    }
   ],
   "source": [
    "data_isna_nuniq(hypothesis)"
   ]
  },
  {
   "cell_type": "markdown",
   "metadata": {},
   "source": [
    "Всего в таблице представлено ``9`` уникальных гипотез ``hypothesis``. \n",
    "\n",
    "Охват пользователей представлен по 10-балльной шкале, в таблице уникальных значений — ``9`` от 1 до 10, столбец ``reach``. \n",
    "\n",
    "Влияние на пользователей представлено по 10-балльной шкале, в таблице уникальных значений ``7`` от 1 до 10, столбец ``impact``.\n",
    "\n",
    "Уверенность в гипотезе представлена по 10-балльной шкале, в таблице уникальных значений ``7`` от 1 до 9, столбец ``confidence``.\n",
    "\n",
    "Затраты ресурсов на проверку гипотезы представлены по 10-балльной шкале, в таблице уникальных значений ``6`` от 1 до 10, столбец ``efforts``."
   ]
  },
  {
   "cell_type": "code",
   "execution_count": 18,
   "metadata": {},
   "outputs": [
    {
     "name": "stdout",
     "output_type": "stream",
     "text": [
      "Столбец: transactionid\n",
      "Количество пропусков: 0\n",
      "Количество уникальных значений: 1197\n",
      "Столбец: visitorid\n",
      "Количество пропусков: 0\n",
      "Количество уникальных значений: 1031\n",
      "Столбец: date\n",
      "Количество пропусков: 0\n",
      "Количество уникальных значений: 31\n",
      "Столбец: revenue\n",
      "Количество пропусков: 0\n",
      "Количество уникальных значений: 713\n",
      "Столбец: group\n",
      "Количество пропусков: 0\n",
      "Количество уникальных значений: 2\n"
     ]
    }
   ],
   "source": [
    "data_isna_nuniq(orders)"
   ]
  },
  {
   "cell_type": "markdown",
   "metadata": {},
   "source": [
    "Всего в таблице представлено ``1197`` уникальных заказа — ``orders``. \n",
    "\n",
    "Заказ совершили ``1031`` уникальный пользователь — ``visitorid``. \n",
    "\n",
    "Уникальных дат, в которые были совершены заказы ``31`` от ``01.08.2019`` до ``30.08.2019``, столбец ``date`` .\n",
    "\n",
    "Значений в поле о выручке ``713``, столбец ``revenue``.\n",
    "\n",
    "Групп A/B-теста, в которую попал заказ ``2``, столбец ``group``."
   ]
  },
  {
   "cell_type": "code",
   "execution_count": 19,
   "metadata": {},
   "outputs": [
    {
     "name": "stdout",
     "output_type": "stream",
     "text": [
      "Столбец: date\n",
      "Количество пропусков: 0\n",
      "Количество уникальных значений: 31\n",
      "Столбец: group\n",
      "Количество пропусков: 0\n",
      "Количество уникальных значений: 2\n",
      "Столбец: visitors\n",
      "Количество пропусков: 0\n",
      "Количество уникальных значений: 58\n"
     ]
    }
   ],
   "source": [
    "data_isna_nuniq(visitors)"
   ]
  },
  {
   "cell_type": "markdown",
   "metadata": {},
   "source": [
    "Уникальных дат посещения ``31`` от ``01.08.2019`` до ``30.08.2019``, столбец ``date`` .\n",
    "\n",
    "Групп A/B-теста ``2``, столбец ``group``.\n",
    "\n",
    "Уникальных значений количества пользователей в указанную дату, в указанной группе A/B-теста ``58``, столбец ``visitors``."
   ]
  },
  {
   "cell_type": "markdown",
   "metadata": {},
   "source": [
    "<a id=\"num553\"></a>\n",
    "#### Проверка данных"
   ]
  },
  {
   "cell_type": "markdown",
   "metadata": {},
   "source": [
    "Проверим данные по таблицам более детально. "
   ]
  },
  {
   "cell_type": "markdown",
   "metadata": {},
   "source": [
    "<a id=\"num5531\"></a>\n",
    "##### Hypothesis"
   ]
  },
  {
   "cell_type": "code",
   "execution_count": 20,
   "metadata": {},
   "outputs": [
    {
     "data": {
      "text/html": [
       "<div>\n",
       "<style scoped>\n",
       "    .dataframe tbody tr th:only-of-type {\n",
       "        vertical-align: middle;\n",
       "    }\n",
       "\n",
       "    .dataframe tbody tr th {\n",
       "        vertical-align: top;\n",
       "    }\n",
       "\n",
       "    .dataframe thead th {\n",
       "        text-align: right;\n",
       "    }\n",
       "</style>\n",
       "<table border=\"1\" class=\"dataframe\">\n",
       "  <thead>\n",
       "    <tr style=\"text-align: right;\">\n",
       "      <th></th>\n",
       "      <th>hypothesis</th>\n",
       "      <th>reach</th>\n",
       "      <th>impact</th>\n",
       "      <th>confidence</th>\n",
       "      <th>efforts</th>\n",
       "    </tr>\n",
       "  </thead>\n",
       "  <tbody>\n",
       "    <tr>\n",
       "      <th>0</th>\n",
       "      <td>Добавить два новых канала привлечения трафика, что позволит привлекать на 30% больше пользователей</td>\n",
       "      <td>3</td>\n",
       "      <td>10</td>\n",
       "      <td>8</td>\n",
       "      <td>6</td>\n",
       "    </tr>\n",
       "    <tr>\n",
       "      <th>1</th>\n",
       "      <td>Запустить собственную службу доставки, что сократит срок доставки заказов</td>\n",
       "      <td>2</td>\n",
       "      <td>5</td>\n",
       "      <td>4</td>\n",
       "      <td>10</td>\n",
       "    </tr>\n",
       "    <tr>\n",
       "      <th>2</th>\n",
       "      <td>Добавить блоки рекомендаций товаров на сайт интернет магазина, чтобы повысить конверсию и средни...</td>\n",
       "      <td>8</td>\n",
       "      <td>3</td>\n",
       "      <td>7</td>\n",
       "      <td>3</td>\n",
       "    </tr>\n",
       "    <tr>\n",
       "      <th>3</th>\n",
       "      <td>Изменить структура категорий, что увеличит конверсию, т.к. пользователи быстрее найдут нужный товар</td>\n",
       "      <td>8</td>\n",
       "      <td>3</td>\n",
       "      <td>3</td>\n",
       "      <td>8</td>\n",
       "    </tr>\n",
       "    <tr>\n",
       "      <th>4</th>\n",
       "      <td>Изменить цвет фона главной страницы, чтобы увеличить вовлеченность пользователей</td>\n",
       "      <td>3</td>\n",
       "      <td>1</td>\n",
       "      <td>1</td>\n",
       "      <td>1</td>\n",
       "    </tr>\n",
       "    <tr>\n",
       "      <th>5</th>\n",
       "      <td>Добавить страницу отзывов клиентов о магазине, что позволит увеличить количество заказов</td>\n",
       "      <td>3</td>\n",
       "      <td>2</td>\n",
       "      <td>2</td>\n",
       "      <td>3</td>\n",
       "    </tr>\n",
       "    <tr>\n",
       "      <th>6</th>\n",
       "      <td>Показать на главной странице баннеры с актуальными акциями и распродажами, чтобы увеличить конве...</td>\n",
       "      <td>5</td>\n",
       "      <td>3</td>\n",
       "      <td>8</td>\n",
       "      <td>3</td>\n",
       "    </tr>\n",
       "    <tr>\n",
       "      <th>7</th>\n",
       "      <td>Добавить форму подписки на все основные страницы, чтобы собрать базу клиентов для email-рассылок</td>\n",
       "      <td>10</td>\n",
       "      <td>7</td>\n",
       "      <td>8</td>\n",
       "      <td>5</td>\n",
       "    </tr>\n",
       "    <tr>\n",
       "      <th>8</th>\n",
       "      <td>Запустить акцию, дающую скидку на товар в день рождения</td>\n",
       "      <td>1</td>\n",
       "      <td>9</td>\n",
       "      <td>9</td>\n",
       "      <td>5</td>\n",
       "    </tr>\n",
       "  </tbody>\n",
       "</table>\n",
       "</div>"
      ],
      "text/plain": [
       "                                                                                            hypothesis  \\\n",
       "0   Добавить два новых канала привлечения трафика, что позволит привлекать на 30% больше пользователей   \n",
       "1                            Запустить собственную службу доставки, что сократит срок доставки заказов   \n",
       "2  Добавить блоки рекомендаций товаров на сайт интернет магазина, чтобы повысить конверсию и средни...   \n",
       "3  Изменить структура категорий, что увеличит конверсию, т.к. пользователи быстрее найдут нужный товар   \n",
       "4                     Изменить цвет фона главной страницы, чтобы увеличить вовлеченность пользователей   \n",
       "5             Добавить страницу отзывов клиентов о магазине, что позволит увеличить количество заказов   \n",
       "6  Показать на главной странице баннеры с актуальными акциями и распродажами, чтобы увеличить конве...   \n",
       "7     Добавить форму подписки на все основные страницы, чтобы собрать базу клиентов для email-рассылок   \n",
       "8                                              Запустить акцию, дающую скидку на товар в день рождения   \n",
       "\n",
       "   reach  impact  confidence  efforts  \n",
       "0      3      10           8        6  \n",
       "1      2       5           4       10  \n",
       "2      8       3           7        3  \n",
       "3      8       3           3        8  \n",
       "4      3       1           1        1  \n",
       "5      3       2           2        3  \n",
       "6      5       3           8        3  \n",
       "7     10       7           8        5  \n",
       "8      1       9           9        5  "
      ]
     },
     "execution_count": 20,
     "metadata": {},
     "output_type": "execute_result"
    }
   ],
   "source": [
    "pd.set_option('max_colwidth', 100)\n",
    "hypothesis"
   ]
  },
  {
   "cell_type": "markdown",
   "metadata": {},
   "source": [
    "В таблице 9 не повторяющихся гипотез, со своими значениями reach, impact, confidence, efforts. "
   ]
  },
  {
   "cell_type": "markdown",
   "metadata": {},
   "source": [
    "<a id=\"num5532\"></a>\n",
    "##### Orders"
   ]
  },
  {
   "cell_type": "code",
   "execution_count": 21,
   "metadata": {},
   "outputs": [
    {
     "data": {
      "text/html": [
       "<div>\n",
       "<style scoped>\n",
       "    .dataframe tbody tr th:only-of-type {\n",
       "        vertical-align: middle;\n",
       "    }\n",
       "\n",
       "    .dataframe tbody tr th {\n",
       "        vertical-align: top;\n",
       "    }\n",
       "\n",
       "    .dataframe thead th {\n",
       "        text-align: right;\n",
       "    }\n",
       "</style>\n",
       "<table border=\"1\" class=\"dataframe\">\n",
       "  <thead>\n",
       "    <tr style=\"text-align: right;\">\n",
       "      <th></th>\n",
       "      <th>transactionid</th>\n",
       "      <th>visitorid</th>\n",
       "      <th>date</th>\n",
       "      <th>revenue</th>\n",
       "      <th>group</th>\n",
       "    </tr>\n",
       "  </thead>\n",
       "  <tbody>\n",
       "    <tr>\n",
       "      <th>0</th>\n",
       "      <td>3667963787</td>\n",
       "      <td>3312258926</td>\n",
       "      <td>2019-08-15</td>\n",
       "      <td>1650</td>\n",
       "      <td>B</td>\n",
       "    </tr>\n",
       "    <tr>\n",
       "      <th>1</th>\n",
       "      <td>2804400009</td>\n",
       "      <td>3642806036</td>\n",
       "      <td>2019-08-15</td>\n",
       "      <td>730</td>\n",
       "      <td>B</td>\n",
       "    </tr>\n",
       "    <tr>\n",
       "      <th>2</th>\n",
       "      <td>2961555356</td>\n",
       "      <td>4069496402</td>\n",
       "      <td>2019-08-15</td>\n",
       "      <td>400</td>\n",
       "      <td>A</td>\n",
       "    </tr>\n",
       "    <tr>\n",
       "      <th>3</th>\n",
       "      <td>3797467345</td>\n",
       "      <td>1196621759</td>\n",
       "      <td>2019-08-15</td>\n",
       "      <td>9759</td>\n",
       "      <td>B</td>\n",
       "    </tr>\n",
       "    <tr>\n",
       "      <th>4</th>\n",
       "      <td>2282983706</td>\n",
       "      <td>2322279887</td>\n",
       "      <td>2019-08-15</td>\n",
       "      <td>2308</td>\n",
       "      <td>B</td>\n",
       "    </tr>\n",
       "  </tbody>\n",
       "</table>\n",
       "</div>"
      ],
      "text/plain": [
       "   transactionid   visitorid       date  revenue group\n",
       "0     3667963787  3312258926 2019-08-15     1650     B\n",
       "1     2804400009  3642806036 2019-08-15      730     B\n",
       "2     2961555356  4069496402 2019-08-15      400     A\n",
       "3     3797467345  1196621759 2019-08-15     9759     B\n",
       "4     2282983706  2322279887 2019-08-15     2308     B"
      ]
     },
     "execution_count": 21,
     "metadata": {},
     "output_type": "execute_result"
    }
   ],
   "source": [
    "orders.head(5)"
   ]
  },
  {
   "cell_type": "code",
   "execution_count": 22,
   "metadata": {},
   "outputs": [
    {
     "data": {
      "image/svg+xml": [
       "<svg class=\"main-svg\" xmlns=\"http://www.w3.org/2000/svg\" xmlns:xlink=\"http://www.w3.org/1999/xlink\" width=\"840\" height=\"600\" style=\"\" viewBox=\"0 0 700 500\"><rect x=\"0\" y=\"0\" width=\"700\" height=\"500\" style=\"fill: rgb(255, 255, 255); fill-opacity: 1;\"/><defs id=\"defs-19c0cf\"><g class=\"clips\"><clipPath id=\"clip19c0cfxyplot\" class=\"plotclip\"><rect width=\"581\" height=\"400\"/></clipPath><clipPath class=\"axesclip\" id=\"clip19c0cfx\"><rect x=\"49\" y=\"0\" width=\"581\" height=\"500\"/></clipPath><clipPath class=\"axesclip\" id=\"clip19c0cfy\"><rect x=\"0\" y=\"50\" width=\"700\" height=\"400\"/></clipPath><clipPath class=\"axesclip\" id=\"clip19c0cfxy\"><rect x=\"49\" y=\"50\" width=\"581\" height=\"400\"/></clipPath></g><g class=\"gradients\"/><g class=\"patterns\"/></defs><g class=\"bglayer\"><rect class=\"bg\" x=\"49\" y=\"50\" width=\"581\" height=\"400\" style=\"fill: rgb(240, 248, 255); fill-opacity: 1; stroke-width: 0;\"/></g><g class=\"layer-below\"><g class=\"imagelayer\"/><g class=\"shapelayer\"/></g><g class=\"cartesianlayer\"><g class=\"subplot xy\"><g class=\"layer-subplot\"><g class=\"shapelayer\"/><g class=\"imagelayer\"/></g><g class=\"gridlayer\"><g class=\"x\"/><g class=\"y\"><path class=\"ygrid crisp\" transform=\"translate(0,390.63)\" d=\"M49,0h581\" style=\"stroke: rgb(255, 255, 255); stroke-opacity: 1; stroke-width: 1px;\"/><path class=\"ygrid crisp\" transform=\"translate(0,331.25)\" d=\"M49,0h581\" style=\"stroke: rgb(255, 255, 255); stroke-opacity: 1; stroke-width: 1px;\"/><path class=\"ygrid crisp\" transform=\"translate(0,271.88)\" d=\"M49,0h581\" style=\"stroke: rgb(255, 255, 255); stroke-opacity: 1; stroke-width: 1px;\"/><path class=\"ygrid crisp\" transform=\"translate(0,212.5)\" d=\"M49,0h581\" style=\"stroke: rgb(255, 255, 255); stroke-opacity: 1; stroke-width: 1px;\"/><path class=\"ygrid crisp\" transform=\"translate(0,153.13)\" d=\"M49,0h581\" style=\"stroke: rgb(255, 255, 255); stroke-opacity: 1; stroke-width: 1px;\"/><path class=\"ygrid crisp\" transform=\"translate(0,93.75)\" d=\"M49,0h581\" style=\"stroke: rgb(255, 255, 255); stroke-opacity: 1; stroke-width: 1px;\"/></g></g><g class=\"zerolinelayer\"><path class=\"yzl zl crisp\" transform=\"translate(0,450)\" d=\"M49,0h581\" style=\"stroke: rgb(255, 255, 255); stroke-opacity: 1; stroke-width: 2px;\"/></g><path class=\"xlines-below\"/><path class=\"ylines-below\"/><g class=\"overlines-below\"/><g class=\"xaxislayer-below\"/><g class=\"yaxislayer-below\"/><g class=\"overaxes-below\"/><g class=\"plot\" transform=\"translate(49,50)\" clip-path=\"url(#clip19c0cfxyplot)\"><g class=\"barlayer mlayer\"><g class=\"trace bars\" style=\"opacity: 1;\"><g class=\"points\"><g class=\"point\"><path d=\"M29.05,400V69.28H145.25V400Z\" style=\"vector-effect: non-scaling-stroke; opacity: 1; stroke-width: 0.5px; fill: rgb(6, 55, 81); fill-opacity: 1; stroke: rgb(229, 236, 246); stroke-opacity: 1;\"/><text class=\"bartext bartext-inside\" text-anchor=\"middle\" data-notex=\"1\" x=\"0\" y=\"0\" style=\"font-family: 'Open Sans', verdana, arial, sans-serif; font-size: 12px; fill: rgb(255, 255, 255); fill-opacity: 1; white-space: pre;\" transform=\"translate(86.9625,84.28)\">557</text></g></g></g><g class=\"trace bars\" style=\"opacity: 1;\"><g class=\"points\"><g class=\"point\"><path d=\"M435.75,400V20H551.95V400Z\" style=\"vector-effect: non-scaling-stroke; opacity: 1; stroke-width: 0.5px; fill: rgb(143, 211, 247); fill-opacity: 1; stroke: rgb(229, 236, 246); stroke-opacity: 1;\"/><text class=\"bartext bartext-inside\" text-anchor=\"middle\" data-notex=\"1\" x=\"0\" y=\"0\" style=\"font-family: 'Open Sans', verdana, arial, sans-serif; font-size: 12px; fill: rgb(68, 68, 68); fill-opacity: 1; white-space: pre;\" transform=\"translate(493.6625,35)\">640</text></g></g></g></g></g><g class=\"overplot\"/><path class=\"xlines-above crisp\" d=\"M0,0\" style=\"fill: none;\"/><path class=\"ylines-above crisp\" d=\"M0,0\" style=\"fill: none;\"/><g class=\"overlines-above\"/><g class=\"xaxislayer-above\"><g class=\"xtick\"><text text-anchor=\"middle\" x=\"0\" y=\"463\" transform=\"translate(194.25,0)\" style=\"font-family: 'Open Sans', verdana, arial, sans-serif; font-size: 12px; fill: rgb(42, 63, 95); fill-opacity: 1; white-space: pre; opacity: 1;\">A</text></g><g class=\"xtick\"><text text-anchor=\"middle\" x=\"0\" y=\"463\" transform=\"translate(484.75,0)\" style=\"font-family: 'Open Sans', verdana, arial, sans-serif; font-size: 12px; fill: rgb(42, 63, 95); fill-opacity: 1; white-space: pre; opacity: 1;\">B</text></g></g><g class=\"yaxislayer-above\"><g class=\"ytick\"><text text-anchor=\"end\" x=\"48\" y=\"4.199999999999999\" transform=\"translate(0,450)\" style=\"font-family: 'Open Sans', verdana, arial, sans-serif; font-size: 12px; fill: rgb(42, 63, 95); fill-opacity: 1; white-space: pre; opacity: 1;\">0</text></g><g class=\"ytick\"><text text-anchor=\"end\" x=\"48\" y=\"4.199999999999999\" style=\"font-family: 'Open Sans', verdana, arial, sans-serif; font-size: 12px; fill: rgb(42, 63, 95); fill-opacity: 1; white-space: pre; opacity: 1;\" transform=\"translate(0,390.63)\">100</text></g><g class=\"ytick\"><text text-anchor=\"end\" x=\"48\" y=\"4.199999999999999\" style=\"font-family: 'Open Sans', verdana, arial, sans-serif; font-size: 12px; fill: rgb(42, 63, 95); fill-opacity: 1; white-space: pre; opacity: 1;\" transform=\"translate(0,331.25)\">200</text></g><g class=\"ytick\"><text text-anchor=\"end\" x=\"48\" y=\"4.199999999999999\" style=\"font-family: 'Open Sans', verdana, arial, sans-serif; font-size: 12px; fill: rgb(42, 63, 95); fill-opacity: 1; white-space: pre; opacity: 1;\" transform=\"translate(0,271.88)\">300</text></g><g class=\"ytick\"><text text-anchor=\"end\" x=\"48\" y=\"4.199999999999999\" style=\"font-family: 'Open Sans', verdana, arial, sans-serif; font-size: 12px; fill: rgb(42, 63, 95); fill-opacity: 1; white-space: pre; opacity: 1;\" transform=\"translate(0,212.5)\">400</text></g><g class=\"ytick\"><text text-anchor=\"end\" x=\"48\" y=\"4.199999999999999\" style=\"font-family: 'Open Sans', verdana, arial, sans-serif; font-size: 12px; fill: rgb(42, 63, 95); fill-opacity: 1; white-space: pre; opacity: 1;\" transform=\"translate(0,153.13)\">500</text></g><g class=\"ytick\"><text text-anchor=\"end\" x=\"48\" y=\"4.199999999999999\" style=\"font-family: 'Open Sans', verdana, arial, sans-serif; font-size: 12px; fill: rgb(42, 63, 95); fill-opacity: 1; white-space: pre; opacity: 1;\" transform=\"translate(0,93.75)\">600</text></g></g><g class=\"overaxes-above\"/></g></g><g class=\"polarlayer\"/><g class=\"smithlayer\"/><g class=\"ternarylayer\"/><g class=\"geolayer\"/><g class=\"funnelarealayer\"/><g class=\"pielayer\"/><g class=\"iciclelayer\"/><g class=\"treemaplayer\"/><g class=\"sunburstlayer\"/><g class=\"glimages\"/><defs id=\"topdefs-19c0cf\"><g class=\"clips\"/><clipPath id=\"legend19c0cf\"><rect width=\"58\" height=\"67\" x=\"0\" y=\"0\"/></clipPath></defs><g class=\"layer-above\"><g class=\"imagelayer\"/><g class=\"shapelayer\"/></g><g class=\"infolayer\"><g class=\"legend\" pointer-events=\"all\" transform=\"translate(641.62,50)\"><rect class=\"bg\" shape-rendering=\"crispEdges\" style=\"stroke: rgb(68, 68, 68); stroke-opacity: 1; fill: rgb(255, 255, 255); fill-opacity: 1; stroke-width: 0px;\" width=\"58\" height=\"67\" x=\"0\" y=\"0\"/><g class=\"scrollbox\" transform=\"\" clip-path=\"url(#legend19c0cf)\"><text class=\"legendtitletext\" text-anchor=\"start\" x=\"2\" y=\"18.2\" style=\"font-family: 'Open Sans', verdana, arial, sans-serif; font-size: 14px; fill: rgb(42, 63, 95); fill-opacity: 1; white-space: pre;\">Группы</text><g class=\"groups\" transform=\"\"><g class=\"traces\" transform=\"translate(0,32.7)\" style=\"opacity: 1;\"><text class=\"legendtext\" text-anchor=\"start\" x=\"40\" y=\"4.680000000000001\" style=\"font-family: 'Open Sans', verdana, arial, sans-serif; font-size: 12px; fill: rgb(42, 63, 95); fill-opacity: 1; white-space: pre;\">A</text><g class=\"layers\" style=\"opacity: 1;\"><g class=\"legendfill\"/><g class=\"legendlines\"/><g class=\"legendsymbols\"><g class=\"legendpoints\"><path class=\"legendundefined\" d=\"M6,6H-6V-6H6Z\" transform=\"translate(20,0)\" style=\"stroke-width: 0.5px; fill: rgb(6, 55, 81); fill-opacity: 1; stroke: rgb(229, 236, 246); stroke-opacity: 1;\"/></g></g></g><rect class=\"legendtoggle\" x=\"0\" y=\"-9.5\" width=\"50\" height=\"19\" style=\"fill: rgb(0, 0, 0); fill-opacity: 0;\"/></g></g><g class=\"groups\" transform=\"\"><g class=\"traces\" transform=\"translate(0,51.7)\" style=\"opacity: 1;\"><text class=\"legendtext\" text-anchor=\"start\" x=\"40\" y=\"4.680000000000001\" style=\"font-family: 'Open Sans', verdana, arial, sans-serif; font-size: 12px; fill: rgb(42, 63, 95); fill-opacity: 1; white-space: pre;\">B</text><g class=\"layers\" style=\"opacity: 1;\"><g class=\"legendfill\"/><g class=\"legendlines\"/><g class=\"legendsymbols\"><g class=\"legendpoints\"><path class=\"legendundefined\" d=\"M6,6H-6V-6H6Z\" transform=\"translate(20,0)\" style=\"stroke-width: 0.5px; fill: rgb(143, 211, 247); fill-opacity: 1; stroke: rgb(229, 236, 246); stroke-opacity: 1;\"/></g></g></g><rect class=\"legendtoggle\" x=\"0\" y=\"-9.5\" width=\"50\" height=\"19\" style=\"fill: rgb(0, 0, 0); fill-opacity: 0;\"/></g></g></g><rect class=\"scrollbar\" rx=\"20\" ry=\"3\" width=\"0\" height=\"0\" style=\"fill: rgb(128, 139, 164); fill-opacity: 1;\" x=\"0\" y=\"0\"/></g><g class=\"g-gtitle\"><text class=\"gtitle\" x=\"35\" y=\"25\" text-anchor=\"start\" dy=\"0em\" style=\"font-family: 'Open Sans', verdana, arial, sans-serif; font-size: 17px; fill: rgb(42, 63, 95); opacity: 1; font-weight: normal; white-space: pre;\">Распределение долей пользователей с подпиской и без</text></g><g class=\"g-xtitle\"><text class=\"xtitle\" x=\"339.5\" y=\"490.8\" text-anchor=\"middle\" style=\"font-family: 'Open Sans', verdana, arial, sans-serif; font-size: 14px; fill: rgb(42, 63, 95); opacity: 1; font-weight: normal; white-space: pre;\">Группа</text></g><g class=\"g-ytitle\" transform=\"translate(13.6904296875,0)\"><text class=\"ytitle\" transform=\"rotate(-90,0.30937500000000284,250)\" x=\"0.30937500000000284\" y=\"250\" text-anchor=\"middle\" style=\"font-family: 'Open Sans', verdana, arial, sans-serif; font-size: 14px; fill: rgb(42, 63, 95); opacity: 1; font-weight: normal; white-space: pre;\">Количество</text></g></g></svg>"
      ]
     },
     "metadata": {},
     "output_type": "display_data"
    }
   ],
   "source": [
    "fig = px.bar(orders.groupby('group')['visitorid']\n",
    "             .count()\n",
    "             .reset_index()\n",
    "             .rename(columns={\n",
    "                 'group': 'Группа', \n",
    "                 'visitorid': 'Количество'}), \n",
    "             y='Количество', \n",
    "             x='Группа', \n",
    "             color='Группа', \n",
    "             color_discrete_sequence=[colors[0], colors[7]],\n",
    "             title='Распределение долей пользователей с подпиской и без',        \n",
    "             barmode='group',\n",
    "             text='Количество'\n",
    "            )\n",
    "\n",
    "fig.update_traces(texttemplate='%{text}', textposition='inside')\n",
    "fig.update_layout(showlegend=True, legend_title='Группы',\n",
    "                  plot_bgcolor='AliceBlue',\n",
    "                  margin={\"r\": 0, \"t\": 50, \"l\": 0, \"b\": 50})\n",
    "fig.show()"
   ]
  },
  {
   "cell_type": "markdown",
   "metadata": {},
   "source": [
    "Желательно, чтобы группы А и B были одинаковыми. Посмотрим, что может влиять на такую разницу."
   ]
  },
  {
   "cell_type": "markdown",
   "metadata": {},
   "source": [
    "Проверим дублирование записей о пользователях. "
   ]
  },
  {
   "cell_type": "code",
   "execution_count": 23,
   "metadata": {},
   "outputs": [
    {
     "data": {
      "text/html": [
       "<div>\n",
       "<style scoped>\n",
       "    .dataframe tbody tr th:only-of-type {\n",
       "        vertical-align: middle;\n",
       "    }\n",
       "\n",
       "    .dataframe tbody tr th {\n",
       "        vertical-align: top;\n",
       "    }\n",
       "\n",
       "    .dataframe thead th {\n",
       "        text-align: right;\n",
       "    }\n",
       "</style>\n",
       "<table border=\"1\" class=\"dataframe\">\n",
       "  <thead>\n",
       "    <tr style=\"text-align: right;\">\n",
       "      <th></th>\n",
       "      <th>transactionid</th>\n",
       "      <th>visitorid</th>\n",
       "      <th>date</th>\n",
       "      <th>revenue</th>\n",
       "      <th>group</th>\n",
       "    </tr>\n",
       "  </thead>\n",
       "  <tbody>\n",
       "    <tr>\n",
       "      <th>71</th>\n",
       "      <td>3679129301</td>\n",
       "      <td>8300375</td>\n",
       "      <td>2019-08-01</td>\n",
       "      <td>10510</td>\n",
       "      <td>B</td>\n",
       "    </tr>\n",
       "    <tr>\n",
       "      <th>703</th>\n",
       "      <td>4293855558</td>\n",
       "      <td>8300375</td>\n",
       "      <td>2019-08-07</td>\n",
       "      <td>1790</td>\n",
       "      <td>A</td>\n",
       "    </tr>\n",
       "    <tr>\n",
       "      <th>1102</th>\n",
       "      <td>1941707234</td>\n",
       "      <td>199603092</td>\n",
       "      <td>2019-08-12</td>\n",
       "      <td>6438</td>\n",
       "      <td>A</td>\n",
       "    </tr>\n",
       "    <tr>\n",
       "      <th>823</th>\n",
       "      <td>2971973105</td>\n",
       "      <td>199603092</td>\n",
       "      <td>2019-08-27</td>\n",
       "      <td>2790</td>\n",
       "      <td>A</td>\n",
       "    </tr>\n",
       "    <tr>\n",
       "      <th>134</th>\n",
       "      <td>62794304</td>\n",
       "      <td>199603092</td>\n",
       "      <td>2019-08-22</td>\n",
       "      <td>6976</td>\n",
       "      <td>A</td>\n",
       "    </tr>\n",
       "    <tr>\n",
       "      <th>...</th>\n",
       "      <td>...</td>\n",
       "      <td>...</td>\n",
       "      <td>...</td>\n",
       "      <td>...</td>\n",
       "      <td>...</td>\n",
       "    </tr>\n",
       "    <tr>\n",
       "      <th>1019</th>\n",
       "      <td>453824282</td>\n",
       "      <td>4256040402</td>\n",
       "      <td>2019-08-31</td>\n",
       "      <td>1850</td>\n",
       "      <td>B</td>\n",
       "    </tr>\n",
       "    <tr>\n",
       "      <th>253</th>\n",
       "      <td>1610091760</td>\n",
       "      <td>4256040402</td>\n",
       "      <td>2019-08-23</td>\n",
       "      <td>16950</td>\n",
       "      <td>A</td>\n",
       "    </tr>\n",
       "    <tr>\n",
       "      <th>263</th>\n",
       "      <td>2575861846</td>\n",
       "      <td>4256040402</td>\n",
       "      <td>2019-08-18</td>\n",
       "      <td>10970</td>\n",
       "      <td>B</td>\n",
       "    </tr>\n",
       "    <tr>\n",
       "      <th>682</th>\n",
       "      <td>1216533772</td>\n",
       "      <td>4266935830</td>\n",
       "      <td>2019-08-29</td>\n",
       "      <td>78990</td>\n",
       "      <td>B</td>\n",
       "    </tr>\n",
       "    <tr>\n",
       "      <th>662</th>\n",
       "      <td>1811671147</td>\n",
       "      <td>4266935830</td>\n",
       "      <td>2019-08-29</td>\n",
       "      <td>78990</td>\n",
       "      <td>A</td>\n",
       "    </tr>\n",
       "  </tbody>\n",
       "</table>\n",
       "<p>260 rows × 5 columns</p>\n",
       "</div>"
      ],
      "text/plain": [
       "      transactionid   visitorid       date  revenue group\n",
       "71       3679129301     8300375 2019-08-01    10510     B\n",
       "703      4293855558     8300375 2019-08-07     1790     A\n",
       "1102     1941707234   199603092 2019-08-12     6438     A\n",
       "823      2971973105   199603092 2019-08-27     2790     A\n",
       "134        62794304   199603092 2019-08-22     6976     A\n",
       "...             ...         ...        ...      ...   ...\n",
       "1019      453824282  4256040402 2019-08-31     1850     B\n",
       "253      1610091760  4256040402 2019-08-23    16950     A\n",
       "263      2575861846  4256040402 2019-08-18    10970     B\n",
       "682      1216533772  4266935830 2019-08-29    78990     B\n",
       "662      1811671147  4266935830 2019-08-29    78990     A\n",
       "\n",
       "[260 rows x 5 columns]"
      ]
     },
     "execution_count": 23,
     "metadata": {},
     "output_type": "execute_result"
    }
   ],
   "source": [
    "orders[orders.duplicated(subset=['visitorid'], keep=False)].sort_values(by='visitorid')"
   ]
  },
  {
   "cell_type": "markdown",
   "metadata": {},
   "source": [
    "В данных найдено 260 строк с дублирующимися пользователями. Часть из пользователей попала в одну группу теста, но в один день зафиксировано несколько транзакций от них. Часть пользователей попала __в обе группы теста__. "
   ]
  },
  {
   "cell_type": "markdown",
   "metadata": {},
   "source": [
    "Проверим пользователей, которые попали в обе группы теста. "
   ]
  },
  {
   "cell_type": "code",
   "execution_count": 24,
   "metadata": {},
   "outputs": [
    {
     "data": {
      "text/plain": [
       "58"
      ]
     },
     "metadata": {},
     "output_type": "display_data"
    }
   ],
   "source": [
    "matching_visitors = uniq(orders)"
   ]
  },
  {
   "cell_type": "markdown",
   "metadata": {},
   "source": [
    "58 пользователей попали в обе группы теста. "
   ]
  },
  {
   "cell_type": "markdown",
   "metadata": {},
   "source": [
    "Чтобы исключить влияние на результат, не будем использовать данные пользователей, которые попали в обе группы. Будем использовать данные убрав такие записи. "
   ]
  },
  {
   "cell_type": "code",
   "execution_count": 25,
   "metadata": {},
   "outputs": [],
   "source": [
    "orders_fixed = orders.query('visitorid not in @matching_visitors')"
   ]
  },
  {
   "cell_type": "markdown",
   "metadata": {},
   "source": [
    "В таблице остались только пользователи, которые находятся строго в одной группе. "
   ]
  },
  {
   "cell_type": "code",
   "execution_count": 26,
   "metadata": {},
   "outputs": [
    {
     "data": {
      "text/plain": [
       "0"
      ]
     },
     "metadata": {},
     "output_type": "display_data"
    },
    {
     "data": {
      "text/plain": [
       "Series([], Name: visitorid, dtype: int64)"
      ]
     },
     "execution_count": 26,
     "metadata": {},
     "output_type": "execute_result"
    }
   ],
   "source": [
    "uniq(orders_fixed)"
   ]
  },
  {
   "cell_type": "markdown",
   "metadata": {},
   "source": [
    "Пользоватаелей, которые попали в обе группы теста больше нет в данных. Пользователи, которые несколько раз за один день совершали транзакции — в данных остались, так как не представляют проблемы, вполне естественно, что за один день может быть несколько заказов от одного пользователя. "
   ]
  },
  {
   "cell_type": "code",
   "execution_count": 27,
   "metadata": {},
   "outputs": [
    {
     "data": {
      "text/plain": [
       "group\n",
       "A    468\n",
       "B    548\n",
       "Name: visitorid, dtype: int64"
      ]
     },
     "execution_count": 27,
     "metadata": {},
     "output_type": "execute_result"
    }
   ],
   "source": [
    "orders_fixed.groupby('group')['visitorid'].count()"
   ]
  },
  {
   "cell_type": "markdown",
   "metadata": {},
   "source": [
    "Количество пользователей в тесте уменьшилось, но они все равно представлены не в равных частях. В идеальных условиях теста количество пользователей в группах должно быть одинаковым. \n",
    "\n",
    "В группе ``А`` — ``468`` пользователей. \n",
    "\n",
    "В группе ``В`` — ``548`` пользователей."
   ]
  },
  {
   "cell_type": "markdown",
   "metadata": {},
   "source": [
    "Разница между группами порядка ``14.6%``. Но, так как невозможно привести к равному количеству пользователей в группах не нарушив результаты исследования, не будем уравнивать группы по количеству."
   ]
  },
  {
   "cell_type": "markdown",
   "metadata": {},
   "source": [
    "<a id=\"num5533\"></a>\n",
    "##### Visitors"
   ]
  },
  {
   "cell_type": "code",
   "execution_count": 28,
   "metadata": {},
   "outputs": [
    {
     "data": {
      "text/html": [
       "<div>\n",
       "<style scoped>\n",
       "    .dataframe tbody tr th:only-of-type {\n",
       "        vertical-align: middle;\n",
       "    }\n",
       "\n",
       "    .dataframe tbody tr th {\n",
       "        vertical-align: top;\n",
       "    }\n",
       "\n",
       "    .dataframe thead th {\n",
       "        text-align: right;\n",
       "    }\n",
       "</style>\n",
       "<table border=\"1\" class=\"dataframe\">\n",
       "  <thead>\n",
       "    <tr style=\"text-align: right;\">\n",
       "      <th></th>\n",
       "      <th>date</th>\n",
       "      <th>group</th>\n",
       "      <th>visitors</th>\n",
       "    </tr>\n",
       "  </thead>\n",
       "  <tbody>\n",
       "    <tr>\n",
       "      <th>0</th>\n",
       "      <td>2019-08-01</td>\n",
       "      <td>A</td>\n",
       "      <td>719</td>\n",
       "    </tr>\n",
       "    <tr>\n",
       "      <th>1</th>\n",
       "      <td>2019-08-02</td>\n",
       "      <td>A</td>\n",
       "      <td>619</td>\n",
       "    </tr>\n",
       "    <tr>\n",
       "      <th>2</th>\n",
       "      <td>2019-08-03</td>\n",
       "      <td>A</td>\n",
       "      <td>507</td>\n",
       "    </tr>\n",
       "    <tr>\n",
       "      <th>3</th>\n",
       "      <td>2019-08-04</td>\n",
       "      <td>A</td>\n",
       "      <td>717</td>\n",
       "    </tr>\n",
       "    <tr>\n",
       "      <th>4</th>\n",
       "      <td>2019-08-05</td>\n",
       "      <td>A</td>\n",
       "      <td>756</td>\n",
       "    </tr>\n",
       "    <tr>\n",
       "      <th>...</th>\n",
       "      <td>...</td>\n",
       "      <td>...</td>\n",
       "      <td>...</td>\n",
       "    </tr>\n",
       "    <tr>\n",
       "      <th>57</th>\n",
       "      <td>2019-08-27</td>\n",
       "      <td>B</td>\n",
       "      <td>720</td>\n",
       "    </tr>\n",
       "    <tr>\n",
       "      <th>58</th>\n",
       "      <td>2019-08-28</td>\n",
       "      <td>B</td>\n",
       "      <td>654</td>\n",
       "    </tr>\n",
       "    <tr>\n",
       "      <th>59</th>\n",
       "      <td>2019-08-29</td>\n",
       "      <td>B</td>\n",
       "      <td>531</td>\n",
       "    </tr>\n",
       "    <tr>\n",
       "      <th>60</th>\n",
       "      <td>2019-08-30</td>\n",
       "      <td>B</td>\n",
       "      <td>490</td>\n",
       "    </tr>\n",
       "    <tr>\n",
       "      <th>61</th>\n",
       "      <td>2019-08-31</td>\n",
       "      <td>B</td>\n",
       "      <td>718</td>\n",
       "    </tr>\n",
       "  </tbody>\n",
       "</table>\n",
       "<p>62 rows × 3 columns</p>\n",
       "</div>"
      ],
      "text/plain": [
       "         date group  visitors\n",
       "0  2019-08-01     A       719\n",
       "1  2019-08-02     A       619\n",
       "2  2019-08-03     A       507\n",
       "3  2019-08-04     A       717\n",
       "4  2019-08-05     A       756\n",
       "..        ...   ...       ...\n",
       "57 2019-08-27     B       720\n",
       "58 2019-08-28     B       654\n",
       "59 2019-08-29     B       531\n",
       "60 2019-08-30     B       490\n",
       "61 2019-08-31     B       718\n",
       "\n",
       "[62 rows x 3 columns]"
      ]
     },
     "execution_count": 28,
     "metadata": {},
     "output_type": "execute_result"
    }
   ],
   "source": [
    "visitors"
   ]
  },
  {
   "cell_type": "code",
   "execution_count": 29,
   "metadata": {},
   "outputs": [
    {
     "data": {
      "text/plain": [
       "group\n",
       "A    31\n",
       "B    31\n",
       "Name: date, dtype: int64"
      ]
     },
     "execution_count": 29,
     "metadata": {},
     "output_type": "execute_result"
    }
   ],
   "source": [
    "visitors.groupby('group')['date'].count()"
   ]
  },
  {
   "cell_type": "markdown",
   "metadata": {},
   "source": [
    "По датам результаты теста представлены верно, результаты для обоих тестов есть для каждой указанной даты. Каких-либо особых действий тут не требуется."
   ]
  },
  {
   "cell_type": "markdown",
   "metadata": {},
   "source": [
    "<a id=\"num6\"></a>\n",
    "## Исследование"
   ]
  },
  {
   "cell_type": "markdown",
   "metadata": {},
   "source": [
    "<a id=\"num61\"></a>\n",
    "### Приоритизация гипотез"
   ]
  },
  {
   "cell_type": "markdown",
   "metadata": {},
   "source": [
    "<a id=\"num611\"></a>\n",
    "#### ICE"
   ]
  },
  {
   "cell_type": "code",
   "execution_count": 30,
   "metadata": {},
   "outputs": [],
   "source": [
    "pd.set_option('max_colwidth', 150)"
   ]
  },
  {
   "cell_type": "code",
   "execution_count": 31,
   "metadata": {},
   "outputs": [],
   "source": [
    "hypothesis['ICE'] = ((hypothesis['impact'] * hypothesis['confidence']) / hypothesis['efforts']).round(2)"
   ]
  },
  {
   "cell_type": "markdown",
   "metadata": {},
   "source": [
    "При ``ICE`` топ-3 гипотезы:\n",
    "- 8 — __«Запустить акцию, дающую скидку на товар в день рождения»:__\n",
    "    - ``impact`` — 9, \n",
    "    - ``confidence`` — 9, \n",
    "    - ``efforts`` — 5;\n",
    "- 0 — __«Добавить два новых канала привлечения трафика, что позволит привлекать на 30% больше пользователей»:__ \n",
    "    - ``impact`` — 10, \n",
    "    - ``confidence`` — 8, \n",
    "    - ``efforts`` — 6;\n",
    "- 7 — __«Добавить форму подписки на все основные страницы, чтобы собрать базу клиентов для email-рассылок»:__\n",
    "    - ``impact`` — 7, \n",
    "    - ``confidence`` — 8, \n",
    "    - ``efforts`` — 5;"
   ]
  },
  {
   "cell_type": "markdown",
   "metadata": {},
   "source": [
    "При ``ICE`` наиболее перспективные гипотезы: \n",
    "- ``8 — «Запустить акцию, дающую скидку на товар в день рождения»``, \n",
    "- ``0 — «Добавить два новых канала привлечения трафика, что позволит привлекать на 30% больше пользователей»``, \n",
    "- ``7 — «Добавить форму подписки на все основные страницы, чтобы собрать базу клиентов для email-рассылок»``. \n",
    "\n",
    "Гипотезы были выбраны по довольно внушительным значениям __влияния__(impact — от 7 до 10) и __уверенности__(confidence — от 8 до 9), хоть и __усилия__(efforts) для проверки этих гипотез не самые малые(от 5 до 6). \n",
    "Можно заметить, что при ICE в приоритет попали гипотезы с макисмальным влиянием из всех остальных гипотез. "
   ]
  },
  {
   "cell_type": "markdown",
   "metadata": {},
   "source": [
    "<a id=\"num612\"></a>\n",
    "#### RICE"
   ]
  },
  {
   "cell_type": "code",
   "execution_count": 32,
   "metadata": {},
   "outputs": [],
   "source": [
    "hypothesis['RICE'] = (hypothesis['reach'] * hypothesis['impact'] * hypothesis['confidence']) / hypothesis['efforts']"
   ]
  },
  {
   "cell_type": "markdown",
   "metadata": {},
   "source": [
    "При ``RICE`` топ-3 гипотезы:\n",
    "- __«Добавить форму подписки на все основные страницы, чтобы собрать базу клиентов для email-рассылок»:__\n",
    "    - ``reach`` — 10, \n",
    "    - ``impact`` — 7, \n",
    "    - ``confidence`` — 8, \n",
    "    - ``efforts`` — 5;\n",
    "- __«Добавить блоки рекомендаций товаров на сайт интернет магазина, чтобы повысить конверсию и средний чек заказа»:__\n",
    "    - ``reach`` — 8, \n",
    "    - ``impact`` — 3, \n",
    "    - ``confidence`` — 7, \n",
    "    - ``efforts`` — 3;\n",
    "- __«Добавить два новых канала привлечения трафика, что позволит привлекать на 30% больше пользователей»:__\n",
    "    - ``reach`` — 3, \n",
    "    - ``impact`` — 10, \n",
    "    - ``confidence`` — 8, \n",
    "    - ``efforts`` — 6;\n",
    "\n",
    "При ``RICE`` распределение приоритетов немного сместилось, в топе уже не удерживаются гипотезы с каким-то одним преобладающим значением. "
   ]
  },
  {
   "cell_type": "markdown",
   "metadata": {},
   "source": [
    "<a id=\"num613\"></a>\n",
    "#### Анализ результатов между ICE и RICE"
   ]
  },
  {
   "cell_type": "code",
   "execution_count": 33,
   "metadata": {},
   "outputs": [
    {
     "data": {
      "text/html": [
       "<div>\n",
       "<style scoped>\n",
       "    .dataframe tbody tr th:only-of-type {\n",
       "        vertical-align: middle;\n",
       "    }\n",
       "\n",
       "    .dataframe tbody tr th {\n",
       "        vertical-align: top;\n",
       "    }\n",
       "\n",
       "    .dataframe thead th {\n",
       "        text-align: right;\n",
       "    }\n",
       "</style>\n",
       "<table border=\"1\" class=\"dataframe\">\n",
       "  <thead>\n",
       "    <tr style=\"text-align: right;\">\n",
       "      <th></th>\n",
       "      <th>hypothesis</th>\n",
       "      <th>reach</th>\n",
       "      <th>impact</th>\n",
       "      <th>confidence</th>\n",
       "      <th>efforts</th>\n",
       "      <th>ICE</th>\n",
       "      <th>RICE</th>\n",
       "    </tr>\n",
       "  </thead>\n",
       "  <tbody>\n",
       "    <tr>\n",
       "      <th>8</th>\n",
       "      <td>Запустить акцию, дающую скидку на товар в день рождения</td>\n",
       "      <td>1</td>\n",
       "      <td>9</td>\n",
       "      <td>9</td>\n",
       "      <td>5</td>\n",
       "      <td>16.20</td>\n",
       "      <td>16.2</td>\n",
       "    </tr>\n",
       "    <tr>\n",
       "      <th>0</th>\n",
       "      <td>Добавить два новых канала привлечения трафика, что позволит привлекать на 30% больше пользователей</td>\n",
       "      <td>3</td>\n",
       "      <td>10</td>\n",
       "      <td>8</td>\n",
       "      <td>6</td>\n",
       "      <td>13.33</td>\n",
       "      <td>40.0</td>\n",
       "    </tr>\n",
       "    <tr>\n",
       "      <th>7</th>\n",
       "      <td>Добавить форму подписки на все основные страницы, чтобы собрать базу клиентов для email-рассылок</td>\n",
       "      <td>10</td>\n",
       "      <td>7</td>\n",
       "      <td>8</td>\n",
       "      <td>5</td>\n",
       "      <td>11.20</td>\n",
       "      <td>112.0</td>\n",
       "    </tr>\n",
       "    <tr>\n",
       "      <th>6</th>\n",
       "      <td>Показать на главной странице баннеры с актуальными акциями и распродажами, чтобы увеличить конверсию</td>\n",
       "      <td>5</td>\n",
       "      <td>3</td>\n",
       "      <td>8</td>\n",
       "      <td>3</td>\n",
       "      <td>8.00</td>\n",
       "      <td>40.0</td>\n",
       "    </tr>\n",
       "    <tr>\n",
       "      <th>2</th>\n",
       "      <td>Добавить блоки рекомендаций товаров на сайт интернет магазина, чтобы повысить конверсию и средний чек заказа</td>\n",
       "      <td>8</td>\n",
       "      <td>3</td>\n",
       "      <td>7</td>\n",
       "      <td>3</td>\n",
       "      <td>7.00</td>\n",
       "      <td>56.0</td>\n",
       "    </tr>\n",
       "    <tr>\n",
       "      <th>1</th>\n",
       "      <td>Запустить собственную службу доставки, что сократит срок доставки заказов</td>\n",
       "      <td>2</td>\n",
       "      <td>5</td>\n",
       "      <td>4</td>\n",
       "      <td>10</td>\n",
       "      <td>2.00</td>\n",
       "      <td>4.0</td>\n",
       "    </tr>\n",
       "    <tr>\n",
       "      <th>5</th>\n",
       "      <td>Добавить страницу отзывов клиентов о магазине, что позволит увеличить количество заказов</td>\n",
       "      <td>3</td>\n",
       "      <td>2</td>\n",
       "      <td>2</td>\n",
       "      <td>3</td>\n",
       "      <td>1.33</td>\n",
       "      <td>4.0</td>\n",
       "    </tr>\n",
       "    <tr>\n",
       "      <th>3</th>\n",
       "      <td>Изменить структура категорий, что увеличит конверсию, т.к. пользователи быстрее найдут нужный товар</td>\n",
       "      <td>8</td>\n",
       "      <td>3</td>\n",
       "      <td>3</td>\n",
       "      <td>8</td>\n",
       "      <td>1.12</td>\n",
       "      <td>9.0</td>\n",
       "    </tr>\n",
       "    <tr>\n",
       "      <th>4</th>\n",
       "      <td>Изменить цвет фона главной страницы, чтобы увеличить вовлеченность пользователей</td>\n",
       "      <td>3</td>\n",
       "      <td>1</td>\n",
       "      <td>1</td>\n",
       "      <td>1</td>\n",
       "      <td>1.00</td>\n",
       "      <td>3.0</td>\n",
       "    </tr>\n",
       "  </tbody>\n",
       "</table>\n",
       "</div>"
      ],
      "text/plain": [
       "                                                                                                     hypothesis  \\\n",
       "8                                                       Запустить акцию, дающую скидку на товар в день рождения   \n",
       "0            Добавить два новых канала привлечения трафика, что позволит привлекать на 30% больше пользователей   \n",
       "7              Добавить форму подписки на все основные страницы, чтобы собрать базу клиентов для email-рассылок   \n",
       "6          Показать на главной странице баннеры с актуальными акциями и распродажами, чтобы увеличить конверсию   \n",
       "2  Добавить блоки рекомендаций товаров на сайт интернет магазина, чтобы повысить конверсию и средний чек заказа   \n",
       "1                                     Запустить собственную службу доставки, что сократит срок доставки заказов   \n",
       "5                      Добавить страницу отзывов клиентов о магазине, что позволит увеличить количество заказов   \n",
       "3           Изменить структура категорий, что увеличит конверсию, т.к. пользователи быстрее найдут нужный товар   \n",
       "4                              Изменить цвет фона главной страницы, чтобы увеличить вовлеченность пользователей   \n",
       "\n",
       "   reach  impact  confidence  efforts    ICE   RICE  \n",
       "8      1       9           9        5  16.20   16.2  \n",
       "0      3      10           8        6  13.33   40.0  \n",
       "7     10       7           8        5  11.20  112.0  \n",
       "6      5       3           8        3   8.00   40.0  \n",
       "2      8       3           7        3   7.00   56.0  \n",
       "1      2       5           4       10   2.00    4.0  \n",
       "5      3       2           2        3   1.33    4.0  \n",
       "3      8       3           3        8   1.12    9.0  \n",
       "4      3       1           1        1   1.00    3.0  "
      ]
     },
     "metadata": {},
     "output_type": "display_data"
    },
    {
     "data": {
      "text/html": [
       "<div>\n",
       "<style scoped>\n",
       "    .dataframe tbody tr th:only-of-type {\n",
       "        vertical-align: middle;\n",
       "    }\n",
       "\n",
       "    .dataframe tbody tr th {\n",
       "        vertical-align: top;\n",
       "    }\n",
       "\n",
       "    .dataframe thead th {\n",
       "        text-align: right;\n",
       "    }\n",
       "</style>\n",
       "<table border=\"1\" class=\"dataframe\">\n",
       "  <thead>\n",
       "    <tr style=\"text-align: right;\">\n",
       "      <th></th>\n",
       "      <th>hypothesis</th>\n",
       "      <th>reach</th>\n",
       "      <th>impact</th>\n",
       "      <th>confidence</th>\n",
       "      <th>efforts</th>\n",
       "      <th>ICE</th>\n",
       "      <th>RICE</th>\n",
       "    </tr>\n",
       "  </thead>\n",
       "  <tbody>\n",
       "    <tr>\n",
       "      <th>7</th>\n",
       "      <td>Добавить форму подписки на все основные страницы, чтобы собрать базу клиентов для email-рассылок</td>\n",
       "      <td>10</td>\n",
       "      <td>7</td>\n",
       "      <td>8</td>\n",
       "      <td>5</td>\n",
       "      <td>11.20</td>\n",
       "      <td>112.0</td>\n",
       "    </tr>\n",
       "    <tr>\n",
       "      <th>2</th>\n",
       "      <td>Добавить блоки рекомендаций товаров на сайт интернет магазина, чтобы повысить конверсию и средний чек заказа</td>\n",
       "      <td>8</td>\n",
       "      <td>3</td>\n",
       "      <td>7</td>\n",
       "      <td>3</td>\n",
       "      <td>7.00</td>\n",
       "      <td>56.0</td>\n",
       "    </tr>\n",
       "    <tr>\n",
       "      <th>0</th>\n",
       "      <td>Добавить два новых канала привлечения трафика, что позволит привлекать на 30% больше пользователей</td>\n",
       "      <td>3</td>\n",
       "      <td>10</td>\n",
       "      <td>8</td>\n",
       "      <td>6</td>\n",
       "      <td>13.33</td>\n",
       "      <td>40.0</td>\n",
       "    </tr>\n",
       "    <tr>\n",
       "      <th>6</th>\n",
       "      <td>Показать на главной странице баннеры с актуальными акциями и распродажами, чтобы увеличить конверсию</td>\n",
       "      <td>5</td>\n",
       "      <td>3</td>\n",
       "      <td>8</td>\n",
       "      <td>3</td>\n",
       "      <td>8.00</td>\n",
       "      <td>40.0</td>\n",
       "    </tr>\n",
       "    <tr>\n",
       "      <th>8</th>\n",
       "      <td>Запустить акцию, дающую скидку на товар в день рождения</td>\n",
       "      <td>1</td>\n",
       "      <td>9</td>\n",
       "      <td>9</td>\n",
       "      <td>5</td>\n",
       "      <td>16.20</td>\n",
       "      <td>16.2</td>\n",
       "    </tr>\n",
       "    <tr>\n",
       "      <th>3</th>\n",
       "      <td>Изменить структура категорий, что увеличит конверсию, т.к. пользователи быстрее найдут нужный товар</td>\n",
       "      <td>8</td>\n",
       "      <td>3</td>\n",
       "      <td>3</td>\n",
       "      <td>8</td>\n",
       "      <td>1.12</td>\n",
       "      <td>9.0</td>\n",
       "    </tr>\n",
       "    <tr>\n",
       "      <th>1</th>\n",
       "      <td>Запустить собственную службу доставки, что сократит срок доставки заказов</td>\n",
       "      <td>2</td>\n",
       "      <td>5</td>\n",
       "      <td>4</td>\n",
       "      <td>10</td>\n",
       "      <td>2.00</td>\n",
       "      <td>4.0</td>\n",
       "    </tr>\n",
       "    <tr>\n",
       "      <th>5</th>\n",
       "      <td>Добавить страницу отзывов клиентов о магазине, что позволит увеличить количество заказов</td>\n",
       "      <td>3</td>\n",
       "      <td>2</td>\n",
       "      <td>2</td>\n",
       "      <td>3</td>\n",
       "      <td>1.33</td>\n",
       "      <td>4.0</td>\n",
       "    </tr>\n",
       "    <tr>\n",
       "      <th>4</th>\n",
       "      <td>Изменить цвет фона главной страницы, чтобы увеличить вовлеченность пользователей</td>\n",
       "      <td>3</td>\n",
       "      <td>1</td>\n",
       "      <td>1</td>\n",
       "      <td>1</td>\n",
       "      <td>1.00</td>\n",
       "      <td>3.0</td>\n",
       "    </tr>\n",
       "  </tbody>\n",
       "</table>\n",
       "</div>"
      ],
      "text/plain": [
       "                                                                                                     hypothesis  \\\n",
       "7              Добавить форму подписки на все основные страницы, чтобы собрать базу клиентов для email-рассылок   \n",
       "2  Добавить блоки рекомендаций товаров на сайт интернет магазина, чтобы повысить конверсию и средний чек заказа   \n",
       "0            Добавить два новых канала привлечения трафика, что позволит привлекать на 30% больше пользователей   \n",
       "6          Показать на главной странице баннеры с актуальными акциями и распродажами, чтобы увеличить конверсию   \n",
       "8                                                       Запустить акцию, дающую скидку на товар в день рождения   \n",
       "3           Изменить структура категорий, что увеличит конверсию, т.к. пользователи быстрее найдут нужный товар   \n",
       "1                                     Запустить собственную службу доставки, что сократит срок доставки заказов   \n",
       "5                      Добавить страницу отзывов клиентов о магазине, что позволит увеличить количество заказов   \n",
       "4                              Изменить цвет фона главной страницы, чтобы увеличить вовлеченность пользователей   \n",
       "\n",
       "   reach  impact  confidence  efforts    ICE   RICE  \n",
       "7     10       7           8        5  11.20  112.0  \n",
       "2      8       3           7        3   7.00   56.0  \n",
       "0      3      10           8        6  13.33   40.0  \n",
       "6      5       3           8        3   8.00   40.0  \n",
       "8      1       9           9        5  16.20   16.2  \n",
       "3      8       3           3        8   1.12    9.0  \n",
       "1      2       5           4       10   2.00    4.0  \n",
       "5      3       2           2        3   1.33    4.0  \n",
       "4      3       1           1        1   1.00    3.0  "
      ]
     },
     "metadata": {},
     "output_type": "display_data"
    }
   ],
   "source": [
    "display(hypothesis.sort_values(by='ICE', ascending=False))\n",
    "display(hypothesis.sort_values(by='RICE', ascending=False))"
   ]
  },
  {
   "cell_type": "markdown",
   "metadata": {},
   "source": [
    "В зависимости от применения каждого фреймворка, приоритизация гипотез меняется.\n",
    "\n",
    "Единственным пересечением гипотез являются гипотезы ``0`` — __«Добавить два новых канала привлечения трафика, что позволит привлекать на 30% больше пользователей»__ и гипотеза ``7`` — __«Добавить форму подписки на все основные страницы, чтобы собрать базу клиентов для email-рассылок»__."
   ]
  },
  {
   "cell_type": "markdown",
   "metadata": {},
   "source": [
    "Из приведенных гипотез, гипотеза ``8`` — о запуске акции со скидкой на день рождения, и гипотеза ``0`` — о добавлении двух новых каналов привлечении трафика, имеют самые высокие коэффициенты по показателям ``impact`` и ``confidence``, а затраты на проверку — средние. \n",
    "\n",
    "При подсчете показателя ``ICE`` обе гипотезы стояли в приоритете проверки. \n",
    "\n",
    "При подсчете показателя ``RICE`` гипотеза ``8`` оказалась не в приоритете проверки. Не смотря на то, что прочие коэффициенты большие, охват предполагается минимальный, таким образом эту гипотезу стоит проверить, но не в первую очередь.  "
   ]
  },
  {
   "cell_type": "markdown",
   "metadata": {},
   "source": [
    "При введении дополнительного коэффициента охвата, приоритет гипотез поменялся. Если предполагается, что гипотеза будет задевать большое количество пользователей, ее приоритет может измениться на более высокий. "
   ]
  },
  {
   "cell_type": "markdown",
   "metadata": {},
   "source": [
    "<a id=\"num7\"></a>\n",
    "## Анализ A/B-теста"
   ]
  },
  {
   "cell_type": "markdown",
   "metadata": {},
   "source": [
    "Для дальнейшего анализа соберем таблицу с данными о группах теста, количестве заказов, количестве покупателей и количестве посетителей на каждый день теста. "
   ]
  },
  {
   "cell_type": "code",
   "execution_count": 34,
   "metadata": {},
   "outputs": [],
   "source": [
    "groups = orders_fixed[['date', 'group']].drop_duplicates()\n",
    "\n",
    "orders_agg = (groups.apply(\n",
    "    lambda x: orders_fixed[np.logical_and(orders_fixed['date'] <= x['date'], \n",
    "                                          orders_fixed['group'] == x['group'])]\n",
    "    .agg({\n",
    "        'date': 'max',\n",
    "        'group': 'max',\n",
    "        'transactionid': 'nunique',\n",
    "        'visitorid': 'nunique',\n",
    "        'revenue': 'sum',}),\n",
    "    axis=1,).sort_values(by=['date', 'group']))\n",
    "\n",
    "visitors_agg = (groups.apply(\n",
    "    lambda x: visitors[np.logical_and(visitors['date'] <= x['date'],\n",
    "                                      visitors['group'] == x['group'])]\n",
    "    .agg({\n",
    "        'date': 'max', \n",
    "        'group': 'max', \n",
    "        'visitors': 'sum'}),\n",
    "    axis=1,).sort_values(by=['date', 'group']))\n",
    "\n",
    "cumulative_data = orders_agg.merge(\n",
    "    visitors_agg, left_on=['date', 'group'], right_on=['date', 'group'])\n",
    "cumulative_data.columns = [\n",
    "    'date',\n",
    "    'group',\n",
    "    'orders',\n",
    "    'buyers',\n",
    "    'revenue',\n",
    "    'visitors']"
   ]
  },
  {
   "cell_type": "code",
   "execution_count": 35,
   "metadata": {},
   "outputs": [
    {
     "data": {
      "text/html": [
       "<div>\n",
       "<style scoped>\n",
       "    .dataframe tbody tr th:only-of-type {\n",
       "        vertical-align: middle;\n",
       "    }\n",
       "\n",
       "    .dataframe tbody tr th {\n",
       "        vertical-align: top;\n",
       "    }\n",
       "\n",
       "    .dataframe thead th {\n",
       "        text-align: right;\n",
       "    }\n",
       "</style>\n",
       "<table border=\"1\" class=\"dataframe\">\n",
       "  <thead>\n",
       "    <tr style=\"text-align: right;\">\n",
       "      <th></th>\n",
       "      <th>date</th>\n",
       "      <th>group</th>\n",
       "      <th>orders</th>\n",
       "      <th>buyers</th>\n",
       "      <th>revenue</th>\n",
       "      <th>visitors</th>\n",
       "    </tr>\n",
       "  </thead>\n",
       "  <tbody>\n",
       "    <tr>\n",
       "      <th>0</th>\n",
       "      <td>2019-08-01</td>\n",
       "      <td>A</td>\n",
       "      <td>23</td>\n",
       "      <td>19</td>\n",
       "      <td>142779</td>\n",
       "      <td>719</td>\n",
       "    </tr>\n",
       "    <tr>\n",
       "      <th>1</th>\n",
       "      <td>2019-08-01</td>\n",
       "      <td>B</td>\n",
       "      <td>17</td>\n",
       "      <td>17</td>\n",
       "      <td>59758</td>\n",
       "      <td>713</td>\n",
       "    </tr>\n",
       "    <tr>\n",
       "      <th>2</th>\n",
       "      <td>2019-08-02</td>\n",
       "      <td>A</td>\n",
       "      <td>42</td>\n",
       "      <td>36</td>\n",
       "      <td>234381</td>\n",
       "      <td>1338</td>\n",
       "    </tr>\n",
       "    <tr>\n",
       "      <th>3</th>\n",
       "      <td>2019-08-02</td>\n",
       "      <td>B</td>\n",
       "      <td>40</td>\n",
       "      <td>39</td>\n",
       "      <td>221801</td>\n",
       "      <td>1294</td>\n",
       "    </tr>\n",
       "    <tr>\n",
       "      <th>4</th>\n",
       "      <td>2019-08-03</td>\n",
       "      <td>A</td>\n",
       "      <td>66</td>\n",
       "      <td>60</td>\n",
       "      <td>346854</td>\n",
       "      <td>1845</td>\n",
       "    </tr>\n",
       "    <tr>\n",
       "      <th>...</th>\n",
       "      <td>...</td>\n",
       "      <td>...</td>\n",
       "      <td>...</td>\n",
       "      <td>...</td>\n",
       "      <td>...</td>\n",
       "      <td>...</td>\n",
       "    </tr>\n",
       "    <tr>\n",
       "      <th>57</th>\n",
       "      <td>2019-08-29</td>\n",
       "      <td>B</td>\n",
       "      <td>510</td>\n",
       "      <td>490</td>\n",
       "      <td>4746610</td>\n",
       "      <td>17708</td>\n",
       "    </tr>\n",
       "    <tr>\n",
       "      <th>58</th>\n",
       "      <td>2019-08-30</td>\n",
       "      <td>A</td>\n",
       "      <td>460</td>\n",
       "      <td>437</td>\n",
       "      <td>3311413</td>\n",
       "      <td>18037</td>\n",
       "    </tr>\n",
       "    <tr>\n",
       "      <th>59</th>\n",
       "      <td>2019-08-30</td>\n",
       "      <td>B</td>\n",
       "      <td>531</td>\n",
       "      <td>511</td>\n",
       "      <td>4955833</td>\n",
       "      <td>18198</td>\n",
       "    </tr>\n",
       "    <tr>\n",
       "      <th>60</th>\n",
       "      <td>2019-08-31</td>\n",
       "      <td>A</td>\n",
       "      <td>468</td>\n",
       "      <td>445</td>\n",
       "      <td>3364656</td>\n",
       "      <td>18736</td>\n",
       "    </tr>\n",
       "    <tr>\n",
       "      <th>61</th>\n",
       "      <td>2019-08-31</td>\n",
       "      <td>B</td>\n",
       "      <td>548</td>\n",
       "      <td>528</td>\n",
       "      <td>5068972</td>\n",
       "      <td>18916</td>\n",
       "    </tr>\n",
       "  </tbody>\n",
       "</table>\n",
       "<p>62 rows × 6 columns</p>\n",
       "</div>"
      ],
      "text/plain": [
       "         date group  orders  buyers  revenue  visitors\n",
       "0  2019-08-01     A      23      19   142779       719\n",
       "1  2019-08-01     B      17      17    59758       713\n",
       "2  2019-08-02     A      42      36   234381      1338\n",
       "3  2019-08-02     B      40      39   221801      1294\n",
       "4  2019-08-03     A      66      60   346854      1845\n",
       "..        ...   ...     ...     ...      ...       ...\n",
       "57 2019-08-29     B     510     490  4746610     17708\n",
       "58 2019-08-30     A     460     437  3311413     18037\n",
       "59 2019-08-30     B     531     511  4955833     18198\n",
       "60 2019-08-31     A     468     445  3364656     18736\n",
       "61 2019-08-31     B     548     528  5068972     18916\n",
       "\n",
       "[62 rows x 6 columns]"
      ]
     },
     "execution_count": 35,
     "metadata": {},
     "output_type": "execute_result"
    }
   ],
   "source": [
    "cumulative_data"
   ]
  },
  {
   "cell_type": "markdown",
   "metadata": {},
   "source": [
    "В полученной таблице ``62`` строки, ``31`` запить о данных для группы ``А``, ``31`` — для группы ``В``."
   ]
  },
  {
   "cell_type": "code",
   "execution_count": 36,
   "metadata": {},
   "outputs": [
    {
     "data": {
      "text/plain": [
       "31"
      ]
     },
     "execution_count": 36,
     "metadata": {},
     "output_type": "execute_result"
    }
   ],
   "source": [
    "cumulative_data['date'].nunique()"
   ]
  },
  {
   "cell_type": "code",
   "execution_count": 37,
   "metadata": {},
   "outputs": [
    {
     "data": {
      "text/plain": [
       "31"
      ]
     },
     "execution_count": 37,
     "metadata": {},
     "output_type": "execute_result"
    }
   ],
   "source": [
    "orders['date'].nunique()"
   ]
  },
  {
   "cell_type": "code",
   "execution_count": 38,
   "metadata": {},
   "outputs": [
    {
     "data": {
      "text/html": [
       "<div>\n",
       "<style scoped>\n",
       "    .dataframe tbody tr th:only-of-type {\n",
       "        vertical-align: middle;\n",
       "    }\n",
       "\n",
       "    .dataframe tbody tr th {\n",
       "        vertical-align: top;\n",
       "    }\n",
       "\n",
       "    .dataframe thead th {\n",
       "        text-align: right;\n",
       "    }\n",
       "</style>\n",
       "<table border=\"1\" class=\"dataframe\">\n",
       "  <thead>\n",
       "    <tr style=\"text-align: right;\">\n",
       "      <th></th>\n",
       "      <th>date</th>\n",
       "    </tr>\n",
       "  </thead>\n",
       "  <tbody>\n",
       "    <tr>\n",
       "      <th>0</th>\n",
       "      <td>True</td>\n",
       "    </tr>\n",
       "    <tr>\n",
       "      <th>1</th>\n",
       "      <td>True</td>\n",
       "    </tr>\n",
       "    <tr>\n",
       "      <th>2</th>\n",
       "      <td>True</td>\n",
       "    </tr>\n",
       "    <tr>\n",
       "      <th>3</th>\n",
       "      <td>True</td>\n",
       "    </tr>\n",
       "    <tr>\n",
       "      <th>4</th>\n",
       "      <td>True</td>\n",
       "    </tr>\n",
       "    <tr>\n",
       "      <th>5</th>\n",
       "      <td>True</td>\n",
       "    </tr>\n",
       "    <tr>\n",
       "      <th>6</th>\n",
       "      <td>True</td>\n",
       "    </tr>\n",
       "    <tr>\n",
       "      <th>7</th>\n",
       "      <td>True</td>\n",
       "    </tr>\n",
       "    <tr>\n",
       "      <th>8</th>\n",
       "      <td>True</td>\n",
       "    </tr>\n",
       "    <tr>\n",
       "      <th>9</th>\n",
       "      <td>True</td>\n",
       "    </tr>\n",
       "    <tr>\n",
       "      <th>10</th>\n",
       "      <td>True</td>\n",
       "    </tr>\n",
       "    <tr>\n",
       "      <th>11</th>\n",
       "      <td>True</td>\n",
       "    </tr>\n",
       "    <tr>\n",
       "      <th>12</th>\n",
       "      <td>True</td>\n",
       "    </tr>\n",
       "    <tr>\n",
       "      <th>13</th>\n",
       "      <td>True</td>\n",
       "    </tr>\n",
       "    <tr>\n",
       "      <th>14</th>\n",
       "      <td>True</td>\n",
       "    </tr>\n",
       "    <tr>\n",
       "      <th>15</th>\n",
       "      <td>True</td>\n",
       "    </tr>\n",
       "    <tr>\n",
       "      <th>16</th>\n",
       "      <td>True</td>\n",
       "    </tr>\n",
       "    <tr>\n",
       "      <th>17</th>\n",
       "      <td>True</td>\n",
       "    </tr>\n",
       "    <tr>\n",
       "      <th>18</th>\n",
       "      <td>True</td>\n",
       "    </tr>\n",
       "    <tr>\n",
       "      <th>19</th>\n",
       "      <td>True</td>\n",
       "    </tr>\n",
       "    <tr>\n",
       "      <th>20</th>\n",
       "      <td>True</td>\n",
       "    </tr>\n",
       "    <tr>\n",
       "      <th>21</th>\n",
       "      <td>True</td>\n",
       "    </tr>\n",
       "    <tr>\n",
       "      <th>22</th>\n",
       "      <td>True</td>\n",
       "    </tr>\n",
       "    <tr>\n",
       "      <th>23</th>\n",
       "      <td>True</td>\n",
       "    </tr>\n",
       "    <tr>\n",
       "      <th>24</th>\n",
       "      <td>True</td>\n",
       "    </tr>\n",
       "    <tr>\n",
       "      <th>25</th>\n",
       "      <td>True</td>\n",
       "    </tr>\n",
       "    <tr>\n",
       "      <th>26</th>\n",
       "      <td>True</td>\n",
       "    </tr>\n",
       "    <tr>\n",
       "      <th>27</th>\n",
       "      <td>True</td>\n",
       "    </tr>\n",
       "    <tr>\n",
       "      <th>28</th>\n",
       "      <td>True</td>\n",
       "    </tr>\n",
       "    <tr>\n",
       "      <th>29</th>\n",
       "      <td>True</td>\n",
       "    </tr>\n",
       "    <tr>\n",
       "      <th>30</th>\n",
       "      <td>True</td>\n",
       "    </tr>\n",
       "  </tbody>\n",
       "</table>\n",
       "</div>"
      ],
      "text/plain": [
       "    date\n",
       "0   True\n",
       "1   True\n",
       "2   True\n",
       "3   True\n",
       "4   True\n",
       "5   True\n",
       "6   True\n",
       "7   True\n",
       "8   True\n",
       "9   True\n",
       "10  True\n",
       "11  True\n",
       "12  True\n",
       "13  True\n",
       "14  True\n",
       "15  True\n",
       "16  True\n",
       "17  True\n",
       "18  True\n",
       "19  True\n",
       "20  True\n",
       "21  True\n",
       "22  True\n",
       "23  True\n",
       "24  True\n",
       "25  True\n",
       "26  True\n",
       "27  True\n",
       "28  True\n",
       "29  True\n",
       "30  True"
      ]
     },
     "execution_count": 38,
     "metadata": {},
     "output_type": "execute_result"
    }
   ],
   "source": [
    "check = pd.DataFrame()\n",
    "check['date'] = cumulative_data['date'].sort_values().unique() == orders['date'].sort_values().unique()\n",
    "check"
   ]
  },
  {
   "cell_type": "markdown",
   "metadata": {},
   "source": [
    "Данные в объединенной таблице, если сравнивать по столбцу даты, совпадают с данными о дате в оригинальной таблице. "
   ]
  },
  {
   "cell_type": "markdown",
   "metadata": {},
   "source": [
    "<a id=\"num71\"></a>\n",
    "### График кумулятивной выручки по группам"
   ]
  },
  {
   "cell_type": "markdown",
   "metadata": {},
   "source": [
    "Построим график кумулятивной выручки по группам теста."
   ]
  },
  {
   "cell_type": "code",
   "execution_count": 39,
   "metadata": {},
   "outputs": [],
   "source": [
    "cumulative_revenue = cumulative_data.groupby(['date', 'group'])['revenue'].sum().groupby(level=1).cumsum().reset_index()"
   ]
  },
  {
   "cell_type": "code",
   "execution_count": 40,
   "metadata": {},
   "outputs": [],
   "source": [
    "cumulative_rev_a = cumulative_data[cumulative_data['group'] == 'A'][['date', 'revenue', 'orders', 'visitors']]\n",
    "cumulative_rev_b = cumulative_data[cumulative_data['group'] == 'B'][['date', 'revenue', 'orders', 'visitors']]"
   ]
  },
  {
   "cell_type": "code",
   "execution_count": 41,
   "metadata": {},
   "outputs": [
    {
     "data": {
      "image/svg+xml": [
       "<svg class=\"main-svg\" xmlns=\"http://www.w3.org/2000/svg\" xmlns:xlink=\"http://www.w3.org/1999/xlink\" width=\"840\" height=\"600\" style=\"\" viewBox=\"0 0 700 500\"><rect x=\"0\" y=\"0\" width=\"700\" height=\"500\" style=\"fill: rgb(255, 255, 255); fill-opacity: 1;\"/><defs id=\"defs-69fe80\"><g class=\"clips\"><clipPath id=\"clip69fe80xyplot\" class=\"plotclip\"><rect width=\"542\" height=\"394\"/></clipPath><clipPath class=\"axesclip\" id=\"clip69fe80x\"><rect x=\"44\" y=\"0\" width=\"542\" height=\"500\"/></clipPath><clipPath class=\"axesclip\" id=\"clip69fe80y\"><rect x=\"0\" y=\"50\" width=\"700\" height=\"394\"/></clipPath><clipPath class=\"axesclip\" id=\"clip69fe80xy\"><rect x=\"44\" y=\"50\" width=\"542\" height=\"394\"/></clipPath></g><g class=\"gradients\"/><g class=\"patterns\"/></defs><g class=\"bglayer\"><rect class=\"bg\" x=\"44\" y=\"50\" width=\"542\" height=\"394\" style=\"fill: rgb(240, 248, 255); fill-opacity: 1; stroke-width: 0;\"/></g><g class=\"layer-below\"><g class=\"imagelayer\"/><g class=\"shapelayer\"/></g><g class=\"cartesianlayer\"><g class=\"subplot xy\"><g class=\"layer-subplot\"><g class=\"shapelayer\"/><g class=\"imagelayer\"/></g><g class=\"gridlayer\"><g class=\"x\"><path class=\"xgrid crisp\" transform=\"translate(98.2,0)\" d=\"M0,50v394\" style=\"stroke: rgb(255, 255, 255); stroke-opacity: 1; stroke-width: 1px;\"/><path class=\"xgrid crisp\" transform=\"translate(224.67,0)\" d=\"M0,50v394\" style=\"stroke: rgb(255, 255, 255); stroke-opacity: 1; stroke-width: 1px;\"/><path class=\"xgrid crisp\" transform=\"translate(351.13,0)\" d=\"M0,50v394\" style=\"stroke: rgb(255, 255, 255); stroke-opacity: 1; stroke-width: 1px;\"/><path class=\"xgrid crisp\" transform=\"translate(477.6,0)\" d=\"M0,50v394\" style=\"stroke: rgb(255, 255, 255); stroke-opacity: 1; stroke-width: 1px;\"/></g><g class=\"y\"><path class=\"ygrid crisp\" transform=\"translate(0,357.74)\" d=\"M44,0h542\" style=\"stroke: rgb(255, 255, 255); stroke-opacity: 1; stroke-width: 1px;\"/><path class=\"ygrid crisp\" transform=\"translate(0,286.95)\" d=\"M44,0h542\" style=\"stroke: rgb(255, 255, 255); stroke-opacity: 1; stroke-width: 1px;\"/><path class=\"ygrid crisp\" transform=\"translate(0,216.16)\" d=\"M44,0h542\" style=\"stroke: rgb(255, 255, 255); stroke-opacity: 1; stroke-width: 1px;\"/><path class=\"ygrid crisp\" transform=\"translate(0,145.37)\" d=\"M44,0h542\" style=\"stroke: rgb(255, 255, 255); stroke-opacity: 1; stroke-width: 1px;\"/><path class=\"ygrid crisp\" transform=\"translate(0,74.58)\" d=\"M44,0h542\" style=\"stroke: rgb(255, 255, 255); stroke-opacity: 1; stroke-width: 1px;\"/></g></g><g class=\"zerolinelayer\"><path class=\"yzl zl crisp\" transform=\"translate(0,428.53)\" d=\"M44,0h542\" style=\"stroke: rgb(255, 255, 255); stroke-opacity: 1; stroke-width: 2px;\"/></g><path class=\"xlines-below\"/><path class=\"ylines-below\"/><g class=\"overlines-below\"/><g class=\"xaxislayer-below\"/><g class=\"yaxislayer-below\"/><g class=\"overaxes-below\"/><g class=\"plot\" transform=\"translate(44,50)\" clip-path=\"url(#clip69fe80xyplot)\"><g class=\"scatterlayer mlayer\"><g class=\"trace scatter tracecc0e75\" style=\"stroke-miterlimit: 2; opacity: 1;\"><g class=\"fills\"/><g class=\"errorbars\"/><g class=\"lines\"><path class=\"js-line\" d=\"M0,368.42L18.07,361.94L36.13,353.98L54.2,351.06L72.27,344.95L90.33,342.05L108.4,333.33L126.47,327.05L144.53,317.55L162.6,306.77L180.67,302.47L198.73,286.87L216.8,268.21L234.87,265.15L252.93,259.42L271,252.35L289.07,249.89L307.13,245.68L325.2,233.77L343.27,229.62L361.33,217.57L379.4,211.03L397.47,206.94L415.53,198.3L433.6,194.63L451.67,183.5L469.73,170.38L487.8,163.55L505.87,149.65L523.93,144.12L542,140.35\" style=\"vector-effect: non-scaling-stroke; fill: none; stroke: rgb(0, 0, 255); stroke-opacity: 1; stroke-width: 2px; opacity: 1;\"/></g><g class=\"points\"/><g class=\"text\"/></g><g class=\"trace scatter trace395798\" style=\"stroke-miterlimit: 2; opacity: 1;\"><g class=\"fills\"/><g class=\"errorbars\"/><g class=\"lines\"><path class=\"js-line\" d=\"M0,374.3L18.07,362.83L36.13,358.08L72.27,344.86L90.33,329.65L108.4,314.14L126.47,303.51L162.6,288.76L180.67,285L198.73,277.64L216.8,269.31L234.87,261.71L252.93,239.75L271,231.66L289.07,225.94L307.13,223.44L325.2,122.22L361.33,101.86L379.4,91.82L415.53,80.13L433.6,74.52L451.67,62.25L469.73,54.36L487.8,50.03L505.87,42.52L523.93,27.71L542,19.7\" style=\"vector-effect: non-scaling-stroke; fill: none; stroke: rgb(255, 0, 0); stroke-opacity: 1; stroke-width: 2px; opacity: 1;\"/></g><g class=\"points\"/><g class=\"text\"/></g></g></g><g class=\"overplot\"/><path class=\"xlines-above crisp\" d=\"M0,0\" style=\"fill: none;\"/><path class=\"ylines-above crisp\" d=\"M0,0\" style=\"fill: none;\"/><g class=\"overlines-above\"/><g class=\"xaxislayer-above\"><g class=\"xtick\"><text text-anchor=\"middle\" x=\"0\" y=\"457\" transform=\"translate(98.2,0)\" style=\"font-family: 'Open Sans', verdana, arial, sans-serif; font-size: 12px; fill: rgb(42, 63, 95); fill-opacity: 1; white-space: pre; opacity: 1;\"><tspan class=\"line\" dy=\"0em\" x=\"0\" y=\"457\">Aug 4</tspan><tspan class=\"line\" dy=\"1.3em\" x=\"0\" y=\"457\">2019</tspan></text></g><g class=\"xtick\"><text text-anchor=\"middle\" x=\"0\" y=\"457\" style=\"font-family: 'Open Sans', verdana, arial, sans-serif; font-size: 12px; fill: rgb(42, 63, 95); fill-opacity: 1; white-space: pre; opacity: 1;\" transform=\"translate(224.67,0)\">Aug 11</text></g><g class=\"xtick\"><text text-anchor=\"middle\" x=\"0\" y=\"457\" style=\"font-family: 'Open Sans', verdana, arial, sans-serif; font-size: 12px; fill: rgb(42, 63, 95); fill-opacity: 1; white-space: pre; opacity: 1;\" transform=\"translate(351.13,0)\">Aug 18</text></g><g class=\"xtick\"><text text-anchor=\"middle\" x=\"0\" y=\"457\" style=\"font-family: 'Open Sans', verdana, arial, sans-serif; font-size: 12px; fill: rgb(42, 63, 95); fill-opacity: 1; white-space: pre; opacity: 1;\" transform=\"translate(477.6,0)\">Aug 25</text></g></g><g class=\"yaxislayer-above\"><g class=\"ytick\"><text text-anchor=\"end\" x=\"43\" y=\"4.199999999999999\" transform=\"translate(0,428.53)\" style=\"font-family: 'Open Sans', verdana, arial, sans-serif; font-size: 12px; fill: rgb(42, 63, 95); fill-opacity: 1; white-space: pre; opacity: 1;\">0</text></g><g class=\"ytick\"><text text-anchor=\"end\" x=\"43\" y=\"4.199999999999999\" style=\"font-family: 'Open Sans', verdana, arial, sans-serif; font-size: 12px; fill: rgb(42, 63, 95); fill-opacity: 1; white-space: pre; opacity: 1;\" transform=\"translate(0,357.74)\">1M</text></g><g class=\"ytick\"><text text-anchor=\"end\" x=\"43\" y=\"4.199999999999999\" style=\"font-family: 'Open Sans', verdana, arial, sans-serif; font-size: 12px; fill: rgb(42, 63, 95); fill-opacity: 1; white-space: pre; opacity: 1;\" transform=\"translate(0,286.95)\">2M</text></g><g class=\"ytick\"><text text-anchor=\"end\" x=\"43\" y=\"4.199999999999999\" style=\"font-family: 'Open Sans', verdana, arial, sans-serif; font-size: 12px; fill: rgb(42, 63, 95); fill-opacity: 1; white-space: pre; opacity: 1;\" transform=\"translate(0,216.16)\">3M</text></g><g class=\"ytick\"><text text-anchor=\"end\" x=\"43\" y=\"4.199999999999999\" style=\"font-family: 'Open Sans', verdana, arial, sans-serif; font-size: 12px; fill: rgb(42, 63, 95); fill-opacity: 1; white-space: pre; opacity: 1;\" transform=\"translate(0,145.37)\">4M</text></g><g class=\"ytick\"><text text-anchor=\"end\" x=\"43\" y=\"4.199999999999999\" style=\"font-family: 'Open Sans', verdana, arial, sans-serif; font-size: 12px; fill: rgb(42, 63, 95); fill-opacity: 1; white-space: pre; opacity: 1;\" transform=\"translate(0,74.58)\">5M</text></g></g><g class=\"overaxes-above\"/></g></g><g class=\"polarlayer\"/><g class=\"smithlayer\"/><g class=\"ternarylayer\"/><g class=\"geolayer\"/><g class=\"funnelarealayer\"/><g class=\"pielayer\"/><g class=\"iciclelayer\"/><g class=\"treemaplayer\"/><g class=\"sunburstlayer\"/><g class=\"glimages\"/><defs id=\"topdefs-69fe80\"><g class=\"clips\"/><clipPath id=\"legend69fe80\"><rect width=\"103\" height=\"48\" x=\"0\" y=\"0\"/></clipPath></defs><g class=\"layer-above\"><g class=\"imagelayer\"/><g class=\"shapelayer\"/></g><g class=\"infolayer\"><g class=\"legend\" pointer-events=\"all\" transform=\"translate(596.84,50)\"><rect class=\"bg\" shape-rendering=\"crispEdges\" style=\"stroke: rgb(68, 68, 68); stroke-opacity: 1; fill: rgb(255, 255, 255); fill-opacity: 1; stroke-width: 0px;\" width=\"103\" height=\"48\" x=\"0\" y=\"0\"/><g class=\"scrollbox\" transform=\"\" clip-path=\"url(#legend69fe80)\"><g class=\"groups\"><g class=\"traces\" transform=\"translate(0,14.5)\" style=\"opacity: 1;\"><text class=\"legendtext\" text-anchor=\"start\" x=\"40\" y=\"4.680000000000001\" style=\"font-family: 'Open Sans', verdana, arial, sans-serif; font-size: 12px; fill: rgb(42, 63, 95); fill-opacity: 1; white-space: pre;\">Группа A</text><g class=\"layers\" style=\"opacity: 1;\"><g class=\"legendfill\"/><g class=\"legendlines\"><path class=\"js-line\" d=\"M5,0h30\" style=\"fill: none; stroke: rgb(0, 0, 255); stroke-opacity: 1; stroke-width: 2px;\"/></g><g class=\"legendsymbols\"><g class=\"legendpoints\"/></g></g><rect class=\"legendtoggle\" x=\"0\" y=\"-9.5\" width=\"97.09375\" height=\"19\" style=\"fill: rgb(0, 0, 0); fill-opacity: 0;\"/></g><g class=\"traces\" transform=\"translate(0,33.5)\" style=\"opacity: 1;\"><text class=\"legendtext\" text-anchor=\"start\" x=\"40\" y=\"4.680000000000001\" style=\"font-family: 'Open Sans', verdana, arial, sans-serif; font-size: 12px; fill: rgb(42, 63, 95); fill-opacity: 1; white-space: pre;\">Группа B</text><g class=\"layers\" style=\"opacity: 1;\"><g class=\"legendfill\"/><g class=\"legendlines\"><path class=\"js-line\" d=\"M5,0h30\" style=\"fill: none; stroke: rgb(255, 0, 0); stroke-opacity: 1; stroke-width: 2px;\"/></g><g class=\"legendsymbols\"><g class=\"legendpoints\"/></g></g><rect class=\"legendtoggle\" x=\"0\" y=\"-9.5\" width=\"97.09375\" height=\"19\" style=\"fill: rgb(0, 0, 0); fill-opacity: 0;\"/></g></g></g><rect class=\"scrollbar\" rx=\"20\" ry=\"3\" width=\"0\" height=\"0\" style=\"fill: rgb(128, 139, 164); fill-opacity: 1;\" x=\"0\" y=\"0\"/></g><g class=\"g-gtitle\"><text class=\"gtitle\" x=\"35\" y=\"25\" text-anchor=\"start\" dy=\"0em\" style=\"font-family: 'Open Sans', verdana, arial, sans-serif; font-size: 17px; fill: rgb(42, 63, 95); opacity: 1; font-weight: normal; white-space: pre;\">График кумулятивной выручки по группам</text></g><g class=\"g-xtitle\" transform=\"translate(0,-3.4093750000000114)\"><text class=\"xtitle\" x=\"315\" y=\"500.409375\" text-anchor=\"middle\" style=\"font-family: 'Open Sans', verdana, arial, sans-serif; font-size: 14px; fill: rgb(42, 63, 95); opacity: 1; font-weight: normal; white-space: pre;\">Даты</text></g><g class=\"g-ytitle\" transform=\"translate(13.5498046875,0)\"><text class=\"ytitle\" transform=\"rotate(-90,0.45000000000000284,247)\" x=\"0.45000000000000284\" y=\"247\" text-anchor=\"middle\" style=\"font-family: 'Open Sans', verdana, arial, sans-serif; font-size: 14px; fill: rgb(42, 63, 95); opacity: 1; font-weight: normal; white-space: pre;\">Сумма выручки</text></g></g></svg>"
      ]
     },
     "metadata": {},
     "output_type": "display_data"
    }
   ],
   "source": [
    "cumulative(cumulative_rev_a['date'],\n",
    "          cumulative_rev_a['revenue'],\n",
    "          cumulative_rev_b['date'],\n",
    "          cumulative_rev_b['revenue'],\n",
    "          title_name='График кумулятивной выручки по группам',\n",
    "          y_name='Сумма выручки',\n",
    "          x_name='Даты',\n",
    "          )"
   ]
  },
  {
   "cell_type": "markdown",
   "metadata": {},
   "source": [
    "Первые ``18`` дней теста, данные о выручке у обоих групп совпадали. ``19-го`` числа данные в группе В выросли, так, за один день сумма выручки __в группе В выросла__ ``с 2.2 млн до 3.6 млн``. \n",
    "\n",
    "В это же время в группе А никаких резких изменений не замечено. \n",
    "\n",
    "Увы, так как данных о дате запуска у нас нет, могу только предполагать причины внезапного роста. Либо на данные влияют большие заказы в группе ``B``, что могло случиться в следствии нового функционала. "
   ]
  },
  {
   "cell_type": "markdown",
   "metadata": {},
   "source": [
    "<a id=\"num72\"></a>\n",
    "### График кумулятивного среднего чека по группам"
   ]
  },
  {
   "cell_type": "markdown",
   "metadata": {},
   "source": [
    "Построим график кумулятивного среднего чека по группам. "
   ]
  },
  {
   "cell_type": "code",
   "execution_count": 42,
   "metadata": {},
   "outputs": [
    {
     "data": {
      "image/svg+xml": [
       "<svg class=\"main-svg\" xmlns=\"http://www.w3.org/2000/svg\" xmlns:xlink=\"http://www.w3.org/1999/xlink\" width=\"840\" height=\"600\" style=\"\" viewBox=\"0 0 700 500\"><rect x=\"0\" y=\"0\" width=\"700\" height=\"500\" style=\"fill: rgb(255, 255, 255); fill-opacity: 1;\"/><defs id=\"defs-20636d\"><g class=\"clips\"><clipPath id=\"clip20636dxyplot\" class=\"plotclip\"><rect width=\"538\" height=\"394\"/></clipPath><clipPath class=\"axesclip\" id=\"clip20636dx\"><rect x=\"48\" y=\"0\" width=\"538\" height=\"500\"/></clipPath><clipPath class=\"axesclip\" id=\"clip20636dy\"><rect x=\"0\" y=\"50\" width=\"700\" height=\"394\"/></clipPath><clipPath class=\"axesclip\" id=\"clip20636dxy\"><rect x=\"48\" y=\"50\" width=\"538\" height=\"394\"/></clipPath></g><g class=\"gradients\"/><g class=\"patterns\"/></defs><g class=\"bglayer\"><rect class=\"bg\" x=\"48\" y=\"50\" width=\"538\" height=\"394\" style=\"fill: rgb(240, 248, 255); fill-opacity: 1; stroke-width: 0;\"/></g><g class=\"layer-below\"><g class=\"imagelayer\"/><g class=\"shapelayer\"/></g><g class=\"cartesianlayer\"><g class=\"subplot xy\"><g class=\"layer-subplot\"><g class=\"shapelayer\"/><g class=\"imagelayer\"/></g><g class=\"gridlayer\"><g class=\"x\"><path class=\"xgrid crisp\" transform=\"translate(101.8,0)\" d=\"M0,50v394\" style=\"stroke: rgb(255, 255, 255); stroke-opacity: 1; stroke-width: 1px;\"/><path class=\"xgrid crisp\" transform=\"translate(227.33,0)\" d=\"M0,50v394\" style=\"stroke: rgb(255, 255, 255); stroke-opacity: 1; stroke-width: 1px;\"/><path class=\"xgrid crisp\" transform=\"translate(352.87,0)\" d=\"M0,50v394\" style=\"stroke: rgb(255, 255, 255); stroke-opacity: 1; stroke-width: 1px;\"/><path class=\"xgrid crisp\" transform=\"translate(478.4,0)\" d=\"M0,50v394\" style=\"stroke: rgb(255, 255, 255); stroke-opacity: 1; stroke-width: 1px;\"/></g><g class=\"y\"><path class=\"ygrid crisp\" transform=\"translate(0,399.35)\" d=\"M48,0h538\" style=\"stroke: rgb(255, 255, 255); stroke-opacity: 1; stroke-width: 1px;\"/><path class=\"ygrid crisp\" transform=\"translate(0,347.88)\" d=\"M48,0h538\" style=\"stroke: rgb(255, 255, 255); stroke-opacity: 1; stroke-width: 1px;\"/><path class=\"ygrid crisp\" transform=\"translate(0,296.4)\" d=\"M48,0h538\" style=\"stroke: rgb(255, 255, 255); stroke-opacity: 1; stroke-width: 1px;\"/><path class=\"ygrid crisp\" transform=\"translate(0,244.93)\" d=\"M48,0h538\" style=\"stroke: rgb(255, 255, 255); stroke-opacity: 1; stroke-width: 1px;\"/><path class=\"ygrid crisp\" transform=\"translate(0,193.46)\" d=\"M48,0h538\" style=\"stroke: rgb(255, 255, 255); stroke-opacity: 1; stroke-width: 1px;\"/><path class=\"ygrid crisp\" transform=\"translate(0,141.99)\" d=\"M48,0h538\" style=\"stroke: rgb(255, 255, 255); stroke-opacity: 1; stroke-width: 1px;\"/><path class=\"ygrid crisp\" transform=\"translate(0,90.52000000000001)\" d=\"M48,0h538\" style=\"stroke: rgb(255, 255, 255); stroke-opacity: 1; stroke-width: 1px;\"/></g></g><g class=\"zerolinelayer\"/><path class=\"xlines-below\"/><path class=\"ylines-below\"/><g class=\"overlines-below\"/><g class=\"xaxislayer-below\"/><g class=\"yaxislayer-below\"/><g class=\"overaxes-below\"/><g class=\"plot\" transform=\"translate(48,50)\" clip-path=\"url(#clip20636dxyplot)\"><g class=\"scatterlayer mlayer\"><g class=\"trace scatter tracea69eac\" style=\"stroke-miterlimit: 2; opacity: 1;\"><g class=\"fills\"/><g class=\"errorbars\"/><g class=\"lines\"><path class=\"js-line\" d=\"M0,235.71L17.93,268L35.87,284.73L53.8,295.85L71.73,308.58L89.67,322.56L107.6,302.4L125.53,295.3L143.47,269.17L161.4,248.3L179.33,249.7L197.27,222.01L215.2,180.4L233.13,198.35L251.07,195.88L269,201.01L286.93,202.28L304.87,207.76L322.8,203.21L340.73,204.83L358.67,199.51L376.6,195.97L394.53,207.69L412.47,202.96L430.4,203.34L448.33,197.13L466.27,194.02L484.2,195.06L502.13,186.23L520.07,184.71L538,185.18\" style=\"vector-effect: non-scaling-stroke; fill: none; stroke: rgb(0, 0, 255); stroke-opacity: 1; stroke-width: 2px; opacity: 1;\"/></g><g class=\"points\"/><g class=\"text\"/></g><g class=\"trace scatter trace68d5f4\" style=\"stroke-miterlimit: 2; opacity: 1;\"><g class=\"fills\"/><g class=\"errorbars\"/><g class=\"lines\"><path class=\"js-line\" d=\"M0,374.3L17.93,269.82L35.87,279.91L53.8,263.25L71.73,280.15L89.67,237.91L107.6,208.41L125.53,207.79L143.47,215.12L161.4,225.58L179.33,231.41L197.27,234.89L215.2,236.29L233.13,232.26L251.07,206.08L304.87,210.38L322.8,19.7L340.73,28.21L358.67,25.84L376.6,35.37L394.53,42.09L412.47,48.31L430.4,52.86L448.33,57.46L466.27,56.92L484.2,72.7L502.13,76.19L520.07,74.85L538,79.13\" style=\"vector-effect: non-scaling-stroke; fill: none; stroke: rgb(255, 0, 0); stroke-opacity: 1; stroke-width: 2px; opacity: 1;\"/></g><g class=\"points\"/><g class=\"text\"/></g></g></g><g class=\"overplot\"/><path class=\"xlines-above crisp\" d=\"M0,0\" style=\"fill: none;\"/><path class=\"ylines-above crisp\" d=\"M0,0\" style=\"fill: none;\"/><g class=\"overlines-above\"/><g class=\"xaxislayer-above\"><g class=\"xtick\"><text text-anchor=\"middle\" x=\"0\" y=\"457\" transform=\"translate(101.8,0)\" style=\"font-family: 'Open Sans', verdana, arial, sans-serif; font-size: 12px; fill: rgb(42, 63, 95); fill-opacity: 1; white-space: pre; opacity: 1;\"><tspan class=\"line\" dy=\"0em\" x=\"0\" y=\"457\">Aug 4</tspan><tspan class=\"line\" dy=\"1.3em\" x=\"0\" y=\"457\">2019</tspan></text></g><g class=\"xtick\"><text text-anchor=\"middle\" x=\"0\" y=\"457\" style=\"font-family: 'Open Sans', verdana, arial, sans-serif; font-size: 12px; fill: rgb(42, 63, 95); fill-opacity: 1; white-space: pre; opacity: 1;\" transform=\"translate(227.33,0)\">Aug 11</text></g><g class=\"xtick\"><text text-anchor=\"middle\" x=\"0\" y=\"457\" style=\"font-family: 'Open Sans', verdana, arial, sans-serif; font-size: 12px; fill: rgb(42, 63, 95); fill-opacity: 1; white-space: pre; opacity: 1;\" transform=\"translate(352.87,0)\">Aug 18</text></g><g class=\"xtick\"><text text-anchor=\"middle\" x=\"0\" y=\"457\" style=\"font-family: 'Open Sans', verdana, arial, sans-serif; font-size: 12px; fill: rgb(42, 63, 95); fill-opacity: 1; white-space: pre; opacity: 1;\" transform=\"translate(478.4,0)\">Aug 25</text></g></g><g class=\"yaxislayer-above\"><g class=\"ytick\"><text text-anchor=\"end\" x=\"47\" y=\"4.199999999999999\" transform=\"translate(0,399.35)\" style=\"font-family: 'Open Sans', verdana, arial, sans-serif; font-size: 12px; fill: rgb(42, 63, 95); fill-opacity: 1; white-space: pre; opacity: 1;\">4k</text></g><g class=\"ytick\"><text text-anchor=\"end\" x=\"47\" y=\"4.199999999999999\" style=\"font-family: 'Open Sans', verdana, arial, sans-serif; font-size: 12px; fill: rgb(42, 63, 95); fill-opacity: 1; white-space: pre; opacity: 1;\" transform=\"translate(0,347.88)\">5k</text></g><g class=\"ytick\"><text text-anchor=\"end\" x=\"47\" y=\"4.199999999999999\" style=\"font-family: 'Open Sans', verdana, arial, sans-serif; font-size: 12px; fill: rgb(42, 63, 95); fill-opacity: 1; white-space: pre; opacity: 1;\" transform=\"translate(0,296.4)\">6k</text></g><g class=\"ytick\"><text text-anchor=\"end\" x=\"47\" y=\"4.199999999999999\" style=\"font-family: 'Open Sans', verdana, arial, sans-serif; font-size: 12px; fill: rgb(42, 63, 95); fill-opacity: 1; white-space: pre; opacity: 1;\" transform=\"translate(0,244.93)\">7k</text></g><g class=\"ytick\"><text text-anchor=\"end\" x=\"47\" y=\"4.199999999999999\" style=\"font-family: 'Open Sans', verdana, arial, sans-serif; font-size: 12px; fill: rgb(42, 63, 95); fill-opacity: 1; white-space: pre; opacity: 1;\" transform=\"translate(0,193.46)\">8k</text></g><g class=\"ytick\"><text text-anchor=\"end\" x=\"47\" y=\"4.199999999999999\" style=\"font-family: 'Open Sans', verdana, arial, sans-serif; font-size: 12px; fill: rgb(42, 63, 95); fill-opacity: 1; white-space: pre; opacity: 1;\" transform=\"translate(0,141.99)\">9k</text></g><g class=\"ytick\"><text text-anchor=\"end\" x=\"47\" y=\"4.199999999999999\" style=\"font-family: 'Open Sans', verdana, arial, sans-serif; font-size: 12px; fill: rgb(42, 63, 95); fill-opacity: 1; white-space: pre; opacity: 1;\" transform=\"translate(0,90.52000000000001)\">10k</text></g></g><g class=\"overaxes-above\"/></g></g><g class=\"polarlayer\"/><g class=\"smithlayer\"/><g class=\"ternarylayer\"/><g class=\"geolayer\"/><g class=\"funnelarealayer\"/><g class=\"pielayer\"/><g class=\"iciclelayer\"/><g class=\"treemaplayer\"/><g class=\"sunburstlayer\"/><g class=\"glimages\"/><defs id=\"topdefs-20636d\"><g class=\"clips\"/><clipPath id=\"legend20636d\"><rect width=\"103\" height=\"48\" x=\"0\" y=\"0\"/></clipPath></defs><g class=\"layer-above\"><g class=\"imagelayer\"/><g class=\"shapelayer\"/></g><g class=\"infolayer\"><g class=\"legend\" pointer-events=\"all\" transform=\"translate(596.76,50)\"><rect class=\"bg\" shape-rendering=\"crispEdges\" width=\"103\" height=\"48\" x=\"0\" y=\"0\" style=\"stroke: rgb(68, 68, 68); stroke-opacity: 1; fill: rgb(255, 255, 255); fill-opacity: 1; stroke-width: 0px;\"/><g class=\"scrollbox\" transform=\"\" clip-path=\"url(#legend20636d)\"><g class=\"groups\"><g class=\"traces\" transform=\"translate(0,14.5)\" style=\"opacity: 1;\"><text class=\"legendtext\" text-anchor=\"start\" x=\"40\" y=\"4.680000000000001\" style=\"font-family: 'Open Sans', verdana, arial, sans-serif; font-size: 12px; fill: rgb(42, 63, 95); fill-opacity: 1; white-space: pre;\">Группа A</text><g class=\"layers\" style=\"opacity: 1;\"><g class=\"legendfill\"/><g class=\"legendlines\"><path class=\"js-line\" d=\"M5,0h30\" style=\"fill: none; stroke: rgb(0, 0, 255); stroke-opacity: 1; stroke-width: 2px;\"/></g><g class=\"legendsymbols\"><g class=\"legendpoints\"/></g></g><rect class=\"legendtoggle\" x=\"0\" y=\"-9.5\" width=\"97.09375\" height=\"19\" style=\"fill: rgb(0, 0, 0); fill-opacity: 0;\"/></g><g class=\"traces\" transform=\"translate(0,33.5)\" style=\"opacity: 1;\"><text class=\"legendtext\" text-anchor=\"start\" x=\"40\" y=\"4.680000000000001\" style=\"font-family: 'Open Sans', verdana, arial, sans-serif; font-size: 12px; fill: rgb(42, 63, 95); fill-opacity: 1; white-space: pre;\">Группа B</text><g class=\"layers\" style=\"opacity: 1;\"><g class=\"legendfill\"/><g class=\"legendlines\"><path class=\"js-line\" d=\"M5,0h30\" style=\"fill: none; stroke: rgb(255, 0, 0); stroke-opacity: 1; stroke-width: 2px;\"/></g><g class=\"legendsymbols\"><g class=\"legendpoints\"/></g></g><rect class=\"legendtoggle\" x=\"0\" y=\"-9.5\" width=\"97.09375\" height=\"19\" style=\"fill: rgb(0, 0, 0); fill-opacity: 0;\"/></g></g></g><rect class=\"scrollbar\" rx=\"20\" ry=\"3\" width=\"0\" height=\"0\" x=\"0\" y=\"0\" style=\"fill: rgb(128, 139, 164); fill-opacity: 1;\"/></g><g class=\"g-gtitle\"><text class=\"gtitle\" x=\"35\" y=\"25\" text-anchor=\"start\" dy=\"0em\" style=\"font-family: 'Open Sans', verdana, arial, sans-serif; font-size: 17px; fill: rgb(42, 63, 95); opacity: 1; font-weight: normal; white-space: pre;\">График кумулятивного среднего чека по группам</text></g><g class=\"g-xtitle\" transform=\"translate(0,-3.4093750000000114)\"><text class=\"xtitle\" x=\"317\" y=\"500.409375\" text-anchor=\"middle\" style=\"font-family: 'Open Sans', verdana, arial, sans-serif; font-size: 14px; fill: rgb(42, 63, 95); opacity: 1; font-weight: normal; white-space: pre;\">Даты</text></g><g class=\"g-ytitle\" transform=\"translate(14.1591796875,0)\"><text class=\"ytitle\" transform=\"rotate(-90,-0.15937499999999716,247)\" x=\"-0.15937499999999716\" y=\"247\" text-anchor=\"middle\" style=\"font-family: 'Open Sans', verdana, arial, sans-serif; font-size: 14px; fill: rgb(42, 63, 95); opacity: 1; font-weight: normal; white-space: pre;\">Сумма среднего чека</text></g></g></svg>"
      ]
     },
     "metadata": {},
     "output_type": "display_data"
    }
   ],
   "source": [
    "cumulative(cumulative_rev_a['date'], \n",
    "           cumulative_rev_a['revenue']/cumulative_rev_a['orders'], \n",
    "           cumulative_rev_b['date'],\n",
    "           cumulative_rev_b['revenue']/cumulative_rev_b['orders'],\n",
    "           title_name='График кумулятивного среднего чека по группам',\n",
    "           y_name='Сумма среднего чека',\n",
    "           x_name='Даты')"
   ]
  },
  {
   "cell_type": "markdown",
   "metadata": {},
   "source": [
    "На графике куммулятивного среднего чека также видно резкое увеличение начиная с 19-го числа. Стоит провести анализ по данным без больших заказов, так как их можно считать выбросами.  "
   ]
  },
  {
   "cell_type": "markdown",
   "metadata": {},
   "source": [
    "<a id=\"num73\"></a>\n",
    "### График относительного изменения кумулятивного среднего чека группы B к группе A."
   ]
  },
  {
   "cell_type": "markdown",
   "metadata": {},
   "source": [
    "Построим график относительного изменения кумулятивного среднего чека группы B к группе A."
   ]
  },
  {
   "cell_type": "code",
   "execution_count": 43,
   "metadata": {},
   "outputs": [],
   "source": [
    "merged_cumulative_rev = cumulative_rev_a.merge(cumulative_rev_b, \n",
    "                                                 left_on='date', \n",
    "                                                 right_on='date', \n",
    "                                                 how='left', \n",
    "                                                 suffixes=['A', 'B'])"
   ]
  },
  {
   "cell_type": "code",
   "execution_count": 44,
   "metadata": {},
   "outputs": [
    {
     "data": {
      "image/svg+xml": [
       "<svg class=\"main-svg\" xmlns=\"http://www.w3.org/2000/svg\" xmlns:xlink=\"http://www.w3.org/1999/xlink\" width=\"840\" height=\"600\" style=\"\" viewBox=\"0 0 700 500\"><rect x=\"0\" y=\"0\" width=\"700\" height=\"500\" style=\"fill: rgb(255, 255, 255); fill-opacity: 1;\"/><defs id=\"defs-c00b6c\"><g class=\"clips\"><clipPath id=\"clipc00b6cxyplot\" class=\"plotclip\"><rect width=\"645\" height=\"394\"/></clipPath><clipPath class=\"axesclip\" id=\"clipc00b6cx\"><rect x=\"55\" y=\"0\" width=\"645\" height=\"500\"/></clipPath><clipPath class=\"axesclip\" id=\"clipc00b6cy\"><rect x=\"0\" y=\"50\" width=\"700\" height=\"394\"/></clipPath><clipPath class=\"axesclip\" id=\"clipc00b6cxy\"><rect x=\"55\" y=\"50\" width=\"645\" height=\"394\"/></clipPath></g><g class=\"gradients\"/><g class=\"patterns\"/></defs><g class=\"bglayer\"><rect class=\"bg\" x=\"55\" y=\"50\" width=\"645\" height=\"394\" style=\"fill: rgb(240, 248, 255); fill-opacity: 1; stroke-width: 0;\"/></g><g class=\"layer-below\"><g class=\"imagelayer\"/><g class=\"shapelayer\"/></g><g class=\"cartesianlayer\"><g class=\"subplot xy\"><g class=\"layer-subplot\"><g class=\"shapelayer\"/><g class=\"imagelayer\"/></g><g class=\"gridlayer\"><g class=\"x\"><path class=\"xgrid crisp\" transform=\"translate(120.3,0)\" d=\"M0,50v394\" style=\"stroke: rgb(255, 255, 255); stroke-opacity: 1; stroke-width: 1px;\"/><path class=\"xgrid crisp\" transform=\"translate(270.33000000000004,0)\" d=\"M0,50v394\" style=\"stroke: rgb(255, 255, 255); stroke-opacity: 1; stroke-width: 1px;\"/><path class=\"xgrid crisp\" transform=\"translate(420.37,0)\" d=\"M0,50v394\" style=\"stroke: rgb(255, 255, 255); stroke-opacity: 1; stroke-width: 1px;\"/><path class=\"xgrid crisp\" transform=\"translate(570.4,0)\" d=\"M0,50v394\" style=\"stroke: rgb(255, 255, 255); stroke-opacity: 1; stroke-width: 1px;\"/></g><g class=\"y\"><path class=\"ygrid crisp\" transform=\"translate(0,411.77)\" d=\"M55,0h645\" style=\"stroke: rgb(255, 255, 255); stroke-opacity: 1; stroke-width: 1px;\"/><path class=\"ygrid crisp\" transform=\"translate(0,337.51)\" d=\"M55,0h645\" style=\"stroke: rgb(255, 255, 255); stroke-opacity: 1; stroke-width: 1px;\"/><path class=\"ygrid crisp\" transform=\"translate(0,189)\" d=\"M55,0h645\" style=\"stroke: rgb(255, 255, 255); stroke-opacity: 1; stroke-width: 1px;\"/><path class=\"ygrid crisp\" transform=\"translate(0,114.74)\" d=\"M55,0h645\" style=\"stroke: rgb(255, 255, 255); stroke-opacity: 1; stroke-width: 1px;\"/></g></g><g class=\"zerolinelayer\"><path class=\"yzl zl crisp\" transform=\"translate(0,263.25)\" d=\"M55,0h645\" style=\"stroke: rgb(255, 255, 255); stroke-opacity: 1; stroke-width: 2px;\"/></g><path class=\"xlines-below\"/><path class=\"ylines-below\"/><g class=\"overlines-below\"/><g class=\"xaxislayer-below\"/><g class=\"yaxislayer-below\"/><g class=\"overaxes-below\"/><g class=\"plot\" transform=\"translate(55,50)\" clip-path=\"url(#clipc00b6cxyplot)\"><g class=\"scatterlayer mlayer\"><g class=\"trace scatter trace6319f0\" style=\"stroke-miterlimit: 2; opacity: 1;\"><g class=\"fills\"/><g class=\"errorbars\"/><g class=\"lines\"><path class=\"js-line\" d=\"M1,374.3L22.43,215.61L43.87,206.63L65.3,166.59L86.73,170.46L108.17,78.17L129.6,75.23L151.03,88.26L172.47,143.11L193.9,185.76L215.33,191.02L236.77,227.6L258.2,268.62L279.63,248.54L301.07,223.79L322.5,219.95L343.93,219.81L365.37,216.06L386.8,19.7L429.67,31.99L451.1,47.27L472.53,36.33L493.97,50.26L515.4,54.47L536.83,68.44L558.27,72.33L579.7,87.12L601.13,102.52L622.57,103.17L644,106.84\" style=\"vector-effect: non-scaling-stroke; fill: none; stroke: rgb(0, 0, 255); stroke-opacity: 1; stroke-width: 2px; opacity: 1;\"/></g><g class=\"points\"/><g class=\"text\"/></g></g></g><g class=\"overplot\"/><path class=\"xlines-above crisp\" d=\"M0,0\" style=\"fill: none;\"/><path class=\"ylines-above crisp\" d=\"M0,0\" style=\"fill: none;\"/><g class=\"overlines-above\"/><g class=\"xaxislayer-above\"><g class=\"xtick\"><text text-anchor=\"middle\" x=\"0\" y=\"457\" transform=\"translate(120.3,0)\" style=\"font-family: 'Open Sans', verdana, arial, sans-serif; font-size: 12px; fill: rgb(42, 63, 95); fill-opacity: 1; white-space: pre; opacity: 1;\"><tspan class=\"line\" dy=\"0em\" x=\"0\" y=\"457\">Aug 4</tspan><tspan class=\"line\" dy=\"1.3em\" x=\"0\" y=\"457\">2019</tspan></text></g><g class=\"xtick\"><text text-anchor=\"middle\" x=\"0\" y=\"457\" style=\"font-family: 'Open Sans', verdana, arial, sans-serif; font-size: 12px; fill: rgb(42, 63, 95); fill-opacity: 1; white-space: pre; opacity: 1;\" transform=\"translate(270.33000000000004,0)\">Aug 11</text></g><g class=\"xtick\"><text text-anchor=\"middle\" x=\"0\" y=\"457\" style=\"font-family: 'Open Sans', verdana, arial, sans-serif; font-size: 12px; fill: rgb(42, 63, 95); fill-opacity: 1; white-space: pre; opacity: 1;\" transform=\"translate(420.37,0)\">Aug 18</text></g><g class=\"xtick\"><text text-anchor=\"middle\" x=\"0\" y=\"457\" style=\"font-family: 'Open Sans', verdana, arial, sans-serif; font-size: 12px; fill: rgb(42, 63, 95); fill-opacity: 1; white-space: pre; opacity: 1;\" transform=\"translate(570.4,0)\">Aug 25</text></g></g><g class=\"yaxislayer-above\"><g class=\"ytick\"><text text-anchor=\"end\" x=\"54\" y=\"4.199999999999999\" transform=\"translate(0,411.77)\" style=\"font-family: 'Open Sans', verdana, arial, sans-serif; font-size: 12px; fill: rgb(42, 63, 95); fill-opacity: 1; white-space: pre; opacity: 1;\">−0.4</text></g><g class=\"ytick\"><text text-anchor=\"end\" x=\"54\" y=\"4.199999999999999\" style=\"font-family: 'Open Sans', verdana, arial, sans-serif; font-size: 12px; fill: rgb(42, 63, 95); fill-opacity: 1; white-space: pre; opacity: 1;\" transform=\"translate(0,337.51)\">−0.2</text></g><g class=\"ytick\"><text text-anchor=\"end\" x=\"54\" y=\"4.199999999999999\" style=\"font-family: 'Open Sans', verdana, arial, sans-serif; font-size: 12px; fill: rgb(42, 63, 95); fill-opacity: 1; white-space: pre; opacity: 1;\" transform=\"translate(0,263.25)\">0</text></g><g class=\"ytick\"><text text-anchor=\"end\" x=\"54\" y=\"4.199999999999999\" style=\"font-family: 'Open Sans', verdana, arial, sans-serif; font-size: 12px; fill: rgb(42, 63, 95); fill-opacity: 1; white-space: pre; opacity: 1;\" transform=\"translate(0,189)\">0.2</text></g><g class=\"ytick\"><text text-anchor=\"end\" x=\"54\" y=\"4.199999999999999\" style=\"font-family: 'Open Sans', verdana, arial, sans-serif; font-size: 12px; fill: rgb(42, 63, 95); fill-opacity: 1; white-space: pre; opacity: 1;\" transform=\"translate(0,114.74)\">0.4</text></g></g><g class=\"overaxes-above\"/></g></g><g class=\"polarlayer\"/><g class=\"smithlayer\"/><g class=\"ternarylayer\"/><g class=\"geolayer\"/><g class=\"funnelarealayer\"/><g class=\"pielayer\"/><g class=\"iciclelayer\"/><g class=\"treemaplayer\"/><g class=\"sunburstlayer\"/><g class=\"glimages\"/><defs id=\"topdefs-c00b6c\"><g class=\"clips\"/></defs><g class=\"layer-above\"><g class=\"imagelayer\"/><g class=\"shapelayer\"><path data-index=\"0\" fill-rule=\"evenodd\" d=\"M56,263.25L699,263.25\" clip-path=\"url(#clipc00b6cxy)\" style=\"opacity: 1; stroke: rgb(0, 0, 0); stroke-opacity: 1; fill: rgb(0, 0, 0); fill-opacity: 0; stroke-dasharray: 9px, 9px; stroke-width: 2px;\"/></g></g><g class=\"infolayer\"><g class=\"g-gtitle\"><text class=\"gtitle\" x=\"35\" y=\"25\" text-anchor=\"start\" dy=\"0em\" style=\"font-family: 'Open Sans', verdana, arial, sans-serif; font-size: 17px; fill: rgb(42, 63, 95); opacity: 1; font-weight: normal; white-space: pre;\">График относительного изменения кумулятивного среднего чека группы B к группе A</text></g><g class=\"g-xtitle\" transform=\"translate(0,-3.4093750000000114)\"><text class=\"xtitle\" x=\"377.5\" y=\"500.409375\" text-anchor=\"middle\" style=\"font-family: 'Open Sans', verdana, arial, sans-serif; font-size: 14px; fill: rgb(42, 63, 95); opacity: 1; font-weight: normal; white-space: pre;\">Даты</text></g><g class=\"g-ytitle\" transform=\"translate(14.2529296875,0)\"><text class=\"ytitle\" transform=\"rotate(-90,-0.25312499999999716,247)\" x=\"-0.25312499999999716\" y=\"247\" text-anchor=\"middle\" style=\"font-family: 'Open Sans', verdana, arial, sans-serif; font-size: 14px; fill: rgb(42, 63, 95); opacity: 1; font-weight: normal; white-space: pre;\">Относительное изменение</text></g></g></svg>"
      ]
     },
     "metadata": {},
     "output_type": "display_data"
    }
   ],
   "source": [
    "cumulative(\n",
    "    merged_cumulative_rev['date'],\n",
    "    ((merged_cumulative_rev['revenueB'] / merged_cumulative_rev['ordersB']) / \n",
    "    (merged_cumulative_rev['revenueA'] / merged_cumulative_rev['ordersA']) - 1),\n",
    "    axhline='one', one_y=0,\n",
    "    title_name='График относительного изменения кумулятивного среднего чека группы B к группе A',\n",
    "    y_name='Относительное изменение',\n",
    "    x_name='Даты')\n"
   ]
  },
  {
   "cell_type": "code",
   "execution_count": 45,
   "metadata": {},
   "outputs": [
    {
     "data": {
      "text/html": [
       "<div>\n",
       "<style scoped>\n",
       "    .dataframe tbody tr th:only-of-type {\n",
       "        vertical-align: middle;\n",
       "    }\n",
       "\n",
       "    .dataframe tbody tr th {\n",
       "        vertical-align: top;\n",
       "    }\n",
       "\n",
       "    .dataframe thead th {\n",
       "        text-align: right;\n",
       "    }\n",
       "</style>\n",
       "<table border=\"1\" class=\"dataframe\">\n",
       "  <thead>\n",
       "    <tr style=\"text-align: right;\">\n",
       "      <th></th>\n",
       "      <th>transactionid</th>\n",
       "      <th>visitorid</th>\n",
       "      <th>date</th>\n",
       "      <th>revenue</th>\n",
       "      <th>group</th>\n",
       "    </tr>\n",
       "  </thead>\n",
       "  <tbody>\n",
       "    <tr>\n",
       "      <th>425</th>\n",
       "      <td>590470918</td>\n",
       "      <td>1920142716</td>\n",
       "      <td>2019-08-19</td>\n",
       "      <td>1294500</td>\n",
       "      <td>B</td>\n",
       "    </tr>\n",
       "    <tr>\n",
       "      <th>1196</th>\n",
       "      <td>3936777065</td>\n",
       "      <td>2108080724</td>\n",
       "      <td>2019-08-15</td>\n",
       "      <td>202740</td>\n",
       "      <td>B</td>\n",
       "    </tr>\n",
       "    <tr>\n",
       "      <th>744</th>\n",
       "      <td>3668308183</td>\n",
       "      <td>888512513</td>\n",
       "      <td>2019-08-27</td>\n",
       "      <td>86620</td>\n",
       "      <td>B</td>\n",
       "    </tr>\n",
       "    <tr>\n",
       "      <th>682</th>\n",
       "      <td>1216533772</td>\n",
       "      <td>4266935830</td>\n",
       "      <td>2019-08-29</td>\n",
       "      <td>78990</td>\n",
       "      <td>B</td>\n",
       "    </tr>\n",
       "    <tr>\n",
       "      <th>940</th>\n",
       "      <td>2420050534</td>\n",
       "      <td>4003628586</td>\n",
       "      <td>2019-08-08</td>\n",
       "      <td>58550</td>\n",
       "      <td>B</td>\n",
       "    </tr>\n",
       "  </tbody>\n",
       "</table>\n",
       "</div>"
      ],
      "text/plain": [
       "      transactionid   visitorid       date  revenue group\n",
       "425       590470918  1920142716 2019-08-19  1294500     B\n",
       "1196     3936777065  2108080724 2019-08-15   202740     B\n",
       "744      3668308183   888512513 2019-08-27    86620     B\n",
       "682      1216533772  4266935830 2019-08-29    78990     B\n",
       "940      2420050534  4003628586 2019-08-08    58550     B"
      ]
     },
     "execution_count": 45,
     "metadata": {},
     "output_type": "execute_result"
    }
   ],
   "source": [
    "orders.query('group == \"B\"').sort_values(by='revenue', ascending=False).head(5)"
   ]
  },
  {
   "cell_type": "code",
   "execution_count": 46,
   "metadata": {},
   "outputs": [
    {
     "data": {
      "text/plain": [
       "'6 августа'"
      ]
     },
     "metadata": {},
     "output_type": "display_data"
    },
    {
     "data": {
      "text/plain": [
       "242342"
      ]
     },
     "metadata": {},
     "output_type": "display_data"
    },
    {
     "data": {
      "text/plain": [
       "'7 августа'"
      ]
     },
     "metadata": {},
     "output_type": "display_data"
    },
    {
     "data": {
      "text/plain": [
       "225334"
      ]
     },
     "metadata": {},
     "output_type": "display_data"
    }
   ],
   "source": [
    "display('6 августа', orders.query('group == \"B\" and date == \"2019-08-06\"')['revenue'].sum(), \n",
    "        '7 августа', orders.query('group == \"B\" and date == \"2019-08-07\"')['revenue'].sum())"
   ]
  },
  {
   "cell_type": "code",
   "execution_count": 47,
   "metadata": {},
   "outputs": [
    {
     "data": {
      "text/plain": [
       "'6 августа'"
      ]
     },
     "metadata": {},
     "output_type": "display_data"
    },
    {
     "data": {
      "text/plain": [
       "48484"
      ]
     },
     "metadata": {},
     "output_type": "display_data"
    },
    {
     "data": {
      "text/plain": [
       "'7 августа'"
      ]
     },
     "metadata": {},
     "output_type": "display_data"
    },
    {
     "data": {
      "text/plain": [
       "142417"
      ]
     },
     "metadata": {},
     "output_type": "display_data"
    }
   ],
   "source": [
    "display('6 августа', orders.query('group == \"A\" and date == \"2019-08-06\"')['revenue'].sum(), \n",
    "        '7 августа', orders.query('group == \"A\" and date == \"2019-08-07\"')['revenue'].sum())"
   ]
  },
  {
   "cell_type": "markdown",
   "metadata": {},
   "source": [
    "В некоторые даты было значительное различие куммулятивного среднего чека группы ``В``, к группе ``А``. Так на изменение ``19 августа`` в влияет то, что был заказ на очень большую сумму, что касается ``6 и 7 августа``, то на пик повлияли не изменения в группе ``В``, а малые суммы заказов в группе ``А``. "
   ]
  },
  {
   "cell_type": "markdown",
   "metadata": {},
   "source": [
    "<a id=\"num74\"></a>\n",
    "### График куммулятивного среднего количества заказов на посетителя по группам"
   ]
  },
  {
   "cell_type": "markdown",
   "metadata": {},
   "source": [
    "Постройте график кумулятивного среднего количества заказов на посетителя по группам. Сделайте выводы и предположения."
   ]
  },
  {
   "cell_type": "code",
   "execution_count": 48,
   "metadata": {},
   "outputs": [
    {
     "data": {
      "image/svg+xml": [
       "<svg class=\"main-svg\" xmlns=\"http://www.w3.org/2000/svg\" xmlns:xlink=\"http://www.w3.org/1999/xlink\" width=\"840\" height=\"600\" style=\"\" viewBox=\"0 0 700 500\"><rect x=\"0\" y=\"0\" width=\"700\" height=\"500\" style=\"fill: rgb(255, 255, 255); fill-opacity: 1;\"/><defs id=\"defs-3d0bd3\"><g class=\"clips\"><clipPath id=\"clip3d0bd3xyplot\" class=\"plotclip\"><rect width=\"525\" height=\"394\"/></clipPath><clipPath class=\"axesclip\" id=\"clip3d0bd3x\"><rect x=\"61\" y=\"0\" width=\"525\" height=\"500\"/></clipPath><clipPath class=\"axesclip\" id=\"clip3d0bd3y\"><rect x=\"0\" y=\"50\" width=\"700\" height=\"394\"/></clipPath><clipPath class=\"axesclip\" id=\"clip3d0bd3xy\"><rect x=\"61\" y=\"50\" width=\"525\" height=\"394\"/></clipPath></g><g class=\"gradients\"/><g class=\"patterns\"/></defs><g class=\"bglayer\"><rect class=\"bg\" x=\"61\" y=\"50\" width=\"525\" height=\"394\" style=\"fill: rgb(240, 248, 255); fill-opacity: 1; stroke-width: 0;\"/></g><g class=\"layer-below\"><g class=\"imagelayer\"/><g class=\"shapelayer\"/></g><g class=\"cartesianlayer\"><g class=\"subplot xy\"><g class=\"layer-subplot\"><g class=\"shapelayer\"/><g class=\"imagelayer\"/></g><g class=\"gridlayer\"><g class=\"x\"><path class=\"xgrid crisp\" transform=\"translate(113.5,0)\" d=\"M0,50v394\" style=\"stroke: rgb(255, 255, 255); stroke-opacity: 1; stroke-width: 1px;\"/><path class=\"xgrid crisp\" transform=\"translate(236,0)\" d=\"M0,50v394\" style=\"stroke: rgb(255, 255, 255); stroke-opacity: 1; stroke-width: 1px;\"/><path class=\"xgrid crisp\" transform=\"translate(358.5,0)\" d=\"M0,50v394\" style=\"stroke: rgb(255, 255, 255); stroke-opacity: 1; stroke-width: 1px;\"/><path class=\"xgrid crisp\" transform=\"translate(481,0)\" d=\"M0,50v394\" style=\"stroke: rgb(255, 255, 255); stroke-opacity: 1; stroke-width: 1px;\"/></g><g class=\"y\"><path class=\"ygrid crisp\" transform=\"translate(0,419.63)\" d=\"M61,0h525\" style=\"stroke: rgb(255, 255, 255); stroke-opacity: 1; stroke-width: 1px;\"/><path class=\"ygrid crisp\" transform=\"translate(0,360.18)\" d=\"M61,0h525\" style=\"stroke: rgb(255, 255, 255); stroke-opacity: 1; stroke-width: 1px;\"/><path class=\"ygrid crisp\" transform=\"translate(0,300.73)\" d=\"M61,0h525\" style=\"stroke: rgb(255, 255, 255); stroke-opacity: 1; stroke-width: 1px;\"/><path class=\"ygrid crisp\" transform=\"translate(0,241.28)\" d=\"M61,0h525\" style=\"stroke: rgb(255, 255, 255); stroke-opacity: 1; stroke-width: 1px;\"/><path class=\"ygrid crisp\" transform=\"translate(0,181.83)\" d=\"M61,0h525\" style=\"stroke: rgb(255, 255, 255); stroke-opacity: 1; stroke-width: 1px;\"/><path class=\"ygrid crisp\" transform=\"translate(0,122.38)\" d=\"M61,0h525\" style=\"stroke: rgb(255, 255, 255); stroke-opacity: 1; stroke-width: 1px;\"/><path class=\"ygrid crisp\" transform=\"translate(0,62.93)\" d=\"M61,0h525\" style=\"stroke: rgb(255, 255, 255); stroke-opacity: 1; stroke-width: 1px;\"/></g></g><g class=\"zerolinelayer\"/><path class=\"xlines-below\"/><path class=\"ylines-below\"/><g class=\"overlines-below\"/><g class=\"xaxislayer-below\"/><g class=\"yaxislayer-below\"/><g class=\"overaxes-below\"/><g class=\"plot\" transform=\"translate(61,50)\" clip-path=\"url(#clip3d0bd3xyplot)\"><g class=\"scatterlayer mlayer\"><g class=\"trace scatter trace92aec7\" style=\"stroke-miterlimit: 2; opacity: 1;\"><g class=\"fills\"/><g class=\"errorbars\"/><g class=\"lines\"><path class=\"js-line\" d=\"M0,132.16L17.5,149.96L35,19.7L52.5,189.66L70,196.12L87.5,232.68L105,248.24L122.5,266.01L140,296.25L157.5,276.06L175,312.23L192.5,298.21L210,318.75L227.5,324.97L245,343.44L262.5,316.76L280,329.89L297.5,340.37L315,318.75L332.5,330.41L350,321.98L367.5,334.33L385,316.8L402.5,310.95L420,327.13L437.5,331.6L455,322.48L472.5,322.83L490,319.03L507.5,324.95L525,340.54\" style=\"vector-effect: non-scaling-stroke; fill: none; stroke: rgb(0, 0, 255); stroke-opacity: 1; stroke-width: 2px; opacity: 1;\"/></g><g class=\"points\"/><g class=\"text\"/></g><g class=\"trace scatter tracea49c4c\" style=\"stroke-miterlimit: 2; opacity: 1;\"><g class=\"fills\"/><g class=\"errorbars\"/><g class=\"lines\"><path class=\"js-line\" d=\"M0,374.3L17.5,164.18L35,192.77L52.5,297.45L70,276.47L87.5,236.98L105,218.93L122.5,202.17L140,197.52L157.5,145.39L175,191.03L192.5,180.36L210,192.36L227.5,219.77L245,188.19L262.5,171.66L280,171.4L297.5,212.92L315,195.72L332.5,187.73L350,205.64L367.5,201.66L385,208.39L402.5,202.47L420,218.42L437.5,214.02L455,232.1L472.5,226.43L490,226.94L507.5,215.69L525,221.89\" style=\"vector-effect: non-scaling-stroke; fill: none; stroke: rgb(255, 0, 0); stroke-opacity: 1; stroke-width: 2px; opacity: 1;\"/></g><g class=\"points\"/><g class=\"text\"/></g></g></g><g class=\"overplot\"/><path class=\"xlines-above crisp\" d=\"M0,0\" style=\"fill: none;\"/><path class=\"ylines-above crisp\" d=\"M0,0\" style=\"fill: none;\"/><g class=\"overlines-above\"/><g class=\"xaxislayer-above\"><g class=\"xtick\"><text text-anchor=\"middle\" x=\"0\" y=\"457\" transform=\"translate(113.5,0)\" style=\"font-family: 'Open Sans', verdana, arial, sans-serif; font-size: 12px; fill: rgb(42, 63, 95); fill-opacity: 1; white-space: pre; opacity: 1;\"><tspan class=\"line\" dy=\"0em\" x=\"0\" y=\"457\">Aug 4</tspan><tspan class=\"line\" dy=\"1.3em\" x=\"0\" y=\"457\">2019</tspan></text></g><g class=\"xtick\"><text text-anchor=\"middle\" x=\"0\" y=\"457\" style=\"font-family: 'Open Sans', verdana, arial, sans-serif; font-size: 12px; fill: rgb(42, 63, 95); fill-opacity: 1; white-space: pre; opacity: 1;\" transform=\"translate(236,0)\">Aug 11</text></g><g class=\"xtick\"><text text-anchor=\"middle\" x=\"0\" y=\"457\" style=\"font-family: 'Open Sans', verdana, arial, sans-serif; font-size: 12px; fill: rgb(42, 63, 95); fill-opacity: 1; white-space: pre; opacity: 1;\" transform=\"translate(358.5,0)\">Aug 18</text></g><g class=\"xtick\"><text text-anchor=\"middle\" x=\"0\" y=\"457\" style=\"font-family: 'Open Sans', verdana, arial, sans-serif; font-size: 12px; fill: rgb(42, 63, 95); fill-opacity: 1; white-space: pre; opacity: 1;\" transform=\"translate(481,0)\">Aug 25</text></g></g><g class=\"yaxislayer-above\"><g class=\"ytick\"><text text-anchor=\"end\" x=\"60\" y=\"4.199999999999999\" transform=\"translate(0,419.63)\" style=\"font-family: 'Open Sans', verdana, arial, sans-serif; font-size: 12px; fill: rgb(42, 63, 95); fill-opacity: 1; white-space: pre; opacity: 1;\">0.024</text></g><g class=\"ytick\"><text text-anchor=\"end\" x=\"60\" y=\"4.199999999999999\" style=\"font-family: 'Open Sans', verdana, arial, sans-serif; font-size: 12px; fill: rgb(42, 63, 95); fill-opacity: 1; white-space: pre; opacity: 1;\" transform=\"translate(0,360.18)\">0.026</text></g><g class=\"ytick\"><text text-anchor=\"end\" x=\"60\" y=\"4.199999999999999\" style=\"font-family: 'Open Sans', verdana, arial, sans-serif; font-size: 12px; fill: rgb(42, 63, 95); fill-opacity: 1; white-space: pre; opacity: 1;\" transform=\"translate(0,300.73)\">0.028</text></g><g class=\"ytick\"><text text-anchor=\"end\" x=\"60\" y=\"4.199999999999999\" style=\"font-family: 'Open Sans', verdana, arial, sans-serif; font-size: 12px; fill: rgb(42, 63, 95); fill-opacity: 1; white-space: pre; opacity: 1;\" transform=\"translate(0,241.28)\">0.03</text></g><g class=\"ytick\"><text text-anchor=\"end\" x=\"60\" y=\"4.199999999999999\" style=\"font-family: 'Open Sans', verdana, arial, sans-serif; font-size: 12px; fill: rgb(42, 63, 95); fill-opacity: 1; white-space: pre; opacity: 1;\" transform=\"translate(0,181.83)\">0.032</text></g><g class=\"ytick\"><text text-anchor=\"end\" x=\"60\" y=\"4.199999999999999\" style=\"font-family: 'Open Sans', verdana, arial, sans-serif; font-size: 12px; fill: rgb(42, 63, 95); fill-opacity: 1; white-space: pre; opacity: 1;\" transform=\"translate(0,122.38)\">0.034</text></g><g class=\"ytick\"><text text-anchor=\"end\" x=\"60\" y=\"4.199999999999999\" style=\"font-family: 'Open Sans', verdana, arial, sans-serif; font-size: 12px; fill: rgb(42, 63, 95); fill-opacity: 1; white-space: pre; opacity: 1;\" transform=\"translate(0,62.93)\">0.036</text></g></g><g class=\"overaxes-above\"/></g></g><g class=\"polarlayer\"/><g class=\"smithlayer\"/><g class=\"ternarylayer\"/><g class=\"geolayer\"/><g class=\"funnelarealayer\"/><g class=\"pielayer\"/><g class=\"iciclelayer\"/><g class=\"treemaplayer\"/><g class=\"sunburstlayer\"/><g class=\"glimages\"/><defs id=\"topdefs-3d0bd3\"><g class=\"clips\"/><clipPath id=\"legend3d0bd3\"><rect width=\"103\" height=\"48\" x=\"0\" y=\"0\"/></clipPath></defs><g class=\"layer-above\"><g class=\"imagelayer\"/><g class=\"shapelayer\"/></g><g class=\"infolayer\"><g class=\"legend\" pointer-events=\"all\" transform=\"translate(596.5,50)\"><rect class=\"bg\" shape-rendering=\"crispEdges\" width=\"103\" height=\"48\" x=\"0\" y=\"0\" style=\"stroke: rgb(68, 68, 68); stroke-opacity: 1; fill: rgb(255, 255, 255); fill-opacity: 1; stroke-width: 0px;\"/><g class=\"scrollbox\" transform=\"\" clip-path=\"url(#legend3d0bd3)\"><g class=\"groups\"><g class=\"traces\" transform=\"translate(0,14.5)\" style=\"opacity: 1;\"><text class=\"legendtext\" text-anchor=\"start\" x=\"40\" y=\"4.680000000000001\" style=\"font-family: 'Open Sans', verdana, arial, sans-serif; font-size: 12px; fill: rgb(42, 63, 95); fill-opacity: 1; white-space: pre;\">Группа A</text><g class=\"layers\" style=\"opacity: 1;\"><g class=\"legendfill\"/><g class=\"legendlines\"><path class=\"js-line\" d=\"M5,0h30\" style=\"fill: none; stroke: rgb(0, 0, 255); stroke-opacity: 1; stroke-width: 2px;\"/></g><g class=\"legendsymbols\"><g class=\"legendpoints\"/></g></g><rect class=\"legendtoggle\" x=\"0\" y=\"-9.5\" width=\"97.09375\" height=\"19\" style=\"fill: rgb(0, 0, 0); fill-opacity: 0;\"/></g><g class=\"traces\" transform=\"translate(0,33.5)\" style=\"opacity: 1;\"><text class=\"legendtext\" text-anchor=\"start\" x=\"40\" y=\"4.680000000000001\" style=\"font-family: 'Open Sans', verdana, arial, sans-serif; font-size: 12px; fill: rgb(42, 63, 95); fill-opacity: 1; white-space: pre;\">Группа B</text><g class=\"layers\" style=\"opacity: 1;\"><g class=\"legendfill\"/><g class=\"legendlines\"><path class=\"js-line\" d=\"M5,0h30\" style=\"fill: none; stroke: rgb(255, 0, 0); stroke-opacity: 1; stroke-width: 2px;\"/></g><g class=\"legendsymbols\"><g class=\"legendpoints\"/></g></g><rect class=\"legendtoggle\" x=\"0\" y=\"-9.5\" width=\"97.09375\" height=\"19\" style=\"fill: rgb(0, 0, 0); fill-opacity: 0;\"/></g></g></g><rect class=\"scrollbar\" rx=\"20\" ry=\"3\" width=\"0\" height=\"0\" x=\"0\" y=\"0\" style=\"fill: rgb(128, 139, 164); fill-opacity: 1;\"/></g><g class=\"g-gtitle\"><text class=\"gtitle\" x=\"35\" y=\"25\" text-anchor=\"start\" dy=\"0em\" style=\"font-family: 'Open Sans', verdana, arial, sans-serif; font-size: 17px; fill: rgb(42, 63, 95); opacity: 1; font-weight: normal; white-space: pre;\">График куммулятивного среднего количества заказов на посетителя по группам</text></g><g class=\"g-xtitle\" transform=\"translate(0,-3.4093750000000114)\"><text class=\"xtitle\" x=\"323.5\" y=\"500.409375\" text-anchor=\"middle\" style=\"font-family: 'Open Sans', verdana, arial, sans-serif; font-size: 14px; fill: rgb(42, 63, 95); opacity: 1; font-weight: normal; white-space: pre;\">Даты</text></g><g class=\"g-ytitle\" transform=\"translate(13.6904296875,0)\"><text class=\"ytitle\" transform=\"rotate(-90,0.30937500000000284,247)\" x=\"0.30937500000000284\" y=\"247\" text-anchor=\"middle\" style=\"font-family: 'Open Sans', verdana, arial, sans-serif; font-size: 14px; fill: rgb(42, 63, 95); opacity: 1; font-weight: normal; white-space: pre;\">Куммулятивное среднего количества заказов на посетителя</text></g></g></svg>"
      ]
     },
     "metadata": {},
     "output_type": "display_data"
    }
   ],
   "source": [
    "cumulative(\n",
    "    merged_cumulative_rev['date'],\n",
    "    merged_cumulative_rev['ordersA']/merged_cumulative_rev['visitorsA'],\n",
    "    merged_cumulative_rev['date'],\n",
    "    merged_cumulative_rev['ordersB']/merged_cumulative_rev['visitorsB'],\n",
    "    title_name='График куммулятивного среднего количества заказов на посетителя по группам',\n",
    "    y_name='Куммулятивное среднего количества заказов на посетителя',\n",
    "    x_name='Даты')"
   ]
  },
  {
   "cell_type": "markdown",
   "metadata": {},
   "source": [
    "Не смотря на то, что на графиках есть различия, сами графики между собой похожи. Колебания имеют схожий вид. Из этого следует, что куммулятивное среднее количества заказов по группам примерно равномерное. "
   ]
  },
  {
   "cell_type": "markdown",
   "metadata": {},
   "source": [
    "<a id=\"num75\"></a>\n",
    "### График относительного изменения кумулятивного среднего количества заказов на посетителя группы B к группе A"
   ]
  },
  {
   "cell_type": "markdown",
   "metadata": {},
   "source": [
    "Построим график относительного изменения кумулятивного среднего количества заказов на посетителя группы B к группе A. "
   ]
  },
  {
   "cell_type": "code",
   "execution_count": 49,
   "metadata": {},
   "outputs": [],
   "source": [
    "cumulative_data['conversion'] = (cumulative_data['orders'] / cumulative_data['visitors'])\n",
    "\n",
    "cumulative_data_a = cumulative_data[cumulative_data['group'] == 'A']\n",
    "cumulative_data_b = cumulative_data[cumulative_data['group'] == 'B']\n",
    "\n",
    "merged_cumulative_conversion = (cumulative_data_a[['date','conversion']]\n",
    "                                .merge(cumulative_data_b[['date','conversion']], \n",
    "                                       left_on='date', \n",
    "                                       right_on='date', \n",
    "                                       how='left', \n",
    "                                       suffixes=['A', 'B']))"
   ]
  },
  {
   "cell_type": "code",
   "execution_count": 50,
   "metadata": {},
   "outputs": [
    {
     "data": {
      "image/svg+xml": [
       "<svg class=\"main-svg\" xmlns=\"http://www.w3.org/2000/svg\" xmlns:xlink=\"http://www.w3.org/1999/xlink\" width=\"840\" height=\"600\" style=\"\" viewBox=\"0 0 700 500\"><rect x=\"0\" y=\"0\" width=\"700\" height=\"500\" style=\"fill: rgb(255, 255, 255); fill-opacity: 1;\"/><defs id=\"defs-88309e\"><g class=\"clips\"><clipPath id=\"clip88309exyplot\" class=\"plotclip\"><rect width=\"645\" height=\"394\"/></clipPath><clipPath class=\"axesclip\" id=\"clip88309ex\"><rect x=\"55\" y=\"0\" width=\"645\" height=\"500\"/></clipPath><clipPath class=\"axesclip\" id=\"clip88309ey\"><rect x=\"0\" y=\"50\" width=\"700\" height=\"394\"/></clipPath><clipPath class=\"axesclip\" id=\"clip88309exy\"><rect x=\"55\" y=\"50\" width=\"645\" height=\"394\"/></clipPath></g><g class=\"gradients\"/><g class=\"patterns\"/></defs><g class=\"bglayer\"><rect class=\"bg\" x=\"55\" y=\"50\" width=\"645\" height=\"394\" style=\"fill: rgb(240, 248, 255); fill-opacity: 1; stroke-width: 0;\"/></g><g class=\"layer-below\"><g class=\"imagelayer\"/><g class=\"shapelayer\"/></g><g class=\"cartesianlayer\"><g class=\"subplot xy\"><g class=\"layer-subplot\"><g class=\"shapelayer\"/><g class=\"imagelayer\"/></g><g class=\"gridlayer\"><g class=\"x\"><path class=\"xgrid crisp\" transform=\"translate(120.3,0)\" d=\"M0,50v394\" style=\"stroke: rgb(255, 255, 255); stroke-opacity: 1; stroke-width: 1px;\"/><path class=\"xgrid crisp\" transform=\"translate(270.33000000000004,0)\" d=\"M0,50v394\" style=\"stroke: rgb(255, 255, 255); stroke-opacity: 1; stroke-width: 1px;\"/><path class=\"xgrid crisp\" transform=\"translate(420.37,0)\" d=\"M0,50v394\" style=\"stroke: rgb(255, 255, 255); stroke-opacity: 1; stroke-width: 1px;\"/><path class=\"xgrid crisp\" transform=\"translate(570.4,0)\" d=\"M0,50v394\" style=\"stroke: rgb(255, 255, 255); stroke-opacity: 1; stroke-width: 1px;\"/></g><g class=\"y\"><path class=\"ygrid crisp\" transform=\"translate(0,382.63)\" d=\"M55,0h645\" style=\"stroke: rgb(255, 255, 255); stroke-opacity: 1; stroke-width: 1px;\"/><path class=\"ygrid crisp\" transform=\"translate(0,306.39)\" d=\"M55,0h645\" style=\"stroke: rgb(255, 255, 255); stroke-opacity: 1; stroke-width: 1px;\"/><path class=\"ygrid crisp\" transform=\"translate(0,153.9)\" d=\"M55,0h645\" style=\"stroke: rgb(255, 255, 255); stroke-opacity: 1; stroke-width: 1px;\"/><path class=\"ygrid crisp\" transform=\"translate(0,77.66)\" d=\"M55,0h645\" style=\"stroke: rgb(255, 255, 255); stroke-opacity: 1; stroke-width: 1px;\"/></g></g><g class=\"zerolinelayer\"><path class=\"yzl zl crisp\" transform=\"translate(0,230.15)\" d=\"M55,0h645\" style=\"stroke: rgb(255, 255, 255); stroke-opacity: 1; stroke-width: 2px;\"/></g><path class=\"xlines-below\"/><path class=\"ylines-below\"/><g class=\"overlines-below\"/><g class=\"xaxislayer-below\"/><g class=\"yaxislayer-below\"/><g class=\"overaxes-below\"/><g class=\"plot\" transform=\"translate(55,50)\" clip-path=\"url(#clip88309exyplot)\"><g class=\"scatterlayer mlayer\"><g class=\"trace scatter traced0d14e\" style=\"stroke-miterlimit: 2; opacity: 1;\"><g class=\"fills\"/><g class=\"errorbars\"/><g class=\"lines\"><path class=\"js-line\" d=\"M1,374.3L22.43,191.76L43.87,304.24L65.3,272.14L86.73,249.22L108.17,184L129.6,153.38L151.03,120.57L172.47,84.47L193.9,56.69L215.33,60.26L236.77,65.66L258.2,54.06L279.63,74.34L301.07,20.1L322.5,35.78L343.93,19.7L365.37,49.29L386.8,57.41L408.23,35.61L429.67,63.6L451.1,45.04L472.53,72.28L493.97,73.02L515.4,70.5L536.83,60.84L558.27,89.54L579.7,83.46L601.13,88.24L622.57,70.25L644,58.31\" style=\"vector-effect: non-scaling-stroke; fill: none; stroke: rgb(0, 0, 255); stroke-opacity: 1; stroke-width: 2px; opacity: 1;\"/></g><g class=\"points\"/><g class=\"text\"/></g></g></g><g class=\"overplot\"/><path class=\"xlines-above crisp\" d=\"M0,0\" style=\"fill: none;\"/><path class=\"ylines-above crisp\" d=\"M0,0\" style=\"fill: none;\"/><g class=\"overlines-above\"/><g class=\"xaxislayer-above\"><g class=\"xtick\"><text text-anchor=\"middle\" x=\"0\" y=\"457\" transform=\"translate(120.3,0)\" style=\"font-family: 'Open Sans', verdana, arial, sans-serif; font-size: 12px; fill: rgb(42, 63, 95); fill-opacity: 1; white-space: pre; opacity: 1;\"><tspan class=\"line\" dy=\"0em\" x=\"0\" y=\"457\">Aug 4</tspan><tspan class=\"line\" dy=\"1.3em\" x=\"0\" y=\"457\">2019</tspan></text></g><g class=\"xtick\"><text text-anchor=\"middle\" x=\"0\" y=\"457\" style=\"font-family: 'Open Sans', verdana, arial, sans-serif; font-size: 12px; fill: rgb(42, 63, 95); fill-opacity: 1; white-space: pre; opacity: 1;\" transform=\"translate(270.33000000000004,0)\">Aug 11</text></g><g class=\"xtick\"><text text-anchor=\"middle\" x=\"0\" y=\"457\" style=\"font-family: 'Open Sans', verdana, arial, sans-serif; font-size: 12px; fill: rgb(42, 63, 95); fill-opacity: 1; white-space: pre; opacity: 1;\" transform=\"translate(420.37,0)\">Aug 18</text></g><g class=\"xtick\"><text text-anchor=\"middle\" x=\"0\" y=\"457\" style=\"font-family: 'Open Sans', verdana, arial, sans-serif; font-size: 12px; fill: rgb(42, 63, 95); fill-opacity: 1; white-space: pre; opacity: 1;\" transform=\"translate(570.4,0)\">Aug 25</text></g></g><g class=\"yaxislayer-above\"><g class=\"ytick\"><text text-anchor=\"end\" x=\"54\" y=\"4.199999999999999\" transform=\"translate(0,382.63)\" style=\"font-family: 'Open Sans', verdana, arial, sans-serif; font-size: 12px; fill: rgb(42, 63, 95); fill-opacity: 1; white-space: pre; opacity: 1;\">−0.2</text></g><g class=\"ytick\"><text text-anchor=\"end\" x=\"54\" y=\"4.199999999999999\" style=\"font-family: 'Open Sans', verdana, arial, sans-serif; font-size: 12px; fill: rgb(42, 63, 95); fill-opacity: 1; white-space: pre; opacity: 1;\" transform=\"translate(0,306.39)\">−0.1</text></g><g class=\"ytick\"><text text-anchor=\"end\" x=\"54\" y=\"4.199999999999999\" style=\"font-family: 'Open Sans', verdana, arial, sans-serif; font-size: 12px; fill: rgb(42, 63, 95); fill-opacity: 1; white-space: pre; opacity: 1;\" transform=\"translate(0,230.15)\">0</text></g><g class=\"ytick\"><text text-anchor=\"end\" x=\"54\" y=\"4.199999999999999\" style=\"font-family: 'Open Sans', verdana, arial, sans-serif; font-size: 12px; fill: rgb(42, 63, 95); fill-opacity: 1; white-space: pre; opacity: 1;\" transform=\"translate(0,153.9)\">0.1</text></g><g class=\"ytick\"><text text-anchor=\"end\" x=\"54\" y=\"4.199999999999999\" style=\"font-family: 'Open Sans', verdana, arial, sans-serif; font-size: 12px; fill: rgb(42, 63, 95); fill-opacity: 1; white-space: pre; opacity: 1;\" transform=\"translate(0,77.66)\">0.2</text></g></g><g class=\"overaxes-above\"/></g></g><g class=\"polarlayer\"/><g class=\"smithlayer\"/><g class=\"ternarylayer\"/><g class=\"geolayer\"/><g class=\"funnelarealayer\"/><g class=\"pielayer\"/><g class=\"iciclelayer\"/><g class=\"treemaplayer\"/><g class=\"sunburstlayer\"/><g class=\"glimages\"/><defs id=\"topdefs-88309e\"><g class=\"clips\"/></defs><g class=\"layer-above\"><g class=\"imagelayer\"/><g class=\"shapelayer\"><path data-index=\"0\" fill-rule=\"evenodd\" d=\"M56,230.15L699,230.15\" clip-path=\"url(#clip88309exy)\" style=\"opacity: 1; stroke: rgb(0, 0, 0); stroke-opacity: 1; fill: rgb(0, 0, 0); fill-opacity: 0; stroke-dasharray: 9px, 9px; stroke-width: 2px;\"/><path data-index=\"1\" fill-rule=\"evenodd\" d=\"M56,115.78L699,115.78\" clip-path=\"url(#clip88309exy)\" style=\"opacity: 1; stroke: rgb(0, 0, 0); stroke-opacity: 1; fill: rgb(0, 0, 0); fill-opacity: 0; stroke-dasharray: 9px, 9px; stroke-width: 2px;\"/></g></g><g class=\"infolayer\"><g class=\"g-gtitle\"><text class=\"gtitle\" x=\"35\" y=\"25\" text-anchor=\"start\" dy=\"0em\" style=\"font-family: 'Open Sans', verdana, arial, sans-serif; font-size: 17px; fill: rgb(42, 63, 95); opacity: 1; font-weight: normal; white-space: pre;\">График относительного изменения кумулятивного среднего количества заказов на посетителя группы B к группе A</text></g><g class=\"g-xtitle\" transform=\"translate(0,-3.4093750000000114)\"><text class=\"xtitle\" x=\"377.5\" y=\"500.409375\" text-anchor=\"middle\" style=\"font-family: 'Open Sans', verdana, arial, sans-serif; font-size: 14px; fill: rgb(42, 63, 95); opacity: 1; font-weight: normal; white-space: pre;\">Даты</text></g><g class=\"g-ytitle\" transform=\"translate(14.2529296875,0)\"><text class=\"ytitle\" transform=\"rotate(-90,-0.25312499999999716,247)\" x=\"-0.25312499999999716\" y=\"247\" text-anchor=\"middle\" style=\"font-family: 'Open Sans', verdana, arial, sans-serif; font-size: 14px; fill: rgb(42, 63, 95); opacity: 1; font-weight: normal; white-space: pre;\">Относительное изменение</text></g></g></svg>"
      ]
     },
     "metadata": {},
     "output_type": "display_data"
    }
   ],
   "source": [
    "cumulative(merged_cumulative_conversion['date'],\n",
    "          (merged_cumulative_conversion['conversionB']/merged_cumulative_conversion['conversionA']-1),\n",
    "          axhline='two', \n",
    "          one_y=0,\n",
    "          two_y=0.15,\n",
    "          title_name='График относительного изменения кумулятивного среднего количества заказов на посетителя группы B к группе A',\n",
    "          y_name='Относительное изменение',\n",
    "          x_name='Даты')"
   ]
  },
  {
   "cell_type": "markdown",
   "metadata": {},
   "source": [
    "Не смотря на то, что первую неделю группа ``В`` несколько отставала по конверсии от группы ``А``, начиная с ``7-го августа`` значения стали выше и оставались примерно на уровне ``15%`` от группы ``А``. "
   ]
  },
  {
   "cell_type": "markdown",
   "metadata": {},
   "source": [
    "<a id=\"num76\"></a>\n",
    "### График количества заказов по пользователям"
   ]
  },
  {
   "cell_type": "markdown",
   "metadata": {},
   "source": [
    "Построим точечный график количества заказов по пользователям. "
   ]
  },
  {
   "cell_type": "code",
   "execution_count": 51,
   "metadata": {},
   "outputs": [],
   "source": [
    "orders_cumulative_data = orders_fixed.merge(\n",
    "    cumulative_data, left_on=['date', 'group'], right_on=['date', 'group'])\n",
    "\n",
    "orders_cumulative_data = (orders_cumulative_data\n",
    "                          .rename(columns={\n",
    "                              'transactionid': 'transactionid', \n",
    "                              'visitorid': 'visitorid', \n",
    "                              'date': 'date',\n",
    "                              'revenue_x': 'revenue_per_user',\n",
    "                              'group': 'group',\n",
    "                              'orders': 'orders_daily',\n",
    "                              'buyers': 'buyers_daily',\n",
    "                              'revenue_y': 'revenue_daily',\n",
    "                              'visitors':'visitors_daily'}))"
   ]
  },
  {
   "cell_type": "code",
   "execution_count": 52,
   "metadata": {},
   "outputs": [],
   "source": [
    "orders_count_fixed = (\n",
    "    orders_cumulative_data.groupby('visitorid', as_index=False)\n",
    "    .agg({'transactionid': 'nunique'}))\n",
    "\n",
    "orders_count_fixed.columns = ['visitorid', 'orders_count']"
   ]
  },
  {
   "cell_type": "code",
   "execution_count": 53,
   "metadata": {},
   "outputs": [
    {
     "data": {
      "image/svg+xml": [
       "<svg class=\"main-svg\" xmlns=\"http://www.w3.org/2000/svg\" xmlns:xlink=\"http://www.w3.org/1999/xlink\" width=\"840\" height=\"600\" style=\"\" viewBox=\"0 0 700 500\"><rect x=\"0\" y=\"0\" width=\"700\" height=\"500\" style=\"fill: rgb(255, 255, 255); fill-opacity: 1;\"/><defs id=\"defs-8cd41e\"><g class=\"clips\"><clipPath id=\"clip8cd41exyplot\" class=\"plotclip\"><rect width=\"655\" height=\"400\"/></clipPath><clipPath class=\"axesclip\" id=\"clip8cd41ex\"><rect x=\"45\" y=\"0\" width=\"655\" height=\"500\"/></clipPath><clipPath class=\"axesclip\" id=\"clip8cd41ey\"><rect x=\"0\" y=\"50\" width=\"700\" height=\"400\"/></clipPath><clipPath class=\"axesclip\" id=\"clip8cd41exy\"><rect x=\"45\" y=\"50\" width=\"655\" height=\"400\"/></clipPath></g><g class=\"gradients\"/><g class=\"patterns\"/></defs><g class=\"bglayer\"><rect class=\"bg\" x=\"45\" y=\"50\" width=\"655\" height=\"400\" style=\"fill: rgb(240, 248, 255); fill-opacity: 1; stroke-width: 0;\"/></g><g class=\"layer-below\"><g class=\"imagelayer\"/><g class=\"shapelayer\"/></g><g class=\"cartesianlayer\"><g class=\"subplot xy\"><g class=\"layer-subplot\"><g class=\"shapelayer\"/><g class=\"imagelayer\"/></g><g class=\"gridlayer\"><g class=\"x\"><path class=\"xgrid crisp\" transform=\"translate(201.25,0)\" d=\"M0,50v400\" style=\"stroke: rgb(255, 255, 255); stroke-opacity: 1; stroke-width: 1px;\"/><path class=\"xgrid crisp\" transform=\"translate(321.01,0)\" d=\"M0,50v400\" style=\"stroke: rgb(255, 255, 255); stroke-opacity: 1; stroke-width: 1px;\"/><path class=\"xgrid crisp\" transform=\"translate(440.76,0)\" d=\"M0,50v400\" style=\"stroke: rgb(255, 255, 255); stroke-opacity: 1; stroke-width: 1px;\"/><path class=\"xgrid crisp\" transform=\"translate(560.51,0)\" d=\"M0,50v400\" style=\"stroke: rgb(255, 255, 255); stroke-opacity: 1; stroke-width: 1px;\"/><path class=\"xgrid crisp\" transform=\"translate(680.27,0)\" d=\"M0,50v400\" style=\"stroke: rgb(255, 255, 255); stroke-opacity: 1; stroke-width: 1px;\"/></g><g class=\"y\"><path class=\"ygrid crisp\" transform=\"translate(0,426.25)\" d=\"M45,0h655\" style=\"stroke: rgb(255, 255, 255); stroke-opacity: 1; stroke-width: 1px;\"/><path class=\"ygrid crisp\" transform=\"translate(0,338.13)\" d=\"M45,0h655\" style=\"stroke: rgb(255, 255, 255); stroke-opacity: 1; stroke-width: 1px;\"/><path class=\"ygrid crisp\" transform=\"translate(0,250)\" d=\"M45,0h655\" style=\"stroke: rgb(255, 255, 255); stroke-opacity: 1; stroke-width: 1px;\"/><path class=\"ygrid crisp\" transform=\"translate(0,161.88)\" d=\"M45,0h655\" style=\"stroke: rgb(255, 255, 255); stroke-opacity: 1; stroke-width: 1px;\"/><path class=\"ygrid crisp\" transform=\"translate(0,73.75)\" d=\"M45,0h655\" style=\"stroke: rgb(255, 255, 255); stroke-opacity: 1; stroke-width: 1px;\"/></g></g><g class=\"zerolinelayer\"><path class=\"xzl zl crisp\" transform=\"translate(81.5,0)\" d=\"M0,50v400\" style=\"stroke: rgb(255, 255, 255); stroke-opacity: 1; stroke-width: 2px;\"/></g><path class=\"xlines-below\"/><path class=\"ylines-below\"/><g class=\"overlines-below\"/><g class=\"xaxislayer-below\"/><g class=\"yaxislayer-below\"/><g class=\"overaxes-below\"/><g class=\"plot\" transform=\"translate(45,50)\" clip-path=\"url(#clip8cd41exyplot)\"><g class=\"scatterlayer mlayer\"><g class=\"trace scatter trace73f7e9\" style=\"stroke-miterlimit: 2; opacity: 1;\"><g class=\"fills\"/><g class=\"errorbars\"/><g class=\"lines\"/><g class=\"points\"><path class=\"point\" transform=\"translate(36.5,376.25)\" d=\"M3,0A3,3 0 1,1 0,-3A3,3 0 0,1 3,0Z\" style=\"opacity: 1; stroke-width: 0px; fill: rgb(11, 109, 162); fill-opacity: 1;\"/><path class=\"point\" transform=\"translate(37.1,376.25)\" d=\"M3,0A3,3 0 1,1 0,-3A3,3 0 0,1 3,0Z\" style=\"opacity: 1; stroke-width: 0px; fill: rgb(11, 109, 162); fill-opacity: 1;\"/><path class=\"point\" transform=\"translate(37.7,376.25)\" d=\"M3,0A3,3 0 1,1 0,-3A3,3 0 0,1 3,0Z\" style=\"opacity: 1; stroke-width: 0px; fill: rgb(11, 109, 162); fill-opacity: 1;\"/><path class=\"point\" transform=\"translate(38.3,376.25)\" d=\"M3,0A3,3 0 1,1 0,-3A3,3 0 0,1 3,0Z\" style=\"opacity: 1; stroke-width: 0px; fill: rgb(11, 109, 162); fill-opacity: 1;\"/><path class=\"point\" transform=\"translate(38.9,376.25)\" d=\"M3,0A3,3 0 1,1 0,-3A3,3 0 0,1 3,0Z\" style=\"opacity: 1; stroke-width: 0px; fill: rgb(11, 109, 162); fill-opacity: 1;\"/><path class=\"point\" transform=\"translate(39.49,376.25)\" d=\"M3,0A3,3 0 1,1 0,-3A3,3 0 0,1 3,0Z\" style=\"opacity: 1; stroke-width: 0px; fill: rgb(11, 109, 162); fill-opacity: 1;\"/><path class=\"point\" transform=\"translate(40.09,376.25)\" d=\"M3,0A3,3 0 1,1 0,-3A3,3 0 0,1 3,0Z\" style=\"opacity: 1; stroke-width: 0px; fill: rgb(11, 109, 162); fill-opacity: 1;\"/><path class=\"point\" transform=\"translate(40.69,376.25)\" d=\"M3,0A3,3 0 1,1 0,-3A3,3 0 0,1 3,0Z\" style=\"opacity: 1; stroke-width: 0px; fill: rgb(11, 109, 162); fill-opacity: 1;\"/><path class=\"point\" transform=\"translate(41.29,376.25)\" d=\"M3,0A3,3 0 1,1 0,-3A3,3 0 0,1 3,0Z\" style=\"opacity: 1; stroke-width: 0px; fill: rgb(11, 109, 162); fill-opacity: 1;\"/><path class=\"point\" transform=\"translate(41.89,376.25)\" d=\"M3,0A3,3 0 1,1 0,-3A3,3 0 0,1 3,0Z\" style=\"opacity: 1; stroke-width: 0px; fill: rgb(11, 109, 162); fill-opacity: 1;\"/><path class=\"point\" transform=\"translate(42.49,376.25)\" d=\"M3,0A3,3 0 1,1 0,-3A3,3 0 0,1 3,0Z\" style=\"opacity: 1; stroke-width: 0px; fill: rgb(11, 109, 162); fill-opacity: 1;\"/><path class=\"point\" transform=\"translate(43.09,376.25)\" d=\"M3,0A3,3 0 1,1 0,-3A3,3 0 0,1 3,0Z\" style=\"opacity: 1; stroke-width: 0px; fill: rgb(11, 109, 162); fill-opacity: 1;\"/><path class=\"point\" transform=\"translate(43.69,376.25)\" d=\"M3,0A3,3 0 1,1 0,-3A3,3 0 0,1 3,0Z\" style=\"opacity: 1; stroke-width: 0px; fill: rgb(11, 109, 162); fill-opacity: 1;\"/><path class=\"point\" transform=\"translate(44.28,376.25)\" d=\"M3,0A3,3 0 1,1 0,-3A3,3 0 0,1 3,0Z\" style=\"opacity: 1; stroke-width: 0px; fill: rgb(11, 109, 162); fill-opacity: 1;\"/><path class=\"point\" transform=\"translate(44.88,376.25)\" d=\"M3,0A3,3 0 1,1 0,-3A3,3 0 0,1 3,0Z\" style=\"opacity: 1; stroke-width: 0px; fill: rgb(11, 109, 162); fill-opacity: 1;\"/><path class=\"point\" transform=\"translate(45.48,376.25)\" d=\"M3,0A3,3 0 1,1 0,-3A3,3 0 0,1 3,0Z\" style=\"opacity: 1; stroke-width: 0px; fill: rgb(11, 109, 162); fill-opacity: 1;\"/><path class=\"point\" transform=\"translate(46.08,376.25)\" d=\"M3,0A3,3 0 1,1 0,-3A3,3 0 0,1 3,0Z\" style=\"opacity: 1; stroke-width: 0px; fill: rgb(11, 109, 162); fill-opacity: 1;\"/><path class=\"point\" transform=\"translate(46.68,376.25)\" d=\"M3,0A3,3 0 1,1 0,-3A3,3 0 0,1 3,0Z\" style=\"opacity: 1; stroke-width: 0px; fill: rgb(11, 109, 162); fill-opacity: 1;\"/><path class=\"point\" transform=\"translate(47.28,376.25)\" d=\"M3,0A3,3 0 1,1 0,-3A3,3 0 0,1 3,0Z\" style=\"opacity: 1; stroke-width: 0px; fill: rgb(11, 109, 162); fill-opacity: 1;\"/><path class=\"point\" transform=\"translate(47.88,376.25)\" d=\"M3,0A3,3 0 1,1 0,-3A3,3 0 0,1 3,0Z\" style=\"opacity: 1; stroke-width: 0px; fill: rgb(11, 109, 162); fill-opacity: 1;\"/><path class=\"point\" transform=\"translate(48.48,376.25)\" d=\"M3,0A3,3 0 1,1 0,-3A3,3 0 0,1 3,0Z\" style=\"opacity: 1; stroke-width: 0px; fill: rgb(11, 109, 162); fill-opacity: 1;\"/><path class=\"point\" transform=\"translate(49.07,376.25)\" d=\"M3,0A3,3 0 1,1 0,-3A3,3 0 0,1 3,0Z\" style=\"opacity: 1; stroke-width: 0px; fill: rgb(11, 109, 162); fill-opacity: 1;\"/><path class=\"point\" transform=\"translate(49.67,376.25)\" d=\"M3,0A3,3 0 1,1 0,-3A3,3 0 0,1 3,0Z\" style=\"opacity: 1; stroke-width: 0px; fill: rgb(11, 109, 162); fill-opacity: 1;\"/><path class=\"point\" transform=\"translate(50.27,376.25)\" d=\"M3,0A3,3 0 1,1 0,-3A3,3 0 0,1 3,0Z\" style=\"opacity: 1; stroke-width: 0px; fill: rgb(11, 109, 162); fill-opacity: 1;\"/><path class=\"point\" transform=\"translate(50.87,376.25)\" d=\"M3,0A3,3 0 1,1 0,-3A3,3 0 0,1 3,0Z\" style=\"opacity: 1; stroke-width: 0px; fill: rgb(11, 109, 162); fill-opacity: 1;\"/><path class=\"point\" transform=\"translate(51.47,376.25)\" d=\"M3,0A3,3 0 1,1 0,-3A3,3 0 0,1 3,0Z\" style=\"opacity: 1; stroke-width: 0px; fill: rgb(11, 109, 162); fill-opacity: 1;\"/><path class=\"point\" transform=\"translate(52.07,376.25)\" d=\"M3,0A3,3 0 1,1 0,-3A3,3 0 0,1 3,0Z\" style=\"opacity: 1; stroke-width: 0px; fill: rgb(11, 109, 162); fill-opacity: 1;\"/><path class=\"point\" transform=\"translate(52.67,376.25)\" d=\"M3,0A3,3 0 1,1 0,-3A3,3 0 0,1 3,0Z\" style=\"opacity: 1; stroke-width: 0px; fill: rgb(11, 109, 162); fill-opacity: 1;\"/><path class=\"point\" transform=\"translate(53.27,376.25)\" d=\"M3,0A3,3 0 1,1 0,-3A3,3 0 0,1 3,0Z\" style=\"opacity: 1; stroke-width: 0px; fill: rgb(11, 109, 162); fill-opacity: 1;\"/><path class=\"point\" transform=\"translate(53.86,376.25)\" d=\"M3,0A3,3 0 1,1 0,-3A3,3 0 0,1 3,0Z\" style=\"opacity: 1; stroke-width: 0px; fill: rgb(11, 109, 162); fill-opacity: 1;\"/><path class=\"point\" transform=\"translate(54.46,376.25)\" d=\"M3,0A3,3 0 1,1 0,-3A3,3 0 0,1 3,0Z\" style=\"opacity: 1; stroke-width: 0px; fill: rgb(11, 109, 162); fill-opacity: 1;\"/><path class=\"point\" transform=\"translate(55.06,376.25)\" d=\"M3,0A3,3 0 1,1 0,-3A3,3 0 0,1 3,0Z\" style=\"opacity: 1; stroke-width: 0px; fill: rgb(11, 109, 162); fill-opacity: 1;\"/><path class=\"point\" transform=\"translate(55.66,376.25)\" d=\"M3,0A3,3 0 1,1 0,-3A3,3 0 0,1 3,0Z\" style=\"opacity: 1; stroke-width: 0px; fill: rgb(11, 109, 162); fill-opacity: 1;\"/><path class=\"point\" transform=\"translate(56.26,376.25)\" d=\"M3,0A3,3 0 1,1 0,-3A3,3 0 0,1 3,0Z\" style=\"opacity: 1; stroke-width: 0px; fill: rgb(11, 109, 162); fill-opacity: 1;\"/><path class=\"point\" transform=\"translate(56.86,376.25)\" d=\"M3,0A3,3 0 1,1 0,-3A3,3 0 0,1 3,0Z\" style=\"opacity: 1; stroke-width: 0px; fill: rgb(11, 109, 162); fill-opacity: 1;\"/><path class=\"point\" transform=\"translate(57.46,376.25)\" d=\"M3,0A3,3 0 1,1 0,-3A3,3 0 0,1 3,0Z\" style=\"opacity: 1; stroke-width: 0px; fill: rgb(11, 109, 162); fill-opacity: 1;\"/><path class=\"point\" transform=\"translate(58.06,376.25)\" d=\"M3,0A3,3 0 1,1 0,-3A3,3 0 0,1 3,0Z\" style=\"opacity: 1; stroke-width: 0px; fill: rgb(11, 109, 162); fill-opacity: 1;\"/><path class=\"point\" transform=\"translate(58.65,376.25)\" d=\"M3,0A3,3 0 1,1 0,-3A3,3 0 0,1 3,0Z\" style=\"opacity: 1; stroke-width: 0px; fill: rgb(11, 109, 162); fill-opacity: 1;\"/><path class=\"point\" transform=\"translate(59.25,376.25)\" d=\"M3,0A3,3 0 1,1 0,-3A3,3 0 0,1 3,0Z\" style=\"opacity: 1; stroke-width: 0px; fill: rgb(11, 109, 162); fill-opacity: 1;\"/><path class=\"point\" transform=\"translate(59.85,376.25)\" d=\"M3,0A3,3 0 1,1 0,-3A3,3 0 0,1 3,0Z\" style=\"opacity: 1; stroke-width: 0px; fill: rgb(11, 109, 162); fill-opacity: 1;\"/><path class=\"point\" transform=\"translate(60.45,376.25)\" d=\"M3,0A3,3 0 1,1 0,-3A3,3 0 0,1 3,0Z\" style=\"opacity: 1; stroke-width: 0px; fill: rgb(11, 109, 162); fill-opacity: 1;\"/><path class=\"point\" transform=\"translate(61.05,376.25)\" d=\"M3,0A3,3 0 1,1 0,-3A3,3 0 0,1 3,0Z\" style=\"opacity: 1; stroke-width: 0px; fill: rgb(11, 109, 162); fill-opacity: 1;\"/><path class=\"point\" transform=\"translate(61.65,376.25)\" d=\"M3,0A3,3 0 1,1 0,-3A3,3 0 0,1 3,0Z\" style=\"opacity: 1; stroke-width: 0px; fill: rgb(11, 109, 162); fill-opacity: 1;\"/><path class=\"point\" transform=\"translate(62.25,376.25)\" d=\"M3,0A3,3 0 1,1 0,-3A3,3 0 0,1 3,0Z\" style=\"opacity: 1; stroke-width: 0px; fill: rgb(11, 109, 162); fill-opacity: 1;\"/><path class=\"point\" transform=\"translate(62.85,376.25)\" d=\"M3,0A3,3 0 1,1 0,-3A3,3 0 0,1 3,0Z\" style=\"opacity: 1; stroke-width: 0px; fill: rgb(11, 109, 162); fill-opacity: 1;\"/><path class=\"point\" transform=\"translate(63.44,376.25)\" d=\"M3,0A3,3 0 1,1 0,-3A3,3 0 0,1 3,0Z\" style=\"opacity: 1; stroke-width: 0px; fill: rgb(11, 109, 162); fill-opacity: 1;\"/><path class=\"point\" transform=\"translate(64.04,376.25)\" d=\"M3,0A3,3 0 1,1 0,-3A3,3 0 0,1 3,0Z\" style=\"opacity: 1; stroke-width: 0px; fill: rgb(11, 109, 162); fill-opacity: 1;\"/><path class=\"point\" transform=\"translate(64.64,376.25)\" d=\"M3,0A3,3 0 1,1 0,-3A3,3 0 0,1 3,0Z\" style=\"opacity: 1; stroke-width: 0px; fill: rgb(11, 109, 162); fill-opacity: 1;\"/><path class=\"point\" transform=\"translate(65.24,376.25)\" d=\"M3,0A3,3 0 1,1 0,-3A3,3 0 0,1 3,0Z\" style=\"opacity: 1; stroke-width: 0px; fill: rgb(11, 109, 162); fill-opacity: 1;\"/><path class=\"point\" transform=\"translate(65.84,376.25)\" d=\"M3,0A3,3 0 1,1 0,-3A3,3 0 0,1 3,0Z\" style=\"opacity: 1; stroke-width: 0px; fill: rgb(11, 109, 162); fill-opacity: 1;\"/><path class=\"point\" transform=\"translate(66.44,376.25)\" d=\"M3,0A3,3 0 1,1 0,-3A3,3 0 0,1 3,0Z\" style=\"opacity: 1; stroke-width: 0px; fill: rgb(11, 109, 162); fill-opacity: 1;\"/><path class=\"point\" transform=\"translate(67.04,376.25)\" d=\"M3,0A3,3 0 1,1 0,-3A3,3 0 0,1 3,0Z\" style=\"opacity: 1; stroke-width: 0px; fill: rgb(11, 109, 162); fill-opacity: 1;\"/><path class=\"point\" transform=\"translate(67.64,376.25)\" d=\"M3,0A3,3 0 1,1 0,-3A3,3 0 0,1 3,0Z\" style=\"opacity: 1; stroke-width: 0px; fill: rgb(11, 109, 162); fill-opacity: 1;\"/><path class=\"point\" transform=\"translate(68.23,376.25)\" d=\"M3,0A3,3 0 1,1 0,-3A3,3 0 0,1 3,0Z\" style=\"opacity: 1; stroke-width: 0px; fill: rgb(11, 109, 162); fill-opacity: 1;\"/><path class=\"point\" transform=\"translate(68.83,376.25)\" d=\"M3,0A3,3 0 1,1 0,-3A3,3 0 0,1 3,0Z\" style=\"opacity: 1; stroke-width: 0px; fill: rgb(11, 109, 162); fill-opacity: 1;\"/><path class=\"point\" transform=\"translate(69.43,23.75)\" d=\"M3,0A3,3 0 1,1 0,-3A3,3 0 0,1 3,0Z\" style=\"opacity: 1; stroke-width: 0px; fill: rgb(11, 109, 162); fill-opacity: 1;\"/><path class=\"point\" transform=\"translate(70.03,376.25)\" d=\"M3,0A3,3 0 1,1 0,-3A3,3 0 0,1 3,0Z\" style=\"opacity: 1; stroke-width: 0px; fill: rgb(11, 109, 162); fill-opacity: 1;\"/><path class=\"point\" transform=\"translate(70.63,376.25)\" d=\"M3,0A3,3 0 1,1 0,-3A3,3 0 0,1 3,0Z\" style=\"opacity: 1; stroke-width: 0px; fill: rgb(11, 109, 162); fill-opacity: 1;\"/><path class=\"point\" transform=\"translate(71.23,376.25)\" d=\"M3,0A3,3 0 1,1 0,-3A3,3 0 0,1 3,0Z\" style=\"opacity: 1; stroke-width: 0px; fill: rgb(11, 109, 162); fill-opacity: 1;\"/><path class=\"point\" transform=\"translate(71.83,376.25)\" d=\"M3,0A3,3 0 1,1 0,-3A3,3 0 0,1 3,0Z\" style=\"opacity: 1; stroke-width: 0px; fill: rgb(11, 109, 162); fill-opacity: 1;\"/><path class=\"point\" transform=\"translate(72.43,376.25)\" d=\"M3,0A3,3 0 1,1 0,-3A3,3 0 0,1 3,0Z\" style=\"opacity: 1; stroke-width: 0px; fill: rgb(11, 109, 162); fill-opacity: 1;\"/><path class=\"point\" transform=\"translate(73.02,376.25)\" d=\"M3,0A3,3 0 1,1 0,-3A3,3 0 0,1 3,0Z\" style=\"opacity: 1; stroke-width: 0px; fill: rgb(11, 109, 162); fill-opacity: 1;\"/><path class=\"point\" transform=\"translate(73.62,376.25)\" d=\"M3,0A3,3 0 1,1 0,-3A3,3 0 0,1 3,0Z\" style=\"opacity: 1; stroke-width: 0px; fill: rgb(11, 109, 162); fill-opacity: 1;\"/><path class=\"point\" transform=\"translate(74.22,376.25)\" d=\"M3,0A3,3 0 1,1 0,-3A3,3 0 0,1 3,0Z\" style=\"opacity: 1; stroke-width: 0px; fill: rgb(11, 109, 162); fill-opacity: 1;\"/><path class=\"point\" transform=\"translate(74.82,376.25)\" d=\"M3,0A3,3 0 1,1 0,-3A3,3 0 0,1 3,0Z\" style=\"opacity: 1; stroke-width: 0px; fill: rgb(11, 109, 162); fill-opacity: 1;\"/><path class=\"point\" transform=\"translate(75.42,376.25)\" d=\"M3,0A3,3 0 1,1 0,-3A3,3 0 0,1 3,0Z\" style=\"opacity: 1; stroke-width: 0px; fill: rgb(11, 109, 162); fill-opacity: 1;\"/><path class=\"point\" transform=\"translate(76.02,376.25)\" d=\"M3,0A3,3 0 1,1 0,-3A3,3 0 0,1 3,0Z\" style=\"opacity: 1; stroke-width: 0px; fill: rgb(11, 109, 162); fill-opacity: 1;\"/><path class=\"point\" transform=\"translate(76.62,376.25)\" d=\"M3,0A3,3 0 1,1 0,-3A3,3 0 0,1 3,0Z\" style=\"opacity: 1; stroke-width: 0px; fill: rgb(11, 109, 162); fill-opacity: 1;\"/><path class=\"point\" transform=\"translate(77.22,376.25)\" d=\"M3,0A3,3 0 1,1 0,-3A3,3 0 0,1 3,0Z\" style=\"opacity: 1; stroke-width: 0px; fill: rgb(11, 109, 162); fill-opacity: 1;\"/><path class=\"point\" transform=\"translate(77.81,376.25)\" d=\"M3,0A3,3 0 1,1 0,-3A3,3 0 0,1 3,0Z\" style=\"opacity: 1; stroke-width: 0px; fill: rgb(11, 109, 162); fill-opacity: 1;\"/><path class=\"point\" transform=\"translate(78.41,376.25)\" d=\"M3,0A3,3 0 1,1 0,-3A3,3 0 0,1 3,0Z\" style=\"opacity: 1; stroke-width: 0px; fill: rgb(11, 109, 162); fill-opacity: 1;\"/><path class=\"point\" transform=\"translate(79.01,376.25)\" d=\"M3,0A3,3 0 1,1 0,-3A3,3 0 0,1 3,0Z\" style=\"opacity: 1; stroke-width: 0px; fill: rgb(11, 109, 162); fill-opacity: 1;\"/><path class=\"point\" transform=\"translate(79.61,376.25)\" d=\"M3,0A3,3 0 1,1 0,-3A3,3 0 0,1 3,0Z\" style=\"opacity: 1; stroke-width: 0px; fill: rgb(11, 109, 162); fill-opacity: 1;\"/><path class=\"point\" transform=\"translate(80.21,376.25)\" d=\"M3,0A3,3 0 1,1 0,-3A3,3 0 0,1 3,0Z\" style=\"opacity: 1; stroke-width: 0px; fill: rgb(11, 109, 162); fill-opacity: 1;\"/><path class=\"point\" transform=\"translate(80.81,376.25)\" d=\"M3,0A3,3 0 1,1 0,-3A3,3 0 0,1 3,0Z\" style=\"opacity: 1; stroke-width: 0px; fill: rgb(11, 109, 162); fill-opacity: 1;\"/><path class=\"point\" transform=\"translate(81.41,376.25)\" d=\"M3,0A3,3 0 1,1 0,-3A3,3 0 0,1 3,0Z\" style=\"opacity: 1; stroke-width: 0px; fill: rgb(11, 109, 162); fill-opacity: 1;\"/><path class=\"point\" transform=\"translate(82.01,376.25)\" d=\"M3,0A3,3 0 1,1 0,-3A3,3 0 0,1 3,0Z\" style=\"opacity: 1; stroke-width: 0px; fill: rgb(11, 109, 162); fill-opacity: 1;\"/><path class=\"point\" transform=\"translate(82.6,376.25)\" d=\"M3,0A3,3 0 1,1 0,-3A3,3 0 0,1 3,0Z\" style=\"opacity: 1; stroke-width: 0px; fill: rgb(11, 109, 162); fill-opacity: 1;\"/><path class=\"point\" transform=\"translate(83.2,376.25)\" d=\"M3,0A3,3 0 1,1 0,-3A3,3 0 0,1 3,0Z\" style=\"opacity: 1; stroke-width: 0px; fill: rgb(11, 109, 162); fill-opacity: 1;\"/><path class=\"point\" transform=\"translate(83.8,376.25)\" d=\"M3,0A3,3 0 1,1 0,-3A3,3 0 0,1 3,0Z\" style=\"opacity: 1; stroke-width: 0px; fill: rgb(11, 109, 162); fill-opacity: 1;\"/><path class=\"point\" transform=\"translate(84.4,376.25)\" d=\"M3,0A3,3 0 1,1 0,-3A3,3 0 0,1 3,0Z\" style=\"opacity: 1; stroke-width: 0px; fill: rgb(11, 109, 162); fill-opacity: 1;\"/><path class=\"point\" transform=\"translate(85,376.25)\" d=\"M3,0A3,3 0 1,1 0,-3A3,3 0 0,1 3,0Z\" style=\"opacity: 1; stroke-width: 0px; fill: rgb(11, 109, 162); fill-opacity: 1;\"/><path class=\"point\" transform=\"translate(85.6,200)\" d=\"M3,0A3,3 0 1,1 0,-3A3,3 0 0,1 3,0Z\" style=\"opacity: 1; stroke-width: 0px; fill: rgb(11, 109, 162); fill-opacity: 1;\"/><path class=\"point\" transform=\"translate(86.2,376.25)\" d=\"M3,0A3,3 0 1,1 0,-3A3,3 0 0,1 3,0Z\" style=\"opacity: 1; stroke-width: 0px; fill: rgb(11, 109, 162); fill-opacity: 1;\"/><path class=\"point\" transform=\"translate(86.8,376.25)\" d=\"M3,0A3,3 0 1,1 0,-3A3,3 0 0,1 3,0Z\" style=\"opacity: 1; stroke-width: 0px; fill: rgb(11, 109, 162); fill-opacity: 1;\"/><path class=\"point\" transform=\"translate(87.4,376.25)\" d=\"M3,0A3,3 0 1,1 0,-3A3,3 0 0,1 3,0Z\" style=\"opacity: 1; stroke-width: 0px; fill: rgb(11, 109, 162); fill-opacity: 1;\"/><path class=\"point\" transform=\"translate(87.99,376.25)\" d=\"M3,0A3,3 0 1,1 0,-3A3,3 0 0,1 3,0Z\" style=\"opacity: 1; stroke-width: 0px; fill: rgb(11, 109, 162); fill-opacity: 1;\"/><path class=\"point\" transform=\"translate(88.59,376.25)\" d=\"M3,0A3,3 0 1,1 0,-3A3,3 0 0,1 3,0Z\" style=\"opacity: 1; stroke-width: 0px; fill: rgb(11, 109, 162); fill-opacity: 1;\"/><path class=\"point\" transform=\"translate(89.19,376.25)\" d=\"M3,0A3,3 0 1,1 0,-3A3,3 0 0,1 3,0Z\" style=\"opacity: 1; stroke-width: 0px; fill: rgb(11, 109, 162); fill-opacity: 1;\"/><path class=\"point\" transform=\"translate(89.79,376.25)\" d=\"M3,0A3,3 0 1,1 0,-3A3,3 0 0,1 3,0Z\" style=\"opacity: 1; stroke-width: 0px; fill: rgb(11, 109, 162); fill-opacity: 1;\"/><path class=\"point\" transform=\"translate(90.39,376.25)\" d=\"M3,0A3,3 0 1,1 0,-3A3,3 0 0,1 3,0Z\" style=\"opacity: 1; stroke-width: 0px; fill: rgb(11, 109, 162); fill-opacity: 1;\"/><path class=\"point\" transform=\"translate(90.99,376.25)\" d=\"M3,0A3,3 0 1,1 0,-3A3,3 0 0,1 3,0Z\" style=\"opacity: 1; stroke-width: 0px; fill: rgb(11, 109, 162); fill-opacity: 1;\"/><path class=\"point\" transform=\"translate(91.59,376.25)\" d=\"M3,0A3,3 0 1,1 0,-3A3,3 0 0,1 3,0Z\" style=\"opacity: 1; stroke-width: 0px; fill: rgb(11, 109, 162); fill-opacity: 1;\"/><path class=\"point\" transform=\"translate(92.19,376.25)\" d=\"M3,0A3,3 0 1,1 0,-3A3,3 0 0,1 3,0Z\" style=\"opacity: 1; stroke-width: 0px; fill: rgb(11, 109, 162); fill-opacity: 1;\"/><path class=\"point\" transform=\"translate(92.78,200)\" d=\"M3,0A3,3 0 1,1 0,-3A3,3 0 0,1 3,0Z\" style=\"opacity: 1; stroke-width: 0px; fill: rgb(11, 109, 162); fill-opacity: 1;\"/><path class=\"point\" transform=\"translate(93.38,376.25)\" d=\"M3,0A3,3 0 1,1 0,-3A3,3 0 0,1 3,0Z\" style=\"opacity: 1; stroke-width: 0px; fill: rgb(11, 109, 162); fill-opacity: 1;\"/><path class=\"point\" transform=\"translate(93.98,376.25)\" d=\"M3,0A3,3 0 1,1 0,-3A3,3 0 0,1 3,0Z\" style=\"opacity: 1; stroke-width: 0px; fill: rgb(11, 109, 162); fill-opacity: 1;\"/><path class=\"point\" transform=\"translate(94.58,376.25)\" d=\"M3,0A3,3 0 1,1 0,-3A3,3 0 0,1 3,0Z\" style=\"opacity: 1; stroke-width: 0px; fill: rgb(11, 109, 162); fill-opacity: 1;\"/><path class=\"point\" transform=\"translate(95.18,376.25)\" d=\"M3,0A3,3 0 1,1 0,-3A3,3 0 0,1 3,0Z\" style=\"opacity: 1; stroke-width: 0px; fill: rgb(11, 109, 162); fill-opacity: 1;\"/><path class=\"point\" transform=\"translate(95.78,376.25)\" d=\"M3,0A3,3 0 1,1 0,-3A3,3 0 0,1 3,0Z\" style=\"opacity: 1; stroke-width: 0px; fill: rgb(11, 109, 162); fill-opacity: 1;\"/><path class=\"point\" transform=\"translate(96.38,376.25)\" d=\"M3,0A3,3 0 1,1 0,-3A3,3 0 0,1 3,0Z\" style=\"opacity: 1; stroke-width: 0px; fill: rgb(11, 109, 162); fill-opacity: 1;\"/><path class=\"point\" transform=\"translate(96.98,376.25)\" d=\"M3,0A3,3 0 1,1 0,-3A3,3 0 0,1 3,0Z\" style=\"opacity: 1; stroke-width: 0px; fill: rgb(11, 109, 162); fill-opacity: 1;\"/><path class=\"point\" transform=\"translate(97.57,376.25)\" d=\"M3,0A3,3 0 1,1 0,-3A3,3 0 0,1 3,0Z\" style=\"opacity: 1; stroke-width: 0px; fill: rgb(11, 109, 162); fill-opacity: 1;\"/><path class=\"point\" transform=\"translate(98.17,376.25)\" d=\"M3,0A3,3 0 1,1 0,-3A3,3 0 0,1 3,0Z\" style=\"opacity: 1; stroke-width: 0px; fill: rgb(11, 109, 162); fill-opacity: 1;\"/><path class=\"point\" transform=\"translate(98.77,376.25)\" d=\"M3,0A3,3 0 1,1 0,-3A3,3 0 0,1 3,0Z\" style=\"opacity: 1; stroke-width: 0px; fill: rgb(11, 109, 162); fill-opacity: 1;\"/><path class=\"point\" transform=\"translate(99.37,376.25)\" d=\"M3,0A3,3 0 1,1 0,-3A3,3 0 0,1 3,0Z\" style=\"opacity: 1; stroke-width: 0px; fill: rgb(11, 109, 162); fill-opacity: 1;\"/><path class=\"point\" transform=\"translate(99.97,376.25)\" d=\"M3,0A3,3 0 1,1 0,-3A3,3 0 0,1 3,0Z\" style=\"opacity: 1; stroke-width: 0px; fill: rgb(11, 109, 162); fill-opacity: 1;\"/><path class=\"point\" transform=\"translate(100.57,376.25)\" d=\"M3,0A3,3 0 1,1 0,-3A3,3 0 0,1 3,0Z\" style=\"opacity: 1; stroke-width: 0px; fill: rgb(11, 109, 162); fill-opacity: 1;\"/><path class=\"point\" transform=\"translate(101.17,376.25)\" d=\"M3,0A3,3 0 1,1 0,-3A3,3 0 0,1 3,0Z\" style=\"opacity: 1; stroke-width: 0px; fill: rgb(11, 109, 162); fill-opacity: 1;\"/><path class=\"point\" transform=\"translate(101.77,376.25)\" d=\"M3,0A3,3 0 1,1 0,-3A3,3 0 0,1 3,0Z\" style=\"opacity: 1; stroke-width: 0px; fill: rgb(11, 109, 162); fill-opacity: 1;\"/><path class=\"point\" transform=\"translate(102.36,376.25)\" d=\"M3,0A3,3 0 1,1 0,-3A3,3 0 0,1 3,0Z\" style=\"opacity: 1; stroke-width: 0px; fill: rgb(11, 109, 162); fill-opacity: 1;\"/><path class=\"point\" transform=\"translate(102.96,376.25)\" d=\"M3,0A3,3 0 1,1 0,-3A3,3 0 0,1 3,0Z\" style=\"opacity: 1; stroke-width: 0px; fill: rgb(11, 109, 162); fill-opacity: 1;\"/><path class=\"point\" transform=\"translate(103.56,376.25)\" d=\"M3,0A3,3 0 1,1 0,-3A3,3 0 0,1 3,0Z\" style=\"opacity: 1; stroke-width: 0px; fill: rgb(11, 109, 162); fill-opacity: 1;\"/><path class=\"point\" transform=\"translate(104.16,376.25)\" d=\"M3,0A3,3 0 1,1 0,-3A3,3 0 0,1 3,0Z\" style=\"opacity: 1; stroke-width: 0px; fill: rgb(11, 109, 162); fill-opacity: 1;\"/><path class=\"point\" transform=\"translate(104.76,376.25)\" d=\"M3,0A3,3 0 1,1 0,-3A3,3 0 0,1 3,0Z\" style=\"opacity: 1; stroke-width: 0px; fill: rgb(11, 109, 162); fill-opacity: 1;\"/><path class=\"point\" transform=\"translate(105.36,376.25)\" d=\"M3,0A3,3 0 1,1 0,-3A3,3 0 0,1 3,0Z\" style=\"opacity: 1; stroke-width: 0px; fill: rgb(11, 109, 162); fill-opacity: 1;\"/><path class=\"point\" transform=\"translate(105.96,376.25)\" d=\"M3,0A3,3 0 1,1 0,-3A3,3 0 0,1 3,0Z\" style=\"opacity: 1; stroke-width: 0px; fill: rgb(11, 109, 162); fill-opacity: 1;\"/><path class=\"point\" transform=\"translate(106.56,376.25)\" d=\"M3,0A3,3 0 1,1 0,-3A3,3 0 0,1 3,0Z\" style=\"opacity: 1; stroke-width: 0px; fill: rgb(11, 109, 162); fill-opacity: 1;\"/><path class=\"point\" transform=\"translate(107.15,200)\" d=\"M3,0A3,3 0 1,1 0,-3A3,3 0 0,1 3,0Z\" style=\"opacity: 1; stroke-width: 0px; fill: rgb(11, 109, 162); fill-opacity: 1;\"/><path class=\"point\" transform=\"translate(107.75,376.25)\" d=\"M3,0A3,3 0 1,1 0,-3A3,3 0 0,1 3,0Z\" style=\"opacity: 1; stroke-width: 0px; fill: rgb(11, 109, 162); fill-opacity: 1;\"/><path class=\"point\" transform=\"translate(108.35,376.25)\" d=\"M3,0A3,3 0 1,1 0,-3A3,3 0 0,1 3,0Z\" style=\"opacity: 1; stroke-width: 0px; fill: rgb(11, 109, 162); fill-opacity: 1;\"/><path class=\"point\" transform=\"translate(108.95,376.25)\" d=\"M3,0A3,3 0 1,1 0,-3A3,3 0 0,1 3,0Z\" style=\"opacity: 1; stroke-width: 0px; fill: rgb(11, 109, 162); fill-opacity: 1;\"/><path class=\"point\" transform=\"translate(109.55,376.25)\" d=\"M3,0A3,3 0 1,1 0,-3A3,3 0 0,1 3,0Z\" style=\"opacity: 1; stroke-width: 0px; fill: rgb(11, 109, 162); fill-opacity: 1;\"/><path class=\"point\" transform=\"translate(110.15,376.25)\" d=\"M3,0A3,3 0 1,1 0,-3A3,3 0 0,1 3,0Z\" style=\"opacity: 1; stroke-width: 0px; fill: rgb(11, 109, 162); fill-opacity: 1;\"/><path class=\"point\" transform=\"translate(110.75,376.25)\" d=\"M3,0A3,3 0 1,1 0,-3A3,3 0 0,1 3,0Z\" style=\"opacity: 1; stroke-width: 0px; fill: rgb(11, 109, 162); fill-opacity: 1;\"/><path class=\"point\" transform=\"translate(111.35,376.25)\" d=\"M3,0A3,3 0 1,1 0,-3A3,3 0 0,1 3,0Z\" style=\"opacity: 1; stroke-width: 0px; fill: rgb(11, 109, 162); fill-opacity: 1;\"/><path class=\"point\" transform=\"translate(111.94,376.25)\" d=\"M3,0A3,3 0 1,1 0,-3A3,3 0 0,1 3,0Z\" style=\"opacity: 1; stroke-width: 0px; fill: rgb(11, 109, 162); fill-opacity: 1;\"/><path class=\"point\" transform=\"translate(112.54,376.25)\" d=\"M3,0A3,3 0 1,1 0,-3A3,3 0 0,1 3,0Z\" style=\"opacity: 1; stroke-width: 0px; fill: rgb(11, 109, 162); fill-opacity: 1;\"/><path class=\"point\" transform=\"translate(113.14,376.25)\" d=\"M3,0A3,3 0 1,1 0,-3A3,3 0 0,1 3,0Z\" style=\"opacity: 1; stroke-width: 0px; fill: rgb(11, 109, 162); fill-opacity: 1;\"/><path class=\"point\" transform=\"translate(113.74,376.25)\" d=\"M3,0A3,3 0 1,1 0,-3A3,3 0 0,1 3,0Z\" style=\"opacity: 1; stroke-width: 0px; fill: rgb(11, 109, 162); fill-opacity: 1;\"/><path class=\"point\" transform=\"translate(114.34,376.25)\" d=\"M3,0A3,3 0 1,1 0,-3A3,3 0 0,1 3,0Z\" style=\"opacity: 1; stroke-width: 0px; fill: rgb(11, 109, 162); fill-opacity: 1;\"/><path class=\"point\" transform=\"translate(114.94,376.25)\" d=\"M3,0A3,3 0 1,1 0,-3A3,3 0 0,1 3,0Z\" style=\"opacity: 1; stroke-width: 0px; fill: rgb(11, 109, 162); fill-opacity: 1;\"/><path class=\"point\" transform=\"translate(115.54,376.25)\" d=\"M3,0A3,3 0 1,1 0,-3A3,3 0 0,1 3,0Z\" style=\"opacity: 1; stroke-width: 0px; fill: rgb(11, 109, 162); fill-opacity: 1;\"/><path class=\"point\" transform=\"translate(116.14,376.25)\" d=\"M3,0A3,3 0 1,1 0,-3A3,3 0 0,1 3,0Z\" style=\"opacity: 1; stroke-width: 0px; fill: rgb(11, 109, 162); fill-opacity: 1;\"/><path class=\"point\" transform=\"translate(116.73,376.25)\" d=\"M3,0A3,3 0 1,1 0,-3A3,3 0 0,1 3,0Z\" style=\"opacity: 1; stroke-width: 0px; fill: rgb(11, 109, 162); fill-opacity: 1;\"/><path class=\"point\" transform=\"translate(117.33,376.25)\" d=\"M3,0A3,3 0 1,1 0,-3A3,3 0 0,1 3,0Z\" style=\"opacity: 1; stroke-width: 0px; fill: rgb(11, 109, 162); fill-opacity: 1;\"/><path class=\"point\" transform=\"translate(117.93,376.25)\" d=\"M3,0A3,3 0 1,1 0,-3A3,3 0 0,1 3,0Z\" style=\"opacity: 1; stroke-width: 0px; fill: rgb(11, 109, 162); fill-opacity: 1;\"/><path class=\"point\" transform=\"translate(118.53,376.25)\" d=\"M3,0A3,3 0 1,1 0,-3A3,3 0 0,1 3,0Z\" style=\"opacity: 1; stroke-width: 0px; fill: rgb(11, 109, 162); fill-opacity: 1;\"/><path class=\"point\" transform=\"translate(119.13,23.75)\" d=\"M3,0A3,3 0 1,1 0,-3A3,3 0 0,1 3,0Z\" style=\"opacity: 1; stroke-width: 0px; fill: rgb(11, 109, 162); fill-opacity: 1;\"/><path class=\"point\" transform=\"translate(119.73,376.25)\" d=\"M3,0A3,3 0 1,1 0,-3A3,3 0 0,1 3,0Z\" style=\"opacity: 1; stroke-width: 0px; fill: rgb(11, 109, 162); fill-opacity: 1;\"/><path class=\"point\" transform=\"translate(120.33,376.25)\" d=\"M3,0A3,3 0 1,1 0,-3A3,3 0 0,1 3,0Z\" style=\"opacity: 1; stroke-width: 0px; fill: rgb(11, 109, 162); fill-opacity: 1;\"/><path class=\"point\" transform=\"translate(120.93,376.25)\" d=\"M3,0A3,3 0 1,1 0,-3A3,3 0 0,1 3,0Z\" style=\"opacity: 1; stroke-width: 0px; fill: rgb(11, 109, 162); fill-opacity: 1;\"/><path class=\"point\" transform=\"translate(121.52,376.25)\" d=\"M3,0A3,3 0 1,1 0,-3A3,3 0 0,1 3,0Z\" style=\"opacity: 1; stroke-width: 0px; fill: rgb(11, 109, 162); fill-opacity: 1;\"/><path class=\"point\" transform=\"translate(122.12,376.25)\" d=\"M3,0A3,3 0 1,1 0,-3A3,3 0 0,1 3,0Z\" style=\"opacity: 1; stroke-width: 0px; fill: rgb(11, 109, 162); fill-opacity: 1;\"/><path class=\"point\" transform=\"translate(122.72,376.25)\" d=\"M3,0A3,3 0 1,1 0,-3A3,3 0 0,1 3,0Z\" style=\"opacity: 1; stroke-width: 0px; fill: rgb(11, 109, 162); fill-opacity: 1;\"/><path class=\"point\" transform=\"translate(123.32,376.25)\" d=\"M3,0A3,3 0 1,1 0,-3A3,3 0 0,1 3,0Z\" style=\"opacity: 1; stroke-width: 0px; fill: rgb(11, 109, 162); fill-opacity: 1;\"/><path class=\"point\" transform=\"translate(123.92,376.25)\" d=\"M3,0A3,3 0 1,1 0,-3A3,3 0 0,1 3,0Z\" style=\"opacity: 1; stroke-width: 0px; fill: rgb(11, 109, 162); fill-opacity: 1;\"/><path class=\"point\" transform=\"translate(124.52,376.25)\" d=\"M3,0A3,3 0 1,1 0,-3A3,3 0 0,1 3,0Z\" style=\"opacity: 1; stroke-width: 0px; fill: rgb(11, 109, 162); fill-opacity: 1;\"/><path class=\"point\" transform=\"translate(125.12,376.25)\" d=\"M3,0A3,3 0 1,1 0,-3A3,3 0 0,1 3,0Z\" style=\"opacity: 1; stroke-width: 0px; fill: rgb(11, 109, 162); fill-opacity: 1;\"/><path class=\"point\" transform=\"translate(125.72,376.25)\" d=\"M3,0A3,3 0 1,1 0,-3A3,3 0 0,1 3,0Z\" style=\"opacity: 1; stroke-width: 0px; fill: rgb(11, 109, 162); fill-opacity: 1;\"/><path class=\"point\" transform=\"translate(126.31,376.25)\" d=\"M3,0A3,3 0 1,1 0,-3A3,3 0 0,1 3,0Z\" style=\"opacity: 1; stroke-width: 0px; fill: rgb(11, 109, 162); fill-opacity: 1;\"/><path class=\"point\" transform=\"translate(126.91,376.25)\" d=\"M3,0A3,3 0 1,1 0,-3A3,3 0 0,1 3,0Z\" style=\"opacity: 1; stroke-width: 0px; fill: rgb(11, 109, 162); fill-opacity: 1;\"/><path class=\"point\" transform=\"translate(127.51,376.25)\" d=\"M3,0A3,3 0 1,1 0,-3A3,3 0 0,1 3,0Z\" style=\"opacity: 1; stroke-width: 0px; fill: rgb(11, 109, 162); fill-opacity: 1;\"/><path class=\"point\" transform=\"translate(128.11,376.25)\" d=\"M3,0A3,3 0 1,1 0,-3A3,3 0 0,1 3,0Z\" style=\"opacity: 1; stroke-width: 0px; fill: rgb(11, 109, 162); fill-opacity: 1;\"/><path class=\"point\" transform=\"translate(128.71,376.25)\" d=\"M3,0A3,3 0 1,1 0,-3A3,3 0 0,1 3,0Z\" style=\"opacity: 1; stroke-width: 0px; fill: rgb(11, 109, 162); fill-opacity: 1;\"/><path class=\"point\" transform=\"translate(129.31,376.25)\" d=\"M3,0A3,3 0 1,1 0,-3A3,3 0 0,1 3,0Z\" style=\"opacity: 1; stroke-width: 0px; fill: rgb(11, 109, 162); fill-opacity: 1;\"/><path class=\"point\" transform=\"translate(129.91,376.25)\" d=\"M3,0A3,3 0 1,1 0,-3A3,3 0 0,1 3,0Z\" style=\"opacity: 1; stroke-width: 0px; fill: rgb(11, 109, 162); fill-opacity: 1;\"/><path class=\"point\" transform=\"translate(130.51,200)\" d=\"M3,0A3,3 0 1,1 0,-3A3,3 0 0,1 3,0Z\" style=\"opacity: 1; stroke-width: 0px; fill: rgb(11, 109, 162); fill-opacity: 1;\"/><path class=\"point\" transform=\"translate(131.1,376.25)\" d=\"M3,0A3,3 0 1,1 0,-3A3,3 0 0,1 3,0Z\" style=\"opacity: 1; stroke-width: 0px; fill: rgb(11, 109, 162); fill-opacity: 1;\"/><path class=\"point\" transform=\"translate(131.7,376.25)\" d=\"M3,0A3,3 0 1,1 0,-3A3,3 0 0,1 3,0Z\" style=\"opacity: 1; stroke-width: 0px; fill: rgb(11, 109, 162); fill-opacity: 1;\"/><path class=\"point\" transform=\"translate(132.3,376.25)\" d=\"M3,0A3,3 0 1,1 0,-3A3,3 0 0,1 3,0Z\" style=\"opacity: 1; stroke-width: 0px; fill: rgb(11, 109, 162); fill-opacity: 1;\"/><path class=\"point\" transform=\"translate(132.9,376.25)\" d=\"M3,0A3,3 0 1,1 0,-3A3,3 0 0,1 3,0Z\" style=\"opacity: 1; stroke-width: 0px; fill: rgb(11, 109, 162); fill-opacity: 1;\"/><path class=\"point\" transform=\"translate(133.5,376.25)\" d=\"M3,0A3,3 0 1,1 0,-3A3,3 0 0,1 3,0Z\" style=\"opacity: 1; stroke-width: 0px; fill: rgb(11, 109, 162); fill-opacity: 1;\"/><path class=\"point\" transform=\"translate(134.1,376.25)\" d=\"M3,0A3,3 0 1,1 0,-3A3,3 0 0,1 3,0Z\" style=\"opacity: 1; stroke-width: 0px; fill: rgb(11, 109, 162); fill-opacity: 1;\"/><path class=\"point\" transform=\"translate(134.7,376.25)\" d=\"M3,0A3,3 0 1,1 0,-3A3,3 0 0,1 3,0Z\" style=\"opacity: 1; stroke-width: 0px; fill: rgb(11, 109, 162); fill-opacity: 1;\"/><path class=\"point\" transform=\"translate(135.3,376.25)\" d=\"M3,0A3,3 0 1,1 0,-3A3,3 0 0,1 3,0Z\" style=\"opacity: 1; stroke-width: 0px; fill: rgb(11, 109, 162); fill-opacity: 1;\"/><path class=\"point\" transform=\"translate(135.9,376.25)\" d=\"M3,0A3,3 0 1,1 0,-3A3,3 0 0,1 3,0Z\" style=\"opacity: 1; stroke-width: 0px; fill: rgb(11, 109, 162); fill-opacity: 1;\"/><path class=\"point\" transform=\"translate(136.49,376.25)\" d=\"M3,0A3,3 0 1,1 0,-3A3,3 0 0,1 3,0Z\" style=\"opacity: 1; stroke-width: 0px; fill: rgb(11, 109, 162); fill-opacity: 1;\"/><path class=\"point\" transform=\"translate(137.09,376.25)\" d=\"M3,0A3,3 0 1,1 0,-3A3,3 0 0,1 3,0Z\" style=\"opacity: 1; stroke-width: 0px; fill: rgb(11, 109, 162); fill-opacity: 1;\"/><path class=\"point\" transform=\"translate(137.69,376.25)\" d=\"M3,0A3,3 0 1,1 0,-3A3,3 0 0,1 3,0Z\" style=\"opacity: 1; stroke-width: 0px; fill: rgb(11, 109, 162); fill-opacity: 1;\"/><path class=\"point\" transform=\"translate(138.29,376.25)\" d=\"M3,0A3,3 0 1,1 0,-3A3,3 0 0,1 3,0Z\" style=\"opacity: 1; stroke-width: 0px; fill: rgb(11, 109, 162); fill-opacity: 1;\"/><path class=\"point\" transform=\"translate(138.89,376.25)\" d=\"M3,0A3,3 0 1,1 0,-3A3,3 0 0,1 3,0Z\" style=\"opacity: 1; stroke-width: 0px; fill: rgb(11, 109, 162); fill-opacity: 1;\"/><path class=\"point\" transform=\"translate(139.49,376.25)\" d=\"M3,0A3,3 0 1,1 0,-3A3,3 0 0,1 3,0Z\" style=\"opacity: 1; stroke-width: 0px; fill: rgb(11, 109, 162); fill-opacity: 1;\"/><path class=\"point\" transform=\"translate(140.09,376.25)\" d=\"M3,0A3,3 0 1,1 0,-3A3,3 0 0,1 3,0Z\" style=\"opacity: 1; stroke-width: 0px; fill: rgb(11, 109, 162); fill-opacity: 1;\"/><path class=\"point\" transform=\"translate(140.69,376.25)\" d=\"M3,0A3,3 0 1,1 0,-3A3,3 0 0,1 3,0Z\" style=\"opacity: 1; stroke-width: 0px; fill: rgb(11, 109, 162); fill-opacity: 1;\"/><path class=\"point\" transform=\"translate(141.28,376.25)\" d=\"M3,0A3,3 0 1,1 0,-3A3,3 0 0,1 3,0Z\" style=\"opacity: 1; stroke-width: 0px; fill: rgb(11, 109, 162); fill-opacity: 1;\"/><path class=\"point\" transform=\"translate(141.88,200)\" d=\"M3,0A3,3 0 1,1 0,-3A3,3 0 0,1 3,0Z\" style=\"opacity: 1; stroke-width: 0px; fill: rgb(11, 109, 162); fill-opacity: 1;\"/><path class=\"point\" transform=\"translate(142.48,376.25)\" d=\"M3,0A3,3 0 1,1 0,-3A3,3 0 0,1 3,0Z\" style=\"opacity: 1; stroke-width: 0px; fill: rgb(11, 109, 162); fill-opacity: 1;\"/><path class=\"point\" transform=\"translate(143.08,376.25)\" d=\"M3,0A3,3 0 1,1 0,-3A3,3 0 0,1 3,0Z\" style=\"opacity: 1; stroke-width: 0px; fill: rgb(11, 109, 162); fill-opacity: 1;\"/><path class=\"point\" transform=\"translate(143.68,376.25)\" d=\"M3,0A3,3 0 1,1 0,-3A3,3 0 0,1 3,0Z\" style=\"opacity: 1; stroke-width: 0px; fill: rgb(11, 109, 162); fill-opacity: 1;\"/><path class=\"point\" transform=\"translate(144.28,376.25)\" d=\"M3,0A3,3 0 1,1 0,-3A3,3 0 0,1 3,0Z\" style=\"opacity: 1; stroke-width: 0px; fill: rgb(11, 109, 162); fill-opacity: 1;\"/><path class=\"point\" transform=\"translate(144.88,376.25)\" d=\"M3,0A3,3 0 1,1 0,-3A3,3 0 0,1 3,0Z\" style=\"opacity: 1; stroke-width: 0px; fill: rgb(11, 109, 162); fill-opacity: 1;\"/><path class=\"point\" transform=\"translate(145.48,376.25)\" d=\"M3,0A3,3 0 1,1 0,-3A3,3 0 0,1 3,0Z\" style=\"opacity: 1; stroke-width: 0px; fill: rgb(11, 109, 162); fill-opacity: 1;\"/><path class=\"point\" transform=\"translate(146.07,376.25)\" d=\"M3,0A3,3 0 1,1 0,-3A3,3 0 0,1 3,0Z\" style=\"opacity: 1; stroke-width: 0px; fill: rgb(11, 109, 162); fill-opacity: 1;\"/><path class=\"point\" transform=\"translate(146.67,376.25)\" d=\"M3,0A3,3 0 1,1 0,-3A3,3 0 0,1 3,0Z\" style=\"opacity: 1; stroke-width: 0px; fill: rgb(11, 109, 162); fill-opacity: 1;\"/><path class=\"point\" transform=\"translate(147.27,376.25)\" d=\"M3,0A3,3 0 1,1 0,-3A3,3 0 0,1 3,0Z\" style=\"opacity: 1; stroke-width: 0px; fill: rgb(11, 109, 162); fill-opacity: 1;\"/><path class=\"point\" transform=\"translate(147.87,376.25)\" d=\"M3,0A3,3 0 1,1 0,-3A3,3 0 0,1 3,0Z\" style=\"opacity: 1; stroke-width: 0px; fill: rgb(11, 109, 162); fill-opacity: 1;\"/><path class=\"point\" transform=\"translate(148.47,376.25)\" d=\"M3,0A3,3 0 1,1 0,-3A3,3 0 0,1 3,0Z\" style=\"opacity: 1; stroke-width: 0px; fill: rgb(11, 109, 162); fill-opacity: 1;\"/><path class=\"point\" transform=\"translate(149.07,376.25)\" d=\"M3,0A3,3 0 1,1 0,-3A3,3 0 0,1 3,0Z\" style=\"opacity: 1; stroke-width: 0px; fill: rgb(11, 109, 162); fill-opacity: 1;\"/><path class=\"point\" transform=\"translate(149.67,376.25)\" d=\"M3,0A3,3 0 1,1 0,-3A3,3 0 0,1 3,0Z\" style=\"opacity: 1; stroke-width: 0px; fill: rgb(11, 109, 162); fill-opacity: 1;\"/><path class=\"point\" transform=\"translate(150.27,376.25)\" d=\"M3,0A3,3 0 1,1 0,-3A3,3 0 0,1 3,0Z\" style=\"opacity: 1; stroke-width: 0px; fill: rgb(11, 109, 162); fill-opacity: 1;\"/><path class=\"point\" transform=\"translate(150.86,376.25)\" d=\"M3,0A3,3 0 1,1 0,-3A3,3 0 0,1 3,0Z\" style=\"opacity: 1; stroke-width: 0px; fill: rgb(11, 109, 162); fill-opacity: 1;\"/><path class=\"point\" transform=\"translate(151.46,376.25)\" d=\"M3,0A3,3 0 1,1 0,-3A3,3 0 0,1 3,0Z\" style=\"opacity: 1; stroke-width: 0px; fill: rgb(11, 109, 162); fill-opacity: 1;\"/><path class=\"point\" transform=\"translate(152.06,376.25)\" d=\"M3,0A3,3 0 1,1 0,-3A3,3 0 0,1 3,0Z\" style=\"opacity: 1; stroke-width: 0px; fill: rgb(11, 109, 162); fill-opacity: 1;\"/><path class=\"point\" transform=\"translate(152.66,376.25)\" d=\"M3,0A3,3 0 1,1 0,-3A3,3 0 0,1 3,0Z\" style=\"opacity: 1; stroke-width: 0px; fill: rgb(11, 109, 162); fill-opacity: 1;\"/><path class=\"point\" transform=\"translate(153.26,376.25)\" d=\"M3,0A3,3 0 1,1 0,-3A3,3 0 0,1 3,0Z\" style=\"opacity: 1; stroke-width: 0px; fill: rgb(11, 109, 162); fill-opacity: 1;\"/><path class=\"point\" transform=\"translate(153.86,376.25)\" d=\"M3,0A3,3 0 1,1 0,-3A3,3 0 0,1 3,0Z\" style=\"opacity: 1; stroke-width: 0px; fill: rgb(11, 109, 162); fill-opacity: 1;\"/><path class=\"point\" transform=\"translate(154.46,376.25)\" d=\"M3,0A3,3 0 1,1 0,-3A3,3 0 0,1 3,0Z\" style=\"opacity: 1; stroke-width: 0px; fill: rgb(11, 109, 162); fill-opacity: 1;\"/><path class=\"point\" transform=\"translate(155.06,376.25)\" d=\"M3,0A3,3 0 1,1 0,-3A3,3 0 0,1 3,0Z\" style=\"opacity: 1; stroke-width: 0px; fill: rgb(11, 109, 162); fill-opacity: 1;\"/><path class=\"point\" transform=\"translate(155.65,376.25)\" d=\"M3,0A3,3 0 1,1 0,-3A3,3 0 0,1 3,0Z\" style=\"opacity: 1; stroke-width: 0px; fill: rgb(11, 109, 162); fill-opacity: 1;\"/><path class=\"point\" transform=\"translate(156.25,376.25)\" d=\"M3,0A3,3 0 1,1 0,-3A3,3 0 0,1 3,0Z\" style=\"opacity: 1; stroke-width: 0px; fill: rgb(11, 109, 162); fill-opacity: 1;\"/><path class=\"point\" transform=\"translate(156.85,376.25)\" d=\"M3,0A3,3 0 1,1 0,-3A3,3 0 0,1 3,0Z\" style=\"opacity: 1; stroke-width: 0px; fill: rgb(11, 109, 162); fill-opacity: 1;\"/><path class=\"point\" transform=\"translate(157.45,376.25)\" d=\"M3,0A3,3 0 1,1 0,-3A3,3 0 0,1 3,0Z\" style=\"opacity: 1; stroke-width: 0px; fill: rgb(11, 109, 162); fill-opacity: 1;\"/><path class=\"point\" transform=\"translate(158.05,376.25)\" d=\"M3,0A3,3 0 1,1 0,-3A3,3 0 0,1 3,0Z\" style=\"opacity: 1; stroke-width: 0px; fill: rgb(11, 109, 162); fill-opacity: 1;\"/><path class=\"point\" transform=\"translate(158.65,376.25)\" d=\"M3,0A3,3 0 1,1 0,-3A3,3 0 0,1 3,0Z\" style=\"opacity: 1; stroke-width: 0px; fill: rgb(11, 109, 162); fill-opacity: 1;\"/><path class=\"point\" transform=\"translate(159.25,376.25)\" d=\"M3,0A3,3 0 1,1 0,-3A3,3 0 0,1 3,0Z\" style=\"opacity: 1; stroke-width: 0px; fill: rgb(11, 109, 162); fill-opacity: 1;\"/><path class=\"point\" transform=\"translate(159.85,376.25)\" d=\"M3,0A3,3 0 1,1 0,-3A3,3 0 0,1 3,0Z\" style=\"opacity: 1; stroke-width: 0px; fill: rgb(11, 109, 162); fill-opacity: 1;\"/><path class=\"point\" transform=\"translate(160.44,376.25)\" d=\"M3,0A3,3 0 1,1 0,-3A3,3 0 0,1 3,0Z\" style=\"opacity: 1; stroke-width: 0px; fill: rgb(11, 109, 162); fill-opacity: 1;\"/><path class=\"point\" transform=\"translate(161.04,376.25)\" d=\"M3,0A3,3 0 1,1 0,-3A3,3 0 0,1 3,0Z\" style=\"opacity: 1; stroke-width: 0px; fill: rgb(11, 109, 162); fill-opacity: 1;\"/><path class=\"point\" transform=\"translate(161.64,376.25)\" d=\"M3,0A3,3 0 1,1 0,-3A3,3 0 0,1 3,0Z\" style=\"opacity: 1; stroke-width: 0px; fill: rgb(11, 109, 162); fill-opacity: 1;\"/><path class=\"point\" transform=\"translate(162.24,376.25)\" d=\"M3,0A3,3 0 1,1 0,-3A3,3 0 0,1 3,0Z\" style=\"opacity: 1; stroke-width: 0px; fill: rgb(11, 109, 162); fill-opacity: 1;\"/><path class=\"point\" transform=\"translate(162.84,376.25)\" d=\"M3,0A3,3 0 1,1 0,-3A3,3 0 0,1 3,0Z\" style=\"opacity: 1; stroke-width: 0px; fill: rgb(11, 109, 162); fill-opacity: 1;\"/><path class=\"point\" transform=\"translate(163.44,376.25)\" d=\"M3,0A3,3 0 1,1 0,-3A3,3 0 0,1 3,0Z\" style=\"opacity: 1; stroke-width: 0px; fill: rgb(11, 109, 162); fill-opacity: 1;\"/><path class=\"point\" transform=\"translate(164.04,376.25)\" d=\"M3,0A3,3 0 1,1 0,-3A3,3 0 0,1 3,0Z\" style=\"opacity: 1; stroke-width: 0px; fill: rgb(11, 109, 162); fill-opacity: 1;\"/><path class=\"point\" transform=\"translate(164.64,376.25)\" d=\"M3,0A3,3 0 1,1 0,-3A3,3 0 0,1 3,0Z\" style=\"opacity: 1; stroke-width: 0px; fill: rgb(11, 109, 162); fill-opacity: 1;\"/><path class=\"point\" transform=\"translate(165.23,376.25)\" d=\"M3,0A3,3 0 1,1 0,-3A3,3 0 0,1 3,0Z\" style=\"opacity: 1; stroke-width: 0px; fill: rgb(11, 109, 162); fill-opacity: 1;\"/><path class=\"point\" transform=\"translate(165.83,376.25)\" d=\"M3,0A3,3 0 1,1 0,-3A3,3 0 0,1 3,0Z\" style=\"opacity: 1; stroke-width: 0px; fill: rgb(11, 109, 162); fill-opacity: 1;\"/><path class=\"point\" transform=\"translate(166.43,376.25)\" d=\"M3,0A3,3 0 1,1 0,-3A3,3 0 0,1 3,0Z\" style=\"opacity: 1; stroke-width: 0px; fill: rgb(11, 109, 162); fill-opacity: 1;\"/><path class=\"point\" transform=\"translate(167.03,376.25)\" d=\"M3,0A3,3 0 1,1 0,-3A3,3 0 0,1 3,0Z\" style=\"opacity: 1; stroke-width: 0px; fill: rgb(11, 109, 162); fill-opacity: 1;\"/><path class=\"point\" transform=\"translate(167.63,376.25)\" d=\"M3,0A3,3 0 1,1 0,-3A3,3 0 0,1 3,0Z\" style=\"opacity: 1; stroke-width: 0px; fill: rgb(11, 109, 162); fill-opacity: 1;\"/><path class=\"point\" transform=\"translate(168.23,376.25)\" d=\"M3,0A3,3 0 1,1 0,-3A3,3 0 0,1 3,0Z\" style=\"opacity: 1; stroke-width: 0px; fill: rgb(11, 109, 162); fill-opacity: 1;\"/><path class=\"point\" transform=\"translate(168.83,376.25)\" d=\"M3,0A3,3 0 1,1 0,-3A3,3 0 0,1 3,0Z\" style=\"opacity: 1; stroke-width: 0px; fill: rgb(11, 109, 162); fill-opacity: 1;\"/><path class=\"point\" transform=\"translate(169.43,376.25)\" d=\"M3,0A3,3 0 1,1 0,-3A3,3 0 0,1 3,0Z\" style=\"opacity: 1; stroke-width: 0px; fill: rgb(11, 109, 162); fill-opacity: 1;\"/><path class=\"point\" transform=\"translate(170.02,376.25)\" d=\"M3,0A3,3 0 1,1 0,-3A3,3 0 0,1 3,0Z\" style=\"opacity: 1; stroke-width: 0px; fill: rgb(11, 109, 162); fill-opacity: 1;\"/><path class=\"point\" transform=\"translate(170.62,376.25)\" d=\"M3,0A3,3 0 1,1 0,-3A3,3 0 0,1 3,0Z\" style=\"opacity: 1; stroke-width: 0px; fill: rgb(11, 109, 162); fill-opacity: 1;\"/><path class=\"point\" transform=\"translate(171.22,376.25)\" d=\"M3,0A3,3 0 1,1 0,-3A3,3 0 0,1 3,0Z\" style=\"opacity: 1; stroke-width: 0px; fill: rgb(11, 109, 162); fill-opacity: 1;\"/><path class=\"point\" transform=\"translate(171.82,376.25)\" d=\"M3,0A3,3 0 1,1 0,-3A3,3 0 0,1 3,0Z\" style=\"opacity: 1; stroke-width: 0px; fill: rgb(11, 109, 162); fill-opacity: 1;\"/><path class=\"point\" transform=\"translate(172.42,376.25)\" d=\"M3,0A3,3 0 1,1 0,-3A3,3 0 0,1 3,0Z\" style=\"opacity: 1; stroke-width: 0px; fill: rgb(11, 109, 162); fill-opacity: 1;\"/><path class=\"point\" transform=\"translate(173.02,376.25)\" d=\"M3,0A3,3 0 1,1 0,-3A3,3 0 0,1 3,0Z\" style=\"opacity: 1; stroke-width: 0px; fill: rgb(11, 109, 162); fill-opacity: 1;\"/><path class=\"point\" transform=\"translate(173.62,376.25)\" d=\"M3,0A3,3 0 1,1 0,-3A3,3 0 0,1 3,0Z\" style=\"opacity: 1; stroke-width: 0px; fill: rgb(11, 109, 162); fill-opacity: 1;\"/><path class=\"point\" transform=\"translate(174.22,376.25)\" d=\"M3,0A3,3 0 1,1 0,-3A3,3 0 0,1 3,0Z\" style=\"opacity: 1; stroke-width: 0px; fill: rgb(11, 109, 162); fill-opacity: 1;\"/><path class=\"point\" transform=\"translate(174.81,376.25)\" d=\"M3,0A3,3 0 1,1 0,-3A3,3 0 0,1 3,0Z\" style=\"opacity: 1; stroke-width: 0px; fill: rgb(11, 109, 162); fill-opacity: 1;\"/><path class=\"point\" transform=\"translate(175.41,376.25)\" d=\"M3,0A3,3 0 1,1 0,-3A3,3 0 0,1 3,0Z\" style=\"opacity: 1; stroke-width: 0px; fill: rgb(11, 109, 162); fill-opacity: 1;\"/><path class=\"point\" transform=\"translate(176.01,376.25)\" d=\"M3,0A3,3 0 1,1 0,-3A3,3 0 0,1 3,0Z\" style=\"opacity: 1; stroke-width: 0px; fill: rgb(11, 109, 162); fill-opacity: 1;\"/><path class=\"point\" transform=\"translate(176.61,376.25)\" d=\"M3,0A3,3 0 1,1 0,-3A3,3 0 0,1 3,0Z\" style=\"opacity: 1; stroke-width: 0px; fill: rgb(11, 109, 162); fill-opacity: 1;\"/><path class=\"point\" transform=\"translate(177.21,376.25)\" d=\"M3,0A3,3 0 1,1 0,-3A3,3 0 0,1 3,0Z\" style=\"opacity: 1; stroke-width: 0px; fill: rgb(11, 109, 162); fill-opacity: 1;\"/><path class=\"point\" transform=\"translate(177.81,376.25)\" d=\"M3,0A3,3 0 1,1 0,-3A3,3 0 0,1 3,0Z\" style=\"opacity: 1; stroke-width: 0px; fill: rgb(11, 109, 162); fill-opacity: 1;\"/><path class=\"point\" transform=\"translate(178.41,376.25)\" d=\"M3,0A3,3 0 1,1 0,-3A3,3 0 0,1 3,0Z\" style=\"opacity: 1; stroke-width: 0px; fill: rgb(11, 109, 162); fill-opacity: 1;\"/><path class=\"point\" transform=\"translate(179.01,376.25)\" d=\"M3,0A3,3 0 1,1 0,-3A3,3 0 0,1 3,0Z\" style=\"opacity: 1; stroke-width: 0px; fill: rgb(11, 109, 162); fill-opacity: 1;\"/><path class=\"point\" transform=\"translate(179.6,376.25)\" d=\"M3,0A3,3 0 1,1 0,-3A3,3 0 0,1 3,0Z\" style=\"opacity: 1; stroke-width: 0px; fill: rgb(11, 109, 162); fill-opacity: 1;\"/><path class=\"point\" transform=\"translate(180.2,376.25)\" d=\"M3,0A3,3 0 1,1 0,-3A3,3 0 0,1 3,0Z\" style=\"opacity: 1; stroke-width: 0px; fill: rgb(11, 109, 162); fill-opacity: 1;\"/><path class=\"point\" transform=\"translate(180.8,376.25)\" d=\"M3,0A3,3 0 1,1 0,-3A3,3 0 0,1 3,0Z\" style=\"opacity: 1; stroke-width: 0px; fill: rgb(11, 109, 162); fill-opacity: 1;\"/><path class=\"point\" transform=\"translate(181.4,376.25)\" d=\"M3,0A3,3 0 1,1 0,-3A3,3 0 0,1 3,0Z\" style=\"opacity: 1; stroke-width: 0px; fill: rgb(11, 109, 162); fill-opacity: 1;\"/><path class=\"point\" transform=\"translate(182,376.25)\" d=\"M3,0A3,3 0 1,1 0,-3A3,3 0 0,1 3,0Z\" style=\"opacity: 1; stroke-width: 0px; fill: rgb(11, 109, 162); fill-opacity: 1;\"/><path class=\"point\" transform=\"translate(182.6,376.25)\" d=\"M3,0A3,3 0 1,1 0,-3A3,3 0 0,1 3,0Z\" style=\"opacity: 1; stroke-width: 0px; fill: rgb(11, 109, 162); fill-opacity: 1;\"/><path class=\"point\" transform=\"translate(183.2,376.25)\" d=\"M3,0A3,3 0 1,1 0,-3A3,3 0 0,1 3,0Z\" style=\"opacity: 1; stroke-width: 0px; fill: rgb(11, 109, 162); fill-opacity: 1;\"/><path class=\"point\" transform=\"translate(183.8,376.25)\" d=\"M3,0A3,3 0 1,1 0,-3A3,3 0 0,1 3,0Z\" style=\"opacity: 1; stroke-width: 0px; fill: rgb(11, 109, 162); fill-opacity: 1;\"/><path class=\"point\" transform=\"translate(184.4,376.25)\" d=\"M3,0A3,3 0 1,1 0,-3A3,3 0 0,1 3,0Z\" style=\"opacity: 1; stroke-width: 0px; fill: rgb(11, 109, 162); fill-opacity: 1;\"/><path class=\"point\" transform=\"translate(184.99,376.25)\" d=\"M3,0A3,3 0 1,1 0,-3A3,3 0 0,1 3,0Z\" style=\"opacity: 1; stroke-width: 0px; fill: rgb(11, 109, 162); fill-opacity: 1;\"/><path class=\"point\" transform=\"translate(185.59,376.25)\" d=\"M3,0A3,3 0 1,1 0,-3A3,3 0 0,1 3,0Z\" style=\"opacity: 1; stroke-width: 0px; fill: rgb(11, 109, 162); fill-opacity: 1;\"/><path class=\"point\" transform=\"translate(186.19,376.25)\" d=\"M3,0A3,3 0 1,1 0,-3A3,3 0 0,1 3,0Z\" style=\"opacity: 1; stroke-width: 0px; fill: rgb(11, 109, 162); fill-opacity: 1;\"/><path class=\"point\" transform=\"translate(186.79,376.25)\" d=\"M3,0A3,3 0 1,1 0,-3A3,3 0 0,1 3,0Z\" style=\"opacity: 1; stroke-width: 0px; fill: rgb(11, 109, 162); fill-opacity: 1;\"/><path class=\"point\" transform=\"translate(187.39,376.25)\" d=\"M3,0A3,3 0 1,1 0,-3A3,3 0 0,1 3,0Z\" style=\"opacity: 1; stroke-width: 0px; fill: rgb(11, 109, 162); fill-opacity: 1;\"/><path class=\"point\" transform=\"translate(187.99,376.25)\" d=\"M3,0A3,3 0 1,1 0,-3A3,3 0 0,1 3,0Z\" style=\"opacity: 1; stroke-width: 0px; fill: rgb(11, 109, 162); fill-opacity: 1;\"/><path class=\"point\" transform=\"translate(188.59,376.25)\" d=\"M3,0A3,3 0 1,1 0,-3A3,3 0 0,1 3,0Z\" style=\"opacity: 1; stroke-width: 0px; fill: rgb(11, 109, 162); fill-opacity: 1;\"/><path class=\"point\" transform=\"translate(189.19,376.25)\" d=\"M3,0A3,3 0 1,1 0,-3A3,3 0 0,1 3,0Z\" style=\"opacity: 1; stroke-width: 0px; fill: rgb(11, 109, 162); fill-opacity: 1;\"/><path class=\"point\" transform=\"translate(189.78,376.25)\" d=\"M3,0A3,3 0 1,1 0,-3A3,3 0 0,1 3,0Z\" style=\"opacity: 1; stroke-width: 0px; fill: rgb(11, 109, 162); fill-opacity: 1;\"/><path class=\"point\" transform=\"translate(190.38,376.25)\" d=\"M3,0A3,3 0 1,1 0,-3A3,3 0 0,1 3,0Z\" style=\"opacity: 1; stroke-width: 0px; fill: rgb(11, 109, 162); fill-opacity: 1;\"/><path class=\"point\" transform=\"translate(190.98,376.25)\" d=\"M3,0A3,3 0 1,1 0,-3A3,3 0 0,1 3,0Z\" style=\"opacity: 1; stroke-width: 0px; fill: rgb(11, 109, 162); fill-opacity: 1;\"/><path class=\"point\" transform=\"translate(191.58,376.25)\" d=\"M3,0A3,3 0 1,1 0,-3A3,3 0 0,1 3,0Z\" style=\"opacity: 1; stroke-width: 0px; fill: rgb(11, 109, 162); fill-opacity: 1;\"/><path class=\"point\" transform=\"translate(192.18,376.25)\" d=\"M3,0A3,3 0 1,1 0,-3A3,3 0 0,1 3,0Z\" style=\"opacity: 1; stroke-width: 0px; fill: rgb(11, 109, 162); fill-opacity: 1;\"/><path class=\"point\" transform=\"translate(192.78,376.25)\" d=\"M3,0A3,3 0 1,1 0,-3A3,3 0 0,1 3,0Z\" style=\"opacity: 1; stroke-width: 0px; fill: rgb(11, 109, 162); fill-opacity: 1;\"/><path class=\"point\" transform=\"translate(193.38,376.25)\" d=\"M3,0A3,3 0 1,1 0,-3A3,3 0 0,1 3,0Z\" style=\"opacity: 1; stroke-width: 0px; fill: rgb(11, 109, 162); fill-opacity: 1;\"/><path class=\"point\" transform=\"translate(193.98,376.25)\" d=\"M3,0A3,3 0 1,1 0,-3A3,3 0 0,1 3,0Z\" style=\"opacity: 1; stroke-width: 0px; fill: rgb(11, 109, 162); fill-opacity: 1;\"/><path class=\"point\" transform=\"translate(194.57,376.25)\" d=\"M3,0A3,3 0 1,1 0,-3A3,3 0 0,1 3,0Z\" style=\"opacity: 1; stroke-width: 0px; fill: rgb(11, 109, 162); fill-opacity: 1;\"/><path class=\"point\" transform=\"translate(195.17,376.25)\" d=\"M3,0A3,3 0 1,1 0,-3A3,3 0 0,1 3,0Z\" style=\"opacity: 1; stroke-width: 0px; fill: rgb(11, 109, 162); fill-opacity: 1;\"/><path class=\"point\" transform=\"translate(195.77,376.25)\" d=\"M3,0A3,3 0 1,1 0,-3A3,3 0 0,1 3,0Z\" style=\"opacity: 1; stroke-width: 0px; fill: rgb(11, 109, 162); fill-opacity: 1;\"/><path class=\"point\" transform=\"translate(196.37,376.25)\" d=\"M3,0A3,3 0 1,1 0,-3A3,3 0 0,1 3,0Z\" style=\"opacity: 1; stroke-width: 0px; fill: rgb(11, 109, 162); fill-opacity: 1;\"/><path class=\"point\" transform=\"translate(196.97,376.25)\" d=\"M3,0A3,3 0 1,1 0,-3A3,3 0 0,1 3,0Z\" style=\"opacity: 1; stroke-width: 0px; fill: rgb(11, 109, 162); fill-opacity: 1;\"/><path class=\"point\" transform=\"translate(197.57,376.25)\" d=\"M3,0A3,3 0 1,1 0,-3A3,3 0 0,1 3,0Z\" style=\"opacity: 1; stroke-width: 0px; fill: rgb(11, 109, 162); fill-opacity: 1;\"/><path class=\"point\" transform=\"translate(198.17,376.25)\" d=\"M3,0A3,3 0 1,1 0,-3A3,3 0 0,1 3,0Z\" style=\"opacity: 1; stroke-width: 0px; fill: rgb(11, 109, 162); fill-opacity: 1;\"/><path class=\"point\" transform=\"translate(198.77,376.25)\" d=\"M3,0A3,3 0 1,1 0,-3A3,3 0 0,1 3,0Z\" style=\"opacity: 1; stroke-width: 0px; fill: rgb(11, 109, 162); fill-opacity: 1;\"/><path class=\"point\" transform=\"translate(199.36,376.25)\" d=\"M3,0A3,3 0 1,1 0,-3A3,3 0 0,1 3,0Z\" style=\"opacity: 1; stroke-width: 0px; fill: rgb(11, 109, 162); fill-opacity: 1;\"/><path class=\"point\" transform=\"translate(199.96,376.25)\" d=\"M3,0A3,3 0 1,1 0,-3A3,3 0 0,1 3,0Z\" style=\"opacity: 1; stroke-width: 0px; fill: rgb(11, 109, 162); fill-opacity: 1;\"/><path class=\"point\" transform=\"translate(200.56,376.25)\" d=\"M3,0A3,3 0 1,1 0,-3A3,3 0 0,1 3,0Z\" style=\"opacity: 1; stroke-width: 0px; fill: rgb(11, 109, 162); fill-opacity: 1;\"/><path class=\"point\" transform=\"translate(201.16,376.25)\" d=\"M3,0A3,3 0 1,1 0,-3A3,3 0 0,1 3,0Z\" style=\"opacity: 1; stroke-width: 0px; fill: rgb(11, 109, 162); fill-opacity: 1;\"/><path class=\"point\" transform=\"translate(201.76,376.25)\" d=\"M3,0A3,3 0 1,1 0,-3A3,3 0 0,1 3,0Z\" style=\"opacity: 1; stroke-width: 0px; fill: rgb(11, 109, 162); fill-opacity: 1;\"/><path class=\"point\" transform=\"translate(202.36,376.25)\" d=\"M3,0A3,3 0 1,1 0,-3A3,3 0 0,1 3,0Z\" style=\"opacity: 1; stroke-width: 0px; fill: rgb(11, 109, 162); fill-opacity: 1;\"/><path class=\"point\" transform=\"translate(202.96,376.25)\" d=\"M3,0A3,3 0 1,1 0,-3A3,3 0 0,1 3,0Z\" style=\"opacity: 1; stroke-width: 0px; fill: rgb(11, 109, 162); fill-opacity: 1;\"/><path class=\"point\" transform=\"translate(203.56,376.25)\" d=\"M3,0A3,3 0 1,1 0,-3A3,3 0 0,1 3,0Z\" style=\"opacity: 1; stroke-width: 0px; fill: rgb(11, 109, 162); fill-opacity: 1;\"/><path class=\"point\" transform=\"translate(204.15,376.25)\" d=\"M3,0A3,3 0 1,1 0,-3A3,3 0 0,1 3,0Z\" style=\"opacity: 1; stroke-width: 0px; fill: rgb(11, 109, 162); fill-opacity: 1;\"/><path class=\"point\" transform=\"translate(204.75,376.25)\" d=\"M3,0A3,3 0 1,1 0,-3A3,3 0 0,1 3,0Z\" style=\"opacity: 1; stroke-width: 0px; fill: rgb(11, 109, 162); fill-opacity: 1;\"/><path class=\"point\" transform=\"translate(205.35,376.25)\" d=\"M3,0A3,3 0 1,1 0,-3A3,3 0 0,1 3,0Z\" style=\"opacity: 1; stroke-width: 0px; fill: rgb(11, 109, 162); fill-opacity: 1;\"/><path class=\"point\" transform=\"translate(205.95,376.25)\" d=\"M3,0A3,3 0 1,1 0,-3A3,3 0 0,1 3,0Z\" style=\"opacity: 1; stroke-width: 0px; fill: rgb(11, 109, 162); fill-opacity: 1;\"/><path class=\"point\" transform=\"translate(206.55,376.25)\" d=\"M3,0A3,3 0 1,1 0,-3A3,3 0 0,1 3,0Z\" style=\"opacity: 1; stroke-width: 0px; fill: rgb(11, 109, 162); fill-opacity: 1;\"/><path class=\"point\" transform=\"translate(207.15,376.25)\" d=\"M3,0A3,3 0 1,1 0,-3A3,3 0 0,1 3,0Z\" style=\"opacity: 1; stroke-width: 0px; fill: rgb(11, 109, 162); fill-opacity: 1;\"/><path class=\"point\" transform=\"translate(207.75,376.25)\" d=\"M3,0A3,3 0 1,1 0,-3A3,3 0 0,1 3,0Z\" style=\"opacity: 1; stroke-width: 0px; fill: rgb(11, 109, 162); fill-opacity: 1;\"/><path class=\"point\" transform=\"translate(208.35,376.25)\" d=\"M3,0A3,3 0 1,1 0,-3A3,3 0 0,1 3,0Z\" style=\"opacity: 1; stroke-width: 0px; fill: rgb(11, 109, 162); fill-opacity: 1;\"/><path class=\"point\" transform=\"translate(208.94,376.25)\" d=\"M3,0A3,3 0 1,1 0,-3A3,3 0 0,1 3,0Z\" style=\"opacity: 1; stroke-width: 0px; fill: rgb(11, 109, 162); fill-opacity: 1;\"/><path class=\"point\" transform=\"translate(209.54,376.25)\" d=\"M3,0A3,3 0 1,1 0,-3A3,3 0 0,1 3,0Z\" style=\"opacity: 1; stroke-width: 0px; fill: rgb(11, 109, 162); fill-opacity: 1;\"/><path class=\"point\" transform=\"translate(210.14,376.25)\" d=\"M3,0A3,3 0 1,1 0,-3A3,3 0 0,1 3,0Z\" style=\"opacity: 1; stroke-width: 0px; fill: rgb(11, 109, 162); fill-opacity: 1;\"/><path class=\"point\" transform=\"translate(210.74,376.25)\" d=\"M3,0A3,3 0 1,1 0,-3A3,3 0 0,1 3,0Z\" style=\"opacity: 1; stroke-width: 0px; fill: rgb(11, 109, 162); fill-opacity: 1;\"/><path class=\"point\" transform=\"translate(211.34,376.25)\" d=\"M3,0A3,3 0 1,1 0,-3A3,3 0 0,1 3,0Z\" style=\"opacity: 1; stroke-width: 0px; fill: rgb(11, 109, 162); fill-opacity: 1;\"/><path class=\"point\" transform=\"translate(211.94,376.25)\" d=\"M3,0A3,3 0 1,1 0,-3A3,3 0 0,1 3,0Z\" style=\"opacity: 1; stroke-width: 0px; fill: rgb(11, 109, 162); fill-opacity: 1;\"/><path class=\"point\" transform=\"translate(212.54,376.25)\" d=\"M3,0A3,3 0 1,1 0,-3A3,3 0 0,1 3,0Z\" style=\"opacity: 1; stroke-width: 0px; fill: rgb(11, 109, 162); fill-opacity: 1;\"/><path class=\"point\" transform=\"translate(213.14,376.25)\" d=\"M3,0A3,3 0 1,1 0,-3A3,3 0 0,1 3,0Z\" style=\"opacity: 1; stroke-width: 0px; fill: rgb(11, 109, 162); fill-opacity: 1;\"/><path class=\"point\" transform=\"translate(213.73,376.25)\" d=\"M3,0A3,3 0 1,1 0,-3A3,3 0 0,1 3,0Z\" style=\"opacity: 1; stroke-width: 0px; fill: rgb(11, 109, 162); fill-opacity: 1;\"/><path class=\"point\" transform=\"translate(214.33,376.25)\" d=\"M3,0A3,3 0 1,1 0,-3A3,3 0 0,1 3,0Z\" style=\"opacity: 1; stroke-width: 0px; fill: rgb(11, 109, 162); fill-opacity: 1;\"/><path class=\"point\" transform=\"translate(214.93,376.25)\" d=\"M3,0A3,3 0 1,1 0,-3A3,3 0 0,1 3,0Z\" style=\"opacity: 1; stroke-width: 0px; fill: rgb(11, 109, 162); fill-opacity: 1;\"/><path class=\"point\" transform=\"translate(215.53,376.25)\" d=\"M3,0A3,3 0 1,1 0,-3A3,3 0 0,1 3,0Z\" style=\"opacity: 1; stroke-width: 0px; fill: rgb(11, 109, 162); fill-opacity: 1;\"/><path class=\"point\" transform=\"translate(216.13,376.25)\" d=\"M3,0A3,3 0 1,1 0,-3A3,3 0 0,1 3,0Z\" style=\"opacity: 1; stroke-width: 0px; fill: rgb(11, 109, 162); fill-opacity: 1;\"/><path class=\"point\" transform=\"translate(216.73,376.25)\" d=\"M3,0A3,3 0 1,1 0,-3A3,3 0 0,1 3,0Z\" style=\"opacity: 1; stroke-width: 0px; fill: rgb(11, 109, 162); fill-opacity: 1;\"/><path class=\"point\" transform=\"translate(217.33,376.25)\" d=\"M3,0A3,3 0 1,1 0,-3A3,3 0 0,1 3,0Z\" style=\"opacity: 1; stroke-width: 0px; fill: rgb(11, 109, 162); fill-opacity: 1;\"/><path class=\"point\" transform=\"translate(217.93,376.25)\" d=\"M3,0A3,3 0 1,1 0,-3A3,3 0 0,1 3,0Z\" style=\"opacity: 1; stroke-width: 0px; fill: rgb(11, 109, 162); fill-opacity: 1;\"/><path class=\"point\" transform=\"translate(218.52,376.25)\" d=\"M3,0A3,3 0 1,1 0,-3A3,3 0 0,1 3,0Z\" style=\"opacity: 1; stroke-width: 0px; fill: rgb(11, 109, 162); fill-opacity: 1;\"/><path class=\"point\" transform=\"translate(219.12,376.25)\" d=\"M3,0A3,3 0 1,1 0,-3A3,3 0 0,1 3,0Z\" style=\"opacity: 1; stroke-width: 0px; fill: rgb(11, 109, 162); fill-opacity: 1;\"/><path class=\"point\" transform=\"translate(219.72,376.25)\" d=\"M3,0A3,3 0 1,1 0,-3A3,3 0 0,1 3,0Z\" style=\"opacity: 1; stroke-width: 0px; fill: rgb(11, 109, 162); fill-opacity: 1;\"/><path class=\"point\" transform=\"translate(220.32,376.25)\" d=\"M3,0A3,3 0 1,1 0,-3A3,3 0 0,1 3,0Z\" style=\"opacity: 1; stroke-width: 0px; fill: rgb(11, 109, 162); fill-opacity: 1;\"/><path class=\"point\" transform=\"translate(220.92,376.25)\" d=\"M3,0A3,3 0 1,1 0,-3A3,3 0 0,1 3,0Z\" style=\"opacity: 1; stroke-width: 0px; fill: rgb(11, 109, 162); fill-opacity: 1;\"/><path class=\"point\" transform=\"translate(221.52,376.25)\" d=\"M3,0A3,3 0 1,1 0,-3A3,3 0 0,1 3,0Z\" style=\"opacity: 1; stroke-width: 0px; fill: rgb(11, 109, 162); fill-opacity: 1;\"/><path class=\"point\" transform=\"translate(222.12,376.25)\" d=\"M3,0A3,3 0 1,1 0,-3A3,3 0 0,1 3,0Z\" style=\"opacity: 1; stroke-width: 0px; fill: rgb(11, 109, 162); fill-opacity: 1;\"/><path class=\"point\" transform=\"translate(222.72,376.25)\" d=\"M3,0A3,3 0 1,1 0,-3A3,3 0 0,1 3,0Z\" style=\"opacity: 1; stroke-width: 0px; fill: rgb(11, 109, 162); fill-opacity: 1;\"/><path class=\"point\" transform=\"translate(223.31,376.25)\" d=\"M3,0A3,3 0 1,1 0,-3A3,3 0 0,1 3,0Z\" style=\"opacity: 1; stroke-width: 0px; fill: rgb(11, 109, 162); fill-opacity: 1;\"/><path class=\"point\" transform=\"translate(223.91,376.25)\" d=\"M3,0A3,3 0 1,1 0,-3A3,3 0 0,1 3,0Z\" style=\"opacity: 1; stroke-width: 0px; fill: rgb(11, 109, 162); fill-opacity: 1;\"/><path class=\"point\" transform=\"translate(224.51,376.25)\" d=\"M3,0A3,3 0 1,1 0,-3A3,3 0 0,1 3,0Z\" style=\"opacity: 1; stroke-width: 0px; fill: rgb(11, 109, 162); fill-opacity: 1;\"/><path class=\"point\" transform=\"translate(225.11,376.25)\" d=\"M3,0A3,3 0 1,1 0,-3A3,3 0 0,1 3,0Z\" style=\"opacity: 1; stroke-width: 0px; fill: rgb(11, 109, 162); fill-opacity: 1;\"/><path class=\"point\" transform=\"translate(225.71,376.25)\" d=\"M3,0A3,3 0 1,1 0,-3A3,3 0 0,1 3,0Z\" style=\"opacity: 1; stroke-width: 0px; fill: rgb(11, 109, 162); fill-opacity: 1;\"/><path class=\"point\" transform=\"translate(226.31,376.25)\" d=\"M3,0A3,3 0 1,1 0,-3A3,3 0 0,1 3,0Z\" style=\"opacity: 1; stroke-width: 0px; fill: rgb(11, 109, 162); fill-opacity: 1;\"/><path class=\"point\" transform=\"translate(226.91,376.25)\" d=\"M3,0A3,3 0 1,1 0,-3A3,3 0 0,1 3,0Z\" style=\"opacity: 1; stroke-width: 0px; fill: rgb(11, 109, 162); fill-opacity: 1;\"/><path class=\"point\" transform=\"translate(227.51,376.25)\" d=\"M3,0A3,3 0 1,1 0,-3A3,3 0 0,1 3,0Z\" style=\"opacity: 1; stroke-width: 0px; fill: rgb(11, 109, 162); fill-opacity: 1;\"/><path class=\"point\" transform=\"translate(228.1,376.25)\" d=\"M3,0A3,3 0 1,1 0,-3A3,3 0 0,1 3,0Z\" style=\"opacity: 1; stroke-width: 0px; fill: rgb(11, 109, 162); fill-opacity: 1;\"/><path class=\"point\" transform=\"translate(228.7,376.25)\" d=\"M3,0A3,3 0 1,1 0,-3A3,3 0 0,1 3,0Z\" style=\"opacity: 1; stroke-width: 0px; fill: rgb(11, 109, 162); fill-opacity: 1;\"/><path class=\"point\" transform=\"translate(229.3,376.25)\" d=\"M3,0A3,3 0 1,1 0,-3A3,3 0 0,1 3,0Z\" style=\"opacity: 1; stroke-width: 0px; fill: rgb(11, 109, 162); fill-opacity: 1;\"/><path class=\"point\" transform=\"translate(229.9,200)\" d=\"M3,0A3,3 0 1,1 0,-3A3,3 0 0,1 3,0Z\" style=\"opacity: 1; stroke-width: 0px; fill: rgb(11, 109, 162); fill-opacity: 1;\"/><path class=\"point\" transform=\"translate(230.5,376.25)\" d=\"M3,0A3,3 0 1,1 0,-3A3,3 0 0,1 3,0Z\" style=\"opacity: 1; stroke-width: 0px; fill: rgb(11, 109, 162); fill-opacity: 1;\"/><path class=\"point\" transform=\"translate(231.1,376.25)\" d=\"M3,0A3,3 0 1,1 0,-3A3,3 0 0,1 3,0Z\" style=\"opacity: 1; stroke-width: 0px; fill: rgb(11, 109, 162); fill-opacity: 1;\"/><path class=\"point\" transform=\"translate(231.7,376.25)\" d=\"M3,0A3,3 0 1,1 0,-3A3,3 0 0,1 3,0Z\" style=\"opacity: 1; stroke-width: 0px; fill: rgb(11, 109, 162); fill-opacity: 1;\"/><path class=\"point\" transform=\"translate(232.3,376.25)\" d=\"M3,0A3,3 0 1,1 0,-3A3,3 0 0,1 3,0Z\" style=\"opacity: 1; stroke-width: 0px; fill: rgb(11, 109, 162); fill-opacity: 1;\"/><path class=\"point\" transform=\"translate(232.9,376.25)\" d=\"M3,0A3,3 0 1,1 0,-3A3,3 0 0,1 3,0Z\" style=\"opacity: 1; stroke-width: 0px; fill: rgb(11, 109, 162); fill-opacity: 1;\"/><path class=\"point\" transform=\"translate(233.49,376.25)\" d=\"M3,0A3,3 0 1,1 0,-3A3,3 0 0,1 3,0Z\" style=\"opacity: 1; stroke-width: 0px; fill: rgb(11, 109, 162); fill-opacity: 1;\"/><path class=\"point\" transform=\"translate(234.09,376.25)\" d=\"M3,0A3,3 0 1,1 0,-3A3,3 0 0,1 3,0Z\" style=\"opacity: 1; stroke-width: 0px; fill: rgb(11, 109, 162); fill-opacity: 1;\"/><path class=\"point\" transform=\"translate(234.69,376.25)\" d=\"M3,0A3,3 0 1,1 0,-3A3,3 0 0,1 3,0Z\" style=\"opacity: 1; stroke-width: 0px; fill: rgb(11, 109, 162); fill-opacity: 1;\"/><path class=\"point\" transform=\"translate(235.29,376.25)\" d=\"M3,0A3,3 0 1,1 0,-3A3,3 0 0,1 3,0Z\" style=\"opacity: 1; stroke-width: 0px; fill: rgb(11, 109, 162); fill-opacity: 1;\"/><path class=\"point\" transform=\"translate(235.89,376.25)\" d=\"M3,0A3,3 0 1,1 0,-3A3,3 0 0,1 3,0Z\" style=\"opacity: 1; stroke-width: 0px; fill: rgb(11, 109, 162); fill-opacity: 1;\"/><path class=\"point\" transform=\"translate(236.49,376.25)\" d=\"M3,0A3,3 0 1,1 0,-3A3,3 0 0,1 3,0Z\" style=\"opacity: 1; stroke-width: 0px; fill: rgb(11, 109, 162); fill-opacity: 1;\"/><path class=\"point\" transform=\"translate(237.09,376.25)\" d=\"M3,0A3,3 0 1,1 0,-3A3,3 0 0,1 3,0Z\" style=\"opacity: 1; stroke-width: 0px; fill: rgb(11, 109, 162); fill-opacity: 1;\"/><path class=\"point\" transform=\"translate(237.69,376.25)\" d=\"M3,0A3,3 0 1,1 0,-3A3,3 0 0,1 3,0Z\" style=\"opacity: 1; stroke-width: 0px; fill: rgb(11, 109, 162); fill-opacity: 1;\"/><path class=\"point\" transform=\"translate(238.28,376.25)\" d=\"M3,0A3,3 0 1,1 0,-3A3,3 0 0,1 3,0Z\" style=\"opacity: 1; stroke-width: 0px; fill: rgb(11, 109, 162); fill-opacity: 1;\"/><path class=\"point\" transform=\"translate(238.88,376.25)\" d=\"M3,0A3,3 0 1,1 0,-3A3,3 0 0,1 3,0Z\" style=\"opacity: 1; stroke-width: 0px; fill: rgb(11, 109, 162); fill-opacity: 1;\"/><path class=\"point\" transform=\"translate(239.48,376.25)\" d=\"M3,0A3,3 0 1,1 0,-3A3,3 0 0,1 3,0Z\" style=\"opacity: 1; stroke-width: 0px; fill: rgb(11, 109, 162); fill-opacity: 1;\"/><path class=\"point\" transform=\"translate(240.08,376.25)\" d=\"M3,0A3,3 0 1,1 0,-3A3,3 0 0,1 3,0Z\" style=\"opacity: 1; stroke-width: 0px; fill: rgb(11, 109, 162); fill-opacity: 1;\"/><path class=\"point\" transform=\"translate(240.68,376.25)\" d=\"M3,0A3,3 0 1,1 0,-3A3,3 0 0,1 3,0Z\" style=\"opacity: 1; stroke-width: 0px; fill: rgb(11, 109, 162); fill-opacity: 1;\"/><path class=\"point\" transform=\"translate(241.28,376.25)\" d=\"M3,0A3,3 0 1,1 0,-3A3,3 0 0,1 3,0Z\" style=\"opacity: 1; stroke-width: 0px; fill: rgb(11, 109, 162); fill-opacity: 1;\"/><path class=\"point\" transform=\"translate(241.88,376.25)\" d=\"M3,0A3,3 0 1,1 0,-3A3,3 0 0,1 3,0Z\" style=\"opacity: 1; stroke-width: 0px; fill: rgb(11, 109, 162); fill-opacity: 1;\"/><path class=\"point\" transform=\"translate(242.48,376.25)\" d=\"M3,0A3,3 0 1,1 0,-3A3,3 0 0,1 3,0Z\" style=\"opacity: 1; stroke-width: 0px; fill: rgb(11, 109, 162); fill-opacity: 1;\"/><path class=\"point\" transform=\"translate(243.07,376.25)\" d=\"M3,0A3,3 0 1,1 0,-3A3,3 0 0,1 3,0Z\" style=\"opacity: 1; stroke-width: 0px; fill: rgb(11, 109, 162); fill-opacity: 1;\"/><path class=\"point\" transform=\"translate(243.67,376.25)\" d=\"M3,0A3,3 0 1,1 0,-3A3,3 0 0,1 3,0Z\" style=\"opacity: 1; stroke-width: 0px; fill: rgb(11, 109, 162); fill-opacity: 1;\"/><path class=\"point\" transform=\"translate(244.27,376.25)\" d=\"M3,0A3,3 0 1,1 0,-3A3,3 0 0,1 3,0Z\" style=\"opacity: 1; stroke-width: 0px; fill: rgb(11, 109, 162); fill-opacity: 1;\"/><path class=\"point\" transform=\"translate(244.87,376.25)\" d=\"M3,0A3,3 0 1,1 0,-3A3,3 0 0,1 3,0Z\" style=\"opacity: 1; stroke-width: 0px; fill: rgb(11, 109, 162); fill-opacity: 1;\"/><path class=\"point\" transform=\"translate(245.47,376.25)\" d=\"M3,0A3,3 0 1,1 0,-3A3,3 0 0,1 3,0Z\" style=\"opacity: 1; stroke-width: 0px; fill: rgb(11, 109, 162); fill-opacity: 1;\"/><path class=\"point\" transform=\"translate(246.07,376.25)\" d=\"M3,0A3,3 0 1,1 0,-3A3,3 0 0,1 3,0Z\" style=\"opacity: 1; stroke-width: 0px; fill: rgb(11, 109, 162); fill-opacity: 1;\"/><path class=\"point\" transform=\"translate(246.67,376.25)\" d=\"M3,0A3,3 0 1,1 0,-3A3,3 0 0,1 3,0Z\" style=\"opacity: 1; stroke-width: 0px; fill: rgb(11, 109, 162); fill-opacity: 1;\"/><path class=\"point\" transform=\"translate(247.27,376.25)\" d=\"M3,0A3,3 0 1,1 0,-3A3,3 0 0,1 3,0Z\" style=\"opacity: 1; stroke-width: 0px; fill: rgb(11, 109, 162); fill-opacity: 1;\"/><path class=\"point\" transform=\"translate(247.86,376.25)\" d=\"M3,0A3,3 0 1,1 0,-3A3,3 0 0,1 3,0Z\" style=\"opacity: 1; stroke-width: 0px; fill: rgb(11, 109, 162); fill-opacity: 1;\"/><path class=\"point\" transform=\"translate(248.46,376.25)\" d=\"M3,0A3,3 0 1,1 0,-3A3,3 0 0,1 3,0Z\" style=\"opacity: 1; stroke-width: 0px; fill: rgb(11, 109, 162); fill-opacity: 1;\"/><path class=\"point\" transform=\"translate(249.06,376.25)\" d=\"M3,0A3,3 0 1,1 0,-3A3,3 0 0,1 3,0Z\" style=\"opacity: 1; stroke-width: 0px; fill: rgb(11, 109, 162); fill-opacity: 1;\"/><path class=\"point\" transform=\"translate(249.66,376.25)\" d=\"M3,0A3,3 0 1,1 0,-3A3,3 0 0,1 3,0Z\" style=\"opacity: 1; stroke-width: 0px; fill: rgb(11, 109, 162); fill-opacity: 1;\"/><path class=\"point\" transform=\"translate(250.26,376.25)\" d=\"M3,0A3,3 0 1,1 0,-3A3,3 0 0,1 3,0Z\" style=\"opacity: 1; stroke-width: 0px; fill: rgb(11, 109, 162); fill-opacity: 1;\"/><path class=\"point\" transform=\"translate(250.86,376.25)\" d=\"M3,0A3,3 0 1,1 0,-3A3,3 0 0,1 3,0Z\" style=\"opacity: 1; stroke-width: 0px; fill: rgb(11, 109, 162); fill-opacity: 1;\"/><path class=\"point\" transform=\"translate(251.46,376.25)\" d=\"M3,0A3,3 0 1,1 0,-3A3,3 0 0,1 3,0Z\" style=\"opacity: 1; stroke-width: 0px; fill: rgb(11, 109, 162); fill-opacity: 1;\"/><path class=\"point\" transform=\"translate(252.06,376.25)\" d=\"M3,0A3,3 0 1,1 0,-3A3,3 0 0,1 3,0Z\" style=\"opacity: 1; stroke-width: 0px; fill: rgb(11, 109, 162); fill-opacity: 1;\"/><path class=\"point\" transform=\"translate(252.65,376.25)\" d=\"M3,0A3,3 0 1,1 0,-3A3,3 0 0,1 3,0Z\" style=\"opacity: 1; stroke-width: 0px; fill: rgb(11, 109, 162); fill-opacity: 1;\"/><path class=\"point\" transform=\"translate(253.25,376.25)\" d=\"M3,0A3,3 0 1,1 0,-3A3,3 0 0,1 3,0Z\" style=\"opacity: 1; stroke-width: 0px; fill: rgb(11, 109, 162); fill-opacity: 1;\"/><path class=\"point\" transform=\"translate(253.85,376.25)\" d=\"M3,0A3,3 0 1,1 0,-3A3,3 0 0,1 3,0Z\" style=\"opacity: 1; stroke-width: 0px; fill: rgb(11, 109, 162); fill-opacity: 1;\"/><path class=\"point\" transform=\"translate(254.45,376.25)\" d=\"M3,0A3,3 0 1,1 0,-3A3,3 0 0,1 3,0Z\" style=\"opacity: 1; stroke-width: 0px; fill: rgb(11, 109, 162); fill-opacity: 1;\"/><path class=\"point\" transform=\"translate(255.05,376.25)\" d=\"M3,0A3,3 0 1,1 0,-3A3,3 0 0,1 3,0Z\" style=\"opacity: 1; stroke-width: 0px; fill: rgb(11, 109, 162); fill-opacity: 1;\"/><path class=\"point\" transform=\"translate(255.65,376.25)\" d=\"M3,0A3,3 0 1,1 0,-3A3,3 0 0,1 3,0Z\" style=\"opacity: 1; stroke-width: 0px; fill: rgb(11, 109, 162); fill-opacity: 1;\"/><path class=\"point\" transform=\"translate(256.25,376.25)\" d=\"M3,0A3,3 0 1,1 0,-3A3,3 0 0,1 3,0Z\" style=\"opacity: 1; stroke-width: 0px; fill: rgb(11, 109, 162); fill-opacity: 1;\"/><path class=\"point\" transform=\"translate(256.85,376.25)\" d=\"M3,0A3,3 0 1,1 0,-3A3,3 0 0,1 3,0Z\" style=\"opacity: 1; stroke-width: 0px; fill: rgb(11, 109, 162); fill-opacity: 1;\"/><path class=\"point\" transform=\"translate(257.44,376.25)\" d=\"M3,0A3,3 0 1,1 0,-3A3,3 0 0,1 3,0Z\" style=\"opacity: 1; stroke-width: 0px; fill: rgb(11, 109, 162); fill-opacity: 1;\"/><path class=\"point\" transform=\"translate(258.04,376.25)\" d=\"M3,0A3,3 0 1,1 0,-3A3,3 0 0,1 3,0Z\" style=\"opacity: 1; stroke-width: 0px; fill: rgb(11, 109, 162); fill-opacity: 1;\"/><path class=\"point\" transform=\"translate(258.64,376.25)\" d=\"M3,0A3,3 0 1,1 0,-3A3,3 0 0,1 3,0Z\" style=\"opacity: 1; stroke-width: 0px; fill: rgb(11, 109, 162); fill-opacity: 1;\"/><path class=\"point\" transform=\"translate(259.24,376.25)\" d=\"M3,0A3,3 0 1,1 0,-3A3,3 0 0,1 3,0Z\" style=\"opacity: 1; stroke-width: 0px; fill: rgb(11, 109, 162); fill-opacity: 1;\"/><path class=\"point\" transform=\"translate(259.84,376.25)\" d=\"M3,0A3,3 0 1,1 0,-3A3,3 0 0,1 3,0Z\" style=\"opacity: 1; stroke-width: 0px; fill: rgb(11, 109, 162); fill-opacity: 1;\"/><path class=\"point\" transform=\"translate(260.44,376.25)\" d=\"M3,0A3,3 0 1,1 0,-3A3,3 0 0,1 3,0Z\" style=\"opacity: 1; stroke-width: 0px; fill: rgb(11, 109, 162); fill-opacity: 1;\"/><path class=\"point\" transform=\"translate(261.04,200)\" d=\"M3,0A3,3 0 1,1 0,-3A3,3 0 0,1 3,0Z\" style=\"opacity: 1; stroke-width: 0px; fill: rgb(11, 109, 162); fill-opacity: 1;\"/><path class=\"point\" transform=\"translate(261.64,376.25)\" d=\"M3,0A3,3 0 1,1 0,-3A3,3 0 0,1 3,0Z\" style=\"opacity: 1; stroke-width: 0px; fill: rgb(11, 109, 162); fill-opacity: 1;\"/><path class=\"point\" transform=\"translate(262.23,376.25)\" d=\"M3,0A3,3 0 1,1 0,-3A3,3 0 0,1 3,0Z\" style=\"opacity: 1; stroke-width: 0px; fill: rgb(11, 109, 162); fill-opacity: 1;\"/><path class=\"point\" transform=\"translate(262.83,376.25)\" d=\"M3,0A3,3 0 1,1 0,-3A3,3 0 0,1 3,0Z\" style=\"opacity: 1; stroke-width: 0px; fill: rgb(11, 109, 162); fill-opacity: 1;\"/><path class=\"point\" transform=\"translate(263.43,376.25)\" d=\"M3,0A3,3 0 1,1 0,-3A3,3 0 0,1 3,0Z\" style=\"opacity: 1; stroke-width: 0px; fill: rgb(11, 109, 162); fill-opacity: 1;\"/><path class=\"point\" transform=\"translate(264.03,200)\" d=\"M3,0A3,3 0 1,1 0,-3A3,3 0 0,1 3,0Z\" style=\"opacity: 1; stroke-width: 0px; fill: rgb(11, 109, 162); fill-opacity: 1;\"/><path class=\"point\" transform=\"translate(264.63,376.25)\" d=\"M3,0A3,3 0 1,1 0,-3A3,3 0 0,1 3,0Z\" style=\"opacity: 1; stroke-width: 0px; fill: rgb(11, 109, 162); fill-opacity: 1;\"/><path class=\"point\" transform=\"translate(265.23,376.25)\" d=\"M3,0A3,3 0 1,1 0,-3A3,3 0 0,1 3,0Z\" style=\"opacity: 1; stroke-width: 0px; fill: rgb(11, 109, 162); fill-opacity: 1;\"/><path class=\"point\" transform=\"translate(265.83,376.25)\" d=\"M3,0A3,3 0 1,1 0,-3A3,3 0 0,1 3,0Z\" style=\"opacity: 1; stroke-width: 0px; fill: rgb(11, 109, 162); fill-opacity: 1;\"/><path class=\"point\" transform=\"translate(266.43,376.25)\" d=\"M3,0A3,3 0 1,1 0,-3A3,3 0 0,1 3,0Z\" style=\"opacity: 1; stroke-width: 0px; fill: rgb(11, 109, 162); fill-opacity: 1;\"/><path class=\"point\" transform=\"translate(267.02,376.25)\" d=\"M3,0A3,3 0 1,1 0,-3A3,3 0 0,1 3,0Z\" style=\"opacity: 1; stroke-width: 0px; fill: rgb(11, 109, 162); fill-opacity: 1;\"/><path class=\"point\" transform=\"translate(267.62,376.25)\" d=\"M3,0A3,3 0 1,1 0,-3A3,3 0 0,1 3,0Z\" style=\"opacity: 1; stroke-width: 0px; fill: rgb(11, 109, 162); fill-opacity: 1;\"/><path class=\"point\" transform=\"translate(268.22,376.25)\" d=\"M3,0A3,3 0 1,1 0,-3A3,3 0 0,1 3,0Z\" style=\"opacity: 1; stroke-width: 0px; fill: rgb(11, 109, 162); fill-opacity: 1;\"/><path class=\"point\" transform=\"translate(268.82,376.25)\" d=\"M3,0A3,3 0 1,1 0,-3A3,3 0 0,1 3,0Z\" style=\"opacity: 1; stroke-width: 0px; fill: rgb(11, 109, 162); fill-opacity: 1;\"/><path class=\"point\" transform=\"translate(269.42,376.25)\" d=\"M3,0A3,3 0 1,1 0,-3A3,3 0 0,1 3,0Z\" style=\"opacity: 1; stroke-width: 0px; fill: rgb(11, 109, 162); fill-opacity: 1;\"/><path class=\"point\" transform=\"translate(270.02,376.25)\" d=\"M3,0A3,3 0 1,1 0,-3A3,3 0 0,1 3,0Z\" style=\"opacity: 1; stroke-width: 0px; fill: rgb(11, 109, 162); fill-opacity: 1;\"/><path class=\"point\" transform=\"translate(270.62,376.25)\" d=\"M3,0A3,3 0 1,1 0,-3A3,3 0 0,1 3,0Z\" style=\"opacity: 1; stroke-width: 0px; fill: rgb(11, 109, 162); fill-opacity: 1;\"/><path class=\"point\" transform=\"translate(271.22,376.25)\" d=\"M3,0A3,3 0 1,1 0,-3A3,3 0 0,1 3,0Z\" style=\"opacity: 1; stroke-width: 0px; fill: rgb(11, 109, 162); fill-opacity: 1;\"/><path class=\"point\" transform=\"translate(271.81,376.25)\" d=\"M3,0A3,3 0 1,1 0,-3A3,3 0 0,1 3,0Z\" style=\"opacity: 1; stroke-width: 0px; fill: rgb(11, 109, 162); fill-opacity: 1;\"/><path class=\"point\" transform=\"translate(272.41,376.25)\" d=\"M3,0A3,3 0 1,1 0,-3A3,3 0 0,1 3,0Z\" style=\"opacity: 1; stroke-width: 0px; fill: rgb(11, 109, 162); fill-opacity: 1;\"/><path class=\"point\" transform=\"translate(273.01,376.25)\" d=\"M3,0A3,3 0 1,1 0,-3A3,3 0 0,1 3,0Z\" style=\"opacity: 1; stroke-width: 0px; fill: rgb(11, 109, 162); fill-opacity: 1;\"/><path class=\"point\" transform=\"translate(273.61,376.25)\" d=\"M3,0A3,3 0 1,1 0,-3A3,3 0 0,1 3,0Z\" style=\"opacity: 1; stroke-width: 0px; fill: rgb(11, 109, 162); fill-opacity: 1;\"/><path class=\"point\" transform=\"translate(274.21,376.25)\" d=\"M3,0A3,3 0 1,1 0,-3A3,3 0 0,1 3,0Z\" style=\"opacity: 1; stroke-width: 0px; fill: rgb(11, 109, 162); fill-opacity: 1;\"/><path class=\"point\" transform=\"translate(274.81,376.25)\" d=\"M3,0A3,3 0 1,1 0,-3A3,3 0 0,1 3,0Z\" style=\"opacity: 1; stroke-width: 0px; fill: rgb(11, 109, 162); fill-opacity: 1;\"/><path class=\"point\" transform=\"translate(275.41,376.25)\" d=\"M3,0A3,3 0 1,1 0,-3A3,3 0 0,1 3,0Z\" style=\"opacity: 1; stroke-width: 0px; fill: rgb(11, 109, 162); fill-opacity: 1;\"/><path class=\"point\" transform=\"translate(276.01,376.25)\" d=\"M3,0A3,3 0 1,1 0,-3A3,3 0 0,1 3,0Z\" style=\"opacity: 1; stroke-width: 0px; fill: rgb(11, 109, 162); fill-opacity: 1;\"/><path class=\"point\" transform=\"translate(276.6,376.25)\" d=\"M3,0A3,3 0 1,1 0,-3A3,3 0 0,1 3,0Z\" style=\"opacity: 1; stroke-width: 0px; fill: rgb(11, 109, 162); fill-opacity: 1;\"/><path class=\"point\" transform=\"translate(277.2,376.25)\" d=\"M3,0A3,3 0 1,1 0,-3A3,3 0 0,1 3,0Z\" style=\"opacity: 1; stroke-width: 0px; fill: rgb(11, 109, 162); fill-opacity: 1;\"/><path class=\"point\" transform=\"translate(277.8,376.25)\" d=\"M3,0A3,3 0 1,1 0,-3A3,3 0 0,1 3,0Z\" style=\"opacity: 1; stroke-width: 0px; fill: rgb(11, 109, 162); fill-opacity: 1;\"/><path class=\"point\" transform=\"translate(278.4,376.25)\" d=\"M3,0A3,3 0 1,1 0,-3A3,3 0 0,1 3,0Z\" style=\"opacity: 1; stroke-width: 0px; fill: rgb(11, 109, 162); fill-opacity: 1;\"/><path class=\"point\" transform=\"translate(279,376.25)\" d=\"M3,0A3,3 0 1,1 0,-3A3,3 0 0,1 3,0Z\" style=\"opacity: 1; stroke-width: 0px; fill: rgb(11, 109, 162); fill-opacity: 1;\"/><path class=\"point\" transform=\"translate(279.6,376.25)\" d=\"M3,0A3,3 0 1,1 0,-3A3,3 0 0,1 3,0Z\" style=\"opacity: 1; stroke-width: 0px; fill: rgb(11, 109, 162); fill-opacity: 1;\"/><path class=\"point\" transform=\"translate(280.2,200)\" d=\"M3,0A3,3 0 1,1 0,-3A3,3 0 0,1 3,0Z\" style=\"opacity: 1; stroke-width: 0px; fill: rgb(11, 109, 162); fill-opacity: 1;\"/><path class=\"point\" transform=\"translate(280.8,376.25)\" d=\"M3,0A3,3 0 1,1 0,-3A3,3 0 0,1 3,0Z\" style=\"opacity: 1; stroke-width: 0px; fill: rgb(11, 109, 162); fill-opacity: 1;\"/><path class=\"point\" transform=\"translate(281.4,376.25)\" d=\"M3,0A3,3 0 1,1 0,-3A3,3 0 0,1 3,0Z\" style=\"opacity: 1; stroke-width: 0px; fill: rgb(11, 109, 162); fill-opacity: 1;\"/><path class=\"point\" transform=\"translate(281.99,376.25)\" d=\"M3,0A3,3 0 1,1 0,-3A3,3 0 0,1 3,0Z\" style=\"opacity: 1; stroke-width: 0px; fill: rgb(11, 109, 162); fill-opacity: 1;\"/><path class=\"point\" transform=\"translate(282.59,376.25)\" d=\"M3,0A3,3 0 1,1 0,-3A3,3 0 0,1 3,0Z\" style=\"opacity: 1; stroke-width: 0px; fill: rgb(11, 109, 162); fill-opacity: 1;\"/><path class=\"point\" transform=\"translate(283.19,376.25)\" d=\"M3,0A3,3 0 1,1 0,-3A3,3 0 0,1 3,0Z\" style=\"opacity: 1; stroke-width: 0px; fill: rgb(11, 109, 162); fill-opacity: 1;\"/><path class=\"point\" transform=\"translate(283.79,376.25)\" d=\"M3,0A3,3 0 1,1 0,-3A3,3 0 0,1 3,0Z\" style=\"opacity: 1; stroke-width: 0px; fill: rgb(11, 109, 162); fill-opacity: 1;\"/><path class=\"point\" transform=\"translate(284.39,376.25)\" d=\"M3,0A3,3 0 1,1 0,-3A3,3 0 0,1 3,0Z\" style=\"opacity: 1; stroke-width: 0px; fill: rgb(11, 109, 162); fill-opacity: 1;\"/><path class=\"point\" transform=\"translate(284.99,376.25)\" d=\"M3,0A3,3 0 1,1 0,-3A3,3 0 0,1 3,0Z\" style=\"opacity: 1; stroke-width: 0px; fill: rgb(11, 109, 162); fill-opacity: 1;\"/><path class=\"point\" transform=\"translate(285.59,376.25)\" d=\"M3,0A3,3 0 1,1 0,-3A3,3 0 0,1 3,0Z\" style=\"opacity: 1; stroke-width: 0px; fill: rgb(11, 109, 162); fill-opacity: 1;\"/><path class=\"point\" transform=\"translate(286.19,376.25)\" d=\"M3,0A3,3 0 1,1 0,-3A3,3 0 0,1 3,0Z\" style=\"opacity: 1; stroke-width: 0px; fill: rgb(11, 109, 162); fill-opacity: 1;\"/><path class=\"point\" transform=\"translate(286.78,376.25)\" d=\"M3,0A3,3 0 1,1 0,-3A3,3 0 0,1 3,0Z\" style=\"opacity: 1; stroke-width: 0px; fill: rgb(11, 109, 162); fill-opacity: 1;\"/><path class=\"point\" transform=\"translate(287.38,376.25)\" d=\"M3,0A3,3 0 1,1 0,-3A3,3 0 0,1 3,0Z\" style=\"opacity: 1; stroke-width: 0px; fill: rgb(11, 109, 162); fill-opacity: 1;\"/><path class=\"point\" transform=\"translate(287.98,376.25)\" d=\"M3,0A3,3 0 1,1 0,-3A3,3 0 0,1 3,0Z\" style=\"opacity: 1; stroke-width: 0px; fill: rgb(11, 109, 162); fill-opacity: 1;\"/><path class=\"point\" transform=\"translate(288.58,376.25)\" d=\"M3,0A3,3 0 1,1 0,-3A3,3 0 0,1 3,0Z\" style=\"opacity: 1; stroke-width: 0px; fill: rgb(11, 109, 162); fill-opacity: 1;\"/><path class=\"point\" transform=\"translate(289.18,376.25)\" d=\"M3,0A3,3 0 1,1 0,-3A3,3 0 0,1 3,0Z\" style=\"opacity: 1; stroke-width: 0px; fill: rgb(11, 109, 162); fill-opacity: 1;\"/><path class=\"point\" transform=\"translate(289.78,376.25)\" d=\"M3,0A3,3 0 1,1 0,-3A3,3 0 0,1 3,0Z\" style=\"opacity: 1; stroke-width: 0px; fill: rgb(11, 109, 162); fill-opacity: 1;\"/><path class=\"point\" transform=\"translate(290.38,376.25)\" d=\"M3,0A3,3 0 1,1 0,-3A3,3 0 0,1 3,0Z\" style=\"opacity: 1; stroke-width: 0px; fill: rgb(11, 109, 162); fill-opacity: 1;\"/><path class=\"point\" transform=\"translate(290.98,376.25)\" d=\"M3,0A3,3 0 1,1 0,-3A3,3 0 0,1 3,0Z\" style=\"opacity: 1; stroke-width: 0px; fill: rgb(11, 109, 162); fill-opacity: 1;\"/><path class=\"point\" transform=\"translate(291.57,376.25)\" d=\"M3,0A3,3 0 1,1 0,-3A3,3 0 0,1 3,0Z\" style=\"opacity: 1; stroke-width: 0px; fill: rgb(11, 109, 162); fill-opacity: 1;\"/><path class=\"point\" transform=\"translate(292.17,376.25)\" d=\"M3,0A3,3 0 1,1 0,-3A3,3 0 0,1 3,0Z\" style=\"opacity: 1; stroke-width: 0px; fill: rgb(11, 109, 162); fill-opacity: 1;\"/><path class=\"point\" transform=\"translate(292.77,376.25)\" d=\"M3,0A3,3 0 1,1 0,-3A3,3 0 0,1 3,0Z\" style=\"opacity: 1; stroke-width: 0px; fill: rgb(11, 109, 162); fill-opacity: 1;\"/><path class=\"point\" transform=\"translate(293.37,376.25)\" d=\"M3,0A3,3 0 1,1 0,-3A3,3 0 0,1 3,0Z\" style=\"opacity: 1; stroke-width: 0px; fill: rgb(11, 109, 162); fill-opacity: 1;\"/><path class=\"point\" transform=\"translate(293.97,376.25)\" d=\"M3,0A3,3 0 1,1 0,-3A3,3 0 0,1 3,0Z\" style=\"opacity: 1; stroke-width: 0px; fill: rgb(11, 109, 162); fill-opacity: 1;\"/><path class=\"point\" transform=\"translate(294.57,376.25)\" d=\"M3,0A3,3 0 1,1 0,-3A3,3 0 0,1 3,0Z\" style=\"opacity: 1; stroke-width: 0px; fill: rgb(11, 109, 162); fill-opacity: 1;\"/><path class=\"point\" transform=\"translate(295.17,376.25)\" d=\"M3,0A3,3 0 1,1 0,-3A3,3 0 0,1 3,0Z\" style=\"opacity: 1; stroke-width: 0px; fill: rgb(11, 109, 162); fill-opacity: 1;\"/><path class=\"point\" transform=\"translate(295.77,376.25)\" d=\"M3,0A3,3 0 1,1 0,-3A3,3 0 0,1 3,0Z\" style=\"opacity: 1; stroke-width: 0px; fill: rgb(11, 109, 162); fill-opacity: 1;\"/><path class=\"point\" transform=\"translate(296.36,376.25)\" d=\"M3,0A3,3 0 1,1 0,-3A3,3 0 0,1 3,0Z\" style=\"opacity: 1; stroke-width: 0px; fill: rgb(11, 109, 162); fill-opacity: 1;\"/><path class=\"point\" transform=\"translate(296.96,376.25)\" d=\"M3,0A3,3 0 1,1 0,-3A3,3 0 0,1 3,0Z\" style=\"opacity: 1; stroke-width: 0px; fill: rgb(11, 109, 162); fill-opacity: 1;\"/><path class=\"point\" transform=\"translate(297.56,376.25)\" d=\"M3,0A3,3 0 1,1 0,-3A3,3 0 0,1 3,0Z\" style=\"opacity: 1; stroke-width: 0px; fill: rgb(11, 109, 162); fill-opacity: 1;\"/><path class=\"point\" transform=\"translate(298.16,376.25)\" d=\"M3,0A3,3 0 1,1 0,-3A3,3 0 0,1 3,0Z\" style=\"opacity: 1; stroke-width: 0px; fill: rgb(11, 109, 162); fill-opacity: 1;\"/><path class=\"point\" transform=\"translate(298.76,376.25)\" d=\"M3,0A3,3 0 1,1 0,-3A3,3 0 0,1 3,0Z\" style=\"opacity: 1; stroke-width: 0px; fill: rgb(11, 109, 162); fill-opacity: 1;\"/><path class=\"point\" transform=\"translate(299.36,376.25)\" d=\"M3,0A3,3 0 1,1 0,-3A3,3 0 0,1 3,0Z\" style=\"opacity: 1; stroke-width: 0px; fill: rgb(11, 109, 162); fill-opacity: 1;\"/><path class=\"point\" transform=\"translate(299.96,376.25)\" d=\"M3,0A3,3 0 1,1 0,-3A3,3 0 0,1 3,0Z\" style=\"opacity: 1; stroke-width: 0px; fill: rgb(11, 109, 162); fill-opacity: 1;\"/><path class=\"point\" transform=\"translate(300.56,376.25)\" d=\"M3,0A3,3 0 1,1 0,-3A3,3 0 0,1 3,0Z\" style=\"opacity: 1; stroke-width: 0px; fill: rgb(11, 109, 162); fill-opacity: 1;\"/><path class=\"point\" transform=\"translate(301.15,376.25)\" d=\"M3,0A3,3 0 1,1 0,-3A3,3 0 0,1 3,0Z\" style=\"opacity: 1; stroke-width: 0px; fill: rgb(11, 109, 162); fill-opacity: 1;\"/><path class=\"point\" transform=\"translate(301.75,376.25)\" d=\"M3,0A3,3 0 1,1 0,-3A3,3 0 0,1 3,0Z\" style=\"opacity: 1; stroke-width: 0px; fill: rgb(11, 109, 162); fill-opacity: 1;\"/><path class=\"point\" transform=\"translate(302.35,376.25)\" d=\"M3,0A3,3 0 1,1 0,-3A3,3 0 0,1 3,0Z\" style=\"opacity: 1; stroke-width: 0px; fill: rgb(11, 109, 162); fill-opacity: 1;\"/><path class=\"point\" transform=\"translate(302.95,376.25)\" d=\"M3,0A3,3 0 1,1 0,-3A3,3 0 0,1 3,0Z\" style=\"opacity: 1; stroke-width: 0px; fill: rgb(11, 109, 162); fill-opacity: 1;\"/><path class=\"point\" transform=\"translate(303.55,376.25)\" d=\"M3,0A3,3 0 1,1 0,-3A3,3 0 0,1 3,0Z\" style=\"opacity: 1; stroke-width: 0px; fill: rgb(11, 109, 162); fill-opacity: 1;\"/><path class=\"point\" transform=\"translate(304.15,376.25)\" d=\"M3,0A3,3 0 1,1 0,-3A3,3 0 0,1 3,0Z\" style=\"opacity: 1; stroke-width: 0px; fill: rgb(11, 109, 162); fill-opacity: 1;\"/><path class=\"point\" transform=\"translate(304.75,376.25)\" d=\"M3,0A3,3 0 1,1 0,-3A3,3 0 0,1 3,0Z\" style=\"opacity: 1; stroke-width: 0px; fill: rgb(11, 109, 162); fill-opacity: 1;\"/><path class=\"point\" transform=\"translate(305.35,376.25)\" d=\"M3,0A3,3 0 1,1 0,-3A3,3 0 0,1 3,0Z\" style=\"opacity: 1; stroke-width: 0px; fill: rgb(11, 109, 162); fill-opacity: 1;\"/><path class=\"point\" transform=\"translate(305.94,376.25)\" d=\"M3,0A3,3 0 1,1 0,-3A3,3 0 0,1 3,0Z\" style=\"opacity: 1; stroke-width: 0px; fill: rgb(11, 109, 162); fill-opacity: 1;\"/><path class=\"point\" transform=\"translate(306.54,376.25)\" d=\"M3,0A3,3 0 1,1 0,-3A3,3 0 0,1 3,0Z\" style=\"opacity: 1; stroke-width: 0px; fill: rgb(11, 109, 162); fill-opacity: 1;\"/><path class=\"point\" transform=\"translate(307.14,200)\" d=\"M3,0A3,3 0 1,1 0,-3A3,3 0 0,1 3,0Z\" style=\"opacity: 1; stroke-width: 0px; fill: rgb(11, 109, 162); fill-opacity: 1;\"/><path class=\"point\" transform=\"translate(307.74,376.25)\" d=\"M3,0A3,3 0 1,1 0,-3A3,3 0 0,1 3,0Z\" style=\"opacity: 1; stroke-width: 0px; fill: rgb(11, 109, 162); fill-opacity: 1;\"/><path class=\"point\" transform=\"translate(308.34,376.25)\" d=\"M3,0A3,3 0 1,1 0,-3A3,3 0 0,1 3,0Z\" style=\"opacity: 1; stroke-width: 0px; fill: rgb(11, 109, 162); fill-opacity: 1;\"/><path class=\"point\" transform=\"translate(308.94,376.25)\" d=\"M3,0A3,3 0 1,1 0,-3A3,3 0 0,1 3,0Z\" style=\"opacity: 1; stroke-width: 0px; fill: rgb(11, 109, 162); fill-opacity: 1;\"/><path class=\"point\" transform=\"translate(309.54,376.25)\" d=\"M3,0A3,3 0 1,1 0,-3A3,3 0 0,1 3,0Z\" style=\"opacity: 1; stroke-width: 0px; fill: rgb(11, 109, 162); fill-opacity: 1;\"/><path class=\"point\" transform=\"translate(310.14,376.25)\" d=\"M3,0A3,3 0 1,1 0,-3A3,3 0 0,1 3,0Z\" style=\"opacity: 1; stroke-width: 0px; fill: rgb(11, 109, 162); fill-opacity: 1;\"/><path class=\"point\" transform=\"translate(310.73,376.25)\" d=\"M3,0A3,3 0 1,1 0,-3A3,3 0 0,1 3,0Z\" style=\"opacity: 1; stroke-width: 0px; fill: rgb(11, 109, 162); fill-opacity: 1;\"/><path class=\"point\" transform=\"translate(311.33,200)\" d=\"M3,0A3,3 0 1,1 0,-3A3,3 0 0,1 3,0Z\" style=\"opacity: 1; stroke-width: 0px; fill: rgb(11, 109, 162); fill-opacity: 1;\"/><path class=\"point\" transform=\"translate(311.93,376.25)\" d=\"M3,0A3,3 0 1,1 0,-3A3,3 0 0,1 3,0Z\" style=\"opacity: 1; stroke-width: 0px; fill: rgb(11, 109, 162); fill-opacity: 1;\"/><path class=\"point\" transform=\"translate(312.53,376.25)\" d=\"M3,0A3,3 0 1,1 0,-3A3,3 0 0,1 3,0Z\" style=\"opacity: 1; stroke-width: 0px; fill: rgb(11, 109, 162); fill-opacity: 1;\"/><path class=\"point\" transform=\"translate(313.13,376.25)\" d=\"M3,0A3,3 0 1,1 0,-3A3,3 0 0,1 3,0Z\" style=\"opacity: 1; stroke-width: 0px; fill: rgb(11, 109, 162); fill-opacity: 1;\"/><path class=\"point\" transform=\"translate(313.73,376.25)\" d=\"M3,0A3,3 0 1,1 0,-3A3,3 0 0,1 3,0Z\" style=\"opacity: 1; stroke-width: 0px; fill: rgb(11, 109, 162); fill-opacity: 1;\"/><path class=\"point\" transform=\"translate(314.33,376.25)\" d=\"M3,0A3,3 0 1,1 0,-3A3,3 0 0,1 3,0Z\" style=\"opacity: 1; stroke-width: 0px; fill: rgb(11, 109, 162); fill-opacity: 1;\"/><path class=\"point\" transform=\"translate(314.93,376.25)\" d=\"M3,0A3,3 0 1,1 0,-3A3,3 0 0,1 3,0Z\" style=\"opacity: 1; stroke-width: 0px; fill: rgb(11, 109, 162); fill-opacity: 1;\"/><path class=\"point\" transform=\"translate(315.52,376.25)\" d=\"M3,0A3,3 0 1,1 0,-3A3,3 0 0,1 3,0Z\" style=\"opacity: 1; stroke-width: 0px; fill: rgb(11, 109, 162); fill-opacity: 1;\"/><path class=\"point\" transform=\"translate(316.12,376.25)\" d=\"M3,0A3,3 0 1,1 0,-3A3,3 0 0,1 3,0Z\" style=\"opacity: 1; stroke-width: 0px; fill: rgb(11, 109, 162); fill-opacity: 1;\"/><path class=\"point\" transform=\"translate(316.72,376.25)\" d=\"M3,0A3,3 0 1,1 0,-3A3,3 0 0,1 3,0Z\" style=\"opacity: 1; stroke-width: 0px; fill: rgb(11, 109, 162); fill-opacity: 1;\"/><path class=\"point\" transform=\"translate(317.32,376.25)\" d=\"M3,0A3,3 0 1,1 0,-3A3,3 0 0,1 3,0Z\" style=\"opacity: 1; stroke-width: 0px; fill: rgb(11, 109, 162); fill-opacity: 1;\"/><path class=\"point\" transform=\"translate(317.92,376.25)\" d=\"M3,0A3,3 0 1,1 0,-3A3,3 0 0,1 3,0Z\" style=\"opacity: 1; stroke-width: 0px; fill: rgb(11, 109, 162); fill-opacity: 1;\"/><path class=\"point\" transform=\"translate(318.52,376.25)\" d=\"M3,0A3,3 0 1,1 0,-3A3,3 0 0,1 3,0Z\" style=\"opacity: 1; stroke-width: 0px; fill: rgb(11, 109, 162); fill-opacity: 1;\"/><path class=\"point\" transform=\"translate(319.12,376.25)\" d=\"M3,0A3,3 0 1,1 0,-3A3,3 0 0,1 3,0Z\" style=\"opacity: 1; stroke-width: 0px; fill: rgb(11, 109, 162); fill-opacity: 1;\"/><path class=\"point\" transform=\"translate(319.72,376.25)\" d=\"M3,0A3,3 0 1,1 0,-3A3,3 0 0,1 3,0Z\" style=\"opacity: 1; stroke-width: 0px; fill: rgb(11, 109, 162); fill-opacity: 1;\"/><path class=\"point\" transform=\"translate(320.31,376.25)\" d=\"M3,0A3,3 0 1,1 0,-3A3,3 0 0,1 3,0Z\" style=\"opacity: 1; stroke-width: 0px; fill: rgb(11, 109, 162); fill-opacity: 1;\"/><path class=\"point\" transform=\"translate(320.91,376.25)\" d=\"M3,0A3,3 0 1,1 0,-3A3,3 0 0,1 3,0Z\" style=\"opacity: 1; stroke-width: 0px; fill: rgb(11, 109, 162); fill-opacity: 1;\"/><path class=\"point\" transform=\"translate(321.51,200)\" d=\"M3,0A3,3 0 1,1 0,-3A3,3 0 0,1 3,0Z\" style=\"opacity: 1; stroke-width: 0px; fill: rgb(11, 109, 162); fill-opacity: 1;\"/><path class=\"point\" transform=\"translate(322.11,376.25)\" d=\"M3,0A3,3 0 1,1 0,-3A3,3 0 0,1 3,0Z\" style=\"opacity: 1; stroke-width: 0px; fill: rgb(11, 109, 162); fill-opacity: 1;\"/><path class=\"point\" transform=\"translate(322.71,23.75)\" d=\"M3,0A3,3 0 1,1 0,-3A3,3 0 0,1 3,0Z\" style=\"opacity: 1; stroke-width: 0px; fill: rgb(11, 109, 162); fill-opacity: 1;\"/><path class=\"point\" transform=\"translate(323.31,376.25)\" d=\"M3,0A3,3 0 1,1 0,-3A3,3 0 0,1 3,0Z\" style=\"opacity: 1; stroke-width: 0px; fill: rgb(11, 109, 162); fill-opacity: 1;\"/><path class=\"point\" transform=\"translate(323.91,376.25)\" d=\"M3,0A3,3 0 1,1 0,-3A3,3 0 0,1 3,0Z\" style=\"opacity: 1; stroke-width: 0px; fill: rgb(11, 109, 162); fill-opacity: 1;\"/><path class=\"point\" transform=\"translate(324.51,376.25)\" d=\"M3,0A3,3 0 1,1 0,-3A3,3 0 0,1 3,0Z\" style=\"opacity: 1; stroke-width: 0px; fill: rgb(11, 109, 162); fill-opacity: 1;\"/><path class=\"point\" transform=\"translate(325.1,376.25)\" d=\"M3,0A3,3 0 1,1 0,-3A3,3 0 0,1 3,0Z\" style=\"opacity: 1; stroke-width: 0px; fill: rgb(11, 109, 162); fill-opacity: 1;\"/><path class=\"point\" transform=\"translate(325.7,376.25)\" d=\"M3,0A3,3 0 1,1 0,-3A3,3 0 0,1 3,0Z\" style=\"opacity: 1; stroke-width: 0px; fill: rgb(11, 109, 162); fill-opacity: 1;\"/><path class=\"point\" transform=\"translate(326.3,376.25)\" d=\"M3,0A3,3 0 1,1 0,-3A3,3 0 0,1 3,0Z\" style=\"opacity: 1; stroke-width: 0px; fill: rgb(11, 109, 162); fill-opacity: 1;\"/><path class=\"point\" transform=\"translate(326.9,376.25)\" d=\"M3,0A3,3 0 1,1 0,-3A3,3 0 0,1 3,0Z\" style=\"opacity: 1; stroke-width: 0px; fill: rgb(11, 109, 162); fill-opacity: 1;\"/><path class=\"point\" transform=\"translate(327.5,376.25)\" d=\"M3,0A3,3 0 1,1 0,-3A3,3 0 0,1 3,0Z\" style=\"opacity: 1; stroke-width: 0px; fill: rgb(11, 109, 162); fill-opacity: 1;\"/><path class=\"point\" transform=\"translate(328.1,376.25)\" d=\"M3,0A3,3 0 1,1 0,-3A3,3 0 0,1 3,0Z\" style=\"opacity: 1; stroke-width: 0px; fill: rgb(11, 109, 162); fill-opacity: 1;\"/><path class=\"point\" transform=\"translate(328.7,376.25)\" d=\"M3,0A3,3 0 1,1 0,-3A3,3 0 0,1 3,0Z\" style=\"opacity: 1; stroke-width: 0px; fill: rgb(11, 109, 162); fill-opacity: 1;\"/><path class=\"point\" transform=\"translate(329.3,376.25)\" d=\"M3,0A3,3 0 1,1 0,-3A3,3 0 0,1 3,0Z\" style=\"opacity: 1; stroke-width: 0px; fill: rgb(11, 109, 162); fill-opacity: 1;\"/><path class=\"point\" transform=\"translate(329.9,376.25)\" d=\"M3,0A3,3 0 1,1 0,-3A3,3 0 0,1 3,0Z\" style=\"opacity: 1; stroke-width: 0px; fill: rgb(11, 109, 162); fill-opacity: 1;\"/><path class=\"point\" transform=\"translate(330.49,376.25)\" d=\"M3,0A3,3 0 1,1 0,-3A3,3 0 0,1 3,0Z\" style=\"opacity: 1; stroke-width: 0px; fill: rgb(11, 109, 162); fill-opacity: 1;\"/><path class=\"point\" transform=\"translate(331.09,376.25)\" d=\"M3,0A3,3 0 1,1 0,-3A3,3 0 0,1 3,0Z\" style=\"opacity: 1; stroke-width: 0px; fill: rgb(11, 109, 162); fill-opacity: 1;\"/><path class=\"point\" transform=\"translate(331.69,376.25)\" d=\"M3,0A3,3 0 1,1 0,-3A3,3 0 0,1 3,0Z\" style=\"opacity: 1; stroke-width: 0px; fill: rgb(11, 109, 162); fill-opacity: 1;\"/><path class=\"point\" transform=\"translate(332.29,376.25)\" d=\"M3,0A3,3 0 1,1 0,-3A3,3 0 0,1 3,0Z\" style=\"opacity: 1; stroke-width: 0px; fill: rgb(11, 109, 162); fill-opacity: 1;\"/><path class=\"point\" transform=\"translate(332.89,376.25)\" d=\"M3,0A3,3 0 1,1 0,-3A3,3 0 0,1 3,0Z\" style=\"opacity: 1; stroke-width: 0px; fill: rgb(11, 109, 162); fill-opacity: 1;\"/><path class=\"point\" transform=\"translate(333.49,376.25)\" d=\"M3,0A3,3 0 1,1 0,-3A3,3 0 0,1 3,0Z\" style=\"opacity: 1; stroke-width: 0px; fill: rgb(11, 109, 162); fill-opacity: 1;\"/><path class=\"point\" transform=\"translate(334.09,376.25)\" d=\"M3,0A3,3 0 1,1 0,-3A3,3 0 0,1 3,0Z\" style=\"opacity: 1; stroke-width: 0px; fill: rgb(11, 109, 162); fill-opacity: 1;\"/><path class=\"point\" transform=\"translate(334.69,376.25)\" d=\"M3,0A3,3 0 1,1 0,-3A3,3 0 0,1 3,0Z\" style=\"opacity: 1; stroke-width: 0px; fill: rgb(11, 109, 162); fill-opacity: 1;\"/><path class=\"point\" transform=\"translate(335.28,376.25)\" d=\"M3,0A3,3 0 1,1 0,-3A3,3 0 0,1 3,0Z\" style=\"opacity: 1; stroke-width: 0px; fill: rgb(11, 109, 162); fill-opacity: 1;\"/><path class=\"point\" transform=\"translate(335.88,376.25)\" d=\"M3,0A3,3 0 1,1 0,-3A3,3 0 0,1 3,0Z\" style=\"opacity: 1; stroke-width: 0px; fill: rgb(11, 109, 162); fill-opacity: 1;\"/><path class=\"point\" transform=\"translate(336.48,376.25)\" d=\"M3,0A3,3 0 1,1 0,-3A3,3 0 0,1 3,0Z\" style=\"opacity: 1; stroke-width: 0px; fill: rgb(11, 109, 162); fill-opacity: 1;\"/><path class=\"point\" transform=\"translate(337.08,376.25)\" d=\"M3,0A3,3 0 1,1 0,-3A3,3 0 0,1 3,0Z\" style=\"opacity: 1; stroke-width: 0px; fill: rgb(11, 109, 162); fill-opacity: 1;\"/><path class=\"point\" transform=\"translate(337.68,376.25)\" d=\"M3,0A3,3 0 1,1 0,-3A3,3 0 0,1 3,0Z\" style=\"opacity: 1; stroke-width: 0px; fill: rgb(11, 109, 162); fill-opacity: 1;\"/><path class=\"point\" transform=\"translate(338.28,376.25)\" d=\"M3,0A3,3 0 1,1 0,-3A3,3 0 0,1 3,0Z\" style=\"opacity: 1; stroke-width: 0px; fill: rgb(11, 109, 162); fill-opacity: 1;\"/><path class=\"point\" transform=\"translate(338.88,376.25)\" d=\"M3,0A3,3 0 1,1 0,-3A3,3 0 0,1 3,0Z\" style=\"opacity: 1; stroke-width: 0px; fill: rgb(11, 109, 162); fill-opacity: 1;\"/><path class=\"point\" transform=\"translate(339.48,376.25)\" d=\"M3,0A3,3 0 1,1 0,-3A3,3 0 0,1 3,0Z\" style=\"opacity: 1; stroke-width: 0px; fill: rgb(11, 109, 162); fill-opacity: 1;\"/><path class=\"point\" transform=\"translate(340.07,376.25)\" d=\"M3,0A3,3 0 1,1 0,-3A3,3 0 0,1 3,0Z\" style=\"opacity: 1; stroke-width: 0px; fill: rgb(11, 109, 162); fill-opacity: 1;\"/><path class=\"point\" transform=\"translate(340.67,376.25)\" d=\"M3,0A3,3 0 1,1 0,-3A3,3 0 0,1 3,0Z\" style=\"opacity: 1; stroke-width: 0px; fill: rgb(11, 109, 162); fill-opacity: 1;\"/><path class=\"point\" transform=\"translate(341.27,200)\" d=\"M3,0A3,3 0 1,1 0,-3A3,3 0 0,1 3,0Z\" style=\"opacity: 1; stroke-width: 0px; fill: rgb(11, 109, 162); fill-opacity: 1;\"/><path class=\"point\" transform=\"translate(341.87,376.25)\" d=\"M3,0A3,3 0 1,1 0,-3A3,3 0 0,1 3,0Z\" style=\"opacity: 1; stroke-width: 0px; fill: rgb(11, 109, 162); fill-opacity: 1;\"/><path class=\"point\" transform=\"translate(342.47,376.25)\" d=\"M3,0A3,3 0 1,1 0,-3A3,3 0 0,1 3,0Z\" style=\"opacity: 1; stroke-width: 0px; fill: rgb(11, 109, 162); fill-opacity: 1;\"/><path class=\"point\" transform=\"translate(343.07,376.25)\" d=\"M3,0A3,3 0 1,1 0,-3A3,3 0 0,1 3,0Z\" style=\"opacity: 1; stroke-width: 0px; fill: rgb(11, 109, 162); fill-opacity: 1;\"/><path class=\"point\" transform=\"translate(343.67,376.25)\" d=\"M3,0A3,3 0 1,1 0,-3A3,3 0 0,1 3,0Z\" style=\"opacity: 1; stroke-width: 0px; fill: rgb(11, 109, 162); fill-opacity: 1;\"/><path class=\"point\" transform=\"translate(344.27,376.25)\" d=\"M3,0A3,3 0 1,1 0,-3A3,3 0 0,1 3,0Z\" style=\"opacity: 1; stroke-width: 0px; fill: rgb(11, 109, 162); fill-opacity: 1;\"/><path class=\"point\" transform=\"translate(344.86,376.25)\" d=\"M3,0A3,3 0 1,1 0,-3A3,3 0 0,1 3,0Z\" style=\"opacity: 1; stroke-width: 0px; fill: rgb(11, 109, 162); fill-opacity: 1;\"/><path class=\"point\" transform=\"translate(345.46,376.25)\" d=\"M3,0A3,3 0 1,1 0,-3A3,3 0 0,1 3,0Z\" style=\"opacity: 1; stroke-width: 0px; fill: rgb(11, 109, 162); fill-opacity: 1;\"/><path class=\"point\" transform=\"translate(346.06,376.25)\" d=\"M3,0A3,3 0 1,1 0,-3A3,3 0 0,1 3,0Z\" style=\"opacity: 1; stroke-width: 0px; fill: rgb(11, 109, 162); fill-opacity: 1;\"/><path class=\"point\" transform=\"translate(346.66,376.25)\" d=\"M3,0A3,3 0 1,1 0,-3A3,3 0 0,1 3,0Z\" style=\"opacity: 1; stroke-width: 0px; fill: rgb(11, 109, 162); fill-opacity: 1;\"/><path class=\"point\" transform=\"translate(347.26,376.25)\" d=\"M3,0A3,3 0 1,1 0,-3A3,3 0 0,1 3,0Z\" style=\"opacity: 1; stroke-width: 0px; fill: rgb(11, 109, 162); fill-opacity: 1;\"/><path class=\"point\" transform=\"translate(347.86,376.25)\" d=\"M3,0A3,3 0 1,1 0,-3A3,3 0 0,1 3,0Z\" style=\"opacity: 1; stroke-width: 0px; fill: rgb(11, 109, 162); fill-opacity: 1;\"/><path class=\"point\" transform=\"translate(348.46,376.25)\" d=\"M3,0A3,3 0 1,1 0,-3A3,3 0 0,1 3,0Z\" style=\"opacity: 1; stroke-width: 0px; fill: rgb(11, 109, 162); fill-opacity: 1;\"/><path class=\"point\" transform=\"translate(349.06,376.25)\" d=\"M3,0A3,3 0 1,1 0,-3A3,3 0 0,1 3,0Z\" style=\"opacity: 1; stroke-width: 0px; fill: rgb(11, 109, 162); fill-opacity: 1;\"/><path class=\"point\" transform=\"translate(349.65,376.25)\" d=\"M3,0A3,3 0 1,1 0,-3A3,3 0 0,1 3,0Z\" style=\"opacity: 1; stroke-width: 0px; fill: rgb(11, 109, 162); fill-opacity: 1;\"/><path class=\"point\" transform=\"translate(350.25,376.25)\" d=\"M3,0A3,3 0 1,1 0,-3A3,3 0 0,1 3,0Z\" style=\"opacity: 1; stroke-width: 0px; fill: rgb(11, 109, 162); fill-opacity: 1;\"/><path class=\"point\" transform=\"translate(350.85,376.25)\" d=\"M3,0A3,3 0 1,1 0,-3A3,3 0 0,1 3,0Z\" style=\"opacity: 1; stroke-width: 0px; fill: rgb(11, 109, 162); fill-opacity: 1;\"/><path class=\"point\" transform=\"translate(351.45,376.25)\" d=\"M3,0A3,3 0 1,1 0,-3A3,3 0 0,1 3,0Z\" style=\"opacity: 1; stroke-width: 0px; fill: rgb(11, 109, 162); fill-opacity: 1;\"/><path class=\"point\" transform=\"translate(352.05,376.25)\" d=\"M3,0A3,3 0 1,1 0,-3A3,3 0 0,1 3,0Z\" style=\"opacity: 1; stroke-width: 0px; fill: rgb(11, 109, 162); fill-opacity: 1;\"/><path class=\"point\" transform=\"translate(352.65,376.25)\" d=\"M3,0A3,3 0 1,1 0,-3A3,3 0 0,1 3,0Z\" style=\"opacity: 1; stroke-width: 0px; fill: rgb(11, 109, 162); fill-opacity: 1;\"/><path class=\"point\" transform=\"translate(353.25,200)\" d=\"M3,0A3,3 0 1,1 0,-3A3,3 0 0,1 3,0Z\" style=\"opacity: 1; stroke-width: 0px; fill: rgb(11, 109, 162); fill-opacity: 1;\"/><path class=\"point\" transform=\"translate(353.85,376.25)\" d=\"M3,0A3,3 0 1,1 0,-3A3,3 0 0,1 3,0Z\" style=\"opacity: 1; stroke-width: 0px; fill: rgb(11, 109, 162); fill-opacity: 1;\"/><path class=\"point\" transform=\"translate(354.44,376.25)\" d=\"M3,0A3,3 0 1,1 0,-3A3,3 0 0,1 3,0Z\" style=\"opacity: 1; stroke-width: 0px; fill: rgb(11, 109, 162); fill-opacity: 1;\"/><path class=\"point\" transform=\"translate(355.04,376.25)\" d=\"M3,0A3,3 0 1,1 0,-3A3,3 0 0,1 3,0Z\" style=\"opacity: 1; stroke-width: 0px; fill: rgb(11, 109, 162); fill-opacity: 1;\"/><path class=\"point\" transform=\"translate(355.64,376.25)\" d=\"M3,0A3,3 0 1,1 0,-3A3,3 0 0,1 3,0Z\" style=\"opacity: 1; stroke-width: 0px; fill: rgb(11, 109, 162); fill-opacity: 1;\"/><path class=\"point\" transform=\"translate(356.24,376.25)\" d=\"M3,0A3,3 0 1,1 0,-3A3,3 0 0,1 3,0Z\" style=\"opacity: 1; stroke-width: 0px; fill: rgb(11, 109, 162); fill-opacity: 1;\"/><path class=\"point\" transform=\"translate(356.84,376.25)\" d=\"M3,0A3,3 0 1,1 0,-3A3,3 0 0,1 3,0Z\" style=\"opacity: 1; stroke-width: 0px; fill: rgb(11, 109, 162); fill-opacity: 1;\"/><path class=\"point\" transform=\"translate(357.44,376.25)\" d=\"M3,0A3,3 0 1,1 0,-3A3,3 0 0,1 3,0Z\" style=\"opacity: 1; stroke-width: 0px; fill: rgb(11, 109, 162); fill-opacity: 1;\"/><path class=\"point\" transform=\"translate(358.04,376.25)\" d=\"M3,0A3,3 0 1,1 0,-3A3,3 0 0,1 3,0Z\" style=\"opacity: 1; stroke-width: 0px; fill: rgb(11, 109, 162); fill-opacity: 1;\"/><path class=\"point\" transform=\"translate(358.64,376.25)\" d=\"M3,0A3,3 0 1,1 0,-3A3,3 0 0,1 3,0Z\" style=\"opacity: 1; stroke-width: 0px; fill: rgb(11, 109, 162); fill-opacity: 1;\"/><path class=\"point\" transform=\"translate(359.23,200)\" d=\"M3,0A3,3 0 1,1 0,-3A3,3 0 0,1 3,0Z\" style=\"opacity: 1; stroke-width: 0px; fill: rgb(11, 109, 162); fill-opacity: 1;\"/><path class=\"point\" transform=\"translate(359.83,376.25)\" d=\"M3,0A3,3 0 1,1 0,-3A3,3 0 0,1 3,0Z\" style=\"opacity: 1; stroke-width: 0px; fill: rgb(11, 109, 162); fill-opacity: 1;\"/><path class=\"point\" transform=\"translate(360.43,376.25)\" d=\"M3,0A3,3 0 1,1 0,-3A3,3 0 0,1 3,0Z\" style=\"opacity: 1; stroke-width: 0px; fill: rgb(11, 109, 162); fill-opacity: 1;\"/><path class=\"point\" transform=\"translate(361.03,376.25)\" d=\"M3,0A3,3 0 1,1 0,-3A3,3 0 0,1 3,0Z\" style=\"opacity: 1; stroke-width: 0px; fill: rgb(11, 109, 162); fill-opacity: 1;\"/><path class=\"point\" transform=\"translate(361.63,376.25)\" d=\"M3,0A3,3 0 1,1 0,-3A3,3 0 0,1 3,0Z\" style=\"opacity: 1; stroke-width: 0px; fill: rgb(11, 109, 162); fill-opacity: 1;\"/><path class=\"point\" transform=\"translate(362.23,376.25)\" d=\"M3,0A3,3 0 1,1 0,-3A3,3 0 0,1 3,0Z\" style=\"opacity: 1; stroke-width: 0px; fill: rgb(11, 109, 162); fill-opacity: 1;\"/><path class=\"point\" transform=\"translate(362.83,376.25)\" d=\"M3,0A3,3 0 1,1 0,-3A3,3 0 0,1 3,0Z\" style=\"opacity: 1; stroke-width: 0px; fill: rgb(11, 109, 162); fill-opacity: 1;\"/><path class=\"point\" transform=\"translate(363.43,376.25)\" d=\"M3,0A3,3 0 1,1 0,-3A3,3 0 0,1 3,0Z\" style=\"opacity: 1; stroke-width: 0px; fill: rgb(11, 109, 162); fill-opacity: 1;\"/><path class=\"point\" transform=\"translate(364.02,376.25)\" d=\"M3,0A3,3 0 1,1 0,-3A3,3 0 0,1 3,0Z\" style=\"opacity: 1; stroke-width: 0px; fill: rgb(11, 109, 162); fill-opacity: 1;\"/><path class=\"point\" transform=\"translate(364.62,200)\" d=\"M3,0A3,3 0 1,1 0,-3A3,3 0 0,1 3,0Z\" style=\"opacity: 1; stroke-width: 0px; fill: rgb(11, 109, 162); fill-opacity: 1;\"/><path class=\"point\" transform=\"translate(365.22,376.25)\" d=\"M3,0A3,3 0 1,1 0,-3A3,3 0 0,1 3,0Z\" style=\"opacity: 1; stroke-width: 0px; fill: rgb(11, 109, 162); fill-opacity: 1;\"/><path class=\"point\" transform=\"translate(365.82,376.25)\" d=\"M3,0A3,3 0 1,1 0,-3A3,3 0 0,1 3,0Z\" style=\"opacity: 1; stroke-width: 0px; fill: rgb(11, 109, 162); fill-opacity: 1;\"/><path class=\"point\" transform=\"translate(366.42,376.25)\" d=\"M3,0A3,3 0 1,1 0,-3A3,3 0 0,1 3,0Z\" style=\"opacity: 1; stroke-width: 0px; fill: rgb(11, 109, 162); fill-opacity: 1;\"/><path class=\"point\" transform=\"translate(367.02,376.25)\" d=\"M3,0A3,3 0 1,1 0,-3A3,3 0 0,1 3,0Z\" style=\"opacity: 1; stroke-width: 0px; fill: rgb(11, 109, 162); fill-opacity: 1;\"/><path class=\"point\" transform=\"translate(367.62,376.25)\" d=\"M3,0A3,3 0 1,1 0,-3A3,3 0 0,1 3,0Z\" style=\"opacity: 1; stroke-width: 0px; fill: rgb(11, 109, 162); fill-opacity: 1;\"/><path class=\"point\" transform=\"translate(368.22,376.25)\" d=\"M3,0A3,3 0 1,1 0,-3A3,3 0 0,1 3,0Z\" style=\"opacity: 1; stroke-width: 0px; fill: rgb(11, 109, 162); fill-opacity: 1;\"/><path class=\"point\" transform=\"translate(368.81,376.25)\" d=\"M3,0A3,3 0 1,1 0,-3A3,3 0 0,1 3,0Z\" style=\"opacity: 1; stroke-width: 0px; fill: rgb(11, 109, 162); fill-opacity: 1;\"/><path class=\"point\" transform=\"translate(369.41,376.25)\" d=\"M3,0A3,3 0 1,1 0,-3A3,3 0 0,1 3,0Z\" style=\"opacity: 1; stroke-width: 0px; fill: rgb(11, 109, 162); fill-opacity: 1;\"/><path class=\"point\" transform=\"translate(370.01,376.25)\" d=\"M3,0A3,3 0 1,1 0,-3A3,3 0 0,1 3,0Z\" style=\"opacity: 1; stroke-width: 0px; fill: rgb(11, 109, 162); fill-opacity: 1;\"/><path class=\"point\" transform=\"translate(370.61,376.25)\" d=\"M3,0A3,3 0 1,1 0,-3A3,3 0 0,1 3,0Z\" style=\"opacity: 1; stroke-width: 0px; fill: rgb(11, 109, 162); fill-opacity: 1;\"/><path class=\"point\" transform=\"translate(371.21,376.25)\" d=\"M3,0A3,3 0 1,1 0,-3A3,3 0 0,1 3,0Z\" style=\"opacity: 1; stroke-width: 0px; fill: rgb(11, 109, 162); fill-opacity: 1;\"/><path class=\"point\" transform=\"translate(371.81,376.25)\" d=\"M3,0A3,3 0 1,1 0,-3A3,3 0 0,1 3,0Z\" style=\"opacity: 1; stroke-width: 0px; fill: rgb(11, 109, 162); fill-opacity: 1;\"/><path class=\"point\" transform=\"translate(372.41,376.25)\" d=\"M3,0A3,3 0 1,1 0,-3A3,3 0 0,1 3,0Z\" style=\"opacity: 1; stroke-width: 0px; fill: rgb(11, 109, 162); fill-opacity: 1;\"/><path class=\"point\" transform=\"translate(373.01,376.25)\" d=\"M3,0A3,3 0 1,1 0,-3A3,3 0 0,1 3,0Z\" style=\"opacity: 1; stroke-width: 0px; fill: rgb(11, 109, 162); fill-opacity: 1;\"/><path class=\"point\" transform=\"translate(373.6,376.25)\" d=\"M3,0A3,3 0 1,1 0,-3A3,3 0 0,1 3,0Z\" style=\"opacity: 1; stroke-width: 0px; fill: rgb(11, 109, 162); fill-opacity: 1;\"/><path class=\"point\" transform=\"translate(374.2,376.25)\" d=\"M3,0A3,3 0 1,1 0,-3A3,3 0 0,1 3,0Z\" style=\"opacity: 1; stroke-width: 0px; fill: rgb(11, 109, 162); fill-opacity: 1;\"/><path class=\"point\" transform=\"translate(374.8,376.25)\" d=\"M3,0A3,3 0 1,1 0,-3A3,3 0 0,1 3,0Z\" style=\"opacity: 1; stroke-width: 0px; fill: rgb(11, 109, 162); fill-opacity: 1;\"/><path class=\"point\" transform=\"translate(375.4,376.25)\" d=\"M3,0A3,3 0 1,1 0,-3A3,3 0 0,1 3,0Z\" style=\"opacity: 1; stroke-width: 0px; fill: rgb(11, 109, 162); fill-opacity: 1;\"/><path class=\"point\" transform=\"translate(376,376.25)\" d=\"M3,0A3,3 0 1,1 0,-3A3,3 0 0,1 3,0Z\" style=\"opacity: 1; stroke-width: 0px; fill: rgb(11, 109, 162); fill-opacity: 1;\"/><path class=\"point\" transform=\"translate(376.6,376.25)\" d=\"M3,0A3,3 0 1,1 0,-3A3,3 0 0,1 3,0Z\" style=\"opacity: 1; stroke-width: 0px; fill: rgb(11, 109, 162); fill-opacity: 1;\"/><path class=\"point\" transform=\"translate(377.2,376.25)\" d=\"M3,0A3,3 0 1,1 0,-3A3,3 0 0,1 3,0Z\" style=\"opacity: 1; stroke-width: 0px; fill: rgb(11, 109, 162); fill-opacity: 1;\"/><path class=\"point\" transform=\"translate(377.8,376.25)\" d=\"M3,0A3,3 0 1,1 0,-3A3,3 0 0,1 3,0Z\" style=\"opacity: 1; stroke-width: 0px; fill: rgb(11, 109, 162); fill-opacity: 1;\"/><path class=\"point\" transform=\"translate(378.4,376.25)\" d=\"M3,0A3,3 0 1,1 0,-3A3,3 0 0,1 3,0Z\" style=\"opacity: 1; stroke-width: 0px; fill: rgb(11, 109, 162); fill-opacity: 1;\"/><path class=\"point\" transform=\"translate(378.99,376.25)\" d=\"M3,0A3,3 0 1,1 0,-3A3,3 0 0,1 3,0Z\" style=\"opacity: 1; stroke-width: 0px; fill: rgb(11, 109, 162); fill-opacity: 1;\"/><path class=\"point\" transform=\"translate(379.59,376.25)\" d=\"M3,0A3,3 0 1,1 0,-3A3,3 0 0,1 3,0Z\" style=\"opacity: 1; stroke-width: 0px; fill: rgb(11, 109, 162); fill-opacity: 1;\"/><path class=\"point\" transform=\"translate(380.19,376.25)\" d=\"M3,0A3,3 0 1,1 0,-3A3,3 0 0,1 3,0Z\" style=\"opacity: 1; stroke-width: 0px; fill: rgb(11, 109, 162); fill-opacity: 1;\"/><path class=\"point\" transform=\"translate(380.79,376.25)\" d=\"M3,0A3,3 0 1,1 0,-3A3,3 0 0,1 3,0Z\" style=\"opacity: 1; stroke-width: 0px; fill: rgb(11, 109, 162); fill-opacity: 1;\"/><path class=\"point\" transform=\"translate(381.39,376.25)\" d=\"M3,0A3,3 0 1,1 0,-3A3,3 0 0,1 3,0Z\" style=\"opacity: 1; stroke-width: 0px; fill: rgb(11, 109, 162); fill-opacity: 1;\"/><path class=\"point\" transform=\"translate(381.99,376.25)\" d=\"M3,0A3,3 0 1,1 0,-3A3,3 0 0,1 3,0Z\" style=\"opacity: 1; stroke-width: 0px; fill: rgb(11, 109, 162); fill-opacity: 1;\"/><path class=\"point\" transform=\"translate(382.59,376.25)\" d=\"M3,0A3,3 0 1,1 0,-3A3,3 0 0,1 3,0Z\" style=\"opacity: 1; stroke-width: 0px; fill: rgb(11, 109, 162); fill-opacity: 1;\"/><path class=\"point\" transform=\"translate(383.19,376.25)\" d=\"M3,0A3,3 0 1,1 0,-3A3,3 0 0,1 3,0Z\" style=\"opacity: 1; stroke-width: 0px; fill: rgb(11, 109, 162); fill-opacity: 1;\"/><path class=\"point\" transform=\"translate(383.78,376.25)\" d=\"M3,0A3,3 0 1,1 0,-3A3,3 0 0,1 3,0Z\" style=\"opacity: 1; stroke-width: 0px; fill: rgb(11, 109, 162); fill-opacity: 1;\"/><path class=\"point\" transform=\"translate(384.38,376.25)\" d=\"M3,0A3,3 0 1,1 0,-3A3,3 0 0,1 3,0Z\" style=\"opacity: 1; stroke-width: 0px; fill: rgb(11, 109, 162); fill-opacity: 1;\"/><path class=\"point\" transform=\"translate(384.98,376.25)\" d=\"M3,0A3,3 0 1,1 0,-3A3,3 0 0,1 3,0Z\" style=\"opacity: 1; stroke-width: 0px; fill: rgb(11, 109, 162); fill-opacity: 1;\"/><path class=\"point\" transform=\"translate(385.58,376.25)\" d=\"M3,0A3,3 0 1,1 0,-3A3,3 0 0,1 3,0Z\" style=\"opacity: 1; stroke-width: 0px; fill: rgb(11, 109, 162); fill-opacity: 1;\"/><path class=\"point\" transform=\"translate(386.18,376.25)\" d=\"M3,0A3,3 0 1,1 0,-3A3,3 0 0,1 3,0Z\" style=\"opacity: 1; stroke-width: 0px; fill: rgb(11, 109, 162); fill-opacity: 1;\"/><path class=\"point\" transform=\"translate(386.78,376.25)\" d=\"M3,0A3,3 0 1,1 0,-3A3,3 0 0,1 3,0Z\" style=\"opacity: 1; stroke-width: 0px; fill: rgb(11, 109, 162); fill-opacity: 1;\"/><path class=\"point\" transform=\"translate(387.38,376.25)\" d=\"M3,0A3,3 0 1,1 0,-3A3,3 0 0,1 3,0Z\" style=\"opacity: 1; stroke-width: 0px; fill: rgb(11, 109, 162); fill-opacity: 1;\"/><path class=\"point\" transform=\"translate(387.98,376.25)\" d=\"M3,0A3,3 0 1,1 0,-3A3,3 0 0,1 3,0Z\" style=\"opacity: 1; stroke-width: 0px; fill: rgb(11, 109, 162); fill-opacity: 1;\"/><path class=\"point\" transform=\"translate(388.57,376.25)\" d=\"M3,0A3,3 0 1,1 0,-3A3,3 0 0,1 3,0Z\" style=\"opacity: 1; stroke-width: 0px; fill: rgb(11, 109, 162); fill-opacity: 1;\"/><path class=\"point\" transform=\"translate(389.17,376.25)\" d=\"M3,0A3,3 0 1,1 0,-3A3,3 0 0,1 3,0Z\" style=\"opacity: 1; stroke-width: 0px; fill: rgb(11, 109, 162); fill-opacity: 1;\"/><path class=\"point\" transform=\"translate(389.77,376.25)\" d=\"M3,0A3,3 0 1,1 0,-3A3,3 0 0,1 3,0Z\" style=\"opacity: 1; stroke-width: 0px; fill: rgb(11, 109, 162); fill-opacity: 1;\"/><path class=\"point\" transform=\"translate(390.37,376.25)\" d=\"M3,0A3,3 0 1,1 0,-3A3,3 0 0,1 3,0Z\" style=\"opacity: 1; stroke-width: 0px; fill: rgb(11, 109, 162); fill-opacity: 1;\"/><path class=\"point\" transform=\"translate(390.97,376.25)\" d=\"M3,0A3,3 0 1,1 0,-3A3,3 0 0,1 3,0Z\" style=\"opacity: 1; stroke-width: 0px; fill: rgb(11, 109, 162); fill-opacity: 1;\"/><path class=\"point\" transform=\"translate(391.57,376.25)\" d=\"M3,0A3,3 0 1,1 0,-3A3,3 0 0,1 3,0Z\" style=\"opacity: 1; stroke-width: 0px; fill: rgb(11, 109, 162); fill-opacity: 1;\"/><path class=\"point\" transform=\"translate(392.17,376.25)\" d=\"M3,0A3,3 0 1,1 0,-3A3,3 0 0,1 3,0Z\" style=\"opacity: 1; stroke-width: 0px; fill: rgb(11, 109, 162); fill-opacity: 1;\"/><path class=\"point\" transform=\"translate(392.77,376.25)\" d=\"M3,0A3,3 0 1,1 0,-3A3,3 0 0,1 3,0Z\" style=\"opacity: 1; stroke-width: 0px; fill: rgb(11, 109, 162); fill-opacity: 1;\"/><path class=\"point\" transform=\"translate(393.36,376.25)\" d=\"M3,0A3,3 0 1,1 0,-3A3,3 0 0,1 3,0Z\" style=\"opacity: 1; stroke-width: 0px; fill: rgb(11, 109, 162); fill-opacity: 1;\"/><path class=\"point\" transform=\"translate(393.96,376.25)\" d=\"M3,0A3,3 0 1,1 0,-3A3,3 0 0,1 3,0Z\" style=\"opacity: 1; stroke-width: 0px; fill: rgb(11, 109, 162); fill-opacity: 1;\"/><path class=\"point\" transform=\"translate(394.56,376.25)\" d=\"M3,0A3,3 0 1,1 0,-3A3,3 0 0,1 3,0Z\" style=\"opacity: 1; stroke-width: 0px; fill: rgb(11, 109, 162); fill-opacity: 1;\"/><path class=\"point\" transform=\"translate(395.16,376.25)\" d=\"M3,0A3,3 0 1,1 0,-3A3,3 0 0,1 3,0Z\" style=\"opacity: 1; stroke-width: 0px; fill: rgb(11, 109, 162); fill-opacity: 1;\"/><path class=\"point\" transform=\"translate(395.76,376.25)\" d=\"M3,0A3,3 0 1,1 0,-3A3,3 0 0,1 3,0Z\" style=\"opacity: 1; stroke-width: 0px; fill: rgb(11, 109, 162); fill-opacity: 1;\"/><path class=\"point\" transform=\"translate(396.36,376.25)\" d=\"M3,0A3,3 0 1,1 0,-3A3,3 0 0,1 3,0Z\" style=\"opacity: 1; stroke-width: 0px; fill: rgb(11, 109, 162); fill-opacity: 1;\"/><path class=\"point\" transform=\"translate(396.96,376.25)\" d=\"M3,0A3,3 0 1,1 0,-3A3,3 0 0,1 3,0Z\" style=\"opacity: 1; stroke-width: 0px; fill: rgb(11, 109, 162); fill-opacity: 1;\"/><path class=\"point\" transform=\"translate(397.56,376.25)\" d=\"M3,0A3,3 0 1,1 0,-3A3,3 0 0,1 3,0Z\" style=\"opacity: 1; stroke-width: 0px; fill: rgb(11, 109, 162); fill-opacity: 1;\"/><path class=\"point\" transform=\"translate(398.15,376.25)\" d=\"M3,0A3,3 0 1,1 0,-3A3,3 0 0,1 3,0Z\" style=\"opacity: 1; stroke-width: 0px; fill: rgb(11, 109, 162); fill-opacity: 1;\"/><path class=\"point\" transform=\"translate(398.75,376.25)\" d=\"M3,0A3,3 0 1,1 0,-3A3,3 0 0,1 3,0Z\" style=\"opacity: 1; stroke-width: 0px; fill: rgb(11, 109, 162); fill-opacity: 1;\"/><path class=\"point\" transform=\"translate(399.35,376.25)\" d=\"M3,0A3,3 0 1,1 0,-3A3,3 0 0,1 3,0Z\" style=\"opacity: 1; stroke-width: 0px; fill: rgb(11, 109, 162); fill-opacity: 1;\"/><path class=\"point\" transform=\"translate(399.95,376.25)\" d=\"M3,0A3,3 0 1,1 0,-3A3,3 0 0,1 3,0Z\" style=\"opacity: 1; stroke-width: 0px; fill: rgb(11, 109, 162); fill-opacity: 1;\"/><path class=\"point\" transform=\"translate(400.55,376.25)\" d=\"M3,0A3,3 0 1,1 0,-3A3,3 0 0,1 3,0Z\" style=\"opacity: 1; stroke-width: 0px; fill: rgb(11, 109, 162); fill-opacity: 1;\"/><path class=\"point\" transform=\"translate(401.15,376.25)\" d=\"M3,0A3,3 0 1,1 0,-3A3,3 0 0,1 3,0Z\" style=\"opacity: 1; stroke-width: 0px; fill: rgb(11, 109, 162); fill-opacity: 1;\"/><path class=\"point\" transform=\"translate(401.75,376.25)\" d=\"M3,0A3,3 0 1,1 0,-3A3,3 0 0,1 3,0Z\" style=\"opacity: 1; stroke-width: 0px; fill: rgb(11, 109, 162); fill-opacity: 1;\"/><path class=\"point\" transform=\"translate(402.35,376.25)\" d=\"M3,0A3,3 0 1,1 0,-3A3,3 0 0,1 3,0Z\" style=\"opacity: 1; stroke-width: 0px; fill: rgb(11, 109, 162); fill-opacity: 1;\"/><path class=\"point\" transform=\"translate(402.94,376.25)\" d=\"M3,0A3,3 0 1,1 0,-3A3,3 0 0,1 3,0Z\" style=\"opacity: 1; stroke-width: 0px; fill: rgb(11, 109, 162); fill-opacity: 1;\"/><path class=\"point\" transform=\"translate(403.54,376.25)\" d=\"M3,0A3,3 0 1,1 0,-3A3,3 0 0,1 3,0Z\" style=\"opacity: 1; stroke-width: 0px; fill: rgb(11, 109, 162); fill-opacity: 1;\"/><path class=\"point\" transform=\"translate(404.14,376.25)\" d=\"M3,0A3,3 0 1,1 0,-3A3,3 0 0,1 3,0Z\" style=\"opacity: 1; stroke-width: 0px; fill: rgb(11, 109, 162); fill-opacity: 1;\"/><path class=\"point\" transform=\"translate(404.74,376.25)\" d=\"M3,0A3,3 0 1,1 0,-3A3,3 0 0,1 3,0Z\" style=\"opacity: 1; stroke-width: 0px; fill: rgb(11, 109, 162); fill-opacity: 1;\"/><path class=\"point\" transform=\"translate(405.34,376.25)\" d=\"M3,0A3,3 0 1,1 0,-3A3,3 0 0,1 3,0Z\" style=\"opacity: 1; stroke-width: 0px; fill: rgb(11, 109, 162); fill-opacity: 1;\"/><path class=\"point\" transform=\"translate(405.94,376.25)\" d=\"M3,0A3,3 0 1,1 0,-3A3,3 0 0,1 3,0Z\" style=\"opacity: 1; stroke-width: 0px; fill: rgb(11, 109, 162); fill-opacity: 1;\"/><path class=\"point\" transform=\"translate(406.54,376.25)\" d=\"M3,0A3,3 0 1,1 0,-3A3,3 0 0,1 3,0Z\" style=\"opacity: 1; stroke-width: 0px; fill: rgb(11, 109, 162); fill-opacity: 1;\"/><path class=\"point\" transform=\"translate(407.14,376.25)\" d=\"M3,0A3,3 0 1,1 0,-3A3,3 0 0,1 3,0Z\" style=\"opacity: 1; stroke-width: 0px; fill: rgb(11, 109, 162); fill-opacity: 1;\"/><path class=\"point\" transform=\"translate(407.73,376.25)\" d=\"M3,0A3,3 0 1,1 0,-3A3,3 0 0,1 3,0Z\" style=\"opacity: 1; stroke-width: 0px; fill: rgb(11, 109, 162); fill-opacity: 1;\"/><path class=\"point\" transform=\"translate(408.33,376.25)\" d=\"M3,0A3,3 0 1,1 0,-3A3,3 0 0,1 3,0Z\" style=\"opacity: 1; stroke-width: 0px; fill: rgb(11, 109, 162); fill-opacity: 1;\"/><path class=\"point\" transform=\"translate(408.93,376.25)\" d=\"M3,0A3,3 0 1,1 0,-3A3,3 0 0,1 3,0Z\" style=\"opacity: 1; stroke-width: 0px; fill: rgb(11, 109, 162); fill-opacity: 1;\"/><path class=\"point\" transform=\"translate(409.53,376.25)\" d=\"M3,0A3,3 0 1,1 0,-3A3,3 0 0,1 3,0Z\" style=\"opacity: 1; stroke-width: 0px; fill: rgb(11, 109, 162); fill-opacity: 1;\"/><path class=\"point\" transform=\"translate(410.13,200)\" d=\"M3,0A3,3 0 1,1 0,-3A3,3 0 0,1 3,0Z\" style=\"opacity: 1; stroke-width: 0px; fill: rgb(11, 109, 162); fill-opacity: 1;\"/><path class=\"point\" transform=\"translate(410.73,376.25)\" d=\"M3,0A3,3 0 1,1 0,-3A3,3 0 0,1 3,0Z\" style=\"opacity: 1; stroke-width: 0px; fill: rgb(11, 109, 162); fill-opacity: 1;\"/><path class=\"point\" transform=\"translate(411.33,376.25)\" d=\"M3,0A3,3 0 1,1 0,-3A3,3 0 0,1 3,0Z\" style=\"opacity: 1; stroke-width: 0px; fill: rgb(11, 109, 162); fill-opacity: 1;\"/><path class=\"point\" transform=\"translate(411.93,376.25)\" d=\"M3,0A3,3 0 1,1 0,-3A3,3 0 0,1 3,0Z\" style=\"opacity: 1; stroke-width: 0px; fill: rgb(11, 109, 162); fill-opacity: 1;\"/><path class=\"point\" transform=\"translate(412.52,200)\" d=\"M3,0A3,3 0 1,1 0,-3A3,3 0 0,1 3,0Z\" style=\"opacity: 1; stroke-width: 0px; fill: rgb(11, 109, 162); fill-opacity: 1;\"/><path class=\"point\" transform=\"translate(413.12,376.25)\" d=\"M3,0A3,3 0 1,1 0,-3A3,3 0 0,1 3,0Z\" style=\"opacity: 1; stroke-width: 0px; fill: rgb(11, 109, 162); fill-opacity: 1;\"/><path class=\"point\" transform=\"translate(413.72,376.25)\" d=\"M3,0A3,3 0 1,1 0,-3A3,3 0 0,1 3,0Z\" style=\"opacity: 1; stroke-width: 0px; fill: rgb(11, 109, 162); fill-opacity: 1;\"/><path class=\"point\" transform=\"translate(414.32,376.25)\" d=\"M3,0A3,3 0 1,1 0,-3A3,3 0 0,1 3,0Z\" style=\"opacity: 1; stroke-width: 0px; fill: rgb(11, 109, 162); fill-opacity: 1;\"/><path class=\"point\" transform=\"translate(414.92,23.75)\" d=\"M3,0A3,3 0 1,1 0,-3A3,3 0 0,1 3,0Z\" style=\"opacity: 1; stroke-width: 0px; fill: rgb(11, 109, 162); fill-opacity: 1;\"/><path class=\"point\" transform=\"translate(415.52,376.25)\" d=\"M3,0A3,3 0 1,1 0,-3A3,3 0 0,1 3,0Z\" style=\"opacity: 1; stroke-width: 0px; fill: rgb(11, 109, 162); fill-opacity: 1;\"/><path class=\"point\" transform=\"translate(416.12,200)\" d=\"M3,0A3,3 0 1,1 0,-3A3,3 0 0,1 3,0Z\" style=\"opacity: 1; stroke-width: 0px; fill: rgb(11, 109, 162); fill-opacity: 1;\"/><path class=\"point\" transform=\"translate(416.72,376.25)\" d=\"M3,0A3,3 0 1,1 0,-3A3,3 0 0,1 3,0Z\" style=\"opacity: 1; stroke-width: 0px; fill: rgb(11, 109, 162); fill-opacity: 1;\"/><path class=\"point\" transform=\"translate(417.31,376.25)\" d=\"M3,0A3,3 0 1,1 0,-3A3,3 0 0,1 3,0Z\" style=\"opacity: 1; stroke-width: 0px; fill: rgb(11, 109, 162); fill-opacity: 1;\"/><path class=\"point\" transform=\"translate(417.91,376.25)\" d=\"M3,0A3,3 0 1,1 0,-3A3,3 0 0,1 3,0Z\" style=\"opacity: 1; stroke-width: 0px; fill: rgb(11, 109, 162); fill-opacity: 1;\"/><path class=\"point\" transform=\"translate(418.51,376.25)\" d=\"M3,0A3,3 0 1,1 0,-3A3,3 0 0,1 3,0Z\" style=\"opacity: 1; stroke-width: 0px; fill: rgb(11, 109, 162); fill-opacity: 1;\"/><path class=\"point\" transform=\"translate(419.11,376.25)\" d=\"M3,0A3,3 0 1,1 0,-3A3,3 0 0,1 3,0Z\" style=\"opacity: 1; stroke-width: 0px; fill: rgb(11, 109, 162); fill-opacity: 1;\"/><path class=\"point\" transform=\"translate(419.71,376.25)\" d=\"M3,0A3,3 0 1,1 0,-3A3,3 0 0,1 3,0Z\" style=\"opacity: 1; stroke-width: 0px; fill: rgb(11, 109, 162); fill-opacity: 1;\"/><path class=\"point\" transform=\"translate(420.31,376.25)\" d=\"M3,0A3,3 0 1,1 0,-3A3,3 0 0,1 3,0Z\" style=\"opacity: 1; stroke-width: 0px; fill: rgb(11, 109, 162); fill-opacity: 1;\"/><path class=\"point\" transform=\"translate(420.91,376.25)\" d=\"M3,0A3,3 0 1,1 0,-3A3,3 0 0,1 3,0Z\" style=\"opacity: 1; stroke-width: 0px; fill: rgb(11, 109, 162); fill-opacity: 1;\"/><path class=\"point\" transform=\"translate(421.51,376.25)\" d=\"M3,0A3,3 0 1,1 0,-3A3,3 0 0,1 3,0Z\" style=\"opacity: 1; stroke-width: 0px; fill: rgb(11, 109, 162); fill-opacity: 1;\"/><path class=\"point\" transform=\"translate(422.1,376.25)\" d=\"M3,0A3,3 0 1,1 0,-3A3,3 0 0,1 3,0Z\" style=\"opacity: 1; stroke-width: 0px; fill: rgb(11, 109, 162); fill-opacity: 1;\"/><path class=\"point\" transform=\"translate(422.7,376.25)\" d=\"M3,0A3,3 0 1,1 0,-3A3,3 0 0,1 3,0Z\" style=\"opacity: 1; stroke-width: 0px; fill: rgb(11, 109, 162); fill-opacity: 1;\"/><path class=\"point\" transform=\"translate(423.3,376.25)\" d=\"M3,0A3,3 0 1,1 0,-3A3,3 0 0,1 3,0Z\" style=\"opacity: 1; stroke-width: 0px; fill: rgb(11, 109, 162); fill-opacity: 1;\"/><path class=\"point\" transform=\"translate(423.9,376.25)\" d=\"M3,0A3,3 0 1,1 0,-3A3,3 0 0,1 3,0Z\" style=\"opacity: 1; stroke-width: 0px; fill: rgb(11, 109, 162); fill-opacity: 1;\"/><path class=\"point\" transform=\"translate(424.5,376.25)\" d=\"M3,0A3,3 0 1,1 0,-3A3,3 0 0,1 3,0Z\" style=\"opacity: 1; stroke-width: 0px; fill: rgb(11, 109, 162); fill-opacity: 1;\"/><path class=\"point\" transform=\"translate(425.1,376.25)\" d=\"M3,0A3,3 0 1,1 0,-3A3,3 0 0,1 3,0Z\" style=\"opacity: 1; stroke-width: 0px; fill: rgb(11, 109, 162); fill-opacity: 1;\"/><path class=\"point\" transform=\"translate(425.7,376.25)\" d=\"M3,0A3,3 0 1,1 0,-3A3,3 0 0,1 3,0Z\" style=\"opacity: 1; stroke-width: 0px; fill: rgb(11, 109, 162); fill-opacity: 1;\"/><path class=\"point\" transform=\"translate(426.3,376.25)\" d=\"M3,0A3,3 0 1,1 0,-3A3,3 0 0,1 3,0Z\" style=\"opacity: 1; stroke-width: 0px; fill: rgb(11, 109, 162); fill-opacity: 1;\"/><path class=\"point\" transform=\"translate(426.9,376.25)\" d=\"M3,0A3,3 0 1,1 0,-3A3,3 0 0,1 3,0Z\" style=\"opacity: 1; stroke-width: 0px; fill: rgb(11, 109, 162); fill-opacity: 1;\"/><path class=\"point\" transform=\"translate(427.49,376.25)\" d=\"M3,0A3,3 0 1,1 0,-3A3,3 0 0,1 3,0Z\" style=\"opacity: 1; stroke-width: 0px; fill: rgb(11, 109, 162); fill-opacity: 1;\"/><path class=\"point\" transform=\"translate(428.09,376.25)\" d=\"M3,0A3,3 0 1,1 0,-3A3,3 0 0,1 3,0Z\" style=\"opacity: 1; stroke-width: 0px; fill: rgb(11, 109, 162); fill-opacity: 1;\"/><path class=\"point\" transform=\"translate(428.69,376.25)\" d=\"M3,0A3,3 0 1,1 0,-3A3,3 0 0,1 3,0Z\" style=\"opacity: 1; stroke-width: 0px; fill: rgb(11, 109, 162); fill-opacity: 1;\"/><path class=\"point\" transform=\"translate(429.29,376.25)\" d=\"M3,0A3,3 0 1,1 0,-3A3,3 0 0,1 3,0Z\" style=\"opacity: 1; stroke-width: 0px; fill: rgb(11, 109, 162); fill-opacity: 1;\"/><path class=\"point\" transform=\"translate(429.89,376.25)\" d=\"M3,0A3,3 0 1,1 0,-3A3,3 0 0,1 3,0Z\" style=\"opacity: 1; stroke-width: 0px; fill: rgb(11, 109, 162); fill-opacity: 1;\"/><path class=\"point\" transform=\"translate(430.49,376.25)\" d=\"M3,0A3,3 0 1,1 0,-3A3,3 0 0,1 3,0Z\" style=\"opacity: 1; stroke-width: 0px; fill: rgb(11, 109, 162); fill-opacity: 1;\"/><path class=\"point\" transform=\"translate(431.09,376.25)\" d=\"M3,0A3,3 0 1,1 0,-3A3,3 0 0,1 3,0Z\" style=\"opacity: 1; stroke-width: 0px; fill: rgb(11, 109, 162); fill-opacity: 1;\"/><path class=\"point\" transform=\"translate(431.69,376.25)\" d=\"M3,0A3,3 0 1,1 0,-3A3,3 0 0,1 3,0Z\" style=\"opacity: 1; stroke-width: 0px; fill: rgb(11, 109, 162); fill-opacity: 1;\"/><path class=\"point\" transform=\"translate(432.28,376.25)\" d=\"M3,0A3,3 0 1,1 0,-3A3,3 0 0,1 3,0Z\" style=\"opacity: 1; stroke-width: 0px; fill: rgb(11, 109, 162); fill-opacity: 1;\"/><path class=\"point\" transform=\"translate(432.88,376.25)\" d=\"M3,0A3,3 0 1,1 0,-3A3,3 0 0,1 3,0Z\" style=\"opacity: 1; stroke-width: 0px; fill: rgb(11, 109, 162); fill-opacity: 1;\"/><path class=\"point\" transform=\"translate(433.48,376.25)\" d=\"M3,0A3,3 0 1,1 0,-3A3,3 0 0,1 3,0Z\" style=\"opacity: 1; stroke-width: 0px; fill: rgb(11, 109, 162); fill-opacity: 1;\"/><path class=\"point\" transform=\"translate(434.08,200)\" d=\"M3,0A3,3 0 1,1 0,-3A3,3 0 0,1 3,0Z\" style=\"opacity: 1; stroke-width: 0px; fill: rgb(11, 109, 162); fill-opacity: 1;\"/><path class=\"point\" transform=\"translate(434.68,376.25)\" d=\"M3,0A3,3 0 1,1 0,-3A3,3 0 0,1 3,0Z\" style=\"opacity: 1; stroke-width: 0px; fill: rgb(11, 109, 162); fill-opacity: 1;\"/><path class=\"point\" transform=\"translate(435.28,376.25)\" d=\"M3,0A3,3 0 1,1 0,-3A3,3 0 0,1 3,0Z\" style=\"opacity: 1; stroke-width: 0px; fill: rgb(11, 109, 162); fill-opacity: 1;\"/><path class=\"point\" transform=\"translate(435.88,376.25)\" d=\"M3,0A3,3 0 1,1 0,-3A3,3 0 0,1 3,0Z\" style=\"opacity: 1; stroke-width: 0px; fill: rgb(11, 109, 162); fill-opacity: 1;\"/><path class=\"point\" transform=\"translate(436.48,376.25)\" d=\"M3,0A3,3 0 1,1 0,-3A3,3 0 0,1 3,0Z\" style=\"opacity: 1; stroke-width: 0px; fill: rgb(11, 109, 162); fill-opacity: 1;\"/><path class=\"point\" transform=\"translate(437.07,376.25)\" d=\"M3,0A3,3 0 1,1 0,-3A3,3 0 0,1 3,0Z\" style=\"opacity: 1; stroke-width: 0px; fill: rgb(11, 109, 162); fill-opacity: 1;\"/><path class=\"point\" transform=\"translate(437.67,376.25)\" d=\"M3,0A3,3 0 1,1 0,-3A3,3 0 0,1 3,0Z\" style=\"opacity: 1; stroke-width: 0px; fill: rgb(11, 109, 162); fill-opacity: 1;\"/><path class=\"point\" transform=\"translate(438.27,376.25)\" d=\"M3,0A3,3 0 1,1 0,-3A3,3 0 0,1 3,0Z\" style=\"opacity: 1; stroke-width: 0px; fill: rgb(11, 109, 162); fill-opacity: 1;\"/><path class=\"point\" transform=\"translate(438.87,376.25)\" d=\"M3,0A3,3 0 1,1 0,-3A3,3 0 0,1 3,0Z\" style=\"opacity: 1; stroke-width: 0px; fill: rgb(11, 109, 162); fill-opacity: 1;\"/><path class=\"point\" transform=\"translate(439.47,376.25)\" d=\"M3,0A3,3 0 1,1 0,-3A3,3 0 0,1 3,0Z\" style=\"opacity: 1; stroke-width: 0px; fill: rgb(11, 109, 162); fill-opacity: 1;\"/><path class=\"point\" transform=\"translate(440.07,376.25)\" d=\"M3,0A3,3 0 1,1 0,-3A3,3 0 0,1 3,0Z\" style=\"opacity: 1; stroke-width: 0px; fill: rgb(11, 109, 162); fill-opacity: 1;\"/><path class=\"point\" transform=\"translate(440.67,376.25)\" d=\"M3,0A3,3 0 1,1 0,-3A3,3 0 0,1 3,0Z\" style=\"opacity: 1; stroke-width: 0px; fill: rgb(11, 109, 162); fill-opacity: 1;\"/><path class=\"point\" transform=\"translate(441.27,376.25)\" d=\"M3,0A3,3 0 1,1 0,-3A3,3 0 0,1 3,0Z\" style=\"opacity: 1; stroke-width: 0px; fill: rgb(11, 109, 162); fill-opacity: 1;\"/><path class=\"point\" transform=\"translate(441.86,376.25)\" d=\"M3,0A3,3 0 1,1 0,-3A3,3 0 0,1 3,0Z\" style=\"opacity: 1; stroke-width: 0px; fill: rgb(11, 109, 162); fill-opacity: 1;\"/><path class=\"point\" transform=\"translate(442.46,376.25)\" d=\"M3,0A3,3 0 1,1 0,-3A3,3 0 0,1 3,0Z\" style=\"opacity: 1; stroke-width: 0px; fill: rgb(11, 109, 162); fill-opacity: 1;\"/><path class=\"point\" transform=\"translate(443.06,376.25)\" d=\"M3,0A3,3 0 1,1 0,-3A3,3 0 0,1 3,0Z\" style=\"opacity: 1; stroke-width: 0px; fill: rgb(11, 109, 162); fill-opacity: 1;\"/><path class=\"point\" transform=\"translate(443.66,376.25)\" d=\"M3,0A3,3 0 1,1 0,-3A3,3 0 0,1 3,0Z\" style=\"opacity: 1; stroke-width: 0px; fill: rgb(11, 109, 162); fill-opacity: 1;\"/><path class=\"point\" transform=\"translate(444.26,376.25)\" d=\"M3,0A3,3 0 1,1 0,-3A3,3 0 0,1 3,0Z\" style=\"opacity: 1; stroke-width: 0px; fill: rgb(11, 109, 162); fill-opacity: 1;\"/><path class=\"point\" transform=\"translate(444.86,376.25)\" d=\"M3,0A3,3 0 1,1 0,-3A3,3 0 0,1 3,0Z\" style=\"opacity: 1; stroke-width: 0px; fill: rgb(11, 109, 162); fill-opacity: 1;\"/><path class=\"point\" transform=\"translate(445.46,376.25)\" d=\"M3,0A3,3 0 1,1 0,-3A3,3 0 0,1 3,0Z\" style=\"opacity: 1; stroke-width: 0px; fill: rgb(11, 109, 162); fill-opacity: 1;\"/><path class=\"point\" transform=\"translate(446.06,376.25)\" d=\"M3,0A3,3 0 1,1 0,-3A3,3 0 0,1 3,0Z\" style=\"opacity: 1; stroke-width: 0px; fill: rgb(11, 109, 162); fill-opacity: 1;\"/><path class=\"point\" transform=\"translate(446.65,376.25)\" d=\"M3,0A3,3 0 1,1 0,-3A3,3 0 0,1 3,0Z\" style=\"opacity: 1; stroke-width: 0px; fill: rgb(11, 109, 162); fill-opacity: 1;\"/><path class=\"point\" transform=\"translate(447.25,376.25)\" d=\"M3,0A3,3 0 1,1 0,-3A3,3 0 0,1 3,0Z\" style=\"opacity: 1; stroke-width: 0px; fill: rgb(11, 109, 162); fill-opacity: 1;\"/><path class=\"point\" transform=\"translate(447.85,23.75)\" d=\"M3,0A3,3 0 1,1 0,-3A3,3 0 0,1 3,0Z\" style=\"opacity: 1; stroke-width: 0px; fill: rgb(11, 109, 162); fill-opacity: 1;\"/><path class=\"point\" transform=\"translate(448.45,376.25)\" d=\"M3,0A3,3 0 1,1 0,-3A3,3 0 0,1 3,0Z\" style=\"opacity: 1; stroke-width: 0px; fill: rgb(11, 109, 162); fill-opacity: 1;\"/><path class=\"point\" transform=\"translate(449.05,376.25)\" d=\"M3,0A3,3 0 1,1 0,-3A3,3 0 0,1 3,0Z\" style=\"opacity: 1; stroke-width: 0px; fill: rgb(11, 109, 162); fill-opacity: 1;\"/><path class=\"point\" transform=\"translate(449.65,376.25)\" d=\"M3,0A3,3 0 1,1 0,-3A3,3 0 0,1 3,0Z\" style=\"opacity: 1; stroke-width: 0px; fill: rgb(11, 109, 162); fill-opacity: 1;\"/><path class=\"point\" transform=\"translate(450.25,376.25)\" d=\"M3,0A3,3 0 1,1 0,-3A3,3 0 0,1 3,0Z\" style=\"opacity: 1; stroke-width: 0px; fill: rgb(11, 109, 162); fill-opacity: 1;\"/><path class=\"point\" transform=\"translate(450.85,376.25)\" d=\"M3,0A3,3 0 1,1 0,-3A3,3 0 0,1 3,0Z\" style=\"opacity: 1; stroke-width: 0px; fill: rgb(11, 109, 162); fill-opacity: 1;\"/><path class=\"point\" transform=\"translate(451.44,376.25)\" d=\"M3,0A3,3 0 1,1 0,-3A3,3 0 0,1 3,0Z\" style=\"opacity: 1; stroke-width: 0px; fill: rgb(11, 109, 162); fill-opacity: 1;\"/><path class=\"point\" transform=\"translate(452.04,376.25)\" d=\"M3,0A3,3 0 1,1 0,-3A3,3 0 0,1 3,0Z\" style=\"opacity: 1; stroke-width: 0px; fill: rgb(11, 109, 162); fill-opacity: 1;\"/><path class=\"point\" transform=\"translate(452.64,376.25)\" d=\"M3,0A3,3 0 1,1 0,-3A3,3 0 0,1 3,0Z\" style=\"opacity: 1; stroke-width: 0px; fill: rgb(11, 109, 162); fill-opacity: 1;\"/><path class=\"point\" transform=\"translate(453.24,376.25)\" d=\"M3,0A3,3 0 1,1 0,-3A3,3 0 0,1 3,0Z\" style=\"opacity: 1; stroke-width: 0px; fill: rgb(11, 109, 162); fill-opacity: 1;\"/><path class=\"point\" transform=\"translate(453.84,376.25)\" d=\"M3,0A3,3 0 1,1 0,-3A3,3 0 0,1 3,0Z\" style=\"opacity: 1; stroke-width: 0px; fill: rgb(11, 109, 162); fill-opacity: 1;\"/><path class=\"point\" transform=\"translate(454.44,376.25)\" d=\"M3,0A3,3 0 1,1 0,-3A3,3 0 0,1 3,0Z\" style=\"opacity: 1; stroke-width: 0px; fill: rgb(11, 109, 162); fill-opacity: 1;\"/><path class=\"point\" transform=\"translate(455.04,376.25)\" d=\"M3,0A3,3 0 1,1 0,-3A3,3 0 0,1 3,0Z\" style=\"opacity: 1; stroke-width: 0px; fill: rgb(11, 109, 162); fill-opacity: 1;\"/><path class=\"point\" transform=\"translate(455.64,376.25)\" d=\"M3,0A3,3 0 1,1 0,-3A3,3 0 0,1 3,0Z\" style=\"opacity: 1; stroke-width: 0px; fill: rgb(11, 109, 162); fill-opacity: 1;\"/><path class=\"point\" transform=\"translate(456.23,376.25)\" d=\"M3,0A3,3 0 1,1 0,-3A3,3 0 0,1 3,0Z\" style=\"opacity: 1; stroke-width: 0px; fill: rgb(11, 109, 162); fill-opacity: 1;\"/><path class=\"point\" transform=\"translate(456.83,376.25)\" d=\"M3,0A3,3 0 1,1 0,-3A3,3 0 0,1 3,0Z\" style=\"opacity: 1; stroke-width: 0px; fill: rgb(11, 109, 162); fill-opacity: 1;\"/><path class=\"point\" transform=\"translate(457.43,376.25)\" d=\"M3,0A3,3 0 1,1 0,-3A3,3 0 0,1 3,0Z\" style=\"opacity: 1; stroke-width: 0px; fill: rgb(11, 109, 162); fill-opacity: 1;\"/><path class=\"point\" transform=\"translate(458.03,376.25)\" d=\"M3,0A3,3 0 1,1 0,-3A3,3 0 0,1 3,0Z\" style=\"opacity: 1; stroke-width: 0px; fill: rgb(11, 109, 162); fill-opacity: 1;\"/><path class=\"point\" transform=\"translate(458.63,376.25)\" d=\"M3,0A3,3 0 1,1 0,-3A3,3 0 0,1 3,0Z\" style=\"opacity: 1; stroke-width: 0px; fill: rgb(11, 109, 162); fill-opacity: 1;\"/><path class=\"point\" transform=\"translate(459.23,376.25)\" d=\"M3,0A3,3 0 1,1 0,-3A3,3 0 0,1 3,0Z\" style=\"opacity: 1; stroke-width: 0px; fill: rgb(11, 109, 162); fill-opacity: 1;\"/><path class=\"point\" transform=\"translate(459.83,376.25)\" d=\"M3,0A3,3 0 1,1 0,-3A3,3 0 0,1 3,0Z\" style=\"opacity: 1; stroke-width: 0px; fill: rgb(11, 109, 162); fill-opacity: 1;\"/><path class=\"point\" transform=\"translate(460.43,376.25)\" d=\"M3,0A3,3 0 1,1 0,-3A3,3 0 0,1 3,0Z\" style=\"opacity: 1; stroke-width: 0px; fill: rgb(11, 109, 162); fill-opacity: 1;\"/><path class=\"point\" transform=\"translate(461.02,200)\" d=\"M3,0A3,3 0 1,1 0,-3A3,3 0 0,1 3,0Z\" style=\"opacity: 1; stroke-width: 0px; fill: rgb(11, 109, 162); fill-opacity: 1;\"/><path class=\"point\" transform=\"translate(461.62,376.25)\" d=\"M3,0A3,3 0 1,1 0,-3A3,3 0 0,1 3,0Z\" style=\"opacity: 1; stroke-width: 0px; fill: rgb(11, 109, 162); fill-opacity: 1;\"/><path class=\"point\" transform=\"translate(462.22,376.25)\" d=\"M3,0A3,3 0 1,1 0,-3A3,3 0 0,1 3,0Z\" style=\"opacity: 1; stroke-width: 0px; fill: rgb(11, 109, 162); fill-opacity: 1;\"/><path class=\"point\" transform=\"translate(462.82,376.25)\" d=\"M3,0A3,3 0 1,1 0,-3A3,3 0 0,1 3,0Z\" style=\"opacity: 1; stroke-width: 0px; fill: rgb(11, 109, 162); fill-opacity: 1;\"/><path class=\"point\" transform=\"translate(463.42,376.25)\" d=\"M3,0A3,3 0 1,1 0,-3A3,3 0 0,1 3,0Z\" style=\"opacity: 1; stroke-width: 0px; fill: rgb(11, 109, 162); fill-opacity: 1;\"/><path class=\"point\" transform=\"translate(464.02,376.25)\" d=\"M3,0A3,3 0 1,1 0,-3A3,3 0 0,1 3,0Z\" style=\"opacity: 1; stroke-width: 0px; fill: rgb(11, 109, 162); fill-opacity: 1;\"/><path class=\"point\" transform=\"translate(464.62,376.25)\" d=\"M3,0A3,3 0 1,1 0,-3A3,3 0 0,1 3,0Z\" style=\"opacity: 1; stroke-width: 0px; fill: rgb(11, 109, 162); fill-opacity: 1;\"/><path class=\"point\" transform=\"translate(465.22,376.25)\" d=\"M3,0A3,3 0 1,1 0,-3A3,3 0 0,1 3,0Z\" style=\"opacity: 1; stroke-width: 0px; fill: rgb(11, 109, 162); fill-opacity: 1;\"/><path class=\"point\" transform=\"translate(465.81,376.25)\" d=\"M3,0A3,3 0 1,1 0,-3A3,3 0 0,1 3,0Z\" style=\"opacity: 1; stroke-width: 0px; fill: rgb(11, 109, 162); fill-opacity: 1;\"/><path class=\"point\" transform=\"translate(466.41,376.25)\" d=\"M3,0A3,3 0 1,1 0,-3A3,3 0 0,1 3,0Z\" style=\"opacity: 1; stroke-width: 0px; fill: rgb(11, 109, 162); fill-opacity: 1;\"/><path class=\"point\" transform=\"translate(467.01,376.25)\" d=\"M3,0A3,3 0 1,1 0,-3A3,3 0 0,1 3,0Z\" style=\"opacity: 1; stroke-width: 0px; fill: rgb(11, 109, 162); fill-opacity: 1;\"/><path class=\"point\" transform=\"translate(467.61,376.25)\" d=\"M3,0A3,3 0 1,1 0,-3A3,3 0 0,1 3,0Z\" style=\"opacity: 1; stroke-width: 0px; fill: rgb(11, 109, 162); fill-opacity: 1;\"/><path class=\"point\" transform=\"translate(468.21,376.25)\" d=\"M3,0A3,3 0 1,1 0,-3A3,3 0 0,1 3,0Z\" style=\"opacity: 1; stroke-width: 0px; fill: rgb(11, 109, 162); fill-opacity: 1;\"/><path class=\"point\" transform=\"translate(468.81,376.25)\" d=\"M3,0A3,3 0 1,1 0,-3A3,3 0 0,1 3,0Z\" style=\"opacity: 1; stroke-width: 0px; fill: rgb(11, 109, 162); fill-opacity: 1;\"/><path class=\"point\" transform=\"translate(469.41,376.25)\" d=\"M3,0A3,3 0 1,1 0,-3A3,3 0 0,1 3,0Z\" style=\"opacity: 1; stroke-width: 0px; fill: rgb(11, 109, 162); fill-opacity: 1;\"/><path class=\"point\" transform=\"translate(470.01,376.25)\" d=\"M3,0A3,3 0 1,1 0,-3A3,3 0 0,1 3,0Z\" style=\"opacity: 1; stroke-width: 0px; fill: rgb(11, 109, 162); fill-opacity: 1;\"/><path class=\"point\" transform=\"translate(470.6,376.25)\" d=\"M3,0A3,3 0 1,1 0,-3A3,3 0 0,1 3,0Z\" style=\"opacity: 1; stroke-width: 0px; fill: rgb(11, 109, 162); fill-opacity: 1;\"/><path class=\"point\" transform=\"translate(471.2,376.25)\" d=\"M3,0A3,3 0 1,1 0,-3A3,3 0 0,1 3,0Z\" style=\"opacity: 1; stroke-width: 0px; fill: rgb(11, 109, 162); fill-opacity: 1;\"/><path class=\"point\" transform=\"translate(471.8,376.25)\" d=\"M3,0A3,3 0 1,1 0,-3A3,3 0 0,1 3,0Z\" style=\"opacity: 1; stroke-width: 0px; fill: rgb(11, 109, 162); fill-opacity: 1;\"/><path class=\"point\" transform=\"translate(472.4,376.25)\" d=\"M3,0A3,3 0 1,1 0,-3A3,3 0 0,1 3,0Z\" style=\"opacity: 1; stroke-width: 0px; fill: rgb(11, 109, 162); fill-opacity: 1;\"/><path class=\"point\" transform=\"translate(473,376.25)\" d=\"M3,0A3,3 0 1,1 0,-3A3,3 0 0,1 3,0Z\" style=\"opacity: 1; stroke-width: 0px; fill: rgb(11, 109, 162); fill-opacity: 1;\"/><path class=\"point\" transform=\"translate(473.6,376.25)\" d=\"M3,0A3,3 0 1,1 0,-3A3,3 0 0,1 3,0Z\" style=\"opacity: 1; stroke-width: 0px; fill: rgb(11, 109, 162); fill-opacity: 1;\"/><path class=\"point\" transform=\"translate(474.2,376.25)\" d=\"M3,0A3,3 0 1,1 0,-3A3,3 0 0,1 3,0Z\" style=\"opacity: 1; stroke-width: 0px; fill: rgb(11, 109, 162); fill-opacity: 1;\"/><path class=\"point\" transform=\"translate(474.8,376.25)\" d=\"M3,0A3,3 0 1,1 0,-3A3,3 0 0,1 3,0Z\" style=\"opacity: 1; stroke-width: 0px; fill: rgb(11, 109, 162); fill-opacity: 1;\"/><path class=\"point\" transform=\"translate(475.4,376.25)\" d=\"M3,0A3,3 0 1,1 0,-3A3,3 0 0,1 3,0Z\" style=\"opacity: 1; stroke-width: 0px; fill: rgb(11, 109, 162); fill-opacity: 1;\"/><path class=\"point\" transform=\"translate(475.99,376.25)\" d=\"M3,0A3,3 0 1,1 0,-3A3,3 0 0,1 3,0Z\" style=\"opacity: 1; stroke-width: 0px; fill: rgb(11, 109, 162); fill-opacity: 1;\"/><path class=\"point\" transform=\"translate(476.59,376.25)\" d=\"M3,0A3,3 0 1,1 0,-3A3,3 0 0,1 3,0Z\" style=\"opacity: 1; stroke-width: 0px; fill: rgb(11, 109, 162); fill-opacity: 1;\"/><path class=\"point\" transform=\"translate(477.19,376.25)\" d=\"M3,0A3,3 0 1,1 0,-3A3,3 0 0,1 3,0Z\" style=\"opacity: 1; stroke-width: 0px; fill: rgb(11, 109, 162); fill-opacity: 1;\"/><path class=\"point\" transform=\"translate(477.79,376.25)\" d=\"M3,0A3,3 0 1,1 0,-3A3,3 0 0,1 3,0Z\" style=\"opacity: 1; stroke-width: 0px; fill: rgb(11, 109, 162); fill-opacity: 1;\"/><path class=\"point\" transform=\"translate(478.39,376.25)\" d=\"M3,0A3,3 0 1,1 0,-3A3,3 0 0,1 3,0Z\" style=\"opacity: 1; stroke-width: 0px; fill: rgb(11, 109, 162); fill-opacity: 1;\"/><path class=\"point\" transform=\"translate(478.99,376.25)\" d=\"M3,0A3,3 0 1,1 0,-3A3,3 0 0,1 3,0Z\" style=\"opacity: 1; stroke-width: 0px; fill: rgb(11, 109, 162); fill-opacity: 1;\"/><path class=\"point\" transform=\"translate(479.59,376.25)\" d=\"M3,0A3,3 0 1,1 0,-3A3,3 0 0,1 3,0Z\" style=\"opacity: 1; stroke-width: 0px; fill: rgb(11, 109, 162); fill-opacity: 1;\"/><path class=\"point\" transform=\"translate(480.19,376.25)\" d=\"M3,0A3,3 0 1,1 0,-3A3,3 0 0,1 3,0Z\" style=\"opacity: 1; stroke-width: 0px; fill: rgb(11, 109, 162); fill-opacity: 1;\"/><path class=\"point\" transform=\"translate(480.78,376.25)\" d=\"M3,0A3,3 0 1,1 0,-3A3,3 0 0,1 3,0Z\" style=\"opacity: 1; stroke-width: 0px; fill: rgb(11, 109, 162); fill-opacity: 1;\"/><path class=\"point\" transform=\"translate(481.38,376.25)\" d=\"M3,0A3,3 0 1,1 0,-3A3,3 0 0,1 3,0Z\" style=\"opacity: 1; stroke-width: 0px; fill: rgb(11, 109, 162); fill-opacity: 1;\"/><path class=\"point\" transform=\"translate(481.98,376.25)\" d=\"M3,0A3,3 0 1,1 0,-3A3,3 0 0,1 3,0Z\" style=\"opacity: 1; stroke-width: 0px; fill: rgb(11, 109, 162); fill-opacity: 1;\"/><path class=\"point\" transform=\"translate(482.58,376.25)\" d=\"M3,0A3,3 0 1,1 0,-3A3,3 0 0,1 3,0Z\" style=\"opacity: 1; stroke-width: 0px; fill: rgb(11, 109, 162); fill-opacity: 1;\"/><path class=\"point\" transform=\"translate(483.18,376.25)\" d=\"M3,0A3,3 0 1,1 0,-3A3,3 0 0,1 3,0Z\" style=\"opacity: 1; stroke-width: 0px; fill: rgb(11, 109, 162); fill-opacity: 1;\"/><path class=\"point\" transform=\"translate(483.78,376.25)\" d=\"M3,0A3,3 0 1,1 0,-3A3,3 0 0,1 3,0Z\" style=\"opacity: 1; stroke-width: 0px; fill: rgb(11, 109, 162); fill-opacity: 1;\"/><path class=\"point\" transform=\"translate(484.38,376.25)\" d=\"M3,0A3,3 0 1,1 0,-3A3,3 0 0,1 3,0Z\" style=\"opacity: 1; stroke-width: 0px; fill: rgb(11, 109, 162); fill-opacity: 1;\"/><path class=\"point\" transform=\"translate(484.98,376.25)\" d=\"M3,0A3,3 0 1,1 0,-3A3,3 0 0,1 3,0Z\" style=\"opacity: 1; stroke-width: 0px; fill: rgb(11, 109, 162); fill-opacity: 1;\"/><path class=\"point\" transform=\"translate(485.57,376.25)\" d=\"M3,0A3,3 0 1,1 0,-3A3,3 0 0,1 3,0Z\" style=\"opacity: 1; stroke-width: 0px; fill: rgb(11, 109, 162); fill-opacity: 1;\"/><path class=\"point\" transform=\"translate(486.17,376.25)\" d=\"M3,0A3,3 0 1,1 0,-3A3,3 0 0,1 3,0Z\" style=\"opacity: 1; stroke-width: 0px; fill: rgb(11, 109, 162); fill-opacity: 1;\"/><path class=\"point\" transform=\"translate(486.77,376.25)\" d=\"M3,0A3,3 0 1,1 0,-3A3,3 0 0,1 3,0Z\" style=\"opacity: 1; stroke-width: 0px; fill: rgb(11, 109, 162); fill-opacity: 1;\"/><path class=\"point\" transform=\"translate(487.37,376.25)\" d=\"M3,0A3,3 0 1,1 0,-3A3,3 0 0,1 3,0Z\" style=\"opacity: 1; stroke-width: 0px; fill: rgb(11, 109, 162); fill-opacity: 1;\"/><path class=\"point\" transform=\"translate(487.97,376.25)\" d=\"M3,0A3,3 0 1,1 0,-3A3,3 0 0,1 3,0Z\" style=\"opacity: 1; stroke-width: 0px; fill: rgb(11, 109, 162); fill-opacity: 1;\"/><path class=\"point\" transform=\"translate(488.57,376.25)\" d=\"M3,0A3,3 0 1,1 0,-3A3,3 0 0,1 3,0Z\" style=\"opacity: 1; stroke-width: 0px; fill: rgb(11, 109, 162); fill-opacity: 1;\"/><path class=\"point\" transform=\"translate(489.17,376.25)\" d=\"M3,0A3,3 0 1,1 0,-3A3,3 0 0,1 3,0Z\" style=\"opacity: 1; stroke-width: 0px; fill: rgb(11, 109, 162); fill-opacity: 1;\"/><path class=\"point\" transform=\"translate(489.77,376.25)\" d=\"M3,0A3,3 0 1,1 0,-3A3,3 0 0,1 3,0Z\" style=\"opacity: 1; stroke-width: 0px; fill: rgb(11, 109, 162); fill-opacity: 1;\"/><path class=\"point\" transform=\"translate(490.36,376.25)\" d=\"M3,0A3,3 0 1,1 0,-3A3,3 0 0,1 3,0Z\" style=\"opacity: 1; stroke-width: 0px; fill: rgb(11, 109, 162); fill-opacity: 1;\"/><path class=\"point\" transform=\"translate(490.96,376.25)\" d=\"M3,0A3,3 0 1,1 0,-3A3,3 0 0,1 3,0Z\" style=\"opacity: 1; stroke-width: 0px; fill: rgb(11, 109, 162); fill-opacity: 1;\"/><path class=\"point\" transform=\"translate(491.56,376.25)\" d=\"M3,0A3,3 0 1,1 0,-3A3,3 0 0,1 3,0Z\" style=\"opacity: 1; stroke-width: 0px; fill: rgb(11, 109, 162); fill-opacity: 1;\"/><path class=\"point\" transform=\"translate(492.16,376.25)\" d=\"M3,0A3,3 0 1,1 0,-3A3,3 0 0,1 3,0Z\" style=\"opacity: 1; stroke-width: 0px; fill: rgb(11, 109, 162); fill-opacity: 1;\"/><path class=\"point\" transform=\"translate(492.76,376.25)\" d=\"M3,0A3,3 0 1,1 0,-3A3,3 0 0,1 3,0Z\" style=\"opacity: 1; stroke-width: 0px; fill: rgb(11, 109, 162); fill-opacity: 1;\"/><path class=\"point\" transform=\"translate(493.36,376.25)\" d=\"M3,0A3,3 0 1,1 0,-3A3,3 0 0,1 3,0Z\" style=\"opacity: 1; stroke-width: 0px; fill: rgb(11, 109, 162); fill-opacity: 1;\"/><path class=\"point\" transform=\"translate(493.96,376.25)\" d=\"M3,0A3,3 0 1,1 0,-3A3,3 0 0,1 3,0Z\" style=\"opacity: 1; stroke-width: 0px; fill: rgb(11, 109, 162); fill-opacity: 1;\"/><path class=\"point\" transform=\"translate(494.56,376.25)\" d=\"M3,0A3,3 0 1,1 0,-3A3,3 0 0,1 3,0Z\" style=\"opacity: 1; stroke-width: 0px; fill: rgb(11, 109, 162); fill-opacity: 1;\"/><path class=\"point\" transform=\"translate(495.15,376.25)\" d=\"M3,0A3,3 0 1,1 0,-3A3,3 0 0,1 3,0Z\" style=\"opacity: 1; stroke-width: 0px; fill: rgb(11, 109, 162); fill-opacity: 1;\"/><path class=\"point\" transform=\"translate(495.75,376.25)\" d=\"M3,0A3,3 0 1,1 0,-3A3,3 0 0,1 3,0Z\" style=\"opacity: 1; stroke-width: 0px; fill: rgb(11, 109, 162); fill-opacity: 1;\"/><path class=\"point\" transform=\"translate(496.35,376.25)\" d=\"M3,0A3,3 0 1,1 0,-3A3,3 0 0,1 3,0Z\" style=\"opacity: 1; stroke-width: 0px; fill: rgb(11, 109, 162); fill-opacity: 1;\"/><path class=\"point\" transform=\"translate(496.95,376.25)\" d=\"M3,0A3,3 0 1,1 0,-3A3,3 0 0,1 3,0Z\" style=\"opacity: 1; stroke-width: 0px; fill: rgb(11, 109, 162); fill-opacity: 1;\"/><path class=\"point\" transform=\"translate(497.55,376.25)\" d=\"M3,0A3,3 0 1,1 0,-3A3,3 0 0,1 3,0Z\" style=\"opacity: 1; stroke-width: 0px; fill: rgb(11, 109, 162); fill-opacity: 1;\"/><path class=\"point\" transform=\"translate(498.15,376.25)\" d=\"M3,0A3,3 0 1,1 0,-3A3,3 0 0,1 3,0Z\" style=\"opacity: 1; stroke-width: 0px; fill: rgb(11, 109, 162); fill-opacity: 1;\"/><path class=\"point\" transform=\"translate(498.75,376.25)\" d=\"M3,0A3,3 0 1,1 0,-3A3,3 0 0,1 3,0Z\" style=\"opacity: 1; stroke-width: 0px; fill: rgb(11, 109, 162); fill-opacity: 1;\"/><path class=\"point\" transform=\"translate(499.35,376.25)\" d=\"M3,0A3,3 0 1,1 0,-3A3,3 0 0,1 3,0Z\" style=\"opacity: 1; stroke-width: 0px; fill: rgb(11, 109, 162); fill-opacity: 1;\"/><path class=\"point\" transform=\"translate(499.94,376.25)\" d=\"M3,0A3,3 0 1,1 0,-3A3,3 0 0,1 3,0Z\" style=\"opacity: 1; stroke-width: 0px; fill: rgb(11, 109, 162); fill-opacity: 1;\"/><path class=\"point\" transform=\"translate(500.54,376.25)\" d=\"M3,0A3,3 0 1,1 0,-3A3,3 0 0,1 3,0Z\" style=\"opacity: 1; stroke-width: 0px; fill: rgb(11, 109, 162); fill-opacity: 1;\"/><path class=\"point\" transform=\"translate(501.14,376.25)\" d=\"M3,0A3,3 0 1,1 0,-3A3,3 0 0,1 3,0Z\" style=\"opacity: 1; stroke-width: 0px; fill: rgb(11, 109, 162); fill-opacity: 1;\"/><path class=\"point\" transform=\"translate(501.74,376.25)\" d=\"M3,0A3,3 0 1,1 0,-3A3,3 0 0,1 3,0Z\" style=\"opacity: 1; stroke-width: 0px; fill: rgb(11, 109, 162); fill-opacity: 1;\"/><path class=\"point\" transform=\"translate(502.34,376.25)\" d=\"M3,0A3,3 0 1,1 0,-3A3,3 0 0,1 3,0Z\" style=\"opacity: 1; stroke-width: 0px; fill: rgb(11, 109, 162); fill-opacity: 1;\"/><path class=\"point\" transform=\"translate(502.94,376.25)\" d=\"M3,0A3,3 0 1,1 0,-3A3,3 0 0,1 3,0Z\" style=\"opacity: 1; stroke-width: 0px; fill: rgb(11, 109, 162); fill-opacity: 1;\"/><path class=\"point\" transform=\"translate(503.54,200)\" d=\"M3,0A3,3 0 1,1 0,-3A3,3 0 0,1 3,0Z\" style=\"opacity: 1; stroke-width: 0px; fill: rgb(11, 109, 162); fill-opacity: 1;\"/><path class=\"point\" transform=\"translate(504.14,376.25)\" d=\"M3,0A3,3 0 1,1 0,-3A3,3 0 0,1 3,0Z\" style=\"opacity: 1; stroke-width: 0px; fill: rgb(11, 109, 162); fill-opacity: 1;\"/><path class=\"point\" transform=\"translate(504.73,376.25)\" d=\"M3,0A3,3 0 1,1 0,-3A3,3 0 0,1 3,0Z\" style=\"opacity: 1; stroke-width: 0px; fill: rgb(11, 109, 162); fill-opacity: 1;\"/><path class=\"point\" transform=\"translate(505.33,376.25)\" d=\"M3,0A3,3 0 1,1 0,-3A3,3 0 0,1 3,0Z\" style=\"opacity: 1; stroke-width: 0px; fill: rgb(11, 109, 162); fill-opacity: 1;\"/><path class=\"point\" transform=\"translate(505.93,376.25)\" d=\"M3,0A3,3 0 1,1 0,-3A3,3 0 0,1 3,0Z\" style=\"opacity: 1; stroke-width: 0px; fill: rgb(11, 109, 162); fill-opacity: 1;\"/><path class=\"point\" transform=\"translate(506.53,376.25)\" d=\"M3,0A3,3 0 1,1 0,-3A3,3 0 0,1 3,0Z\" style=\"opacity: 1; stroke-width: 0px; fill: rgb(11, 109, 162); fill-opacity: 1;\"/><path class=\"point\" transform=\"translate(507.13,376.25)\" d=\"M3,0A3,3 0 1,1 0,-3A3,3 0 0,1 3,0Z\" style=\"opacity: 1; stroke-width: 0px; fill: rgb(11, 109, 162); fill-opacity: 1;\"/><path class=\"point\" transform=\"translate(507.73,200)\" d=\"M3,0A3,3 0 1,1 0,-3A3,3 0 0,1 3,0Z\" style=\"opacity: 1; stroke-width: 0px; fill: rgb(11, 109, 162); fill-opacity: 1;\"/><path class=\"point\" transform=\"translate(508.33,376.25)\" d=\"M3,0A3,3 0 1,1 0,-3A3,3 0 0,1 3,0Z\" style=\"opacity: 1; stroke-width: 0px; fill: rgb(11, 109, 162); fill-opacity: 1;\"/><path class=\"point\" transform=\"translate(508.93,376.25)\" d=\"M3,0A3,3 0 1,1 0,-3A3,3 0 0,1 3,0Z\" style=\"opacity: 1; stroke-width: 0px; fill: rgb(11, 109, 162); fill-opacity: 1;\"/><path class=\"point\" transform=\"translate(509.52,376.25)\" d=\"M3,0A3,3 0 1,1 0,-3A3,3 0 0,1 3,0Z\" style=\"opacity: 1; stroke-width: 0px; fill: rgb(11, 109, 162); fill-opacity: 1;\"/><path class=\"point\" transform=\"translate(510.12,376.25)\" d=\"M3,0A3,3 0 1,1 0,-3A3,3 0 0,1 3,0Z\" style=\"opacity: 1; stroke-width: 0px; fill: rgb(11, 109, 162); fill-opacity: 1;\"/><path class=\"point\" transform=\"translate(510.72,200)\" d=\"M3,0A3,3 0 1,1 0,-3A3,3 0 0,1 3,0Z\" style=\"opacity: 1; stroke-width: 0px; fill: rgb(11, 109, 162); fill-opacity: 1;\"/><path class=\"point\" transform=\"translate(511.32,376.25)\" d=\"M3,0A3,3 0 1,1 0,-3A3,3 0 0,1 3,0Z\" style=\"opacity: 1; stroke-width: 0px; fill: rgb(11, 109, 162); fill-opacity: 1;\"/><path class=\"point\" transform=\"translate(511.92,376.25)\" d=\"M3,0A3,3 0 1,1 0,-3A3,3 0 0,1 3,0Z\" style=\"opacity: 1; stroke-width: 0px; fill: rgb(11, 109, 162); fill-opacity: 1;\"/><path class=\"point\" transform=\"translate(512.52,376.25)\" d=\"M3,0A3,3 0 1,1 0,-3A3,3 0 0,1 3,0Z\" style=\"opacity: 1; stroke-width: 0px; fill: rgb(11, 109, 162); fill-opacity: 1;\"/><path class=\"point\" transform=\"translate(513.12,376.25)\" d=\"M3,0A3,3 0 1,1 0,-3A3,3 0 0,1 3,0Z\" style=\"opacity: 1; stroke-width: 0px; fill: rgb(11, 109, 162); fill-opacity: 1;\"/><path class=\"point\" transform=\"translate(513.72,376.25)\" d=\"M3,0A3,3 0 1,1 0,-3A3,3 0 0,1 3,0Z\" style=\"opacity: 1; stroke-width: 0px; fill: rgb(11, 109, 162); fill-opacity: 1;\"/><path class=\"point\" transform=\"translate(514.31,376.25)\" d=\"M3,0A3,3 0 1,1 0,-3A3,3 0 0,1 3,0Z\" style=\"opacity: 1; stroke-width: 0px; fill: rgb(11, 109, 162); fill-opacity: 1;\"/><path class=\"point\" transform=\"translate(514.91,376.25)\" d=\"M3,0A3,3 0 1,1 0,-3A3,3 0 0,1 3,0Z\" style=\"opacity: 1; stroke-width: 0px; fill: rgb(11, 109, 162); fill-opacity: 1;\"/><path class=\"point\" transform=\"translate(515.51,376.25)\" d=\"M3,0A3,3 0 1,1 0,-3A3,3 0 0,1 3,0Z\" style=\"opacity: 1; stroke-width: 0px; fill: rgb(11, 109, 162); fill-opacity: 1;\"/><path class=\"point\" transform=\"translate(516.11,376.25)\" d=\"M3,0A3,3 0 1,1 0,-3A3,3 0 0,1 3,0Z\" style=\"opacity: 1; stroke-width: 0px; fill: rgb(11, 109, 162); fill-opacity: 1;\"/><path class=\"point\" transform=\"translate(516.71,376.25)\" d=\"M3,0A3,3 0 1,1 0,-3A3,3 0 0,1 3,0Z\" style=\"opacity: 1; stroke-width: 0px; fill: rgb(11, 109, 162); fill-opacity: 1;\"/><path class=\"point\" transform=\"translate(517.31,376.25)\" d=\"M3,0A3,3 0 1,1 0,-3A3,3 0 0,1 3,0Z\" style=\"opacity: 1; stroke-width: 0px; fill: rgb(11, 109, 162); fill-opacity: 1;\"/><path class=\"point\" transform=\"translate(517.91,376.25)\" d=\"M3,0A3,3 0 1,1 0,-3A3,3 0 0,1 3,0Z\" style=\"opacity: 1; stroke-width: 0px; fill: rgb(11, 109, 162); fill-opacity: 1;\"/><path class=\"point\" transform=\"translate(518.51,376.25)\" d=\"M3,0A3,3 0 1,1 0,-3A3,3 0 0,1 3,0Z\" style=\"opacity: 1; stroke-width: 0px; fill: rgb(11, 109, 162); fill-opacity: 1;\"/><path class=\"point\" transform=\"translate(519.1,376.25)\" d=\"M3,0A3,3 0 1,1 0,-3A3,3 0 0,1 3,0Z\" style=\"opacity: 1; stroke-width: 0px; fill: rgb(11, 109, 162); fill-opacity: 1;\"/><path class=\"point\" transform=\"translate(519.7,200)\" d=\"M3,0A3,3 0 1,1 0,-3A3,3 0 0,1 3,0Z\" style=\"opacity: 1; stroke-width: 0px; fill: rgb(11, 109, 162); fill-opacity: 1;\"/><path class=\"point\" transform=\"translate(520.3,376.25)\" d=\"M3,0A3,3 0 1,1 0,-3A3,3 0 0,1 3,0Z\" style=\"opacity: 1; stroke-width: 0px; fill: rgb(11, 109, 162); fill-opacity: 1;\"/><path class=\"point\" transform=\"translate(520.9,376.25)\" d=\"M3,0A3,3 0 1,1 0,-3A3,3 0 0,1 3,0Z\" style=\"opacity: 1; stroke-width: 0px; fill: rgb(11, 109, 162); fill-opacity: 1;\"/><path class=\"point\" transform=\"translate(521.5,376.25)\" d=\"M3,0A3,3 0 1,1 0,-3A3,3 0 0,1 3,0Z\" style=\"opacity: 1; stroke-width: 0px; fill: rgb(11, 109, 162); fill-opacity: 1;\"/><path class=\"point\" transform=\"translate(522.1,376.25)\" d=\"M3,0A3,3 0 1,1 0,-3A3,3 0 0,1 3,0Z\" style=\"opacity: 1; stroke-width: 0px; fill: rgb(11, 109, 162); fill-opacity: 1;\"/><path class=\"point\" transform=\"translate(522.7,376.25)\" d=\"M3,0A3,3 0 1,1 0,-3A3,3 0 0,1 3,0Z\" style=\"opacity: 1; stroke-width: 0px; fill: rgb(11, 109, 162); fill-opacity: 1;\"/><path class=\"point\" transform=\"translate(523.3,376.25)\" d=\"M3,0A3,3 0 1,1 0,-3A3,3 0 0,1 3,0Z\" style=\"opacity: 1; stroke-width: 0px; fill: rgb(11, 109, 162); fill-opacity: 1;\"/><path class=\"point\" transform=\"translate(523.9,376.25)\" d=\"M3,0A3,3 0 1,1 0,-3A3,3 0 0,1 3,0Z\" style=\"opacity: 1; stroke-width: 0px; fill: rgb(11, 109, 162); fill-opacity: 1;\"/><path class=\"point\" transform=\"translate(524.49,376.25)\" d=\"M3,0A3,3 0 1,1 0,-3A3,3 0 0,1 3,0Z\" style=\"opacity: 1; stroke-width: 0px; fill: rgb(11, 109, 162); fill-opacity: 1;\"/><path class=\"point\" transform=\"translate(525.09,376.25)\" d=\"M3,0A3,3 0 1,1 0,-3A3,3 0 0,1 3,0Z\" style=\"opacity: 1; stroke-width: 0px; fill: rgb(11, 109, 162); fill-opacity: 1;\"/><path class=\"point\" transform=\"translate(525.69,376.25)\" d=\"M3,0A3,3 0 1,1 0,-3A3,3 0 0,1 3,0Z\" style=\"opacity: 1; stroke-width: 0px; fill: rgb(11, 109, 162); fill-opacity: 1;\"/><path class=\"point\" transform=\"translate(526.29,376.25)\" d=\"M3,0A3,3 0 1,1 0,-3A3,3 0 0,1 3,0Z\" style=\"opacity: 1; stroke-width: 0px; fill: rgb(11, 109, 162); fill-opacity: 1;\"/><path class=\"point\" transform=\"translate(526.89,376.25)\" d=\"M3,0A3,3 0 1,1 0,-3A3,3 0 0,1 3,0Z\" style=\"opacity: 1; stroke-width: 0px; fill: rgb(11, 109, 162); fill-opacity: 1;\"/><path class=\"point\" transform=\"translate(527.49,376.25)\" d=\"M3,0A3,3 0 1,1 0,-3A3,3 0 0,1 3,0Z\" style=\"opacity: 1; stroke-width: 0px; fill: rgb(11, 109, 162); fill-opacity: 1;\"/><path class=\"point\" transform=\"translate(528.09,376.25)\" d=\"M3,0A3,3 0 1,1 0,-3A3,3 0 0,1 3,0Z\" style=\"opacity: 1; stroke-width: 0px; fill: rgb(11, 109, 162); fill-opacity: 1;\"/><path class=\"point\" transform=\"translate(528.69,376.25)\" d=\"M3,0A3,3 0 1,1 0,-3A3,3 0 0,1 3,0Z\" style=\"opacity: 1; stroke-width: 0px; fill: rgb(11, 109, 162); fill-opacity: 1;\"/><path class=\"point\" transform=\"translate(529.28,376.25)\" d=\"M3,0A3,3 0 1,1 0,-3A3,3 0 0,1 3,0Z\" style=\"opacity: 1; stroke-width: 0px; fill: rgb(11, 109, 162); fill-opacity: 1;\"/><path class=\"point\" transform=\"translate(529.88,376.25)\" d=\"M3,0A3,3 0 1,1 0,-3A3,3 0 0,1 3,0Z\" style=\"opacity: 1; stroke-width: 0px; fill: rgb(11, 109, 162); fill-opacity: 1;\"/><path class=\"point\" transform=\"translate(530.48,376.25)\" d=\"M3,0A3,3 0 1,1 0,-3A3,3 0 0,1 3,0Z\" style=\"opacity: 1; stroke-width: 0px; fill: rgb(11, 109, 162); fill-opacity: 1;\"/><path class=\"point\" transform=\"translate(531.08,376.25)\" d=\"M3,0A3,3 0 1,1 0,-3A3,3 0 0,1 3,0Z\" style=\"opacity: 1; stroke-width: 0px; fill: rgb(11, 109, 162); fill-opacity: 1;\"/><path class=\"point\" transform=\"translate(531.68,376.25)\" d=\"M3,0A3,3 0 1,1 0,-3A3,3 0 0,1 3,0Z\" style=\"opacity: 1; stroke-width: 0px; fill: rgb(11, 109, 162); fill-opacity: 1;\"/><path class=\"point\" transform=\"translate(532.28,376.25)\" d=\"M3,0A3,3 0 1,1 0,-3A3,3 0 0,1 3,0Z\" style=\"opacity: 1; stroke-width: 0px; fill: rgb(11, 109, 162); fill-opacity: 1;\"/><path class=\"point\" transform=\"translate(532.88,376.25)\" d=\"M3,0A3,3 0 1,1 0,-3A3,3 0 0,1 3,0Z\" style=\"opacity: 1; stroke-width: 0px; fill: rgb(11, 109, 162); fill-opacity: 1;\"/><path class=\"point\" transform=\"translate(533.48,376.25)\" d=\"M3,0A3,3 0 1,1 0,-3A3,3 0 0,1 3,0Z\" style=\"opacity: 1; stroke-width: 0px; fill: rgb(11, 109, 162); fill-opacity: 1;\"/><path class=\"point\" transform=\"translate(534.07,376.25)\" d=\"M3,0A3,3 0 1,1 0,-3A3,3 0 0,1 3,0Z\" style=\"opacity: 1; stroke-width: 0px; fill: rgb(11, 109, 162); fill-opacity: 1;\"/><path class=\"point\" transform=\"translate(534.67,376.25)\" d=\"M3,0A3,3 0 1,1 0,-3A3,3 0 0,1 3,0Z\" style=\"opacity: 1; stroke-width: 0px; fill: rgb(11, 109, 162); fill-opacity: 1;\"/><path class=\"point\" transform=\"translate(535.27,376.25)\" d=\"M3,0A3,3 0 1,1 0,-3A3,3 0 0,1 3,0Z\" style=\"opacity: 1; stroke-width: 0px; fill: rgb(11, 109, 162); fill-opacity: 1;\"/><path class=\"point\" transform=\"translate(535.87,376.25)\" d=\"M3,0A3,3 0 1,1 0,-3A3,3 0 0,1 3,0Z\" style=\"opacity: 1; stroke-width: 0px; fill: rgb(11, 109, 162); fill-opacity: 1;\"/><path class=\"point\" transform=\"translate(536.47,376.25)\" d=\"M3,0A3,3 0 1,1 0,-3A3,3 0 0,1 3,0Z\" style=\"opacity: 1; stroke-width: 0px; fill: rgb(11, 109, 162); fill-opacity: 1;\"/><path class=\"point\" transform=\"translate(537.07,376.25)\" d=\"M3,0A3,3 0 1,1 0,-3A3,3 0 0,1 3,0Z\" style=\"opacity: 1; stroke-width: 0px; fill: rgb(11, 109, 162); fill-opacity: 1;\"/><path class=\"point\" transform=\"translate(537.67,376.25)\" d=\"M3,0A3,3 0 1,1 0,-3A3,3 0 0,1 3,0Z\" style=\"opacity: 1; stroke-width: 0px; fill: rgb(11, 109, 162); fill-opacity: 1;\"/><path class=\"point\" transform=\"translate(538.27,376.25)\" d=\"M3,0A3,3 0 1,1 0,-3A3,3 0 0,1 3,0Z\" style=\"opacity: 1; stroke-width: 0px; fill: rgb(11, 109, 162); fill-opacity: 1;\"/><path class=\"point\" transform=\"translate(538.86,376.25)\" d=\"M3,0A3,3 0 1,1 0,-3A3,3 0 0,1 3,0Z\" style=\"opacity: 1; stroke-width: 0px; fill: rgb(11, 109, 162); fill-opacity: 1;\"/><path class=\"point\" transform=\"translate(539.46,376.25)\" d=\"M3,0A3,3 0 1,1 0,-3A3,3 0 0,1 3,0Z\" style=\"opacity: 1; stroke-width: 0px; fill: rgb(11, 109, 162); fill-opacity: 1;\"/><path class=\"point\" transform=\"translate(540.06,376.25)\" d=\"M3,0A3,3 0 1,1 0,-3A3,3 0 0,1 3,0Z\" style=\"opacity: 1; stroke-width: 0px; fill: rgb(11, 109, 162); fill-opacity: 1;\"/><path class=\"point\" transform=\"translate(540.66,376.25)\" d=\"M3,0A3,3 0 1,1 0,-3A3,3 0 0,1 3,0Z\" style=\"opacity: 1; stroke-width: 0px; fill: rgb(11, 109, 162); fill-opacity: 1;\"/><path class=\"point\" transform=\"translate(541.26,376.25)\" d=\"M3,0A3,3 0 1,1 0,-3A3,3 0 0,1 3,0Z\" style=\"opacity: 1; stroke-width: 0px; fill: rgb(11, 109, 162); fill-opacity: 1;\"/><path class=\"point\" transform=\"translate(541.86,376.25)\" d=\"M3,0A3,3 0 1,1 0,-3A3,3 0 0,1 3,0Z\" style=\"opacity: 1; stroke-width: 0px; fill: rgb(11, 109, 162); fill-opacity: 1;\"/><path class=\"point\" transform=\"translate(542.46,376.25)\" d=\"M3,0A3,3 0 1,1 0,-3A3,3 0 0,1 3,0Z\" style=\"opacity: 1; stroke-width: 0px; fill: rgb(11, 109, 162); fill-opacity: 1;\"/><path class=\"point\" transform=\"translate(543.06,376.25)\" d=\"M3,0A3,3 0 1,1 0,-3A3,3 0 0,1 3,0Z\" style=\"opacity: 1; stroke-width: 0px; fill: rgb(11, 109, 162); fill-opacity: 1;\"/><path class=\"point\" transform=\"translate(543.65,376.25)\" d=\"M3,0A3,3 0 1,1 0,-3A3,3 0 0,1 3,0Z\" style=\"opacity: 1; stroke-width: 0px; fill: rgb(11, 109, 162); fill-opacity: 1;\"/><path class=\"point\" transform=\"translate(544.25,376.25)\" d=\"M3,0A3,3 0 1,1 0,-3A3,3 0 0,1 3,0Z\" style=\"opacity: 1; stroke-width: 0px; fill: rgb(11, 109, 162); fill-opacity: 1;\"/><path class=\"point\" transform=\"translate(544.85,376.25)\" d=\"M3,0A3,3 0 1,1 0,-3A3,3 0 0,1 3,0Z\" style=\"opacity: 1; stroke-width: 0px; fill: rgb(11, 109, 162); fill-opacity: 1;\"/><path class=\"point\" transform=\"translate(545.45,376.25)\" d=\"M3,0A3,3 0 1,1 0,-3A3,3 0 0,1 3,0Z\" style=\"opacity: 1; stroke-width: 0px; fill: rgb(11, 109, 162); fill-opacity: 1;\"/><path class=\"point\" transform=\"translate(546.05,376.25)\" d=\"M3,0A3,3 0 1,1 0,-3A3,3 0 0,1 3,0Z\" style=\"opacity: 1; stroke-width: 0px; fill: rgb(11, 109, 162); fill-opacity: 1;\"/><path class=\"point\" transform=\"translate(546.65,376.25)\" d=\"M3,0A3,3 0 1,1 0,-3A3,3 0 0,1 3,0Z\" style=\"opacity: 1; stroke-width: 0px; fill: rgb(11, 109, 162); fill-opacity: 1;\"/><path class=\"point\" transform=\"translate(547.25,376.25)\" d=\"M3,0A3,3 0 1,1 0,-3A3,3 0 0,1 3,0Z\" style=\"opacity: 1; stroke-width: 0px; fill: rgb(11, 109, 162); fill-opacity: 1;\"/><path class=\"point\" transform=\"translate(547.85,376.25)\" d=\"M3,0A3,3 0 1,1 0,-3A3,3 0 0,1 3,0Z\" style=\"opacity: 1; stroke-width: 0px; fill: rgb(11, 109, 162); fill-opacity: 1;\"/><path class=\"point\" transform=\"translate(548.44,376.25)\" d=\"M3,0A3,3 0 1,1 0,-3A3,3 0 0,1 3,0Z\" style=\"opacity: 1; stroke-width: 0px; fill: rgb(11, 109, 162); fill-opacity: 1;\"/><path class=\"point\" transform=\"translate(549.04,376.25)\" d=\"M3,0A3,3 0 1,1 0,-3A3,3 0 0,1 3,0Z\" style=\"opacity: 1; stroke-width: 0px; fill: rgb(11, 109, 162); fill-opacity: 1;\"/><path class=\"point\" transform=\"translate(549.64,376.25)\" d=\"M3,0A3,3 0 1,1 0,-3A3,3 0 0,1 3,0Z\" style=\"opacity: 1; stroke-width: 0px; fill: rgb(11, 109, 162); fill-opacity: 1;\"/><path class=\"point\" transform=\"translate(550.24,376.25)\" d=\"M3,0A3,3 0 1,1 0,-3A3,3 0 0,1 3,0Z\" style=\"opacity: 1; stroke-width: 0px; fill: rgb(11, 109, 162); fill-opacity: 1;\"/><path class=\"point\" transform=\"translate(550.84,376.25)\" d=\"M3,0A3,3 0 1,1 0,-3A3,3 0 0,1 3,0Z\" style=\"opacity: 1; stroke-width: 0px; fill: rgb(11, 109, 162); fill-opacity: 1;\"/><path class=\"point\" transform=\"translate(551.44,376.25)\" d=\"M3,0A3,3 0 1,1 0,-3A3,3 0 0,1 3,0Z\" style=\"opacity: 1; stroke-width: 0px; fill: rgb(11, 109, 162); fill-opacity: 1;\"/><path class=\"point\" transform=\"translate(552.04,376.25)\" d=\"M3,0A3,3 0 1,1 0,-3A3,3 0 0,1 3,0Z\" style=\"opacity: 1; stroke-width: 0px; fill: rgb(11, 109, 162); fill-opacity: 1;\"/><path class=\"point\" transform=\"translate(552.64,376.25)\" d=\"M3,0A3,3 0 1,1 0,-3A3,3 0 0,1 3,0Z\" style=\"opacity: 1; stroke-width: 0px; fill: rgb(11, 109, 162); fill-opacity: 1;\"/><path class=\"point\" transform=\"translate(553.23,376.25)\" d=\"M3,0A3,3 0 1,1 0,-3A3,3 0 0,1 3,0Z\" style=\"opacity: 1; stroke-width: 0px; fill: rgb(11, 109, 162); fill-opacity: 1;\"/><path class=\"point\" transform=\"translate(553.83,376.25)\" d=\"M3,0A3,3 0 1,1 0,-3A3,3 0 0,1 3,0Z\" style=\"opacity: 1; stroke-width: 0px; fill: rgb(11, 109, 162); fill-opacity: 1;\"/><path class=\"point\" transform=\"translate(554.43,376.25)\" d=\"M3,0A3,3 0 1,1 0,-3A3,3 0 0,1 3,0Z\" style=\"opacity: 1; stroke-width: 0px; fill: rgb(11, 109, 162); fill-opacity: 1;\"/><path class=\"point\" transform=\"translate(555.03,376.25)\" d=\"M3,0A3,3 0 1,1 0,-3A3,3 0 0,1 3,0Z\" style=\"opacity: 1; stroke-width: 0px; fill: rgb(11, 109, 162); fill-opacity: 1;\"/><path class=\"point\" transform=\"translate(555.63,376.25)\" d=\"M3,0A3,3 0 1,1 0,-3A3,3 0 0,1 3,0Z\" style=\"opacity: 1; stroke-width: 0px; fill: rgb(11, 109, 162); fill-opacity: 1;\"/><path class=\"point\" transform=\"translate(556.23,376.25)\" d=\"M3,0A3,3 0 1,1 0,-3A3,3 0 0,1 3,0Z\" style=\"opacity: 1; stroke-width: 0px; fill: rgb(11, 109, 162); fill-opacity: 1;\"/><path class=\"point\" transform=\"translate(556.83,376.25)\" d=\"M3,0A3,3 0 1,1 0,-3A3,3 0 0,1 3,0Z\" style=\"opacity: 1; stroke-width: 0px; fill: rgb(11, 109, 162); fill-opacity: 1;\"/><path class=\"point\" transform=\"translate(557.43,376.25)\" d=\"M3,0A3,3 0 1,1 0,-3A3,3 0 0,1 3,0Z\" style=\"opacity: 1; stroke-width: 0px; fill: rgb(11, 109, 162); fill-opacity: 1;\"/><path class=\"point\" transform=\"translate(558.02,376.25)\" d=\"M3,0A3,3 0 1,1 0,-3A3,3 0 0,1 3,0Z\" style=\"opacity: 1; stroke-width: 0px; fill: rgb(11, 109, 162); fill-opacity: 1;\"/><path class=\"point\" transform=\"translate(558.62,376.25)\" d=\"M3,0A3,3 0 1,1 0,-3A3,3 0 0,1 3,0Z\" style=\"opacity: 1; stroke-width: 0px; fill: rgb(11, 109, 162); fill-opacity: 1;\"/><path class=\"point\" transform=\"translate(559.22,376.25)\" d=\"M3,0A3,3 0 1,1 0,-3A3,3 0 0,1 3,0Z\" style=\"opacity: 1; stroke-width: 0px; fill: rgb(11, 109, 162); fill-opacity: 1;\"/><path class=\"point\" transform=\"translate(559.82,376.25)\" d=\"M3,0A3,3 0 1,1 0,-3A3,3 0 0,1 3,0Z\" style=\"opacity: 1; stroke-width: 0px; fill: rgb(11, 109, 162); fill-opacity: 1;\"/><path class=\"point\" transform=\"translate(560.42,376.25)\" d=\"M3,0A3,3 0 1,1 0,-3A3,3 0 0,1 3,0Z\" style=\"opacity: 1; stroke-width: 0px; fill: rgb(11, 109, 162); fill-opacity: 1;\"/><path class=\"point\" transform=\"translate(561.02,376.25)\" d=\"M3,0A3,3 0 1,1 0,-3A3,3 0 0,1 3,0Z\" style=\"opacity: 1; stroke-width: 0px; fill: rgb(11, 109, 162); fill-opacity: 1;\"/><path class=\"point\" transform=\"translate(561.62,376.25)\" d=\"M3,0A3,3 0 1,1 0,-3A3,3 0 0,1 3,0Z\" style=\"opacity: 1; stroke-width: 0px; fill: rgb(11, 109, 162); fill-opacity: 1;\"/><path class=\"point\" transform=\"translate(562.22,376.25)\" d=\"M3,0A3,3 0 1,1 0,-3A3,3 0 0,1 3,0Z\" style=\"opacity: 1; stroke-width: 0px; fill: rgb(11, 109, 162); fill-opacity: 1;\"/><path class=\"point\" transform=\"translate(562.81,376.25)\" d=\"M3,0A3,3 0 1,1 0,-3A3,3 0 0,1 3,0Z\" style=\"opacity: 1; stroke-width: 0px; fill: rgb(11, 109, 162); fill-opacity: 1;\"/><path class=\"point\" transform=\"translate(563.41,376.25)\" d=\"M3,0A3,3 0 1,1 0,-3A3,3 0 0,1 3,0Z\" style=\"opacity: 1; stroke-width: 0px; fill: rgb(11, 109, 162); fill-opacity: 1;\"/><path class=\"point\" transform=\"translate(564.01,376.25)\" d=\"M3,0A3,3 0 1,1 0,-3A3,3 0 0,1 3,0Z\" style=\"opacity: 1; stroke-width: 0px; fill: rgb(11, 109, 162); fill-opacity: 1;\"/><path class=\"point\" transform=\"translate(564.61,376.25)\" d=\"M3,0A3,3 0 1,1 0,-3A3,3 0 0,1 3,0Z\" style=\"opacity: 1; stroke-width: 0px; fill: rgb(11, 109, 162); fill-opacity: 1;\"/><path class=\"point\" transform=\"translate(565.21,376.25)\" d=\"M3,0A3,3 0 1,1 0,-3A3,3 0 0,1 3,0Z\" style=\"opacity: 1; stroke-width: 0px; fill: rgb(11, 109, 162); fill-opacity: 1;\"/><path class=\"point\" transform=\"translate(565.81,376.25)\" d=\"M3,0A3,3 0 1,1 0,-3A3,3 0 0,1 3,0Z\" style=\"opacity: 1; stroke-width: 0px; fill: rgb(11, 109, 162); fill-opacity: 1;\"/><path class=\"point\" transform=\"translate(566.41,376.25)\" d=\"M3,0A3,3 0 1,1 0,-3A3,3 0 0,1 3,0Z\" style=\"opacity: 1; stroke-width: 0px; fill: rgb(11, 109, 162); fill-opacity: 1;\"/><path class=\"point\" transform=\"translate(567.01,376.25)\" d=\"M3,0A3,3 0 1,1 0,-3A3,3 0 0,1 3,0Z\" style=\"opacity: 1; stroke-width: 0px; fill: rgb(11, 109, 162); fill-opacity: 1;\"/><path class=\"point\" transform=\"translate(567.6,376.25)\" d=\"M3,0A3,3 0 1,1 0,-3A3,3 0 0,1 3,0Z\" style=\"opacity: 1; stroke-width: 0px; fill: rgb(11, 109, 162); fill-opacity: 1;\"/><path class=\"point\" transform=\"translate(568.2,376.25)\" d=\"M3,0A3,3 0 1,1 0,-3A3,3 0 0,1 3,0Z\" style=\"opacity: 1; stroke-width: 0px; fill: rgb(11, 109, 162); fill-opacity: 1;\"/><path class=\"point\" transform=\"translate(568.8,376.25)\" d=\"M3,0A3,3 0 1,1 0,-3A3,3 0 0,1 3,0Z\" style=\"opacity: 1; stroke-width: 0px; fill: rgb(11, 109, 162); fill-opacity: 1;\"/><path class=\"point\" transform=\"translate(569.4,23.75)\" d=\"M3,0A3,3 0 1,1 0,-3A3,3 0 0,1 3,0Z\" style=\"opacity: 1; stroke-width: 0px; fill: rgb(11, 109, 162); fill-opacity: 1;\"/><path class=\"point\" transform=\"translate(570,376.25)\" d=\"M3,0A3,3 0 1,1 0,-3A3,3 0 0,1 3,0Z\" style=\"opacity: 1; stroke-width: 0px; fill: rgb(11, 109, 162); fill-opacity: 1;\"/><path class=\"point\" transform=\"translate(570.6,376.25)\" d=\"M3,0A3,3 0 1,1 0,-3A3,3 0 0,1 3,0Z\" style=\"opacity: 1; stroke-width: 0px; fill: rgb(11, 109, 162); fill-opacity: 1;\"/><path class=\"point\" transform=\"translate(571.2,376.25)\" d=\"M3,0A3,3 0 1,1 0,-3A3,3 0 0,1 3,0Z\" style=\"opacity: 1; stroke-width: 0px; fill: rgb(11, 109, 162); fill-opacity: 1;\"/><path class=\"point\" transform=\"translate(571.8,376.25)\" d=\"M3,0A3,3 0 1,1 0,-3A3,3 0 0,1 3,0Z\" style=\"opacity: 1; stroke-width: 0px; fill: rgb(11, 109, 162); fill-opacity: 1;\"/><path class=\"point\" transform=\"translate(572.4,376.25)\" d=\"M3,0A3,3 0 1,1 0,-3A3,3 0 0,1 3,0Z\" style=\"opacity: 1; stroke-width: 0px; fill: rgb(11, 109, 162); fill-opacity: 1;\"/><path class=\"point\" transform=\"translate(572.99,376.25)\" d=\"M3,0A3,3 0 1,1 0,-3A3,3 0 0,1 3,0Z\" style=\"opacity: 1; stroke-width: 0px; fill: rgb(11, 109, 162); fill-opacity: 1;\"/><path class=\"point\" transform=\"translate(573.59,200)\" d=\"M3,0A3,3 0 1,1 0,-3A3,3 0 0,1 3,0Z\" style=\"opacity: 1; stroke-width: 0px; fill: rgb(11, 109, 162); fill-opacity: 1;\"/><path class=\"point\" transform=\"translate(574.19,376.25)\" d=\"M3,0A3,3 0 1,1 0,-3A3,3 0 0,1 3,0Z\" style=\"opacity: 1; stroke-width: 0px; fill: rgb(11, 109, 162); fill-opacity: 1;\"/><path class=\"point\" transform=\"translate(574.79,376.25)\" d=\"M3,0A3,3 0 1,1 0,-3A3,3 0 0,1 3,0Z\" style=\"opacity: 1; stroke-width: 0px; fill: rgb(11, 109, 162); fill-opacity: 1;\"/><path class=\"point\" transform=\"translate(575.39,376.25)\" d=\"M3,0A3,3 0 1,1 0,-3A3,3 0 0,1 3,0Z\" style=\"opacity: 1; stroke-width: 0px; fill: rgb(11, 109, 162); fill-opacity: 1;\"/><path class=\"point\" transform=\"translate(575.99,200)\" d=\"M3,0A3,3 0 1,1 0,-3A3,3 0 0,1 3,0Z\" style=\"opacity: 1; stroke-width: 0px; fill: rgb(11, 109, 162); fill-opacity: 1;\"/><path class=\"point\" transform=\"translate(576.59,376.25)\" d=\"M3,0A3,3 0 1,1 0,-3A3,3 0 0,1 3,0Z\" style=\"opacity: 1; stroke-width: 0px; fill: rgb(11, 109, 162); fill-opacity: 1;\"/><path class=\"point\" transform=\"translate(577.19,376.25)\" d=\"M3,0A3,3 0 1,1 0,-3A3,3 0 0,1 3,0Z\" style=\"opacity: 1; stroke-width: 0px; fill: rgb(11, 109, 162); fill-opacity: 1;\"/><path class=\"point\" transform=\"translate(577.78,376.25)\" d=\"M3,0A3,3 0 1,1 0,-3A3,3 0 0,1 3,0Z\" style=\"opacity: 1; stroke-width: 0px; fill: rgb(11, 109, 162); fill-opacity: 1;\"/><path class=\"point\" transform=\"translate(578.38,376.25)\" d=\"M3,0A3,3 0 1,1 0,-3A3,3 0 0,1 3,0Z\" style=\"opacity: 1; stroke-width: 0px; fill: rgb(11, 109, 162); fill-opacity: 1;\"/><path class=\"point\" transform=\"translate(578.98,376.25)\" d=\"M3,0A3,3 0 1,1 0,-3A3,3 0 0,1 3,0Z\" style=\"opacity: 1; stroke-width: 0px; fill: rgb(11, 109, 162); fill-opacity: 1;\"/><path class=\"point\" transform=\"translate(579.58,376.25)\" d=\"M3,0A3,3 0 1,1 0,-3A3,3 0 0,1 3,0Z\" style=\"opacity: 1; stroke-width: 0px; fill: rgb(11, 109, 162); fill-opacity: 1;\"/><path class=\"point\" transform=\"translate(580.18,23.75)\" d=\"M3,0A3,3 0 1,1 0,-3A3,3 0 0,1 3,0Z\" style=\"opacity: 1; stroke-width: 0px; fill: rgb(11, 109, 162); fill-opacity: 1;\"/><path class=\"point\" transform=\"translate(580.78,376.25)\" d=\"M3,0A3,3 0 1,1 0,-3A3,3 0 0,1 3,0Z\" style=\"opacity: 1; stroke-width: 0px; fill: rgb(11, 109, 162); fill-opacity: 1;\"/><path class=\"point\" transform=\"translate(581.38,376.25)\" d=\"M3,0A3,3 0 1,1 0,-3A3,3 0 0,1 3,0Z\" style=\"opacity: 1; stroke-width: 0px; fill: rgb(11, 109, 162); fill-opacity: 1;\"/><path class=\"point\" transform=\"translate(581.98,376.25)\" d=\"M3,0A3,3 0 1,1 0,-3A3,3 0 0,1 3,0Z\" style=\"opacity: 1; stroke-width: 0px; fill: rgb(11, 109, 162); fill-opacity: 1;\"/><path class=\"point\" transform=\"translate(582.57,376.25)\" d=\"M3,0A3,3 0 1,1 0,-3A3,3 0 0,1 3,0Z\" style=\"opacity: 1; stroke-width: 0px; fill: rgb(11, 109, 162); fill-opacity: 1;\"/><path class=\"point\" transform=\"translate(583.17,376.25)\" d=\"M3,0A3,3 0 1,1 0,-3A3,3 0 0,1 3,0Z\" style=\"opacity: 1; stroke-width: 0px; fill: rgb(11, 109, 162); fill-opacity: 1;\"/><path class=\"point\" transform=\"translate(583.77,376.25)\" d=\"M3,0A3,3 0 1,1 0,-3A3,3 0 0,1 3,0Z\" style=\"opacity: 1; stroke-width: 0px; fill: rgb(11, 109, 162); fill-opacity: 1;\"/><path class=\"point\" transform=\"translate(584.37,376.25)\" d=\"M3,0A3,3 0 1,1 0,-3A3,3 0 0,1 3,0Z\" style=\"opacity: 1; stroke-width: 0px; fill: rgb(11, 109, 162); fill-opacity: 1;\"/><path class=\"point\" transform=\"translate(584.97,376.25)\" d=\"M3,0A3,3 0 1,1 0,-3A3,3 0 0,1 3,0Z\" style=\"opacity: 1; stroke-width: 0px; fill: rgb(11, 109, 162); fill-opacity: 1;\"/><path class=\"point\" transform=\"translate(585.57,376.25)\" d=\"M3,0A3,3 0 1,1 0,-3A3,3 0 0,1 3,0Z\" style=\"opacity: 1; stroke-width: 0px; fill: rgb(11, 109, 162); fill-opacity: 1;\"/><path class=\"point\" transform=\"translate(586.17,376.25)\" d=\"M3,0A3,3 0 1,1 0,-3A3,3 0 0,1 3,0Z\" style=\"opacity: 1; stroke-width: 0px; fill: rgb(11, 109, 162); fill-opacity: 1;\"/><path class=\"point\" transform=\"translate(586.77,376.25)\" d=\"M3,0A3,3 0 1,1 0,-3A3,3 0 0,1 3,0Z\" style=\"opacity: 1; stroke-width: 0px; fill: rgb(11, 109, 162); fill-opacity: 1;\"/><path class=\"point\" transform=\"translate(587.36,376.25)\" d=\"M3,0A3,3 0 1,1 0,-3A3,3 0 0,1 3,0Z\" style=\"opacity: 1; stroke-width: 0px; fill: rgb(11, 109, 162); fill-opacity: 1;\"/><path class=\"point\" transform=\"translate(587.96,376.25)\" d=\"M3,0A3,3 0 1,1 0,-3A3,3 0 0,1 3,0Z\" style=\"opacity: 1; stroke-width: 0px; fill: rgb(11, 109, 162); fill-opacity: 1;\"/><path class=\"point\" transform=\"translate(588.56,376.25)\" d=\"M3,0A3,3 0 1,1 0,-3A3,3 0 0,1 3,0Z\" style=\"opacity: 1; stroke-width: 0px; fill: rgb(11, 109, 162); fill-opacity: 1;\"/><path class=\"point\" transform=\"translate(589.16,376.25)\" d=\"M3,0A3,3 0 1,1 0,-3A3,3 0 0,1 3,0Z\" style=\"opacity: 1; stroke-width: 0px; fill: rgb(11, 109, 162); fill-opacity: 1;\"/><path class=\"point\" transform=\"translate(589.76,376.25)\" d=\"M3,0A3,3 0 1,1 0,-3A3,3 0 0,1 3,0Z\" style=\"opacity: 1; stroke-width: 0px; fill: rgb(11, 109, 162); fill-opacity: 1;\"/><path class=\"point\" transform=\"translate(590.36,376.25)\" d=\"M3,0A3,3 0 1,1 0,-3A3,3 0 0,1 3,0Z\" style=\"opacity: 1; stroke-width: 0px; fill: rgb(11, 109, 162); fill-opacity: 1;\"/><path class=\"point\" transform=\"translate(590.96,376.25)\" d=\"M3,0A3,3 0 1,1 0,-3A3,3 0 0,1 3,0Z\" style=\"opacity: 1; stroke-width: 0px; fill: rgb(11, 109, 162); fill-opacity: 1;\"/><path class=\"point\" transform=\"translate(591.56,376.25)\" d=\"M3,0A3,3 0 1,1 0,-3A3,3 0 0,1 3,0Z\" style=\"opacity: 1; stroke-width: 0px; fill: rgb(11, 109, 162); fill-opacity: 1;\"/><path class=\"point\" transform=\"translate(592.15,376.25)\" d=\"M3,0A3,3 0 1,1 0,-3A3,3 0 0,1 3,0Z\" style=\"opacity: 1; stroke-width: 0px; fill: rgb(11, 109, 162); fill-opacity: 1;\"/><path class=\"point\" transform=\"translate(592.75,376.25)\" d=\"M3,0A3,3 0 1,1 0,-3A3,3 0 0,1 3,0Z\" style=\"opacity: 1; stroke-width: 0px; fill: rgb(11, 109, 162); fill-opacity: 1;\"/><path class=\"point\" transform=\"translate(593.35,376.25)\" d=\"M3,0A3,3 0 1,1 0,-3A3,3 0 0,1 3,0Z\" style=\"opacity: 1; stroke-width: 0px; fill: rgb(11, 109, 162); fill-opacity: 1;\"/><path class=\"point\" transform=\"translate(593.95,376.25)\" d=\"M3,0A3,3 0 1,1 0,-3A3,3 0 0,1 3,0Z\" style=\"opacity: 1; stroke-width: 0px; fill: rgb(11, 109, 162); fill-opacity: 1;\"/><path class=\"point\" transform=\"translate(594.55,376.25)\" d=\"M3,0A3,3 0 1,1 0,-3A3,3 0 0,1 3,0Z\" style=\"opacity: 1; stroke-width: 0px; fill: rgb(11, 109, 162); fill-opacity: 1;\"/><path class=\"point\" transform=\"translate(595.15,376.25)\" d=\"M3,0A3,3 0 1,1 0,-3A3,3 0 0,1 3,0Z\" style=\"opacity: 1; stroke-width: 0px; fill: rgb(11, 109, 162); fill-opacity: 1;\"/><path class=\"point\" transform=\"translate(595.75,376.25)\" d=\"M3,0A3,3 0 1,1 0,-3A3,3 0 0,1 3,0Z\" style=\"opacity: 1; stroke-width: 0px; fill: rgb(11, 109, 162); fill-opacity: 1;\"/><path class=\"point\" transform=\"translate(596.35,376.25)\" d=\"M3,0A3,3 0 1,1 0,-3A3,3 0 0,1 3,0Z\" style=\"opacity: 1; stroke-width: 0px; fill: rgb(11, 109, 162); fill-opacity: 1;\"/><path class=\"point\" transform=\"translate(596.94,376.25)\" d=\"M3,0A3,3 0 1,1 0,-3A3,3 0 0,1 3,0Z\" style=\"opacity: 1; stroke-width: 0px; fill: rgb(11, 109, 162); fill-opacity: 1;\"/><path class=\"point\" transform=\"translate(597.54,200)\" d=\"M3,0A3,3 0 1,1 0,-3A3,3 0 0,1 3,0Z\" style=\"opacity: 1; stroke-width: 0px; fill: rgb(11, 109, 162); fill-opacity: 1;\"/><path class=\"point\" transform=\"translate(598.14,376.25)\" d=\"M3,0A3,3 0 1,1 0,-3A3,3 0 0,1 3,0Z\" style=\"opacity: 1; stroke-width: 0px; fill: rgb(11, 109, 162); fill-opacity: 1;\"/><path class=\"point\" transform=\"translate(598.74,376.25)\" d=\"M3,0A3,3 0 1,1 0,-3A3,3 0 0,1 3,0Z\" style=\"opacity: 1; stroke-width: 0px; fill: rgb(11, 109, 162); fill-opacity: 1;\"/><path class=\"point\" transform=\"translate(599.34,200)\" d=\"M3,0A3,3 0 1,1 0,-3A3,3 0 0,1 3,0Z\" style=\"opacity: 1; stroke-width: 0px; fill: rgb(11, 109, 162); fill-opacity: 1;\"/><path class=\"point\" transform=\"translate(599.94,376.25)\" d=\"M3,0A3,3 0 1,1 0,-3A3,3 0 0,1 3,0Z\" style=\"opacity: 1; stroke-width: 0px; fill: rgb(11, 109, 162); fill-opacity: 1;\"/><path class=\"point\" transform=\"translate(600.54,376.25)\" d=\"M3,0A3,3 0 1,1 0,-3A3,3 0 0,1 3,0Z\" style=\"opacity: 1; stroke-width: 0px; fill: rgb(11, 109, 162); fill-opacity: 1;\"/><path class=\"point\" transform=\"translate(601.14,376.25)\" d=\"M3,0A3,3 0 1,1 0,-3A3,3 0 0,1 3,0Z\" style=\"opacity: 1; stroke-width: 0px; fill: rgb(11, 109, 162); fill-opacity: 1;\"/><path class=\"point\" transform=\"translate(601.73,376.25)\" d=\"M3,0A3,3 0 1,1 0,-3A3,3 0 0,1 3,0Z\" style=\"opacity: 1; stroke-width: 0px; fill: rgb(11, 109, 162); fill-opacity: 1;\"/><path class=\"point\" transform=\"translate(602.33,376.25)\" d=\"M3,0A3,3 0 1,1 0,-3A3,3 0 0,1 3,0Z\" style=\"opacity: 1; stroke-width: 0px; fill: rgb(11, 109, 162); fill-opacity: 1;\"/><path class=\"point\" transform=\"translate(602.93,376.25)\" d=\"M3,0A3,3 0 1,1 0,-3A3,3 0 0,1 3,0Z\" style=\"opacity: 1; stroke-width: 0px; fill: rgb(11, 109, 162); fill-opacity: 1;\"/><path class=\"point\" transform=\"translate(603.53,376.25)\" d=\"M3,0A3,3 0 1,1 0,-3A3,3 0 0,1 3,0Z\" style=\"opacity: 1; stroke-width: 0px; fill: rgb(11, 109, 162); fill-opacity: 1;\"/><path class=\"point\" transform=\"translate(604.13,376.25)\" d=\"M3,0A3,3 0 1,1 0,-3A3,3 0 0,1 3,0Z\" style=\"opacity: 1; stroke-width: 0px; fill: rgb(11, 109, 162); fill-opacity: 1;\"/><path class=\"point\" transform=\"translate(604.73,376.25)\" d=\"M3,0A3,3 0 1,1 0,-3A3,3 0 0,1 3,0Z\" style=\"opacity: 1; stroke-width: 0px; fill: rgb(11, 109, 162); fill-opacity: 1;\"/><path class=\"point\" transform=\"translate(605.33,376.25)\" d=\"M3,0A3,3 0 1,1 0,-3A3,3 0 0,1 3,0Z\" style=\"opacity: 1; stroke-width: 0px; fill: rgb(11, 109, 162); fill-opacity: 1;\"/><path class=\"point\" transform=\"translate(605.93,376.25)\" d=\"M3,0A3,3 0 1,1 0,-3A3,3 0 0,1 3,0Z\" style=\"opacity: 1; stroke-width: 0px; fill: rgb(11, 109, 162); fill-opacity: 1;\"/><path class=\"point\" transform=\"translate(606.52,376.25)\" d=\"M3,0A3,3 0 1,1 0,-3A3,3 0 0,1 3,0Z\" style=\"opacity: 1; stroke-width: 0px; fill: rgb(11, 109, 162); fill-opacity: 1;\"/><path class=\"point\" transform=\"translate(607.12,376.25)\" d=\"M3,0A3,3 0 1,1 0,-3A3,3 0 0,1 3,0Z\" style=\"opacity: 1; stroke-width: 0px; fill: rgb(11, 109, 162); fill-opacity: 1;\"/><path class=\"point\" transform=\"translate(607.72,376.25)\" d=\"M3,0A3,3 0 1,1 0,-3A3,3 0 0,1 3,0Z\" style=\"opacity: 1; stroke-width: 0px; fill: rgb(11, 109, 162); fill-opacity: 1;\"/><path class=\"point\" transform=\"translate(608.32,376.25)\" d=\"M3,0A3,3 0 1,1 0,-3A3,3 0 0,1 3,0Z\" style=\"opacity: 1; stroke-width: 0px; fill: rgb(11, 109, 162); fill-opacity: 1;\"/><path class=\"point\" transform=\"translate(608.92,376.25)\" d=\"M3,0A3,3 0 1,1 0,-3A3,3 0 0,1 3,0Z\" style=\"opacity: 1; stroke-width: 0px; fill: rgb(11, 109, 162); fill-opacity: 1;\"/><path class=\"point\" transform=\"translate(609.52,376.25)\" d=\"M3,0A3,3 0 1,1 0,-3A3,3 0 0,1 3,0Z\" style=\"opacity: 1; stroke-width: 0px; fill: rgb(11, 109, 162); fill-opacity: 1;\"/><path class=\"point\" transform=\"translate(610.12,376.25)\" d=\"M3,0A3,3 0 1,1 0,-3A3,3 0 0,1 3,0Z\" style=\"opacity: 1; stroke-width: 0px; fill: rgb(11, 109, 162); fill-opacity: 1;\"/><path class=\"point\" transform=\"translate(610.72,376.25)\" d=\"M3,0A3,3 0 1,1 0,-3A3,3 0 0,1 3,0Z\" style=\"opacity: 1; stroke-width: 0px; fill: rgb(11, 109, 162); fill-opacity: 1;\"/><path class=\"point\" transform=\"translate(611.31,376.25)\" d=\"M3,0A3,3 0 1,1 0,-3A3,3 0 0,1 3,0Z\" style=\"opacity: 1; stroke-width: 0px; fill: rgb(11, 109, 162); fill-opacity: 1;\"/><path class=\"point\" transform=\"translate(611.91,376.25)\" d=\"M3,0A3,3 0 1,1 0,-3A3,3 0 0,1 3,0Z\" style=\"opacity: 1; stroke-width: 0px; fill: rgb(11, 109, 162); fill-opacity: 1;\"/><path class=\"point\" transform=\"translate(612.51,376.25)\" d=\"M3,0A3,3 0 1,1 0,-3A3,3 0 0,1 3,0Z\" style=\"opacity: 1; stroke-width: 0px; fill: rgb(11, 109, 162); fill-opacity: 1;\"/><path class=\"point\" transform=\"translate(613.11,376.25)\" d=\"M3,0A3,3 0 1,1 0,-3A3,3 0 0,1 3,0Z\" style=\"opacity: 1; stroke-width: 0px; fill: rgb(11, 109, 162); fill-opacity: 1;\"/><path class=\"point\" transform=\"translate(613.71,376.25)\" d=\"M3,0A3,3 0 1,1 0,-3A3,3 0 0,1 3,0Z\" style=\"opacity: 1; stroke-width: 0px; fill: rgb(11, 109, 162); fill-opacity: 1;\"/><path class=\"point\" transform=\"translate(614.31,376.25)\" d=\"M3,0A3,3 0 1,1 0,-3A3,3 0 0,1 3,0Z\" style=\"opacity: 1; stroke-width: 0px; fill: rgb(11, 109, 162); fill-opacity: 1;\"/><path class=\"point\" transform=\"translate(614.91,376.25)\" d=\"M3,0A3,3 0 1,1 0,-3A3,3 0 0,1 3,0Z\" style=\"opacity: 1; stroke-width: 0px; fill: rgb(11, 109, 162); fill-opacity: 1;\"/><path class=\"point\" transform=\"translate(615.51,376.25)\" d=\"M3,0A3,3 0 1,1 0,-3A3,3 0 0,1 3,0Z\" style=\"opacity: 1; stroke-width: 0px; fill: rgb(11, 109, 162); fill-opacity: 1;\"/><path class=\"point\" transform=\"translate(616.1,376.25)\" d=\"M3,0A3,3 0 1,1 0,-3A3,3 0 0,1 3,0Z\" style=\"opacity: 1; stroke-width: 0px; fill: rgb(11, 109, 162); fill-opacity: 1;\"/><path class=\"point\" transform=\"translate(616.7,376.25)\" d=\"M3,0A3,3 0 1,1 0,-3A3,3 0 0,1 3,0Z\" style=\"opacity: 1; stroke-width: 0px; fill: rgb(11, 109, 162); fill-opacity: 1;\"/><path class=\"point\" transform=\"translate(617.3,376.25)\" d=\"M3,0A3,3 0 1,1 0,-3A3,3 0 0,1 3,0Z\" style=\"opacity: 1; stroke-width: 0px; fill: rgb(11, 109, 162); fill-opacity: 1;\"/><path class=\"point\" transform=\"translate(617.9,376.25)\" d=\"M3,0A3,3 0 1,1 0,-3A3,3 0 0,1 3,0Z\" style=\"opacity: 1; stroke-width: 0px; fill: rgb(11, 109, 162); fill-opacity: 1;\"/><path class=\"point\" transform=\"translate(618.5,376.25)\" d=\"M3,0A3,3 0 1,1 0,-3A3,3 0 0,1 3,0Z\" style=\"opacity: 1; stroke-width: 0px; fill: rgb(11, 109, 162); fill-opacity: 1;\"/></g><g class=\"text\"/></g></g></g><g class=\"overplot\"/><path class=\"xlines-above crisp\" d=\"M0,0\" style=\"fill: none;\"/><path class=\"ylines-above crisp\" d=\"M0,0\" style=\"fill: none;\"/><g class=\"overlines-above\"/><g class=\"xaxislayer-above\"><g class=\"xtick\"><text text-anchor=\"middle\" x=\"0\" y=\"463\" transform=\"translate(81.5,0)\" style=\"font-family: 'Open Sans', verdana, arial, sans-serif; font-size: 12px; fill: rgb(42, 63, 95); fill-opacity: 1; white-space: pre; opacity: 1;\">0</text></g><g class=\"xtick\"><text text-anchor=\"middle\" x=\"0\" y=\"463\" style=\"font-family: 'Open Sans', verdana, arial, sans-serif; font-size: 12px; fill: rgb(42, 63, 95); fill-opacity: 1; white-space: pre; opacity: 1;\" transform=\"translate(201.25,0)\">200</text></g><g class=\"xtick\"><text text-anchor=\"middle\" x=\"0\" y=\"463\" style=\"font-family: 'Open Sans', verdana, arial, sans-serif; font-size: 12px; fill: rgb(42, 63, 95); fill-opacity: 1; white-space: pre; opacity: 1;\" transform=\"translate(321.01,0)\">400</text></g><g class=\"xtick\"><text text-anchor=\"middle\" x=\"0\" y=\"463\" style=\"font-family: 'Open Sans', verdana, arial, sans-serif; font-size: 12px; fill: rgb(42, 63, 95); fill-opacity: 1; white-space: pre; opacity: 1;\" transform=\"translate(440.76,0)\">600</text></g><g class=\"xtick\"><text text-anchor=\"middle\" x=\"0\" y=\"463\" style=\"font-family: 'Open Sans', verdana, arial, sans-serif; font-size: 12px; fill: rgb(42, 63, 95); fill-opacity: 1; white-space: pre; opacity: 1;\" transform=\"translate(560.51,0)\">800</text></g><g class=\"xtick\"><text text-anchor=\"middle\" x=\"0\" y=\"463\" style=\"font-family: 'Open Sans', verdana, arial, sans-serif; font-size: 12px; fill: rgb(42, 63, 95); fill-opacity: 1; white-space: pre; opacity: 1;\" transform=\"translate(680.27,0)\">1000</text></g></g><g class=\"yaxislayer-above\"><g class=\"ytick\"><text text-anchor=\"end\" x=\"44\" y=\"4.199999999999999\" transform=\"translate(0,426.25)\" style=\"font-family: 'Open Sans', verdana, arial, sans-serif; font-size: 12px; fill: rgb(42, 63, 95); fill-opacity: 1; white-space: pre; opacity: 1;\">1</text></g><g class=\"ytick\"><text text-anchor=\"end\" x=\"44\" y=\"4.199999999999999\" style=\"font-family: 'Open Sans', verdana, arial, sans-serif; font-size: 12px; fill: rgb(42, 63, 95); fill-opacity: 1; white-space: pre; opacity: 1;\" transform=\"translate(0,338.13)\">1.5</text></g><g class=\"ytick\"><text text-anchor=\"end\" x=\"44\" y=\"4.199999999999999\" style=\"font-family: 'Open Sans', verdana, arial, sans-serif; font-size: 12px; fill: rgb(42, 63, 95); fill-opacity: 1; white-space: pre; opacity: 1;\" transform=\"translate(0,250)\">2</text></g><g class=\"ytick\"><text text-anchor=\"end\" x=\"44\" y=\"4.199999999999999\" style=\"font-family: 'Open Sans', verdana, arial, sans-serif; font-size: 12px; fill: rgb(42, 63, 95); fill-opacity: 1; white-space: pre; opacity: 1;\" transform=\"translate(0,161.88)\">2.5</text></g><g class=\"ytick\"><text text-anchor=\"end\" x=\"44\" y=\"4.199999999999999\" style=\"font-family: 'Open Sans', verdana, arial, sans-serif; font-size: 12px; fill: rgb(42, 63, 95); fill-opacity: 1; white-space: pre; opacity: 1;\" transform=\"translate(0,73.75)\">3</text></g></g><g class=\"overaxes-above\"/></g></g><g class=\"polarlayer\"/><g class=\"smithlayer\"/><g class=\"ternarylayer\"/><g class=\"geolayer\"/><g class=\"funnelarealayer\"/><g class=\"pielayer\"/><g class=\"iciclelayer\"/><g class=\"treemaplayer\"/><g class=\"sunburstlayer\"/><g class=\"glimages\"/><defs id=\"topdefs-8cd41e\"><g class=\"clips\"/></defs><g class=\"layer-above\"><g class=\"imagelayer\"/><g class=\"shapelayer\"/></g><g class=\"infolayer\"><g class=\"g-gtitle\"><text class=\"gtitle\" x=\"35\" y=\"25\" text-anchor=\"start\" dy=\"0em\" style=\"font-family: 'Open Sans', verdana, arial, sans-serif; font-size: 17px; fill: rgb(42, 63, 95); opacity: 1; font-weight: normal; white-space: pre;\">График количества заказов от количества посетителей с очисткой данных</text></g><g class=\"g-xtitle\"><text class=\"xtitle\" x=\"372.5\" y=\"490.8\" text-anchor=\"middle\" style=\"font-family: 'Open Sans', verdana, arial, sans-serif; font-size: 14px; fill: rgb(42, 63, 95); opacity: 1; font-weight: normal; white-space: pre;\">Пользователей</text></g><g class=\"g-ytitle\" transform=\"translate(14.4248046875,0)\"><text class=\"ytitle\" transform=\"rotate(-90,-0.42499999999999716,250)\" x=\"-0.42499999999999716\" y=\"250\" text-anchor=\"middle\" style=\"font-family: 'Open Sans', verdana, arial, sans-serif; font-size: 14px; fill: rgb(42, 63, 95); opacity: 1; font-weight: normal; white-space: pre;\">Заказов</text></g></g></svg>"
      ]
     },
     "metadata": {},
     "output_type": "display_data"
    }
   ],
   "source": [
    "fig = px.scatter(orders_count_fixed, \n",
    "                 x=orders_count_fixed.index,  \n",
    "                 y='orders_count',  \n",
    "                 color_discrete_sequence=[colors[2]],\n",
    "                 title='График количества заказов от количества посетителей с очисткой данных')\n",
    "\n",
    "fig.update_layout(xaxis_title='Пользователей', yaxis_title='Заказов',\n",
    "                  plot_bgcolor='AliceBlue',\n",
    "                  margin={\"r\": 0, \"t\": 50, \"l\": 0, \"b\": 50})\n",
    "fig.show()"
   ]
  },
  {
   "cell_type": "code",
   "execution_count": 54,
   "metadata": {},
   "outputs": [
    {
     "data": {
      "text/html": [
       "<div>\n",
       "<style scoped>\n",
       "    .dataframe tbody tr th:only-of-type {\n",
       "        vertical-align: middle;\n",
       "    }\n",
       "\n",
       "    .dataframe tbody tr th {\n",
       "        vertical-align: top;\n",
       "    }\n",
       "\n",
       "    .dataframe thead th {\n",
       "        text-align: right;\n",
       "    }\n",
       "</style>\n",
       "<table border=\"1\" class=\"dataframe\">\n",
       "  <thead>\n",
       "    <tr style=\"text-align: right;\">\n",
       "      <th></th>\n",
       "      <th>visitorid</th>\n",
       "      <th>orders_count</th>\n",
       "    </tr>\n",
       "  </thead>\n",
       "  <tbody>\n",
       "    <tr>\n",
       "      <th>55</th>\n",
       "      <td>249864742</td>\n",
       "      <td>3</td>\n",
       "    </tr>\n",
       "    <tr>\n",
       "      <th>138</th>\n",
       "      <td>611059232</td>\n",
       "      <td>3</td>\n",
       "    </tr>\n",
       "    <tr>\n",
       "      <th>478</th>\n",
       "      <td>2108163459</td>\n",
       "      <td>3</td>\n",
       "    </tr>\n",
       "    <tr>\n",
       "      <th>632</th>\n",
       "      <td>2742574263</td>\n",
       "      <td>3</td>\n",
       "    </tr>\n",
       "    <tr>\n",
       "      <th>687</th>\n",
       "      <td>2988190573</td>\n",
       "      <td>3</td>\n",
       "    </tr>\n",
       "    <tr>\n",
       "      <th>890</th>\n",
       "      <td>3908431265</td>\n",
       "      <td>3</td>\n",
       "    </tr>\n",
       "    <tr>\n",
       "      <th>908</th>\n",
       "      <td>3967698036</td>\n",
       "      <td>3</td>\n",
       "    </tr>\n",
       "  </tbody>\n",
       "</table>\n",
       "</div>"
      ],
      "text/plain": [
       "      visitorid  orders_count\n",
       "55    249864742             3\n",
       "138   611059232             3\n",
       "478  2108163459             3\n",
       "632  2742574263             3\n",
       "687  2988190573             3\n",
       "890  3908431265             3\n",
       "908  3967698036             3"
      ]
     },
     "metadata": {},
     "output_type": "display_data"
    },
    {
     "data": {
      "text/html": [
       "<div>\n",
       "<style scoped>\n",
       "    .dataframe tbody tr th:only-of-type {\n",
       "        vertical-align: middle;\n",
       "    }\n",
       "\n",
       "    .dataframe tbody tr th {\n",
       "        vertical-align: top;\n",
       "    }\n",
       "\n",
       "    .dataframe thead th {\n",
       "        text-align: right;\n",
       "    }\n",
       "</style>\n",
       "<table border=\"1\" class=\"dataframe\">\n",
       "  <thead>\n",
       "    <tr style=\"text-align: right;\">\n",
       "      <th></th>\n",
       "      <th>visitorid</th>\n",
       "      <th>orders_count</th>\n",
       "    </tr>\n",
       "  </thead>\n",
       "  <tbody>\n",
       "    <tr>\n",
       "      <th>0</th>\n",
       "      <td>5114589</td>\n",
       "      <td>1</td>\n",
       "    </tr>\n",
       "    <tr>\n",
       "      <th>1</th>\n",
       "      <td>6958315</td>\n",
       "      <td>1</td>\n",
       "    </tr>\n",
       "    <tr>\n",
       "      <th>2</th>\n",
       "      <td>11685486</td>\n",
       "      <td>1</td>\n",
       "    </tr>\n",
       "    <tr>\n",
       "      <th>3</th>\n",
       "      <td>39475350</td>\n",
       "      <td>1</td>\n",
       "    </tr>\n",
       "    <tr>\n",
       "      <th>4</th>\n",
       "      <td>47206413</td>\n",
       "      <td>1</td>\n",
       "    </tr>\n",
       "    <tr>\n",
       "      <th>...</th>\n",
       "      <td>...</td>\n",
       "      <td>...</td>\n",
       "    </tr>\n",
       "    <tr>\n",
       "      <th>968</th>\n",
       "      <td>4259830713</td>\n",
       "      <td>1</td>\n",
       "    </tr>\n",
       "    <tr>\n",
       "      <th>969</th>\n",
       "      <td>4278982564</td>\n",
       "      <td>1</td>\n",
       "    </tr>\n",
       "    <tr>\n",
       "      <th>970</th>\n",
       "      <td>4279090005</td>\n",
       "      <td>1</td>\n",
       "    </tr>\n",
       "    <tr>\n",
       "      <th>971</th>\n",
       "      <td>4281247801</td>\n",
       "      <td>1</td>\n",
       "    </tr>\n",
       "    <tr>\n",
       "      <th>972</th>\n",
       "      <td>4283872382</td>\n",
       "      <td>1</td>\n",
       "    </tr>\n",
       "  </tbody>\n",
       "</table>\n",
       "<p>937 rows × 2 columns</p>\n",
       "</div>"
      ],
      "text/plain": [
       "      visitorid  orders_count\n",
       "0       5114589             1\n",
       "1       6958315             1\n",
       "2      11685486             1\n",
       "3      39475350             1\n",
       "4      47206413             1\n",
       "..          ...           ...\n",
       "968  4259830713             1\n",
       "969  4278982564             1\n",
       "970  4279090005             1\n",
       "971  4281247801             1\n",
       "972  4283872382             1\n",
       "\n",
       "[937 rows x 2 columns]"
      ]
     },
     "metadata": {},
     "output_type": "display_data"
    }
   ],
   "source": [
    "display(orders_count_fixed[orders_count_fixed['orders_count']==orders_count_fixed['orders_count'].max()])\n",
    "display(orders_count_fixed[orders_count_fixed['orders_count']==orders_count_fixed['orders_count'].min()])"
   ]
  },
  {
   "cell_type": "markdown",
   "metadata": {},
   "source": [
    "Ранее из таблицы были убраны пользователи, которые попали в обе группы А/В теста, по оставшимся данным только ``7`` пользователей сделали максимальное количество заказов — ``3``. ``937`` пользователей из ``1031`` сделали по одному заказу."
   ]
  },
  {
   "cell_type": "markdown",
   "metadata": {},
   "source": [
    "<a id=\"num77\"></a>\n",
    "### Перцентили количества заказов на пользователя."
   ]
  },
  {
   "cell_type": "markdown",
   "metadata": {},
   "source": [
    "Посчитаем 95-й и 99-й перцентили количества заказов на пользователя."
   ]
  },
  {
   "cell_type": "code",
   "execution_count": 55,
   "metadata": {},
   "outputs": [
    {
     "data": {
      "text/plain": [
       "array([1., 1., 2.])"
      ]
     },
     "execution_count": 55,
     "metadata": {},
     "output_type": "execute_result"
    }
   ],
   "source": [
    "np.percentile(orders_count_fixed['orders_count'], [90, 95, 99])"
   ]
  },
  {
   "cell_type": "markdown",
   "metadata": {},
   "source": [
    "Для данных без пользователей, которые попали в обе группы A/B теста, __нормальными границами__ заказов считается ``1-2 заказа``. "
   ]
  },
  {
   "cell_type": "markdown",
   "metadata": {},
   "source": [
    "<a id=\"num78\"></a>\n",
    "### График стоимостей заказов"
   ]
  },
  {
   "cell_type": "markdown",
   "metadata": {},
   "source": [
    "Построим точечный график стоимостей заказов."
   ]
  },
  {
   "cell_type": "code",
   "execution_count": 56,
   "metadata": {},
   "outputs": [
    {
     "data": {
      "image/svg+xml": [
       "<svg class=\"main-svg\" xmlns=\"http://www.w3.org/2000/svg\" xmlns:xlink=\"http://www.w3.org/1999/xlink\" width=\"840\" height=\"600\" style=\"\" viewBox=\"0 0 700 500\"><rect x=\"0\" y=\"0\" width=\"700\" height=\"500\" style=\"fill: rgb(255, 255, 255); fill-opacity: 1;\"/><defs id=\"defs-f37f1a\"><g class=\"clips\"><clipPath id=\"clipf37f1axyplot\" class=\"plotclip\"><rect width=\"644\" height=\"400\"/></clipPath><clipPath class=\"axesclip\" id=\"clipf37f1ax\"><rect x=\"56\" y=\"0\" width=\"644\" height=\"500\"/></clipPath><clipPath class=\"axesclip\" id=\"clipf37f1ay\"><rect x=\"0\" y=\"50\" width=\"700\" height=\"400\"/></clipPath><clipPath class=\"axesclip\" id=\"clipf37f1axy\"><rect x=\"56\" y=\"50\" width=\"644\" height=\"400\"/></clipPath></g><g class=\"gradients\"/><g class=\"patterns\"/></defs><g class=\"bglayer\"><rect class=\"bg\" x=\"56\" y=\"50\" width=\"644\" height=\"400\" style=\"fill: rgb(240, 248, 255); fill-opacity: 1; stroke-width: 0;\"/></g><g class=\"layer-below\"><g class=\"imagelayer\"/><g class=\"shapelayer\"/></g><g class=\"cartesianlayer\"><g class=\"subplot xy\"><g class=\"layer-subplot\"><g class=\"shapelayer\"/><g class=\"imagelayer\"/></g><g class=\"gridlayer\"><g class=\"x\"><path class=\"xgrid crisp\" transform=\"translate(187.62,0)\" d=\"M0,50v400\" style=\"stroke: rgb(255, 255, 255); stroke-opacity: 1; stroke-width: 1px;\"/><path class=\"xgrid crisp\" transform=\"translate(283.28999999999996,0)\" d=\"M0,50v400\" style=\"stroke: rgb(255, 255, 255); stroke-opacity: 1; stroke-width: 1px;\"/><path class=\"xgrid crisp\" transform=\"translate(378.96,0)\" d=\"M0,50v400\" style=\"stroke: rgb(255, 255, 255); stroke-opacity: 1; stroke-width: 1px;\"/><path class=\"xgrid crisp\" transform=\"translate(474.63,0)\" d=\"M0,50v400\" style=\"stroke: rgb(255, 255, 255); stroke-opacity: 1; stroke-width: 1px;\"/><path class=\"xgrid crisp\" transform=\"translate(570.29,0)\" d=\"M0,50v400\" style=\"stroke: rgb(255, 255, 255); stroke-opacity: 1; stroke-width: 1px;\"/><path class=\"xgrid crisp\" transform=\"translate(665.96,0)\" d=\"M0,50v400\" style=\"stroke: rgb(255, 255, 255); stroke-opacity: 1; stroke-width: 1px;\"/></g><g class=\"y\"><path class=\"ygrid crisp\" transform=\"translate(0,371.8)\" d=\"M56,0h644\" style=\"stroke: rgb(255, 255, 255); stroke-opacity: 1; stroke-width: 1px;\"/><path class=\"ygrid crisp\" transform=\"translate(0,317.34)\" d=\"M56,0h644\" style=\"stroke: rgb(255, 255, 255); stroke-opacity: 1; stroke-width: 1px;\"/><path class=\"ygrid crisp\" transform=\"translate(0,262.87)\" d=\"M56,0h644\" style=\"stroke: rgb(255, 255, 255); stroke-opacity: 1; stroke-width: 1px;\"/><path class=\"ygrid crisp\" transform=\"translate(0,208.41)\" d=\"M56,0h644\" style=\"stroke: rgb(255, 255, 255); stroke-opacity: 1; stroke-width: 1px;\"/><path class=\"ygrid crisp\" transform=\"translate(0,153.95)\" d=\"M56,0h644\" style=\"stroke: rgb(255, 255, 255); stroke-opacity: 1; stroke-width: 1px;\"/><path class=\"ygrid crisp\" transform=\"translate(0,99.47999999999999)\" d=\"M56,0h644\" style=\"stroke: rgb(255, 255, 255); stroke-opacity: 1; stroke-width: 1px;\"/></g></g><g class=\"zerolinelayer\"><path class=\"xzl zl crisp\" transform=\"translate(91.95,0)\" d=\"M0,50v400\" style=\"stroke: rgb(255, 255, 255); stroke-opacity: 1; stroke-width: 2px;\"/><path class=\"yzl zl crisp\" transform=\"translate(0,426.26)\" d=\"M56,0h644\" style=\"stroke: rgb(255, 255, 255); stroke-opacity: 1; stroke-width: 2px;\"/></g><path class=\"xlines-below\"/><path class=\"ylines-below\"/><g class=\"overlines-below\"/><g class=\"xaxislayer-below\"/><g class=\"yaxislayer-below\"/><g class=\"overaxes-below\"/><g class=\"plot\" transform=\"translate(56,50)\" clip-path=\"url(#clipf37f1axyplot)\"/><g class=\"overplot\"/><path class=\"xlines-above crisp\" d=\"M0,0\" style=\"fill: none;\"/><path class=\"ylines-above crisp\" d=\"M0,0\" style=\"fill: none;\"/><g class=\"overlines-above\"/><g class=\"xaxislayer-above\"><g class=\"xtick\"><text text-anchor=\"middle\" x=\"0\" y=\"463\" transform=\"translate(91.95,0)\" style=\"font-family: 'Open Sans', verdana, arial, sans-serif; font-size: 12px; fill: rgb(42, 63, 95); fill-opacity: 1; white-space: pre; opacity: 1;\">0</text></g><g class=\"xtick\"><text text-anchor=\"middle\" x=\"0\" y=\"463\" style=\"font-family: 'Open Sans', verdana, arial, sans-serif; font-size: 12px; fill: rgb(42, 63, 95); fill-opacity: 1; white-space: pre; opacity: 1;\" transform=\"translate(187.62,0)\">200</text></g><g class=\"xtick\"><text text-anchor=\"middle\" x=\"0\" y=\"463\" style=\"font-family: 'Open Sans', verdana, arial, sans-serif; font-size: 12px; fill: rgb(42, 63, 95); fill-opacity: 1; white-space: pre; opacity: 1;\" transform=\"translate(283.28999999999996,0)\">400</text></g><g class=\"xtick\"><text text-anchor=\"middle\" x=\"0\" y=\"463\" style=\"font-family: 'Open Sans', verdana, arial, sans-serif; font-size: 12px; fill: rgb(42, 63, 95); fill-opacity: 1; white-space: pre; opacity: 1;\" transform=\"translate(378.96,0)\">600</text></g><g class=\"xtick\"><text text-anchor=\"middle\" x=\"0\" y=\"463\" style=\"font-family: 'Open Sans', verdana, arial, sans-serif; font-size: 12px; fill: rgb(42, 63, 95); fill-opacity: 1; white-space: pre; opacity: 1;\" transform=\"translate(474.63,0)\">800</text></g><g class=\"xtick\"><text text-anchor=\"middle\" x=\"0\" y=\"463\" style=\"font-family: 'Open Sans', verdana, arial, sans-serif; font-size: 12px; fill: rgb(42, 63, 95); fill-opacity: 1; white-space: pre; opacity: 1;\" transform=\"translate(570.29,0)\">1000</text></g><g class=\"xtick\"><text text-anchor=\"middle\" x=\"0\" y=\"463\" style=\"font-family: 'Open Sans', verdana, arial, sans-serif; font-size: 12px; fill: rgb(42, 63, 95); fill-opacity: 1; white-space: pre; opacity: 1;\" transform=\"translate(665.96,0)\">1200</text></g></g><g class=\"yaxislayer-above\"><g class=\"ytick\"><text text-anchor=\"end\" x=\"55\" y=\"4.199999999999999\" transform=\"translate(0,426.26)\" style=\"font-family: 'Open Sans', verdana, arial, sans-serif; font-size: 12px; fill: rgb(42, 63, 95); fill-opacity: 1; white-space: pre; opacity: 1;\">0</text></g><g class=\"ytick\"><text text-anchor=\"end\" x=\"55\" y=\"4.199999999999999\" style=\"font-family: 'Open Sans', verdana, arial, sans-serif; font-size: 12px; fill: rgb(42, 63, 95); fill-opacity: 1; white-space: pre; opacity: 1;\" transform=\"translate(0,371.8)\">0.2M</text></g><g class=\"ytick\"><text text-anchor=\"end\" x=\"55\" y=\"4.199999999999999\" style=\"font-family: 'Open Sans', verdana, arial, sans-serif; font-size: 12px; fill: rgb(42, 63, 95); fill-opacity: 1; white-space: pre; opacity: 1;\" transform=\"translate(0,317.34)\">0.4M</text></g><g class=\"ytick\"><text text-anchor=\"end\" x=\"55\" y=\"4.199999999999999\" style=\"font-family: 'Open Sans', verdana, arial, sans-serif; font-size: 12px; fill: rgb(42, 63, 95); fill-opacity: 1; white-space: pre; opacity: 1;\" transform=\"translate(0,262.87)\">0.6M</text></g><g class=\"ytick\"><text text-anchor=\"end\" x=\"55\" y=\"4.199999999999999\" style=\"font-family: 'Open Sans', verdana, arial, sans-serif; font-size: 12px; fill: rgb(42, 63, 95); fill-opacity: 1; white-space: pre; opacity: 1;\" transform=\"translate(0,208.41)\">0.8M</text></g><g class=\"ytick\"><text text-anchor=\"end\" x=\"55\" y=\"4.199999999999999\" style=\"font-family: 'Open Sans', verdana, arial, sans-serif; font-size: 12px; fill: rgb(42, 63, 95); fill-opacity: 1; white-space: pre; opacity: 1;\" transform=\"translate(0,153.95)\">1M</text></g><g class=\"ytick\"><text text-anchor=\"end\" x=\"55\" y=\"4.199999999999999\" style=\"font-family: 'Open Sans', verdana, arial, sans-serif; font-size: 12px; fill: rgb(42, 63, 95); fill-opacity: 1; white-space: pre; opacity: 1;\" transform=\"translate(0,99.47999999999999)\">1.2M</text></g></g><g class=\"overaxes-above\"/></g></g><g class=\"polarlayer\"/><g class=\"smithlayer\"/><g class=\"ternarylayer\"/><g class=\"geolayer\"/><g class=\"funnelarealayer\"/><g class=\"pielayer\"/><g class=\"iciclelayer\"/><g class=\"treemaplayer\"/><g class=\"sunburstlayer\"/><g class=\"glimages\"><image xmlns=\"http://www.w3.org/2000/svg\" xlink:href=\"data:image/png;base64,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\" preserveAspectRatio=\"none\" x=\"0\" y=\"0\" width=\"700px\" height=\"500px\"/><image xmlns=\"http://www.w3.org/2000/svg\" xlink:href=\"data:image/png;base64,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\" preserveAspectRatio=\"none\" x=\"0\" y=\"0\" width=\"700px\" height=\"500px\"/></g><defs id=\"topdefs-f37f1a\"><g class=\"clips\"/></defs><g class=\"layer-above\"><g class=\"imagelayer\"/><g class=\"shapelayer\"/></g><g class=\"infolayer\"><g class=\"g-gtitle\"><text class=\"gtitle\" x=\"35\" y=\"25\" text-anchor=\"start\" dy=\"0em\" style=\"font-family: 'Open Sans', verdana, arial, sans-serif; font-size: 17px; fill: rgb(42, 63, 95); opacity: 1; font-weight: normal; white-space: pre;\">График стоимости заказов от количества посетителей</text></g><g class=\"g-xtitle\"><text class=\"xtitle\" x=\"378\" y=\"490.8\" text-anchor=\"middle\" style=\"font-family: 'Open Sans', verdana, arial, sans-serif; font-size: 14px; fill: rgb(42, 63, 95); opacity: 1; font-weight: normal; white-space: pre;\">Пользователей</text></g><g class=\"g-ytitle\" transform=\"translate(13.5498046875,0)\"><text class=\"ytitle\" transform=\"rotate(-90,0.45000000000000284,250)\" x=\"0.45000000000000284\" y=\"250\" text-anchor=\"middle\" style=\"font-family: 'Open Sans', verdana, arial, sans-serif; font-size: 14px; fill: rgb(42, 63, 95); opacity: 1; font-weight: normal; white-space: pre;\">Стоимость</text></g></g></svg>"
      ]
     },
     "metadata": {},
     "output_type": "display_data"
    }
   ],
   "source": [
    "fig = px.scatter(orders_fixed, \n",
    "                 x=orders_fixed.index,  \n",
    "                 y='revenue',  \n",
    "                 color_discrete_sequence=[colors[2]],\n",
    "                 title='График стоимости заказов от количества посетителей')\n",
    "\n",
    "fig.update_layout(xaxis_title='Пользователей', yaxis_title='Стоимость',\n",
    "                  plot_bgcolor='AliceBlue',\n",
    "                  margin={\"r\": 0, \"t\": 50, \"l\": 0, \"b\": 50})\n",
    "fig.show()"
   ]
  },
  {
   "cell_type": "markdown",
   "metadata": {},
   "source": [
    "Для данных без пользователей, которые попали в обе группы A/B теста, в целом сумма не превышает ``150 тысяч``, в редких случаях сумма заказа сильно больше.  "
   ]
  },
  {
   "cell_type": "markdown",
   "metadata": {},
   "source": [
    "<a id=\"num79\"></a>\n",
    "### Перцентили стоимости заказов"
   ]
  },
  {
   "cell_type": "markdown",
   "metadata": {},
   "source": [
    "Посчитаем 95-й и 99-й перцентили стоимости заказов."
   ]
  },
  {
   "cell_type": "code",
   "execution_count": 57,
   "metadata": {},
   "outputs": [
    {
     "data": {
      "text/plain": [
       "array([18168. , 28000. , 58233.2])"
      ]
     },
     "execution_count": 57,
     "metadata": {},
     "output_type": "execute_result"
    }
   ],
   "source": [
    "np.percentile(orders['revenue'], [90, 95, 99])"
   ]
  },
  {
   "cell_type": "markdown",
   "metadata": {},
   "source": [
    "Для данных без пользователей, которые попали в обе группы A/B теста, нормальными границами стоимости заказов можно считать сумму ``от 18168 до 58233.2`` валютных единиц, все остальные значения можно считать выбросами. "
   ]
  },
  {
   "cell_type": "markdown",
   "metadata": {},
   "source": [
    "<a id=\"num710\"></a>\n",
    "### Cтатистическая значимость различий в среднем количестве заказов на посетителя между группами по «сырым» данным"
   ]
  },
  {
   "cell_type": "markdown",
   "metadata": {},
   "source": [
    "Посчитайтаем статистическую значимость различий в среднем количестве заказов на посетителя между группами по «сырым» данным."
   ]
  },
  {
   "cell_type": "markdown",
   "metadata": {},
   "source": [
    "Прежде чем приступим к анализу, определимся с нулевой и альтернативной гипотезами. "
   ]
  },
  {
   "cell_type": "markdown",
   "metadata": {},
   "source": [
    "- H0: статистически значимых различий в среднем количестве заказов на посетителя между группами А и В по «сырым» данным нет.\n",
    "- H1: статистически значимые различия в среднем количестве заказов на посетителя между группами А и В по «сырым» данным есть."
   ]
  },
  {
   "cell_type": "markdown",
   "metadata": {},
   "source": [
    "__Из данных исключены пользователи, которые попали в обе группы одновременно.__"
   ]
  },
  {
   "cell_type": "code",
   "execution_count": 58,
   "metadata": {},
   "outputs": [],
   "source": [
    "orders_a = (\n",
    "    orders_cumulative_data[orders_cumulative_data['group'] == 'A'][['date', 'transactionid', 'visitorid']]\n",
    "    .groupby('date', as_index=False)\n",
    "    .agg({'transactionid': pd.Series.nunique}))\n",
    "\n",
    "orders_a.columns = ['date', 'orders_a']\n",
    "\n",
    "orders_b = (\n",
    "    orders_cumulative_data[orders_cumulative_data['group'] == 'B'][['date', 'transactionid', 'visitorid']]\n",
    "    .groupby('date', as_index=False)\n",
    "    .agg({'transactionid': pd.Series.nunique})\n",
    ")\n",
    "orders_b.columns = ['date', 'orders_b']\n",
    "\n",
    "data_orders = (\n",
    "    orders_a.merge(\n",
    "        orders_b, left_on='date', right_on='date', how='left'\n",
    "    ))"
   ]
  },
  {
   "cell_type": "code",
   "execution_count": 59,
   "metadata": {},
   "outputs": [
    {
     "data": {
      "text/plain": [
       "'p-value: 0.04906'"
      ]
     },
     "metadata": {},
     "output_type": "display_data"
    },
    {
     "data": {
      "text/plain": [
       "'Относительный прирост: 0.171'"
      ]
     },
     "metadata": {},
     "output_type": "display_data"
    }
   ],
   "source": [
    "orders_a_list = pd.concat([orders_a['orders_a'], \n",
    "                           pd.Series(0, index=np.arange(data_orders['orders_a'].sum() - len(orders_a['orders_a'])), \n",
    "                                     name='orders',),],axis=0,)\n",
    "\n",
    "orders_b_list = pd.concat([orders_b['orders_b'], \n",
    "                           pd.Series(0, index=np.arange(data_orders['orders_b'].sum() - len(orders_b['orders_b'])),\n",
    "                                     name='orders',),],axis=0,)\n",
    "display('p-value: ' + \"{0:.5f}\".format(stats.mannwhitneyu(data_orders['orders_a'], data_orders['orders_b'])[1]))\n",
    "display('Относительный прирост: ' + \"{0:.3f}\".format(data_orders['orders_b'].mean() / data_orders['orders_a'].mean() - 1))"
   ]
  },
  {
   "cell_type": "markdown",
   "metadata": {},
   "source": [
    "P-value — ``4.9%``, это меньше обычного уровня значимости 0.05, что указывает на наличие статистически значимых различий между группами.\n",
    "\n",
    "Относительный прирост среднего количества заказов группы ``B`` к среднему количеству заказов группы ``A`` составляет ``17.1%``. Это значение говорит о том, что в группе ``B`` в среднем на ``17.1%`` больше заказов по сравнению с группой ``A``."
   ]
  },
  {
   "cell_type": "markdown",
   "metadata": {},
   "source": [
    "<a id=\"num711\"></a>\n",
    "### Cтатистическая значимость различий в среднем чеке заказа между группами по «сырым» данным"
   ]
  },
  {
   "cell_type": "markdown",
   "metadata": {},
   "source": [
    "Посчитаем статистическую значимость различий в среднем чеке заказа между группами по «сырым» данным."
   ]
  },
  {
   "cell_type": "markdown",
   "metadata": {},
   "source": [
    "Прежде чем приступим к анализу, определимся с нулевой и альтернативной гипотезами."
   ]
  },
  {
   "cell_type": "markdown",
   "metadata": {},
   "source": [
    "- H0: статистически значимых различий в среднем чеке заказа между группами по «сырым» данным А и В нет.\n",
    "- H1: статистически значимые различия в среднем чеке заказа между группами по «сырым» данным А и В есть."
   ]
  },
  {
   "cell_type": "markdown",
   "metadata": {},
   "source": [
    "__Из данных исключены пользователи, которые попали в обе группы одновременно.__"
   ]
  },
  {
   "cell_type": "code",
   "execution_count": 60,
   "metadata": {},
   "outputs": [],
   "source": [
    "revenue_a = (\n",
    "    orders_cumulative_data[orders_cumulative_data['group'] == 'A'][['date', 'revenue_per_user']]\n",
    "    .groupby('date', as_index=False)\n",
    "    .agg({'revenue_per_user': 'sum'}))\n",
    "\n",
    "revenue_a.columns = ['date', 'revenue_a']\n",
    "\n",
    "revenue_b = (\n",
    "    orders_cumulative_data[orders_cumulative_data['group'] == 'B'][['date', 'revenue_per_user']]\n",
    "    .groupby('date', as_index=False)\n",
    "    .agg({'revenue_per_user': 'sum'}))\n",
    "\n",
    "revenue_b.columns = ['date', 'revenue_b']\n",
    "\n",
    "data_rev = (\n",
    "    revenue_a.merge(\n",
    "        revenue_b, left_on='date', right_on='date', how='left'\n",
    "    ))"
   ]
  },
  {
   "cell_type": "code",
   "execution_count": 61,
   "metadata": {},
   "outputs": [
    {
     "data": {
      "text/plain": [
       "'p-value: 0.22599'"
      ]
     },
     "metadata": {},
     "output_type": "display_data"
    },
    {
     "data": {
      "text/plain": [
       "'Относительный прирост: 0.507'"
      ]
     },
     "metadata": {},
     "output_type": "display_data"
    }
   ],
   "source": [
    "revenue_a_list = pd.concat([revenue_a['revenue_a'], \n",
    "                           pd.Series(0, index=np.arange(data_rev['revenue_a'].sum() - len(revenue_a['revenue_a'])), \n",
    "                                     name='orders',),],axis=0,)\n",
    "\n",
    "revenue_b_list = pd.concat([revenue_b['revenue_b'], \n",
    "                           pd.Series(0, index=np.arange(data_rev['revenue_b'].sum() - len(revenue_b['revenue_b'])),\n",
    "                                     name='orders',),],axis=0,)\n",
    "\n",
    "display('p-value: ' + \"{0:.5f}\".format(stats.mannwhitneyu(data_rev['revenue_a'], data_rev['revenue_b'])[1]))\n",
    "display('Относительный прирост: ' +  \"{0:.3f}\".format(data_rev['revenue_b'].mean() / data_rev['revenue_a'].mean() - 1))"
   ]
  },
  {
   "cell_type": "markdown",
   "metadata": {},
   "source": [
    "P-value — ``22.6%``, это указывает, что нет статистически значимых различий между группами.\n",
    "\n",
    "Относительный прирост суммы среднего чека группы ``B`` к среднему чеку группы ``A`` составляет ``50.7%``. В группе ``В``, средний чек практически в два раза больше чем в группе ``А``. "
   ]
  },
  {
   "cell_type": "markdown",
   "metadata": {},
   "source": [
    "<a id=\"num712\"></a>\n",
    "### Cтатистическая значимость различий в среднем количестве заказов на посетителя между группами по «очищенным» данным"
   ]
  },
  {
   "cell_type": "markdown",
   "metadata": {},
   "source": [
    "Посчитаем статистическую значимость различий в среднем количестве заказов на посетителя между группами по «очищенным» данным."
   ]
  },
  {
   "cell_type": "markdown",
   "metadata": {},
   "source": [
    "Прежде чем приступим к анализу, определимся с нулевой и альтернативной гипотезами. Оставих их такими же, как и для анализа по сырым данным. "
   ]
  },
  {
   "cell_type": "markdown",
   "metadata": {},
   "source": [
    "- H0: статистически значимых различий в среднем количестве заказов на посетителя между группами А и В по «очищенным» данным нет.\n",
    "- H1: статистически значимые различия в среднем количестве заказов на посетителя между группами А и В по «очищенным» данным есть."
   ]
  },
  {
   "cell_type": "code",
   "execution_count": 62,
   "metadata": {},
   "outputs": [],
   "source": [
    "orders_cumulative_perc = (orders_cumulative_data\n",
    "                          .query('revenue_per_user < 58233.2 and visitorid in @orders_cumulative_data[\"visitorid\"]'))"
   ]
  },
  {
   "cell_type": "code",
   "execution_count": 63,
   "metadata": {},
   "outputs": [],
   "source": [
    "orders_a_clean = (    \n",
    "    orders_cumulative_perc[orders_cumulative_perc['group'] == 'A'][['date', 'transactionid', 'visitorid']]\n",
    "    .groupby('date', as_index=False)\n",
    "    .agg({'transactionid': pd.Series.nunique}))\n",
    "\n",
    "orders_a_clean.columns = ['date', 'orders_a']\n",
    "\n",
    "orders_b_clean = (\n",
    "    orders_cumulative_perc[orders_cumulative_perc['group'] == 'B'][['date', 'transactionid', 'visitorid']]\n",
    "    .groupby('date', as_index=False)\n",
    "    .agg({'transactionid': pd.Series.nunique})\n",
    ")\n",
    "orders_b_clean.columns = ['date', 'orders_b']\n",
    "\n",
    "data_orders_clean = (\n",
    "    orders_a_clean.merge(\n",
    "        orders_b_clean, left_on='date', right_on='date', how='left'\n",
    "    ))"
   ]
  },
  {
   "cell_type": "code",
   "execution_count": 64,
   "metadata": {},
   "outputs": [
    {
     "data": {
      "text/plain": [
       "'p-value: 0.04364'"
      ]
     },
     "metadata": {},
     "output_type": "display_data"
    },
    {
     "data": {
      "text/plain": [
       "'Относительный прирост: 0.175'"
      ]
     },
     "metadata": {},
     "output_type": "display_data"
    }
   ],
   "source": [
    "display('p-value: ' +  \"{0:.5f}\".format(stats.mannwhitneyu(data_orders_clean['orders_a'], data_orders_clean['orders_b'])[1]))\n",
    "display('Относительный прирост: ' +  \"{0:.3f}\".format(data_orders_clean['orders_b'].mean() / data_orders_clean['orders_a'].mean() - 1))"
   ]
  },
  {
   "cell_type": "markdown",
   "metadata": {},
   "source": [
    "С небольшими различиями результат такой же как и в «сырых» данных. \n",
    "\n",
    "P-value — меньше уровня значимости 0.05 — ``4.3%``, это указывает на наличие статистически значимых различий между группами.\n",
    "\n",
    "Относительный прирост среднего количества заказов группы ``B`` к среднему количеству заказов группы ``A`` составляет ``17.5%``. Это значение говорит о том, что в группе ``B`` в среднем на ``17.5%`` больше заказов по сравнению с группой ``A``."
   ]
  },
  {
   "cell_type": "markdown",
   "metadata": {},
   "source": [
    "<a id=\"num713\"></a>\n",
    "### Cтатистическую значимость различий в среднем чеке заказа между группами по «очищенным» данным"
   ]
  },
  {
   "cell_type": "markdown",
   "metadata": {},
   "source": [
    "Посчитаем статистическую значимость различий в среднем чеке заказа между группами по «очищенным» данным. "
   ]
  },
  {
   "cell_type": "markdown",
   "metadata": {},
   "source": [
    "Прежде чем приступим к анализу, определимся с нулевой и альтернативной гипотезами. Оставих их такими же, как и для анализа по сырым данным. "
   ]
  },
  {
   "cell_type": "markdown",
   "metadata": {},
   "source": [
    "- H0: статистически значимых различий в среднем чеке заказа между группами по «очищенным» данным А и В нет.\n",
    "- H1: статистически значимые различия в среднем чеке заказа между группами по «очищенным» данным А и В есть."
   ]
  },
  {
   "cell_type": "code",
   "execution_count": 65,
   "metadata": {},
   "outputs": [],
   "source": [
    "revenue_a_clean = (\n",
    "    orders_cumulative_perc[orders_cumulative_perc['group'] == 'A'][['date', 'revenue_per_user']]\n",
    "    .groupby('date', as_index=False)\n",
    "    .agg({'revenue_per_user': 'sum'}))\n",
    "\n",
    "revenue_a_clean.columns = ['date', 'revenue_a']\n",
    "\n",
    "revenue_b_clean = (\n",
    "    orders_cumulative_perc[orders_cumulative_perc['group'] == 'B'][['date', 'revenue_per_user']]\n",
    "    .groupby('date', as_index=False)\n",
    "    .agg({'revenue_per_user': 'sum'}))\n",
    "\n",
    "revenue_b_clean.columns = ['date', 'revenue_b']\n",
    "\n",
    "data_rev_clean = (\n",
    "    revenue_a_clean.merge(\n",
    "        revenue_b_clean, left_on='date', right_on='date', how='left'\n",
    "    ))"
   ]
  },
  {
   "cell_type": "code",
   "execution_count": 66,
   "metadata": {},
   "outputs": [
    {
     "data": {
      "text/plain": [
       "'p-value: 0.22064'"
      ]
     },
     "metadata": {},
     "output_type": "display_data"
    },
    {
     "data": {
      "text/plain": [
       "'Относительный прирост: 0.138'"
      ]
     },
     "metadata": {},
     "output_type": "display_data"
    }
   ],
   "source": [
    "revenue_a_list_clean = pd.concat([revenue_a_clean['revenue_a'], \n",
    "                           pd.Series(0, index=np.arange(data_rev_clean['revenue_a'].sum() - len(revenue_a_clean['revenue_a'])), \n",
    "                                     name='orders',),],axis=0,)\n",
    "\n",
    "revenue_b_list_clean = pd.concat([revenue_b['revenue_b'], \n",
    "                           pd.Series(0, index=np.arange(data_rev_clean['revenue_b'].sum() - len(revenue_b_clean['revenue_b'])),\n",
    "                                     name='orders',),],axis=0,)\n",
    "\n",
    "display('p-value: ' +  \"{0:.5f}\".format(stats.mannwhitneyu(data_rev_clean['revenue_a'], data_rev_clean['revenue_b'])[1]))\n",
    "display('Относительный прирост: ' +  \"{0:.3f}\".format(data_rev_clean['revenue_b'].mean() / data_rev_clean['revenue_a'].mean() - 1))"
   ]
  },
  {
   "cell_type": "markdown",
   "metadata": {},
   "source": [
    "P-value составляет ``0.22064``, что выше обычного уровня значимости 0.05. Это говорит о том, что нет статистически значимых различий в выручке между группами.\n",
    "\n",
    "Относительный прирост средней выручки группы ``B`` к средней выручке группы ``A`` составляет ``13.8%``."
   ]
  },
  {
   "cell_type": "markdown",
   "metadata": {},
   "source": [
    "<a id=\"num8\"></a>\n",
    "## Выводы"
   ]
  },
  {
   "cell_type": "markdown",
   "metadata": {},
   "source": [
    "1. **Обзор данных:** \n",
    "\n",
    "    - В предоставленных данных были три таблицы: ``hypothesis`` с информацией о выдвинутых гипотезах, ``orders`` с данными о финансовых операциях в магазине и ``visitors`` с данными о посещении сайта пользователями, за каждый день представлены данные отдельно по каждой группе теста.\n",
    "    - В таблице ``hypothesis`` содержалась информация о ``9`` гипотезах, включая их значения: Reach, Impact, Confidence и Effort. Данные были в полном порядке, пропусков нет, данные не дублировались. \n",
    "    - В таблице ``orders`` представлена информация о ``1197 `` заказах, включая идентификаторы покупателей, идентификаторы транзакций, дату и сумму каждой покупки. Тип данных для столбца ``date`` был исправлен на дату. Из данных были удалены пользователи, которые попали в обе группы теста одновременно. \n",
    "    - В таблице ``visitors`` содержалась информация о ``62 ``датах, в которые пользователи заходили на сайт, количестве пользователей в этот день, а также о группе теста. В данных пропусков не было, данные не дублировались. "
   ]
  },
  {
   "cell_type": "markdown",
   "metadata": {},
   "source": [
    "2. **Анализ данных:** \n",
    "\n",
    "    Таблица ``hypothesis``. \n",
    "\n",
    "    - Количество гипотез представлено девятью гипотезами, каждая из гипотез актуальна и в перспективе может привести к увеличению прибыли, либо уровня взаимодействия с платформой. \n",
    "    - Коэффициенты у каждого значения разные, что в итоге позволяет выбрать самые перспективные гипотезы и советовать анализировать их в первую очередь. \n",
    "    \n",
    "    Таблица ``orders``. \n",
    "    - Количество пользователей в тесте представлено не в равных частях. В идеальных условиях теста количество пользователей в группах должно быть одинаковым. \n",
    "    - В группе ``А`` — ``468`` пользователей. \n",
    "    - В группе ``В`` — ``548`` пользователей.\n",
    "    - Разница между группами порядка ``14.6%``. Во избежание влияния на результат, группы были оставлены в том же количестве. \n",
    "    \n",
    "    Таблица ``visitors``. \n",
    "    - Таблица отображает данные со счетчика посещений, что дает нам общее представление о посещаемости сайта в целом и отдельно по группам теста. "
   ]
  },
  {
   "cell_type": "markdown",
   "metadata": {},
   "source": [
    "3. **Проверка гипотез:**\n",
    "\n",
    "    - При использовании фреймворка ``ICE`` топ-3 гипотезы определены преимущественно по высоким значениям ``impact и confidence``, с умеренными усилиями для проверки.\n",
    "    - Гипотезы ``8 и 0`` выделяются на фоне других при анализе ``ICE``, обладая высоким влиянием и уверенностью.\n",
    "    - Фреймворк ``RICE`` учитывает дополнительный параметр охвата (reach), что влияет на пересмотр приоритетов гипотез.\n",
    "    - Гипотеза ``8``, хотя имеет высокие значения ``impact и confidence``, теряет приоритет при использовании ``RICE`` из-за низкого охвата.\n",
    "    - Пересечение гипотез в обоих фреймворках - гипотезы ``0 и 7``.\n",
    "    - Введение дополнительного коэффициента охвата в ``RICE`` может измениться приоритет гипотез в зависимости от охвата пользователей."
   ]
  },
  {
   "cell_type": "markdown",
   "metadata": {},
   "source": [
    "4. **Анализ А/В теста:**\n",
    "\n",
    "    __Cтатистическая значимость различий в среднем количестве заказов между группами А и В.__\n",
    "\n",
    "    Сырые данные: \n",
    "- P-value равно ``4.9%``, что меньше обычного уровня значимости 0.05. Это позволяет __отвергнуть нулевую гипотезу__ ``H0``, указывая на наличие статистически значимых различий в среднем количестве заказов между группами А и В по «сырым» данным.\n",
    "Относительный прирост среднего количества заказов в группе B по сравнению с группой A составляет ``17.1%``.\n",
    "\n",
    "    Очищенные данные:\n",
    "- P-value меньше уровня значимости — ``4.3%``, что также позволяет __отвергнуть нулевую гипотезу__ ``H0`` и указывает на наличие статистически значимых различий между группами по «очищенным» данным.\n",
    "Относительный прирост среднего количества заказов в группе B по сравнению с группой A составляет ``17.5%``.\n",
    "\n",
    "    Вывод:\n",
    "- Исходя из анализа, можно сказать, что статистически значимые различия в среднем количестве заказов между группами А и В обнаружены как по «сырым», так и по «очищенным» данным. Кроме того, относительный прирост количества заказов в группе B по сравнению с группой A примерно одинаков как для «сырых», так и для «очищенных» данных.\n",
    "\n",
    "    __Cтатистическая значимость различий в среднем чеке заказа между группами А и В.__\n",
    "\n",
    "    Сырые данные:\n",
    "- P-value равно 22.6%, что превышает уровень значимости 0.05. Это означает, что __нет статистически значимых различий__ в среднем чеке между группами по «сырым» данным.\n",
    "Относительный прирост суммы среднего чека группы B к среднему чеку группы A составляет ``50.7%``. Это высокий процент и может указывать на потенциальные различия в поведении клиентов между группами.\n",
    "\n",
    "    Очищенные данные:\n",
    "- P-value для «очищенных» данных равно 0.22064, что также превышает уровень значимости 0.05. Это говорит о том, что после удаления выбросов __нет статистически значимых различий__ в среднем чеке между группами.\n",
    "Относительный прирост средней выручки группы B к средней выручке группы A уменьшился до ``13.8%``. Это также меньше, чем при анализе «сырых» данных.\n",
    "\n",
    "    Вывод:\n",
    "- На основе текущих данных __нет статистически значимых различий__ в среднем чеке между группами ни по «сырым», ни по «очищенным» данным. Однако, стоит отметить, что в случае «сырых» данных относительный прирост среднего чека в группе B был значительно выше — 50.7%, чем после очистки данных — 13.8%. Вероятнее всего это влияние выбросов на результат. "
   ]
  },
  {
   "cell_type": "markdown",
   "metadata": {},
   "source": [
    "<a id=\"num9\"></a>\n",
    "## Рекомендации"
   ]
  },
  {
   "cell_type": "markdown",
   "metadata": {},
   "source": [
    "__Гипотезы.__\n",
    "\n",
    "- Стоит обратить внимание на гипотезы:  0 — __«Добавить два новых канала привлечения трафика, что позволит привлекать на 30% больше пользователей»__ и 7 — __«Добавить форму подписки на все основные страницы, чтобы собрать базу клиентов для email-рассылок»__.\n",
    "Это две перспективные гипотезы, которые оказывались в топе при использовании и фреймворка ICE, и фреймворка RICE. "
   ]
  },
  {
   "cell_type": "markdown",
   "metadata": {},
   "source": [
    "__Рекомендация для теста о среднем количестве заказов между группами А и В:__\n",
    "\n",
    "- На основе представленных результатов можно рекомендовать продолжить эксперимент и дополнительно изучить факторы, которые могли бы объяснить наблюдаемые различия между группами. "
   ]
  },
  {
   "cell_type": "markdown",
   "metadata": {},
   "source": [
    "__Рекомендация для теста о среднем чеке заказа между группами А и В:__\n",
    "\n",
    "- Продолжение эксперимента может быть оправданным для дополнительного анализа и подтверждения результатов."
   ]
  },
  {
   "cell_type": "markdown",
   "metadata": {},
   "source": [
    "__Временные рамки:__\n",
    "\n",
    "- Учитывая, что некоторые изменения по куммулятивным значениям показывали колебания, которые видны в рамках всего периода наблюдения, советую текущий эксперимента продлить еще на один месяц. "
   ]
  }
 ],
 "metadata": {
  "ExecuteTimeLog": [
   {
    "duration": 969,
    "start_time": "2024-09-14T06:11:43.372Z"
   },
   {
    "duration": 241,
    "start_time": "2024-09-14T06:12:01.369Z"
   },
   {
    "duration": 18,
    "start_time": "2024-09-14T06:12:36.753Z"
   },
   {
    "duration": 5,
    "start_time": "2024-09-14T06:57:28.950Z"
   },
   {
    "duration": 13,
    "start_time": "2024-09-14T06:57:56.089Z"
   },
   {
    "duration": 5,
    "start_time": "2024-09-14T06:58:17.091Z"
   },
   {
    "duration": 3,
    "start_time": "2024-09-14T06:58:37.141Z"
   },
   {
    "duration": 3,
    "start_time": "2024-09-14T06:58:55.650Z"
   },
   {
    "duration": 8,
    "start_time": "2024-09-14T06:59:19.598Z"
   },
   {
    "duration": 514,
    "start_time": "2024-09-14T06:59:58.117Z"
   },
   {
    "duration": 13,
    "start_time": "2024-09-14T07:00:19.288Z"
   },
   {
    "duration": 47,
    "start_time": "2024-09-14T07:01:57.442Z"
   },
   {
    "duration": 35,
    "start_time": "2024-09-14T07:02:25.861Z"
   },
   {
    "duration": 6,
    "start_time": "2024-09-14T07:03:53.702Z"
   },
   {
    "duration": 6,
    "start_time": "2024-09-14T07:04:06.488Z"
   },
   {
    "duration": 5,
    "start_time": "2024-09-14T07:04:15.577Z"
   },
   {
    "duration": 9,
    "start_time": "2024-09-14T07:04:53.526Z"
   },
   {
    "duration": 9,
    "start_time": "2024-09-14T07:05:24.989Z"
   },
   {
    "duration": 8,
    "start_time": "2024-09-14T07:05:52.182Z"
   },
   {
    "duration": 7,
    "start_time": "2024-09-14T07:06:44.559Z"
   },
   {
    "duration": 9,
    "start_time": "2024-09-14T07:07:31.959Z"
   },
   {
    "duration": 414,
    "start_time": "2024-09-14T07:07:41.618Z"
   },
   {
    "duration": 14,
    "start_time": "2024-09-14T07:08:29.358Z"
   },
   {
    "duration": 8,
    "start_time": "2024-09-14T07:08:55.179Z"
   },
   {
    "duration": 6,
    "start_time": "2024-09-14T07:09:20.681Z"
   },
   {
    "duration": 9,
    "start_time": "2024-09-14T07:09:40.619Z"
   },
   {
    "duration": 6,
    "start_time": "2024-09-14T07:09:57.537Z"
   },
   {
    "duration": 9,
    "start_time": "2024-09-14T07:10:36.031Z"
   },
   {
    "duration": 5,
    "start_time": "2024-09-14T07:10:46.375Z"
   },
   {
    "duration": 3,
    "start_time": "2024-09-14T07:11:40.650Z"
   },
   {
    "duration": 4,
    "start_time": "2024-09-14T07:11:52.241Z"
   },
   {
    "duration": 4,
    "start_time": "2024-09-14T07:12:50.869Z"
   },
   {
    "duration": 18,
    "start_time": "2024-09-14T07:13:23.751Z"
   },
   {
    "duration": 275,
    "start_time": "2024-09-14T07:14:29.802Z"
   },
   {
    "duration": 12,
    "start_time": "2024-09-14T07:14:38.741Z"
   },
   {
    "duration": 4,
    "start_time": "2024-09-14T07:15:29.234Z"
   },
   {
    "duration": 4,
    "start_time": "2024-09-14T07:15:35.959Z"
   },
   {
    "duration": 10,
    "start_time": "2024-09-14T07:15:49.051Z"
   },
   {
    "duration": 10,
    "start_time": "2024-09-14T07:16:40.334Z"
   },
   {
    "duration": 7,
    "start_time": "2024-09-14T07:29:48.452Z"
   },
   {
    "duration": 17,
    "start_time": "2024-09-14T07:29:57.012Z"
   },
   {
    "duration": 17,
    "start_time": "2024-09-14T07:31:14.020Z"
   },
   {
    "duration": 6,
    "start_time": "2024-09-14T07:31:50.502Z"
   },
   {
    "duration": 17,
    "start_time": "2024-09-14T07:31:58.452Z"
   },
   {
    "duration": 11,
    "start_time": "2024-09-14T07:32:07.661Z"
   },
   {
    "duration": 13,
    "start_time": "2024-09-14T07:32:15.112Z"
   },
   {
    "duration": 12,
    "start_time": "2024-09-14T07:32:22.972Z"
   },
   {
    "duration": 15,
    "start_time": "2024-09-14T07:34:27.902Z"
   },
   {
    "duration": 9,
    "start_time": "2024-09-14T07:35:02.761Z"
   },
   {
    "duration": 14,
    "start_time": "2024-09-14T07:35:10.744Z"
   },
   {
    "duration": 9,
    "start_time": "2024-09-14T07:36:17.164Z"
   },
   {
    "duration": 6,
    "start_time": "2024-09-14T07:36:26.134Z"
   },
   {
    "duration": 144,
    "start_time": "2024-09-14T07:36:37.098Z"
   },
   {
    "duration": 13,
    "start_time": "2024-09-14T07:36:48.538Z"
   },
   {
    "duration": 57,
    "start_time": "2024-09-14T07:37:40.545Z"
   },
   {
    "duration": 5,
    "start_time": "2024-09-14T07:37:54.510Z"
   },
   {
    "duration": 51,
    "start_time": "2024-09-14T07:38:35.322Z"
   },
   {
    "duration": 65,
    "start_time": "2024-09-14T07:38:46.302Z"
   },
   {
    "duration": 5,
    "start_time": "2024-09-14T07:39:14.775Z"
   },
   {
    "duration": 23,
    "start_time": "2024-09-14T07:40:24.381Z"
   },
   {
    "duration": 24,
    "start_time": "2024-09-14T07:40:48.732Z"
   },
   {
    "duration": 10,
    "start_time": "2024-09-14T07:40:50.434Z"
   },
   {
    "duration": 15,
    "start_time": "2024-09-14T07:42:21.545Z"
   },
   {
    "duration": 128,
    "start_time": "2024-09-14T07:42:31.545Z"
   },
   {
    "duration": 167,
    "start_time": "2024-09-14T07:43:39.323Z"
   },
   {
    "duration": 24,
    "start_time": "2024-09-14T07:43:51.504Z"
   },
   {
    "duration": 9,
    "start_time": "2024-09-14T07:44:02.886Z"
   },
   {
    "duration": 16,
    "start_time": "2024-09-14T07:44:55.023Z"
   },
   {
    "duration": 98,
    "start_time": "2024-09-14T07:45:04.013Z"
   },
   {
    "duration": 71,
    "start_time": "2024-09-14T07:45:12.645Z"
   },
   {
    "duration": 913,
    "start_time": "2024-09-14T13:46:25.525Z"
   },
   {
    "duration": 222,
    "start_time": "2024-09-14T13:46:26.441Z"
   },
   {
    "duration": 7,
    "start_time": "2024-09-14T13:46:26.665Z"
   },
   {
    "duration": 4,
    "start_time": "2024-09-14T13:46:26.674Z"
   },
   {
    "duration": 4,
    "start_time": "2024-09-14T13:46:26.681Z"
   },
   {
    "duration": 3,
    "start_time": "2024-09-14T13:46:26.686Z"
   },
   {
    "duration": 6,
    "start_time": "2024-09-14T13:46:26.691Z"
   },
   {
    "duration": 6,
    "start_time": "2024-09-14T13:46:26.699Z"
   },
   {
    "duration": 545,
    "start_time": "2024-09-14T13:46:26.707Z"
   },
   {
    "duration": 19,
    "start_time": "2024-09-14T13:46:27.254Z"
   },
   {
    "duration": 44,
    "start_time": "2024-09-14T13:46:27.276Z"
   },
   {
    "duration": 72,
    "start_time": "2024-09-14T13:46:27.322Z"
   },
   {
    "duration": 5,
    "start_time": "2024-09-14T13:46:27.396Z"
   },
   {
    "duration": 5,
    "start_time": "2024-09-14T13:46:27.404Z"
   },
   {
    "duration": 6,
    "start_time": "2024-09-14T13:46:27.410Z"
   },
   {
    "duration": 12,
    "start_time": "2024-09-14T13:46:27.417Z"
   },
   {
    "duration": 47,
    "start_time": "2024-09-14T13:46:27.431Z"
   },
   {
    "duration": 7,
    "start_time": "2024-09-14T13:46:27.480Z"
   },
   {
    "duration": 8,
    "start_time": "2024-09-14T13:46:27.489Z"
   },
   {
    "duration": 8,
    "start_time": "2024-09-14T13:46:27.498Z"
   },
   {
    "duration": 542,
    "start_time": "2024-09-14T13:46:27.507Z"
   },
   {
    "duration": 23,
    "start_time": "2024-09-14T13:46:28.051Z"
   },
   {
    "duration": 9,
    "start_time": "2024-09-14T13:46:28.076Z"
   },
   {
    "duration": 5,
    "start_time": "2024-09-14T13:46:28.087Z"
   },
   {
    "duration": 11,
    "start_time": "2024-09-14T13:46:28.094Z"
   },
   {
    "duration": 70,
    "start_time": "2024-09-14T13:46:28.106Z"
   },
   {
    "duration": 15,
    "start_time": "2024-09-14T13:46:28.184Z"
   },
   {
    "duration": 12,
    "start_time": "2024-09-14T13:46:28.201Z"
   },
   {
    "duration": 4,
    "start_time": "2024-09-14T13:46:28.215Z"
   },
   {
    "duration": 53,
    "start_time": "2024-09-14T13:46:28.220Z"
   },
   {
    "duration": 8,
    "start_time": "2024-09-14T13:46:28.275Z"
   },
   {
    "duration": 19,
    "start_time": "2024-09-14T13:46:28.285Z"
   },
   {
    "duration": 321,
    "start_time": "2024-09-14T13:46:28.306Z"
   },
   {
    "duration": 15,
    "start_time": "2024-09-14T13:46:28.629Z"
   },
   {
    "duration": 5,
    "start_time": "2024-09-14T13:46:28.646Z"
   },
   {
    "duration": 12,
    "start_time": "2024-09-14T13:46:28.667Z"
   },
   {
    "duration": 13,
    "start_time": "2024-09-14T13:46:28.681Z"
   },
   {
    "duration": 12,
    "start_time": "2024-09-14T13:46:28.696Z"
   },
   {
    "duration": 8,
    "start_time": "2024-09-14T13:46:28.710Z"
   },
   {
    "duration": 17,
    "start_time": "2024-09-14T13:46:28.719Z"
   },
   {
    "duration": 48,
    "start_time": "2024-09-14T13:46:28.741Z"
   },
   {
    "duration": 11,
    "start_time": "2024-09-14T13:46:28.790Z"
   },
   {
    "duration": 18,
    "start_time": "2024-09-14T13:46:28.803Z"
   },
   {
    "duration": 11,
    "start_time": "2024-09-14T13:46:28.822Z"
   },
   {
    "duration": 33,
    "start_time": "2024-09-14T13:46:28.834Z"
   },
   {
    "duration": 14,
    "start_time": "2024-09-14T13:46:28.868Z"
   },
   {
    "duration": 14,
    "start_time": "2024-09-14T13:46:28.883Z"
   },
   {
    "duration": 10,
    "start_time": "2024-09-14T13:46:28.899Z"
   },
   {
    "duration": 17,
    "start_time": "2024-09-14T13:46:28.910Z"
   },
   {
    "duration": 47,
    "start_time": "2024-09-14T13:46:28.929Z"
   },
   {
    "duration": 8,
    "start_time": "2024-09-14T13:46:28.977Z"
   },
   {
    "duration": 137,
    "start_time": "2024-09-14T13:46:28.986Z"
   },
   {
    "duration": 14,
    "start_time": "2024-09-14T13:46:29.125Z"
   },
   {
    "duration": 38,
    "start_time": "2024-09-14T13:46:29.141Z"
   },
   {
    "duration": 129,
    "start_time": "2024-09-14T13:46:29.180Z"
   },
   {
    "duration": 5,
    "start_time": "2024-09-14T13:46:29.310Z"
   },
   {
    "duration": 33,
    "start_time": "2024-09-14T13:46:29.317Z"
   },
   {
    "duration": 25,
    "start_time": "2024-09-14T13:46:29.352Z"
   },
   {
    "duration": 16,
    "start_time": "2024-09-14T13:46:29.379Z"
   },
   {
    "duration": 151,
    "start_time": "2024-09-14T13:46:29.397Z"
   },
   {
    "duration": 178,
    "start_time": "2024-09-14T13:46:29.549Z"
   },
   {
    "duration": 25,
    "start_time": "2024-09-14T13:46:29.729Z"
   },
   {
    "duration": 26,
    "start_time": "2024-09-14T13:46:29.756Z"
   },
   {
    "duration": 19,
    "start_time": "2024-09-14T13:46:29.784Z"
   },
   {
    "duration": 109,
    "start_time": "2024-09-14T13:46:29.805Z"
   },
   {
    "duration": 1049,
    "start_time": "2024-09-14T18:54:32.129Z"
   },
   {
    "duration": 258,
    "start_time": "2024-09-14T18:54:33.180Z"
   },
   {
    "duration": 5,
    "start_time": "2024-09-14T18:54:33.440Z"
   },
   {
    "duration": 4,
    "start_time": "2024-09-14T18:54:33.447Z"
   },
   {
    "duration": 5,
    "start_time": "2024-09-14T18:54:33.452Z"
   },
   {
    "duration": 3,
    "start_time": "2024-09-14T18:54:33.459Z"
   },
   {
    "duration": 9,
    "start_time": "2024-09-14T18:54:33.463Z"
   },
   {
    "duration": 7,
    "start_time": "2024-09-14T18:54:33.474Z"
   },
   {
    "duration": 591,
    "start_time": "2024-09-14T18:54:33.482Z"
   },
   {
    "duration": 9,
    "start_time": "2024-09-14T18:54:34.076Z"
   },
   {
    "duration": 74,
    "start_time": "2024-09-14T18:54:34.087Z"
   },
   {
    "duration": 38,
    "start_time": "2024-09-14T18:54:34.163Z"
   },
   {
    "duration": 6,
    "start_time": "2024-09-14T18:54:34.203Z"
   },
   {
    "duration": 43,
    "start_time": "2024-09-14T18:54:34.210Z"
   },
   {
    "duration": 6,
    "start_time": "2024-09-14T18:54:34.254Z"
   },
   {
    "duration": 10,
    "start_time": "2024-09-14T18:54:34.262Z"
   },
   {
    "duration": 9,
    "start_time": "2024-09-14T18:54:34.274Z"
   },
   {
    "duration": 7,
    "start_time": "2024-09-14T18:54:34.284Z"
   },
   {
    "duration": 30,
    "start_time": "2024-09-14T18:54:34.292Z"
   },
   {
    "duration": 35,
    "start_time": "2024-09-14T18:54:34.323Z"
   },
   {
    "duration": 408,
    "start_time": "2024-09-14T18:54:34.360Z"
   },
   {
    "duration": 15,
    "start_time": "2024-09-14T18:54:34.770Z"
   },
   {
    "duration": 67,
    "start_time": "2024-09-14T18:54:34.786Z"
   },
   {
    "duration": 6,
    "start_time": "2024-09-14T18:54:34.854Z"
   },
   {
    "duration": 11,
    "start_time": "2024-09-14T18:54:34.861Z"
   },
   {
    "duration": 7,
    "start_time": "2024-09-14T18:54:34.873Z"
   },
   {
    "duration": 14,
    "start_time": "2024-09-14T18:54:34.881Z"
   },
   {
    "duration": 53,
    "start_time": "2024-09-14T18:54:34.900Z"
   },
   {
    "duration": 3,
    "start_time": "2024-09-14T18:54:34.955Z"
   },
   {
    "duration": 5,
    "start_time": "2024-09-14T18:54:34.959Z"
   },
   {
    "duration": 4,
    "start_time": "2024-09-14T18:54:34.966Z"
   },
   {
    "duration": 19,
    "start_time": "2024-09-14T18:54:34.971Z"
   },
   {
    "duration": 309,
    "start_time": "2024-09-14T18:54:34.992Z"
   },
   {
    "duration": 11,
    "start_time": "2024-09-14T18:54:35.303Z"
   },
   {
    "duration": 4,
    "start_time": "2024-09-14T18:54:35.316Z"
   },
   {
    "duration": 16,
    "start_time": "2024-09-14T18:54:35.321Z"
   },
   {
    "duration": 23,
    "start_time": "2024-09-14T18:54:35.338Z"
   },
   {
    "duration": 12,
    "start_time": "2024-09-14T18:54:35.363Z"
   },
   {
    "duration": 8,
    "start_time": "2024-09-14T18:54:35.376Z"
   },
   {
    "duration": 34,
    "start_time": "2024-09-14T18:54:35.386Z"
   },
   {
    "duration": 16,
    "start_time": "2024-09-14T18:54:35.421Z"
   },
   {
    "duration": 18,
    "start_time": "2024-09-14T18:54:35.438Z"
   },
   {
    "duration": 23,
    "start_time": "2024-09-14T18:54:35.458Z"
   },
   {
    "duration": 11,
    "start_time": "2024-09-14T18:54:35.482Z"
   },
   {
    "duration": 24,
    "start_time": "2024-09-14T18:54:35.495Z"
   },
   {
    "duration": 33,
    "start_time": "2024-09-14T18:54:35.520Z"
   },
   {
    "duration": 16,
    "start_time": "2024-09-14T18:54:35.555Z"
   },
   {
    "duration": 49,
    "start_time": "2024-09-14T18:54:35.573Z"
   },
   {
    "duration": 99,
    "start_time": "2024-09-14T18:54:35.624Z"
   },
   {
    "duration": 26,
    "start_time": "2024-09-14T18:54:35.725Z"
   },
   {
    "duration": 7,
    "start_time": "2024-09-14T18:54:35.752Z"
   },
   {
    "duration": 54,
    "start_time": "2024-09-14T18:54:35.760Z"
   },
   {
    "duration": 14,
    "start_time": "2024-09-14T18:54:35.816Z"
   },
   {
    "duration": 26,
    "start_time": "2024-09-14T18:54:35.831Z"
   },
   {
    "duration": 102,
    "start_time": "2024-09-14T18:54:35.859Z"
   },
   {
    "duration": 6,
    "start_time": "2024-09-14T18:54:35.963Z"
   },
   {
    "duration": 26,
    "start_time": "2024-09-14T18:54:35.970Z"
   },
   {
    "duration": 17,
    "start_time": "2024-09-14T18:54:35.998Z"
   },
   {
    "duration": 43,
    "start_time": "2024-09-14T18:54:36.016Z"
   },
   {
    "duration": 142,
    "start_time": "2024-09-14T18:54:36.061Z"
   },
   {
    "duration": 164,
    "start_time": "2024-09-14T18:54:36.205Z"
   },
   {
    "duration": 25,
    "start_time": "2024-09-14T18:54:36.370Z"
   },
   {
    "duration": 11,
    "start_time": "2024-09-14T18:54:36.397Z"
   },
   {
    "duration": 16,
    "start_time": "2024-09-14T18:54:36.409Z"
   },
   {
    "duration": 140,
    "start_time": "2024-09-14T18:54:36.426Z"
   },
   {
    "duration": 13,
    "start_time": "2024-09-14T19:21:03.029Z"
   },
   {
    "duration": 12,
    "start_time": "2024-09-14T19:21:11.377Z"
   },
   {
    "duration": 11,
    "start_time": "2024-09-14T19:23:37.385Z"
   },
   {
    "duration": 56,
    "start_time": "2024-09-14T19:32:08.285Z"
   },
   {
    "duration": 66,
    "start_time": "2024-09-14T19:32:45.981Z"
   },
   {
    "duration": 65,
    "start_time": "2024-09-14T19:33:01.065Z"
   },
   {
    "duration": 22,
    "start_time": "2024-09-14T19:34:15.520Z"
   },
   {
    "duration": 23,
    "start_time": "2024-09-14T19:34:20.448Z"
   },
   {
    "duration": 22,
    "start_time": "2024-09-14T19:34:51.955Z"
   },
   {
    "duration": 9,
    "start_time": "2024-09-14T19:38:20.687Z"
   },
   {
    "duration": 15,
    "start_time": "2024-09-14T19:39:24.460Z"
   },
   {
    "duration": 12,
    "start_time": "2024-09-14T19:39:40.168Z"
   },
   {
    "duration": 990,
    "start_time": "2024-09-14T19:39:48.167Z"
   },
   {
    "duration": 92,
    "start_time": "2024-09-14T19:39:49.159Z"
   },
   {
    "duration": 5,
    "start_time": "2024-09-14T19:39:49.252Z"
   },
   {
    "duration": 7,
    "start_time": "2024-09-14T19:39:49.261Z"
   },
   {
    "duration": 5,
    "start_time": "2024-09-14T19:39:49.270Z"
   },
   {
    "duration": 5,
    "start_time": "2024-09-14T19:39:49.276Z"
   },
   {
    "duration": 4,
    "start_time": "2024-09-14T19:39:49.282Z"
   },
   {
    "duration": 13,
    "start_time": "2024-09-14T19:39:49.288Z"
   },
   {
    "duration": 471,
    "start_time": "2024-09-14T19:39:49.304Z"
   },
   {
    "duration": 9,
    "start_time": "2024-09-14T19:39:49.778Z"
   },
   {
    "duration": 81,
    "start_time": "2024-09-14T19:39:49.789Z"
   },
   {
    "duration": 80,
    "start_time": "2024-09-14T19:39:49.873Z"
   },
   {
    "duration": 9,
    "start_time": "2024-09-14T19:39:49.955Z"
   },
   {
    "duration": 7,
    "start_time": "2024-09-14T19:39:49.966Z"
   },
   {
    "duration": 9,
    "start_time": "2024-09-14T19:39:49.975Z"
   },
   {
    "duration": 9,
    "start_time": "2024-09-14T19:39:49.987Z"
   },
   {
    "duration": 64,
    "start_time": "2024-09-14T19:39:49.997Z"
   },
   {
    "duration": 19,
    "start_time": "2024-09-14T19:39:50.063Z"
   },
   {
    "duration": 9,
    "start_time": "2024-09-14T19:39:50.084Z"
   },
   {
    "duration": 11,
    "start_time": "2024-09-14T19:39:50.095Z"
   },
   {
    "duration": 442,
    "start_time": "2024-09-14T19:39:50.108Z"
   },
   {
    "duration": 24,
    "start_time": "2024-09-14T19:39:50.552Z"
   },
   {
    "duration": 83,
    "start_time": "2024-09-14T19:39:50.579Z"
   },
   {
    "duration": 27,
    "start_time": "2024-09-14T19:39:50.665Z"
   },
   {
    "duration": 21,
    "start_time": "2024-09-14T19:39:50.695Z"
   },
   {
    "duration": 36,
    "start_time": "2024-09-14T19:39:50.718Z"
   },
   {
    "duration": 19,
    "start_time": "2024-09-14T19:39:50.756Z"
   },
   {
    "duration": 6,
    "start_time": "2024-09-14T19:39:50.780Z"
   },
   {
    "duration": 4,
    "start_time": "2024-09-14T19:39:50.788Z"
   },
   {
    "duration": 9,
    "start_time": "2024-09-14T19:39:50.793Z"
   },
   {
    "duration": 13,
    "start_time": "2024-09-14T19:39:50.804Z"
   },
   {
    "duration": 68,
    "start_time": "2024-09-14T19:39:50.819Z"
   },
   {
    "duration": 368,
    "start_time": "2024-09-14T19:39:50.889Z"
   },
   {
    "duration": 14,
    "start_time": "2024-09-14T19:39:51.259Z"
   },
   {
    "duration": 5,
    "start_time": "2024-09-14T19:39:51.274Z"
   },
   {
    "duration": 5,
    "start_time": "2024-09-14T19:39:51.280Z"
   },
   {
    "duration": 71,
    "start_time": "2024-09-14T19:39:51.287Z"
   },
   {
    "duration": 9,
    "start_time": "2024-09-14T19:39:51.360Z"
   },
   {
    "duration": 7,
    "start_time": "2024-09-14T19:39:51.371Z"
   },
   {
    "duration": 297,
    "start_time": "2024-09-14T19:39:51.380Z"
   },
   {
    "duration": 0,
    "start_time": "2024-09-14T19:39:51.679Z"
   },
   {
    "duration": 0,
    "start_time": "2024-09-14T19:39:51.681Z"
   },
   {
    "duration": 0,
    "start_time": "2024-09-14T19:39:51.682Z"
   },
   {
    "duration": 0,
    "start_time": "2024-09-14T19:39:51.683Z"
   },
   {
    "duration": 0,
    "start_time": "2024-09-14T19:39:51.684Z"
   },
   {
    "duration": 0,
    "start_time": "2024-09-14T19:39:51.686Z"
   },
   {
    "duration": 0,
    "start_time": "2024-09-14T19:39:51.687Z"
   },
   {
    "duration": 0,
    "start_time": "2024-09-14T19:39:51.688Z"
   },
   {
    "duration": 0,
    "start_time": "2024-09-14T19:39:51.689Z"
   },
   {
    "duration": 0,
    "start_time": "2024-09-14T19:39:51.690Z"
   },
   {
    "duration": 0,
    "start_time": "2024-09-14T19:39:51.692Z"
   },
   {
    "duration": 0,
    "start_time": "2024-09-14T19:39:51.694Z"
   },
   {
    "duration": 0,
    "start_time": "2024-09-14T19:39:51.695Z"
   },
   {
    "duration": 0,
    "start_time": "2024-09-14T19:39:51.752Z"
   },
   {
    "duration": 0,
    "start_time": "2024-09-14T19:39:51.755Z"
   },
   {
    "duration": 0,
    "start_time": "2024-09-14T19:39:51.757Z"
   },
   {
    "duration": 0,
    "start_time": "2024-09-14T19:39:51.758Z"
   },
   {
    "duration": 0,
    "start_time": "2024-09-14T19:39:51.760Z"
   },
   {
    "duration": 0,
    "start_time": "2024-09-14T19:39:51.762Z"
   },
   {
    "duration": 0,
    "start_time": "2024-09-14T19:39:51.763Z"
   },
   {
    "duration": 0,
    "start_time": "2024-09-14T19:39:51.765Z"
   },
   {
    "duration": 0,
    "start_time": "2024-09-14T19:39:51.767Z"
   },
   {
    "duration": 0,
    "start_time": "2024-09-14T19:39:51.768Z"
   },
   {
    "duration": 0,
    "start_time": "2024-09-14T19:39:51.770Z"
   },
   {
    "duration": 0,
    "start_time": "2024-09-14T19:39:51.772Z"
   },
   {
    "duration": 17,
    "start_time": "2024-09-14T19:40:14.435Z"
   },
   {
    "duration": 16,
    "start_time": "2024-09-14T19:47:37.301Z"
   },
   {
    "duration": 11,
    "start_time": "2024-09-14T19:51:57.225Z"
   },
   {
    "duration": 7,
    "start_time": "2024-09-14T19:52:33.244Z"
   },
   {
    "duration": 7,
    "start_time": "2024-09-14T19:53:09.514Z"
   },
   {
    "duration": 10,
    "start_time": "2024-09-14T19:53:41.204Z"
   },
   {
    "duration": 1024,
    "start_time": "2024-09-14T19:53:58.164Z"
   },
   {
    "duration": 93,
    "start_time": "2024-09-14T19:53:59.189Z"
   },
   {
    "duration": 5,
    "start_time": "2024-09-14T19:53:59.284Z"
   },
   {
    "duration": 39,
    "start_time": "2024-09-14T19:53:59.291Z"
   },
   {
    "duration": 8,
    "start_time": "2024-09-14T19:53:59.332Z"
   },
   {
    "duration": 9,
    "start_time": "2024-09-14T19:53:59.342Z"
   },
   {
    "duration": 13,
    "start_time": "2024-09-14T19:53:59.353Z"
   },
   {
    "duration": 9,
    "start_time": "2024-09-14T19:53:59.369Z"
   },
   {
    "duration": 382,
    "start_time": "2024-09-14T19:53:59.380Z"
   },
   {
    "duration": 9,
    "start_time": "2024-09-14T19:53:59.765Z"
   },
   {
    "duration": 77,
    "start_time": "2024-09-14T19:53:59.776Z"
   },
   {
    "duration": 43,
    "start_time": "2024-09-14T19:53:59.855Z"
   },
   {
    "duration": 6,
    "start_time": "2024-09-14T19:53:59.899Z"
   },
   {
    "duration": 6,
    "start_time": "2024-09-14T19:53:59.907Z"
   },
   {
    "duration": 8,
    "start_time": "2024-09-14T19:53:59.952Z"
   },
   {
    "duration": 11,
    "start_time": "2024-09-14T19:53:59.963Z"
   },
   {
    "duration": 10,
    "start_time": "2024-09-14T19:53:59.977Z"
   },
   {
    "duration": 5,
    "start_time": "2024-09-14T19:53:59.989Z"
   },
   {
    "duration": 20,
    "start_time": "2024-09-14T19:53:59.996Z"
   },
   {
    "duration": 39,
    "start_time": "2024-09-14T19:54:00.018Z"
   },
   {
    "duration": 416,
    "start_time": "2024-09-14T19:54:00.059Z"
   },
   {
    "duration": 20,
    "start_time": "2024-09-14T19:54:00.477Z"
   },
   {
    "duration": 10,
    "start_time": "2024-09-14T19:54:00.499Z"
   },
   {
    "duration": 43,
    "start_time": "2024-09-14T19:54:00.511Z"
   },
   {
    "duration": 15,
    "start_time": "2024-09-14T19:54:00.556Z"
   },
   {
    "duration": 7,
    "start_time": "2024-09-14T19:54:00.572Z"
   },
   {
    "duration": 14,
    "start_time": "2024-09-14T19:54:00.581Z"
   },
   {
    "duration": 8,
    "start_time": "2024-09-14T19:54:00.651Z"
   },
   {
    "duration": 12,
    "start_time": "2024-09-14T19:54:00.661Z"
   },
   {
    "duration": 4,
    "start_time": "2024-09-14T19:54:00.676Z"
   },
   {
    "duration": 4,
    "start_time": "2024-09-14T19:54:00.682Z"
   },
   {
    "duration": 65,
    "start_time": "2024-09-14T19:54:00.688Z"
   },
   {
    "duration": 296,
    "start_time": "2024-09-14T19:54:00.756Z"
   },
   {
    "duration": 17,
    "start_time": "2024-09-14T19:54:01.054Z"
   },
   {
    "duration": 7,
    "start_time": "2024-09-14T19:54:01.074Z"
   },
   {
    "duration": 5,
    "start_time": "2024-09-14T19:54:01.082Z"
   },
   {
    "duration": 9,
    "start_time": "2024-09-14T19:54:01.089Z"
   },
   {
    "duration": 12,
    "start_time": "2024-09-14T19:54:01.100Z"
   },
   {
    "duration": 39,
    "start_time": "2024-09-14T19:54:01.113Z"
   },
   {
    "duration": 167,
    "start_time": "2024-09-14T19:54:01.154Z"
   },
   {
    "duration": 0,
    "start_time": "2024-09-14T19:54:01.322Z"
   },
   {
    "duration": 0,
    "start_time": "2024-09-14T19:54:01.323Z"
   },
   {
    "duration": 0,
    "start_time": "2024-09-14T19:54:01.325Z"
   },
   {
    "duration": 0,
    "start_time": "2024-09-14T19:54:01.326Z"
   },
   {
    "duration": 0,
    "start_time": "2024-09-14T19:54:01.327Z"
   },
   {
    "duration": 0,
    "start_time": "2024-09-14T19:54:01.328Z"
   },
   {
    "duration": 0,
    "start_time": "2024-09-14T19:54:01.329Z"
   },
   {
    "duration": 0,
    "start_time": "2024-09-14T19:54:01.330Z"
   },
   {
    "duration": 0,
    "start_time": "2024-09-14T19:54:01.331Z"
   },
   {
    "duration": 0,
    "start_time": "2024-09-14T19:54:01.354Z"
   },
   {
    "duration": 0,
    "start_time": "2024-09-14T19:54:01.358Z"
   },
   {
    "duration": 0,
    "start_time": "2024-09-14T19:54:01.359Z"
   },
   {
    "duration": 0,
    "start_time": "2024-09-14T19:54:01.361Z"
   },
   {
    "duration": 0,
    "start_time": "2024-09-14T19:54:01.363Z"
   },
   {
    "duration": 0,
    "start_time": "2024-09-14T19:54:01.364Z"
   },
   {
    "duration": 0,
    "start_time": "2024-09-14T19:54:01.365Z"
   },
   {
    "duration": 0,
    "start_time": "2024-09-14T19:54:01.366Z"
   },
   {
    "duration": 0,
    "start_time": "2024-09-14T19:54:01.367Z"
   },
   {
    "duration": 0,
    "start_time": "2024-09-14T19:54:01.368Z"
   },
   {
    "duration": 0,
    "start_time": "2024-09-14T19:54:01.369Z"
   },
   {
    "duration": 0,
    "start_time": "2024-09-14T19:54:01.372Z"
   },
   {
    "duration": 0,
    "start_time": "2024-09-14T19:54:01.373Z"
   },
   {
    "duration": 0,
    "start_time": "2024-09-14T19:54:01.374Z"
   },
   {
    "duration": 0,
    "start_time": "2024-09-14T19:54:01.375Z"
   },
   {
    "duration": 0,
    "start_time": "2024-09-14T19:54:01.376Z"
   },
   {
    "duration": 8,
    "start_time": "2024-09-14T19:55:01.058Z"
   },
   {
    "duration": 16,
    "start_time": "2024-09-14T19:55:09.078Z"
   },
   {
    "duration": 16,
    "start_time": "2024-09-14T19:57:23.396Z"
   },
   {
    "duration": 1012,
    "start_time": "2024-09-14T19:57:58.348Z"
   },
   {
    "duration": 92,
    "start_time": "2024-09-14T19:57:59.362Z"
   },
   {
    "duration": 5,
    "start_time": "2024-09-14T19:57:59.455Z"
   },
   {
    "duration": 4,
    "start_time": "2024-09-14T19:57:59.463Z"
   },
   {
    "duration": 3,
    "start_time": "2024-09-14T19:57:59.469Z"
   },
   {
    "duration": 5,
    "start_time": "2024-09-14T19:57:59.473Z"
   },
   {
    "duration": 3,
    "start_time": "2024-09-14T19:57:59.479Z"
   },
   {
    "duration": 7,
    "start_time": "2024-09-14T19:57:59.484Z"
   },
   {
    "duration": 374,
    "start_time": "2024-09-14T19:57:59.492Z"
   },
   {
    "duration": 9,
    "start_time": "2024-09-14T19:57:59.869Z"
   },
   {
    "duration": 79,
    "start_time": "2024-09-14T19:57:59.880Z"
   },
   {
    "duration": 50,
    "start_time": "2024-09-14T19:57:59.960Z"
   },
   {
    "duration": 42,
    "start_time": "2024-09-14T19:58:00.012Z"
   },
   {
    "duration": 36,
    "start_time": "2024-09-14T19:58:00.057Z"
   },
   {
    "duration": 17,
    "start_time": "2024-09-14T19:58:00.096Z"
   },
   {
    "duration": 19,
    "start_time": "2024-09-14T19:58:00.115Z"
   },
   {
    "duration": 15,
    "start_time": "2024-09-14T19:58:00.136Z"
   },
   {
    "duration": 19,
    "start_time": "2024-09-14T19:58:00.153Z"
   },
   {
    "duration": 25,
    "start_time": "2024-09-14T19:58:00.174Z"
   },
   {
    "duration": 32,
    "start_time": "2024-09-14T19:58:00.201Z"
   },
   {
    "duration": 397,
    "start_time": "2024-09-14T19:58:00.235Z"
   },
   {
    "duration": 14,
    "start_time": "2024-09-14T19:58:00.634Z"
   },
   {
    "duration": 42,
    "start_time": "2024-09-14T19:58:00.649Z"
   },
   {
    "duration": 7,
    "start_time": "2024-09-14T19:58:00.693Z"
   },
   {
    "duration": 51,
    "start_time": "2024-09-14T19:58:00.702Z"
   },
   {
    "duration": 8,
    "start_time": "2024-09-14T19:58:00.755Z"
   },
   {
    "duration": 10,
    "start_time": "2024-09-14T19:58:00.765Z"
   },
   {
    "duration": 73,
    "start_time": "2024-09-14T19:58:00.779Z"
   },
   {
    "duration": 3,
    "start_time": "2024-09-14T19:58:00.855Z"
   },
   {
    "duration": 6,
    "start_time": "2024-09-14T19:58:00.860Z"
   },
   {
    "duration": 15,
    "start_time": "2024-09-14T19:58:00.868Z"
   },
   {
    "duration": 46,
    "start_time": "2024-09-14T19:58:00.885Z"
   },
   {
    "duration": 374,
    "start_time": "2024-09-14T19:58:00.932Z"
   },
   {
    "duration": 12,
    "start_time": "2024-09-14T19:58:01.307Z"
   },
   {
    "duration": 16,
    "start_time": "2024-09-14T19:58:01.320Z"
   },
   {
    "duration": 10,
    "start_time": "2024-09-14T19:58:01.337Z"
   },
   {
    "duration": 15,
    "start_time": "2024-09-14T19:58:01.348Z"
   },
   {
    "duration": 12,
    "start_time": "2024-09-14T19:58:01.365Z"
   },
   {
    "duration": 12,
    "start_time": "2024-09-14T19:58:01.379Z"
   },
   {
    "duration": 45,
    "start_time": "2024-09-14T19:58:01.394Z"
   },
   {
    "duration": 27,
    "start_time": "2024-09-14T19:58:01.442Z"
   },
   {
    "duration": 8,
    "start_time": "2024-09-14T19:58:01.471Z"
   },
   {
    "duration": 33,
    "start_time": "2024-09-14T19:58:01.481Z"
   },
   {
    "duration": 11,
    "start_time": "2024-09-14T19:58:01.515Z"
   },
   {
    "duration": 34,
    "start_time": "2024-09-14T19:58:01.528Z"
   },
   {
    "duration": 17,
    "start_time": "2024-09-14T19:58:01.564Z"
   },
   {
    "duration": 17,
    "start_time": "2024-09-14T19:58:01.583Z"
   },
   {
    "duration": 25,
    "start_time": "2024-09-14T19:58:01.601Z"
   },
   {
    "duration": 110,
    "start_time": "2024-09-14T19:58:01.627Z"
   },
   {
    "duration": 9,
    "start_time": "2024-09-14T19:58:01.751Z"
   },
   {
    "duration": 33,
    "start_time": "2024-09-14T19:58:01.761Z"
   },
   {
    "duration": 61,
    "start_time": "2024-09-14T19:58:01.796Z"
   },
   {
    "duration": 14,
    "start_time": "2024-09-14T19:58:01.858Z"
   },
   {
    "duration": 5,
    "start_time": "2024-09-14T19:58:01.873Z"
   },
   {
    "duration": 84,
    "start_time": "2024-09-14T19:58:01.879Z"
   },
   {
    "duration": 5,
    "start_time": "2024-09-14T19:58:01.965Z"
   },
   {
    "duration": 36,
    "start_time": "2024-09-14T19:58:01.971Z"
   },
   {
    "duration": 11,
    "start_time": "2024-09-14T19:58:02.008Z"
   },
   {
    "duration": 45,
    "start_time": "2024-09-14T19:58:02.021Z"
   },
   {
    "duration": 128,
    "start_time": "2024-09-14T19:58:02.068Z"
   },
   {
    "duration": 189,
    "start_time": "2024-09-14T19:58:02.198Z"
   },
   {
    "duration": 25,
    "start_time": "2024-09-14T19:58:02.388Z"
   },
   {
    "duration": 10,
    "start_time": "2024-09-14T19:58:02.414Z"
   },
   {
    "duration": 39,
    "start_time": "2024-09-14T19:58:02.426Z"
   },
   {
    "duration": 100,
    "start_time": "2024-09-14T19:58:02.467Z"
   },
   {
    "duration": 16,
    "start_time": "2024-09-14T19:58:35.012Z"
   },
   {
    "duration": 16,
    "start_time": "2024-09-14T19:59:24.424Z"
   },
   {
    "duration": 17,
    "start_time": "2024-09-14T20:00:19.038Z"
   },
   {
    "duration": 18,
    "start_time": "2024-09-14T20:00:57.245Z"
   },
   {
    "duration": 1047,
    "start_time": "2024-09-14T20:02:11.437Z"
   },
   {
    "duration": 92,
    "start_time": "2024-09-14T20:02:12.486Z"
   },
   {
    "duration": 6,
    "start_time": "2024-09-14T20:02:12.579Z"
   },
   {
    "duration": 22,
    "start_time": "2024-09-14T20:02:12.587Z"
   },
   {
    "duration": 36,
    "start_time": "2024-09-14T20:02:12.611Z"
   },
   {
    "duration": 51,
    "start_time": "2024-09-14T20:02:12.649Z"
   },
   {
    "duration": 18,
    "start_time": "2024-09-14T20:02:12.702Z"
   },
   {
    "duration": 15,
    "start_time": "2024-09-14T20:02:12.722Z"
   },
   {
    "duration": 378,
    "start_time": "2024-09-14T20:02:12.738Z"
   },
   {
    "duration": 9,
    "start_time": "2024-09-14T20:02:13.118Z"
   },
   {
    "duration": 80,
    "start_time": "2024-09-14T20:02:13.129Z"
   },
   {
    "duration": 67,
    "start_time": "2024-09-14T20:02:13.211Z"
   },
   {
    "duration": 7,
    "start_time": "2024-09-14T20:02:13.280Z"
   },
   {
    "duration": 60,
    "start_time": "2024-09-14T20:02:13.293Z"
   },
   {
    "duration": 18,
    "start_time": "2024-09-14T20:02:13.354Z"
   },
   {
    "duration": 22,
    "start_time": "2024-09-14T20:02:13.374Z"
   },
   {
    "duration": 20,
    "start_time": "2024-09-14T20:02:13.397Z"
   },
   {
    "duration": 8,
    "start_time": "2024-09-14T20:02:13.419Z"
   },
   {
    "duration": 34,
    "start_time": "2024-09-14T20:02:13.430Z"
   },
   {
    "duration": 14,
    "start_time": "2024-09-14T20:02:13.466Z"
   },
   {
    "duration": 405,
    "start_time": "2024-09-14T20:02:13.482Z"
   },
   {
    "duration": 23,
    "start_time": "2024-09-14T20:02:13.889Z"
   },
   {
    "duration": 38,
    "start_time": "2024-09-14T20:02:13.914Z"
   },
   {
    "duration": 6,
    "start_time": "2024-09-14T20:02:13.954Z"
   },
   {
    "duration": 13,
    "start_time": "2024-09-14T20:02:13.962Z"
   },
   {
    "duration": 15,
    "start_time": "2024-09-14T20:02:13.977Z"
   },
   {
    "duration": 67,
    "start_time": "2024-09-14T20:02:13.994Z"
   },
   {
    "duration": 6,
    "start_time": "2024-09-14T20:02:14.063Z"
   },
   {
    "duration": 8,
    "start_time": "2024-09-14T20:02:14.071Z"
   },
   {
    "duration": 10,
    "start_time": "2024-09-14T20:02:14.081Z"
   },
   {
    "duration": 59,
    "start_time": "2024-09-14T20:02:14.093Z"
   },
   {
    "duration": 21,
    "start_time": "2024-09-14T20:02:14.154Z"
   },
   {
    "duration": 339,
    "start_time": "2024-09-14T20:02:14.176Z"
   },
   {
    "duration": 12,
    "start_time": "2024-09-14T20:02:14.517Z"
   },
   {
    "duration": 25,
    "start_time": "2024-09-14T20:02:14.531Z"
   },
   {
    "duration": 5,
    "start_time": "2024-09-14T20:02:14.558Z"
   },
   {
    "duration": 12,
    "start_time": "2024-09-14T20:02:14.565Z"
   },
   {
    "duration": 10,
    "start_time": "2024-09-14T20:02:14.579Z"
   },
   {
    "duration": 7,
    "start_time": "2024-09-14T20:02:14.591Z"
   },
   {
    "duration": 52,
    "start_time": "2024-09-14T20:02:14.600Z"
   },
   {
    "duration": 44,
    "start_time": "2024-09-14T20:02:14.656Z"
   },
   {
    "duration": 13,
    "start_time": "2024-09-14T20:02:14.701Z"
   },
   {
    "duration": 25,
    "start_time": "2024-09-14T20:02:14.721Z"
   },
   {
    "duration": 12,
    "start_time": "2024-09-14T20:02:14.747Z"
   },
   {
    "duration": 17,
    "start_time": "2024-09-14T20:02:14.760Z"
   },
   {
    "duration": 24,
    "start_time": "2024-09-14T20:02:14.779Z"
   },
   {
    "duration": 16,
    "start_time": "2024-09-14T20:02:14.805Z"
   },
   {
    "duration": 38,
    "start_time": "2024-09-14T20:02:14.823Z"
   },
   {
    "duration": 29,
    "start_time": "2024-09-14T20:02:14.864Z"
   },
   {
    "duration": 25,
    "start_time": "2024-09-14T20:02:14.894Z"
   },
   {
    "duration": 18,
    "start_time": "2024-09-14T20:02:14.921Z"
   },
   {
    "duration": 146,
    "start_time": "2024-09-14T20:02:14.941Z"
   },
   {
    "duration": 17,
    "start_time": "2024-09-14T20:02:15.088Z"
   },
   {
    "duration": 16,
    "start_time": "2024-09-14T20:02:15.107Z"
   },
   {
    "duration": 77,
    "start_time": "2024-09-14T20:02:15.125Z"
   },
   {
    "duration": 5,
    "start_time": "2024-09-14T20:02:15.204Z"
   },
   {
    "duration": 43,
    "start_time": "2024-09-14T20:02:15.210Z"
   },
   {
    "duration": 11,
    "start_time": "2024-09-14T20:02:15.255Z"
   },
   {
    "duration": 32,
    "start_time": "2024-09-14T20:02:15.268Z"
   },
   {
    "duration": 192,
    "start_time": "2024-09-14T20:02:15.302Z"
   },
   {
    "duration": 172,
    "start_time": "2024-09-14T20:02:15.496Z"
   },
   {
    "duration": 29,
    "start_time": "2024-09-14T20:02:15.669Z"
   },
   {
    "duration": 17,
    "start_time": "2024-09-14T20:02:15.699Z"
   },
   {
    "duration": 39,
    "start_time": "2024-09-14T20:02:15.717Z"
   },
   {
    "duration": 120,
    "start_time": "2024-09-14T20:02:15.758Z"
   }
  ],
  "kernelspec": {
   "display_name": "Python 3 (ipykernel)",
   "language": "python",
   "name": "python3"
  },
  "language_info": {
   "codemirror_mode": {
    "name": "ipython",
    "version": 3
   },
   "file_extension": ".py",
   "mimetype": "text/x-python",
   "name": "python",
   "nbconvert_exporter": "python",
   "pygments_lexer": "ipython3",
   "version": "3.9.22"
  },
  "toc": {
   "base_numbering": 1,
   "nav_menu": {},
   "number_sections": true,
   "sideBar": true,
   "skip_h1_title": true,
   "title_cell": "Table of Contents",
   "title_sidebar": "Contents",
   "toc_cell": false,
   "toc_position": {
    "height": "calc(100% - 180px)",
    "left": "10px",
    "top": "150px",
    "width": "341.333px"
   },
   "toc_section_display": true,
   "toc_window_display": true
  }
 },
 "nbformat": 4,
 "nbformat_minor": 4
}
